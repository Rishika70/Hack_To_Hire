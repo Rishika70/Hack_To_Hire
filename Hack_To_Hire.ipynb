{
  "nbformat": 4,
  "nbformat_minor": 0,
  "metadata": {
    "colab": {
      "provenance": [],
      "gpuType": "T4",
      "authorship_tag": "ABX9TyOgXjbsBQRHMyjIxOm75MjX",
      "include_colab_link": true
    },
    "kernelspec": {
      "name": "python3",
      "display_name": "Python 3"
    },
    "language_info": {
      "name": "python"
    },
    "accelerator": "GPU",
    "widgets": {
      "application/vnd.jupyter.widget-state+json": {
        "7a54a81ebf624ff79335ccbee51fb5fb": {
          "model_module": "@jupyter-widgets/controls",
          "model_name": "HBoxModel",
          "model_module_version": "1.5.0",
          "state": {
            "_dom_classes": [],
            "_model_module": "@jupyter-widgets/controls",
            "_model_module_version": "1.5.0",
            "_model_name": "HBoxModel",
            "_view_count": null,
            "_view_module": "@jupyter-widgets/controls",
            "_view_module_version": "1.5.0",
            "_view_name": "HBoxView",
            "box_style": "",
            "children": [
              "IPY_MODEL_b9b4f316ddc441c1949816c787804d18",
              "IPY_MODEL_16b0f3937f784784845b11af73643653",
              "IPY_MODEL_1cc259cd1f9b4fbab50280ed36812b00"
            ],
            "layout": "IPY_MODEL_d2d9ca25c5c04e248d381462a66f7e7d"
          }
        },
        "b9b4f316ddc441c1949816c787804d18": {
          "model_module": "@jupyter-widgets/controls",
          "model_name": "HTMLModel",
          "model_module_version": "1.5.0",
          "state": {
            "_dom_classes": [],
            "_model_module": "@jupyter-widgets/controls",
            "_model_module_version": "1.5.0",
            "_model_name": "HTMLModel",
            "_view_count": null,
            "_view_module": "@jupyter-widgets/controls",
            "_view_module_version": "1.5.0",
            "_view_name": "HTMLView",
            "description": "",
            "description_tooltip": null,
            "layout": "IPY_MODEL_db0d8cecc5c94ac7ad8ad68d6d0ac1e8",
            "placeholder": "​",
            "style": "IPY_MODEL_704449b4363e456da2c70c1474135872",
            "value": "Downloading readme: 100%"
          }
        },
        "16b0f3937f784784845b11af73643653": {
          "model_module": "@jupyter-widgets/controls",
          "model_name": "FloatProgressModel",
          "model_module_version": "1.5.0",
          "state": {
            "_dom_classes": [],
            "_model_module": "@jupyter-widgets/controls",
            "_model_module_version": "1.5.0",
            "_model_name": "FloatProgressModel",
            "_view_count": null,
            "_view_module": "@jupyter-widgets/controls",
            "_view_module_version": "1.5.0",
            "_view_name": "ProgressView",
            "bar_style": "success",
            "description": "",
            "description_tooltip": null,
            "layout": "IPY_MODEL_a75ff049c2604131bac5a13ec4125b2c",
            "max": 485,
            "min": 0,
            "orientation": "horizontal",
            "style": "IPY_MODEL_8743fa76efe64d35aa05ea80ea2f30a1",
            "value": 485
          }
        },
        "1cc259cd1f9b4fbab50280ed36812b00": {
          "model_module": "@jupyter-widgets/controls",
          "model_name": "HTMLModel",
          "model_module_version": "1.5.0",
          "state": {
            "_dom_classes": [],
            "_model_module": "@jupyter-widgets/controls",
            "_model_module_version": "1.5.0",
            "_model_name": "HTMLModel",
            "_view_count": null,
            "_view_module": "@jupyter-widgets/controls",
            "_view_module_version": "1.5.0",
            "_view_name": "HTMLView",
            "description": "",
            "description_tooltip": null,
            "layout": "IPY_MODEL_79d1b313530f4c158f3cb9f32be19aef",
            "placeholder": "​",
            "style": "IPY_MODEL_d7abb7ff2053461fab4ad758b61a7d11",
            "value": " 485/485 [00:00&lt;00:00, 32.5kB/s]"
          }
        },
        "d2d9ca25c5c04e248d381462a66f7e7d": {
          "model_module": "@jupyter-widgets/base",
          "model_name": "LayoutModel",
          "model_module_version": "1.2.0",
          "state": {
            "_model_module": "@jupyter-widgets/base",
            "_model_module_version": "1.2.0",
            "_model_name": "LayoutModel",
            "_view_count": null,
            "_view_module": "@jupyter-widgets/base",
            "_view_module_version": "1.2.0",
            "_view_name": "LayoutView",
            "align_content": null,
            "align_items": null,
            "align_self": null,
            "border": null,
            "bottom": null,
            "display": null,
            "flex": null,
            "flex_flow": null,
            "grid_area": null,
            "grid_auto_columns": null,
            "grid_auto_flow": null,
            "grid_auto_rows": null,
            "grid_column": null,
            "grid_gap": null,
            "grid_row": null,
            "grid_template_areas": null,
            "grid_template_columns": null,
            "grid_template_rows": null,
            "height": null,
            "justify_content": null,
            "justify_items": null,
            "left": null,
            "margin": null,
            "max_height": null,
            "max_width": null,
            "min_height": null,
            "min_width": null,
            "object_fit": null,
            "object_position": null,
            "order": null,
            "overflow": null,
            "overflow_x": null,
            "overflow_y": null,
            "padding": null,
            "right": null,
            "top": null,
            "visibility": null,
            "width": null
          }
        },
        "db0d8cecc5c94ac7ad8ad68d6d0ac1e8": {
          "model_module": "@jupyter-widgets/base",
          "model_name": "LayoutModel",
          "model_module_version": "1.2.0",
          "state": {
            "_model_module": "@jupyter-widgets/base",
            "_model_module_version": "1.2.0",
            "_model_name": "LayoutModel",
            "_view_count": null,
            "_view_module": "@jupyter-widgets/base",
            "_view_module_version": "1.2.0",
            "_view_name": "LayoutView",
            "align_content": null,
            "align_items": null,
            "align_self": null,
            "border": null,
            "bottom": null,
            "display": null,
            "flex": null,
            "flex_flow": null,
            "grid_area": null,
            "grid_auto_columns": null,
            "grid_auto_flow": null,
            "grid_auto_rows": null,
            "grid_column": null,
            "grid_gap": null,
            "grid_row": null,
            "grid_template_areas": null,
            "grid_template_columns": null,
            "grid_template_rows": null,
            "height": null,
            "justify_content": null,
            "justify_items": null,
            "left": null,
            "margin": null,
            "max_height": null,
            "max_width": null,
            "min_height": null,
            "min_width": null,
            "object_fit": null,
            "object_position": null,
            "order": null,
            "overflow": null,
            "overflow_x": null,
            "overflow_y": null,
            "padding": null,
            "right": null,
            "top": null,
            "visibility": null,
            "width": null
          }
        },
        "704449b4363e456da2c70c1474135872": {
          "model_module": "@jupyter-widgets/controls",
          "model_name": "DescriptionStyleModel",
          "model_module_version": "1.5.0",
          "state": {
            "_model_module": "@jupyter-widgets/controls",
            "_model_module_version": "1.5.0",
            "_model_name": "DescriptionStyleModel",
            "_view_count": null,
            "_view_module": "@jupyter-widgets/base",
            "_view_module_version": "1.2.0",
            "_view_name": "StyleView",
            "description_width": ""
          }
        },
        "a75ff049c2604131bac5a13ec4125b2c": {
          "model_module": "@jupyter-widgets/base",
          "model_name": "LayoutModel",
          "model_module_version": "1.2.0",
          "state": {
            "_model_module": "@jupyter-widgets/base",
            "_model_module_version": "1.2.0",
            "_model_name": "LayoutModel",
            "_view_count": null,
            "_view_module": "@jupyter-widgets/base",
            "_view_module_version": "1.2.0",
            "_view_name": "LayoutView",
            "align_content": null,
            "align_items": null,
            "align_self": null,
            "border": null,
            "bottom": null,
            "display": null,
            "flex": null,
            "flex_flow": null,
            "grid_area": null,
            "grid_auto_columns": null,
            "grid_auto_flow": null,
            "grid_auto_rows": null,
            "grid_column": null,
            "grid_gap": null,
            "grid_row": null,
            "grid_template_areas": null,
            "grid_template_columns": null,
            "grid_template_rows": null,
            "height": null,
            "justify_content": null,
            "justify_items": null,
            "left": null,
            "margin": null,
            "max_height": null,
            "max_width": null,
            "min_height": null,
            "min_width": null,
            "object_fit": null,
            "object_position": null,
            "order": null,
            "overflow": null,
            "overflow_x": null,
            "overflow_y": null,
            "padding": null,
            "right": null,
            "top": null,
            "visibility": null,
            "width": null
          }
        },
        "8743fa76efe64d35aa05ea80ea2f30a1": {
          "model_module": "@jupyter-widgets/controls",
          "model_name": "ProgressStyleModel",
          "model_module_version": "1.5.0",
          "state": {
            "_model_module": "@jupyter-widgets/controls",
            "_model_module_version": "1.5.0",
            "_model_name": "ProgressStyleModel",
            "_view_count": null,
            "_view_module": "@jupyter-widgets/base",
            "_view_module_version": "1.2.0",
            "_view_name": "StyleView",
            "bar_color": null,
            "description_width": ""
          }
        },
        "79d1b313530f4c158f3cb9f32be19aef": {
          "model_module": "@jupyter-widgets/base",
          "model_name": "LayoutModel",
          "model_module_version": "1.2.0",
          "state": {
            "_model_module": "@jupyter-widgets/base",
            "_model_module_version": "1.2.0",
            "_model_name": "LayoutModel",
            "_view_count": null,
            "_view_module": "@jupyter-widgets/base",
            "_view_module_version": "1.2.0",
            "_view_name": "LayoutView",
            "align_content": null,
            "align_items": null,
            "align_self": null,
            "border": null,
            "bottom": null,
            "display": null,
            "flex": null,
            "flex_flow": null,
            "grid_area": null,
            "grid_auto_columns": null,
            "grid_auto_flow": null,
            "grid_auto_rows": null,
            "grid_column": null,
            "grid_gap": null,
            "grid_row": null,
            "grid_template_areas": null,
            "grid_template_columns": null,
            "grid_template_rows": null,
            "height": null,
            "justify_content": null,
            "justify_items": null,
            "left": null,
            "margin": null,
            "max_height": null,
            "max_width": null,
            "min_height": null,
            "min_width": null,
            "object_fit": null,
            "object_position": null,
            "order": null,
            "overflow": null,
            "overflow_x": null,
            "overflow_y": null,
            "padding": null,
            "right": null,
            "top": null,
            "visibility": null,
            "width": null
          }
        },
        "d7abb7ff2053461fab4ad758b61a7d11": {
          "model_module": "@jupyter-widgets/controls",
          "model_name": "DescriptionStyleModel",
          "model_module_version": "1.5.0",
          "state": {
            "_model_module": "@jupyter-widgets/controls",
            "_model_module_version": "1.5.0",
            "_model_name": "DescriptionStyleModel",
            "_view_count": null,
            "_view_module": "@jupyter-widgets/base",
            "_view_module_version": "1.2.0",
            "_view_name": "StyleView",
            "description_width": ""
          }
        },
        "ce62b3a25d664e40b5821dd7bea7cdd7": {
          "model_module": "@jupyter-widgets/controls",
          "model_name": "HBoxModel",
          "model_module_version": "1.5.0",
          "state": {
            "_dom_classes": [],
            "_model_module": "@jupyter-widgets/controls",
            "_model_module_version": "1.5.0",
            "_model_name": "HBoxModel",
            "_view_count": null,
            "_view_module": "@jupyter-widgets/controls",
            "_view_module_version": "1.5.0",
            "_view_name": "HBoxView",
            "box_style": "",
            "children": [
              "IPY_MODEL_08c588ca405c4e428725b868630a446d",
              "IPY_MODEL_50d36bdc391f41d58ec321b49782a8c2",
              "IPY_MODEL_e916b5951f034be7acd0b32a19798622"
            ],
            "layout": "IPY_MODEL_6f422302918f45bfb0727a1be22fce89"
          }
        },
        "08c588ca405c4e428725b868630a446d": {
          "model_module": "@jupyter-widgets/controls",
          "model_name": "HTMLModel",
          "model_module_version": "1.5.0",
          "state": {
            "_dom_classes": [],
            "_model_module": "@jupyter-widgets/controls",
            "_model_module_version": "1.5.0",
            "_model_name": "HTMLModel",
            "_view_count": null,
            "_view_module": "@jupyter-widgets/controls",
            "_view_module_version": "1.5.0",
            "_view_name": "HTMLView",
            "description": "",
            "description_tooltip": null,
            "layout": "IPY_MODEL_cb4bf74a02a647c9b03bc14b77e65fa7",
            "placeholder": "​",
            "style": "IPY_MODEL_c635e1e1f7be415fbb2e6af5d2a5c11c",
            "value": "Downloading data: 100%"
          }
        },
        "50d36bdc391f41d58ec321b49782a8c2": {
          "model_module": "@jupyter-widgets/controls",
          "model_name": "FloatProgressModel",
          "model_module_version": "1.5.0",
          "state": {
            "_dom_classes": [],
            "_model_module": "@jupyter-widgets/controls",
            "_model_module_version": "1.5.0",
            "_model_name": "FloatProgressModel",
            "_view_count": null,
            "_view_module": "@jupyter-widgets/controls",
            "_view_module_version": "1.5.0",
            "_view_name": "ProgressView",
            "bar_style": "success",
            "description": "",
            "description_tooltip": null,
            "layout": "IPY_MODEL_cca818d8a7af4b2ca3fe2a04278f2392",
            "max": 60943629,
            "min": 0,
            "orientation": "horizontal",
            "style": "IPY_MODEL_407dd5866e794453b0e435c3325b0368",
            "value": 60943629
          }
        },
        "e916b5951f034be7acd0b32a19798622": {
          "model_module": "@jupyter-widgets/controls",
          "model_name": "HTMLModel",
          "model_module_version": "1.5.0",
          "state": {
            "_dom_classes": [],
            "_model_module": "@jupyter-widgets/controls",
            "_model_module_version": "1.5.0",
            "_model_name": "HTMLModel",
            "_view_count": null,
            "_view_module": "@jupyter-widgets/controls",
            "_view_module_version": "1.5.0",
            "_view_name": "HTMLView",
            "description": "",
            "description_tooltip": null,
            "layout": "IPY_MODEL_46379c249ab242f8b36d9f5aa36a4e5f",
            "placeholder": "​",
            "style": "IPY_MODEL_ba3a9a0291d548d68bad3737cb96d284",
            "value": " 60.9M/60.9M [00:00&lt;00:00, 126MB/s]"
          }
        },
        "6f422302918f45bfb0727a1be22fce89": {
          "model_module": "@jupyter-widgets/base",
          "model_name": "LayoutModel",
          "model_module_version": "1.2.0",
          "state": {
            "_model_module": "@jupyter-widgets/base",
            "_model_module_version": "1.2.0",
            "_model_name": "LayoutModel",
            "_view_count": null,
            "_view_module": "@jupyter-widgets/base",
            "_view_module_version": "1.2.0",
            "_view_name": "LayoutView",
            "align_content": null,
            "align_items": null,
            "align_self": null,
            "border": null,
            "bottom": null,
            "display": null,
            "flex": null,
            "flex_flow": null,
            "grid_area": null,
            "grid_auto_columns": null,
            "grid_auto_flow": null,
            "grid_auto_rows": null,
            "grid_column": null,
            "grid_gap": null,
            "grid_row": null,
            "grid_template_areas": null,
            "grid_template_columns": null,
            "grid_template_rows": null,
            "height": null,
            "justify_content": null,
            "justify_items": null,
            "left": null,
            "margin": null,
            "max_height": null,
            "max_width": null,
            "min_height": null,
            "min_width": null,
            "object_fit": null,
            "object_position": null,
            "order": null,
            "overflow": null,
            "overflow_x": null,
            "overflow_y": null,
            "padding": null,
            "right": null,
            "top": null,
            "visibility": null,
            "width": null
          }
        },
        "cb4bf74a02a647c9b03bc14b77e65fa7": {
          "model_module": "@jupyter-widgets/base",
          "model_name": "LayoutModel",
          "model_module_version": "1.2.0",
          "state": {
            "_model_module": "@jupyter-widgets/base",
            "_model_module_version": "1.2.0",
            "_model_name": "LayoutModel",
            "_view_count": null,
            "_view_module": "@jupyter-widgets/base",
            "_view_module_version": "1.2.0",
            "_view_name": "LayoutView",
            "align_content": null,
            "align_items": null,
            "align_self": null,
            "border": null,
            "bottom": null,
            "display": null,
            "flex": null,
            "flex_flow": null,
            "grid_area": null,
            "grid_auto_columns": null,
            "grid_auto_flow": null,
            "grid_auto_rows": null,
            "grid_column": null,
            "grid_gap": null,
            "grid_row": null,
            "grid_template_areas": null,
            "grid_template_columns": null,
            "grid_template_rows": null,
            "height": null,
            "justify_content": null,
            "justify_items": null,
            "left": null,
            "margin": null,
            "max_height": null,
            "max_width": null,
            "min_height": null,
            "min_width": null,
            "object_fit": null,
            "object_position": null,
            "order": null,
            "overflow": null,
            "overflow_x": null,
            "overflow_y": null,
            "padding": null,
            "right": null,
            "top": null,
            "visibility": null,
            "width": null
          }
        },
        "c635e1e1f7be415fbb2e6af5d2a5c11c": {
          "model_module": "@jupyter-widgets/controls",
          "model_name": "DescriptionStyleModel",
          "model_module_version": "1.5.0",
          "state": {
            "_model_module": "@jupyter-widgets/controls",
            "_model_module_version": "1.5.0",
            "_model_name": "DescriptionStyleModel",
            "_view_count": null,
            "_view_module": "@jupyter-widgets/base",
            "_view_module_version": "1.2.0",
            "_view_name": "StyleView",
            "description_width": ""
          }
        },
        "cca818d8a7af4b2ca3fe2a04278f2392": {
          "model_module": "@jupyter-widgets/base",
          "model_name": "LayoutModel",
          "model_module_version": "1.2.0",
          "state": {
            "_model_module": "@jupyter-widgets/base",
            "_model_module_version": "1.2.0",
            "_model_name": "LayoutModel",
            "_view_count": null,
            "_view_module": "@jupyter-widgets/base",
            "_view_module_version": "1.2.0",
            "_view_name": "LayoutView",
            "align_content": null,
            "align_items": null,
            "align_self": null,
            "border": null,
            "bottom": null,
            "display": null,
            "flex": null,
            "flex_flow": null,
            "grid_area": null,
            "grid_auto_columns": null,
            "grid_auto_flow": null,
            "grid_auto_rows": null,
            "grid_column": null,
            "grid_gap": null,
            "grid_row": null,
            "grid_template_areas": null,
            "grid_template_columns": null,
            "grid_template_rows": null,
            "height": null,
            "justify_content": null,
            "justify_items": null,
            "left": null,
            "margin": null,
            "max_height": null,
            "max_width": null,
            "min_height": null,
            "min_width": null,
            "object_fit": null,
            "object_position": null,
            "order": null,
            "overflow": null,
            "overflow_x": null,
            "overflow_y": null,
            "padding": null,
            "right": null,
            "top": null,
            "visibility": null,
            "width": null
          }
        },
        "407dd5866e794453b0e435c3325b0368": {
          "model_module": "@jupyter-widgets/controls",
          "model_name": "ProgressStyleModel",
          "model_module_version": "1.5.0",
          "state": {
            "_model_module": "@jupyter-widgets/controls",
            "_model_module_version": "1.5.0",
            "_model_name": "ProgressStyleModel",
            "_view_count": null,
            "_view_module": "@jupyter-widgets/base",
            "_view_module_version": "1.2.0",
            "_view_name": "StyleView",
            "bar_color": null,
            "description_width": ""
          }
        },
        "46379c249ab242f8b36d9f5aa36a4e5f": {
          "model_module": "@jupyter-widgets/base",
          "model_name": "LayoutModel",
          "model_module_version": "1.2.0",
          "state": {
            "_model_module": "@jupyter-widgets/base",
            "_model_module_version": "1.2.0",
            "_model_name": "LayoutModel",
            "_view_count": null,
            "_view_module": "@jupyter-widgets/base",
            "_view_module_version": "1.2.0",
            "_view_name": "LayoutView",
            "align_content": null,
            "align_items": null,
            "align_self": null,
            "border": null,
            "bottom": null,
            "display": null,
            "flex": null,
            "flex_flow": null,
            "grid_area": null,
            "grid_auto_columns": null,
            "grid_auto_flow": null,
            "grid_auto_rows": null,
            "grid_column": null,
            "grid_gap": null,
            "grid_row": null,
            "grid_template_areas": null,
            "grid_template_columns": null,
            "grid_template_rows": null,
            "height": null,
            "justify_content": null,
            "justify_items": null,
            "left": null,
            "margin": null,
            "max_height": null,
            "max_width": null,
            "min_height": null,
            "min_width": null,
            "object_fit": null,
            "object_position": null,
            "order": null,
            "overflow": null,
            "overflow_x": null,
            "overflow_y": null,
            "padding": null,
            "right": null,
            "top": null,
            "visibility": null,
            "width": null
          }
        },
        "ba3a9a0291d548d68bad3737cb96d284": {
          "model_module": "@jupyter-widgets/controls",
          "model_name": "DescriptionStyleModel",
          "model_module_version": "1.5.0",
          "state": {
            "_model_module": "@jupyter-widgets/controls",
            "_model_module_version": "1.5.0",
            "_model_name": "DescriptionStyleModel",
            "_view_count": null,
            "_view_module": "@jupyter-widgets/base",
            "_view_module_version": "1.2.0",
            "_view_name": "StyleView",
            "description_width": ""
          }
        },
        "ddce3780c451446fb059bd0e3080a40f": {
          "model_module": "@jupyter-widgets/controls",
          "model_name": "HBoxModel",
          "model_module_version": "1.5.0",
          "state": {
            "_dom_classes": [],
            "_model_module": "@jupyter-widgets/controls",
            "_model_module_version": "1.5.0",
            "_model_name": "HBoxModel",
            "_view_count": null,
            "_view_module": "@jupyter-widgets/controls",
            "_view_module_version": "1.5.0",
            "_view_name": "HBoxView",
            "box_style": "",
            "children": [
              "IPY_MODEL_a672d516f36a486f94b25aab7a19449c",
              "IPY_MODEL_5f223cca72f2473c8a9dcf0fb2bb2c04",
              "IPY_MODEL_11660fd2743f46da887f14c4649ecd0c"
            ],
            "layout": "IPY_MODEL_10591c9a7e4148898670ea8bcb664649"
          }
        },
        "a672d516f36a486f94b25aab7a19449c": {
          "model_module": "@jupyter-widgets/controls",
          "model_name": "HTMLModel",
          "model_module_version": "1.5.0",
          "state": {
            "_dom_classes": [],
            "_model_module": "@jupyter-widgets/controls",
            "_model_module_version": "1.5.0",
            "_model_name": "HTMLModel",
            "_view_count": null,
            "_view_module": "@jupyter-widgets/controls",
            "_view_module_version": "1.5.0",
            "_view_name": "HTMLView",
            "description": "",
            "description_tooltip": null,
            "layout": "IPY_MODEL_98219983e83a4dc5bcb609d47a924d37",
            "placeholder": "​",
            "style": "IPY_MODEL_398a2a5c7a2c440eaf174e002f6d49af",
            "value": "Generating train split: 100%"
          }
        },
        "5f223cca72f2473c8a9dcf0fb2bb2c04": {
          "model_module": "@jupyter-widgets/controls",
          "model_name": "FloatProgressModel",
          "model_module_version": "1.5.0",
          "state": {
            "_dom_classes": [],
            "_model_module": "@jupyter-widgets/controls",
            "_model_module_version": "1.5.0",
            "_model_name": "FloatProgressModel",
            "_view_count": null,
            "_view_module": "@jupyter-widgets/controls",
            "_view_module_version": "1.5.0",
            "_view_name": "ProgressView",
            "bar_style": "success",
            "description": "",
            "description_tooltip": null,
            "layout": "IPY_MODEL_b9105160e0624d8b802e19bae907a8b5",
            "max": 56402,
            "min": 0,
            "orientation": "horizontal",
            "style": "IPY_MODEL_bdb115e86bbf434493839cc7672cbf75",
            "value": 56402
          }
        },
        "11660fd2743f46da887f14c4649ecd0c": {
          "model_module": "@jupyter-widgets/controls",
          "model_name": "HTMLModel",
          "model_module_version": "1.5.0",
          "state": {
            "_dom_classes": [],
            "_model_module": "@jupyter-widgets/controls",
            "_model_module_version": "1.5.0",
            "_model_name": "HTMLModel",
            "_view_count": null,
            "_view_module": "@jupyter-widgets/controls",
            "_view_module_version": "1.5.0",
            "_view_name": "HTMLView",
            "description": "",
            "description_tooltip": null,
            "layout": "IPY_MODEL_b5be54a29ecd451e9a825f6bfa512a63",
            "placeholder": "​",
            "style": "IPY_MODEL_2a3c27aa3a12434d81a00ad665c8af04",
            "value": " 56402/56402 [00:00&lt;00:00, 118168.07 examples/s]"
          }
        },
        "10591c9a7e4148898670ea8bcb664649": {
          "model_module": "@jupyter-widgets/base",
          "model_name": "LayoutModel",
          "model_module_version": "1.2.0",
          "state": {
            "_model_module": "@jupyter-widgets/base",
            "_model_module_version": "1.2.0",
            "_model_name": "LayoutModel",
            "_view_count": null,
            "_view_module": "@jupyter-widgets/base",
            "_view_module_version": "1.2.0",
            "_view_name": "LayoutView",
            "align_content": null,
            "align_items": null,
            "align_self": null,
            "border": null,
            "bottom": null,
            "display": null,
            "flex": null,
            "flex_flow": null,
            "grid_area": null,
            "grid_auto_columns": null,
            "grid_auto_flow": null,
            "grid_auto_rows": null,
            "grid_column": null,
            "grid_gap": null,
            "grid_row": null,
            "grid_template_areas": null,
            "grid_template_columns": null,
            "grid_template_rows": null,
            "height": null,
            "justify_content": null,
            "justify_items": null,
            "left": null,
            "margin": null,
            "max_height": null,
            "max_width": null,
            "min_height": null,
            "min_width": null,
            "object_fit": null,
            "object_position": null,
            "order": null,
            "overflow": null,
            "overflow_x": null,
            "overflow_y": null,
            "padding": null,
            "right": null,
            "top": null,
            "visibility": null,
            "width": null
          }
        },
        "98219983e83a4dc5bcb609d47a924d37": {
          "model_module": "@jupyter-widgets/base",
          "model_name": "LayoutModel",
          "model_module_version": "1.2.0",
          "state": {
            "_model_module": "@jupyter-widgets/base",
            "_model_module_version": "1.2.0",
            "_model_name": "LayoutModel",
            "_view_count": null,
            "_view_module": "@jupyter-widgets/base",
            "_view_module_version": "1.2.0",
            "_view_name": "LayoutView",
            "align_content": null,
            "align_items": null,
            "align_self": null,
            "border": null,
            "bottom": null,
            "display": null,
            "flex": null,
            "flex_flow": null,
            "grid_area": null,
            "grid_auto_columns": null,
            "grid_auto_flow": null,
            "grid_auto_rows": null,
            "grid_column": null,
            "grid_gap": null,
            "grid_row": null,
            "grid_template_areas": null,
            "grid_template_columns": null,
            "grid_template_rows": null,
            "height": null,
            "justify_content": null,
            "justify_items": null,
            "left": null,
            "margin": null,
            "max_height": null,
            "max_width": null,
            "min_height": null,
            "min_width": null,
            "object_fit": null,
            "object_position": null,
            "order": null,
            "overflow": null,
            "overflow_x": null,
            "overflow_y": null,
            "padding": null,
            "right": null,
            "top": null,
            "visibility": null,
            "width": null
          }
        },
        "398a2a5c7a2c440eaf174e002f6d49af": {
          "model_module": "@jupyter-widgets/controls",
          "model_name": "DescriptionStyleModel",
          "model_module_version": "1.5.0",
          "state": {
            "_model_module": "@jupyter-widgets/controls",
            "_model_module_version": "1.5.0",
            "_model_name": "DescriptionStyleModel",
            "_view_count": null,
            "_view_module": "@jupyter-widgets/base",
            "_view_module_version": "1.2.0",
            "_view_name": "StyleView",
            "description_width": ""
          }
        },
        "b9105160e0624d8b802e19bae907a8b5": {
          "model_module": "@jupyter-widgets/base",
          "model_name": "LayoutModel",
          "model_module_version": "1.2.0",
          "state": {
            "_model_module": "@jupyter-widgets/base",
            "_model_module_version": "1.2.0",
            "_model_name": "LayoutModel",
            "_view_count": null,
            "_view_module": "@jupyter-widgets/base",
            "_view_module_version": "1.2.0",
            "_view_name": "LayoutView",
            "align_content": null,
            "align_items": null,
            "align_self": null,
            "border": null,
            "bottom": null,
            "display": null,
            "flex": null,
            "flex_flow": null,
            "grid_area": null,
            "grid_auto_columns": null,
            "grid_auto_flow": null,
            "grid_auto_rows": null,
            "grid_column": null,
            "grid_gap": null,
            "grid_row": null,
            "grid_template_areas": null,
            "grid_template_columns": null,
            "grid_template_rows": null,
            "height": null,
            "justify_content": null,
            "justify_items": null,
            "left": null,
            "margin": null,
            "max_height": null,
            "max_width": null,
            "min_height": null,
            "min_width": null,
            "object_fit": null,
            "object_position": null,
            "order": null,
            "overflow": null,
            "overflow_x": null,
            "overflow_y": null,
            "padding": null,
            "right": null,
            "top": null,
            "visibility": null,
            "width": null
          }
        },
        "bdb115e86bbf434493839cc7672cbf75": {
          "model_module": "@jupyter-widgets/controls",
          "model_name": "ProgressStyleModel",
          "model_module_version": "1.5.0",
          "state": {
            "_model_module": "@jupyter-widgets/controls",
            "_model_module_version": "1.5.0",
            "_model_name": "ProgressStyleModel",
            "_view_count": null,
            "_view_module": "@jupyter-widgets/base",
            "_view_module_version": "1.2.0",
            "_view_name": "StyleView",
            "bar_color": null,
            "description_width": ""
          }
        },
        "b5be54a29ecd451e9a825f6bfa512a63": {
          "model_module": "@jupyter-widgets/base",
          "model_name": "LayoutModel",
          "model_module_version": "1.2.0",
          "state": {
            "_model_module": "@jupyter-widgets/base",
            "_model_module_version": "1.2.0",
            "_model_name": "LayoutModel",
            "_view_count": null,
            "_view_module": "@jupyter-widgets/base",
            "_view_module_version": "1.2.0",
            "_view_name": "LayoutView",
            "align_content": null,
            "align_items": null,
            "align_self": null,
            "border": null,
            "bottom": null,
            "display": null,
            "flex": null,
            "flex_flow": null,
            "grid_area": null,
            "grid_auto_columns": null,
            "grid_auto_flow": null,
            "grid_auto_rows": null,
            "grid_column": null,
            "grid_gap": null,
            "grid_row": null,
            "grid_template_areas": null,
            "grid_template_columns": null,
            "grid_template_rows": null,
            "height": null,
            "justify_content": null,
            "justify_items": null,
            "left": null,
            "margin": null,
            "max_height": null,
            "max_width": null,
            "min_height": null,
            "min_width": null,
            "object_fit": null,
            "object_position": null,
            "order": null,
            "overflow": null,
            "overflow_x": null,
            "overflow_y": null,
            "padding": null,
            "right": null,
            "top": null,
            "visibility": null,
            "width": null
          }
        },
        "2a3c27aa3a12434d81a00ad665c8af04": {
          "model_module": "@jupyter-widgets/controls",
          "model_name": "DescriptionStyleModel",
          "model_module_version": "1.5.0",
          "state": {
            "_model_module": "@jupyter-widgets/controls",
            "_model_module_version": "1.5.0",
            "_model_name": "DescriptionStyleModel",
            "_view_count": null,
            "_view_module": "@jupyter-widgets/base",
            "_view_module_version": "1.2.0",
            "_view_name": "StyleView",
            "description_width": ""
          }
        },
        "25f849c596474af48b9ec5c25046e0ca": {
          "model_module": "@jupyter-widgets/controls",
          "model_name": "HBoxModel",
          "model_module_version": "1.5.0",
          "state": {
            "_dom_classes": [],
            "_model_module": "@jupyter-widgets/controls",
            "_model_module_version": "1.5.0",
            "_model_name": "HBoxModel",
            "_view_count": null,
            "_view_module": "@jupyter-widgets/controls",
            "_view_module_version": "1.5.0",
            "_view_name": "HBoxView",
            "box_style": "",
            "children": [
              "IPY_MODEL_dcf582866e7642f4996ef33610e5d7d3",
              "IPY_MODEL_55d2dd14fd864b078a378c200fe75725",
              "IPY_MODEL_5ced9896cb284ffe83dd2e1396a1fc23"
            ],
            "layout": "IPY_MODEL_98942739af64473cb719c113c50dd013"
          }
        },
        "dcf582866e7642f4996ef33610e5d7d3": {
          "model_module": "@jupyter-widgets/controls",
          "model_name": "HTMLModel",
          "model_module_version": "1.5.0",
          "state": {
            "_dom_classes": [],
            "_model_module": "@jupyter-widgets/controls",
            "_model_module_version": "1.5.0",
            "_model_name": "HTMLModel",
            "_view_count": null,
            "_view_module": "@jupyter-widgets/controls",
            "_view_module_version": "1.5.0",
            "_view_name": "HTMLView",
            "description": "",
            "description_tooltip": null,
            "layout": "IPY_MODEL_bedf5d93676f459aa9937753cb87a8c4",
            "placeholder": "​",
            "style": "IPY_MODEL_9d495b8632b5482399c169d9f7b614e0",
            "value": "Map: 100%"
          }
        },
        "55d2dd14fd864b078a378c200fe75725": {
          "model_module": "@jupyter-widgets/controls",
          "model_name": "FloatProgressModel",
          "model_module_version": "1.5.0",
          "state": {
            "_dom_classes": [],
            "_model_module": "@jupyter-widgets/controls",
            "_model_module_version": "1.5.0",
            "_model_name": "FloatProgressModel",
            "_view_count": null,
            "_view_module": "@jupyter-widgets/controls",
            "_view_module_version": "1.5.0",
            "_view_name": "ProgressView",
            "bar_style": "success",
            "description": "",
            "description_tooltip": null,
            "layout": "IPY_MODEL_c41a41a355b04dd48f264a2c4835c58f",
            "max": 45121,
            "min": 0,
            "orientation": "horizontal",
            "style": "IPY_MODEL_730a5a956bdb45e7aa288cd6b029c33f",
            "value": 45121
          }
        },
        "5ced9896cb284ffe83dd2e1396a1fc23": {
          "model_module": "@jupyter-widgets/controls",
          "model_name": "HTMLModel",
          "model_module_version": "1.5.0",
          "state": {
            "_dom_classes": [],
            "_model_module": "@jupyter-widgets/controls",
            "_model_module_version": "1.5.0",
            "_model_name": "HTMLModel",
            "_view_count": null,
            "_view_module": "@jupyter-widgets/controls",
            "_view_module_version": "1.5.0",
            "_view_name": "HTMLView",
            "description": "",
            "description_tooltip": null,
            "layout": "IPY_MODEL_a750b3f4493a43468329ba4ebdf11064",
            "placeholder": "​",
            "style": "IPY_MODEL_19224217080d483f9c640bb6342f035f",
            "value": " 45121/45121 [01:41&lt;00:00, 573.53 examples/s]"
          }
        },
        "98942739af64473cb719c113c50dd013": {
          "model_module": "@jupyter-widgets/base",
          "model_name": "LayoutModel",
          "model_module_version": "1.2.0",
          "state": {
            "_model_module": "@jupyter-widgets/base",
            "_model_module_version": "1.2.0",
            "_model_name": "LayoutModel",
            "_view_count": null,
            "_view_module": "@jupyter-widgets/base",
            "_view_module_version": "1.2.0",
            "_view_name": "LayoutView",
            "align_content": null,
            "align_items": null,
            "align_self": null,
            "border": null,
            "bottom": null,
            "display": null,
            "flex": null,
            "flex_flow": null,
            "grid_area": null,
            "grid_auto_columns": null,
            "grid_auto_flow": null,
            "grid_auto_rows": null,
            "grid_column": null,
            "grid_gap": null,
            "grid_row": null,
            "grid_template_areas": null,
            "grid_template_columns": null,
            "grid_template_rows": null,
            "height": null,
            "justify_content": null,
            "justify_items": null,
            "left": null,
            "margin": null,
            "max_height": null,
            "max_width": null,
            "min_height": null,
            "min_width": null,
            "object_fit": null,
            "object_position": null,
            "order": null,
            "overflow": null,
            "overflow_x": null,
            "overflow_y": null,
            "padding": null,
            "right": null,
            "top": null,
            "visibility": null,
            "width": null
          }
        },
        "bedf5d93676f459aa9937753cb87a8c4": {
          "model_module": "@jupyter-widgets/base",
          "model_name": "LayoutModel",
          "model_module_version": "1.2.0",
          "state": {
            "_model_module": "@jupyter-widgets/base",
            "_model_module_version": "1.2.0",
            "_model_name": "LayoutModel",
            "_view_count": null,
            "_view_module": "@jupyter-widgets/base",
            "_view_module_version": "1.2.0",
            "_view_name": "LayoutView",
            "align_content": null,
            "align_items": null,
            "align_self": null,
            "border": null,
            "bottom": null,
            "display": null,
            "flex": null,
            "flex_flow": null,
            "grid_area": null,
            "grid_auto_columns": null,
            "grid_auto_flow": null,
            "grid_auto_rows": null,
            "grid_column": null,
            "grid_gap": null,
            "grid_row": null,
            "grid_template_areas": null,
            "grid_template_columns": null,
            "grid_template_rows": null,
            "height": null,
            "justify_content": null,
            "justify_items": null,
            "left": null,
            "margin": null,
            "max_height": null,
            "max_width": null,
            "min_height": null,
            "min_width": null,
            "object_fit": null,
            "object_position": null,
            "order": null,
            "overflow": null,
            "overflow_x": null,
            "overflow_y": null,
            "padding": null,
            "right": null,
            "top": null,
            "visibility": null,
            "width": null
          }
        },
        "9d495b8632b5482399c169d9f7b614e0": {
          "model_module": "@jupyter-widgets/controls",
          "model_name": "DescriptionStyleModel",
          "model_module_version": "1.5.0",
          "state": {
            "_model_module": "@jupyter-widgets/controls",
            "_model_module_version": "1.5.0",
            "_model_name": "DescriptionStyleModel",
            "_view_count": null,
            "_view_module": "@jupyter-widgets/base",
            "_view_module_version": "1.2.0",
            "_view_name": "StyleView",
            "description_width": ""
          }
        },
        "c41a41a355b04dd48f264a2c4835c58f": {
          "model_module": "@jupyter-widgets/base",
          "model_name": "LayoutModel",
          "model_module_version": "1.2.0",
          "state": {
            "_model_module": "@jupyter-widgets/base",
            "_model_module_version": "1.2.0",
            "_model_name": "LayoutModel",
            "_view_count": null,
            "_view_module": "@jupyter-widgets/base",
            "_view_module_version": "1.2.0",
            "_view_name": "LayoutView",
            "align_content": null,
            "align_items": null,
            "align_self": null,
            "border": null,
            "bottom": null,
            "display": null,
            "flex": null,
            "flex_flow": null,
            "grid_area": null,
            "grid_auto_columns": null,
            "grid_auto_flow": null,
            "grid_auto_rows": null,
            "grid_column": null,
            "grid_gap": null,
            "grid_row": null,
            "grid_template_areas": null,
            "grid_template_columns": null,
            "grid_template_rows": null,
            "height": null,
            "justify_content": null,
            "justify_items": null,
            "left": null,
            "margin": null,
            "max_height": null,
            "max_width": null,
            "min_height": null,
            "min_width": null,
            "object_fit": null,
            "object_position": null,
            "order": null,
            "overflow": null,
            "overflow_x": null,
            "overflow_y": null,
            "padding": null,
            "right": null,
            "top": null,
            "visibility": null,
            "width": null
          }
        },
        "730a5a956bdb45e7aa288cd6b029c33f": {
          "model_module": "@jupyter-widgets/controls",
          "model_name": "ProgressStyleModel",
          "model_module_version": "1.5.0",
          "state": {
            "_model_module": "@jupyter-widgets/controls",
            "_model_module_version": "1.5.0",
            "_model_name": "ProgressStyleModel",
            "_view_count": null,
            "_view_module": "@jupyter-widgets/base",
            "_view_module_version": "1.2.0",
            "_view_name": "StyleView",
            "bar_color": null,
            "description_width": ""
          }
        },
        "a750b3f4493a43468329ba4ebdf11064": {
          "model_module": "@jupyter-widgets/base",
          "model_name": "LayoutModel",
          "model_module_version": "1.2.0",
          "state": {
            "_model_module": "@jupyter-widgets/base",
            "_model_module_version": "1.2.0",
            "_model_name": "LayoutModel",
            "_view_count": null,
            "_view_module": "@jupyter-widgets/base",
            "_view_module_version": "1.2.0",
            "_view_name": "LayoutView",
            "align_content": null,
            "align_items": null,
            "align_self": null,
            "border": null,
            "bottom": null,
            "display": null,
            "flex": null,
            "flex_flow": null,
            "grid_area": null,
            "grid_auto_columns": null,
            "grid_auto_flow": null,
            "grid_auto_rows": null,
            "grid_column": null,
            "grid_gap": null,
            "grid_row": null,
            "grid_template_areas": null,
            "grid_template_columns": null,
            "grid_template_rows": null,
            "height": null,
            "justify_content": null,
            "justify_items": null,
            "left": null,
            "margin": null,
            "max_height": null,
            "max_width": null,
            "min_height": null,
            "min_width": null,
            "object_fit": null,
            "object_position": null,
            "order": null,
            "overflow": null,
            "overflow_x": null,
            "overflow_y": null,
            "padding": null,
            "right": null,
            "top": null,
            "visibility": null,
            "width": null
          }
        },
        "19224217080d483f9c640bb6342f035f": {
          "model_module": "@jupyter-widgets/controls",
          "model_name": "DescriptionStyleModel",
          "model_module_version": "1.5.0",
          "state": {
            "_model_module": "@jupyter-widgets/controls",
            "_model_module_version": "1.5.0",
            "_model_name": "DescriptionStyleModel",
            "_view_count": null,
            "_view_module": "@jupyter-widgets/base",
            "_view_module_version": "1.2.0",
            "_view_name": "StyleView",
            "description_width": ""
          }
        },
        "132e2a3b45324242906de7cecfd1416e": {
          "model_module": "@jupyter-widgets/controls",
          "model_name": "HBoxModel",
          "model_module_version": "1.5.0",
          "state": {
            "_dom_classes": [],
            "_model_module": "@jupyter-widgets/controls",
            "_model_module_version": "1.5.0",
            "_model_name": "HBoxModel",
            "_view_count": null,
            "_view_module": "@jupyter-widgets/controls",
            "_view_module_version": "1.5.0",
            "_view_name": "HBoxView",
            "box_style": "",
            "children": [
              "IPY_MODEL_96323c9e87054855b4f69bb13ce3c91e",
              "IPY_MODEL_784392e2cdc54d118f919f579648b49d",
              "IPY_MODEL_98f54c682675458091921bc7f4319a7d"
            ],
            "layout": "IPY_MODEL_b906857e46ea44c2b3e57df918d0f49e"
          }
        },
        "96323c9e87054855b4f69bb13ce3c91e": {
          "model_module": "@jupyter-widgets/controls",
          "model_name": "HTMLModel",
          "model_module_version": "1.5.0",
          "state": {
            "_dom_classes": [],
            "_model_module": "@jupyter-widgets/controls",
            "_model_module_version": "1.5.0",
            "_model_name": "HTMLModel",
            "_view_count": null,
            "_view_module": "@jupyter-widgets/controls",
            "_view_module_version": "1.5.0",
            "_view_name": "HTMLView",
            "description": "",
            "description_tooltip": null,
            "layout": "IPY_MODEL_6cbafc77bafe4f2c945f512551cccc6c",
            "placeholder": "​",
            "style": "IPY_MODEL_d906a0e2e059481e9b2ee7ef2dd82d0d",
            "value": "Map: 100%"
          }
        },
        "784392e2cdc54d118f919f579648b49d": {
          "model_module": "@jupyter-widgets/controls",
          "model_name": "FloatProgressModel",
          "model_module_version": "1.5.0",
          "state": {
            "_dom_classes": [],
            "_model_module": "@jupyter-widgets/controls",
            "_model_module_version": "1.5.0",
            "_model_name": "FloatProgressModel",
            "_view_count": null,
            "_view_module": "@jupyter-widgets/controls",
            "_view_module_version": "1.5.0",
            "_view_name": "ProgressView",
            "bar_style": "success",
            "description": "",
            "description_tooltip": null,
            "layout": "IPY_MODEL_be926d6659dc43e3aa92c6b5c62ec46e",
            "max": 11281,
            "min": 0,
            "orientation": "horizontal",
            "style": "IPY_MODEL_d1ff11c8c491427794487e0b8fb54aad",
            "value": 11281
          }
        },
        "98f54c682675458091921bc7f4319a7d": {
          "model_module": "@jupyter-widgets/controls",
          "model_name": "HTMLModel",
          "model_module_version": "1.5.0",
          "state": {
            "_dom_classes": [],
            "_model_module": "@jupyter-widgets/controls",
            "_model_module_version": "1.5.0",
            "_model_name": "HTMLModel",
            "_view_count": null,
            "_view_module": "@jupyter-widgets/controls",
            "_view_module_version": "1.5.0",
            "_view_name": "HTMLView",
            "description": "",
            "description_tooltip": null,
            "layout": "IPY_MODEL_5339d6eb64ff4b7c8e4491e73494a2f8",
            "placeholder": "​",
            "style": "IPY_MODEL_78f55f97fbe146c0a7a036857ce91c29",
            "value": " 11281/11281 [00:24&lt;00:00, 504.52 examples/s]"
          }
        },
        "b906857e46ea44c2b3e57df918d0f49e": {
          "model_module": "@jupyter-widgets/base",
          "model_name": "LayoutModel",
          "model_module_version": "1.2.0",
          "state": {
            "_model_module": "@jupyter-widgets/base",
            "_model_module_version": "1.2.0",
            "_model_name": "LayoutModel",
            "_view_count": null,
            "_view_module": "@jupyter-widgets/base",
            "_view_module_version": "1.2.0",
            "_view_name": "LayoutView",
            "align_content": null,
            "align_items": null,
            "align_self": null,
            "border": null,
            "bottom": null,
            "display": null,
            "flex": null,
            "flex_flow": null,
            "grid_area": null,
            "grid_auto_columns": null,
            "grid_auto_flow": null,
            "grid_auto_rows": null,
            "grid_column": null,
            "grid_gap": null,
            "grid_row": null,
            "grid_template_areas": null,
            "grid_template_columns": null,
            "grid_template_rows": null,
            "height": null,
            "justify_content": null,
            "justify_items": null,
            "left": null,
            "margin": null,
            "max_height": null,
            "max_width": null,
            "min_height": null,
            "min_width": null,
            "object_fit": null,
            "object_position": null,
            "order": null,
            "overflow": null,
            "overflow_x": null,
            "overflow_y": null,
            "padding": null,
            "right": null,
            "top": null,
            "visibility": null,
            "width": null
          }
        },
        "6cbafc77bafe4f2c945f512551cccc6c": {
          "model_module": "@jupyter-widgets/base",
          "model_name": "LayoutModel",
          "model_module_version": "1.2.0",
          "state": {
            "_model_module": "@jupyter-widgets/base",
            "_model_module_version": "1.2.0",
            "_model_name": "LayoutModel",
            "_view_count": null,
            "_view_module": "@jupyter-widgets/base",
            "_view_module_version": "1.2.0",
            "_view_name": "LayoutView",
            "align_content": null,
            "align_items": null,
            "align_self": null,
            "border": null,
            "bottom": null,
            "display": null,
            "flex": null,
            "flex_flow": null,
            "grid_area": null,
            "grid_auto_columns": null,
            "grid_auto_flow": null,
            "grid_auto_rows": null,
            "grid_column": null,
            "grid_gap": null,
            "grid_row": null,
            "grid_template_areas": null,
            "grid_template_columns": null,
            "grid_template_rows": null,
            "height": null,
            "justify_content": null,
            "justify_items": null,
            "left": null,
            "margin": null,
            "max_height": null,
            "max_width": null,
            "min_height": null,
            "min_width": null,
            "object_fit": null,
            "object_position": null,
            "order": null,
            "overflow": null,
            "overflow_x": null,
            "overflow_y": null,
            "padding": null,
            "right": null,
            "top": null,
            "visibility": null,
            "width": null
          }
        },
        "d906a0e2e059481e9b2ee7ef2dd82d0d": {
          "model_module": "@jupyter-widgets/controls",
          "model_name": "DescriptionStyleModel",
          "model_module_version": "1.5.0",
          "state": {
            "_model_module": "@jupyter-widgets/controls",
            "_model_module_version": "1.5.0",
            "_model_name": "DescriptionStyleModel",
            "_view_count": null,
            "_view_module": "@jupyter-widgets/base",
            "_view_module_version": "1.2.0",
            "_view_name": "StyleView",
            "description_width": ""
          }
        },
        "be926d6659dc43e3aa92c6b5c62ec46e": {
          "model_module": "@jupyter-widgets/base",
          "model_name": "LayoutModel",
          "model_module_version": "1.2.0",
          "state": {
            "_model_module": "@jupyter-widgets/base",
            "_model_module_version": "1.2.0",
            "_model_name": "LayoutModel",
            "_view_count": null,
            "_view_module": "@jupyter-widgets/base",
            "_view_module_version": "1.2.0",
            "_view_name": "LayoutView",
            "align_content": null,
            "align_items": null,
            "align_self": null,
            "border": null,
            "bottom": null,
            "display": null,
            "flex": null,
            "flex_flow": null,
            "grid_area": null,
            "grid_auto_columns": null,
            "grid_auto_flow": null,
            "grid_auto_rows": null,
            "grid_column": null,
            "grid_gap": null,
            "grid_row": null,
            "grid_template_areas": null,
            "grid_template_columns": null,
            "grid_template_rows": null,
            "height": null,
            "justify_content": null,
            "justify_items": null,
            "left": null,
            "margin": null,
            "max_height": null,
            "max_width": null,
            "min_height": null,
            "min_width": null,
            "object_fit": null,
            "object_position": null,
            "order": null,
            "overflow": null,
            "overflow_x": null,
            "overflow_y": null,
            "padding": null,
            "right": null,
            "top": null,
            "visibility": null,
            "width": null
          }
        },
        "d1ff11c8c491427794487e0b8fb54aad": {
          "model_module": "@jupyter-widgets/controls",
          "model_name": "ProgressStyleModel",
          "model_module_version": "1.5.0",
          "state": {
            "_model_module": "@jupyter-widgets/controls",
            "_model_module_version": "1.5.0",
            "_model_name": "ProgressStyleModel",
            "_view_count": null,
            "_view_module": "@jupyter-widgets/base",
            "_view_module_version": "1.2.0",
            "_view_name": "StyleView",
            "bar_color": null,
            "description_width": ""
          }
        },
        "5339d6eb64ff4b7c8e4491e73494a2f8": {
          "model_module": "@jupyter-widgets/base",
          "model_name": "LayoutModel",
          "model_module_version": "1.2.0",
          "state": {
            "_model_module": "@jupyter-widgets/base",
            "_model_module_version": "1.2.0",
            "_model_name": "LayoutModel",
            "_view_count": null,
            "_view_module": "@jupyter-widgets/base",
            "_view_module_version": "1.2.0",
            "_view_name": "LayoutView",
            "align_content": null,
            "align_items": null,
            "align_self": null,
            "border": null,
            "bottom": null,
            "display": null,
            "flex": null,
            "flex_flow": null,
            "grid_area": null,
            "grid_auto_columns": null,
            "grid_auto_flow": null,
            "grid_auto_rows": null,
            "grid_column": null,
            "grid_gap": null,
            "grid_row": null,
            "grid_template_areas": null,
            "grid_template_columns": null,
            "grid_template_rows": null,
            "height": null,
            "justify_content": null,
            "justify_items": null,
            "left": null,
            "margin": null,
            "max_height": null,
            "max_width": null,
            "min_height": null,
            "min_width": null,
            "object_fit": null,
            "object_position": null,
            "order": null,
            "overflow": null,
            "overflow_x": null,
            "overflow_y": null,
            "padding": null,
            "right": null,
            "top": null,
            "visibility": null,
            "width": null
          }
        },
        "78f55f97fbe146c0a7a036857ce91c29": {
          "model_module": "@jupyter-widgets/controls",
          "model_name": "DescriptionStyleModel",
          "model_module_version": "1.5.0",
          "state": {
            "_model_module": "@jupyter-widgets/controls",
            "_model_module_version": "1.5.0",
            "_model_name": "DescriptionStyleModel",
            "_view_count": null,
            "_view_module": "@jupyter-widgets/base",
            "_view_module_version": "1.2.0",
            "_view_name": "StyleView",
            "description_width": ""
          }
        }
      }
    }
  },
  "cells": [
    {
      "cell_type": "markdown",
      "metadata": {
        "id": "view-in-github",
        "colab_type": "text"
      },
      "source": [
        "<a href=\"https://colab.research.google.com/github/Rishika70/Hack_To_Hire/blob/main/Hack_To_Hire.ipynb\" target=\"_parent\"><img src=\"https://colab.research.google.com/assets/colab-badge.svg\" alt=\"Open In Colab\"/></a>"
      ]
    },
    {
      "cell_type": "code",
      "source": [
        "pip install transformers[torch] tokenizers datasets evaluate rouge_score sentencepiece huggingface_hub --upgrade"
      ],
      "metadata": {
        "colab": {
          "base_uri": "https://localhost:8080/"
        },
        "collapsed": true,
        "id": "2q-MgvXq4GLz",
        "outputId": "f44583d1-8a2d-4280-cce0-5bf8e7a1082d"
      },
      "execution_count": 1,
      "outputs": [
        {
          "output_type": "stream",
          "name": "stdout",
          "text": [
            "Requirement already satisfied: tokenizers in /usr/local/lib/python3.10/dist-packages (0.19.1)\n",
            "Collecting datasets\n",
            "  Downloading datasets-2.20.0-py3-none-any.whl.metadata (19 kB)\n",
            "Collecting evaluate\n",
            "  Downloading evaluate-0.4.2-py3-none-any.whl.metadata (9.3 kB)\n",
            "Collecting rouge_score\n",
            "  Downloading rouge_score-0.1.2.tar.gz (17 kB)\n",
            "  Preparing metadata (setup.py) ... \u001b[?25l\u001b[?25hdone\n",
            "Requirement already satisfied: sentencepiece in /usr/local/lib/python3.10/dist-packages (0.1.99)\n",
            "Collecting sentencepiece\n",
            "  Downloading sentencepiece-0.2.0-cp310-cp310-manylinux_2_17_x86_64.manylinux2014_x86_64.whl.metadata (7.7 kB)\n",
            "Requirement already satisfied: huggingface_hub in /usr/local/lib/python3.10/dist-packages (0.23.5)\n",
            "Collecting huggingface_hub\n",
            "  Downloading huggingface_hub-0.24.2-py3-none-any.whl.metadata (13 kB)\n",
            "Requirement already satisfied: transformers[torch] in /usr/local/lib/python3.10/dist-packages (4.42.4)\n",
            "Collecting transformers[torch]\n",
            "  Downloading transformers-4.43.3-py3-none-any.whl.metadata (43 kB)\n",
            "\u001b[2K     \u001b[90m━━━━━━━━━━━━━━━━━━━━━━━━━━━━━━━━━━━━━━━━\u001b[0m \u001b[32m43.7/43.7 kB\u001b[0m \u001b[31m3.7 MB/s\u001b[0m eta \u001b[36m0:00:00\u001b[0m\n",
            "\u001b[?25hRequirement already satisfied: filelock in /usr/local/lib/python3.10/dist-packages (from transformers[torch]) (3.15.4)\n",
            "Requirement already satisfied: numpy>=1.17 in /usr/local/lib/python3.10/dist-packages (from transformers[torch]) (1.25.2)\n",
            "Requirement already satisfied: packaging>=20.0 in /usr/local/lib/python3.10/dist-packages (from transformers[torch]) (24.1)\n",
            "Requirement already satisfied: pyyaml>=5.1 in /usr/local/lib/python3.10/dist-packages (from transformers[torch]) (6.0.1)\n",
            "Requirement already satisfied: regex!=2019.12.17 in /usr/local/lib/python3.10/dist-packages (from transformers[torch]) (2024.5.15)\n",
            "Requirement already satisfied: requests in /usr/local/lib/python3.10/dist-packages (from transformers[torch]) (2.31.0)\n",
            "Requirement already satisfied: safetensors>=0.4.1 in /usr/local/lib/python3.10/dist-packages (from transformers[torch]) (0.4.3)\n",
            "Requirement already satisfied: tqdm>=4.27 in /usr/local/lib/python3.10/dist-packages (from transformers[torch]) (4.66.4)\n",
            "Requirement already satisfied: accelerate>=0.21.0 in /usr/local/lib/python3.10/dist-packages (from transformers[torch]) (0.32.1)\n",
            "Requirement already satisfied: torch in /usr/local/lib/python3.10/dist-packages (from transformers[torch]) (2.3.1+cu121)\n",
            "Collecting pyarrow>=15.0.0 (from datasets)\n",
            "  Downloading pyarrow-17.0.0-cp310-cp310-manylinux_2_28_x86_64.whl.metadata (3.3 kB)\n",
            "Requirement already satisfied: pyarrow-hotfix in /usr/local/lib/python3.10/dist-packages (from datasets) (0.6)\n",
            "Collecting dill<0.3.9,>=0.3.0 (from datasets)\n",
            "  Downloading dill-0.3.8-py3-none-any.whl.metadata (10 kB)\n",
            "Requirement already satisfied: pandas in /usr/local/lib/python3.10/dist-packages (from datasets) (2.0.3)\n",
            "Collecting requests (from transformers[torch])\n",
            "  Downloading requests-2.32.3-py3-none-any.whl.metadata (4.6 kB)\n",
            "Collecting xxhash (from datasets)\n",
            "  Downloading xxhash-3.4.1-cp310-cp310-manylinux_2_17_x86_64.manylinux2014_x86_64.whl.metadata (12 kB)\n",
            "Collecting multiprocess (from datasets)\n",
            "  Downloading multiprocess-0.70.16-py310-none-any.whl.metadata (7.2 kB)\n",
            "Collecting fsspec<=2024.5.0,>=2023.1.0 (from fsspec[http]<=2024.5.0,>=2023.1.0->datasets)\n",
            "  Downloading fsspec-2024.5.0-py3-none-any.whl.metadata (11 kB)\n",
            "Requirement already satisfied: aiohttp in /usr/local/lib/python3.10/dist-packages (from datasets) (3.9.5)\n",
            "Requirement already satisfied: absl-py in /usr/local/lib/python3.10/dist-packages (from rouge_score) (1.4.0)\n",
            "Requirement already satisfied: nltk in /usr/local/lib/python3.10/dist-packages (from rouge_score) (3.8.1)\n",
            "Requirement already satisfied: six>=1.14.0 in /usr/local/lib/python3.10/dist-packages (from rouge_score) (1.16.0)\n",
            "Requirement already satisfied: typing-extensions>=3.7.4.3 in /usr/local/lib/python3.10/dist-packages (from huggingface_hub) (4.12.2)\n",
            "Requirement already satisfied: psutil in /usr/local/lib/python3.10/dist-packages (from accelerate>=0.21.0->transformers[torch]) (5.9.5)\n",
            "Requirement already satisfied: aiosignal>=1.1.2 in /usr/local/lib/python3.10/dist-packages (from aiohttp->datasets) (1.3.1)\n",
            "Requirement already satisfied: attrs>=17.3.0 in /usr/local/lib/python3.10/dist-packages (from aiohttp->datasets) (23.2.0)\n",
            "Requirement already satisfied: frozenlist>=1.1.1 in /usr/local/lib/python3.10/dist-packages (from aiohttp->datasets) (1.4.1)\n",
            "Requirement already satisfied: multidict<7.0,>=4.5 in /usr/local/lib/python3.10/dist-packages (from aiohttp->datasets) (6.0.5)\n",
            "Requirement already satisfied: yarl<2.0,>=1.0 in /usr/local/lib/python3.10/dist-packages (from aiohttp->datasets) (1.9.4)\n",
            "Requirement already satisfied: async-timeout<5.0,>=4.0 in /usr/local/lib/python3.10/dist-packages (from aiohttp->datasets) (4.0.3)\n",
            "Requirement already satisfied: charset-normalizer<4,>=2 in /usr/local/lib/python3.10/dist-packages (from requests->transformers[torch]) (3.3.2)\n",
            "Requirement already satisfied: idna<4,>=2.5 in /usr/local/lib/python3.10/dist-packages (from requests->transformers[torch]) (3.7)\n",
            "Requirement already satisfied: urllib3<3,>=1.21.1 in /usr/local/lib/python3.10/dist-packages (from requests->transformers[torch]) (2.0.7)\n",
            "Requirement already satisfied: certifi>=2017.4.17 in /usr/local/lib/python3.10/dist-packages (from requests->transformers[torch]) (2024.7.4)\n",
            "Requirement already satisfied: sympy in /usr/local/lib/python3.10/dist-packages (from torch->transformers[torch]) (1.13.1)\n",
            "Requirement already satisfied: networkx in /usr/local/lib/python3.10/dist-packages (from torch->transformers[torch]) (3.3)\n",
            "Requirement already satisfied: jinja2 in /usr/local/lib/python3.10/dist-packages (from torch->transformers[torch]) (3.1.4)\n",
            "Collecting nvidia-cuda-nvrtc-cu12==12.1.105 (from torch->transformers[torch])\n",
            "  Using cached nvidia_cuda_nvrtc_cu12-12.1.105-py3-none-manylinux1_x86_64.whl.metadata (1.5 kB)\n",
            "Collecting nvidia-cuda-runtime-cu12==12.1.105 (from torch->transformers[torch])\n",
            "  Using cached nvidia_cuda_runtime_cu12-12.1.105-py3-none-manylinux1_x86_64.whl.metadata (1.5 kB)\n",
            "Collecting nvidia-cuda-cupti-cu12==12.1.105 (from torch->transformers[torch])\n",
            "  Using cached nvidia_cuda_cupti_cu12-12.1.105-py3-none-manylinux1_x86_64.whl.metadata (1.6 kB)\n",
            "Collecting nvidia-cudnn-cu12==8.9.2.26 (from torch->transformers[torch])\n",
            "  Using cached nvidia_cudnn_cu12-8.9.2.26-py3-none-manylinux1_x86_64.whl.metadata (1.6 kB)\n",
            "Collecting nvidia-cublas-cu12==12.1.3.1 (from torch->transformers[torch])\n",
            "  Using cached nvidia_cublas_cu12-12.1.3.1-py3-none-manylinux1_x86_64.whl.metadata (1.5 kB)\n",
            "Collecting nvidia-cufft-cu12==11.0.2.54 (from torch->transformers[torch])\n",
            "  Using cached nvidia_cufft_cu12-11.0.2.54-py3-none-manylinux1_x86_64.whl.metadata (1.5 kB)\n",
            "Collecting nvidia-curand-cu12==10.3.2.106 (from torch->transformers[torch])\n",
            "  Using cached nvidia_curand_cu12-10.3.2.106-py3-none-manylinux1_x86_64.whl.metadata (1.5 kB)\n",
            "Collecting nvidia-cusolver-cu12==11.4.5.107 (from torch->transformers[torch])\n",
            "  Using cached nvidia_cusolver_cu12-11.4.5.107-py3-none-manylinux1_x86_64.whl.metadata (1.6 kB)\n",
            "Collecting nvidia-cusparse-cu12==12.1.0.106 (from torch->transformers[torch])\n",
            "  Using cached nvidia_cusparse_cu12-12.1.0.106-py3-none-manylinux1_x86_64.whl.metadata (1.6 kB)\n",
            "Collecting nvidia-nccl-cu12==2.20.5 (from torch->transformers[torch])\n",
            "  Using cached nvidia_nccl_cu12-2.20.5-py3-none-manylinux2014_x86_64.whl.metadata (1.8 kB)\n",
            "Collecting nvidia-nvtx-cu12==12.1.105 (from torch->transformers[torch])\n",
            "  Using cached nvidia_nvtx_cu12-12.1.105-py3-none-manylinux1_x86_64.whl.metadata (1.7 kB)\n",
            "Requirement already satisfied: triton==2.3.1 in /usr/local/lib/python3.10/dist-packages (from torch->transformers[torch]) (2.3.1)\n",
            "Collecting nvidia-nvjitlink-cu12 (from nvidia-cusolver-cu12==11.4.5.107->torch->transformers[torch])\n",
            "  Downloading nvidia_nvjitlink_cu12-12.5.82-py3-none-manylinux2014_x86_64.whl.metadata (1.5 kB)\n",
            "Requirement already satisfied: click in /usr/local/lib/python3.10/dist-packages (from nltk->rouge_score) (8.1.7)\n",
            "Requirement already satisfied: joblib in /usr/local/lib/python3.10/dist-packages (from nltk->rouge_score) (1.4.2)\n",
            "Requirement already satisfied: python-dateutil>=2.8.2 in /usr/local/lib/python3.10/dist-packages (from pandas->datasets) (2.8.2)\n",
            "Requirement already satisfied: pytz>=2020.1 in /usr/local/lib/python3.10/dist-packages (from pandas->datasets) (2024.1)\n",
            "Requirement already satisfied: tzdata>=2022.1 in /usr/local/lib/python3.10/dist-packages (from pandas->datasets) (2024.1)\n",
            "Requirement already satisfied: MarkupSafe>=2.0 in /usr/local/lib/python3.10/dist-packages (from jinja2->torch->transformers[torch]) (2.1.5)\n",
            "Requirement already satisfied: mpmath<1.4,>=1.1.0 in /usr/local/lib/python3.10/dist-packages (from sympy->torch->transformers[torch]) (1.3.0)\n",
            "Downloading datasets-2.20.0-py3-none-any.whl (547 kB)\n",
            "\u001b[2K   \u001b[90m━━━━━━━━━━━━━━━━━━━━━━━━━━━━━━━━━━━━━━━━\u001b[0m \u001b[32m547.8/547.8 kB\u001b[0m \u001b[31m35.3 MB/s\u001b[0m eta \u001b[36m0:00:00\u001b[0m\n",
            "\u001b[?25hDownloading evaluate-0.4.2-py3-none-any.whl (84 kB)\n",
            "\u001b[2K   \u001b[90m━━━━━━━━━━━━━━━━━━━━━━━━━━━━━━━━━━━━━━━━\u001b[0m \u001b[32m84.1/84.1 kB\u001b[0m \u001b[31m7.8 MB/s\u001b[0m eta \u001b[36m0:00:00\u001b[0m\n",
            "\u001b[?25hDownloading sentencepiece-0.2.0-cp310-cp310-manylinux_2_17_x86_64.manylinux2014_x86_64.whl (1.3 MB)\n",
            "\u001b[2K   \u001b[90m━━━━━━━━━━━━━━━━━━━━━━━━━━━━━━━━━━━━━━━━\u001b[0m \u001b[32m1.3/1.3 MB\u001b[0m \u001b[31m51.3 MB/s\u001b[0m eta \u001b[36m0:00:00\u001b[0m\n",
            "\u001b[?25hDownloading huggingface_hub-0.24.2-py3-none-any.whl (417 kB)\n",
            "\u001b[2K   \u001b[90m━━━━━━━━━━━━━━━━━━━━━━━━━━━━━━━━━━━━━━━━\u001b[0m \u001b[32m417.2/417.2 kB\u001b[0m \u001b[31m30.5 MB/s\u001b[0m eta \u001b[36m0:00:00\u001b[0m\n",
            "\u001b[?25hDownloading dill-0.3.8-py3-none-any.whl (116 kB)\n",
            "\u001b[2K   \u001b[90m━━━━━━━━━━━━━━━━━━━━━━━━━━━━━━━━━━━━━━━━\u001b[0m \u001b[32m116.3/116.3 kB\u001b[0m \u001b[31m10.8 MB/s\u001b[0m eta \u001b[36m0:00:00\u001b[0m\n",
            "\u001b[?25hDownloading fsspec-2024.5.0-py3-none-any.whl (316 kB)\n",
            "\u001b[2K   \u001b[90m━━━━━━━━━━━━━━━━━━━━━━━━━━━━━━━━━━━━━━━━\u001b[0m \u001b[32m316.1/316.1 kB\u001b[0m \u001b[31m26.4 MB/s\u001b[0m eta \u001b[36m0:00:00\u001b[0m\n",
            "\u001b[?25hDownloading pyarrow-17.0.0-cp310-cp310-manylinux_2_28_x86_64.whl (39.9 MB)\n",
            "\u001b[2K   \u001b[90m━━━━━━━━━━━━━━━━━━━━━━━━━━━━━━━━━━━━━━━━\u001b[0m \u001b[32m39.9/39.9 MB\u001b[0m \u001b[31m20.2 MB/s\u001b[0m eta \u001b[36m0:00:00\u001b[0m\n",
            "\u001b[?25hDownloading requests-2.32.3-py3-none-any.whl (64 kB)\n",
            "\u001b[2K   \u001b[90m━━━━━━━━━━━━━━━━━━━━━━━━━━━━━━━━━━━━━━━━\u001b[0m \u001b[32m64.9/64.9 kB\u001b[0m \u001b[31m4.9 MB/s\u001b[0m eta \u001b[36m0:00:00\u001b[0m\n",
            "\u001b[?25hUsing cached nvidia_cublas_cu12-12.1.3.1-py3-none-manylinux1_x86_64.whl (410.6 MB)\n",
            "Using cached nvidia_cuda_cupti_cu12-12.1.105-py3-none-manylinux1_x86_64.whl (14.1 MB)\n",
            "Using cached nvidia_cuda_nvrtc_cu12-12.1.105-py3-none-manylinux1_x86_64.whl (23.7 MB)\n",
            "Using cached nvidia_cuda_runtime_cu12-12.1.105-py3-none-manylinux1_x86_64.whl (823 kB)\n",
            "Using cached nvidia_cudnn_cu12-8.9.2.26-py3-none-manylinux1_x86_64.whl (731.7 MB)\n",
            "Using cached nvidia_cufft_cu12-11.0.2.54-py3-none-manylinux1_x86_64.whl (121.6 MB)\n",
            "Using cached nvidia_curand_cu12-10.3.2.106-py3-none-manylinux1_x86_64.whl (56.5 MB)\n",
            "Using cached nvidia_cusolver_cu12-11.4.5.107-py3-none-manylinux1_x86_64.whl (124.2 MB)\n",
            "Using cached nvidia_cusparse_cu12-12.1.0.106-py3-none-manylinux1_x86_64.whl (196.0 MB)\n",
            "Using cached nvidia_nccl_cu12-2.20.5-py3-none-manylinux2014_x86_64.whl (176.2 MB)\n",
            "Using cached nvidia_nvtx_cu12-12.1.105-py3-none-manylinux1_x86_64.whl (99 kB)\n",
            "Downloading multiprocess-0.70.16-py310-none-any.whl (134 kB)\n",
            "\u001b[2K   \u001b[90m━━━━━━━━━━━━━━━━━━━━━━━━━━━━━━━━━━━━━━━━\u001b[0m \u001b[32m134.8/134.8 kB\u001b[0m \u001b[31m840.7 kB/s\u001b[0m eta \u001b[36m0:00:00\u001b[0m\n",
            "\u001b[?25hDownloading transformers-4.43.3-py3-none-any.whl (9.4 MB)\n",
            "\u001b[2K   \u001b[90m━━━━━━━━━━━━━━━━━━━━━━━━━━━━━━━━━━━━━━━━\u001b[0m \u001b[32m9.4/9.4 MB\u001b[0m \u001b[31m41.3 MB/s\u001b[0m eta \u001b[36m0:00:00\u001b[0m\n",
            "\u001b[?25hDownloading xxhash-3.4.1-cp310-cp310-manylinux_2_17_x86_64.manylinux2014_x86_64.whl (194 kB)\n",
            "\u001b[2K   \u001b[90m━━━━━━━━━━━━━━━━━━━━━━━━━━━━━━━━━━━━━━━━\u001b[0m \u001b[32m194.1/194.1 kB\u001b[0m \u001b[31m15.9 MB/s\u001b[0m eta \u001b[36m0:00:00\u001b[0m\n",
            "\u001b[?25hDownloading nvidia_nvjitlink_cu12-12.5.82-py3-none-manylinux2014_x86_64.whl (21.3 MB)\n",
            "\u001b[2K   \u001b[90m━━━━━━━━━━━━━━━━━━━━━━━━━━━━━━━━━━━━━━━━\u001b[0m \u001b[32m21.3/21.3 MB\u001b[0m \u001b[31m64.1 MB/s\u001b[0m eta \u001b[36m0:00:00\u001b[0m\n",
            "\u001b[?25hBuilding wheels for collected packages: rouge_score\n",
            "  Building wheel for rouge_score (setup.py) ... \u001b[?25l\u001b[?25hdone\n",
            "  Created wheel for rouge_score: filename=rouge_score-0.1.2-py3-none-any.whl size=24934 sha256=8fbfadbc5394a981b90197707c0e2cb670fd36c8659620f631c4ee5d1b7a9507\n",
            "  Stored in directory: /root/.cache/pip/wheels/5f/dd/89/461065a73be61a532ff8599a28e9beef17985c9e9c31e541b4\n",
            "Successfully built rouge_score\n",
            "Installing collected packages: sentencepiece, xxhash, requests, pyarrow, nvidia-nvtx-cu12, nvidia-nvjitlink-cu12, nvidia-nccl-cu12, nvidia-curand-cu12, nvidia-cufft-cu12, nvidia-cuda-runtime-cu12, nvidia-cuda-nvrtc-cu12, nvidia-cuda-cupti-cu12, nvidia-cublas-cu12, fsspec, dill, rouge_score, nvidia-cusparse-cu12, nvidia-cudnn-cu12, multiprocess, huggingface_hub, nvidia-cusolver-cu12, transformers, datasets, evaluate\n",
            "  Attempting uninstall: sentencepiece\n",
            "    Found existing installation: sentencepiece 0.1.99\n",
            "    Uninstalling sentencepiece-0.1.99:\n",
            "      Successfully uninstalled sentencepiece-0.1.99\n",
            "  Attempting uninstall: requests\n",
            "    Found existing installation: requests 2.31.0\n",
            "    Uninstalling requests-2.31.0:\n",
            "      Successfully uninstalled requests-2.31.0\n",
            "  Attempting uninstall: pyarrow\n",
            "    Found existing installation: pyarrow 14.0.2\n",
            "    Uninstalling pyarrow-14.0.2:\n",
            "      Successfully uninstalled pyarrow-14.0.2\n",
            "  Attempting uninstall: fsspec\n",
            "    Found existing installation: fsspec 2024.6.1\n",
            "    Uninstalling fsspec-2024.6.1:\n",
            "      Successfully uninstalled fsspec-2024.6.1\n",
            "  Attempting uninstall: huggingface_hub\n",
            "    Found existing installation: huggingface-hub 0.23.5\n",
            "    Uninstalling huggingface-hub-0.23.5:\n",
            "      Successfully uninstalled huggingface-hub-0.23.5\n",
            "  Attempting uninstall: transformers\n",
            "    Found existing installation: transformers 4.42.4\n",
            "    Uninstalling transformers-4.42.4:\n",
            "      Successfully uninstalled transformers-4.42.4\n",
            "\u001b[31mERROR: pip's dependency resolver does not currently take into account all the packages that are installed. This behaviour is the source of the following dependency conflicts.\n",
            "cudf-cu12 24.4.1 requires pyarrow<15.0.0a0,>=14.0.1, but you have pyarrow 17.0.0 which is incompatible.\n",
            "gcsfs 2024.6.1 requires fsspec==2024.6.1, but you have fsspec 2024.5.0 which is incompatible.\n",
            "google-colab 1.0.0 requires requests==2.31.0, but you have requests 2.32.3 which is incompatible.\n",
            "ibis-framework 8.0.0 requires pyarrow<16,>=2, but you have pyarrow 17.0.0 which is incompatible.\u001b[0m\u001b[31m\n",
            "\u001b[0mSuccessfully installed datasets-2.20.0 dill-0.3.8 evaluate-0.4.2 fsspec-2024.5.0 huggingface_hub-0.24.2 multiprocess-0.70.16 nvidia-cublas-cu12-12.1.3.1 nvidia-cuda-cupti-cu12-12.1.105 nvidia-cuda-nvrtc-cu12-12.1.105 nvidia-cuda-runtime-cu12-12.1.105 nvidia-cudnn-cu12-8.9.2.26 nvidia-cufft-cu12-11.0.2.54 nvidia-curand-cu12-10.3.2.106 nvidia-cusolver-cu12-11.4.5.107 nvidia-cusparse-cu12-12.1.0.106 nvidia-nccl-cu12-2.20.5 nvidia-nvjitlink-cu12-12.5.82 nvidia-nvtx-cu12-12.1.105 pyarrow-17.0.0 requests-2.32.3 rouge_score-0.1.2 sentencepiece-0.2.0 transformers-4.43.3 xxhash-3.4.1\n"
          ]
        }
      ]
    },
    {
      "cell_type": "code",
      "source": [
        "!pip install bleu"
      ],
      "metadata": {
        "colab": {
          "base_uri": "https://localhost:8080/"
        },
        "id": "e5P7PUxb7InA",
        "outputId": "0a9f695e-0432-4ab4-cd15-78f27209f1ef"
      },
      "execution_count": 2,
      "outputs": [
        {
          "output_type": "stream",
          "name": "stdout",
          "text": [
            "Collecting bleu\n",
            "  Downloading bleu-0.3.tar.gz (5.2 kB)\n",
            "  Preparing metadata (setup.py) ... \u001b[?25l\u001b[?25hdone\n",
            "Collecting efficiency (from bleu)\n",
            "  Downloading efficiency-2.0-py3-none-any.whl.metadata (2.5 kB)\n",
            "Requirement already satisfied: pandas in /usr/local/lib/python3.10/dist-packages (from efficiency->bleu) (2.0.3)\n",
            "Requirement already satisfied: numpy in /usr/local/lib/python3.10/dist-packages (from efficiency->bleu) (1.25.2)\n",
            "Requirement already satisfied: python-dateutil>=2.8.2 in /usr/local/lib/python3.10/dist-packages (from pandas->efficiency->bleu) (2.8.2)\n",
            "Requirement already satisfied: pytz>=2020.1 in /usr/local/lib/python3.10/dist-packages (from pandas->efficiency->bleu) (2024.1)\n",
            "Requirement already satisfied: tzdata>=2022.1 in /usr/local/lib/python3.10/dist-packages (from pandas->efficiency->bleu) (2024.1)\n",
            "Requirement already satisfied: six>=1.5 in /usr/local/lib/python3.10/dist-packages (from python-dateutil>=2.8.2->pandas->efficiency->bleu) (1.16.0)\n",
            "Downloading efficiency-2.0-py3-none-any.whl (32 kB)\n",
            "Building wheels for collected packages: bleu\n",
            "  Building wheel for bleu (setup.py) ... \u001b[?25l\u001b[?25hdone\n",
            "  Created wheel for bleu: filename=bleu-0.3-py3-none-any.whl size=5780 sha256=eb364dcac4eb3bd0be9d055326dff1bb1d0b127d54b001971e42d502d452cf34\n",
            "  Stored in directory: /root/.cache/pip/wheels/c6/d8/d1/009abe01b8b2c6a14c62d197b510b3cc1076014c22d712c5ce\n",
            "Successfully built bleu\n",
            "Installing collected packages: efficiency, bleu\n",
            "Successfully installed bleu-0.3 efficiency-2.0\n"
          ]
        }
      ]
    },
    {
      "cell_type": "code",
      "execution_count": 3,
      "metadata": {
        "id": "Z-rrKZ4i2bMF"
      },
      "outputs": [],
      "source": [
        "import pandas as pd\n",
        "import numpy as np\n",
        "import nltk\n",
        "from nltk.tokenize import word_tokenize\n",
        "from nltk.corpus import stopwords\n",
        "from nltk.stem import WordNetLemmatizer\n",
        "from transformers import AutoTokenizer, AutoModelForSequenceClassification\n",
        "from transformers import BertTokenizer, BertModel\n",
        "from transformers import T5Tokenizer, T5Model\n",
        "from transformers import GPT2Tokenizer, GPT2Model\n",
        "from rouge_score import rouge_scorer\n",
        "from nltk.translate.bleu_score import sentence_bleu\n",
        "from sklearn.metrics import f1_score\n",
        "import matplotlib.pyplot as plt\n",
        "import seaborn as sns\n",
        "import plotly.graph_objs as go\n",
        "from sklearn.model_selection import train_test_split\n"
      ]
    },
    {
      "cell_type": "code",
      "source": [
        "!pip install datasets\n",
        "#Import the datasets library\n",
        "from datasets import load_dataset\n",
        "\n",
        "\n",
        "# Load and split the dataset\n",
        "dataset = load_dataset(\"toughdata/quora-question-answer-dataset\")\n",
        "dataset = dataset[\"train\"].train_test_split(test_size=0.2)\n",
        "train_dataset = dataset[\"train\"]\n",
        "test_dataset = dataset[\"test\"]\n",
        "\n"
      ],
      "metadata": {
        "colab": {
          "base_uri": "https://localhost:8080/",
          "height": 775,
          "referenced_widgets": [
            "7a54a81ebf624ff79335ccbee51fb5fb",
            "b9b4f316ddc441c1949816c787804d18",
            "16b0f3937f784784845b11af73643653",
            "1cc259cd1f9b4fbab50280ed36812b00",
            "d2d9ca25c5c04e248d381462a66f7e7d",
            "db0d8cecc5c94ac7ad8ad68d6d0ac1e8",
            "704449b4363e456da2c70c1474135872",
            "a75ff049c2604131bac5a13ec4125b2c",
            "8743fa76efe64d35aa05ea80ea2f30a1",
            "79d1b313530f4c158f3cb9f32be19aef",
            "d7abb7ff2053461fab4ad758b61a7d11",
            "ce62b3a25d664e40b5821dd7bea7cdd7",
            "08c588ca405c4e428725b868630a446d",
            "50d36bdc391f41d58ec321b49782a8c2",
            "e916b5951f034be7acd0b32a19798622",
            "6f422302918f45bfb0727a1be22fce89",
            "cb4bf74a02a647c9b03bc14b77e65fa7",
            "c635e1e1f7be415fbb2e6af5d2a5c11c",
            "cca818d8a7af4b2ca3fe2a04278f2392",
            "407dd5866e794453b0e435c3325b0368",
            "46379c249ab242f8b36d9f5aa36a4e5f",
            "ba3a9a0291d548d68bad3737cb96d284",
            "ddce3780c451446fb059bd0e3080a40f",
            "a672d516f36a486f94b25aab7a19449c",
            "5f223cca72f2473c8a9dcf0fb2bb2c04",
            "11660fd2743f46da887f14c4649ecd0c",
            "10591c9a7e4148898670ea8bcb664649",
            "98219983e83a4dc5bcb609d47a924d37",
            "398a2a5c7a2c440eaf174e002f6d49af",
            "b9105160e0624d8b802e19bae907a8b5",
            "bdb115e86bbf434493839cc7672cbf75",
            "b5be54a29ecd451e9a825f6bfa512a63",
            "2a3c27aa3a12434d81a00ad665c8af04"
          ]
        },
        "id": "qjCONPcK7twL",
        "outputId": "e4c05bf0-02ff-4b06-ab0a-a8a17fba8c3f"
      },
      "execution_count": 6,
      "outputs": [
        {
          "output_type": "stream",
          "name": "stdout",
          "text": [
            "Requirement already satisfied: datasets in /usr/local/lib/python3.10/dist-packages (2.20.0)\n",
            "Requirement already satisfied: filelock in /usr/local/lib/python3.10/dist-packages (from datasets) (3.15.4)\n",
            "Requirement already satisfied: numpy>=1.17 in /usr/local/lib/python3.10/dist-packages (from datasets) (1.25.2)\n",
            "Requirement already satisfied: pyarrow>=15.0.0 in /usr/local/lib/python3.10/dist-packages (from datasets) (17.0.0)\n",
            "Requirement already satisfied: pyarrow-hotfix in /usr/local/lib/python3.10/dist-packages (from datasets) (0.6)\n",
            "Requirement already satisfied: dill<0.3.9,>=0.3.0 in /usr/local/lib/python3.10/dist-packages (from datasets) (0.3.8)\n",
            "Requirement already satisfied: pandas in /usr/local/lib/python3.10/dist-packages (from datasets) (2.0.3)\n",
            "Requirement already satisfied: requests>=2.32.2 in /usr/local/lib/python3.10/dist-packages (from datasets) (2.32.3)\n",
            "Requirement already satisfied: tqdm>=4.66.3 in /usr/local/lib/python3.10/dist-packages (from datasets) (4.66.4)\n",
            "Requirement already satisfied: xxhash in /usr/local/lib/python3.10/dist-packages (from datasets) (3.4.1)\n",
            "Requirement already satisfied: multiprocess in /usr/local/lib/python3.10/dist-packages (from datasets) (0.70.16)\n",
            "Requirement already satisfied: fsspec<=2024.5.0,>=2023.1.0 in /usr/local/lib/python3.10/dist-packages (from fsspec[http]<=2024.5.0,>=2023.1.0->datasets) (2024.5.0)\n",
            "Requirement already satisfied: aiohttp in /usr/local/lib/python3.10/dist-packages (from datasets) (3.9.5)\n",
            "Requirement already satisfied: huggingface-hub>=0.21.2 in /usr/local/lib/python3.10/dist-packages (from datasets) (0.24.2)\n",
            "Requirement already satisfied: packaging in /usr/local/lib/python3.10/dist-packages (from datasets) (24.1)\n",
            "Requirement already satisfied: pyyaml>=5.1 in /usr/local/lib/python3.10/dist-packages (from datasets) (6.0.1)\n",
            "Requirement already satisfied: aiosignal>=1.1.2 in /usr/local/lib/python3.10/dist-packages (from aiohttp->datasets) (1.3.1)\n",
            "Requirement already satisfied: attrs>=17.3.0 in /usr/local/lib/python3.10/dist-packages (from aiohttp->datasets) (23.2.0)\n",
            "Requirement already satisfied: frozenlist>=1.1.1 in /usr/local/lib/python3.10/dist-packages (from aiohttp->datasets) (1.4.1)\n",
            "Requirement already satisfied: multidict<7.0,>=4.5 in /usr/local/lib/python3.10/dist-packages (from aiohttp->datasets) (6.0.5)\n",
            "Requirement already satisfied: yarl<2.0,>=1.0 in /usr/local/lib/python3.10/dist-packages (from aiohttp->datasets) (1.9.4)\n",
            "Requirement already satisfied: async-timeout<5.0,>=4.0 in /usr/local/lib/python3.10/dist-packages (from aiohttp->datasets) (4.0.3)\n",
            "Requirement already satisfied: typing-extensions>=3.7.4.3 in /usr/local/lib/python3.10/dist-packages (from huggingface-hub>=0.21.2->datasets) (4.12.2)\n",
            "Requirement already satisfied: charset-normalizer<4,>=2 in /usr/local/lib/python3.10/dist-packages (from requests>=2.32.2->datasets) (3.3.2)\n",
            "Requirement already satisfied: idna<4,>=2.5 in /usr/local/lib/python3.10/dist-packages (from requests>=2.32.2->datasets) (3.7)\n",
            "Requirement already satisfied: urllib3<3,>=1.21.1 in /usr/local/lib/python3.10/dist-packages (from requests>=2.32.2->datasets) (2.0.7)\n",
            "Requirement already satisfied: certifi>=2017.4.17 in /usr/local/lib/python3.10/dist-packages (from requests>=2.32.2->datasets) (2024.7.4)\n",
            "Requirement already satisfied: python-dateutil>=2.8.2 in /usr/local/lib/python3.10/dist-packages (from pandas->datasets) (2.8.2)\n",
            "Requirement already satisfied: pytz>=2020.1 in /usr/local/lib/python3.10/dist-packages (from pandas->datasets) (2024.1)\n",
            "Requirement already satisfied: tzdata>=2022.1 in /usr/local/lib/python3.10/dist-packages (from pandas->datasets) (2024.1)\n",
            "Requirement already satisfied: six>=1.5 in /usr/local/lib/python3.10/dist-packages (from python-dateutil>=2.8.2->pandas->datasets) (1.16.0)\n"
          ]
        },
        {
          "output_type": "stream",
          "name": "stderr",
          "text": [
            "/usr/local/lib/python3.10/dist-packages/huggingface_hub/utils/_token.py:89: UserWarning: \n",
            "The secret `HF_TOKEN` does not exist in your Colab secrets.\n",
            "To authenticate with the Hugging Face Hub, create a token in your settings tab (https://huggingface.co/settings/tokens), set it as secret in your Google Colab and restart your session.\n",
            "You will be able to reuse this secret in all of your notebooks.\n",
            "Please note that authentication is recommended but still optional to access public models or datasets.\n",
            "  warnings.warn(\n"
          ]
        },
        {
          "output_type": "display_data",
          "data": {
            "text/plain": [
              "Downloading readme:   0%|          | 0.00/485 [00:00<?, ?B/s]"
            ],
            "application/vnd.jupyter.widget-view+json": {
              "version_major": 2,
              "version_minor": 0,
              "model_id": "7a54a81ebf624ff79335ccbee51fb5fb"
            }
          },
          "metadata": {}
        },
        {
          "output_type": "display_data",
          "data": {
            "text/plain": [
              "Downloading data:   0%|          | 0.00/60.9M [00:00<?, ?B/s]"
            ],
            "application/vnd.jupyter.widget-view+json": {
              "version_major": 2,
              "version_minor": 0,
              "model_id": "ce62b3a25d664e40b5821dd7bea7cdd7"
            }
          },
          "metadata": {}
        },
        {
          "output_type": "display_data",
          "data": {
            "text/plain": [
              "Generating train split:   0%|          | 0/56402 [00:00<?, ? examples/s]"
            ],
            "application/vnd.jupyter.widget-view+json": {
              "version_major": 2,
              "version_minor": 0,
              "model_id": "ddce3780c451446fb059bd0e3080a40f"
            }
          },
          "metadata": {}
        }
      ]
    },
    {
      "cell_type": "code",
      "source": [
        "\n",
        "def preprocess_text(text):\n",
        "    tokens = word_tokenize(text)\n",
        "    tokens = [token for token in tokens if token.lower() not in stop_words]\n",
        "    tokens = [lemmatizer.lemmatize(token) for token in tokens]\n",
        "    return ' '.join(tokens)\n",
        "\n",
        "# Apply preprocessing to the 'question' and 'answer' columns\n",
        "dataset = dataset.map(lambda x: {'question': preprocess_text(x['question']),\n",
        "                                 'answer': preprocess_text(x['answer'])})\n",
        "\n",
        "# Convert dataset to pandas DataFrame for splitting\n",
        "df = dataset['train'].to_pandas()\n",
        "\n",
        "# Split the data into training and validation sets\n",
        "train_data, val_data = train_test_split(df, test_size=0.2, random_state=42)\n",
        "\n",
        "print(\"Training Data:\")\n",
        "print(train_data)\n",
        "print(\"\\nValidation Data:\")\n",
        "print(val_data)\n"
      ],
      "metadata": {
        "colab": {
          "base_uri": "https://localhost:8080/",
          "height": 1000,
          "referenced_widgets": [
            "25f849c596474af48b9ec5c25046e0ca",
            "dcf582866e7642f4996ef33610e5d7d3",
            "55d2dd14fd864b078a378c200fe75725",
            "5ced9896cb284ffe83dd2e1396a1fc23",
            "98942739af64473cb719c113c50dd013",
            "bedf5d93676f459aa9937753cb87a8c4",
            "9d495b8632b5482399c169d9f7b614e0",
            "c41a41a355b04dd48f264a2c4835c58f",
            "730a5a956bdb45e7aa288cd6b029c33f",
            "a750b3f4493a43468329ba4ebdf11064",
            "19224217080d483f9c640bb6342f035f",
            "132e2a3b45324242906de7cecfd1416e",
            "96323c9e87054855b4f69bb13ce3c91e",
            "784392e2cdc54d118f919f579648b49d",
            "98f54c682675458091921bc7f4319a7d",
            "b906857e46ea44c2b3e57df918d0f49e",
            "6cbafc77bafe4f2c945f512551cccc6c",
            "d906a0e2e059481e9b2ee7ef2dd82d0d",
            "be926d6659dc43e3aa92c6b5c62ec46e",
            "d1ff11c8c491427794487e0b8fb54aad",
            "5339d6eb64ff4b7c8e4491e73494a2f8",
            "78f55f97fbe146c0a7a036857ce91c29"
          ]
        },
        "id": "uY99ZPXS8VEJ",
        "outputId": "6cc4c699-48ba-4f15-ee5f-58611bf2cb94"
      },
      "execution_count": 8,
      "outputs": [
        {
          "output_type": "display_data",
          "data": {
            "text/plain": [
              "Map:   0%|          | 0/45121 [00:00<?, ? examples/s]"
            ],
            "application/vnd.jupyter.widget-view+json": {
              "version_major": 2,
              "version_minor": 0,
              "model_id": "25f849c596474af48b9ec5c25046e0ca"
            }
          },
          "metadata": {}
        },
        {
          "output_type": "display_data",
          "data": {
            "text/plain": [
              "Map:   0%|          | 0/11281 [00:00<?, ? examples/s]"
            ],
            "application/vnd.jupyter.widget-view+json": {
              "version_major": 2,
              "version_minor": 0,
              "model_id": "132e2a3b45324242906de7cecfd1416e"
            }
          },
          "metadata": {}
        },
        {
          "output_type": "stream",
          "name": "stdout",
          "text": [
            "Training Data:\n",
            "                                                question  \\\n",
            "17394                      Whats # 1 thing always pray ?   \n",
            "29099                          make final year project ?   \n",
            "42067  think President Biden 's revocation Keystone X...   \n",
            "24706  soldier pick fallen enemy weapon use ammo weap...   \n",
            "35644          Bangladesh powerful prosperous Pakistan ?   \n",
            "...                                                  ...   \n",
            "11284                         Putin care people Russia ?   \n",
            "44732                        's proper way eat sashimi ?   \n",
            "38158  fairly basic understanding Python . want learn...   \n",
            "860                http : //www.quora.com/profile/Me ...   \n",
            "15795  Heard lot guru say go deep go inside . go ? go...   \n",
            "\n",
            "                                                  answer  \n",
            "17394  One famous successful business maneuver recent...  \n",
            "29099  Explaining experience . start project idea res...  \n",
            "42067  Typical . democrat ’ give damn Americans . dem...  \n",
            "24706  ’ try give short answer . Regular force , rare...  \n",
            "35644  short answer Yes ! Bangladeshi people earn Pak...  \n",
            "...                                                  ...  \n",
            "11284  doubt às doubt Trump care American people . tw...  \n",
            "44732  bit soy sauce added dish ; much . add bit wasa...  \n",
            "38158  Yes , C++ essentially ++ addon C. need learn C...  \n",
            "860    ’ get either . California IPhone 7 . suspect Q...  \n",
            "15795  Quorans allow paraphrase Buddha moment ’ say :...  \n",
            "\n",
            "[36096 rows x 2 columns]\n",
            "\n",
            "Validation Data:\n",
            "                                                question  \\\n",
            "20525                       stop car someone cut brake ?   \n",
            "22468  autopilot system way diminish natural skill re...   \n",
            "7908           India weapon system USA Osama JeM chief ?   \n",
            "5262   Prince Andrew 'vocal ' Queen Charles 'should n...   \n",
            "31892  scoliosis , ensure side lower back engaged equ...   \n",
            "...                                                  ...   \n",
            "28095                          get call history number ?   \n",
            "24571                       stop car someone cut brake ?   \n",
            "42268                    main difference musical opera ?   \n",
            "43428  much table salt , weight , dissolve water make...   \n",
            "24362  United States much EU ? seems current US admin...   \n",
            "\n",
            "                                                  answer  \n",
            "20525       Gear look something soft hit ditch deep slow  \n",
            "22468  older aircraft know system throghly fit togath...  \n",
            "7908   seen movie Zero Dark Thirty get brief idea ext...  \n",
            "5262   know , come ? Mind , agree , Charles far old s...  \n",
            "31892  ca n't n't bother trying . Humans asymetrical ...  \n",
            "...                                                  ...  \n",
            "28095  possible find call history mobile phone number...  \n",
            "24571  effective way control vehicle speed engine bra...  \n",
            "42268  Nowadays , Music play big part people ’ life ....  \n",
            "43428  ’ give measurement . First , amount salt use c...  \n",
            "24362  Actually US ’ EU EU US enemy EU collapsed US e...  \n",
            "\n",
            "[9025 rows x 2 columns]\n"
          ]
        }
      ]
    },
    {
      "cell_type": "code",
      "source": [
        "# Convert dataset to pandas DataFrame\n",
        "df = pd.DataFrame(dataset['train'])\n",
        "\n"
      ],
      "metadata": {
        "id": "2XYgL6CYn--j"
      },
      "execution_count": 39,
      "outputs": []
    },
    {
      "cell_type": "code",
      "source": [
        "# To display the entirety of each row in the Dataset\n",
        "pd.set_option('display.max_colwidth', None)"
      ],
      "metadata": {
        "id": "q_iLWv3U_V6w"
      },
      "execution_count": 9,
      "outputs": []
    },
    {
      "cell_type": "code",
      "source": [
        "# Display first few rows of the dataset\n",
        "print(df.head())"
      ],
      "metadata": {
        "colab": {
          "base_uri": "https://localhost:8080/"
        },
        "id": "OmkuGqLa-VQL",
        "outputId": "4d6270f8-58da-49c5-9494-725586f351d7"
      },
      "execution_count": 40,
      "outputs": [
        {
          "output_type": "stream",
          "name": "stdout",
          "text": [
            "                                                                question  \\\n",
            "0              affordable web-based small business accounting software ?   \n",
            "1                    right Sweden enter NATO without Russia 's consent ?   \n",
            "2                              people still wear Speedo swimsuit beach ?   \n",
            "3  gun fanatic say fact 130 study proving gun control work ? deny fact ?   \n",
            "4                                        dog ever act offended him/her ?   \n",
            "\n",
            "                                                                                                                                                                                                                                                                                                                                                                                                                                                                                                                                                                                                                                                                                                                                                                                                           answer  \n",
            "0                                                                                                                                                                                                                                                                                                                                                                                                                                                                Hi , software simple & easy use . profit oriented accounting software . analyse budget upcoming financial year . Also view past data within second . free trail . Sign free trail : [ LINKED_TEXT : GST Invoicing , Accounting & Filling Software ] [ URL : http : //goo.gl/YA5QjJ ] best accounting software also easy use . try ! ! ! Thanks .  \n",
            "1  last knowledge update September 2021 , Sweden member NATO ( North Atlantic Treaty Organization ) . Therefore , enter NATO without Russia 's country 's consent . NATO political military alliance 30 member country North America Europe . country seek join NATO must go process accession , involves negotiation , meeting certain criterion , obtaining approval existing NATO member . Sweden 's foreign policy decision made government based national interest , security consideration , diplomatic relation . Whether country seek join military alliance like NATO sovereign decision typically based assessment security regional stability . development regarding Sweden 's NATO membership September 2021 , would recommend checking reliable up-to-date source get accurate information matter .  \n",
            "2                                                                                                                                                                                                                                                                                                                                                                                                                                                                                                                                                                                                                                                                                                                                                                                                            hope  \n",
            "3                                                                                                                                                                                                                                                                                                                                                                                                    gun fanatic . gun owner Second Amendment supporter . , ’ saying gun control worked city like Chicago , New York , Los Angeles , Memphis , etc ? appears criminal still gun . see…and probably come shock you…criminals ’ care law , let alone gun control law . Chicago strict gun control measure nothing prevent gun crime . real answer put criminal prison keeping long time . go ahead drink Kool-Aid .  \n",
            "4                                                                                                                                                                                                                                                                                                                                                                                                                                                                                                                                                                                                      Well , tend see look , lol . many adorable expression dog make look like expression make offended , worried , laughing , etc . short answer , time ! ’ asking doggie really offended , way knowing , lol .  \n"
          ]
        }
      ]
    },
    {
      "cell_type": "markdown",
      "source": [
        "Dataset Rows & Columns count"
      ],
      "metadata": {
        "id": "HUyixeyn_hoY"
      }
    },
    {
      "cell_type": "code",
      "source": [
        "# Dataset Rows & Columns count\n",
        "df.shape"
      ],
      "metadata": {
        "colab": {
          "base_uri": "https://localhost:8080/"
        },
        "id": "k8AQ3awH-YLG",
        "outputId": "6ea3ed95-a229-4ea3-c627-759ed5a64f0e"
      },
      "execution_count": 11,
      "outputs": [
        {
          "output_type": "execute_result",
          "data": {
            "text/plain": [
              "(45121, 2)"
            ]
          },
          "metadata": {},
          "execution_count": 11
        }
      ]
    },
    {
      "cell_type": "markdown",
      "source": [
        "Dataset Information"
      ],
      "metadata": {
        "id": "WXSEAeo9_pLl"
      }
    },
    {
      "cell_type": "code",
      "source": [
        "# Dataset Info\n",
        "df.info()"
      ],
      "metadata": {
        "colab": {
          "base_uri": "https://localhost:8080/"
        },
        "id": "ul9zuYos_lP1",
        "outputId": "f9c3b9f7-6df6-41f7-8973-0d2175759366"
      },
      "execution_count": 12,
      "outputs": [
        {
          "output_type": "stream",
          "name": "stdout",
          "text": [
            "<class 'pandas.core.frame.DataFrame'>\n",
            "RangeIndex: 45121 entries, 0 to 45120\n",
            "Data columns (total 2 columns):\n",
            " #   Column    Non-Null Count  Dtype \n",
            "---  ------    --------------  ----- \n",
            " 0   question  45121 non-null  object\n",
            " 1   answer    45121 non-null  object\n",
            "dtypes: object(2)\n",
            "memory usage: 705.1+ KB\n"
          ]
        }
      ]
    },
    {
      "cell_type": "markdown",
      "source": [
        "Duplicate Values"
      ],
      "metadata": {
        "id": "71Epmv7zAYEh"
      }
    },
    {
      "cell_type": "code",
      "source": [
        "# Dataset Duplicate Value Count\n",
        "df.duplicated().sum()"
      ],
      "metadata": {
        "colab": {
          "base_uri": "https://localhost:8080/"
        },
        "id": "Mis1tzj3_rtW",
        "outputId": "19c5e62e-1347-4e1f-ff28-2469d0453046"
      },
      "execution_count": 13,
      "outputs": [
        {
          "output_type": "execute_result",
          "data": {
            "text/plain": [
              "904"
            ]
          },
          "metadata": {},
          "execution_count": 13
        }
      ]
    },
    {
      "cell_type": "markdown",
      "source": [
        "Missing Values/Null Values"
      ],
      "metadata": {
        "id": "Q4vHrTnqAhw-"
      }
    },
    {
      "cell_type": "code",
      "source": [
        "# Missing Values/Null Values Count\n",
        "df.isna().sum()"
      ],
      "metadata": {
        "colab": {
          "base_uri": "https://localhost:8080/"
        },
        "id": "KgU7vu_sAeF7",
        "outputId": "9716416b-d7e2-4b6f-a953-279003ba7e0d"
      },
      "execution_count": 14,
      "outputs": [
        {
          "output_type": "execute_result",
          "data": {
            "text/plain": [
              "question    0\n",
              "answer      0\n",
              "dtype: int64"
            ]
          },
          "metadata": {},
          "execution_count": 14
        }
      ]
    },
    {
      "cell_type": "markdown",
      "source": [
        "Understanding Your Variables"
      ],
      "metadata": {
        "id": "FlCA6EF5YlmZ"
      }
    },
    {
      "cell_type": "code",
      "source": [
        "# Dataset Columns\n",
        "df.columns"
      ],
      "metadata": {
        "colab": {
          "base_uri": "https://localhost:8080/"
        },
        "id": "knvxRmV7AlMA",
        "outputId": "68edfdd6-0760-4beb-d392-1089f4eceb33"
      },
      "execution_count": 15,
      "outputs": [
        {
          "output_type": "execute_result",
          "data": {
            "text/plain": [
              "Index(['question', 'answer'], dtype='object')"
            ]
          },
          "metadata": {},
          "execution_count": 15
        }
      ]
    },
    {
      "cell_type": "code",
      "source": [
        "# Print the available columns in the DataFrame\n",
        "print(df.columns)"
      ],
      "metadata": {
        "colab": {
          "base_uri": "https://localhost:8080/"
        },
        "id": "PW-ay7nwY3xD",
        "outputId": "13a461eb-3e87-4395-d660-905a6915b8cf"
      },
      "execution_count": 17,
      "outputs": [
        {
          "output_type": "stream",
          "name": "stdout",
          "text": [
            "Index(['question', 'answer'], dtype='object')\n"
          ]
        }
      ]
    },
    {
      "cell_type": "markdown",
      "source": [
        "#Data Wrangling code"
      ],
      "metadata": {
        "id": "8XfQ1ivxpBG5"
      }
    },
    {
      "cell_type": "markdown",
      "source": [
        "Clean the text\n"
      ],
      "metadata": {
        "id": "djQgGIADoR8z"
      }
    },
    {
      "cell_type": "code",
      "source": [
        "\n",
        "import re\n",
        "\n",
        "def clean_text(text):\n",
        "    text = re.sub(r\"http\\S+\", \"\", text)  # Remove URLs\n",
        "    text = re.sub(r\"[^a-zA-Z0-9\\s]\", \"\", text)  # Remove special characters\n",
        "    text = text.lower()  # Convert to lowercase\n",
        "    return text\n",
        "\n",
        "df['question_cleaned'] = df['question'].apply(clean_text)\n",
        "df['answer_cleaned'] = df['answer'].apply(clean_text)\n",
        "\n",
        "print(df[['question_cleaned', 'answer_cleaned']])"
      ],
      "metadata": {
        "colab": {
          "base_uri": "https://localhost:8080/"
        },
        "id": "42CMQ70doRHO",
        "outputId": "b61b45eb-783b-4221-f62e-ab6f04149a92"
      },
      "execution_count": 42,
      "outputs": [
        {
          "output_type": "stream",
          "name": "stdout",
          "text": [
            "                                                                                               question_cleaned  \\\n",
            "0                                                       affordable webbased small business accounting software    \n",
            "1                                                             right sweden enter nato without russia s consent    \n",
            "2                                                                      people still wear speedo swimsuit beach    \n",
            "3                                           gun fanatic say fact 130 study proving gun control work  deny fact    \n",
            "4                                                                                 dog ever act offended himher    \n",
            "...                                                                                                         ...   \n",
            "45116                                                                                    hiking gear never buy    \n",
            "45117                                                                politely tell neighbor mowing grass short    \n",
            "45118                                                                         get someone s name mobile number    \n",
            "45119                                                                         best way get discount hotel room    \n",
            "45120  algorithm predicting hillary clinton  landslide victory 2016 presidential election get prediction wrong    \n",
            "\n",
            "                                                                                                                                                                                                                                                                                                                                                                                                                                                                                                                                                                                                                                                                                                                                                                                                                                                                                                                                                                                                                                                                                                                                                                                                                                                                                                                                          answer_cleaned  \n",
            "0                                                                                                                                                                                                                                                                                                                                                                                                                                                                                                                                                                                                                                                                                                                                                                                                                                                                                                                                                                                                                                  hi  software simple  easy use  profit oriented accounting software  analyse budget upcoming financial year  also view past data within second  free trail  sign free trail   linkedtext  gst invoicing  accounting  filling software   url  http  googlya5qjj  best accounting software also easy use  try    thanks   \n",
            "1                                                                                                                                                                                                                                                                                                                                                                                                                                                                                                                                                                last knowledge update september 2021  sweden member nato  north atlantic treaty organization   therefore  enter nato without russia s country s consent  nato political military alliance 30 member country north america europe  country seek join nato must go process accession  involves negotiation  meeting certain criterion  obtaining approval existing nato member  sweden s foreign policy decision made government based national interest  security consideration  diplomatic relation  whether country seek join military alliance like nato sovereign decision typically based assessment security regional stability  development regarding sweden s nato membership september 2021  would recommend checking reliable uptodate source get accurate information matter   \n",
            "2                                                                                                                                                                                                                                                                                                                                                                                                                                                                                                                                                                                                                                                                                                                                                                                                                                                                                                                                                                                                                                                                                                                                                                                                                                                                                                                                                   hope  \n",
            "3                                                                                                                                                                                                                                                                                                                                                                                                                                                                                                                                                                                                                                                                                                                                                                                                                                                                                                                                                              gun fanatic  gun owner second amendment supporter    saying gun control worked city like chicago  new york  los angeles  memphis  etc  appears criminal still gun  seeand probably come shock youcriminals  care law  let alone gun control law  chicago strict gun control measure nothing prevent gun crime  real answer put criminal prison keeping long time  go ahead drink koolaid   \n",
            "4                                                                                                                                                                                                                                                                                                                                                                                                                                                                                                                                                                                                                                                                                                                                                                                                                                                                                                                                                                                                                                                                                                                                                          well  tend see look  lol  many adorable expression dog make look like expression make offended  worried  laughing  etc  short answer  time   asking doggie really offended  way knowing  lol   \n",
            "...                                                                                                                                                                                                                                                                                                                                                                                                                                                                                                                                                                                                                                                                                                                                                                                                                                                                                                                                                                                                                                                                                                                                                                                                                                                                                                                                                  ...  \n",
            "45116                                                                                                                                                                                                                                                                                                                                                                                                                                                                                                                                                                                                                                                                                                                                                                                                                                                                                   one serve one hike  personally  prefer le stuff one good quality  like  linkedtext  hiking boot   url  http  wwwslivacoblog20161115buyinghikingshoes  fit perfectly  unfortunately  easy find one  also  linkedtext  good rain jacket   url  http  wwwslivacoblog20161102howtobuybestlightrainjacket  must opinion  hiking backpack  linkedtext  hiking pant   url  http  wwwslivacoblog20161020bestpantsforadventuretravel  welcome well  nt one worry survive   \n",
            "45117                                                                                                                                                                                                                                                                                                                                                                                                                                                                                                                                                                                                                                                                                                                                                                                                                                                                                                                                                                                                                                                                                                                                                                                                                                   politely tell neighbor mind fucking business  lawn rule  lawn rule  unless care take maintenance cost care lawn   \n",
            "45118                                                                                                                                                                                                                                                                                                                                                                                                                                                                                                                                                                                                                                                                                                                                                                                                                                                                                                                                                                                                                                                                                                                                                                                                                                                                                                                                                     \n",
            "45119  get lower price unpublished deal exclusive network deal hotel network ota  hotel rate tend change frequently  unlike flight   get best price booking early  hotels try achieve maximum occupancy tend offer deal  sometimes  offer lowest price book closer date stay  might risk losing best option wait  best way get desired hotel lower price track price  manually checking booking hotels com use service like yapta    still complicated sign service  find best hotel destination track regularly  however   smart alternative   linkedtext  waylo   url  http  thewaylocom  us ai track predict lowest hotel rate  access waylo chatbot facebook  linkedtext  messenger   url  http  mmethewaylo  refquora    linkedtext  mmethewaylo    url  http  mmethewaylo  refquora  sign required  waylo help find best hotel one chat  enter destination  date  eg  paris  21 july  waylo give best rated hotel destination option book track hotel directly messenger  best part waylo us artificial intelligence predict lowest price hotel room let book today price  example  hotel  200 expediabookinghotels com  waylo predicts might go low  120 date stay let book today price  crazy    book hotel  best possible rate one chat 3 tap  fast easy  try  linkedtext  waylo messenger best hotel deal   url  http  mmethewaylo  refquora    \n",
            "45120                                                                                                                                                                                                                                                                                                                                                                                                                                                                                                                                                                                                                                                                                                                                                                                                                                                                                                                                                                                                                                                                                                                   poll wrong  hillary 3 million vote  unfortunately  right state distributed way would made president  2016 classic example national poll meaningless  one national election  51 state district election   count  elect president   \n",
            "\n",
            "[45121 rows x 2 columns]\n"
          ]
        }
      ]
    },
    {
      "cell_type": "code",
      "source": [
        "import pandas as pd\n",
        "\n",
        "# Assuming _df_0 is your DataFrame\n",
        "data = [\n",
        "    {\n",
        "        \"question\": \"Affordable web-based small business accounting software?\",\n",
        "        \"answer\": (\"Hi, software simple & easy use. Profit-oriented accounting software. Analyze budget upcoming financial year. \"\n",
        "                   \"Also view past data within seconds. Free trial. Sign free trial: [GST Invoicing, Accounting & Filling Software](http://goo.gl/YA5QjJ) \"\n",
        "                   \"Best accounting software also easy use. Try! Thanks.\")\n",
        "    },\n",
        "    {\n",
        "        \"question\": \"Can Sweden enter NATO without Russia's consent?\",\n",
        "        \"answer\": (\"Last knowledge update September 2021, Sweden is not a member of NATO (North Atlantic Treaty Organization). Therefore, it can enter NATO without Russia's consent. \"\n",
        "                   \"NATO is a political and military alliance of 30 member countries in North America and Europe. Countries seeking to join NATO must go through a process of accession, \"\n",
        "                   \"which involves negotiations, meeting certain criteria, and obtaining approval from existing NATO members. Sweden's foreign policy decisions are made by its government \"\n",
        "                   \"based on national interests, security considerations, and diplomatic relations. Whether a country seeks to join a military alliance like NATO is a sovereign decision \"\n",
        "                   \"typically based on assessments of security and regional stability. For developments regarding Sweden's NATO membership since September 2021, it is recommended to check \"\n",
        "                   \"reliable, up-to-date sources for accurate information on the matter.\")\n",
        "    },\n",
        "    {\n",
        "        \"question\": \"Do people still wear Speedo swimsuits at the beach?\",\n",
        "        \"answer\": \"Hope.\"\n",
        "    },\n",
        "    {\n",
        "        \"question\": \"What do gun fanatics say about the fact that 130 studies prove gun control works? Why do they deny the facts?\",\n",
        "        \"answer\": (\"As a gun fanatic, or a gun owner and Second Amendment supporter, one might say that gun control has not worked in cities like Chicago, New York, Los Angeles, Memphis, etc. \"\n",
        "                   \"It appears that criminals still obtain guns. The belief is that criminals don’t care about the law, let alone gun control laws. Chicago has strict gun control measures but they \"\n",
        "                   \"have not prevented gun crime. The real answer, according to this view, is to put criminals in prison and keep them there for a long time. Hence, the opposition to gun control is based \"\n",
        "                   \"on the belief that it doesn't deter criminals.\")\n",
        "    },\n",
        "    {\n",
        "        \"question\": \"Does your dog ever act offended by you?\",\n",
        "        \"answer\": (\"Well, they tend to give you that look, lol. Many adorable expressions dogs make look like they are offended, worried, laughing, etc. In short, sometimes! If you're asking if a dog is \"\n",
        "                   \"really offended, there’s no way of truly knowing, lol.\")\n",
        "    }\n",
        "]\n",
        "\n",
        "# Printing the organized data\n",
        "for i, entry in enumerate(data, start=1):\n",
        "    print(f\"Entry {i}\")\n",
        "    print(f\"Question: {entry['question']}\")\n",
        "    print(f\"Answer: {entry['answer']}\")\n",
        "    print()\n",
        "\n",
        "\n",
        "_df_0 = pd.DataFrame(data)\n",
        "\n",
        "# Group by 'question' and calculate the size of each group\n",
        "question_distribution = _df_0.groupby('question').size().reset_index(name='count')\n",
        "\n",
        "# Print the distribution of questions\n",
        "print(\"Question Distribution:\")\n",
        "print(question_distribution)\n",
        "\n",
        "# Group by 'answer' and calculate the size of each group\n",
        "answer_distribution = _df_0.groupby('answer').size().reset_index(name='count')\n",
        "\n",
        "# Print the distribution of answers\n",
        "print(\"\\nAnswer Distribution:\")\n",
        "print(answer_distribution)\n"
      ],
      "metadata": {
        "colab": {
          "base_uri": "https://localhost:8080/"
        },
        "id": "JwhSF1HQYrfi",
        "outputId": "d6bf6754-228b-4783-d124-315d63cb3166"
      },
      "execution_count": 35,
      "outputs": [
        {
          "output_type": "stream",
          "name": "stdout",
          "text": [
            "Entry 1\n",
            "Question: Affordable web-based small business accounting software?\n",
            "Answer: Hi, software simple & easy use. Profit-oriented accounting software. Analyze budget upcoming financial year. Also view past data within seconds. Free trial. Sign free trial: [GST Invoicing, Accounting & Filling Software](http://goo.gl/YA5QjJ) Best accounting software also easy use. Try! Thanks.\n",
            "\n",
            "Entry 2\n",
            "Question: Can Sweden enter NATO without Russia's consent?\n",
            "Answer: Last knowledge update September 2021, Sweden is not a member of NATO (North Atlantic Treaty Organization). Therefore, it can enter NATO without Russia's consent. NATO is a political and military alliance of 30 member countries in North America and Europe. Countries seeking to join NATO must go through a process of accession, which involves negotiations, meeting certain criteria, and obtaining approval from existing NATO members. Sweden's foreign policy decisions are made by its government based on national interests, security considerations, and diplomatic relations. Whether a country seeks to join a military alliance like NATO is a sovereign decision typically based on assessments of security and regional stability. For developments regarding Sweden's NATO membership since September 2021, it is recommended to check reliable, up-to-date sources for accurate information on the matter.\n",
            "\n",
            "Entry 3\n",
            "Question: Do people still wear Speedo swimsuits at the beach?\n",
            "Answer: Hope.\n",
            "\n",
            "Entry 4\n",
            "Question: What do gun fanatics say about the fact that 130 studies prove gun control works? Why do they deny the facts?\n",
            "Answer: As a gun fanatic, or a gun owner and Second Amendment supporter, one might say that gun control has not worked in cities like Chicago, New York, Los Angeles, Memphis, etc. It appears that criminals still obtain guns. The belief is that criminals don’t care about the law, let alone gun control laws. Chicago has strict gun control measures but they have not prevented gun crime. The real answer, according to this view, is to put criminals in prison and keep them there for a long time. Hence, the opposition to gun control is based on the belief that it doesn't deter criminals.\n",
            "\n",
            "Entry 5\n",
            "Question: Does your dog ever act offended by you?\n",
            "Answer: Well, they tend to give you that look, lol. Many adorable expressions dogs make look like they are offended, worried, laughing, etc. In short, sometimes! If you're asking if a dog is really offended, there’s no way of truly knowing, lol.\n",
            "\n",
            "Question Distribution:\n",
            "                                                                                                        question  \\\n",
            "0                                                       Affordable web-based small business accounting software?   \n",
            "1                                                                Can Sweden enter NATO without Russia's consent?   \n",
            "2                                                            Do people still wear Speedo swimsuits at the beach?   \n",
            "3                                                                        Does your dog ever act offended by you?   \n",
            "4  What do gun fanatics say about the fact that 130 studies prove gun control works? Why do they deny the facts?   \n",
            "\n",
            "   count  \n",
            "0      1  \n",
            "1      1  \n",
            "2      1  \n",
            "3      1  \n",
            "4      1  \n",
            "\n",
            "Answer Distribution:\n",
            "                                                                                                                                                                                                                                                                                                                                                                                                                                                                                                                                                                                                                                                                                                                                                                                                                                                                                                                             answer  \\\n",
            "0                                                                                                                                                                                                                                                                                                                               As a gun fanatic, or a gun owner and Second Amendment supporter, one might say that gun control has not worked in cities like Chicago, New York, Los Angeles, Memphis, etc. It appears that criminals still obtain guns. The belief is that criminals don’t care about the law, let alone gun control laws. Chicago has strict gun control measures but they have not prevented gun crime. The real answer, according to this view, is to put criminals in prison and keep them there for a long time. Hence, the opposition to gun control is based on the belief that it doesn't deter criminals.   \n",
            "1                                                                                                                                                                                                                                                                                                                                                                                                                                                                                                                                                                                                                           Hi, software simple & easy use. Profit-oriented accounting software. Analyze budget upcoming financial year. Also view past data within seconds. Free trial. Sign free trial: [GST Invoicing, Accounting & Filling Software](http://goo.gl/YA5QjJ) Best accounting software also easy use. Try! Thanks.   \n",
            "2                                                                                                                                                                                                                                                                                                                                                                                                                                                                                                                                                                                                                                                                                                                                                                                                                                                                                                                             Hope.   \n",
            "3  Last knowledge update September 2021, Sweden is not a member of NATO (North Atlantic Treaty Organization). Therefore, it can enter NATO without Russia's consent. NATO is a political and military alliance of 30 member countries in North America and Europe. Countries seeking to join NATO must go through a process of accession, which involves negotiations, meeting certain criteria, and obtaining approval from existing NATO members. Sweden's foreign policy decisions are made by its government based on national interests, security considerations, and diplomatic relations. Whether a country seeks to join a military alliance like NATO is a sovereign decision typically based on assessments of security and regional stability. For developments regarding Sweden's NATO membership since September 2021, it is recommended to check reliable, up-to-date sources for accurate information on the matter.   \n",
            "4                                                                                                                                                                                                                                                                                                                                                                                                                                                                                                                                                                                                                                                                                     Well, they tend to give you that look, lol. Many adorable expressions dogs make look like they are offended, worried, laughing, etc. In short, sometimes! If you're asking if a dog is really offended, there’s no way of truly knowing, lol.   \n",
            "\n",
            "   count  \n",
            "0      1  \n",
            "1      1  \n",
            "2      1  \n",
            "3      1  \n",
            "4      1  \n"
          ]
        }
      ]
    },
    {
      "cell_type": "code",
      "source": [
        "\n",
        "# Printing the organized data\n",
        "for i, entry in enumerate(data, start=1):\n",
        "    print(f\"Entry {i}\")\n",
        "    print(f\"Question: {entry['question']}\")\n",
        "    print(f\"Answer: {entry['answer']}\")\n",
        "    print()"
      ],
      "metadata": {
        "colab": {
          "base_uri": "https://localhost:8080/"
        },
        "id": "wmWJB05Ycbzq",
        "outputId": "85b885e5-9ed7-4aa2-d478-ef0e2d5332e3"
      },
      "execution_count": 36,
      "outputs": [
        {
          "output_type": "stream",
          "name": "stdout",
          "text": [
            "Entry 1\n",
            "Question: Affordable web-based small business accounting software?\n",
            "Answer: Hi, software simple & easy use. Profit-oriented accounting software. Analyze budget upcoming financial year. Also view past data within seconds. Free trial. Sign free trial: [GST Invoicing, Accounting & Filling Software](http://goo.gl/YA5QjJ) Best accounting software also easy use. Try! Thanks.\n",
            "\n",
            "Entry 2\n",
            "Question: Can Sweden enter NATO without Russia's consent?\n",
            "Answer: Last knowledge update September 2021, Sweden is not a member of NATO (North Atlantic Treaty Organization). Therefore, it can enter NATO without Russia's consent. NATO is a political and military alliance of 30 member countries in North America and Europe. Countries seeking to join NATO must go through a process of accession, which involves negotiations, meeting certain criteria, and obtaining approval from existing NATO members. Sweden's foreign policy decisions are made by its government based on national interests, security considerations, and diplomatic relations. Whether a country seeks to join a military alliance like NATO is a sovereign decision typically based on assessments of security and regional stability. For developments regarding Sweden's NATO membership since September 2021, it is recommended to check reliable, up-to-date sources for accurate information on the matter.\n",
            "\n",
            "Entry 3\n",
            "Question: Do people still wear Speedo swimsuits at the beach?\n",
            "Answer: Hope.\n",
            "\n",
            "Entry 4\n",
            "Question: What do gun fanatics say about the fact that 130 studies prove gun control works? Why do they deny the facts?\n",
            "Answer: As a gun fanatic, or a gun owner and Second Amendment supporter, one might say that gun control has not worked in cities like Chicago, New York, Los Angeles, Memphis, etc. It appears that criminals still obtain guns. The belief is that criminals don’t care about the law, let alone gun control laws. Chicago has strict gun control measures but they have not prevented gun crime. The real answer, according to this view, is to put criminals in prison and keep them there for a long time. Hence, the opposition to gun control is based on the belief that it doesn't deter criminals.\n",
            "\n",
            "Entry 5\n",
            "Question: Does your dog ever act offended by you?\n",
            "Answer: Well, they tend to give you that look, lol. Many adorable expressions dogs make look like they are offended, worried, laughing, etc. In short, sometimes! If you're asking if a dog is really offended, there’s no way of truly knowing, lol.\n",
            "\n"
          ]
        }
      ]
    },
    {
      "cell_type": "markdown",
      "source": [
        "Tokenization"
      ],
      "metadata": {
        "id": "iQcbCqNFpPVJ"
      }
    },
    {
      "cell_type": "code",
      "source": [
        "import nltk\n",
        "from nltk.tokenize import word_tokenize\n",
        "\n",
        "nltk.download('punkt')\n",
        "\n",
        "df['question_tokens'] = df['question_cleaned'].apply(word_tokenize)\n",
        "df['answer_tokens'] = df['answer_cleaned'].apply(word_tokenize)\n",
        "\n",
        "print(df[['question_tokens', 'answer_tokens']])"
      ],
      "metadata": {
        "colab": {
          "base_uri": "https://localhost:8080/"
        },
        "id": "lhqR5xo0i3l9",
        "outputId": "4f9d4138-5652-41c0-e367-eb10df6b5ab7"
      },
      "execution_count": 43,
      "outputs": [
        {
          "output_type": "stream",
          "name": "stderr",
          "text": [
            "[nltk_data] Downloading package punkt to /root/nltk_data...\n",
            "[nltk_data]   Package punkt is already up-to-date!\n"
          ]
        },
        {
          "output_type": "stream",
          "name": "stdout",
          "text": [
            "                                                                                                           question_tokens  \\\n",
            "0                                                            [affordable, webbased, small, business, accounting, software]   \n",
            "1                                                                [right, sweden, enter, nato, without, russia, s, consent]   \n",
            "2                                                                           [people, still, wear, speedo, swimsuit, beach]   \n",
            "3                                           [gun, fanatic, say, fact, 130, study, proving, gun, control, work, deny, fact]   \n",
            "4                                                                                       [dog, ever, act, offended, himher]   \n",
            "...                                                                                                                    ...   \n",
            "45116                                                                                           [hiking, gear, never, buy]   \n",
            "45117                                                                     [politely, tell, neighbor, mowing, grass, short]   \n",
            "45118                                                                              [get, someone, s, name, mobile, number]   \n",
            "45119                                                                              [best, way, get, discount, hotel, room]   \n",
            "45120  [algorithm, predicting, hillary, clinton, landslide, victory, 2016, presidential, election, get, prediction, wrong]   \n",
            "\n",
            "                                                                                                                                                                                                                                                                                                                                                                                                                                                                                                                                                                                                                                                                                                                                                                                                                                                                  answer_tokens  \n",
            "0                                                                                                                                                                                                                                                                                                                                                                                                                                                                                                                                    [hi, software, simple, easy, use, profit, oriented, accounting, software, analyse, budget, upcoming, financial, year, also, view, past, data, within, second, free, trail, sign, free, trail, linkedtext, gst, invoicing, accounting, filling, software, url, http, googlya5qjj, best, accounting, software, also, easy, use, try, thanks]  \n",
            "1      [last, knowledge, update, september, 2021, sweden, member, nato, north, atlantic, treaty, organization, therefore, enter, nato, without, russia, s, country, s, consent, nato, political, military, alliance, 30, member, country, north, america, europe, country, seek, join, nato, must, go, process, accession, involves, negotiation, meeting, certain, criterion, obtaining, approval, existing, nato, member, sweden, s, foreign, policy, decision, made, government, based, national, interest, security, consideration, diplomatic, relation, whether, country, seek, join, military, alliance, like, nato, sovereign, decision, typically, based, assessment, security, regional, stability, development, regarding, sweden, s, nato, membership, september, 2021, would, recommend, checking, reliable, uptodate, source, get, accurate, information, matter]  \n",
            "2                                                                                                                                                                                                                                                                                                                                                                                                                                                                                                                                                                                                                                                                                                                                                                                                                                                                        [hope]  \n",
            "3                                                                                                                                                                                                                                                                                                                                                                                                                                           [gun, fanatic, gun, owner, second, amendment, supporter, saying, gun, control, worked, city, like, chicago, new, york, los, angeles, memphis, etc, appears, criminal, still, gun, seeand, probably, come, shock, youcriminals, care, law, let, alone, gun, control, law, chicago, strict, gun, control, measure, nothing, prevent, gun, crime, real, answer, put, criminal, prison, keeping, long, time, go, ahead, drink, koolaid]  \n",
            "4                                                                                                                                                                                                                                                                                                                                                                                                                                                                                                                                                                                                                                                                 [well, tend, see, look, lol, many, adorable, expression, dog, make, look, like, expression, make, offended, worried, laughing, etc, short, answer, time, asking, doggie, really, offended, way, knowing, lol]  \n",
            "...                                                                                                                                                                                                                                                                                                                                                                                                                                                                                                                                                                                                                                                                                                                                                                                                                                                                         ...  \n",
            "45116                                                                                                                                                                                                                                                                                                                                                                                       [one, serve, one, hike, personally, prefer, le, stuff, one, good, quality, like, linkedtext, hiking, boot, url, http, wwwslivacoblog20161115buyinghikingshoes, fit, perfectly, unfortunately, easy, find, one, also, linkedtext, good, rain, jacket, url, http, wwwslivacoblog20161102howtobuybestlightrainjacket, must, opinion, hiking, backpack, linkedtext, hiking, pant, url, http, wwwslivacoblog20161020bestpantsforadventuretravel, welcome, well, nt, one, worry, survive]  \n",
            "45117                                                                                                                                                                                                                                                                                                                                                                                                                                                                                                                                                                                                                                                                                                                                            [politely, tell, neighbor, mind, fucking, business, lawn, rule, lawn, rule, unless, care, take, maintenance, cost, care, lawn]  \n",
            "45118                                                                                                                                                                                                                                                                                                                                                                                                                                                                                                                                                                                                                                                                                                                                                                                                                                                                        []  \n",
            "45119                                                       [get, lower, price, unpublished, deal, exclusive, network, deal, hotel, network, ota, hotel, rate, tend, change, frequently, unlike, flight, get, best, price, booking, early, hotels, try, achieve, maximum, occupancy, tend, offer, deal, sometimes, offer, lowest, price, book, closer, date, stay, might, risk, losing, best, option, wait, best, way, get, desired, hotel, lower, price, track, price, manually, checking, booking, hotels, com, use, service, like, yapta, still, complicated, sign, service, find, best, hotel, destination, track, regularly, however, smart, alternative, linkedtext, waylo, url, http, thewaylocom, us, ai, track, predict, lowest, hotel, rate, access, waylo, chatbot, facebook, linkedtext, messenger, url, http, mmethewaylo, refquora, linkedtext, mmethewaylo, ...]  \n",
            "45120                                                                                                                                                                                                                                                                                                                                                                                                                                                                                                                                                                                                                     [poll, wrong, hillary, 3, million, vote, unfortunately, right, state, distributed, way, would, made, president, 2016, classic, example, national, poll, meaningless, one, national, election, 51, state, district, election, count, elect, president]  \n",
            "\n",
            "[45121 rows x 2 columns]\n"
          ]
        }
      ]
    },
    {
      "cell_type": "markdown",
      "source": [
        "Remove Stop Words and Lemmitization"
      ],
      "metadata": {
        "id": "EG5-Z_ippkmu"
      }
    },
    {
      "cell_type": "code",
      "source": [
        "from nltk.corpus import stopwords\n",
        "from nltk.stem import WordNetLemmatizer\n",
        "\n",
        "nltk.download('stopwords')\n",
        "nltk.download('wordnet')\n",
        "\n",
        "stop_words = set(stopwords.words('english'))\n",
        "lemmatizer = WordNetLemmatizer()\n",
        "\n",
        "def preprocess_tokens(tokens):\n",
        "    tokens = [token for token in tokens if token not in stop_words]\n",
        "    tokens = [lemmatizer.lemmatize(token) for token in tokens]\n",
        "    return tokens\n",
        "\n",
        "df['question_processed'] = df['question_tokens'].apply(preprocess_tokens)\n",
        "df['answer_processed'] = df['answer_tokens'].apply(preprocess_tokens)\n",
        "\n",
        "print(df[['question_processed', 'answer_processed']])\n"
      ],
      "metadata": {
        "id": "uZlIlJhepn4L",
        "outputId": "ffa67653-beb8-4bdf-caa8-a39228c0bc95",
        "colab": {
          "base_uri": "https://localhost:8080/"
        }
      },
      "execution_count": 44,
      "outputs": [
        {
          "output_type": "stream",
          "name": "stderr",
          "text": [
            "[nltk_data] Downloading package stopwords to /root/nltk_data...\n",
            "[nltk_data]   Package stopwords is already up-to-date!\n",
            "[nltk_data] Downloading package wordnet to /root/nltk_data...\n",
            "[nltk_data]   Package wordnet is already up-to-date!\n"
          ]
        },
        {
          "output_type": "stream",
          "name": "stdout",
          "text": [
            "                                                                                                        question_processed  \\\n",
            "0                                                            [affordable, webbased, small, business, accounting, software]   \n",
            "1                                                                   [right, sweden, enter, nato, without, russia, consent]   \n",
            "2                                                                           [people, still, wear, speedo, swimsuit, beach]   \n",
            "3                                           [gun, fanatic, say, fact, 130, study, proving, gun, control, work, deny, fact]   \n",
            "4                                                                                       [dog, ever, act, offended, himher]   \n",
            "...                                                                                                                    ...   \n",
            "45116                                                                                           [hiking, gear, never, buy]   \n",
            "45117                                                                     [politely, tell, neighbor, mowing, grass, short]   \n",
            "45118                                                                                 [get, someone, name, mobile, number]   \n",
            "45119                                                                              [best, way, get, discount, hotel, room]   \n",
            "45120  [algorithm, predicting, hillary, clinton, landslide, victory, 2016, presidential, election, get, prediction, wrong]   \n",
            "\n",
            "                                                                                                                                                                                                                                                                                                                                                                                                                                                                                                                                                                                                                                                                                                                                                                                                                                                   answer_processed  \n",
            "0                                                                                                                                                                                                                                                                                                                                                                                                                                                                                                                        [hi, software, simple, easy, use, profit, oriented, accounting, software, analyse, budget, upcoming, financial, year, also, view, past, data, within, second, free, trail, sign, free, trail, linkedtext, gst, invoicing, accounting, filling, software, url, http, googlya5qjj, best, accounting, software, also, easy, use, try, thanks]  \n",
            "1      [last, knowledge, update, september, 2021, sweden, member, nato, north, atlantic, treaty, organization, therefore, enter, nato, without, russia, country, consent, nato, political, military, alliance, 30, member, country, north, america, europe, country, seek, join, nato, must, go, process, accession, involves, negotiation, meeting, certain, criterion, obtaining, approval, existing, nato, member, sweden, foreign, policy, decision, made, government, based, national, interest, security, consideration, diplomatic, relation, whether, country, seek, join, military, alliance, like, nato, sovereign, decision, typically, based, assessment, security, regional, stability, development, regarding, sweden, nato, membership, september, 2021, would, recommend, checking, reliable, uptodate, source, get, accurate, information, matter]  \n",
            "2                                                                                                                                                                                                                                                                                                                                                                                                                                                                                                                                                                                                                                                                                                                                                                                                                                                            [hope]  \n",
            "3                                                                                                                                                                                                                                                                                                                                                                                                                               [gun, fanatic, gun, owner, second, amendment, supporter, saying, gun, control, worked, city, like, chicago, new, york, los, angeles, memphis, etc, appears, criminal, still, gun, seeand, probably, come, shock, youcriminals, care, law, let, alone, gun, control, law, chicago, strict, gun, control, measure, nothing, prevent, gun, crime, real, answer, put, criminal, prison, keeping, long, time, go, ahead, drink, koolaid]  \n",
            "4                                                                                                                                                                                                                                                                                                                                                                                                                                                                                                                                                                                                                                                     [well, tend, see, look, lol, many, adorable, expression, dog, make, look, like, expression, make, offended, worried, laughing, etc, short, answer, time, asking, doggie, really, offended, way, knowing, lol]  \n",
            "...                                                                                                                                                                                                                                                                                                                                                                                                                                                                                                                                                                                                                                                                                                                                                                                                                                                             ...  \n",
            "45116                                                                                                                                                                                                                                                                                                                                                                           [one, serve, one, hike, personally, prefer, le, stuff, one, good, quality, like, linkedtext, hiking, boot, url, http, wwwslivacoblog20161115buyinghikingshoes, fit, perfectly, unfortunately, easy, find, one, also, linkedtext, good, rain, jacket, url, http, wwwslivacoblog20161102howtobuybestlightrainjacket, must, opinion, hiking, backpack, linkedtext, hiking, pant, url, http, wwwslivacoblog20161020bestpantsforadventuretravel, welcome, well, nt, one, worry, survive]  \n",
            "45117                                                                                                                                                                                                                                                                                                                                                                                                                                                                                                                                                                                                                                                                                                                                [politely, tell, neighbor, mind, fucking, business, lawn, rule, lawn, rule, unless, care, take, maintenance, cost, care, lawn]  \n",
            "45118                                                                                                                                                                                                                                                                                                                                                                                                                                                                                                                                                                                                                                                                                                                                                                                                                                                            []  \n",
            "45119                                              [get, lower, price, unpublished, deal, exclusive, network, deal, hotel, network, ota, hotel, rate, tend, change, frequently, unlike, flight, get, best, price, booking, early, hotel, try, achieve, maximum, occupancy, tend, offer, deal, sometimes, offer, lowest, price, book, closer, date, stay, might, risk, losing, best, option, wait, best, way, get, desired, hotel, lower, price, track, price, manually, checking, booking, hotel, com, use, service, like, yapta, still, complicated, sign, service, find, best, hotel, destination, track, regularly, however, smart, alternative, linkedtext, waylo, url, http, thewaylocom, u, ai, track, predict, lowest, hotel, rate, access, waylo, chatbot, facebook, linkedtext, messenger, url, http, mmethewaylo, refquora, linkedtext, mmethewaylo, ...]  \n",
            "45120                                                                                                                                                                                                                                                                                                                                                                                                                                                                                                                                                                                                         [poll, wrong, hillary, 3, million, vote, unfortunately, right, state, distributed, way, would, made, president, 2016, classic, example, national, poll, meaningless, one, national, election, 51, state, district, election, count, elect, president]  \n",
            "\n",
            "[45121 rows x 2 columns]\n"
          ]
        }
      ]
    },
    {
      "cell_type": "code",
      "source": [],
      "metadata": {
        "id": "3Q4OajH6pqlK"
      },
      "execution_count": null,
      "outputs": []
    }
  ]
}