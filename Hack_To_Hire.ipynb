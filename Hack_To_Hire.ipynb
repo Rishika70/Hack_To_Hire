{
  "nbformat": 4,
  "nbformat_minor": 0,
  "metadata": {
    "colab": {
      "provenance": [],
      "gpuType": "T4",
      "authorship_tag": "ABX9TyPBeZsA5DnIvcYOGSH2vb6D",
      "include_colab_link": true
    },
    "kernelspec": {
      "name": "python3",
      "display_name": "Python 3"
    },
    "language_info": {
      "name": "python"
    },
    "accelerator": "GPU",
    "widgets": {
      "application/vnd.jupyter.widget-state+json": {
        "81b718aefe1f4ddb98e06236f818a7cd": {
          "model_module": "@jupyter-widgets/controls",
          "model_name": "HBoxModel",
          "model_module_version": "1.5.0",
          "state": {
            "_dom_classes": [],
            "_model_module": "@jupyter-widgets/controls",
            "_model_module_version": "1.5.0",
            "_model_name": "HBoxModel",
            "_view_count": null,
            "_view_module": "@jupyter-widgets/controls",
            "_view_module_version": "1.5.0",
            "_view_name": "HBoxView",
            "box_style": "",
            "children": [
              "IPY_MODEL_4dfb40a66c1645eab12405b9a6d9afd0",
              "IPY_MODEL_7f17a17610e24fc5bb1dfb2120b6ab03",
              "IPY_MODEL_308482b6a0ca4e45aac3821ab7bd139b"
            ],
            "layout": "IPY_MODEL_ae83e1da13e2470abc444b2467a29dbd"
          }
        },
        "4dfb40a66c1645eab12405b9a6d9afd0": {
          "model_module": "@jupyter-widgets/controls",
          "model_name": "HTMLModel",
          "model_module_version": "1.5.0",
          "state": {
            "_dom_classes": [],
            "_model_module": "@jupyter-widgets/controls",
            "_model_module_version": "1.5.0",
            "_model_name": "HTMLModel",
            "_view_count": null,
            "_view_module": "@jupyter-widgets/controls",
            "_view_module_version": "1.5.0",
            "_view_name": "HTMLView",
            "description": "",
            "description_tooltip": null,
            "layout": "IPY_MODEL_8dab4bd5023f468ca823faa60284b6f4",
            "placeholder": "​",
            "style": "IPY_MODEL_fb86cac74b8d49e6a35c606c0716fe57",
            "value": "Map: 100%"
          }
        },
        "7f17a17610e24fc5bb1dfb2120b6ab03": {
          "model_module": "@jupyter-widgets/controls",
          "model_name": "FloatProgressModel",
          "model_module_version": "1.5.0",
          "state": {
            "_dom_classes": [],
            "_model_module": "@jupyter-widgets/controls",
            "_model_module_version": "1.5.0",
            "_model_name": "FloatProgressModel",
            "_view_count": null,
            "_view_module": "@jupyter-widgets/controls",
            "_view_module_version": "1.5.0",
            "_view_name": "ProgressView",
            "bar_style": "success",
            "description": "",
            "description_tooltip": null,
            "layout": "IPY_MODEL_9a4dd505259c4270b323e2a966cd883d",
            "max": 40608,
            "min": 0,
            "orientation": "horizontal",
            "style": "IPY_MODEL_45e50e81b02e4a4294cca541da2d564c",
            "value": 40608
          }
        },
        "308482b6a0ca4e45aac3821ab7bd139b": {
          "model_module": "@jupyter-widgets/controls",
          "model_name": "HTMLModel",
          "model_module_version": "1.5.0",
          "state": {
            "_dom_classes": [],
            "_model_module": "@jupyter-widgets/controls",
            "_model_module_version": "1.5.0",
            "_model_name": "HTMLModel",
            "_view_count": null,
            "_view_module": "@jupyter-widgets/controls",
            "_view_module_version": "1.5.0",
            "_view_name": "HTMLView",
            "description": "",
            "description_tooltip": null,
            "layout": "IPY_MODEL_daecfb737ea042a0af77a5913c08164b",
            "placeholder": "​",
            "style": "IPY_MODEL_6ecdfed32e324d11acac01563d0877d1",
            "value": " 40608/40608 [00:37&lt;00:00, 1096.42 examples/s]"
          }
        },
        "ae83e1da13e2470abc444b2467a29dbd": {
          "model_module": "@jupyter-widgets/base",
          "model_name": "LayoutModel",
          "model_module_version": "1.2.0",
          "state": {
            "_model_module": "@jupyter-widgets/base",
            "_model_module_version": "1.2.0",
            "_model_name": "LayoutModel",
            "_view_count": null,
            "_view_module": "@jupyter-widgets/base",
            "_view_module_version": "1.2.0",
            "_view_name": "LayoutView",
            "align_content": null,
            "align_items": null,
            "align_self": null,
            "border": null,
            "bottom": null,
            "display": null,
            "flex": null,
            "flex_flow": null,
            "grid_area": null,
            "grid_auto_columns": null,
            "grid_auto_flow": null,
            "grid_auto_rows": null,
            "grid_column": null,
            "grid_gap": null,
            "grid_row": null,
            "grid_template_areas": null,
            "grid_template_columns": null,
            "grid_template_rows": null,
            "height": null,
            "justify_content": null,
            "justify_items": null,
            "left": null,
            "margin": null,
            "max_height": null,
            "max_width": null,
            "min_height": null,
            "min_width": null,
            "object_fit": null,
            "object_position": null,
            "order": null,
            "overflow": null,
            "overflow_x": null,
            "overflow_y": null,
            "padding": null,
            "right": null,
            "top": null,
            "visibility": null,
            "width": null
          }
        },
        "8dab4bd5023f468ca823faa60284b6f4": {
          "model_module": "@jupyter-widgets/base",
          "model_name": "LayoutModel",
          "model_module_version": "1.2.0",
          "state": {
            "_model_module": "@jupyter-widgets/base",
            "_model_module_version": "1.2.0",
            "_model_name": "LayoutModel",
            "_view_count": null,
            "_view_module": "@jupyter-widgets/base",
            "_view_module_version": "1.2.0",
            "_view_name": "LayoutView",
            "align_content": null,
            "align_items": null,
            "align_self": null,
            "border": null,
            "bottom": null,
            "display": null,
            "flex": null,
            "flex_flow": null,
            "grid_area": null,
            "grid_auto_columns": null,
            "grid_auto_flow": null,
            "grid_auto_rows": null,
            "grid_column": null,
            "grid_gap": null,
            "grid_row": null,
            "grid_template_areas": null,
            "grid_template_columns": null,
            "grid_template_rows": null,
            "height": null,
            "justify_content": null,
            "justify_items": null,
            "left": null,
            "margin": null,
            "max_height": null,
            "max_width": null,
            "min_height": null,
            "min_width": null,
            "object_fit": null,
            "object_position": null,
            "order": null,
            "overflow": null,
            "overflow_x": null,
            "overflow_y": null,
            "padding": null,
            "right": null,
            "top": null,
            "visibility": null,
            "width": null
          }
        },
        "fb86cac74b8d49e6a35c606c0716fe57": {
          "model_module": "@jupyter-widgets/controls",
          "model_name": "DescriptionStyleModel",
          "model_module_version": "1.5.0",
          "state": {
            "_model_module": "@jupyter-widgets/controls",
            "_model_module_version": "1.5.0",
            "_model_name": "DescriptionStyleModel",
            "_view_count": null,
            "_view_module": "@jupyter-widgets/base",
            "_view_module_version": "1.2.0",
            "_view_name": "StyleView",
            "description_width": ""
          }
        },
        "9a4dd505259c4270b323e2a966cd883d": {
          "model_module": "@jupyter-widgets/base",
          "model_name": "LayoutModel",
          "model_module_version": "1.2.0",
          "state": {
            "_model_module": "@jupyter-widgets/base",
            "_model_module_version": "1.2.0",
            "_model_name": "LayoutModel",
            "_view_count": null,
            "_view_module": "@jupyter-widgets/base",
            "_view_module_version": "1.2.0",
            "_view_name": "LayoutView",
            "align_content": null,
            "align_items": null,
            "align_self": null,
            "border": null,
            "bottom": null,
            "display": null,
            "flex": null,
            "flex_flow": null,
            "grid_area": null,
            "grid_auto_columns": null,
            "grid_auto_flow": null,
            "grid_auto_rows": null,
            "grid_column": null,
            "grid_gap": null,
            "grid_row": null,
            "grid_template_areas": null,
            "grid_template_columns": null,
            "grid_template_rows": null,
            "height": null,
            "justify_content": null,
            "justify_items": null,
            "left": null,
            "margin": null,
            "max_height": null,
            "max_width": null,
            "min_height": null,
            "min_width": null,
            "object_fit": null,
            "object_position": null,
            "order": null,
            "overflow": null,
            "overflow_x": null,
            "overflow_y": null,
            "padding": null,
            "right": null,
            "top": null,
            "visibility": null,
            "width": null
          }
        },
        "45e50e81b02e4a4294cca541da2d564c": {
          "model_module": "@jupyter-widgets/controls",
          "model_name": "ProgressStyleModel",
          "model_module_version": "1.5.0",
          "state": {
            "_model_module": "@jupyter-widgets/controls",
            "_model_module_version": "1.5.0",
            "_model_name": "ProgressStyleModel",
            "_view_count": null,
            "_view_module": "@jupyter-widgets/base",
            "_view_module_version": "1.2.0",
            "_view_name": "StyleView",
            "bar_color": null,
            "description_width": ""
          }
        },
        "daecfb737ea042a0af77a5913c08164b": {
          "model_module": "@jupyter-widgets/base",
          "model_name": "LayoutModel",
          "model_module_version": "1.2.0",
          "state": {
            "_model_module": "@jupyter-widgets/base",
            "_model_module_version": "1.2.0",
            "_model_name": "LayoutModel",
            "_view_count": null,
            "_view_module": "@jupyter-widgets/base",
            "_view_module_version": "1.2.0",
            "_view_name": "LayoutView",
            "align_content": null,
            "align_items": null,
            "align_self": null,
            "border": null,
            "bottom": null,
            "display": null,
            "flex": null,
            "flex_flow": null,
            "grid_area": null,
            "grid_auto_columns": null,
            "grid_auto_flow": null,
            "grid_auto_rows": null,
            "grid_column": null,
            "grid_gap": null,
            "grid_row": null,
            "grid_template_areas": null,
            "grid_template_columns": null,
            "grid_template_rows": null,
            "height": null,
            "justify_content": null,
            "justify_items": null,
            "left": null,
            "margin": null,
            "max_height": null,
            "max_width": null,
            "min_height": null,
            "min_width": null,
            "object_fit": null,
            "object_position": null,
            "order": null,
            "overflow": null,
            "overflow_x": null,
            "overflow_y": null,
            "padding": null,
            "right": null,
            "top": null,
            "visibility": null,
            "width": null
          }
        },
        "6ecdfed32e324d11acac01563d0877d1": {
          "model_module": "@jupyter-widgets/controls",
          "model_name": "DescriptionStyleModel",
          "model_module_version": "1.5.0",
          "state": {
            "_model_module": "@jupyter-widgets/controls",
            "_model_module_version": "1.5.0",
            "_model_name": "DescriptionStyleModel",
            "_view_count": null,
            "_view_module": "@jupyter-widgets/base",
            "_view_module_version": "1.2.0",
            "_view_name": "StyleView",
            "description_width": ""
          }
        },
        "50bcdbec164f43fe9961eb92739b5929": {
          "model_module": "@jupyter-widgets/controls",
          "model_name": "HBoxModel",
          "model_module_version": "1.5.0",
          "state": {
            "_dom_classes": [],
            "_model_module": "@jupyter-widgets/controls",
            "_model_module_version": "1.5.0",
            "_model_name": "HBoxModel",
            "_view_count": null,
            "_view_module": "@jupyter-widgets/controls",
            "_view_module_version": "1.5.0",
            "_view_name": "HBoxView",
            "box_style": "",
            "children": [
              "IPY_MODEL_593399ff19f54470a49f613d331ac8cd",
              "IPY_MODEL_6fb4c716d58347afb558b1b863ba3509",
              "IPY_MODEL_368afe878b484a18b2d86d5800808a04"
            ],
            "layout": "IPY_MODEL_1abc52218b204f688c3561b38a9200fc"
          }
        },
        "593399ff19f54470a49f613d331ac8cd": {
          "model_module": "@jupyter-widgets/controls",
          "model_name": "HTMLModel",
          "model_module_version": "1.5.0",
          "state": {
            "_dom_classes": [],
            "_model_module": "@jupyter-widgets/controls",
            "_model_module_version": "1.5.0",
            "_model_name": "HTMLModel",
            "_view_count": null,
            "_view_module": "@jupyter-widgets/controls",
            "_view_module_version": "1.5.0",
            "_view_name": "HTMLView",
            "description": "",
            "description_tooltip": null,
            "layout": "IPY_MODEL_baa9616321574372963c9bbc32b6a1b2",
            "placeholder": "​",
            "style": "IPY_MODEL_39409c824aab465a9cd2ae6b6dfebbfc",
            "value": "Map: 100%"
          }
        },
        "6fb4c716d58347afb558b1b863ba3509": {
          "model_module": "@jupyter-widgets/controls",
          "model_name": "FloatProgressModel",
          "model_module_version": "1.5.0",
          "state": {
            "_dom_classes": [],
            "_model_module": "@jupyter-widgets/controls",
            "_model_module_version": "1.5.0",
            "_model_name": "FloatProgressModel",
            "_view_count": null,
            "_view_module": "@jupyter-widgets/controls",
            "_view_module_version": "1.5.0",
            "_view_name": "ProgressView",
            "bar_style": "success",
            "description": "",
            "description_tooltip": null,
            "layout": "IPY_MODEL_9a4e9de514f64c55832d4a734172a7a7",
            "max": 4513,
            "min": 0,
            "orientation": "horizontal",
            "style": "IPY_MODEL_a6f90cc7d95f478f99ab91924b226ab1",
            "value": 4513
          }
        },
        "368afe878b484a18b2d86d5800808a04": {
          "model_module": "@jupyter-widgets/controls",
          "model_name": "HTMLModel",
          "model_module_version": "1.5.0",
          "state": {
            "_dom_classes": [],
            "_model_module": "@jupyter-widgets/controls",
            "_model_module_version": "1.5.0",
            "_model_name": "HTMLModel",
            "_view_count": null,
            "_view_module": "@jupyter-widgets/controls",
            "_view_module_version": "1.5.0",
            "_view_name": "HTMLView",
            "description": "",
            "description_tooltip": null,
            "layout": "IPY_MODEL_b5d5564f89b84a76a03d551506a0bf5e",
            "placeholder": "​",
            "style": "IPY_MODEL_4261576cbfca4b9991c9c0e0b1538fdc",
            "value": " 4513/4513 [00:03&lt;00:00, 1398.44 examples/s]"
          }
        },
        "1abc52218b204f688c3561b38a9200fc": {
          "model_module": "@jupyter-widgets/base",
          "model_name": "LayoutModel",
          "model_module_version": "1.2.0",
          "state": {
            "_model_module": "@jupyter-widgets/base",
            "_model_module_version": "1.2.0",
            "_model_name": "LayoutModel",
            "_view_count": null,
            "_view_module": "@jupyter-widgets/base",
            "_view_module_version": "1.2.0",
            "_view_name": "LayoutView",
            "align_content": null,
            "align_items": null,
            "align_self": null,
            "border": null,
            "bottom": null,
            "display": null,
            "flex": null,
            "flex_flow": null,
            "grid_area": null,
            "grid_auto_columns": null,
            "grid_auto_flow": null,
            "grid_auto_rows": null,
            "grid_column": null,
            "grid_gap": null,
            "grid_row": null,
            "grid_template_areas": null,
            "grid_template_columns": null,
            "grid_template_rows": null,
            "height": null,
            "justify_content": null,
            "justify_items": null,
            "left": null,
            "margin": null,
            "max_height": null,
            "max_width": null,
            "min_height": null,
            "min_width": null,
            "object_fit": null,
            "object_position": null,
            "order": null,
            "overflow": null,
            "overflow_x": null,
            "overflow_y": null,
            "padding": null,
            "right": null,
            "top": null,
            "visibility": null,
            "width": null
          }
        },
        "baa9616321574372963c9bbc32b6a1b2": {
          "model_module": "@jupyter-widgets/base",
          "model_name": "LayoutModel",
          "model_module_version": "1.2.0",
          "state": {
            "_model_module": "@jupyter-widgets/base",
            "_model_module_version": "1.2.0",
            "_model_name": "LayoutModel",
            "_view_count": null,
            "_view_module": "@jupyter-widgets/base",
            "_view_module_version": "1.2.0",
            "_view_name": "LayoutView",
            "align_content": null,
            "align_items": null,
            "align_self": null,
            "border": null,
            "bottom": null,
            "display": null,
            "flex": null,
            "flex_flow": null,
            "grid_area": null,
            "grid_auto_columns": null,
            "grid_auto_flow": null,
            "grid_auto_rows": null,
            "grid_column": null,
            "grid_gap": null,
            "grid_row": null,
            "grid_template_areas": null,
            "grid_template_columns": null,
            "grid_template_rows": null,
            "height": null,
            "justify_content": null,
            "justify_items": null,
            "left": null,
            "margin": null,
            "max_height": null,
            "max_width": null,
            "min_height": null,
            "min_width": null,
            "object_fit": null,
            "object_position": null,
            "order": null,
            "overflow": null,
            "overflow_x": null,
            "overflow_y": null,
            "padding": null,
            "right": null,
            "top": null,
            "visibility": null,
            "width": null
          }
        },
        "39409c824aab465a9cd2ae6b6dfebbfc": {
          "model_module": "@jupyter-widgets/controls",
          "model_name": "DescriptionStyleModel",
          "model_module_version": "1.5.0",
          "state": {
            "_model_module": "@jupyter-widgets/controls",
            "_model_module_version": "1.5.0",
            "_model_name": "DescriptionStyleModel",
            "_view_count": null,
            "_view_module": "@jupyter-widgets/base",
            "_view_module_version": "1.2.0",
            "_view_name": "StyleView",
            "description_width": ""
          }
        },
        "9a4e9de514f64c55832d4a734172a7a7": {
          "model_module": "@jupyter-widgets/base",
          "model_name": "LayoutModel",
          "model_module_version": "1.2.0",
          "state": {
            "_model_module": "@jupyter-widgets/base",
            "_model_module_version": "1.2.0",
            "_model_name": "LayoutModel",
            "_view_count": null,
            "_view_module": "@jupyter-widgets/base",
            "_view_module_version": "1.2.0",
            "_view_name": "LayoutView",
            "align_content": null,
            "align_items": null,
            "align_self": null,
            "border": null,
            "bottom": null,
            "display": null,
            "flex": null,
            "flex_flow": null,
            "grid_area": null,
            "grid_auto_columns": null,
            "grid_auto_flow": null,
            "grid_auto_rows": null,
            "grid_column": null,
            "grid_gap": null,
            "grid_row": null,
            "grid_template_areas": null,
            "grid_template_columns": null,
            "grid_template_rows": null,
            "height": null,
            "justify_content": null,
            "justify_items": null,
            "left": null,
            "margin": null,
            "max_height": null,
            "max_width": null,
            "min_height": null,
            "min_width": null,
            "object_fit": null,
            "object_position": null,
            "order": null,
            "overflow": null,
            "overflow_x": null,
            "overflow_y": null,
            "padding": null,
            "right": null,
            "top": null,
            "visibility": null,
            "width": null
          }
        },
        "a6f90cc7d95f478f99ab91924b226ab1": {
          "model_module": "@jupyter-widgets/controls",
          "model_name": "ProgressStyleModel",
          "model_module_version": "1.5.0",
          "state": {
            "_model_module": "@jupyter-widgets/controls",
            "_model_module_version": "1.5.0",
            "_model_name": "ProgressStyleModel",
            "_view_count": null,
            "_view_module": "@jupyter-widgets/base",
            "_view_module_version": "1.2.0",
            "_view_name": "StyleView",
            "bar_color": null,
            "description_width": ""
          }
        },
        "b5d5564f89b84a76a03d551506a0bf5e": {
          "model_module": "@jupyter-widgets/base",
          "model_name": "LayoutModel",
          "model_module_version": "1.2.0",
          "state": {
            "_model_module": "@jupyter-widgets/base",
            "_model_module_version": "1.2.0",
            "_model_name": "LayoutModel",
            "_view_count": null,
            "_view_module": "@jupyter-widgets/base",
            "_view_module_version": "1.2.0",
            "_view_name": "LayoutView",
            "align_content": null,
            "align_items": null,
            "align_self": null,
            "border": null,
            "bottom": null,
            "display": null,
            "flex": null,
            "flex_flow": null,
            "grid_area": null,
            "grid_auto_columns": null,
            "grid_auto_flow": null,
            "grid_auto_rows": null,
            "grid_column": null,
            "grid_gap": null,
            "grid_row": null,
            "grid_template_areas": null,
            "grid_template_columns": null,
            "grid_template_rows": null,
            "height": null,
            "justify_content": null,
            "justify_items": null,
            "left": null,
            "margin": null,
            "max_height": null,
            "max_width": null,
            "min_height": null,
            "min_width": null,
            "object_fit": null,
            "object_position": null,
            "order": null,
            "overflow": null,
            "overflow_x": null,
            "overflow_y": null,
            "padding": null,
            "right": null,
            "top": null,
            "visibility": null,
            "width": null
          }
        },
        "4261576cbfca4b9991c9c0e0b1538fdc": {
          "model_module": "@jupyter-widgets/controls",
          "model_name": "DescriptionStyleModel",
          "model_module_version": "1.5.0",
          "state": {
            "_model_module": "@jupyter-widgets/controls",
            "_model_module_version": "1.5.0",
            "_model_name": "DescriptionStyleModel",
            "_view_count": null,
            "_view_module": "@jupyter-widgets/base",
            "_view_module_version": "1.2.0",
            "_view_name": "StyleView",
            "description_width": ""
          }
        },
        "22f79594de5c4ec09fcf6f9ae4df9981": {
          "model_module": "@jupyter-widgets/controls",
          "model_name": "HBoxModel",
          "model_module_version": "1.5.0",
          "state": {
            "_dom_classes": [],
            "_model_module": "@jupyter-widgets/controls",
            "_model_module_version": "1.5.0",
            "_model_name": "HBoxModel",
            "_view_count": null,
            "_view_module": "@jupyter-widgets/controls",
            "_view_module_version": "1.5.0",
            "_view_name": "HBoxView",
            "box_style": "",
            "children": [
              "IPY_MODEL_59c3c163c6ee44f89862793bf28a26e4",
              "IPY_MODEL_5a1e981262224d65ba21363a5646fb04",
              "IPY_MODEL_d029b2db0e4a4368bc98c55c45da926e"
            ],
            "layout": "IPY_MODEL_9e67e5ca24954ba29cc47856a4ce213a"
          }
        },
        "59c3c163c6ee44f89862793bf28a26e4": {
          "model_module": "@jupyter-widgets/controls",
          "model_name": "HTMLModel",
          "model_module_version": "1.5.0",
          "state": {
            "_dom_classes": [],
            "_model_module": "@jupyter-widgets/controls",
            "_model_module_version": "1.5.0",
            "_model_name": "HTMLModel",
            "_view_count": null,
            "_view_module": "@jupyter-widgets/controls",
            "_view_module_version": "1.5.0",
            "_view_name": "HTMLView",
            "description": "",
            "description_tooltip": null,
            "layout": "IPY_MODEL_7f1597adaf6241e3bfd20540aac75e64",
            "placeholder": "​",
            "style": "IPY_MODEL_a5b2295d07d645c6895d3aa72e447d45",
            "value": "Map: 100%"
          }
        },
        "5a1e981262224d65ba21363a5646fb04": {
          "model_module": "@jupyter-widgets/controls",
          "model_name": "FloatProgressModel",
          "model_module_version": "1.5.0",
          "state": {
            "_dom_classes": [],
            "_model_module": "@jupyter-widgets/controls",
            "_model_module_version": "1.5.0",
            "_model_name": "FloatProgressModel",
            "_view_count": null,
            "_view_module": "@jupyter-widgets/controls",
            "_view_module_version": "1.5.0",
            "_view_name": "ProgressView",
            "bar_style": "success",
            "description": "",
            "description_tooltip": null,
            "layout": "IPY_MODEL_1c754b9bacdb44598f265ad2abda443b",
            "max": 56402,
            "min": 0,
            "orientation": "horizontal",
            "style": "IPY_MODEL_c09cf601a58844468a0151bc40bbc7f4",
            "value": 56402
          }
        },
        "d029b2db0e4a4368bc98c55c45da926e": {
          "model_module": "@jupyter-widgets/controls",
          "model_name": "HTMLModel",
          "model_module_version": "1.5.0",
          "state": {
            "_dom_classes": [],
            "_model_module": "@jupyter-widgets/controls",
            "_model_module_version": "1.5.0",
            "_model_name": "HTMLModel",
            "_view_count": null,
            "_view_module": "@jupyter-widgets/controls",
            "_view_module_version": "1.5.0",
            "_view_name": "HTMLView",
            "description": "",
            "description_tooltip": null,
            "layout": "IPY_MODEL_6ea53f1623b040c28260df17d5e6ec58",
            "placeholder": "​",
            "style": "IPY_MODEL_c3273ad111d742e186676c695feb4aec",
            "value": " 56402/56402 [00:42&lt;00:00, 1527.41 examples/s]"
          }
        },
        "9e67e5ca24954ba29cc47856a4ce213a": {
          "model_module": "@jupyter-widgets/base",
          "model_name": "LayoutModel",
          "model_module_version": "1.2.0",
          "state": {
            "_model_module": "@jupyter-widgets/base",
            "_model_module_version": "1.2.0",
            "_model_name": "LayoutModel",
            "_view_count": null,
            "_view_module": "@jupyter-widgets/base",
            "_view_module_version": "1.2.0",
            "_view_name": "LayoutView",
            "align_content": null,
            "align_items": null,
            "align_self": null,
            "border": null,
            "bottom": null,
            "display": null,
            "flex": null,
            "flex_flow": null,
            "grid_area": null,
            "grid_auto_columns": null,
            "grid_auto_flow": null,
            "grid_auto_rows": null,
            "grid_column": null,
            "grid_gap": null,
            "grid_row": null,
            "grid_template_areas": null,
            "grid_template_columns": null,
            "grid_template_rows": null,
            "height": null,
            "justify_content": null,
            "justify_items": null,
            "left": null,
            "margin": null,
            "max_height": null,
            "max_width": null,
            "min_height": null,
            "min_width": null,
            "object_fit": null,
            "object_position": null,
            "order": null,
            "overflow": null,
            "overflow_x": null,
            "overflow_y": null,
            "padding": null,
            "right": null,
            "top": null,
            "visibility": null,
            "width": null
          }
        },
        "7f1597adaf6241e3bfd20540aac75e64": {
          "model_module": "@jupyter-widgets/base",
          "model_name": "LayoutModel",
          "model_module_version": "1.2.0",
          "state": {
            "_model_module": "@jupyter-widgets/base",
            "_model_module_version": "1.2.0",
            "_model_name": "LayoutModel",
            "_view_count": null,
            "_view_module": "@jupyter-widgets/base",
            "_view_module_version": "1.2.0",
            "_view_name": "LayoutView",
            "align_content": null,
            "align_items": null,
            "align_self": null,
            "border": null,
            "bottom": null,
            "display": null,
            "flex": null,
            "flex_flow": null,
            "grid_area": null,
            "grid_auto_columns": null,
            "grid_auto_flow": null,
            "grid_auto_rows": null,
            "grid_column": null,
            "grid_gap": null,
            "grid_row": null,
            "grid_template_areas": null,
            "grid_template_columns": null,
            "grid_template_rows": null,
            "height": null,
            "justify_content": null,
            "justify_items": null,
            "left": null,
            "margin": null,
            "max_height": null,
            "max_width": null,
            "min_height": null,
            "min_width": null,
            "object_fit": null,
            "object_position": null,
            "order": null,
            "overflow": null,
            "overflow_x": null,
            "overflow_y": null,
            "padding": null,
            "right": null,
            "top": null,
            "visibility": null,
            "width": null
          }
        },
        "a5b2295d07d645c6895d3aa72e447d45": {
          "model_module": "@jupyter-widgets/controls",
          "model_name": "DescriptionStyleModel",
          "model_module_version": "1.5.0",
          "state": {
            "_model_module": "@jupyter-widgets/controls",
            "_model_module_version": "1.5.0",
            "_model_name": "DescriptionStyleModel",
            "_view_count": null,
            "_view_module": "@jupyter-widgets/base",
            "_view_module_version": "1.2.0",
            "_view_name": "StyleView",
            "description_width": ""
          }
        },
        "1c754b9bacdb44598f265ad2abda443b": {
          "model_module": "@jupyter-widgets/base",
          "model_name": "LayoutModel",
          "model_module_version": "1.2.0",
          "state": {
            "_model_module": "@jupyter-widgets/base",
            "_model_module_version": "1.2.0",
            "_model_name": "LayoutModel",
            "_view_count": null,
            "_view_module": "@jupyter-widgets/base",
            "_view_module_version": "1.2.0",
            "_view_name": "LayoutView",
            "align_content": null,
            "align_items": null,
            "align_self": null,
            "border": null,
            "bottom": null,
            "display": null,
            "flex": null,
            "flex_flow": null,
            "grid_area": null,
            "grid_auto_columns": null,
            "grid_auto_flow": null,
            "grid_auto_rows": null,
            "grid_column": null,
            "grid_gap": null,
            "grid_row": null,
            "grid_template_areas": null,
            "grid_template_columns": null,
            "grid_template_rows": null,
            "height": null,
            "justify_content": null,
            "justify_items": null,
            "left": null,
            "margin": null,
            "max_height": null,
            "max_width": null,
            "min_height": null,
            "min_width": null,
            "object_fit": null,
            "object_position": null,
            "order": null,
            "overflow": null,
            "overflow_x": null,
            "overflow_y": null,
            "padding": null,
            "right": null,
            "top": null,
            "visibility": null,
            "width": null
          }
        },
        "c09cf601a58844468a0151bc40bbc7f4": {
          "model_module": "@jupyter-widgets/controls",
          "model_name": "ProgressStyleModel",
          "model_module_version": "1.5.0",
          "state": {
            "_model_module": "@jupyter-widgets/controls",
            "_model_module_version": "1.5.0",
            "_model_name": "ProgressStyleModel",
            "_view_count": null,
            "_view_module": "@jupyter-widgets/base",
            "_view_module_version": "1.2.0",
            "_view_name": "StyleView",
            "bar_color": null,
            "description_width": ""
          }
        },
        "6ea53f1623b040c28260df17d5e6ec58": {
          "model_module": "@jupyter-widgets/base",
          "model_name": "LayoutModel",
          "model_module_version": "1.2.0",
          "state": {
            "_model_module": "@jupyter-widgets/base",
            "_model_module_version": "1.2.0",
            "_model_name": "LayoutModel",
            "_view_count": null,
            "_view_module": "@jupyter-widgets/base",
            "_view_module_version": "1.2.0",
            "_view_name": "LayoutView",
            "align_content": null,
            "align_items": null,
            "align_self": null,
            "border": null,
            "bottom": null,
            "display": null,
            "flex": null,
            "flex_flow": null,
            "grid_area": null,
            "grid_auto_columns": null,
            "grid_auto_flow": null,
            "grid_auto_rows": null,
            "grid_column": null,
            "grid_gap": null,
            "grid_row": null,
            "grid_template_areas": null,
            "grid_template_columns": null,
            "grid_template_rows": null,
            "height": null,
            "justify_content": null,
            "justify_items": null,
            "left": null,
            "margin": null,
            "max_height": null,
            "max_width": null,
            "min_height": null,
            "min_width": null,
            "object_fit": null,
            "object_position": null,
            "order": null,
            "overflow": null,
            "overflow_x": null,
            "overflow_y": null,
            "padding": null,
            "right": null,
            "top": null,
            "visibility": null,
            "width": null
          }
        },
        "c3273ad111d742e186676c695feb4aec": {
          "model_module": "@jupyter-widgets/controls",
          "model_name": "DescriptionStyleModel",
          "model_module_version": "1.5.0",
          "state": {
            "_model_module": "@jupyter-widgets/controls",
            "_model_module_version": "1.5.0",
            "_model_name": "DescriptionStyleModel",
            "_view_count": null,
            "_view_module": "@jupyter-widgets/base",
            "_view_module_version": "1.2.0",
            "_view_name": "StyleView",
            "description_width": ""
          }
        }
      }
    }
  },
  "cells": [
    {
      "cell_type": "markdown",
      "metadata": {
        "id": "view-in-github",
        "colab_type": "text"
      },
      "source": [
        "<a href=\"https://colab.research.google.com/github/Rishika70/Hack_To_Hire/blob/main/Hack_To_Hire.ipynb\" target=\"_parent\"><img src=\"https://colab.research.google.com/assets/colab-badge.svg\" alt=\"Open In Colab\"/></a>"
      ]
    },
    {
      "cell_type": "code",
      "source": [
        "!pip install huggingface"
      ],
      "metadata": {
        "id": "S3mWHne4JEW4",
        "outputId": "29810922-807c-4e2a-dbd8-68961068a349",
        "colab": {
          "base_uri": "https://localhost:8080/"
        }
      },
      "execution_count": 115,
      "outputs": [
        {
          "output_type": "stream",
          "name": "stdout",
          "text": [
            "Requirement already satisfied: huggingface in /usr/local/lib/python3.10/dist-packages (0.0.1)\n"
          ]
        }
      ]
    },
    {
      "cell_type": "code",
      "source": [
        "!pip install transformers"
      ],
      "metadata": {
        "colab": {
          "base_uri": "https://localhost:8080/"
        },
        "id": "KjyVTvSpGy4y",
        "outputId": "ec233af5-a329-4cc8-a5a4-01798d4f8c23"
      },
      "execution_count": 116,
      "outputs": [
        {
          "output_type": "stream",
          "name": "stdout",
          "text": [
            "Requirement already satisfied: transformers in /usr/local/lib/python3.10/dist-packages (4.43.3)\n",
            "Requirement already satisfied: filelock in /usr/local/lib/python3.10/dist-packages (from transformers) (3.15.4)\n",
            "Requirement already satisfied: huggingface-hub<1.0,>=0.23.2 in /usr/local/lib/python3.10/dist-packages (from transformers) (0.24.3)\n",
            "Requirement already satisfied: numpy>=1.17 in /usr/local/lib/python3.10/dist-packages (from transformers) (1.26.4)\n",
            "Requirement already satisfied: packaging>=20.0 in /usr/local/lib/python3.10/dist-packages (from transformers) (24.1)\n",
            "Requirement already satisfied: pyyaml>=5.1 in /usr/local/lib/python3.10/dist-packages (from transformers) (6.0.1)\n",
            "Requirement already satisfied: regex!=2019.12.17 in /usr/local/lib/python3.10/dist-packages (from transformers) (2024.5.15)\n",
            "Requirement already satisfied: requests in /usr/local/lib/python3.10/dist-packages (from transformers) (2.32.3)\n",
            "Requirement already satisfied: safetensors>=0.4.1 in /usr/local/lib/python3.10/dist-packages (from transformers) (0.4.3)\n",
            "Requirement already satisfied: tokenizers<0.20,>=0.19 in /usr/local/lib/python3.10/dist-packages (from transformers) (0.19.1)\n",
            "Requirement already satisfied: tqdm>=4.27 in /usr/local/lib/python3.10/dist-packages (from transformers) (4.66.4)\n",
            "Requirement already satisfied: fsspec>=2023.5.0 in /usr/local/lib/python3.10/dist-packages (from huggingface-hub<1.0,>=0.23.2->transformers) (2024.5.0)\n",
            "Requirement already satisfied: typing-extensions>=3.7.4.3 in /usr/local/lib/python3.10/dist-packages (from huggingface-hub<1.0,>=0.23.2->transformers) (4.12.2)\n",
            "Requirement already satisfied: charset-normalizer<4,>=2 in /usr/local/lib/python3.10/dist-packages (from requests->transformers) (3.3.2)\n",
            "Requirement already satisfied: idna<4,>=2.5 in /usr/local/lib/python3.10/dist-packages (from requests->transformers) (3.7)\n",
            "Requirement already satisfied: urllib3<3,>=1.21.1 in /usr/local/lib/python3.10/dist-packages (from requests->transformers) (2.0.7)\n",
            "Requirement already satisfied: certifi>=2017.4.17 in /usr/local/lib/python3.10/dist-packages (from requests->transformers) (2024.7.4)\n"
          ]
        }
      ]
    },
    {
      "cell_type": "code",
      "source": [
        "!pip install datasets transformers\n"
      ],
      "metadata": {
        "colab": {
          "base_uri": "https://localhost:8080/"
        },
        "id": "RSylZ2PIq_kD",
        "outputId": "a459c1be-0fec-42e2-d3a1-c94c4034b447"
      },
      "execution_count": 117,
      "outputs": [
        {
          "output_type": "stream",
          "name": "stdout",
          "text": [
            "Requirement already satisfied: datasets in /usr/local/lib/python3.10/dist-packages (2.20.0)\n",
            "Requirement already satisfied: transformers in /usr/local/lib/python3.10/dist-packages (4.43.3)\n",
            "Requirement already satisfied: filelock in /usr/local/lib/python3.10/dist-packages (from datasets) (3.15.4)\n",
            "Requirement already satisfied: numpy>=1.17 in /usr/local/lib/python3.10/dist-packages (from datasets) (1.26.4)\n",
            "Requirement already satisfied: pyarrow>=15.0.0 in /usr/local/lib/python3.10/dist-packages (from datasets) (17.0.0)\n",
            "Requirement already satisfied: pyarrow-hotfix in /usr/local/lib/python3.10/dist-packages (from datasets) (0.6)\n",
            "Requirement already satisfied: dill<0.3.9,>=0.3.0 in /usr/local/lib/python3.10/dist-packages (from datasets) (0.3.8)\n",
            "Requirement already satisfied: pandas in /usr/local/lib/python3.10/dist-packages (from datasets) (2.1.4)\n",
            "Requirement already satisfied: requests>=2.32.2 in /usr/local/lib/python3.10/dist-packages (from datasets) (2.32.3)\n",
            "Requirement already satisfied: tqdm>=4.66.3 in /usr/local/lib/python3.10/dist-packages (from datasets) (4.66.4)\n",
            "Requirement already satisfied: xxhash in /usr/local/lib/python3.10/dist-packages (from datasets) (3.4.1)\n",
            "Requirement already satisfied: multiprocess in /usr/local/lib/python3.10/dist-packages (from datasets) (0.70.16)\n",
            "Requirement already satisfied: fsspec<=2024.5.0,>=2023.1.0 in /usr/local/lib/python3.10/dist-packages (from fsspec[http]<=2024.5.0,>=2023.1.0->datasets) (2024.5.0)\n",
            "Requirement already satisfied: aiohttp in /usr/local/lib/python3.10/dist-packages (from datasets) (3.9.5)\n",
            "Requirement already satisfied: huggingface-hub>=0.21.2 in /usr/local/lib/python3.10/dist-packages (from datasets) (0.24.3)\n",
            "Requirement already satisfied: packaging in /usr/local/lib/python3.10/dist-packages (from datasets) (24.1)\n",
            "Requirement already satisfied: pyyaml>=5.1 in /usr/local/lib/python3.10/dist-packages (from datasets) (6.0.1)\n",
            "Requirement already satisfied: regex!=2019.12.17 in /usr/local/lib/python3.10/dist-packages (from transformers) (2024.5.15)\n",
            "Requirement already satisfied: safetensors>=0.4.1 in /usr/local/lib/python3.10/dist-packages (from transformers) (0.4.3)\n",
            "Requirement already satisfied: tokenizers<0.20,>=0.19 in /usr/local/lib/python3.10/dist-packages (from transformers) (0.19.1)\n",
            "Requirement already satisfied: aiosignal>=1.1.2 in /usr/local/lib/python3.10/dist-packages (from aiohttp->datasets) (1.3.1)\n",
            "Requirement already satisfied: attrs>=17.3.0 in /usr/local/lib/python3.10/dist-packages (from aiohttp->datasets) (23.2.0)\n",
            "Requirement already satisfied: frozenlist>=1.1.1 in /usr/local/lib/python3.10/dist-packages (from aiohttp->datasets) (1.4.1)\n",
            "Requirement already satisfied: multidict<7.0,>=4.5 in /usr/local/lib/python3.10/dist-packages (from aiohttp->datasets) (6.0.5)\n",
            "Requirement already satisfied: yarl<2.0,>=1.0 in /usr/local/lib/python3.10/dist-packages (from aiohttp->datasets) (1.9.4)\n",
            "Requirement already satisfied: async-timeout<5.0,>=4.0 in /usr/local/lib/python3.10/dist-packages (from aiohttp->datasets) (4.0.3)\n",
            "Requirement already satisfied: typing-extensions>=3.7.4.3 in /usr/local/lib/python3.10/dist-packages (from huggingface-hub>=0.21.2->datasets) (4.12.2)\n",
            "Requirement already satisfied: charset-normalizer<4,>=2 in /usr/local/lib/python3.10/dist-packages (from requests>=2.32.2->datasets) (3.3.2)\n",
            "Requirement already satisfied: idna<4,>=2.5 in /usr/local/lib/python3.10/dist-packages (from requests>=2.32.2->datasets) (3.7)\n",
            "Requirement already satisfied: urllib3<3,>=1.21.1 in /usr/local/lib/python3.10/dist-packages (from requests>=2.32.2->datasets) (2.0.7)\n",
            "Requirement already satisfied: certifi>=2017.4.17 in /usr/local/lib/python3.10/dist-packages (from requests>=2.32.2->datasets) (2024.7.4)\n",
            "Requirement already satisfied: python-dateutil>=2.8.2 in /usr/local/lib/python3.10/dist-packages (from pandas->datasets) (2.8.2)\n",
            "Requirement already satisfied: pytz>=2020.1 in /usr/local/lib/python3.10/dist-packages (from pandas->datasets) (2024.1)\n",
            "Requirement already satisfied: tzdata>=2022.1 in /usr/local/lib/python3.10/dist-packages (from pandas->datasets) (2024.1)\n",
            "Requirement already satisfied: six>=1.5 in /usr/local/lib/python3.10/dist-packages (from python-dateutil>=2.8.2->pandas->datasets) (1.16.0)\n"
          ]
        }
      ]
    },
    {
      "cell_type": "code",
      "source": [
        "!pip install bleu"
      ],
      "metadata": {
        "colab": {
          "base_uri": "https://localhost:8080/"
        },
        "id": "e5P7PUxb7InA",
        "outputId": "0197032c-8d0c-4d67-a78d-a696f127eaef"
      },
      "execution_count": 118,
      "outputs": [
        {
          "output_type": "stream",
          "name": "stdout",
          "text": [
            "Requirement already satisfied: bleu in /usr/local/lib/python3.10/dist-packages (0.3)\n",
            "Requirement already satisfied: efficiency in /usr/local/lib/python3.10/dist-packages (from bleu) (2.0)\n",
            "Requirement already satisfied: pandas in /usr/local/lib/python3.10/dist-packages (from efficiency->bleu) (2.1.4)\n",
            "Requirement already satisfied: numpy in /usr/local/lib/python3.10/dist-packages (from efficiency->bleu) (1.26.4)\n",
            "Requirement already satisfied: python-dateutil>=2.8.2 in /usr/local/lib/python3.10/dist-packages (from pandas->efficiency->bleu) (2.8.2)\n",
            "Requirement already satisfied: pytz>=2020.1 in /usr/local/lib/python3.10/dist-packages (from pandas->efficiency->bleu) (2024.1)\n",
            "Requirement already satisfied: tzdata>=2022.1 in /usr/local/lib/python3.10/dist-packages (from pandas->efficiency->bleu) (2024.1)\n",
            "Requirement already satisfied: six>=1.5 in /usr/local/lib/python3.10/dist-packages (from python-dateutil>=2.8.2->pandas->efficiency->bleu) (1.16.0)\n"
          ]
        }
      ]
    },
    {
      "cell_type": "code",
      "execution_count": 167,
      "metadata": {
        "id": "Z-rrKZ4i2bMF"
      },
      "outputs": [],
      "source": [
        "import pandas as pd\n",
        "import numpy as np\n",
        "import nltk\n",
        "from nltk.tokenize import word_tokenize\n",
        "from nltk.corpus import stopwords\n",
        "from nltk.stem import WordNetLemmatizer\n",
        "from transformers import AutoTokenizer, AutoModelForSequenceClassification\n",
        "from transformers import BertTokenizer, BertModel\n",
        "from transformers import T5Tokenizer, T5Model\n",
        "from transformers import GPT2Tokenizer, GPT2Model\n",
        "from rouge_score import rouge_scorer\n",
        "from nltk.translate.bleu_score import sentence_bleu\n",
        "from transformers import BertTokenizer, DataCollatorWithPadding\n",
        "from sklearn.metrics import f1_score\n",
        "import matplotlib.pyplot as plt\n",
        "import seaborn as sns\n",
        "import plotly.graph_objs as go\n",
        "from sklearn.model_selection import train_test_split\n",
        "import re\n",
        "import html\n",
        "from collections import Counter\n",
        "from transformers import TFBertForSequenceClassification, BertTokenizer, create_optimizer\n",
        "import tensorflow as tf\n",
        "from datasets import load_dataset\n",
        "\n",
        "\n"
      ]
    },
    {
      "cell_type": "code",
      "source": [
        "# Tokenize the data\n",
        "nltk.download('punkt')\n",
        "nltk.download('stopwords')\n",
        "nltk.download('wordnet')\n",
        "stop_words = set(stopwords.words('english'))\n",
        "lemmatizer = WordNetLemmatizer()"
      ],
      "metadata": {
        "colab": {
          "base_uri": "https://localhost:8080/"
        },
        "id": "2rMsT19Yj6J2",
        "outputId": "3db8582a-5604-4294-ac23-07a98b76b8d1"
      },
      "execution_count": 120,
      "outputs": [
        {
          "output_type": "stream",
          "name": "stderr",
          "text": [
            "[nltk_data] Downloading package punkt to /root/nltk_data...\n",
            "[nltk_data]   Package punkt is already up-to-date!\n",
            "[nltk_data] Downloading package stopwords to /root/nltk_data...\n",
            "[nltk_data]   Package stopwords is already up-to-date!\n",
            "[nltk_data] Downloading package wordnet to /root/nltk_data...\n",
            "[nltk_data]   Package wordnet is already up-to-date!\n"
          ]
        }
      ]
    },
    {
      "cell_type": "code",
      "source": [
        "from transformers import BertTokenizer\n",
        "from datasets import load_dataset\n",
        "import tensorflow as tf\n",
        "\n",
        "# Load dataset and tokenizer\n",
        "# Load and split the dataset\n",
        "dataset = load_dataset(\"toughdata/quora-question-answer-dataset\")\n",
        "dataset = dataset[\"train\"].train_test_split(test_size=0.2)\n",
        "\n",
        "# Split dataset\n",
        "train_test_split = dataset['train'].train_test_split(test_size=0.1)\n",
        "train_dataset = train_test_split['train']\n",
        "validation_dataset = train_test_split['test']\n",
        "\n",
        "# Tokenize datasets\n",
        "def tokenize_function(examples):\n",
        "    return tokenizer(examples['question'], padding='max_length', truncation=True)\n",
        "\n",
        "tokenized_train_dataset = train_dataset.map(tokenize_function, batched=True)\n",
        "tokenized_val_dataset = validation_dataset.map(tokenize_function, batched=True)\n",
        "\n",
        "# Convert datasets to tf.data.Dataset\n",
        "def convert_to_tf_dataset(tokenized_dataset):\n",
        "    def gen():\n",
        "        for ex in tokenized_dataset:\n",
        "            yield ({'input_ids': ex['input_ids'], 'attention_mask': ex['attention_mask']}, ex['label'])\n",
        "\n",
        "    return tf.data.Dataset.from_generator(\n",
        "        gen,\n",
        "        ({'input_ids': tf.int32, 'attention_mask': tf.int32}, tf.int64),\n",
        "        ({'input_ids': tf.TensorShape([None]), 'attention_mask': tf.TensorShape([None])}, tf.TensorShape([]))\n",
        "    )\n",
        "\n",
        "train_tf_dataset = convert_to_tf_dataset(tokenized_train_dataset)\n",
        "val_tf_dataset = convert_to_tf_dataset(tokenized_val_dataset)\n",
        "\n",
        "# Batch and shuffle the datasets\n",
        "train_tf_dataset = train_tf_dataset.shuffle(len(tokenized_train_dataset)).batch(32).prefetch(tf.data.experimental.AUTOTUNE)\n",
        "val_tf_dataset = val_tf_dataset.batch(32).prefetch(tf.data.experimental.AUTOTUNE)\n",
        "\n",
        "\n",
        "\n"
      ],
      "metadata": {
        "colab": {
          "base_uri": "https://localhost:8080/",
          "height": 81,
          "referenced_widgets": [
            "81b718aefe1f4ddb98e06236f818a7cd",
            "4dfb40a66c1645eab12405b9a6d9afd0",
            "7f17a17610e24fc5bb1dfb2120b6ab03",
            "308482b6a0ca4e45aac3821ab7bd139b",
            "ae83e1da13e2470abc444b2467a29dbd",
            "8dab4bd5023f468ca823faa60284b6f4",
            "fb86cac74b8d49e6a35c606c0716fe57",
            "9a4dd505259c4270b323e2a966cd883d",
            "45e50e81b02e4a4294cca541da2d564c",
            "daecfb737ea042a0af77a5913c08164b",
            "6ecdfed32e324d11acac01563d0877d1",
            "50bcdbec164f43fe9961eb92739b5929",
            "593399ff19f54470a49f613d331ac8cd",
            "6fb4c716d58347afb558b1b863ba3509",
            "368afe878b484a18b2d86d5800808a04",
            "1abc52218b204f688c3561b38a9200fc",
            "baa9616321574372963c9bbc32b6a1b2",
            "39409c824aab465a9cd2ae6b6dfebbfc",
            "9a4e9de514f64c55832d4a734172a7a7",
            "a6f90cc7d95f478f99ab91924b226ab1",
            "b5d5564f89b84a76a03d551506a0bf5e",
            "4261576cbfca4b9991c9c0e0b1538fdc"
          ]
        },
        "id": "qjCONPcK7twL",
        "outputId": "726bf945-45d4-452a-d686-862bc89f2014"
      },
      "execution_count": 171,
      "outputs": [
        {
          "output_type": "display_data",
          "data": {
            "text/plain": [
              "Map:   0%|          | 0/40608 [00:00<?, ? examples/s]"
            ],
            "application/vnd.jupyter.widget-view+json": {
              "version_major": 2,
              "version_minor": 0,
              "model_id": "81b718aefe1f4ddb98e06236f818a7cd"
            }
          },
          "metadata": {}
        },
        {
          "output_type": "display_data",
          "data": {
            "text/plain": [
              "Map:   0%|          | 0/4513 [00:00<?, ? examples/s]"
            ],
            "application/vnd.jupyter.widget-view+json": {
              "version_major": 2,
              "version_minor": 0,
              "model_id": "50bcdbec164f43fe9961eb92739b5929"
            }
          },
          "metadata": {}
        }
      ]
    },
    {
      "cell_type": "markdown",
      "source": [
        "#**Split the training data into train and validation sets**"
      ],
      "metadata": {
        "id": "C_pVCSpqK7sI"
      }
    },
    {
      "cell_type": "code",
      "source": [
        "\n",
        "from sklearn.model_selection import train_test_split # Import train_test_split\n",
        "\n",
        "# Split the training data into train and validation sets (80/20)\n",
        "train_df, val_df = train_test_split(train_data, test_size=0.2, random_state=42) # Use imported function\n",
        "\n",
        "print(\"Train DataFrame:\")\n",
        "print(train_df)\n",
        "print(\"\\nValidation DataFrame:\")\n",
        "print(val_df)\n"
      ],
      "metadata": {
        "colab": {
          "base_uri": "https://localhost:8080/"
        },
        "id": "diASXb9mJbG-",
        "outputId": "f424e03d-fc82-4579-ac56-fbd7c49d4895"
      },
      "execution_count": 158,
      "outputs": [
        {
          "output_type": "stream",
          "name": "stdout",
          "text": [
            "Train DataFrame:\n",
            "                                                question  \\\n",
            "19108    would narcissist block Facebook unblock block ?   \n",
            "42672          industry need lead generation marketing ?   \n",
            "45000  waitress ask Coke okay instead Pepsi ? think m...   \n",
            "24717                                  hotel used soap ?   \n",
            "36445              http : //www.quora.com/profile/Me ...   \n",
            "...                                                  ...   \n",
            "52710          get goat chicken ? want companion human .   \n",
            "19738          Bangladesh powerful prosperous Pakistan ?   \n",
            "7354    encryption much easier decryption cryptography ?   \n",
            "16511                                       JFK affair ?   \n",
            "43377                  tip new competitive programming ?   \n",
            "\n",
            "                                                  answer  \n",
            "19108  believe narcissist would block unblock differe...  \n",
            "42672  Lead generation marketing essential wide range...  \n",
            "45000  absolutely make difference . ’ care Pepsi . ’ ...  \n",
            "24717                                     probably trash  \n",
            "36445                accessed Quora website Firefox PC .  \n",
            "...                                                  ...  \n",
            "52710  started raising purebred Kiko goat three month...  \n",
            "19738  look growth trajectory easily able sort basic ...  \n",
            "7354   label say done . authority tell u percieve tru...  \n",
            "16511  animal kingdom male mate many different female...  \n",
            "43377  're student computer science coding enthusiast...  \n",
            "\n",
            "[36096 rows x 2 columns]\n",
            "\n",
            "Validation DataFrame:\n",
            "                                                question  \\\n",
            "44897  n't elite soldier Navy SEALs physique like Dwa...   \n",
            "22987                                     headless CMS ?   \n",
            "44259            screenshots deserves 1.8 Billion view ?   \n",
            "25505  big argument spouse . spouse grab family shotg...   \n",
            "29410  learn dance ? trying , ca n't learn dance . ma...   \n",
            "...                                                  ...   \n",
            "13336  many student India study engineering ? seems s...   \n",
            "39773        noise-cancelling headphone cause headache ?   \n",
            "39256  opinion Adam Schiff presenting indisputable ev...   \n",
            "51860                         best hotel ever stayed , ?   \n",
            "14028  think `` Mamata Banerjee Says West Bengal Shel...   \n",
            "\n",
            "                                                  answer  \n",
            "44897                                 One word : Brain .  \n",
            "22987  Headless future-proof CMS provides multiple be...  \n",
            "44259  Dear Readers - want know question Islam , Qur'...  \n",
            "25505  de escalate safe leave house go police report ...  \n",
            "29410  excellent way get started dancing passion . on...  \n",
            "...                                                  ...  \n",
            "13336  part biggest race world . Rat Race . ! ! know ...  \n",
            "39773  Noise cancellation headphone harmful . benefit...  \n",
            "39256  Kinda sick tired BS Trump . Like Chicken Littl...  \n",
            "51860  best hotel ever stayed [ LINKED_TEXT : Orienta...  \n",
            "14028  Yeah . Vote bank right ? care . least Assam fr...  \n",
            "\n",
            "[9025 rows x 2 columns]\n"
          ]
        }
      ]
    },
    {
      "cell_type": "markdown",
      "source": [
        "# Pre-Processing"
      ],
      "metadata": {
        "id": "8XfQ1ivxpBG5"
      }
    },
    {
      "cell_type": "markdown",
      "source": [
        "Clean the text\n"
      ],
      "metadata": {
        "id": "djQgGIADoR8z"
      }
    },
    {
      "cell_type": "code",
      "source": [
        "import re\n",
        "\n",
        "def clean_text(text):\n",
        "  # Remove special characters and numbers\n",
        "  text = re.sub(r'[^a-zA-Z\\s]', '', text)\n",
        "  # Convert to lowercase\n",
        "  text = text.lower()\n",
        "  # Remove extra whitespace\n",
        "  text = text.strip()\n",
        "  return text\n",
        "\n",
        "# Apply clean_text function to 'question' and 'answer' columns in train_df\n",
        "train_df['question'] = train_df['question'].apply(clean_text)\n",
        "train_df['answer'] = train_df['answer'].apply(clean_text)\n",
        "\n",
        "# Apply clean_text function to 'question' and 'answer' columns in val_df\n",
        "val_df['question'] = val_df['question'].apply(clean_text)\n",
        "val_df['answer'] = val_df['answer'].apply(clean_text)\n",
        "\n",
        "print(\"Cleaned Train DataFrame:\")\n",
        "print(train_df.head())\n",
        "print(\"\\nCleaned Validation DataFrame:\")\n",
        "print(val_df.head())"
      ],
      "metadata": {
        "colab": {
          "base_uri": "https://localhost:8080/"
        },
        "id": "42CMQ70doRHO",
        "outputId": "98d6c345-68f7-4ba6-91eb-64f58336cf1f"
      },
      "execution_count": 159,
      "outputs": [
        {
          "output_type": "stream",
          "name": "stdout",
          "text": [
            "Cleaned Train DataFrame:\n",
            "                                                question  \\\n",
            "19108      would narcissist block facebook unblock block   \n",
            "42672            industry need lead generation marketing   \n",
            "45000  waitress ask coke okay instead pepsi  think ma...   \n",
            "24717                                    hotel used soap   \n",
            "36445                         http  wwwquoracomprofileme   \n",
            "\n",
            "                                                  answer  \n",
            "19108  believe narcissist would block unblock differe...  \n",
            "42672  lead generation marketing essential wide range...  \n",
            "45000  absolutely make difference   care pepsi   drin...  \n",
            "24717                                     probably trash  \n",
            "36445                  accessed quora website firefox pc  \n",
            "\n",
            "Cleaned Validation DataFrame:\n",
            "                                                question  \\\n",
            "44897  nt elite soldier navy seals physique like dway...   \n",
            "22987                                       headless cms   \n",
            "44259                 screenshots deserves  billion view   \n",
            "25505  big argument spouse  spouse grab family shotgu...   \n",
            "29410  learn dance  trying  ca nt learn dance  mainly...   \n",
            "\n",
            "                                                  answer  \n",
            "44897                                    one word  brain  \n",
            "22987  headless futureproof cms provides multiple ben...  \n",
            "44259  dear readers  want know question islam  quran ...  \n",
            "25505  de escalate safe leave house go police report ...  \n",
            "29410  excellent way get started dancing passion  one...  \n"
          ]
        }
      ]
    },
    {
      "cell_type": "markdown",
      "source": [
        "# Lemmatization\n",
        "\n",
        "\n"
      ],
      "metadata": {
        "id": "BOxVeZIUMoF5"
      }
    },
    {
      "cell_type": "code",
      "source": [
        "\n",
        "\n",
        "def lemmatize_text(text):\n",
        "  tokens = word_tokenize(text)\n",
        "  lemmatized_tokens = [lemmatizer.lemmatize(token) for token in tokens]\n",
        "  return ' '.join(lemmatized_tokens)\n",
        "\n",
        "# Apply lemmatize_text function to 'question' and 'answer' columns in train_df\n",
        "train_df['question'] = train_df['question'].apply(lemmatize_text)\n",
        "train_df['answer'] = train_df['answer'].apply(lemmatize_text)\n",
        "\n",
        "# Apply lemmatize_text function to 'question' and 'answer' columns in val_df\n",
        "val_df['question'] = val_df['question'].apply(lemmatize_text)\n",
        "val_df['answer'] = val_df['answer'].apply(lemmatize_text)\n",
        "\n",
        "print(\"Lemmatized Train DataFrame:\")\n",
        "print(train_df.head())\n",
        "print(\"\\nLemmatized Validation DataFrame:\")\n",
        "print(val_df.head())"
      ],
      "metadata": {
        "colab": {
          "base_uri": "https://localhost:8080/"
        },
        "id": "as3KThNqmWPq",
        "outputId": "30ba6920-96f1-471c-ed71-c3e3870689b4"
      },
      "execution_count": 127,
      "outputs": [
        {
          "output_type": "stream",
          "name": "stdout",
          "text": [
            "Lemmatized Train DataFrame:\n",
            "                                                question  \\\n",
            "19108      would narcissist block facebook unblock block   \n",
            "42672            industry need lead generation marketing   \n",
            "45000  waitress ask coke okay instead pepsi think mak...   \n",
            "24717                                    hotel used soap   \n",
            "36445                          http wwwquoracomprofileme   \n",
            "\n",
            "                                                  answer  \n",
            "19108  believe narcissist would block unblock differe...  \n",
            "42672  lead generation marketing essential wide range...  \n",
            "45000  absolutely make difference care pepsi drink pr...  \n",
            "24717                                     probably trash  \n",
            "36445                  accessed quora website firefox pc  \n",
            "\n",
            "Lemmatized Validation DataFrame:\n",
            "                                                question  \\\n",
            "44897  nt elite soldier navy seal physique like dwayn...   \n",
            "22987                                        headless cm   \n",
            "44259                  screenshots deserves billion view   \n",
            "25505  big argument spouse spouse grab family shotgun...   \n",
            "29410  learn dance trying ca nt learn dance mainly wa...   \n",
            "\n",
            "                                                  answer  \n",
            "44897                                     one word brain  \n",
            "22987  headless futureproof cm provides multiple bene...  \n",
            "44259  dear reader want know question islam quran had...  \n",
            "25505  de escalate safe leave house go police report ...  \n",
            "29410  excellent way get started dancing passion one ...  \n"
          ]
        }
      ]
    },
    {
      "cell_type": "markdown",
      "source": [
        "# Text Encoding/Vectorization"
      ],
      "metadata": {
        "id": "CT9s2VUiDliv"
      }
    },
    {
      "cell_type": "markdown",
      "source": [
        "# TF-IDF"
      ],
      "metadata": {
        "id": "oVCskWQvFiYu"
      }
    },
    {
      "cell_type": "code",
      "source": [
        "from sklearn.feature_extraction.text import TfidfVectorizer\n",
        "\n",
        "\n",
        "# Assuming train_df and val_df are your DataFrames with 'question' and 'answer' columns\n",
        "\n",
        "# Combine questions and answers for vectorization\n",
        "train_texts = train_df['question'].tolist() + train_df['answer'].tolist()\n",
        "val_texts = val_df['question'].tolist() + val_df['answer'].tolist()\n",
        "\n",
        "# Ensure all elements in the lists are strings\n",
        "train_texts = [str(text) for text in train_texts]  # Convert any non-string elements to strings\n",
        "val_texts = [str(text) for text in val_texts]\n",
        "\n",
        "# Create a TF-IDF vectorizer\n",
        "vectorizer = TfidfVectorizer()\n",
        "\n",
        "# Fit the vectorizer on the training data and transform both training and validation data\n",
        "train_tfidf = vectorizer.fit_transform(train_texts)\n",
        "val_tfidf = vectorizer.transform(val_texts)\n",
        "\n",
        "# Get feature names (words) from the vectorizer\n",
        "feature_names = vectorizer.get_feature_names_out()\n",
        "\n",
        "print(\"Shape of Train TF-IDF Matrix:\", train_tfidf.shape)\n",
        "print(\"Shape of Validation TF-IDF Matrix:\", val_tfidf.shape)\n",
        "print(\"\\nFeature Names:\")\n",
        "print(feature_names)"
      ],
      "metadata": {
        "colab": {
          "base_uri": "https://localhost:8080/"
        },
        "id": "uya5oyCBDc2u",
        "outputId": "73162ff8-ea97-43b2-a27c-42e082bb5c09"
      },
      "execution_count": 128,
      "outputs": [
        {
          "output_type": "stream",
          "name": "stdout",
          "text": [
            "Shape of Train TF-IDF Matrix: (72192, 122112)\n",
            "Shape of Validation TF-IDF Matrix: (18050, 122112)\n",
            "\n",
            "Feature Names:\n",
            "['aa' 'aaa' 'aaaa' ... 'zztno' 'zzz' 'zzzzzzzzzzzzz']\n"
          ]
        }
      ]
    },
    {
      "cell_type": "markdown",
      "source": [
        "# Padding/Truncation"
      ],
      "metadata": {
        "id": "bAYmVHXOIh6x"
      }
    },
    {
      "cell_type": "code",
      "source": [
        "\n",
        "\n",
        "\n",
        "def tokenize_function(examples):\n",
        "    return tokenizer(\n",
        "        examples[\"question\"],\n",
        "        examples[\"answer\"],\n",
        "        truncation=True,\n",
        "        padding=\"max_length\",  # Add padding\n",
        "        max_length=128,       # Set a maximum length for truncation and padding\n",
        "    )\n",
        "\n",
        "tokenized_datasets = dataset.map(tokenize_function, batched=True, remove_columns=[\"question\", \"answer\"])\n"
      ],
      "metadata": {
        "colab": {
          "base_uri": "https://localhost:8080/",
          "height": 49,
          "referenced_widgets": [
            "22f79594de5c4ec09fcf6f9ae4df9981",
            "59c3c163c6ee44f89862793bf28a26e4",
            "5a1e981262224d65ba21363a5646fb04",
            "d029b2db0e4a4368bc98c55c45da926e",
            "9e67e5ca24954ba29cc47856a4ce213a",
            "7f1597adaf6241e3bfd20540aac75e64",
            "a5b2295d07d645c6895d3aa72e447d45",
            "1c754b9bacdb44598f265ad2abda443b",
            "c09cf601a58844468a0151bc40bbc7f4",
            "6ea53f1623b040c28260df17d5e6ec58",
            "c3273ad111d742e186676c695feb4aec"
          ]
        },
        "id": "CdfMzVp3H95D",
        "outputId": "f9f2b4f8-5736-4d49-dcfa-29caf8204182"
      },
      "execution_count": 129,
      "outputs": [
        {
          "output_type": "display_data",
          "data": {
            "text/plain": [
              "Map:   0%|          | 0/56402 [00:00<?, ? examples/s]"
            ],
            "application/vnd.jupyter.widget-view+json": {
              "version_major": 2,
              "version_minor": 0,
              "model_id": "22f79594de5c4ec09fcf6f9ae4df9981"
            }
          },
          "metadata": {}
        }
      ]
    },
    {
      "cell_type": "markdown",
      "source": [
        "# **Data Augmentation**"
      ],
      "metadata": {
        "id": "J2mtxz2Lmpvd"
      }
    },
    {
      "cell_type": "markdown",
      "source": [
        " # Paraphrasing"
      ],
      "metadata": {
        "id": "wRYh9p8_mw4w"
      }
    },
    {
      "cell_type": "code",
      "source": [
        "\n",
        "\n",
        "!pip install nlpaug\n",
        "import nlpaug.augmenter.word as naw\n",
        "\n",
        "# Initialize a synonym augmenter\n",
        "aug = naw.SynonymAug(aug_src='wordnet')\n",
        "\n",
        "# Function to paraphrase text\n",
        "def paraphrase_text(text):\n",
        "  augmented_text = aug.augment(text)\n",
        "  return augmented_text\n",
        "\n",
        "# Apply paraphrasing to 'question' column in train_df\n",
        "train_df['question'] = train_df['question'].apply(paraphrase_text)\n",
        "\n",
        "print(\"Paraphrased Train DataFrame:\")\n",
        "print(train_df.head())\n"
      ],
      "metadata": {
        "colab": {
          "base_uri": "https://localhost:8080/"
        },
        "id": "cSJiMJRfnIvE",
        "outputId": "6fc4af04-64b3-4fad-e7e9-ababf941bd06"
      },
      "execution_count": 160,
      "outputs": [
        {
          "output_type": "stream",
          "name": "stdout",
          "text": [
            "Requirement already satisfied: nlpaug in /usr/local/lib/python3.10/dist-packages (1.1.11)\n",
            "Requirement already satisfied: numpy>=1.16.2 in /usr/local/lib/python3.10/dist-packages (from nlpaug) (1.26.4)\n",
            "Requirement already satisfied: pandas>=1.2.0 in /usr/local/lib/python3.10/dist-packages (from nlpaug) (2.1.4)\n",
            "Requirement already satisfied: requests>=2.22.0 in /usr/local/lib/python3.10/dist-packages (from nlpaug) (2.32.3)\n",
            "Requirement already satisfied: gdown>=4.0.0 in /usr/local/lib/python3.10/dist-packages (from nlpaug) (5.1.0)\n",
            "Requirement already satisfied: beautifulsoup4 in /usr/local/lib/python3.10/dist-packages (from gdown>=4.0.0->nlpaug) (4.12.3)\n",
            "Requirement already satisfied: filelock in /usr/local/lib/python3.10/dist-packages (from gdown>=4.0.0->nlpaug) (3.15.4)\n",
            "Requirement already satisfied: tqdm in /usr/local/lib/python3.10/dist-packages (from gdown>=4.0.0->nlpaug) (4.66.4)\n",
            "Requirement already satisfied: python-dateutil>=2.8.2 in /usr/local/lib/python3.10/dist-packages (from pandas>=1.2.0->nlpaug) (2.8.2)\n",
            "Requirement already satisfied: pytz>=2020.1 in /usr/local/lib/python3.10/dist-packages (from pandas>=1.2.0->nlpaug) (2024.1)\n",
            "Requirement already satisfied: tzdata>=2022.1 in /usr/local/lib/python3.10/dist-packages (from pandas>=1.2.0->nlpaug) (2024.1)\n",
            "Requirement already satisfied: charset-normalizer<4,>=2 in /usr/local/lib/python3.10/dist-packages (from requests>=2.22.0->nlpaug) (3.3.2)\n",
            "Requirement already satisfied: idna<4,>=2.5 in /usr/local/lib/python3.10/dist-packages (from requests>=2.22.0->nlpaug) (3.7)\n",
            "Requirement already satisfied: urllib3<3,>=1.21.1 in /usr/local/lib/python3.10/dist-packages (from requests>=2.22.0->nlpaug) (2.0.7)\n",
            "Requirement already satisfied: certifi>=2017.4.17 in /usr/local/lib/python3.10/dist-packages (from requests>=2.22.0->nlpaug) (2024.7.4)\n",
            "Requirement already satisfied: six>=1.5 in /usr/local/lib/python3.10/dist-packages (from python-dateutil>=2.8.2->pandas>=1.2.0->nlpaug) (1.16.0)\n",
            "Requirement already satisfied: soupsieve>1.2 in /usr/local/lib/python3.10/dist-packages (from beautifulsoup4->gdown>=4.0.0->nlpaug) (2.5)\n",
            "Requirement already satisfied: PySocks!=1.5.7,>=1.5.6 in /usr/local/lib/python3.10/dist-packages (from requests[socks]->gdown>=4.0.0->nlpaug) (1.7.1)\n",
            "Paraphrased Train DataFrame:\n",
            "                                                question  \\\n",
            "19108  [would narcissist cylinder block facebook unbl...   \n",
            "42672   [manufacture need lead multiplication marketing]   \n",
            "45000  [waitress ask coke hunky dory instead pepsi th...   \n",
            "24717                                   [hotel use soap]   \n",
            "36445  [hypertext transfer protocol wwwquoracomprofil...   \n",
            "\n",
            "                                                  answer  \n",
            "19108  believe narcissist would block unblock differe...  \n",
            "42672  lead generation marketing essential wide range...  \n",
            "45000  absolutely make difference   care pepsi   drin...  \n",
            "24717                                     probably trash  \n",
            "36445                  accessed quora website firefox pc  \n"
          ]
        }
      ]
    },
    {
      "cell_type": "markdown",
      "source": [
        "# **Model Evaluation**"
      ],
      "metadata": {
        "id": "PGyiZ6fwoA-i"
      }
    },
    {
      "cell_type": "code",
      "source": [
        "import warnings\n",
        "warnings.filterwarnings(\"ignore\")"
      ],
      "metadata": {
        "id": "Sdc7igmkNAMD"
      },
      "execution_count": 139,
      "outputs": []
    },
    {
      "cell_type": "code",
      "source": [
        "# Load pre-trained BERT model and tokenizer\n",
        "model_name = 'bert-base-uncased'\n",
        "tokenizer = BertTokenizer.from_pretrained(model_name)\n",
        "# Use BertModel instead of BertForSequenceClassification for extracting embeddings\n",
        "model = BertModel.from_pretrained(model_name)\n",
        "\n",
        "# Tokenize and encode input data (example using the first question in train_df)\n",
        "inputs = tokenizer(train_df['question'].iloc[0], return_tensors='pt')\n",
        "\n",
        "# Forward pass through the model\n",
        "outputs = model(**inputs)\n",
        "\n",
        "# Extract embeddings (e.g., last hidden state)\n",
        "embeddings = outputs.last_hidden_state"
      ],
      "metadata": {
        "colab": {
          "base_uri": "https://localhost:8080/"
        },
        "id": "KuPcvXdqoYcf",
        "outputId": "e068971d-81db-47c6-88b7-4e657ea59dc2"
      },
      "execution_count": 134,
      "outputs": [
        {
          "output_type": "stream",
          "name": "stderr",
          "text": [
            "A parameter name that contains `beta` will be renamed internally to `bias`. Please use a different name to suppress this warning.\n",
            "A parameter name that contains `gamma` will be renamed internally to `weight`. Please use a different name to suppress this warning.\n",
            "A parameter name that contains `beta` will be renamed internally to `bias`. Please use a different name to suppress this warning.\n",
            "A parameter name that contains `gamma` will be renamed internally to `weight`. Please use a different name to suppress this warning.\n",
            "A parameter name that contains `beta` will be renamed internally to `bias`. Please use a different name to suppress this warning.\n",
            "A parameter name that contains `gamma` will be renamed internally to `weight`. Please use a different name to suppress this warning.\n",
            "A parameter name that contains `beta` will be renamed internally to `bias`. Please use a different name to suppress this warning.\n",
            "A parameter name that contains `gamma` will be renamed internally to `weight`. Please use a different name to suppress this warning.\n",
            "A parameter name that contains `beta` will be renamed internally to `bias`. Please use a different name to suppress this warning.\n",
            "A parameter name that contains `gamma` will be renamed internally to `weight`. Please use a different name to suppress this warning.\n",
            "A parameter name that contains `beta` will be renamed internally to `bias`. Please use a different name to suppress this warning.\n",
            "A parameter name that contains `gamma` will be renamed internally to `weight`. Please use a different name to suppress this warning.\n",
            "A parameter name that contains `beta` will be renamed internally to `bias`. Please use a different name to suppress this warning.\n",
            "A parameter name that contains `gamma` will be renamed internally to `weight`. Please use a different name to suppress this warning.\n",
            "A parameter name that contains `beta` will be renamed internally to `bias`. Please use a different name to suppress this warning.\n",
            "A parameter name that contains `gamma` will be renamed internally to `weight`. Please use a different name to suppress this warning.\n",
            "A parameter name that contains `beta` will be renamed internally to `bias`. Please use a different name to suppress this warning.\n",
            "A parameter name that contains `gamma` will be renamed internally to `weight`. Please use a different name to suppress this warning.\n",
            "A parameter name that contains `beta` will be renamed internally to `bias`. Please use a different name to suppress this warning.\n",
            "A parameter name that contains `gamma` will be renamed internally to `weight`. Please use a different name to suppress this warning.\n",
            "A parameter name that contains `beta` will be renamed internally to `bias`. Please use a different name to suppress this warning.\n",
            "A parameter name that contains `gamma` will be renamed internally to `weight`. Please use a different name to suppress this warning.\n",
            "A parameter name that contains `beta` will be renamed internally to `bias`. Please use a different name to suppress this warning.\n",
            "A parameter name that contains `gamma` will be renamed internally to `weight`. Please use a different name to suppress this warning.\n",
            "A parameter name that contains `beta` will be renamed internally to `bias`. Please use a different name to suppress this warning.\n",
            "A parameter name that contains `gamma` will be renamed internally to `weight`. Please use a different name to suppress this warning.\n",
            "A parameter name that contains `beta` will be renamed internally to `bias`. Please use a different name to suppress this warning.\n",
            "A parameter name that contains `gamma` will be renamed internally to `weight`. Please use a different name to suppress this warning.\n",
            "A parameter name that contains `beta` will be renamed internally to `bias`. Please use a different name to suppress this warning.\n",
            "A parameter name that contains `gamma` will be renamed internally to `weight`. Please use a different name to suppress this warning.\n",
            "A parameter name that contains `beta` will be renamed internally to `bias`. Please use a different name to suppress this warning.\n",
            "A parameter name that contains `gamma` will be renamed internally to `weight`. Please use a different name to suppress this warning.\n",
            "A parameter name that contains `beta` will be renamed internally to `bias`. Please use a different name to suppress this warning.\n",
            "A parameter name that contains `gamma` will be renamed internally to `weight`. Please use a different name to suppress this warning.\n",
            "A parameter name that contains `beta` will be renamed internally to `bias`. Please use a different name to suppress this warning.\n",
            "A parameter name that contains `gamma` will be renamed internally to `weight`. Please use a different name to suppress this warning.\n",
            "A parameter name that contains `beta` will be renamed internally to `bias`. Please use a different name to suppress this warning.\n",
            "A parameter name that contains `gamma` will be renamed internally to `weight`. Please use a different name to suppress this warning.\n",
            "A parameter name that contains `beta` will be renamed internally to `bias`. Please use a different name to suppress this warning.\n",
            "A parameter name that contains `gamma` will be renamed internally to `weight`. Please use a different name to suppress this warning.\n",
            "A parameter name that contains `beta` will be renamed internally to `bias`. Please use a different name to suppress this warning.\n",
            "A parameter name that contains `gamma` will be renamed internally to `weight`. Please use a different name to suppress this warning.\n",
            "A parameter name that contains `beta` will be renamed internally to `bias`. Please use a different name to suppress this warning.\n",
            "A parameter name that contains `gamma` will be renamed internally to `weight`. Please use a different name to suppress this warning.\n",
            "A parameter name that contains `beta` will be renamed internally to `bias`. Please use a different name to suppress this warning.\n",
            "A parameter name that contains `gamma` will be renamed internally to `weight`. Please use a different name to suppress this warning.\n",
            "A parameter name that contains `beta` will be renamed internally to `bias`. Please use a different name to suppress this warning.\n",
            "A parameter name that contains `gamma` will be renamed internally to `weight`. Please use a different name to suppress this warning.\n",
            "A parameter name that contains `beta` will be renamed internally to `bias`. Please use a different name to suppress this warning.\n",
            "A parameter name that contains `gamma` will be renamed internally to `weight`. Please use a different name to suppress this warning.\n",
            "A parameter name that contains `beta` will be renamed internally to `bias`. Please use a different name to suppress this warning.\n",
            "A parameter name that contains `gamma` will be renamed internally to `weight`. Please use a different name to suppress this warning.\n"
          ]
        }
      ]
    },
    {
      "cell_type": "code",
      "source": [
        "\n",
        "\n",
        "import plotly.express as px\n",
        "\n",
        "# Assuming 'embeddings' is a tensor of shape (batch_size, sequence_length, hidden_size)\n",
        "# We'll visualize the embeddings of the first token in the sequence\n",
        "token_embeddings = embeddings[0, 0, :].detach().numpy()\n",
        "\n",
        "# Create a scatter plot\n",
        "fig = px.scatter(x=range(len(token_embeddings)), y=token_embeddings,\n",
        "                 labels={'x': 'Embedding Dimension', 'y': 'Value'},\n",
        "                 title='BERT Embeddings for the First Token')\n",
        "\n",
        "fig.show()\n"
      ],
      "metadata": {
        "id": "robH_ACQoXUu",
        "colab": {
          "base_uri": "https://localhost:8080/",
          "height": 542
        },
        "outputId": "c1afc35e-0b8c-4a38-e61f-5329cc64d670"
      },
      "execution_count": 177,
      "outputs": [
        {
          "output_type": "display_data",
          "data": {
            "text/html": [
              "<html>\n",
              "<head><meta charset=\"utf-8\" /></head>\n",
              "<body>\n",
              "    <div>            <script src=\"https://cdnjs.cloudflare.com/ajax/libs/mathjax/2.7.5/MathJax.js?config=TeX-AMS-MML_SVG\"></script><script type=\"text/javascript\">if (window.MathJax && window.MathJax.Hub && window.MathJax.Hub.Config) {window.MathJax.Hub.Config({SVG: {font: \"STIX-Web\"}});}</script>                <script type=\"text/javascript\">window.PlotlyConfig = {MathJaxConfig: 'local'};</script>\n",
              "        <script charset=\"utf-8\" src=\"https://cdn.plot.ly/plotly-2.24.1.min.js\"></script>                <div id=\"ea707f2e-1027-4c39-8bde-f82848429c51\" class=\"plotly-graph-div\" style=\"height:525px; width:100%;\"></div>            <script type=\"text/javascript\">                                    window.PLOTLYENV=window.PLOTLYENV || {};                                    if (document.getElementById(\"ea707f2e-1027-4c39-8bde-f82848429c51\")) {                    Plotly.newPlot(                        \"ea707f2e-1027-4c39-8bde-f82848429c51\",                        [{\"hovertemplate\":\"Embedding Dimension=%{x}\\u003cbr\\u003eValue=%{y}\\u003cextra\\u003e\\u003c\\u002fextra\\u003e\",\"legendgroup\":\"\",\"marker\":{\"color\":\"#636efa\",\"symbol\":\"circle\"},\"mode\":\"markers\",\"name\":\"\",\"orientation\":\"v\",\"showlegend\":false,\"x\":[0,1,2,3,4,5,6,7,8,9,10,11,12,13,14,15,16,17,18,19,20,21,22,23,24,25,26,27,28,29,30,31,32,33,34,35,36,37,38,39,40,41,42,43,44,45,46,47,48,49,50,51,52,53,54,55,56,57,58,59,60,61,62,63,64,65,66,67,68,69,70,71,72,73,74,75,76,77,78,79,80,81,82,83,84,85,86,87,88,89,90,91,92,93,94,95,96,97,98,99,100,101,102,103,104,105,106,107,108,109,110,111,112,113,114,115,116,117,118,119,120,121,122,123,124,125,126,127,128,129,130,131,132,133,134,135,136,137,138,139,140,141,142,143,144,145,146,147,148,149,150,151,152,153,154,155,156,157,158,159,160,161,162,163,164,165,166,167,168,169,170,171,172,173,174,175,176,177,178,179,180,181,182,183,184,185,186,187,188,189,190,191,192,193,194,195,196,197,198,199,200,201,202,203,204,205,206,207,208,209,210,211,212,213,214,215,216,217,218,219,220,221,222,223,224,225,226,227,228,229,230,231,232,233,234,235,236,237,238,239,240,241,242,243,244,245,246,247,248,249,250,251,252,253,254,255,256,257,258,259,260,261,262,263,264,265,266,267,268,269,270,271,272,273,274,275,276,277,278,279,280,281,282,283,284,285,286,287,288,289,290,291,292,293,294,295,296,297,298,299,300,301,302,303,304,305,306,307,308,309,310,311,312,313,314,315,316,317,318,319,320,321,322,323,324,325,326,327,328,329,330,331,332,333,334,335,336,337,338,339,340,341,342,343,344,345,346,347,348,349,350,351,352,353,354,355,356,357,358,359,360,361,362,363,364,365,366,367,368,369,370,371,372,373,374,375,376,377,378,379,380,381,382,383,384,385,386,387,388,389,390,391,392,393,394,395,396,397,398,399,400,401,402,403,404,405,406,407,408,409,410,411,412,413,414,415,416,417,418,419,420,421,422,423,424,425,426,427,428,429,430,431,432,433,434,435,436,437,438,439,440,441,442,443,444,445,446,447,448,449,450,451,452,453,454,455,456,457,458,459,460,461,462,463,464,465,466,467,468,469,470,471,472,473,474,475,476,477,478,479,480,481,482,483,484,485,486,487,488,489,490,491,492,493,494,495,496,497,498,499,500,501,502,503,504,505,506,507,508,509,510,511,512,513,514,515,516,517,518,519,520,521,522,523,524,525,526,527,528,529,530,531,532,533,534,535,536,537,538,539,540,541,542,543,544,545,546,547,548,549,550,551,552,553,554,555,556,557,558,559,560,561,562,563,564,565,566,567,568,569,570,571,572,573,574,575,576,577,578,579,580,581,582,583,584,585,586,587,588,589,590,591,592,593,594,595,596,597,598,599,600,601,602,603,604,605,606,607,608,609,610,611,612,613,614,615,616,617,618,619,620,621,622,623,624,625,626,627,628,629,630,631,632,633,634,635,636,637,638,639,640,641,642,643,644,645,646,647,648,649,650,651,652,653,654,655,656,657,658,659,660,661,662,663,664,665,666,667,668,669,670,671,672,673,674,675,676,677,678,679,680,681,682,683,684,685,686,687,688,689,690,691,692,693,694,695,696,697,698,699,700,701,702,703,704,705,706,707,708,709,710,711,712,713,714,715,716,717,718,719,720,721,722,723,724,725,726,727,728,729,730,731,732,733,734,735,736,737,738,739,740,741,742,743,744,745,746,747,748,749,750,751,752,753,754,755,756,757,758,759,760,761,762,763,764,765,766,767],\"xaxis\":\"x\",\"y\":[-0.2138325273990631,-0.3649170398712158,-0.18540093302726746,0.32315126061439514,-0.27089598774909973,0.17793649435043335,0.09647070616483688,0.07714015245437622,-0.26780080795288086,-0.3711855411529541,0.09876283258199692,-0.21771052479743958,-0.36596807837486267,0.3083738386631012,0.4967831075191498,-0.1626569777727127,-0.11236774921417236,0.4340018630027771,0.3975074589252472,0.05734863132238388,0.3578476309776306,-0.37410545349121094,-0.04697493091225624,0.009474480524659157,0.53287672996521,0.05657302215695381,0.5721958875656128,-0.16372020542621613,-0.06546927243471146,0.11594381928443909,-0.05571240186691284,-0.0284380242228508,-0.22619570791721344,-0.015589737333357334,0.28668150305747986,-0.21546608209609985,0.07586037367582321,-0.4846363067626953,-0.06581343710422516,0.2268821895122528,-0.13739033043384552,0.03781675174832344,0.5586034059524536,0.18010716140270233,-0.038594070822000504,-0.031801097095012665,-2.474059581756592,-0.17032675445079803,-0.28290072083473206,-0.776438295841217,0.4606795907020569,-0.15161210298538208,0.2584627866744995,0.4665098190307617,0.06817179173231125,0.5181405544281006,-0.14528383314609528,0.23341266810894012,-0.045598167926073074,-0.022782037034630775,-0.0026316670700907707,-0.25263482332229614,-0.3053887188434601,0.06387261301279068,-0.19368474185466766,0.0686485692858696,-0.28410887718200684,0.6339771151542664,-0.3998064398765564,0.2861368656158447,-0.35657185316085815,-0.028318464756011963,0.320065438747406,-0.035065557807683945,-0.00641573965549469,-0.1826297789812088,-0.26696544885635376,0.4784051477909088,-0.23772533237934113,-0.0541798435151577,0.14244627952575684,0.09094665944576263,0.21947626769542694,0.14042644202709198,0.046707745641469955,0.39315253496170044,0.11854235082864761,-0.7003927230834961,0.2762703597545624,0.5701824426651001,-0.5993242263793945,0.002322631422430277,0.018610436469316483,0.33835941553115845,0.45320048928260803,0.024645265191793442,-0.05824658274650574,0.06072143465280533,0.08411454409360886,0.4539678990840912,-0.05929476022720337,-0.21299974620342255,0.2696032226085663,0.014576364308595657,0.14647318422794342,-0.469429075717926,-0.19179759919643402,-0.23776601254940033,0.44126036763191223,-2.5290839672088623,0.15698792040348053,0.6188084483146667,-0.170904740691185,-0.01375498715788126,0.11240125447511673,0.14228759706020355,0.3919961750507355,-0.18440254032611847,-0.04423085227608681,0.13839298486709595,-0.11513153463602066,0.7643238306045532,-0.01783917471766472,-0.018187085166573524,0.2808981239795685,0.33216196298599243,0.3363187909126282,-0.15213672816753387,0.29735010862350464,0.03178444504737854,0.2532903254032135,0.265249639749527,-0.18521113693714142,-0.6565011143684387,-0.4337822198867798,-0.19208063185214996,0.04673483595252037,0.06521616876125336,-0.06315115839242935,-0.1428031325340271,-0.6719872951507568,-0.335900217294693,-2.9948103427886963,0.28881555795669556,0.6923815608024597,-0.30831432342529297,-0.0871698409318924,0.05165483430027962,-0.08427329361438751,0.31407758593559265,-0.22876611351966858,0.1892613023519516,0.033238597214221954,0.47038549184799194,-0.29492267966270447,-0.12664741277694702,-0.2463422566652298,-0.5903351306915283,-0.00064361427212134,0.384711891412735,0.010096983052790165,0.20877781510353088,-0.11615083366632462,0.2829477787017822,0.08581878244876862,0.1279047578573227,0.08785254508256912,0.12342091649770737,0.5674245953559875,-0.1452261209487915,-0.0996304377913475,-0.029078815132379532,0.29283228516578674,0.040924232453107834,0.7090290188789368,-0.040747854858636856,0.0419970266520977,0.24079200625419617,0.20397929847240448,0.23381255567073822,-0.10368817299604416,-0.005760864354670048,-0.02545841410756111,0.4815654754638672,0.30330467224121094,0.18497827649116516,0.4873732328414917,0.11609752476215363,0.010076817125082016,0.1764070838689804,0.05880201980471611,-0.06335010379552841,0.11872325837612152,0.5703607201576233,0.2876458168029785,0.148833766579628,-0.013292082585394382,-0.1973525881767273,0.20474804937839508,0.2022968977689743,0.033100638538599014,-0.031482771039009094,0.06231984868645668,0.03015153296291828,-0.22360219061374664,3.9208364486694336,-0.5037087202072144,0.15029315650463104,-0.11652833223342896,0.12245969474315643,0.048907674849033356,-0.06900988519191742,-0.14137576520442963,-0.023881128057837486,0.038792867213487625,-0.170328751206398,0.30759698152542114,0.15355733036994934,-0.3771477937698364,0.174664705991745,0.17771460115909576,0.18403910100460052,0.22202607989311218,0.34136584401130676,-0.2684900462627411,0.33535653352737427,-0.16158664226531982,0.3496198058128357,0.1979941874742508,-1.2925845384597778,0.19606587290763855,0.3436208963394165,-0.5232807397842407,0.29012465476989746,-0.023331688717007637,-0.30442672967910767,0.012336206622421741,-0.08084207028150558,0.6142825484275818,-0.43754300475120544,0.004667069762945175,0.14280913770198822,0.6981425285339355,-0.08645802736282349,-0.30604085326194763,0.1633836030960083,0.32754090428352356,-0.3532593250274658,0.16266191005706787,0.2059546560049057,0.5378811359405518,-0.04521193727850914,-0.2081867903470993,-0.6666104197502136,0.18138569593429565,0.03383069485425949,0.17156971991062164,-0.12308143079280853,-0.33799728751182556,-0.31243008375167847,-0.2366717904806137,-0.008189795538783073,0.05675762519240379,-0.19878199696540833,-0.13447462022304535,-0.3442533314228058,-0.3414817154407501,-0.4902254343032837,0.08153178542852402,-0.38109704852104187,0.13476668298244476,-0.20168223977088928,-0.11950106918811798,-3.742859125137329,0.09708566963672638,0.46909916400909424,0.3579418659210205,0.5817652940750122,-0.2017642855644226,-0.1647339016199112,-0.028165355324745178,0.38070085644721985,-0.0642639696598053,0.3754153549671173,0.3256898820400238,0.037409450858831406,0.41578149795532227,-0.33982041478157043,0.3442080020904541,0.12318093329668045,0.21467135846614838,0.23187512159347534,0.06316102296113968,-0.04361164569854736,0.02983454056084156,-0.05489135906100273,0.20179976522922516,0.17693985998630524,-0.07033471018075943,-0.3739107549190521,-0.344027578830719,0.27591657638549805,-0.6010011434555054,0.20844273269176483,0.05722418427467346,0.023709837347269058,-0.30068641901016235,-0.077499620616436,-3.083052635192871,0.23746667802333832,0.11857423931360245,0.07112224400043488,-0.4800925850868225,0.41212570667266846,0.09230559319257736,0.3302890360355377,-0.22034531831741333,-0.12425645440816879,0.060043055564165115,-0.5429909825325012,0.3141210973262787,0.02367754839360714,0.07651889324188232,0.34289687871932983,0.5807480812072754,-0.20839713513851166,0.5149271488189697,-0.15665729343891144,-0.13805946707725525,0.23406460881233215,0.22270554304122925,-0.35984495282173157,0.14181597530841827,0.03025510534644127,-0.3706201910972595,0.13016900420188904,-0.07929809391498566,-0.12779679894447327,0.4300065338611603,-0.2376183420419693,0.10235235840082169,0.07727891951799393,-0.6057404279708862,0.20730704069137573,0.2590894103050232,0.5156506299972534,0.1864038109779358,0.4675116240978241,-0.018442999571561813,0.6395836472511292,-0.2002105414867401,0.14805780351161957,0.5287623405456543,0.08356589078903198,0.32338351011276245,-0.24136103689670563,-0.404745489358902,0.045859962701797485,0.023787332698702812,0.08940288424491882,1.0718978643417358,0.14079205691814423,0.103120818734169,0.1589042842388153,0.11740805208683014,-0.14457210898399353,-0.10078246891498566,-0.14772957563400269,0.7480452060699463,-0.010117827914655209,0.5171166658401489,-0.31051602959632874,0.7099290490150452,-0.7715820670127869,0.25258564949035645,-0.2621242105960846,-0.4213365614414215,-0.08495112508535385,-0.3644486367702484,0.2251598984003067,-0.17114561796188354,-1.4617921113967896,-0.18379661440849304,-0.05085613578557968,-0.08703739941120148,0.29780685901641846,0.009108327329158783,-0.2263111174106598,-0.5735108256340027,-0.0002500538539607078,-0.2453010231256485,0.3714533746242523,-0.6687018275260925,0.18497954308986664,-0.05025767907500267,0.1476895660161972,-0.9381794333457947,0.3377217948436737,-0.2411782592535019,-0.11040568351745605,-0.20441018044948578,-0.18201817572116852,-0.19050608575344086,0.09114018827676773,0.360151082277298,-1.0083290338516235,0.08661454170942307,0.12364219129085541,-0.024633264169096947,0.018040787428617477,-0.32926398515701294,-0.41422492265701294,0.025314295664429665,0.03788255527615547,-0.1052093654870987,0.8174787759780884,-0.20382462441921234,0.10542576014995575,-0.13135068118572235,0.034178849309682846,-0.21431463956832886,0.21239684522151947,1.0472962856292725,-0.10639196634292603,-0.12580983340740204,0.47655656933784485,0.4698401689529419,0.43053939938545227,0.06173817068338394,0.17535926401615143,0.20695191621780396,-0.0670548528432846,-0.2228422909975052,-0.00887877494096756,-0.5331026911735535,-0.24047768115997314,-0.02900899574160576,-0.10507474839687347,0.2695257365703583,-0.25048938393592834,-0.5721476078033447,-0.5364139080047607,-0.5499026775360107,-0.35163167119026184,0.13100361824035645,0.5025793313980103,0.4659876227378845,0.2202492654323578,-0.1890137940645218,0.14387130737304688,-0.09072957187891006,0.3446252644062042,-0.03623240068554878,0.6819087862968445,-0.048649247735738754,-0.1630382239818573,-0.20300155878067017,0.2497391700744629,-0.5675017237663269,-0.13258980214595795,0.1929018795490265,-0.35794198513031006,0.6287444233894348,0.0577528141438961,-0.12259630858898163,0.22247663140296936,0.22053633630275726,-0.5114927291870117,-0.13493859767913818,0.20154236257076263,-1.2619612216949463,-0.08862482011318207,-0.03753577545285225,-0.1084131971001625,0.10849045217037201,-0.19157227873802185,-0.2696489989757538,0.6356423497200012,-0.08856714516878128,0.049903504550457,-0.46575456857681274,0.225162073969841,-0.06729402393102646,-0.25495803356170654,0.22543124854564667,-0.06506628543138504,0.18454143404960632,0.06033948063850403,-0.5724825859069824,0.3082367181777954,-0.2011275440454483,0.6844567656517029,0.23306353390216827,-0.37373819947242737,0.13874539732933044,0.6001909375190735,0.034445539116859436,0.12588077783584595,-0.313783198595047,0.10116846114397049,0.00834930595010519,-0.13224032521247864,-0.40912064909935,0.2987297475337982,0.49122676253318787,0.11693797260522842,-0.1271994560956955,0.04921499639749527,0.14312897622585297,0.48757827281951904,-0.5583856701850891,0.4907219111919403,0.1484600156545639,0.15789546072483063,0.44356977939605713,0.1267271190881729,-0.12189583480358124,0.04969590902328491,0.4390107989311218,0.06375288218259811,-0.293264776468277,-0.22408908605575562,0.036606740206480026,-0.25600138306617737,0.13710720837116241,-0.09104907512664795,0.037876974791288376,-0.22788992524147034,-0.4289318323135376,-0.16289040446281433,0.408404678106308,-0.35448157787323,0.25685515999794006,0.40165454149246216,-0.5704265832901001,-0.7033674120903015,0.4709610044956207,-0.048570115119218826,-0.3507205545902252,0.04385295510292053,0.07310044765472412,0.6460559964179993,-0.857406497001648,-0.11883223056793213,-0.15864449739456177,-0.19529592990875244,-0.2442704737186432,0.18378238379955292,0.0377282053232193,-0.6367536187171936,0.28157880902290344,-0.8013759851455688,-0.34357601404190063,0.6978439092636108,-0.27893316745758057,0.058995723724365234,0.1993623524904251,-0.4694455564022064,-0.21133583784103394,-0.15297234058380127,-0.38869643211364746,-0.6944561004638672,0.11272362619638443,-0.0004380224854685366,0.1870056688785553,-0.20764626562595367,-0.20176421105861664,0.3036479353904724,-0.3227986991405487,-0.1000077947974205,0.18561458587646484,0.193262979388237,0.024304425343871117,0.43859589099884033,0.5166345834732056,-0.358470618724823,0.13585883378982544,0.14602142572402954,-0.2827899754047394,-0.14391988515853882,0.007153145503252745,0.11398135870695114,-0.14566531777381897,-0.1267085075378418,0.055026132613420486,-0.15640702843666077,0.2169792354106903,-0.08213268220424652,1.7758946418762207,0.4060610234737396,0.02822786569595337,0.05311242863535881,0.770344614982605,0.002723573474213481,0.06364502012729645,0.14615055918693542,-0.1829957813024521,0.3877381980419159,-0.05446818098425865,0.3266863226890564,0.06043460592627525,0.0006476085400208831,0.27460166811943054,0.7984479069709778,0.020116962492465973,-0.25250938534736633,-0.7290250658988953,-0.3222558796405792,-0.8068596720695496,0.49771079421043396,0.40937018394470215,0.2851209044456482,-0.12181428074836731,0.11044475436210632,0.06950872391462326,-0.24075253307819366,0.40208640694618225,-0.0591181255877018,0.06669001281261444,0.049751412123441696,0.1548197716474533,0.5103800296783447,0.010498869232833385,-0.1051548421382904,0.0943419486284256,-0.11891398578882217,-0.5286020040512085,0.049759406596422195,-0.24448363482952118,-0.45555999875068665,0.5300233364105225,-0.1438674032688141,0.10076722502708435,0.20557144284248352,0.07021254301071167,-0.35621485114097595,0.07393789291381836,0.37795114517211914,-0.35418564081192017,-0.10361993312835693,-0.28332003951072693,0.1855335235595703,-0.04716956615447998,-0.12632130086421967,0.1294143944978714,-0.1751333773136139,-0.21303963661193848,0.5384249091148376,-0.09802455455064774,0.28274235129356384,-0.11026432365179062,-0.43131229281425476,-0.026379553601145744,-0.1675998866558075,-0.2232893407344818,0.06461218744516373,-0.04113195836544037,0.22397029399871826,-0.047462739050388336,0.6264880299568176,-0.3266189992427826,0.21530337631702423,0.2990153729915619,0.005348352249711752,0.3685707747936249,0.33851075172424316,0.002265715040266514,-3.0477232933044434,0.17721667885780334,-0.03450704738497734,-0.1632499396800995,-0.1798967570066452,-0.043531376868486404,0.07167373597621918,0.2603985071182251,0.5065346956253052,-0.3222096264362335,0.003149302676320076,0.5773232579231262,-0.05718134343624115,-0.3951176404953003,0.01163365226238966,0.06731665134429932,0.2893867790699005,-0.5356253385543823,-0.3651597201824188,-0.07797450572252274,0.273393839597702,0.24420896172523499,-0.5571152567863464,-0.08976449817419052,-0.015895145013928413,-0.0021456286776810884,0.09475115686655045,-0.1913844496011734,0.35005632042884827,0.22642529010772705,0.0996994748711586,-0.29983142018318176,0.12675341963768005,0.4314420819282532,0.0923953428864479,-0.2959546744823456,-0.22052738070487976,-0.0950482115149498,0.05569399520754814,-0.04166603833436966,0.02188301458954811,0.33331820368766785,-0.437551885843277,0.21684794127941132,-0.18774887919425964,-0.07047343999147415,0.42641472816467285,-0.10293576866388321,0.42254915833473206,-0.29710525274276733,0.026753267273306847,-0.2790345847606659,0.3879011571407318,-0.06182676926255226,0.22979936003684998,-0.09365880489349365,0.32706621289253235,0.08760068565607071,0.19244016706943512,-0.38752079010009766,-0.24604342877864838,0.1665957272052765,-0.45503172278404236,-0.10310240089893341,0.29074805974960327,-0.17529332637786865,-0.24862311780452728,-0.17002145946025848,0.039114177227020264,0.045887015759944916,0.2983628511428833,-0.07689031958580017,-0.22465190291404724,0.172006756067276,0.1860000342130661,-0.27412647008895874,0.22169889509677887,0.27015483379364014,0.3285997211933136,0.2483048141002655,-0.16177980601787567,-0.19440162181854248,-0.15495556592941284,0.5367689728736877,0.28416794538497925,-7.628241539001465,-0.4032675325870514,-0.06756788492202759,0.058595798909664154,0.12479192018508911,-0.2555762529373169,0.22997386753559113,0.08543016761541367,0.1778198480606079,0.12505140900611877,0.3968588709831238,0.17577509582042694,0.08512841165065765,-0.47487932443618774,0.19138820469379425,0.4457179605960846],\"yaxis\":\"y\",\"type\":\"scatter\"}],                        {\"template\":{\"data\":{\"histogram2dcontour\":[{\"type\":\"histogram2dcontour\",\"colorbar\":{\"outlinewidth\":0,\"ticks\":\"\"},\"colorscale\":[[0.0,\"#0d0887\"],[0.1111111111111111,\"#46039f\"],[0.2222222222222222,\"#7201a8\"],[0.3333333333333333,\"#9c179e\"],[0.4444444444444444,\"#bd3786\"],[0.5555555555555556,\"#d8576b\"],[0.6666666666666666,\"#ed7953\"],[0.7777777777777778,\"#fb9f3a\"],[0.8888888888888888,\"#fdca26\"],[1.0,\"#f0f921\"]]}],\"choropleth\":[{\"type\":\"choropleth\",\"colorbar\":{\"outlinewidth\":0,\"ticks\":\"\"}}],\"histogram2d\":[{\"type\":\"histogram2d\",\"colorbar\":{\"outlinewidth\":0,\"ticks\":\"\"},\"colorscale\":[[0.0,\"#0d0887\"],[0.1111111111111111,\"#46039f\"],[0.2222222222222222,\"#7201a8\"],[0.3333333333333333,\"#9c179e\"],[0.4444444444444444,\"#bd3786\"],[0.5555555555555556,\"#d8576b\"],[0.6666666666666666,\"#ed7953\"],[0.7777777777777778,\"#fb9f3a\"],[0.8888888888888888,\"#fdca26\"],[1.0,\"#f0f921\"]]}],\"heatmap\":[{\"type\":\"heatmap\",\"colorbar\":{\"outlinewidth\":0,\"ticks\":\"\"},\"colorscale\":[[0.0,\"#0d0887\"],[0.1111111111111111,\"#46039f\"],[0.2222222222222222,\"#7201a8\"],[0.3333333333333333,\"#9c179e\"],[0.4444444444444444,\"#bd3786\"],[0.5555555555555556,\"#d8576b\"],[0.6666666666666666,\"#ed7953\"],[0.7777777777777778,\"#fb9f3a\"],[0.8888888888888888,\"#fdca26\"],[1.0,\"#f0f921\"]]}],\"heatmapgl\":[{\"type\":\"heatmapgl\",\"colorbar\":{\"outlinewidth\":0,\"ticks\":\"\"},\"colorscale\":[[0.0,\"#0d0887\"],[0.1111111111111111,\"#46039f\"],[0.2222222222222222,\"#7201a8\"],[0.3333333333333333,\"#9c179e\"],[0.4444444444444444,\"#bd3786\"],[0.5555555555555556,\"#d8576b\"],[0.6666666666666666,\"#ed7953\"],[0.7777777777777778,\"#fb9f3a\"],[0.8888888888888888,\"#fdca26\"],[1.0,\"#f0f921\"]]}],\"contourcarpet\":[{\"type\":\"contourcarpet\",\"colorbar\":{\"outlinewidth\":0,\"ticks\":\"\"}}],\"contour\":[{\"type\":\"contour\",\"colorbar\":{\"outlinewidth\":0,\"ticks\":\"\"},\"colorscale\":[[0.0,\"#0d0887\"],[0.1111111111111111,\"#46039f\"],[0.2222222222222222,\"#7201a8\"],[0.3333333333333333,\"#9c179e\"],[0.4444444444444444,\"#bd3786\"],[0.5555555555555556,\"#d8576b\"],[0.6666666666666666,\"#ed7953\"],[0.7777777777777778,\"#fb9f3a\"],[0.8888888888888888,\"#fdca26\"],[1.0,\"#f0f921\"]]}],\"surface\":[{\"type\":\"surface\",\"colorbar\":{\"outlinewidth\":0,\"ticks\":\"\"},\"colorscale\":[[0.0,\"#0d0887\"],[0.1111111111111111,\"#46039f\"],[0.2222222222222222,\"#7201a8\"],[0.3333333333333333,\"#9c179e\"],[0.4444444444444444,\"#bd3786\"],[0.5555555555555556,\"#d8576b\"],[0.6666666666666666,\"#ed7953\"],[0.7777777777777778,\"#fb9f3a\"],[0.8888888888888888,\"#fdca26\"],[1.0,\"#f0f921\"]]}],\"mesh3d\":[{\"type\":\"mesh3d\",\"colorbar\":{\"outlinewidth\":0,\"ticks\":\"\"}}],\"scatter\":[{\"fillpattern\":{\"fillmode\":\"overlay\",\"size\":10,\"solidity\":0.2},\"type\":\"scatter\"}],\"parcoords\":[{\"type\":\"parcoords\",\"line\":{\"colorbar\":{\"outlinewidth\":0,\"ticks\":\"\"}}}],\"scatterpolargl\":[{\"type\":\"scatterpolargl\",\"marker\":{\"colorbar\":{\"outlinewidth\":0,\"ticks\":\"\"}}}],\"bar\":[{\"error_x\":{\"color\":\"#2a3f5f\"},\"error_y\":{\"color\":\"#2a3f5f\"},\"marker\":{\"line\":{\"color\":\"#E5ECF6\",\"width\":0.5},\"pattern\":{\"fillmode\":\"overlay\",\"size\":10,\"solidity\":0.2}},\"type\":\"bar\"}],\"scattergeo\":[{\"type\":\"scattergeo\",\"marker\":{\"colorbar\":{\"outlinewidth\":0,\"ticks\":\"\"}}}],\"scatterpolar\":[{\"type\":\"scatterpolar\",\"marker\":{\"colorbar\":{\"outlinewidth\":0,\"ticks\":\"\"}}}],\"histogram\":[{\"marker\":{\"pattern\":{\"fillmode\":\"overlay\",\"size\":10,\"solidity\":0.2}},\"type\":\"histogram\"}],\"scattergl\":[{\"type\":\"scattergl\",\"marker\":{\"colorbar\":{\"outlinewidth\":0,\"ticks\":\"\"}}}],\"scatter3d\":[{\"type\":\"scatter3d\",\"line\":{\"colorbar\":{\"outlinewidth\":0,\"ticks\":\"\"}},\"marker\":{\"colorbar\":{\"outlinewidth\":0,\"ticks\":\"\"}}}],\"scattermapbox\":[{\"type\":\"scattermapbox\",\"marker\":{\"colorbar\":{\"outlinewidth\":0,\"ticks\":\"\"}}}],\"scatterternary\":[{\"type\":\"scatterternary\",\"marker\":{\"colorbar\":{\"outlinewidth\":0,\"ticks\":\"\"}}}],\"scattercarpet\":[{\"type\":\"scattercarpet\",\"marker\":{\"colorbar\":{\"outlinewidth\":0,\"ticks\":\"\"}}}],\"carpet\":[{\"aaxis\":{\"endlinecolor\":\"#2a3f5f\",\"gridcolor\":\"white\",\"linecolor\":\"white\",\"minorgridcolor\":\"white\",\"startlinecolor\":\"#2a3f5f\"},\"baxis\":{\"endlinecolor\":\"#2a3f5f\",\"gridcolor\":\"white\",\"linecolor\":\"white\",\"minorgridcolor\":\"white\",\"startlinecolor\":\"#2a3f5f\"},\"type\":\"carpet\"}],\"table\":[{\"cells\":{\"fill\":{\"color\":\"#EBF0F8\"},\"line\":{\"color\":\"white\"}},\"header\":{\"fill\":{\"color\":\"#C8D4E3\"},\"line\":{\"color\":\"white\"}},\"type\":\"table\"}],\"barpolar\":[{\"marker\":{\"line\":{\"color\":\"#E5ECF6\",\"width\":0.5},\"pattern\":{\"fillmode\":\"overlay\",\"size\":10,\"solidity\":0.2}},\"type\":\"barpolar\"}],\"pie\":[{\"automargin\":true,\"type\":\"pie\"}]},\"layout\":{\"autotypenumbers\":\"strict\",\"colorway\":[\"#636efa\",\"#EF553B\",\"#00cc96\",\"#ab63fa\",\"#FFA15A\",\"#19d3f3\",\"#FF6692\",\"#B6E880\",\"#FF97FF\",\"#FECB52\"],\"font\":{\"color\":\"#2a3f5f\"},\"hovermode\":\"closest\",\"hoverlabel\":{\"align\":\"left\"},\"paper_bgcolor\":\"white\",\"plot_bgcolor\":\"#E5ECF6\",\"polar\":{\"bgcolor\":\"#E5ECF6\",\"angularaxis\":{\"gridcolor\":\"white\",\"linecolor\":\"white\",\"ticks\":\"\"},\"radialaxis\":{\"gridcolor\":\"white\",\"linecolor\":\"white\",\"ticks\":\"\"}},\"ternary\":{\"bgcolor\":\"#E5ECF6\",\"aaxis\":{\"gridcolor\":\"white\",\"linecolor\":\"white\",\"ticks\":\"\"},\"baxis\":{\"gridcolor\":\"white\",\"linecolor\":\"white\",\"ticks\":\"\"},\"caxis\":{\"gridcolor\":\"white\",\"linecolor\":\"white\",\"ticks\":\"\"}},\"coloraxis\":{\"colorbar\":{\"outlinewidth\":0,\"ticks\":\"\"}},\"colorscale\":{\"sequential\":[[0.0,\"#0d0887\"],[0.1111111111111111,\"#46039f\"],[0.2222222222222222,\"#7201a8\"],[0.3333333333333333,\"#9c179e\"],[0.4444444444444444,\"#bd3786\"],[0.5555555555555556,\"#d8576b\"],[0.6666666666666666,\"#ed7953\"],[0.7777777777777778,\"#fb9f3a\"],[0.8888888888888888,\"#fdca26\"],[1.0,\"#f0f921\"]],\"sequentialminus\":[[0.0,\"#0d0887\"],[0.1111111111111111,\"#46039f\"],[0.2222222222222222,\"#7201a8\"],[0.3333333333333333,\"#9c179e\"],[0.4444444444444444,\"#bd3786\"],[0.5555555555555556,\"#d8576b\"],[0.6666666666666666,\"#ed7953\"],[0.7777777777777778,\"#fb9f3a\"],[0.8888888888888888,\"#fdca26\"],[1.0,\"#f0f921\"]],\"diverging\":[[0,\"#8e0152\"],[0.1,\"#c51b7d\"],[0.2,\"#de77ae\"],[0.3,\"#f1b6da\"],[0.4,\"#fde0ef\"],[0.5,\"#f7f7f7\"],[0.6,\"#e6f5d0\"],[0.7,\"#b8e186\"],[0.8,\"#7fbc41\"],[0.9,\"#4d9221\"],[1,\"#276419\"]]},\"xaxis\":{\"gridcolor\":\"white\",\"linecolor\":\"white\",\"ticks\":\"\",\"title\":{\"standoff\":15},\"zerolinecolor\":\"white\",\"automargin\":true,\"zerolinewidth\":2},\"yaxis\":{\"gridcolor\":\"white\",\"linecolor\":\"white\",\"ticks\":\"\",\"title\":{\"standoff\":15},\"zerolinecolor\":\"white\",\"automargin\":true,\"zerolinewidth\":2},\"scene\":{\"xaxis\":{\"backgroundcolor\":\"#E5ECF6\",\"gridcolor\":\"white\",\"linecolor\":\"white\",\"showbackground\":true,\"ticks\":\"\",\"zerolinecolor\":\"white\",\"gridwidth\":2},\"yaxis\":{\"backgroundcolor\":\"#E5ECF6\",\"gridcolor\":\"white\",\"linecolor\":\"white\",\"showbackground\":true,\"ticks\":\"\",\"zerolinecolor\":\"white\",\"gridwidth\":2},\"zaxis\":{\"backgroundcolor\":\"#E5ECF6\",\"gridcolor\":\"white\",\"linecolor\":\"white\",\"showbackground\":true,\"ticks\":\"\",\"zerolinecolor\":\"white\",\"gridwidth\":2}},\"shapedefaults\":{\"line\":{\"color\":\"#2a3f5f\"}},\"annotationdefaults\":{\"arrowcolor\":\"#2a3f5f\",\"arrowhead\":0,\"arrowwidth\":1},\"geo\":{\"bgcolor\":\"white\",\"landcolor\":\"#E5ECF6\",\"subunitcolor\":\"white\",\"showland\":true,\"showlakes\":true,\"lakecolor\":\"white\"},\"title\":{\"x\":0.05},\"mapbox\":{\"style\":\"light\"}}},\"xaxis\":{\"anchor\":\"y\",\"domain\":[0.0,1.0],\"title\":{\"text\":\"Embedding Dimension\"}},\"yaxis\":{\"anchor\":\"x\",\"domain\":[0.0,1.0],\"title\":{\"text\":\"Value\"}},\"legend\":{\"tracegroupgap\":0},\"title\":{\"text\":\"BERT Embeddings for the First Token\"}},                        {\"responsive\": true}                    ).then(function(){\n",
              "                            \n",
              "var gd = document.getElementById('ea707f2e-1027-4c39-8bde-f82848429c51');\n",
              "var x = new MutationObserver(function (mutations, observer) {{\n",
              "        var display = window.getComputedStyle(gd).display;\n",
              "        if (!display || display === 'none') {{\n",
              "            console.log([gd, 'removed!']);\n",
              "            Plotly.purge(gd);\n",
              "            observer.disconnect();\n",
              "        }}\n",
              "}});\n",
              "\n",
              "// Listen for the removal of the full notebook cells\n",
              "var notebookContainer = gd.closest('#notebook-container');\n",
              "if (notebookContainer) {{\n",
              "    x.observe(notebookContainer, {childList: true});\n",
              "}}\n",
              "\n",
              "// Listen for the clearing of the current output cell\n",
              "var outputEl = gd.closest('.output');\n",
              "if (outputEl) {{\n",
              "    x.observe(outputEl, {childList: true});\n",
              "}}\n",
              "\n",
              "                        })                };                            </script>        </div>\n",
              "</body>\n",
              "</html>"
            ]
          },
          "metadata": {}
        }
      ]
    },
    {
      "cell_type": "markdown",
      "source": [
        "Line plot\n"
      ],
      "metadata": {
        "id": "m4S8Wfku0RVh"
      }
    },
    {
      "cell_type": "code",
      "source": [
        "\n",
        "\n",
        "# Sample data\n",
        "x = [1, 2, 3, 4, 5]\n",
        "y = [2, 4, 1, 5, 3]\n",
        "\n",
        "# Create the plot\n",
        "plt.plot(x, y)\n",
        "\n",
        "# Add labels and title\n",
        "plt.xlabel('X-axis')\n",
        "plt.ylabel('Y-axis')\n",
        "plt.title('Simple Line Plot')\n",
        "\n",
        "# Display the plot\n",
        "plt.show()"
      ],
      "metadata": {
        "colab": {
          "base_uri": "https://localhost:8080/",
          "height": 472
        },
        "id": "1qW5HnhLt0Cm",
        "outputId": "9a653b9b-86bf-4e41-87f2-48f535448a47"
      },
      "execution_count": 178,
      "outputs": [
        {
          "output_type": "display_data",
          "data": {
            "text/plain": [
              "<Figure size 640x480 with 1 Axes>"
            ],
            "image/png": "[encoded data removed]"
          },
          "metadata": {}
        }
      ]
    },
    {
      "cell_type": "markdown",
      "source": [
        "# Evaluate metrices and loss functions"
      ],
      "metadata": {
        "id": "dJh6mBZibRkj"
      }
    },
    {
      "cell_type": "code",
      "source": [
        "import tensorflow as tf\n",
        "from sklearn.metrics import f1_score\n",
        "\n",
        "# Assuming you have predictions and true labels\n",
        "# Replace 'y_pred' and 'y_true' with your actual data\n",
        "y_pred = [0, 1, 1, 0, 1]  # Example predictions\n",
        "y_true = [1, 1, 0, 0, 1]  # Example true labels\n",
        "\n",
        "# Calculate F1-score\n",
        "f1 = f1_score(y_true, y_pred)\n",
        "print(\"F1-score:\", f1)\n",
        "\n",
        "# Convert lists to tensors of floats\n",
        "y_true = tf.constant(y_true, dtype=tf.float32)\n",
        "y_pred = tf.constant(y_pred, dtype=tf.float32)\n",
        "\n",
        "# Calculate binary cross-entropy loss (assuming binary classification)\n",
        "bce = tf.keras.losses.BinaryCrossentropy()(y_true, y_pred).numpy()\n",
        "print(\"Binary Cross-Entropy Loss:\", bce)\n"
      ],
      "metadata": {
        "colab": {
          "base_uri": "https://localhost:8080/"
        },
        "id": "GEVVic2Y-zSY",
        "outputId": "1981ce77-e735-47c8-ba3c-d7193e1aacc7"
      },
      "execution_count": 181,
      "outputs": [
        {
          "output_type": "stream",
          "name": "stdout",
          "text": [
            "F1-score: 0.6666666666666666\n",
            "Binary Cross-Entropy Loss: 6.151637\n"
          ]
        }
      ]
    },
    {
      "cell_type": "markdown",
      "source": [
        "# **STATE-OF-THE-ART**"
      ],
      "metadata": {
        "id": "3JDxuOR5drDN"
      }
    },
    {
      "cell_type": "markdown",
      "source": [
        "# GPT Model"
      ],
      "metadata": {
        "id": "Ijg0LwDgximL"
      }
    },
    {
      "cell_type": "markdown",
      "source": [
        "# Retriever"
      ],
      "metadata": {
        "id": "nnu49jQ5zS6z"
      }
    },
    {
      "cell_type": "code",
      "source": [
        "# Load pre-trained GPT model and tokenizer\n",
        "model_name = 'gpt2'\n",
        "tokenizer = GPT2Tokenizer.from_pretrained(model_name)\n",
        "model = GPT2Model.from_pretrained(model_name)\n",
        "\n",
        "# Tokenize and encode input data (example using the first answer in train_df)\n",
        "inputs = tokenizer(train_df['answer'].iloc[0], return_tensors='pt')\n",
        "\n",
        "# Forward pass through the model\n",
        "outputs = model(**inputs)\n",
        "\n",
        "# Extract embeddings (e.g., last hidden state)\n",
        "embeddings = outputs.last_hidden_state\n"
      ],
      "metadata": {
        "id": "zbntIvdjxlvi"
      },
      "execution_count": null,
      "outputs": []
    },
    {
      "cell_type": "code",
      "source": [
        "from transformers import GPT2LMHeadModel, GPT2Tokenizer\n",
        "\n",
        "# Load pre-trained GPT-2 model and tokenizer\n",
        "model_name = 'gpt2'  # You can choose a different GPT-2 variant if needed\n",
        "tokenizer = GPT2Tokenizer.from_pretrained(model_name)\n",
        "model = GPT2LMHeadModel.from_pretrained(model_name)\n",
        "\n",
        "def generate_text(prompt, max_length=50):\n",
        "    input_ids = tokenizer.encode(prompt, return_tensors='pt')\n",
        "    attention_mask = torch.ones(input_ids.shape, dtype=torch.long)  # Create attention mask\n",
        "\n",
        "    output = model.generate(\n",
        "        input_ids=input_ids,\n",
        "        attention_mask=attention_mask,\n",
        "        max_length=max_length,\n",
        "        num_return_sequences=1,\n",
        "        no_repeat_ngram_size=2,\n",
        "        temperature=0.7\n",
        "    )\n",
        "\n",
        "    generated_text = tokenizer.decode(output[0], skip_special_tokens=True)\n",
        "    return generated_text"
      ],
      "metadata": {
        "id": "Mfr3I04Ty3i3"
      },
      "execution_count": null,
      "outputs": []
    },
    {
      "cell_type": "markdown",
      "source": [
        "# Generator"
      ],
      "metadata": {
        "id": "WDKm1vh60AM8"
      }
    },
    {
      "cell_type": "code",
      "source": [
        "\n",
        "question_prompt = \"Generate a question about: \" + train_df['answer'].iloc[0]\n",
        "generated_question = generate_text(question_prompt)\n",
        "print(\"Generated Question:\", generated_question)\n",
        "\n",
        "# Assuming train_df['question'] contains lists and you want the first element of the first list\n",
        "answer_prompt = \"Generate an answer for: \" + ' '.join(train_df['question'].iloc[0]) # Join list elements into a string\n",
        "generated_answer = generate_text(answer_prompt)\n",
        "print(\"Generated Answer:\", generated_answer)"
      ],
      "metadata": {
        "id": "mCAV7N8gyr2Q"
      },
      "execution_count": null,
      "outputs": []
    },
    {
      "cell_type": "markdown",
      "source": [
        "# Data Visualization\n"
      ],
      "metadata": {
        "id": "TvJ-wW2W0nPM"
      }
    },
    {
      "cell_type": "markdown",
      "source": [
        "Scatter Plot"
      ],
      "metadata": {
        "id": "GlwbWGq40s9s"
      }
    },
    {
      "cell_type": "code",
      "source": [
        "\n",
        "\n",
        "# Assuming 'embeddings' is a tensor of shape (batch_size, sequence_length, hidden_size)\n",
        "# We'll visualize the embeddings of the first token in the sequence\n",
        "token_embeddings = embeddings[0, 0, :].detach().numpy()\n",
        "\n",
        "# Create a scatter plot\n",
        "fig = px.scatter(x=range(len(token_embeddings)), y=token_embeddings,\n",
        "                 labels={'x': 'Embedding Dimension', 'y': 'Value'},\n",
        "                 title='GPT Embeddings for the First Token')\n",
        "\n",
        "fig.show()\n"
      ],
      "metadata": {
        "id": "mTJn11ns0D6m"
      },
      "execution_count": null,
      "outputs": []
    },
    {
      "cell_type": "markdown",
      "source": [
        "Line Plot\n"
      ],
      "metadata": {
        "id": "U790pXas1Eyk"
      }
    },
    {
      "cell_type": "code",
      "source": [
        "\n",
        "\n",
        "# Assuming 'embeddings' is a tensor of shape (batch_size, sequence_length, hidden_size)\n",
        "# We'll visualize the embeddings of the first token in the sequence across all dimensions\n",
        "token_embeddings = embeddings[0, 0, :].detach().numpy()\n",
        "\n",
        "# Create a line plot\n",
        "plt.figure(figsize=(10, 6))  # Adjust figure size as needed\n",
        "plt.plot(token_embeddings)\n",
        "plt.xlabel('Embedding Dimension')\n",
        "plt.ylabel('Value')\n",
        "plt.title('GPT Embeddings for the First Token')\n",
        "plt.grid(True)\n",
        "plt.show()\n"
      ],
      "metadata": {
        "id": "TXy2M8TT0vok"
      },
      "execution_count": null,
      "outputs": []
    },
    {
      "cell_type": "markdown",
      "source": [
        "# **T5 Model**"
      ],
      "metadata": {
        "id": "UzsgPYXu1Muo"
      }
    },
    {
      "cell_type": "code",
      "source": [
        "from transformers import T5ForConditionalGeneration, T5Tokenizer\n",
        "\n",
        "# Load pre-trained T5 model and tokenizer\n",
        "model_name = 't5-small'  # You can choose a different T5 variant if needed\n",
        "tokenizer = T5Tokenizer.from_pretrained(model_name)\n",
        "model = T5ForConditionalGeneration.from_pretrained(model_name)"
      ],
      "metadata": {
        "id": "Lq7wp3Yy17UL"
      },
      "execution_count": null,
      "outputs": []
    },
    {
      "cell_type": "markdown",
      "source": [
        "Generator"
      ],
      "metadata": {
        "id": "4SUZfpfK4VZ4"
      }
    },
    {
      "cell_type": "code",
      "source": [
        "# Define a function for generating text using T5\n",
        "def generate_text_t5(prompt, max_length=50):\n",
        "    inputs = tokenizer(prompt, return_tensors='pt', padding=True, truncation=True, max_length=128)\n",
        "\n",
        "    summary_ids = model.generate(\n",
        "        inputs.input_ids,\n",
        "        attention_mask=inputs.attention_mask,\n",
        "        max_length=max_length,\n",
        "        num_beams=4,\n",
        "        early_stopping=True\n",
        "    )\n",
        "\n",
        "    generated_text = tokenizer.decode(summary_ids[0], skip_special_tokens=True)\n",
        "    return generated_text"
      ],
      "metadata": {
        "id": "nb9oP7w84XuH"
      },
      "execution_count": null,
      "outputs": []
    },
    {
      "cell_type": "markdown",
      "source": [
        "Retriever"
      ],
      "metadata": {
        "id": "XQs3T5zF4jEI"
      }
    },
    {
      "cell_type": "code",
      "source": [
        "question_prompt = \"Generate a question about: \" + train_df['answer'].iloc[0]\n",
        "generated_question = generate_text_t5(question_prompt)\n",
        "print(\"Generated Question (T5):\", generated_question)\n",
        "\n",
        "answer_prompt = \"Generate an answer for: \" + ' '.join(train_df['question'].iloc[0])\n",
        "generated_answer = generate_text_t5(answer_prompt)\n",
        "print(\"Generated Answer (T5):\", generated_answer)"
      ],
      "metadata": {
        "id": "BHvRKPLg3yG4"
      },
      "execution_count": null,
      "outputs": []
    },
    {
      "cell_type": "code",
      "source": [],
      "metadata": {
        "id": "-TmiAmiC7QHA"
      },
      "execution_count": null,
      "outputs": []
    },
    {
      "cell_type": "markdown",
      "source": [
        "# Data Visualization"
      ],
      "metadata": {
        "id": "Ve-7B5aB5XN-"
      }
    },
    {
      "cell_type": "markdown",
      "source": [
        "Scatter Plot"
      ],
      "metadata": {
        "id": "AWePmFh05VGh"
      }
    },
    {
      "cell_type": "code",
      "source": [
        "\n",
        "\n",
        "# Create a scatter plot\n",
        "fig = px.scatter(x=range(len(token_embeddings)), y=token_embeddings,\n",
        "                 labels={'x': 'Embedding Dimension', 'y': 'Value'},\n",
        "                 title='T5 Embeddings for the First Token')\n",
        "\n",
        "fig.show()"
      ],
      "metadata": {
        "id": "zS-BBPyXSLcX"
      },
      "execution_count": null,
      "outputs": []
    },
    {
      "cell_type": "markdown",
      "source": [
        "Line Plot"
      ],
      "metadata": {
        "id": "1zj5RpOX5rjN"
      }
    },
    {
      "cell_type": "code",
      "source": [
        "# Sample data\n",
        "x = [1, 2, 3, 4, 5]\n",
        "y = [2, 4, 1, 5, 3]\n",
        "\n",
        "# Create the plot\n",
        "plt.plot(x, y)\n",
        "\n",
        "# Add labels and title\n",
        "plt.xlabel('X-axis')\n",
        "plt.ylabel('Y-axis')\n",
        "plt.title('Simple Line Plot')\n",
        "\n",
        "# Display the plot\n",
        "plt.show()\n"
      ],
      "metadata": {
        "id": "97KCw5wOSLPK"
      },
      "execution_count": null,
      "outputs": []
    },
    {
      "cell_type": "code",
      "source": [
        "# prompt: Implement train\n",
        "\n",
        "from transformers import TrainingArguments, Trainer\n",
        "\n",
        "# Define training arguments\n",
        "training_args = TrainingArguments(\n",
        "    output_dir=\"./output\",\n",
        "    num_train_epochs=3,\n",
        "    per_device_train_batch_size=8,\n",
        "    per_device_eval_batch_size=16,\n",
        "    evaluation_strategy=\"epoch\",\n",
        "    logging_dir='./logs',\n",
        "    learning_rate=2e-5,\n",
        "    weight_decay=0.01,\n",
        ")\n",
        "\n",
        "# Initialize Trainer\n",
        "trainer = Trainer(\n",
        "    model=model,  # Replace with your chosen model\n",
        "    args=training_args,\n",
        "    train_dataset=train_dataset,  # Replace with your training dataset\n",
        "    eval_dataset=test_dataset,  # Replace with your validation dataset\n",
        ")\n",
        "\n",
        "# Start training\n",
        "trainer.train()\n"
      ],
      "metadata": {
        "id": "KyOsRH7Y7fQp"
      },
      "execution_count": null,
      "outputs": []
    },
    {
      "cell_type": "code",
      "source": [
        "# prompt: # # generated_questions_gpt, generated_answers_gpt (for GPT model)\n",
        "# # # generated_questions_t5, generated_answers_t5 (for T5 model)\n",
        "\n",
        "# For GPT Model\n",
        "generated_questions_gpt = []\n",
        "generated_answers_gpt = []\n",
        "\n",
        "for i in range(len(train_df)):\n",
        "  question_prompt = \"Generate a question about: \" + train_df['answer'].iloc[i]\n",
        "  generated_question = generate_text(question_prompt)\n",
        "  generated_questions_gpt.append(generated_question)\n",
        "\n",
        "  answer_prompt = \"Generate an answer for: \" + ' '.join(train_df['question'].iloc[i])\n",
        "  generated_answer = generate_text(answer_prompt)\n",
        "  generated_answers_gpt.append(generated_answer)\n",
        "\n",
        "# For T5 Model\n",
        "generated_questions_t5 = []\n",
        "generated_answers_t5 = []\n",
        "\n",
        "for i in range(len(train_df)):\n",
        "  question_prompt = \"Generate a question about: \" + train_df['answer'].iloc[i]\n",
        "  generated_question = generate_text_t5(question_prompt)\n",
        "  generated_questions_t5.append(generated_question)\n",
        "\n",
        "  answer_prompt = \"Generate an answer for: \" + ' '.join(train_df['question'].iloc[i])\n",
        "  generated_answer = generate_text_t5(answer_prompt)\n",
        "  generated_answers_t5.append(generated_answer)\n"
      ],
      "metadata": {
        "id": "X0NMkq657BdM"
      },
      "execution_count": null,
      "outputs": []
    },
    {
      "cell_type": "code",
      "source": [
        "# prompt: # Assuming you have generated questions and answers using your models and stored them in variables like:\n",
        "# # generated_questions_gpt, generated_answers_gpt (for GPT model)\n",
        "# # generated_questions_t5, generated_answers_t5 (for T5 model)\n",
        "\n",
        "# Assuming you have generated questions and answers and stored them in variables:\n",
        "# generated_questions_gpt, generated_answers_gpt (for GPT model)\n",
        "# generated_questions_t5, generated_answers_t5 (for T5 model)\n",
        "\n",
        "# Example usage (replace with your actual variables):\n",
        "generated_questions_gpt = [\"Generated question 1 from GPT\", \"Generated question 2 from GPT\"]\n",
        "generated_answers_gpt = [\"Generated answer 1 from GPT\", \"Generated answer 2 from GPT\"]\n",
        "generated_questions_t5 = [\"Generated question 1 from T5\", \"Generated question 2 from T5\"]\n",
        "generated_answers_t5 = [\"Generated answer 1 from T5\", \"Generated answer 2 from T5\"]\n",
        "\n",
        "# Evaluate GPT-generated questions and answers using ROUGE\n",
        "rouge_scores_gpt_questions = rouge_scorer.RougeScorer(['rouge1', 'rouge2', 'rougeL'], use_stemmer=True)\n",
        "rouge_scores_gpt_answers = rouge_scorer.RougeScorer(['rouge1', 'rouge2', 'rougeL'], use_stemmer=True)\n",
        "\n",
        "for i in range(len(generated_questions_gpt)):\n",
        "    # Assuming you have reference questions and answers in val_df\n",
        "    reference_question = val_df['question'].iloc[i]\n",
        "    reference_answer = val_df['answer'].iloc[i]\n",
        "\n",
        "    scores_question = rouge_scores_gpt_questions.score(reference_question, generated_questions_gpt[i])\n",
        "    scores_answer = rouge_scores_gpt_answers.score(reference_answer, generated_answers_gpt[i])\n",
        "\n",
        "    print(f\"GPT - Question {i+1} ROUGE Scores:\", scores_question)\n",
        "    print(f\"GPT - Answer {i+1} ROUGE Scores:\", scores_answer)\n",
        "\n",
        "# Evaluate T5-generated questions and answers using ROUGE\n",
        "rouge_scores_t5_questions = rouge_scorer.RougeScorer(['rouge1', 'rouge2', 'rougeL'], use_stemmer=True)\n",
        "rouge_scores_t5_answers = rouge_scorer.RougeScorer(['rouge1', 'rouge2', 'rougeL'], use_stemmer=True)\n",
        "\n",
        "for i in range(len(generated_questions_t5)):\n",
        "    # Assuming you have reference questions and answers in val_df\n",
        "    reference_question = val_df['question'].iloc[i]\n",
        "    reference_answer = val_df['answer'].iloc[i]\n",
        "\n",
        "    scores_question = rouge_scores_t5_questions.score(reference_question, generated_questions_t5[i])\n",
        "    scores_answer = rouge_scores_t5_answers.score(reference_answer, generated_answers_t5[i])\n",
        "\n",
        "    print(f\"T5 - Question {i+1} ROUGE Scores:\", scores_question)\n",
        "    print(f\"T5 - Answer {i+1} ROUGE Scores:\", scores_answer)\n"
      ],
      "metadata": {
        "id": "sCOcJKi7SLKI"
      },
      "execution_count": null,
      "outputs": []
    },
    {
      "cell_type": "code",
      "source": [],
      "metadata": {
        "id": "tk0w5W-KSLFF"
      },
      "execution_count": null,
      "outputs": []
    },
    {
      "cell_type": "code",
      "source": [],
      "metadata": {
        "id": "gMgBY2_3SLA2"
      },
      "execution_count": null,
      "outputs": []
    },
    {
      "cell_type": "code",
      "source": [],
      "metadata": {
        "id": "FgWWCSLpSK8C"
      },
      "execution_count": null,
      "outputs": []
    },
    {
      "cell_type": "code",
      "source": [],
      "metadata": {
        "id": "yZ1OaBxWSKuT"
      },
      "execution_count": null,
      "outputs": []
    }
  ]
}