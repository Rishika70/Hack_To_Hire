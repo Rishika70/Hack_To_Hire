{
  "nbformat": 4,
  "nbformat_minor": 0,
  "metadata": {
    "colab": {
      "provenance": [],
      "gpuType": "T4",
      "authorship_tag": "ABX9TyM0AP+hDjID45yEkk0pwwYB",
      "include_colab_link": true
    },
    "kernelspec": {
      "name": "python3",
      "display_name": "Python 3"
    },
    "language_info": {
      "name": "python"
    },
    "accelerator": "GPU",
    "widgets": {
      "application/vnd.jupyter.widget-state+json": {
        "ca48250960be4114802e97640e3cc0ff": {
          "model_module": "@jupyter-widgets/controls",
          "model_name": "HBoxModel",
          "model_module_version": "1.5.0",
          "state": {
            "_dom_classes": [],
            "_model_module": "@jupyter-widgets/controls",
            "_model_module_version": "1.5.0",
            "_model_name": "HBoxModel",
            "_view_count": null,
            "_view_module": "@jupyter-widgets/controls",
            "_view_module_version": "1.5.0",
            "_view_name": "HBoxView",
            "box_style": "",
            "children": [
              "IPY_MODEL_d56badbf236c42648f2f126dd5cd8852",
              "IPY_MODEL_d5174c0b83584933870fe8dacac69c93",
              "IPY_MODEL_dd734a8ef8ec4c71b8a49d9b217d0416"
            ],
            "layout": "IPY_MODEL_51aba2a60f65453eab4c97d0355fabb9"
          }
        },
        "d56badbf236c42648f2f126dd5cd8852": {
          "model_module": "@jupyter-widgets/controls",
          "model_name": "HTMLModel",
          "model_module_version": "1.5.0",
          "state": {
            "_dom_classes": [],
            "_model_module": "@jupyter-widgets/controls",
            "_model_module_version": "1.5.0",
            "_model_name": "HTMLModel",
            "_view_count": null,
            "_view_module": "@jupyter-widgets/controls",
            "_view_module_version": "1.5.0",
            "_view_name": "HTMLView",
            "description": "",
            "description_tooltip": null,
            "layout": "IPY_MODEL_757321540f8d41e3a8de159b8e24aac4",
            "placeholder": "​",
            "style": "IPY_MODEL_05976c49cff74edab7943b3ee9d15aac",
            "value": "Map: 100%"
          }
        },
        "d5174c0b83584933870fe8dacac69c93": {
          "model_module": "@jupyter-widgets/controls",
          "model_name": "FloatProgressModel",
          "model_module_version": "1.5.0",
          "state": {
            "_dom_classes": [],
            "_model_module": "@jupyter-widgets/controls",
            "_model_module_version": "1.5.0",
            "_model_name": "FloatProgressModel",
            "_view_count": null,
            "_view_module": "@jupyter-widgets/controls",
            "_view_module_version": "1.5.0",
            "_view_name": "ProgressView",
            "bar_style": "success",
            "description": "",
            "description_tooltip": null,
            "layout": "IPY_MODEL_5801c55a644447f8a7444e609e5c9fb2",
            "max": 40608,
            "min": 0,
            "orientation": "horizontal",
            "style": "IPY_MODEL_e024b98b57684762b33eba44bee5fdf8",
            "value": 40608
          }
        },
        "dd734a8ef8ec4c71b8a49d9b217d0416": {
          "model_module": "@jupyter-widgets/controls",
          "model_name": "HTMLModel",
          "model_module_version": "1.5.0",
          "state": {
            "_dom_classes": [],
            "_model_module": "@jupyter-widgets/controls",
            "_model_module_version": "1.5.0",
            "_model_name": "HTMLModel",
            "_view_count": null,
            "_view_module": "@jupyter-widgets/controls",
            "_view_module_version": "1.5.0",
            "_view_name": "HTMLView",
            "description": "",
            "description_tooltip": null,
            "layout": "IPY_MODEL_a8cc32ed0a45473c9fe1a8e1fb7f54c3",
            "placeholder": "​",
            "style": "IPY_MODEL_19ff476c19e6432b94dffcdf9dccb9ec",
            "value": " 40608/40608 [01:16&lt;00:00, 800.61 examples/s]"
          }
        },
        "51aba2a60f65453eab4c97d0355fabb9": {
          "model_module": "@jupyter-widgets/base",
          "model_name": "LayoutModel",
          "model_module_version": "1.2.0",
          "state": {
            "_model_module": "@jupyter-widgets/base",
            "_model_module_version": "1.2.0",
            "_model_name": "LayoutModel",
            "_view_count": null,
            "_view_module": "@jupyter-widgets/base",
            "_view_module_version": "1.2.0",
            "_view_name": "LayoutView",
            "align_content": null,
            "align_items": null,
            "align_self": null,
            "border": null,
            "bottom": null,
            "display": null,
            "flex": null,
            "flex_flow": null,
            "grid_area": null,
            "grid_auto_columns": null,
            "grid_auto_flow": null,
            "grid_auto_rows": null,
            "grid_column": null,
            "grid_gap": null,
            "grid_row": null,
            "grid_template_areas": null,
            "grid_template_columns": null,
            "grid_template_rows": null,
            "height": null,
            "justify_content": null,
            "justify_items": null,
            "left": null,
            "margin": null,
            "max_height": null,
            "max_width": null,
            "min_height": null,
            "min_width": null,
            "object_fit": null,
            "object_position": null,
            "order": null,
            "overflow": null,
            "overflow_x": null,
            "overflow_y": null,
            "padding": null,
            "right": null,
            "top": null,
            "visibility": null,
            "width": null
          }
        },
        "757321540f8d41e3a8de159b8e24aac4": {
          "model_module": "@jupyter-widgets/base",
          "model_name": "LayoutModel",
          "model_module_version": "1.2.0",
          "state": {
            "_model_module": "@jupyter-widgets/base",
            "_model_module_version": "1.2.0",
            "_model_name": "LayoutModel",
            "_view_count": null,
            "_view_module": "@jupyter-widgets/base",
            "_view_module_version": "1.2.0",
            "_view_name": "LayoutView",
            "align_content": null,
            "align_items": null,
            "align_self": null,
            "border": null,
            "bottom": null,
            "display": null,
            "flex": null,
            "flex_flow": null,
            "grid_area": null,
            "grid_auto_columns": null,
            "grid_auto_flow": null,
            "grid_auto_rows": null,
            "grid_column": null,
            "grid_gap": null,
            "grid_row": null,
            "grid_template_areas": null,
            "grid_template_columns": null,
            "grid_template_rows": null,
            "height": null,
            "justify_content": null,
            "justify_items": null,
            "left": null,
            "margin": null,
            "max_height": null,
            "max_width": null,
            "min_height": null,
            "min_width": null,
            "object_fit": null,
            "object_position": null,
            "order": null,
            "overflow": null,
            "overflow_x": null,
            "overflow_y": null,
            "padding": null,
            "right": null,
            "top": null,
            "visibility": null,
            "width": null
          }
        },
        "05976c49cff74edab7943b3ee9d15aac": {
          "model_module": "@jupyter-widgets/controls",
          "model_name": "DescriptionStyleModel",
          "model_module_version": "1.5.0",
          "state": {
            "_model_module": "@jupyter-widgets/controls",
            "_model_module_version": "1.5.0",
            "_model_name": "DescriptionStyleModel",
            "_view_count": null,
            "_view_module": "@jupyter-widgets/base",
            "_view_module_version": "1.2.0",
            "_view_name": "StyleView",
            "description_width": ""
          }
        },
        "5801c55a644447f8a7444e609e5c9fb2": {
          "model_module": "@jupyter-widgets/base",
          "model_name": "LayoutModel",
          "model_module_version": "1.2.0",
          "state": {
            "_model_module": "@jupyter-widgets/base",
            "_model_module_version": "1.2.0",
            "_model_name": "LayoutModel",
            "_view_count": null,
            "_view_module": "@jupyter-widgets/base",
            "_view_module_version": "1.2.0",
            "_view_name": "LayoutView",
            "align_content": null,
            "align_items": null,
            "align_self": null,
            "border": null,
            "bottom": null,
            "display": null,
            "flex": null,
            "flex_flow": null,
            "grid_area": null,
            "grid_auto_columns": null,
            "grid_auto_flow": null,
            "grid_auto_rows": null,
            "grid_column": null,
            "grid_gap": null,
            "grid_row": null,
            "grid_template_areas": null,
            "grid_template_columns": null,
            "grid_template_rows": null,
            "height": null,
            "justify_content": null,
            "justify_items": null,
            "left": null,
            "margin": null,
            "max_height": null,
            "max_width": null,
            "min_height": null,
            "min_width": null,
            "object_fit": null,
            "object_position": null,
            "order": null,
            "overflow": null,
            "overflow_x": null,
            "overflow_y": null,
            "padding": null,
            "right": null,
            "top": null,
            "visibility": null,
            "width": null
          }
        },
        "e024b98b57684762b33eba44bee5fdf8": {
          "model_module": "@jupyter-widgets/controls",
          "model_name": "ProgressStyleModel",
          "model_module_version": "1.5.0",
          "state": {
            "_model_module": "@jupyter-widgets/controls",
            "_model_module_version": "1.5.0",
            "_model_name": "ProgressStyleModel",
            "_view_count": null,
            "_view_module": "@jupyter-widgets/base",
            "_view_module_version": "1.2.0",
            "_view_name": "StyleView",
            "bar_color": null,
            "description_width": ""
          }
        },
        "a8cc32ed0a45473c9fe1a8e1fb7f54c3": {
          "model_module": "@jupyter-widgets/base",
          "model_name": "LayoutModel",
          "model_module_version": "1.2.0",
          "state": {
            "_model_module": "@jupyter-widgets/base",
            "_model_module_version": "1.2.0",
            "_model_name": "LayoutModel",
            "_view_count": null,
            "_view_module": "@jupyter-widgets/base",
            "_view_module_version": "1.2.0",
            "_view_name": "LayoutView",
            "align_content": null,
            "align_items": null,
            "align_self": null,
            "border": null,
            "bottom": null,
            "display": null,
            "flex": null,
            "flex_flow": null,
            "grid_area": null,
            "grid_auto_columns": null,
            "grid_auto_flow": null,
            "grid_auto_rows": null,
            "grid_column": null,
            "grid_gap": null,
            "grid_row": null,
            "grid_template_areas": null,
            "grid_template_columns": null,
            "grid_template_rows": null,
            "height": null,
            "justify_content": null,
            "justify_items": null,
            "left": null,
            "margin": null,
            "max_height": null,
            "max_width": null,
            "min_height": null,
            "min_width": null,
            "object_fit": null,
            "object_position": null,
            "order": null,
            "overflow": null,
            "overflow_x": null,
            "overflow_y": null,
            "padding": null,
            "right": null,
            "top": null,
            "visibility": null,
            "width": null
          }
        },
        "19ff476c19e6432b94dffcdf9dccb9ec": {
          "model_module": "@jupyter-widgets/controls",
          "model_name": "DescriptionStyleModel",
          "model_module_version": "1.5.0",
          "state": {
            "_model_module": "@jupyter-widgets/controls",
            "_model_module_version": "1.5.0",
            "_model_name": "DescriptionStyleModel",
            "_view_count": null,
            "_view_module": "@jupyter-widgets/base",
            "_view_module_version": "1.2.0",
            "_view_name": "StyleView",
            "description_width": ""
          }
        },
        "893fd941bed24329b4e5cfd52a70ad74": {
          "model_module": "@jupyter-widgets/controls",
          "model_name": "HBoxModel",
          "model_module_version": "1.5.0",
          "state": {
            "_dom_classes": [],
            "_model_module": "@jupyter-widgets/controls",
            "_model_module_version": "1.5.0",
            "_model_name": "HBoxModel",
            "_view_count": null,
            "_view_module": "@jupyter-widgets/controls",
            "_view_module_version": "1.5.0",
            "_view_name": "HBoxView",
            "box_style": "",
            "children": [
              "IPY_MODEL_8354fe66127547048c8be924f1cbb601",
              "IPY_MODEL_ec0d5634d6db4bbc9ec3b379468fe1f3",
              "IPY_MODEL_3238f6e55c9f40b7a3fb43fb8ef70bc5"
            ],
            "layout": "IPY_MODEL_7aa197a02a804290a8862230a7ba6959"
          }
        },
        "8354fe66127547048c8be924f1cbb601": {
          "model_module": "@jupyter-widgets/controls",
          "model_name": "HTMLModel",
          "model_module_version": "1.5.0",
          "state": {
            "_dom_classes": [],
            "_model_module": "@jupyter-widgets/controls",
            "_model_module_version": "1.5.0",
            "_model_name": "HTMLModel",
            "_view_count": null,
            "_view_module": "@jupyter-widgets/controls",
            "_view_module_version": "1.5.0",
            "_view_name": "HTMLView",
            "description": "",
            "description_tooltip": null,
            "layout": "IPY_MODEL_44bb4b6b638a4f03b4661b0cc699fae2",
            "placeholder": "​",
            "style": "IPY_MODEL_443f5160c4094aa69061b40cdf1a0f41",
            "value": "Map: 100%"
          }
        },
        "ec0d5634d6db4bbc9ec3b379468fe1f3": {
          "model_module": "@jupyter-widgets/controls",
          "model_name": "FloatProgressModel",
          "model_module_version": "1.5.0",
          "state": {
            "_dom_classes": [],
            "_model_module": "@jupyter-widgets/controls",
            "_model_module_version": "1.5.0",
            "_model_name": "FloatProgressModel",
            "_view_count": null,
            "_view_module": "@jupyter-widgets/controls",
            "_view_module_version": "1.5.0",
            "_view_name": "ProgressView",
            "bar_style": "success",
            "description": "",
            "description_tooltip": null,
            "layout": "IPY_MODEL_89b3dab746444afc9e93bcd343fab47c",
            "max": 4513,
            "min": 0,
            "orientation": "horizontal",
            "style": "IPY_MODEL_9c67fb58b9e242a8bcaf790bb09d0205",
            "value": 4513
          }
        },
        "3238f6e55c9f40b7a3fb43fb8ef70bc5": {
          "model_module": "@jupyter-widgets/controls",
          "model_name": "HTMLModel",
          "model_module_version": "1.5.0",
          "state": {
            "_dom_classes": [],
            "_model_module": "@jupyter-widgets/controls",
            "_model_module_version": "1.5.0",
            "_model_name": "HTMLModel",
            "_view_count": null,
            "_view_module": "@jupyter-widgets/controls",
            "_view_module_version": "1.5.0",
            "_view_name": "HTMLView",
            "description": "",
            "description_tooltip": null,
            "layout": "IPY_MODEL_1cd09e34b42546f7be304b0fb145e682",
            "placeholder": "​",
            "style": "IPY_MODEL_cd4770d66e5944ddb83163347c84d28b",
            "value": " 4513/4513 [00:05&lt;00:00, 1028.88 examples/s]"
          }
        },
        "7aa197a02a804290a8862230a7ba6959": {
          "model_module": "@jupyter-widgets/base",
          "model_name": "LayoutModel",
          "model_module_version": "1.2.0",
          "state": {
            "_model_module": "@jupyter-widgets/base",
            "_model_module_version": "1.2.0",
            "_model_name": "LayoutModel",
            "_view_count": null,
            "_view_module": "@jupyter-widgets/base",
            "_view_module_version": "1.2.0",
            "_view_name": "LayoutView",
            "align_content": null,
            "align_items": null,
            "align_self": null,
            "border": null,
            "bottom": null,
            "display": null,
            "flex": null,
            "flex_flow": null,
            "grid_area": null,
            "grid_auto_columns": null,
            "grid_auto_flow": null,
            "grid_auto_rows": null,
            "grid_column": null,
            "grid_gap": null,
            "grid_row": null,
            "grid_template_areas": null,
            "grid_template_columns": null,
            "grid_template_rows": null,
            "height": null,
            "justify_content": null,
            "justify_items": null,
            "left": null,
            "margin": null,
            "max_height": null,
            "max_width": null,
            "min_height": null,
            "min_width": null,
            "object_fit": null,
            "object_position": null,
            "order": null,
            "overflow": null,
            "overflow_x": null,
            "overflow_y": null,
            "padding": null,
            "right": null,
            "top": null,
            "visibility": null,
            "width": null
          }
        },
        "44bb4b6b638a4f03b4661b0cc699fae2": {
          "model_module": "@jupyter-widgets/base",
          "model_name": "LayoutModel",
          "model_module_version": "1.2.0",
          "state": {
            "_model_module": "@jupyter-widgets/base",
            "_model_module_version": "1.2.0",
            "_model_name": "LayoutModel",
            "_view_count": null,
            "_view_module": "@jupyter-widgets/base",
            "_view_module_version": "1.2.0",
            "_view_name": "LayoutView",
            "align_content": null,
            "align_items": null,
            "align_self": null,
            "border": null,
            "bottom": null,
            "display": null,
            "flex": null,
            "flex_flow": null,
            "grid_area": null,
            "grid_auto_columns": null,
            "grid_auto_flow": null,
            "grid_auto_rows": null,
            "grid_column": null,
            "grid_gap": null,
            "grid_row": null,
            "grid_template_areas": null,
            "grid_template_columns": null,
            "grid_template_rows": null,
            "height": null,
            "justify_content": null,
            "justify_items": null,
            "left": null,
            "margin": null,
            "max_height": null,
            "max_width": null,
            "min_height": null,
            "min_width": null,
            "object_fit": null,
            "object_position": null,
            "order": null,
            "overflow": null,
            "overflow_x": null,
            "overflow_y": null,
            "padding": null,
            "right": null,
            "top": null,
            "visibility": null,
            "width": null
          }
        },
        "443f5160c4094aa69061b40cdf1a0f41": {
          "model_module": "@jupyter-widgets/controls",
          "model_name": "DescriptionStyleModel",
          "model_module_version": "1.5.0",
          "state": {
            "_model_module": "@jupyter-widgets/controls",
            "_model_module_version": "1.5.0",
            "_model_name": "DescriptionStyleModel",
            "_view_count": null,
            "_view_module": "@jupyter-widgets/base",
            "_view_module_version": "1.2.0",
            "_view_name": "StyleView",
            "description_width": ""
          }
        },
        "89b3dab746444afc9e93bcd343fab47c": {
          "model_module": "@jupyter-widgets/base",
          "model_name": "LayoutModel",
          "model_module_version": "1.2.0",
          "state": {
            "_model_module": "@jupyter-widgets/base",
            "_model_module_version": "1.2.0",
            "_model_name": "LayoutModel",
            "_view_count": null,
            "_view_module": "@jupyter-widgets/base",
            "_view_module_version": "1.2.0",
            "_view_name": "LayoutView",
            "align_content": null,
            "align_items": null,
            "align_self": null,
            "border": null,
            "bottom": null,
            "display": null,
            "flex": null,
            "flex_flow": null,
            "grid_area": null,
            "grid_auto_columns": null,
            "grid_auto_flow": null,
            "grid_auto_rows": null,
            "grid_column": null,
            "grid_gap": null,
            "grid_row": null,
            "grid_template_areas": null,
            "grid_template_columns": null,
            "grid_template_rows": null,
            "height": null,
            "justify_content": null,
            "justify_items": null,
            "left": null,
            "margin": null,
            "max_height": null,
            "max_width": null,
            "min_height": null,
            "min_width": null,
            "object_fit": null,
            "object_position": null,
            "order": null,
            "overflow": null,
            "overflow_x": null,
            "overflow_y": null,
            "padding": null,
            "right": null,
            "top": null,
            "visibility": null,
            "width": null
          }
        },
        "9c67fb58b9e242a8bcaf790bb09d0205": {
          "model_module": "@jupyter-widgets/controls",
          "model_name": "ProgressStyleModel",
          "model_module_version": "1.5.0",
          "state": {
            "_model_module": "@jupyter-widgets/controls",
            "_model_module_version": "1.5.0",
            "_model_name": "ProgressStyleModel",
            "_view_count": null,
            "_view_module": "@jupyter-widgets/base",
            "_view_module_version": "1.2.0",
            "_view_name": "StyleView",
            "bar_color": null,
            "description_width": ""
          }
        },
        "1cd09e34b42546f7be304b0fb145e682": {
          "model_module": "@jupyter-widgets/base",
          "model_name": "LayoutModel",
          "model_module_version": "1.2.0",
          "state": {
            "_model_module": "@jupyter-widgets/base",
            "_model_module_version": "1.2.0",
            "_model_name": "LayoutModel",
            "_view_count": null,
            "_view_module": "@jupyter-widgets/base",
            "_view_module_version": "1.2.0",
            "_view_name": "LayoutView",
            "align_content": null,
            "align_items": null,
            "align_self": null,
            "border": null,
            "bottom": null,
            "display": null,
            "flex": null,
            "flex_flow": null,
            "grid_area": null,
            "grid_auto_columns": null,
            "grid_auto_flow": null,
            "grid_auto_rows": null,
            "grid_column": null,
            "grid_gap": null,
            "grid_row": null,
            "grid_template_areas": null,
            "grid_template_columns": null,
            "grid_template_rows": null,
            "height": null,
            "justify_content": null,
            "justify_items": null,
            "left": null,
            "margin": null,
            "max_height": null,
            "max_width": null,
            "min_height": null,
            "min_width": null,
            "object_fit": null,
            "object_position": null,
            "order": null,
            "overflow": null,
            "overflow_x": null,
            "overflow_y": null,
            "padding": null,
            "right": null,
            "top": null,
            "visibility": null,
            "width": null
          }
        },
        "cd4770d66e5944ddb83163347c84d28b": {
          "model_module": "@jupyter-widgets/controls",
          "model_name": "DescriptionStyleModel",
          "model_module_version": "1.5.0",
          "state": {
            "_model_module": "@jupyter-widgets/controls",
            "_model_module_version": "1.5.0",
            "_model_name": "DescriptionStyleModel",
            "_view_count": null,
            "_view_module": "@jupyter-widgets/base",
            "_view_module_version": "1.2.0",
            "_view_name": "StyleView",
            "description_width": ""
          }
        },
        "1c7de59785bd41be89dc04d54a40dd40": {
          "model_module": "@jupyter-widgets/controls",
          "model_name": "HBoxModel",
          "model_module_version": "1.5.0",
          "state": {
            "_dom_classes": [],
            "_model_module": "@jupyter-widgets/controls",
            "_model_module_version": "1.5.0",
            "_model_name": "HBoxModel",
            "_view_count": null,
            "_view_module": "@jupyter-widgets/controls",
            "_view_module_version": "1.5.0",
            "_view_name": "HBoxView",
            "box_style": "",
            "children": [
              "IPY_MODEL_a0c4c8a82cf44601a8e2714304d82bd7",
              "IPY_MODEL_9ed3e338398d4193a3e3ff9ec7edb997",
              "IPY_MODEL_149d8a2a40a7488cb029472b5db65f90"
            ],
            "layout": "IPY_MODEL_cd5b89ffdc294f14811c4362dcdecd6c"
          }
        },
        "a0c4c8a82cf44601a8e2714304d82bd7": {
          "model_module": "@jupyter-widgets/controls",
          "model_name": "HTMLModel",
          "model_module_version": "1.5.0",
          "state": {
            "_dom_classes": [],
            "_model_module": "@jupyter-widgets/controls",
            "_model_module_version": "1.5.0",
            "_model_name": "HTMLModel",
            "_view_count": null,
            "_view_module": "@jupyter-widgets/controls",
            "_view_module_version": "1.5.0",
            "_view_name": "HTMLView",
            "description": "",
            "description_tooltip": null,
            "layout": "IPY_MODEL_e03f604d11b84909aa05b5f94e97a7e2",
            "placeholder": "​",
            "style": "IPY_MODEL_7208d42da02042cdaf8c0292c3554fbe",
            "value": "Map: 100%"
          }
        },
        "9ed3e338398d4193a3e3ff9ec7edb997": {
          "model_module": "@jupyter-widgets/controls",
          "model_name": "FloatProgressModel",
          "model_module_version": "1.5.0",
          "state": {
            "_dom_classes": [],
            "_model_module": "@jupyter-widgets/controls",
            "_model_module_version": "1.5.0",
            "_model_name": "FloatProgressModel",
            "_view_count": null,
            "_view_module": "@jupyter-widgets/controls",
            "_view_module_version": "1.5.0",
            "_view_name": "ProgressView",
            "bar_style": "success",
            "description": "",
            "description_tooltip": null,
            "layout": "IPY_MODEL_94b6dc7198474789a7e2220bbe3ffd1d",
            "max": 45121,
            "min": 0,
            "orientation": "horizontal",
            "style": "IPY_MODEL_2418127cb2444950add7b279b08b7a28",
            "value": 45121
          }
        },
        "149d8a2a40a7488cb029472b5db65f90": {
          "model_module": "@jupyter-widgets/controls",
          "model_name": "HTMLModel",
          "model_module_version": "1.5.0",
          "state": {
            "_dom_classes": [],
            "_model_module": "@jupyter-widgets/controls",
            "_model_module_version": "1.5.0",
            "_model_name": "HTMLModel",
            "_view_count": null,
            "_view_module": "@jupyter-widgets/controls",
            "_view_module_version": "1.5.0",
            "_view_name": "HTMLView",
            "description": "",
            "description_tooltip": null,
            "layout": "IPY_MODEL_02cc57cb30ff489ba8255f9f1c14da73",
            "placeholder": "​",
            "style": "IPY_MODEL_7e5ed89a60f74c8c87ec906902be409d",
            "value": " 45121/45121 [00:04&lt;00:00, 11414.90 examples/s]"
          }
        },
        "cd5b89ffdc294f14811c4362dcdecd6c": {
          "model_module": "@jupyter-widgets/base",
          "model_name": "LayoutModel",
          "model_module_version": "1.2.0",
          "state": {
            "_model_module": "@jupyter-widgets/base",
            "_model_module_version": "1.2.0",
            "_model_name": "LayoutModel",
            "_view_count": null,
            "_view_module": "@jupyter-widgets/base",
            "_view_module_version": "1.2.0",
            "_view_name": "LayoutView",
            "align_content": null,
            "align_items": null,
            "align_self": null,
            "border": null,
            "bottom": null,
            "display": null,
            "flex": null,
            "flex_flow": null,
            "grid_area": null,
            "grid_auto_columns": null,
            "grid_auto_flow": null,
            "grid_auto_rows": null,
            "grid_column": null,
            "grid_gap": null,
            "grid_row": null,
            "grid_template_areas": null,
            "grid_template_columns": null,
            "grid_template_rows": null,
            "height": null,
            "justify_content": null,
            "justify_items": null,
            "left": null,
            "margin": null,
            "max_height": null,
            "max_width": null,
            "min_height": null,
            "min_width": null,
            "object_fit": null,
            "object_position": null,
            "order": null,
            "overflow": null,
            "overflow_x": null,
            "overflow_y": null,
            "padding": null,
            "right": null,
            "top": null,
            "visibility": null,
            "width": null
          }
        },
        "e03f604d11b84909aa05b5f94e97a7e2": {
          "model_module": "@jupyter-widgets/base",
          "model_name": "LayoutModel",
          "model_module_version": "1.2.0",
          "state": {
            "_model_module": "@jupyter-widgets/base",
            "_model_module_version": "1.2.0",
            "_model_name": "LayoutModel",
            "_view_count": null,
            "_view_module": "@jupyter-widgets/base",
            "_view_module_version": "1.2.0",
            "_view_name": "LayoutView",
            "align_content": null,
            "align_items": null,
            "align_self": null,
            "border": null,
            "bottom": null,
            "display": null,
            "flex": null,
            "flex_flow": null,
            "grid_area": null,
            "grid_auto_columns": null,
            "grid_auto_flow": null,
            "grid_auto_rows": null,
            "grid_column": null,
            "grid_gap": null,
            "grid_row": null,
            "grid_template_areas": null,
            "grid_template_columns": null,
            "grid_template_rows": null,
            "height": null,
            "justify_content": null,
            "justify_items": null,
            "left": null,
            "margin": null,
            "max_height": null,
            "max_width": null,
            "min_height": null,
            "min_width": null,
            "object_fit": null,
            "object_position": null,
            "order": null,
            "overflow": null,
            "overflow_x": null,
            "overflow_y": null,
            "padding": null,
            "right": null,
            "top": null,
            "visibility": null,
            "width": null
          }
        },
        "7208d42da02042cdaf8c0292c3554fbe": {
          "model_module": "@jupyter-widgets/controls",
          "model_name": "DescriptionStyleModel",
          "model_module_version": "1.5.0",
          "state": {
            "_model_module": "@jupyter-widgets/controls",
            "_model_module_version": "1.5.0",
            "_model_name": "DescriptionStyleModel",
            "_view_count": null,
            "_view_module": "@jupyter-widgets/base",
            "_view_module_version": "1.2.0",
            "_view_name": "StyleView",
            "description_width": ""
          }
        },
        "94b6dc7198474789a7e2220bbe3ffd1d": {
          "model_module": "@jupyter-widgets/base",
          "model_name": "LayoutModel",
          "model_module_version": "1.2.0",
          "state": {
            "_model_module": "@jupyter-widgets/base",
            "_model_module_version": "1.2.0",
            "_model_name": "LayoutModel",
            "_view_count": null,
            "_view_module": "@jupyter-widgets/base",
            "_view_module_version": "1.2.0",
            "_view_name": "LayoutView",
            "align_content": null,
            "align_items": null,
            "align_self": null,
            "border": null,
            "bottom": null,
            "display": null,
            "flex": null,
            "flex_flow": null,
            "grid_area": null,
            "grid_auto_columns": null,
            "grid_auto_flow": null,
            "grid_auto_rows": null,
            "grid_column": null,
            "grid_gap": null,
            "grid_row": null,
            "grid_template_areas": null,
            "grid_template_columns": null,
            "grid_template_rows": null,
            "height": null,
            "justify_content": null,
            "justify_items": null,
            "left": null,
            "margin": null,
            "max_height": null,
            "max_width": null,
            "min_height": null,
            "min_width": null,
            "object_fit": null,
            "object_position": null,
            "order": null,
            "overflow": null,
            "overflow_x": null,
            "overflow_y": null,
            "padding": null,
            "right": null,
            "top": null,
            "visibility": null,
            "width": null
          }
        },
        "2418127cb2444950add7b279b08b7a28": {
          "model_module": "@jupyter-widgets/controls",
          "model_name": "ProgressStyleModel",
          "model_module_version": "1.5.0",
          "state": {
            "_model_module": "@jupyter-widgets/controls",
            "_model_module_version": "1.5.0",
            "_model_name": "ProgressStyleModel",
            "_view_count": null,
            "_view_module": "@jupyter-widgets/base",
            "_view_module_version": "1.2.0",
            "_view_name": "StyleView",
            "bar_color": null,
            "description_width": ""
          }
        },
        "02cc57cb30ff489ba8255f9f1c14da73": {
          "model_module": "@jupyter-widgets/base",
          "model_name": "LayoutModel",
          "model_module_version": "1.2.0",
          "state": {
            "_model_module": "@jupyter-widgets/base",
            "_model_module_version": "1.2.0",
            "_model_name": "LayoutModel",
            "_view_count": null,
            "_view_module": "@jupyter-widgets/base",
            "_view_module_version": "1.2.0",
            "_view_name": "LayoutView",
            "align_content": null,
            "align_items": null,
            "align_self": null,
            "border": null,
            "bottom": null,
            "display": null,
            "flex": null,
            "flex_flow": null,
            "grid_area": null,
            "grid_auto_columns": null,
            "grid_auto_flow": null,
            "grid_auto_rows": null,
            "grid_column": null,
            "grid_gap": null,
            "grid_row": null,
            "grid_template_areas": null,
            "grid_template_columns": null,
            "grid_template_rows": null,
            "height": null,
            "justify_content": null,
            "justify_items": null,
            "left": null,
            "margin": null,
            "max_height": null,
            "max_width": null,
            "min_height": null,
            "min_width": null,
            "object_fit": null,
            "object_position": null,
            "order": null,
            "overflow": null,
            "overflow_x": null,
            "overflow_y": null,
            "padding": null,
            "right": null,
            "top": null,
            "visibility": null,
            "width": null
          }
        },
        "7e5ed89a60f74c8c87ec906902be409d": {
          "model_module": "@jupyter-widgets/controls",
          "model_name": "DescriptionStyleModel",
          "model_module_version": "1.5.0",
          "state": {
            "_model_module": "@jupyter-widgets/controls",
            "_model_module_version": "1.5.0",
            "_model_name": "DescriptionStyleModel",
            "_view_count": null,
            "_view_module": "@jupyter-widgets/base",
            "_view_module_version": "1.2.0",
            "_view_name": "StyleView",
            "description_width": ""
          }
        },
        "749e83e0751f46eda6213dbd9b0af045": {
          "model_module": "@jupyter-widgets/controls",
          "model_name": "HBoxModel",
          "model_module_version": "1.5.0",
          "state": {
            "_dom_classes": [],
            "_model_module": "@jupyter-widgets/controls",
            "_model_module_version": "1.5.0",
            "_model_name": "HBoxModel",
            "_view_count": null,
            "_view_module": "@jupyter-widgets/controls",
            "_view_module_version": "1.5.0",
            "_view_name": "HBoxView",
            "box_style": "",
            "children": [
              "IPY_MODEL_461ea3aad9bc408da386581b1cb12b1b",
              "IPY_MODEL_1b1fd9484a694bc799d02b971f5b4243",
              "IPY_MODEL_f4aee715edb14fd39c785c24ad00cbbd"
            ],
            "layout": "IPY_MODEL_249b542267ee4131a35004ebe4553cc9"
          }
        },
        "461ea3aad9bc408da386581b1cb12b1b": {
          "model_module": "@jupyter-widgets/controls",
          "model_name": "HTMLModel",
          "model_module_version": "1.5.0",
          "state": {
            "_dom_classes": [],
            "_model_module": "@jupyter-widgets/controls",
            "_model_module_version": "1.5.0",
            "_model_name": "HTMLModel",
            "_view_count": null,
            "_view_module": "@jupyter-widgets/controls",
            "_view_module_version": "1.5.0",
            "_view_name": "HTMLView",
            "description": "",
            "description_tooltip": null,
            "layout": "IPY_MODEL_ece20c36cb29454f8a4360bec342d9b8",
            "placeholder": "​",
            "style": "IPY_MODEL_a1a7c20f56f743f085802f0d0ae48377",
            "value": "Map: 100%"
          }
        },
        "1b1fd9484a694bc799d02b971f5b4243": {
          "model_module": "@jupyter-widgets/controls",
          "model_name": "FloatProgressModel",
          "model_module_version": "1.5.0",
          "state": {
            "_dom_classes": [],
            "_model_module": "@jupyter-widgets/controls",
            "_model_module_version": "1.5.0",
            "_model_name": "FloatProgressModel",
            "_view_count": null,
            "_view_module": "@jupyter-widgets/controls",
            "_view_module_version": "1.5.0",
            "_view_name": "ProgressView",
            "bar_style": "success",
            "description": "",
            "description_tooltip": null,
            "layout": "IPY_MODEL_fc09034ac5004c31aa68d5c8efac04e0",
            "max": 11281,
            "min": 0,
            "orientation": "horizontal",
            "style": "IPY_MODEL_91227fc28f844cfc990d3422e97b4338",
            "value": 11281
          }
        },
        "f4aee715edb14fd39c785c24ad00cbbd": {
          "model_module": "@jupyter-widgets/controls",
          "model_name": "HTMLModel",
          "model_module_version": "1.5.0",
          "state": {
            "_dom_classes": [],
            "_model_module": "@jupyter-widgets/controls",
            "_model_module_version": "1.5.0",
            "_model_name": "HTMLModel",
            "_view_count": null,
            "_view_module": "@jupyter-widgets/controls",
            "_view_module_version": "1.5.0",
            "_view_name": "HTMLView",
            "description": "",
            "description_tooltip": null,
            "layout": "IPY_MODEL_7c71a38c08c4470985f2a271a62ce6d0",
            "placeholder": "​",
            "style": "IPY_MODEL_056c01103f6d46d68072264993c5dbff",
            "value": " 11281/11281 [00:01&lt;00:00, 7942.74 examples/s]"
          }
        },
        "249b542267ee4131a35004ebe4553cc9": {
          "model_module": "@jupyter-widgets/base",
          "model_name": "LayoutModel",
          "model_module_version": "1.2.0",
          "state": {
            "_model_module": "@jupyter-widgets/base",
            "_model_module_version": "1.2.0",
            "_model_name": "LayoutModel",
            "_view_count": null,
            "_view_module": "@jupyter-widgets/base",
            "_view_module_version": "1.2.0",
            "_view_name": "LayoutView",
            "align_content": null,
            "align_items": null,
            "align_self": null,
            "border": null,
            "bottom": null,
            "display": null,
            "flex": null,
            "flex_flow": null,
            "grid_area": null,
            "grid_auto_columns": null,
            "grid_auto_flow": null,
            "grid_auto_rows": null,
            "grid_column": null,
            "grid_gap": null,
            "grid_row": null,
            "grid_template_areas": null,
            "grid_template_columns": null,
            "grid_template_rows": null,
            "height": null,
            "justify_content": null,
            "justify_items": null,
            "left": null,
            "margin": null,
            "max_height": null,
            "max_width": null,
            "min_height": null,
            "min_width": null,
            "object_fit": null,
            "object_position": null,
            "order": null,
            "overflow": null,
            "overflow_x": null,
            "overflow_y": null,
            "padding": null,
            "right": null,
            "top": null,
            "visibility": null,
            "width": null
          }
        },
        "ece20c36cb29454f8a4360bec342d9b8": {
          "model_module": "@jupyter-widgets/base",
          "model_name": "LayoutModel",
          "model_module_version": "1.2.0",
          "state": {
            "_model_module": "@jupyter-widgets/base",
            "_model_module_version": "1.2.0",
            "_model_name": "LayoutModel",
            "_view_count": null,
            "_view_module": "@jupyter-widgets/base",
            "_view_module_version": "1.2.0",
            "_view_name": "LayoutView",
            "align_content": null,
            "align_items": null,
            "align_self": null,
            "border": null,
            "bottom": null,
            "display": null,
            "flex": null,
            "flex_flow": null,
            "grid_area": null,
            "grid_auto_columns": null,
            "grid_auto_flow": null,
            "grid_auto_rows": null,
            "grid_column": null,
            "grid_gap": null,
            "grid_row": null,
            "grid_template_areas": null,
            "grid_template_columns": null,
            "grid_template_rows": null,
            "height": null,
            "justify_content": null,
            "justify_items": null,
            "left": null,
            "margin": null,
            "max_height": null,
            "max_width": null,
            "min_height": null,
            "min_width": null,
            "object_fit": null,
            "object_position": null,
            "order": null,
            "overflow": null,
            "overflow_x": null,
            "overflow_y": null,
            "padding": null,
            "right": null,
            "top": null,
            "visibility": null,
            "width": null
          }
        },
        "a1a7c20f56f743f085802f0d0ae48377": {
          "model_module": "@jupyter-widgets/controls",
          "model_name": "DescriptionStyleModel",
          "model_module_version": "1.5.0",
          "state": {
            "_model_module": "@jupyter-widgets/controls",
            "_model_module_version": "1.5.0",
            "_model_name": "DescriptionStyleModel",
            "_view_count": null,
            "_view_module": "@jupyter-widgets/base",
            "_view_module_version": "1.2.0",
            "_view_name": "StyleView",
            "description_width": ""
          }
        },
        "fc09034ac5004c31aa68d5c8efac04e0": {
          "model_module": "@jupyter-widgets/base",
          "model_name": "LayoutModel",
          "model_module_version": "1.2.0",
          "state": {
            "_model_module": "@jupyter-widgets/base",
            "_model_module_version": "1.2.0",
            "_model_name": "LayoutModel",
            "_view_count": null,
            "_view_module": "@jupyter-widgets/base",
            "_view_module_version": "1.2.0",
            "_view_name": "LayoutView",
            "align_content": null,
            "align_items": null,
            "align_self": null,
            "border": null,
            "bottom": null,
            "display": null,
            "flex": null,
            "flex_flow": null,
            "grid_area": null,
            "grid_auto_columns": null,
            "grid_auto_flow": null,
            "grid_auto_rows": null,
            "grid_column": null,
            "grid_gap": null,
            "grid_row": null,
            "grid_template_areas": null,
            "grid_template_columns": null,
            "grid_template_rows": null,
            "height": null,
            "justify_content": null,
            "justify_items": null,
            "left": null,
            "margin": null,
            "max_height": null,
            "max_width": null,
            "min_height": null,
            "min_width": null,
            "object_fit": null,
            "object_position": null,
            "order": null,
            "overflow": null,
            "overflow_x": null,
            "overflow_y": null,
            "padding": null,
            "right": null,
            "top": null,
            "visibility": null,
            "width": null
          }
        },
        "91227fc28f844cfc990d3422e97b4338": {
          "model_module": "@jupyter-widgets/controls",
          "model_name": "ProgressStyleModel",
          "model_module_version": "1.5.0",
          "state": {
            "_model_module": "@jupyter-widgets/controls",
            "_model_module_version": "1.5.0",
            "_model_name": "ProgressStyleModel",
            "_view_count": null,
            "_view_module": "@jupyter-widgets/base",
            "_view_module_version": "1.2.0",
            "_view_name": "StyleView",
            "bar_color": null,
            "description_width": ""
          }
        },
        "7c71a38c08c4470985f2a271a62ce6d0": {
          "model_module": "@jupyter-widgets/base",
          "model_name": "LayoutModel",
          "model_module_version": "1.2.0",
          "state": {
            "_model_module": "@jupyter-widgets/base",
            "_model_module_version": "1.2.0",
            "_model_name": "LayoutModel",
            "_view_count": null,
            "_view_module": "@jupyter-widgets/base",
            "_view_module_version": "1.2.0",
            "_view_name": "LayoutView",
            "align_content": null,
            "align_items": null,
            "align_self": null,
            "border": null,
            "bottom": null,
            "display": null,
            "flex": null,
            "flex_flow": null,
            "grid_area": null,
            "grid_auto_columns": null,
            "grid_auto_flow": null,
            "grid_auto_rows": null,
            "grid_column": null,
            "grid_gap": null,
            "grid_row": null,
            "grid_template_areas": null,
            "grid_template_columns": null,
            "grid_template_rows": null,
            "height": null,
            "justify_content": null,
            "justify_items": null,
            "left": null,
            "margin": null,
            "max_height": null,
            "max_width": null,
            "min_height": null,
            "min_width": null,
            "object_fit": null,
            "object_position": null,
            "order": null,
            "overflow": null,
            "overflow_x": null,
            "overflow_y": null,
            "padding": null,
            "right": null,
            "top": null,
            "visibility": null,
            "width": null
          }
        },
        "056c01103f6d46d68072264993c5dbff": {
          "model_module": "@jupyter-widgets/controls",
          "model_name": "DescriptionStyleModel",
          "model_module_version": "1.5.0",
          "state": {
            "_model_module": "@jupyter-widgets/controls",
            "_model_module_version": "1.5.0",
            "_model_name": "DescriptionStyleModel",
            "_view_count": null,
            "_view_module": "@jupyter-widgets/base",
            "_view_module_version": "1.2.0",
            "_view_name": "StyleView",
            "description_width": ""
          }
        },
        "2d063bc65b554078b32ca68b06b1ebca": {
          "model_module": "@jupyter-widgets/controls",
          "model_name": "HBoxModel",
          "model_module_version": "1.5.0",
          "state": {
            "_dom_classes": [],
            "_model_module": "@jupyter-widgets/controls",
            "_model_module_version": "1.5.0",
            "_model_name": "HBoxModel",
            "_view_count": null,
            "_view_module": "@jupyter-widgets/controls",
            "_view_module_version": "1.5.0",
            "_view_name": "HBoxView",
            "box_style": "",
            "children": [
              "IPY_MODEL_29289e7092e349b2bf3801ab32444604",
              "IPY_MODEL_f1280fc1bd1441489dd71c2b7c12b4b6",
              "IPY_MODEL_b6299b74951b4d76b77583e64fc84dad"
            ],
            "layout": "IPY_MODEL_d3621e4534814df28551e504aab4f0ae"
          }
        },
        "29289e7092e349b2bf3801ab32444604": {
          "model_module": "@jupyter-widgets/controls",
          "model_name": "HTMLModel",
          "model_module_version": "1.5.0",
          "state": {
            "_dom_classes": [],
            "_model_module": "@jupyter-widgets/controls",
            "_model_module_version": "1.5.0",
            "_model_name": "HTMLModel",
            "_view_count": null,
            "_view_module": "@jupyter-widgets/controls",
            "_view_module_version": "1.5.0",
            "_view_name": "HTMLView",
            "description": "",
            "description_tooltip": null,
            "layout": "IPY_MODEL_522afae163494e88a5f5d0f964e8bb23",
            "placeholder": "​",
            "style": "IPY_MODEL_21dc1f1334694a82855a09342e26be48",
            "value": "generation_config.json: 100%"
          }
        },
        "f1280fc1bd1441489dd71c2b7c12b4b6": {
          "model_module": "@jupyter-widgets/controls",
          "model_name": "FloatProgressModel",
          "model_module_version": "1.5.0",
          "state": {
            "_dom_classes": [],
            "_model_module": "@jupyter-widgets/controls",
            "_model_module_version": "1.5.0",
            "_model_name": "FloatProgressModel",
            "_view_count": null,
            "_view_module": "@jupyter-widgets/controls",
            "_view_module_version": "1.5.0",
            "_view_name": "ProgressView",
            "bar_style": "success",
            "description": "",
            "description_tooltip": null,
            "layout": "IPY_MODEL_bd9a6b3044ea4970af15b896250424a5",
            "max": 124,
            "min": 0,
            "orientation": "horizontal",
            "style": "IPY_MODEL_15f5c07f406a4d7192e9d7c2ebbcbfc5",
            "value": 124
          }
        },
        "b6299b74951b4d76b77583e64fc84dad": {
          "model_module": "@jupyter-widgets/controls",
          "model_name": "HTMLModel",
          "model_module_version": "1.5.0",
          "state": {
            "_dom_classes": [],
            "_model_module": "@jupyter-widgets/controls",
            "_model_module_version": "1.5.0",
            "_model_name": "HTMLModel",
            "_view_count": null,
            "_view_module": "@jupyter-widgets/controls",
            "_view_module_version": "1.5.0",
            "_view_name": "HTMLView",
            "description": "",
            "description_tooltip": null,
            "layout": "IPY_MODEL_3ee979b9ba364cd9b44be13e1e06218f",
            "placeholder": "​",
            "style": "IPY_MODEL_cb7e32e9f67a4425b3c4d459392262fe",
            "value": " 124/124 [00:00&lt;00:00, 5.81kB/s]"
          }
        },
        "d3621e4534814df28551e504aab4f0ae": {
          "model_module": "@jupyter-widgets/base",
          "model_name": "LayoutModel",
          "model_module_version": "1.2.0",
          "state": {
            "_model_module": "@jupyter-widgets/base",
            "_model_module_version": "1.2.0",
            "_model_name": "LayoutModel",
            "_view_count": null,
            "_view_module": "@jupyter-widgets/base",
            "_view_module_version": "1.2.0",
            "_view_name": "LayoutView",
            "align_content": null,
            "align_items": null,
            "align_self": null,
            "border": null,
            "bottom": null,
            "display": null,
            "flex": null,
            "flex_flow": null,
            "grid_area": null,
            "grid_auto_columns": null,
            "grid_auto_flow": null,
            "grid_auto_rows": null,
            "grid_column": null,
            "grid_gap": null,
            "grid_row": null,
            "grid_template_areas": null,
            "grid_template_columns": null,
            "grid_template_rows": null,
            "height": null,
            "justify_content": null,
            "justify_items": null,
            "left": null,
            "margin": null,
            "max_height": null,
            "max_width": null,
            "min_height": null,
            "min_width": null,
            "object_fit": null,
            "object_position": null,
            "order": null,
            "overflow": null,
            "overflow_x": null,
            "overflow_y": null,
            "padding": null,
            "right": null,
            "top": null,
            "visibility": null,
            "width": null
          }
        },
        "522afae163494e88a5f5d0f964e8bb23": {
          "model_module": "@jupyter-widgets/base",
          "model_name": "LayoutModel",
          "model_module_version": "1.2.0",
          "state": {
            "_model_module": "@jupyter-widgets/base",
            "_model_module_version": "1.2.0",
            "_model_name": "LayoutModel",
            "_view_count": null,
            "_view_module": "@jupyter-widgets/base",
            "_view_module_version": "1.2.0",
            "_view_name": "LayoutView",
            "align_content": null,
            "align_items": null,
            "align_self": null,
            "border": null,
            "bottom": null,
            "display": null,
            "flex": null,
            "flex_flow": null,
            "grid_area": null,
            "grid_auto_columns": null,
            "grid_auto_flow": null,
            "grid_auto_rows": null,
            "grid_column": null,
            "grid_gap": null,
            "grid_row": null,
            "grid_template_areas": null,
            "grid_template_columns": null,
            "grid_template_rows": null,
            "height": null,
            "justify_content": null,
            "justify_items": null,
            "left": null,
            "margin": null,
            "max_height": null,
            "max_width": null,
            "min_height": null,
            "min_width": null,
            "object_fit": null,
            "object_position": null,
            "order": null,
            "overflow": null,
            "overflow_x": null,
            "overflow_y": null,
            "padding": null,
            "right": null,
            "top": null,
            "visibility": null,
            "width": null
          }
        },
        "21dc1f1334694a82855a09342e26be48": {
          "model_module": "@jupyter-widgets/controls",
          "model_name": "DescriptionStyleModel",
          "model_module_version": "1.5.0",
          "state": {
            "_model_module": "@jupyter-widgets/controls",
            "_model_module_version": "1.5.0",
            "_model_name": "DescriptionStyleModel",
            "_view_count": null,
            "_view_module": "@jupyter-widgets/base",
            "_view_module_version": "1.2.0",
            "_view_name": "StyleView",
            "description_width": ""
          }
        },
        "bd9a6b3044ea4970af15b896250424a5": {
          "model_module": "@jupyter-widgets/base",
          "model_name": "LayoutModel",
          "model_module_version": "1.2.0",
          "state": {
            "_model_module": "@jupyter-widgets/base",
            "_model_module_version": "1.2.0",
            "_model_name": "LayoutModel",
            "_view_count": null,
            "_view_module": "@jupyter-widgets/base",
            "_view_module_version": "1.2.0",
            "_view_name": "LayoutView",
            "align_content": null,
            "align_items": null,
            "align_self": null,
            "border": null,
            "bottom": null,
            "display": null,
            "flex": null,
            "flex_flow": null,
            "grid_area": null,
            "grid_auto_columns": null,
            "grid_auto_flow": null,
            "grid_auto_rows": null,
            "grid_column": null,
            "grid_gap": null,
            "grid_row": null,
            "grid_template_areas": null,
            "grid_template_columns": null,
            "grid_template_rows": null,
            "height": null,
            "justify_content": null,
            "justify_items": null,
            "left": null,
            "margin": null,
            "max_height": null,
            "max_width": null,
            "min_height": null,
            "min_width": null,
            "object_fit": null,
            "object_position": null,
            "order": null,
            "overflow": null,
            "overflow_x": null,
            "overflow_y": null,
            "padding": null,
            "right": null,
            "top": null,
            "visibility": null,
            "width": null
          }
        },
        "15f5c07f406a4d7192e9d7c2ebbcbfc5": {
          "model_module": "@jupyter-widgets/controls",
          "model_name": "ProgressStyleModel",
          "model_module_version": "1.5.0",
          "state": {
            "_model_module": "@jupyter-widgets/controls",
            "_model_module_version": "1.5.0",
            "_model_name": "ProgressStyleModel",
            "_view_count": null,
            "_view_module": "@jupyter-widgets/base",
            "_view_module_version": "1.2.0",
            "_view_name": "StyleView",
            "bar_color": null,
            "description_width": ""
          }
        },
        "3ee979b9ba364cd9b44be13e1e06218f": {
          "model_module": "@jupyter-widgets/base",
          "model_name": "LayoutModel",
          "model_module_version": "1.2.0",
          "state": {
            "_model_module": "@jupyter-widgets/base",
            "_model_module_version": "1.2.0",
            "_model_name": "LayoutModel",
            "_view_count": null,
            "_view_module": "@jupyter-widgets/base",
            "_view_module_version": "1.2.0",
            "_view_name": "LayoutView",
            "align_content": null,
            "align_items": null,
            "align_self": null,
            "border": null,
            "bottom": null,
            "display": null,
            "flex": null,
            "flex_flow": null,
            "grid_area": null,
            "grid_auto_columns": null,
            "grid_auto_flow": null,
            "grid_auto_rows": null,
            "grid_column": null,
            "grid_gap": null,
            "grid_row": null,
            "grid_template_areas": null,
            "grid_template_columns": null,
            "grid_template_rows": null,
            "height": null,
            "justify_content": null,
            "justify_items": null,
            "left": null,
            "margin": null,
            "max_height": null,
            "max_width": null,
            "min_height": null,
            "min_width": null,
            "object_fit": null,
            "object_position": null,
            "order": null,
            "overflow": null,
            "overflow_x": null,
            "overflow_y": null,
            "padding": null,
            "right": null,
            "top": null,
            "visibility": null,
            "width": null
          }
        },
        "cb7e32e9f67a4425b3c4d459392262fe": {
          "model_module": "@jupyter-widgets/controls",
          "model_name": "DescriptionStyleModel",
          "model_module_version": "1.5.0",
          "state": {
            "_model_module": "@jupyter-widgets/controls",
            "_model_module_version": "1.5.0",
            "_model_name": "DescriptionStyleModel",
            "_view_count": null,
            "_view_module": "@jupyter-widgets/base",
            "_view_module_version": "1.2.0",
            "_view_name": "StyleView",
            "description_width": ""
          }
        }
      }
    }
  },
  "cells": [
    {
      "cell_type": "markdown",
      "metadata": {
        "id": "view-in-github",
        "colab_type": "text"
      },
      "source": [
        "<a href=\"https://colab.research.google.com/github/Rishika70/Hack_To_Hire/blob/main/Hack_To_Hire.ipynb\" target=\"_parent\"><img src=\"https://colab.research.google.com/assets/colab-badge.svg\" alt=\"Open In Colab\"/></a>"
      ]
    },
    {
      "cell_type": "code",
      "source": [
        "!pip install huggingface"
      ],
      "metadata": {
        "id": "S3mWHne4JEW4",
        "outputId": "a445d457-1888-402c-d9cd-1691fff5617f",
        "colab": {
          "base_uri": "https://localhost:8080/"
        }
      },
      "execution_count": 23,
      "outputs": [
        {
          "output_type": "stream",
          "name": "stdout",
          "text": [
            "Requirement already satisfied: huggingface in /usr/local/lib/python3.10/dist-packages (0.0.1)\n"
          ]
        }
      ]
    },
    {
      "cell_type": "code",
      "source": [
        "!pip install transformers"
      ],
      "metadata": {
        "colab": {
          "base_uri": "https://localhost:8080/"
        },
        "id": "KjyVTvSpGy4y",
        "outputId": "d63ebdfe-0559-4e6f-9c13-ee2bb45eb75a"
      },
      "execution_count": 24,
      "outputs": [
        {
          "output_type": "stream",
          "name": "stdout",
          "text": [
            "Requirement already satisfied: transformers in /usr/local/lib/python3.10/dist-packages (4.42.4)\n",
            "Requirement already satisfied: filelock in /usr/local/lib/python3.10/dist-packages (from transformers) (3.15.4)\n",
            "Requirement already satisfied: huggingface-hub<1.0,>=0.23.2 in /usr/local/lib/python3.10/dist-packages (from transformers) (0.23.5)\n",
            "Requirement already satisfied: numpy<2.0,>=1.17 in /usr/local/lib/python3.10/dist-packages (from transformers) (1.26.4)\n",
            "Requirement already satisfied: packaging>=20.0 in /usr/local/lib/python3.10/dist-packages (from transformers) (24.1)\n",
            "Requirement already satisfied: pyyaml>=5.1 in /usr/local/lib/python3.10/dist-packages (from transformers) (6.0.1)\n",
            "Requirement already satisfied: regex!=2019.12.17 in /usr/local/lib/python3.10/dist-packages (from transformers) (2024.5.15)\n",
            "Requirement already satisfied: requests in /usr/local/lib/python3.10/dist-packages (from transformers) (2.32.3)\n",
            "Requirement already satisfied: safetensors>=0.4.1 in /usr/local/lib/python3.10/dist-packages (from transformers) (0.4.3)\n",
            "Requirement already satisfied: tokenizers<0.20,>=0.19 in /usr/local/lib/python3.10/dist-packages (from transformers) (0.19.1)\n",
            "Requirement already satisfied: tqdm>=4.27 in /usr/local/lib/python3.10/dist-packages (from transformers) (4.66.4)\n",
            "Requirement already satisfied: fsspec>=2023.5.0 in /usr/local/lib/python3.10/dist-packages (from huggingface-hub<1.0,>=0.23.2->transformers) (2024.5.0)\n",
            "Requirement already satisfied: typing-extensions>=3.7.4.3 in /usr/local/lib/python3.10/dist-packages (from huggingface-hub<1.0,>=0.23.2->transformers) (4.12.2)\n",
            "Requirement already satisfied: charset-normalizer<4,>=2 in /usr/local/lib/python3.10/dist-packages (from requests->transformers) (3.3.2)\n",
            "Requirement already satisfied: idna<4,>=2.5 in /usr/local/lib/python3.10/dist-packages (from requests->transformers) (3.7)\n",
            "Requirement already satisfied: urllib3<3,>=1.21.1 in /usr/local/lib/python3.10/dist-packages (from requests->transformers) (2.0.7)\n",
            "Requirement already satisfied: certifi>=2017.4.17 in /usr/local/lib/python3.10/dist-packages (from requests->transformers) (2024.7.4)\n"
          ]
        }
      ]
    },
    {
      "cell_type": "code",
      "source": [
        "!pip install datasets transformers\n"
      ],
      "metadata": {
        "colab": {
          "base_uri": "https://localhost:8080/"
        },
        "id": "RSylZ2PIq_kD",
        "outputId": "735c1092-8a86-41a1-b645-7419ee4cdce4"
      },
      "execution_count": 25,
      "outputs": [
        {
          "output_type": "stream",
          "name": "stdout",
          "text": [
            "Requirement already satisfied: datasets in /usr/local/lib/python3.10/dist-packages (2.20.0)\n",
            "Requirement already satisfied: transformers in /usr/local/lib/python3.10/dist-packages (4.42.4)\n",
            "Requirement already satisfied: filelock in /usr/local/lib/python3.10/dist-packages (from datasets) (3.15.4)\n",
            "Requirement already satisfied: numpy>=1.17 in /usr/local/lib/python3.10/dist-packages (from datasets) (1.26.4)\n",
            "Requirement already satisfied: pyarrow>=15.0.0 in /usr/local/lib/python3.10/dist-packages (from datasets) (17.0.0)\n",
            "Requirement already satisfied: pyarrow-hotfix in /usr/local/lib/python3.10/dist-packages (from datasets) (0.6)\n",
            "Requirement already satisfied: dill<0.3.9,>=0.3.0 in /usr/local/lib/python3.10/dist-packages (from datasets) (0.3.8)\n",
            "Requirement already satisfied: pandas in /usr/local/lib/python3.10/dist-packages (from datasets) (2.1.4)\n",
            "Requirement already satisfied: requests>=2.32.2 in /usr/local/lib/python3.10/dist-packages (from datasets) (2.32.3)\n",
            "Requirement already satisfied: tqdm>=4.66.3 in /usr/local/lib/python3.10/dist-packages (from datasets) (4.66.4)\n",
            "Requirement already satisfied: xxhash in /usr/local/lib/python3.10/dist-packages (from datasets) (3.4.1)\n",
            "Requirement already satisfied: multiprocess in /usr/local/lib/python3.10/dist-packages (from datasets) (0.70.16)\n",
            "Requirement already satisfied: fsspec<=2024.5.0,>=2023.1.0 in /usr/local/lib/python3.10/dist-packages (from fsspec[http]<=2024.5.0,>=2023.1.0->datasets) (2024.5.0)\n",
            "Requirement already satisfied: aiohttp in /usr/local/lib/python3.10/dist-packages (from datasets) (3.9.5)\n",
            "Requirement already satisfied: huggingface-hub>=0.21.2 in /usr/local/lib/python3.10/dist-packages (from datasets) (0.23.5)\n",
            "Requirement already satisfied: packaging in /usr/local/lib/python3.10/dist-packages (from datasets) (24.1)\n",
            "Requirement already satisfied: pyyaml>=5.1 in /usr/local/lib/python3.10/dist-packages (from datasets) (6.0.1)\n",
            "Requirement already satisfied: regex!=2019.12.17 in /usr/local/lib/python3.10/dist-packages (from transformers) (2024.5.15)\n",
            "Requirement already satisfied: safetensors>=0.4.1 in /usr/local/lib/python3.10/dist-packages (from transformers) (0.4.3)\n",
            "Requirement already satisfied: tokenizers<0.20,>=0.19 in /usr/local/lib/python3.10/dist-packages (from transformers) (0.19.1)\n",
            "Requirement already satisfied: aiosignal>=1.1.2 in /usr/local/lib/python3.10/dist-packages (from aiohttp->datasets) (1.3.1)\n",
            "Requirement already satisfied: attrs>=17.3.0 in /usr/local/lib/python3.10/dist-packages (from aiohttp->datasets) (23.2.0)\n",
            "Requirement already satisfied: frozenlist>=1.1.1 in /usr/local/lib/python3.10/dist-packages (from aiohttp->datasets) (1.4.1)\n",
            "Requirement already satisfied: multidict<7.0,>=4.5 in /usr/local/lib/python3.10/dist-packages (from aiohttp->datasets) (6.0.5)\n",
            "Requirement already satisfied: yarl<2.0,>=1.0 in /usr/local/lib/python3.10/dist-packages (from aiohttp->datasets) (1.9.4)\n",
            "Requirement already satisfied: async-timeout<5.0,>=4.0 in /usr/local/lib/python3.10/dist-packages (from aiohttp->datasets) (4.0.3)\n",
            "Requirement already satisfied: typing-extensions>=3.7.4.3 in /usr/local/lib/python3.10/dist-packages (from huggingface-hub>=0.21.2->datasets) (4.12.2)\n",
            "Requirement already satisfied: charset-normalizer<4,>=2 in /usr/local/lib/python3.10/dist-packages (from requests>=2.32.2->datasets) (3.3.2)\n",
            "Requirement already satisfied: idna<4,>=2.5 in /usr/local/lib/python3.10/dist-packages (from requests>=2.32.2->datasets) (3.7)\n",
            "Requirement already satisfied: urllib3<3,>=1.21.1 in /usr/local/lib/python3.10/dist-packages (from requests>=2.32.2->datasets) (2.0.7)\n",
            "Requirement already satisfied: certifi>=2017.4.17 in /usr/local/lib/python3.10/dist-packages (from requests>=2.32.2->datasets) (2024.7.4)\n",
            "Requirement already satisfied: python-dateutil>=2.8.2 in /usr/local/lib/python3.10/dist-packages (from pandas->datasets) (2.8.2)\n",
            "Requirement already satisfied: pytz>=2020.1 in /usr/local/lib/python3.10/dist-packages (from pandas->datasets) (2024.1)\n",
            "Requirement already satisfied: tzdata>=2022.1 in /usr/local/lib/python3.10/dist-packages (from pandas->datasets) (2024.1)\n",
            "Requirement already satisfied: six>=1.5 in /usr/local/lib/python3.10/dist-packages (from python-dateutil>=2.8.2->pandas->datasets) (1.16.0)\n"
          ]
        }
      ]
    },
    {
      "cell_type": "code",
      "source": [
        "!pip install bleu"
      ],
      "metadata": {
        "colab": {
          "base_uri": "https://localhost:8080/"
        },
        "id": "e5P7PUxb7InA",
        "outputId": "bf7d5c62-18da-4423-becc-538daaad6cd4"
      },
      "execution_count": 26,
      "outputs": [
        {
          "output_type": "stream",
          "name": "stdout",
          "text": [
            "Requirement already satisfied: bleu in /usr/local/lib/python3.10/dist-packages (0.3)\n",
            "Requirement already satisfied: efficiency in /usr/local/lib/python3.10/dist-packages (from bleu) (2.0)\n",
            "Requirement already satisfied: pandas in /usr/local/lib/python3.10/dist-packages (from efficiency->bleu) (2.1.4)\n",
            "Requirement already satisfied: numpy in /usr/local/lib/python3.10/dist-packages (from efficiency->bleu) (1.26.4)\n",
            "Requirement already satisfied: python-dateutil>=2.8.2 in /usr/local/lib/python3.10/dist-packages (from pandas->efficiency->bleu) (2.8.2)\n",
            "Requirement already satisfied: pytz>=2020.1 in /usr/local/lib/python3.10/dist-packages (from pandas->efficiency->bleu) (2024.1)\n",
            "Requirement already satisfied: tzdata>=2022.1 in /usr/local/lib/python3.10/dist-packages (from pandas->efficiency->bleu) (2024.1)\n",
            "Requirement already satisfied: six>=1.5 in /usr/local/lib/python3.10/dist-packages (from python-dateutil>=2.8.2->pandas->efficiency->bleu) (1.16.0)\n"
          ]
        }
      ]
    },
    {
      "cell_type": "code",
      "execution_count": 28,
      "metadata": {
        "id": "Z-rrKZ4i2bMF"
      },
      "outputs": [],
      "source": [
        "import pandas as pd\n",
        "import numpy as np\n",
        "import nltk\n",
        "from nltk.tokenize import word_tokenize\n",
        "from nltk.corpus import stopwords\n",
        "from nltk.stem import WordNetLemmatizer\n",
        "from transformers import AutoTokenizer, AutoModelForSequenceClassification\n",
        "from transformers import BertTokenizer, BertModel\n",
        "from transformers import T5Tokenizer, T5Model\n",
        "from transformers import GPT2Tokenizer, GPT2Model\n",
        "from nltk.translate.bleu_score import sentence_bleu\n",
        "from transformers import BertTokenizer, DataCollatorWithPadding\n",
        "from sklearn.metrics import f1_score\n",
        "import matplotlib.pyplot as plt\n",
        "import seaborn as sns\n",
        "import plotly.graph_objs as go\n",
        "from sklearn.model_selection import train_test_split\n",
        "import re\n",
        "import html\n",
        "from collections import Counter\n",
        "from transformers import TFBertForSequenceClassification, BertTokenizer, create_optimizer\n",
        "import tensorflow as tf\n",
        "from datasets import load_dataset\n",
        "\n",
        "\n"
      ]
    },
    {
      "cell_type": "code",
      "source": [
        "# Tokenize the data\n",
        "nltk.download('punkt')\n",
        "nltk.download('stopwords')\n",
        "nltk.download('wordnet')\n",
        "stop_words = set(stopwords.words('english'))\n",
        "lemmatizer = WordNetLemmatizer()"
      ],
      "metadata": {
        "colab": {
          "base_uri": "https://localhost:8080/"
        },
        "id": "2rMsT19Yj6J2",
        "outputId": "2708c821-1c48-4f79-ad37-440f968102c3"
      },
      "execution_count": 29,
      "outputs": [
        {
          "output_type": "stream",
          "name": "stderr",
          "text": [
            "[nltk_data] Downloading package punkt to /root/nltk_data...\n",
            "[nltk_data]   Package punkt is already up-to-date!\n",
            "[nltk_data] Downloading package stopwords to /root/nltk_data...\n",
            "[nltk_data]   Package stopwords is already up-to-date!\n",
            "[nltk_data] Downloading package wordnet to /root/nltk_data...\n",
            "[nltk_data]   Package wordnet is already up-to-date!\n"
          ]
        }
      ]
    },
    {
      "cell_type": "code",
      "source": [
        "from transformers import BertTokenizer\n",
        "from datasets import load_dataset\n",
        "import tensorflow as tf\n",
        "\n",
        "# Load dataset and tokenizer\n",
        "# Load and split the dataset\n",
        "dataset = load_dataset(\"toughdata/quora-question-answer-dataset\")\n",
        "dataset = dataset[\"train\"].train_test_split(test_size=0.2)\n",
        "\n",
        "# Split dataset\n",
        "train_test_split = dataset['train'].train_test_split(test_size=0.1)\n",
        "train_dataset = train_test_split['train']\n",
        "validation_dataset = train_test_split['test']\n",
        "\n",
        "# Tokenize datasets\n",
        "def tokenize_function(examples):\n",
        "    return tokenizer(examples['question'], padding='max_length', truncation=True)\n",
        "\n",
        "tokenized_train_dataset = train_dataset.map(tokenize_function, batched=True)\n",
        "tokenized_val_dataset = validation_dataset.map(tokenize_function, batched=True)\n",
        "\n",
        "# Convert datasets to tf.data.Dataset\n",
        "def convert_to_tf_dataset(tokenized_dataset):\n",
        "    def gen():\n",
        "        for ex in tokenized_dataset:\n",
        "            yield ({'input_ids': ex['input_ids'], 'attention_mask': ex['attention_mask']}, ex['label'])\n",
        "\n",
        "    return tf.data.Dataset.from_generator(\n",
        "        gen,\n",
        "        ({'input_ids': tf.int32, 'attention_mask': tf.int32}, tf.int64),\n",
        "        ({'input_ids': tf.TensorShape([None]), 'attention_mask': tf.TensorShape([None])}, tf.TensorShape([]))\n",
        "    )\n",
        "\n",
        "train_tf_dataset = convert_to_tf_dataset(tokenized_train_dataset)\n",
        "val_tf_dataset = convert_to_tf_dataset(tokenized_val_dataset)\n",
        "\n",
        "# Batch and shuffle the datasets\n",
        "train_tf_dataset = train_tf_dataset.shuffle(len(tokenized_train_dataset)).batch(32).prefetch(tf.data.experimental.AUTOTUNE)\n",
        "val_tf_dataset = val_tf_dataset.batch(32).prefetch(tf.data.experimental.AUTOTUNE)\n",
        "\n",
        "\n",
        "\n"
      ],
      "metadata": {
        "colab": {
          "base_uri": "https://localhost:8080/",
          "height": 81,
          "referenced_widgets": [
            "ca48250960be4114802e97640e3cc0ff",
            "d56badbf236c42648f2f126dd5cd8852",
            "d5174c0b83584933870fe8dacac69c93",
            "dd734a8ef8ec4c71b8a49d9b217d0416",
            "51aba2a60f65453eab4c97d0355fabb9",
            "757321540f8d41e3a8de159b8e24aac4",
            "05976c49cff74edab7943b3ee9d15aac",
            "5801c55a644447f8a7444e609e5c9fb2",
            "e024b98b57684762b33eba44bee5fdf8",
            "a8cc32ed0a45473c9fe1a8e1fb7f54c3",
            "19ff476c19e6432b94dffcdf9dccb9ec",
            "893fd941bed24329b4e5cfd52a70ad74",
            "8354fe66127547048c8be924f1cbb601",
            "ec0d5634d6db4bbc9ec3b379468fe1f3",
            "3238f6e55c9f40b7a3fb43fb8ef70bc5",
            "7aa197a02a804290a8862230a7ba6959",
            "44bb4b6b638a4f03b4661b0cc699fae2",
            "443f5160c4094aa69061b40cdf1a0f41",
            "89b3dab746444afc9e93bcd343fab47c",
            "9c67fb58b9e242a8bcaf790bb09d0205",
            "1cd09e34b42546f7be304b0fb145e682",
            "cd4770d66e5944ddb83163347c84d28b"
          ]
        },
        "id": "qjCONPcK7twL",
        "outputId": "6750cb5c-e2c9-4697-d475-82c8178b07e0"
      },
      "execution_count": 30,
      "outputs": [
        {
          "output_type": "display_data",
          "data": {
            "text/plain": [
              "Map:   0%|          | 0/40608 [00:00<?, ? examples/s]"
            ],
            "application/vnd.jupyter.widget-view+json": {
              "version_major": 2,
              "version_minor": 0,
              "model_id": "ca48250960be4114802e97640e3cc0ff"
            }
          },
          "metadata": {}
        },
        {
          "output_type": "display_data",
          "data": {
            "text/plain": [
              "Map:   0%|          | 0/4513 [00:00<?, ? examples/s]"
            ],
            "application/vnd.jupyter.widget-view+json": {
              "version_major": 2,
              "version_minor": 0,
              "model_id": "893fd941bed24329b4e5cfd52a70ad74"
            }
          },
          "metadata": {}
        }
      ]
    },
    {
      "cell_type": "markdown",
      "source": [
        "# **Data Pre-Processing**"
      ],
      "metadata": {
        "id": "8XfQ1ivxpBG5"
      }
    },
    {
      "cell_type": "markdown",
      "source": [
        "# Clean the text , remove urls, Special Characters , White Spaces and Convert to lowercase\n"
      ],
      "metadata": {
        "id": "djQgGIADoR8z"
      }
    },
    {
      "cell_type": "code",
      "source": [
        "import re\n",
        "import pandas as pd # Import pandas\n",
        "\n",
        "def preprocess_text(text):\n",
        "    text = text.lower()\n",
        "    text = re.sub(r'\\b\\w{1,2}\\b', '', text)  # Remove short words\n",
        "    text = re.sub(r'\\s+', ' ', text)  # Replace multiple spaces with single space\n",
        "    text = re.sub(r'\\W', ' ', text)  # Remove non-alphanumeric characters\n",
        "    text = ' '.join([lemmatizer.lemmatize(word) for word in text.split() if word not in stop_words])\n",
        "    return text\n",
        "\n",
        "def preprocess_function(examples):\n",
        "    examples['question'] = [preprocess_text(q) for q in examples['question']]\n",
        "    return examples\n",
        "\n",
        "dataset = dataset.map(preprocess_function, batched=True)\n",
        "\n",
        "# Convert lists to Pandas Series\n",
        "train_df_question = pd.Series(train_df['question'])\n",
        "train_df_answer = pd.Series(train_df['answer'])\n",
        "val_df_question = pd.Series(val_df['question'])\n",
        "val_df_answer = pd.Series(val_df['answer'])\n",
        "\n",
        "def clean_text(text):\n",
        "    # Handle non-string values\n",
        "    if not isinstance(text, str):\n",
        "        return '' # or any suitable default value for non-string entries\n",
        "\n",
        "    # Remove special characters and numbers\n",
        "    text = re.sub(r'[^a-zA-Z\\s]', '', text)\n",
        "    # Convert to lowercase\n",
        "    text = text.lower()\n",
        "    return text\n",
        "\n",
        "# Apply clean_text function to 'question' and 'answer' columns in train_df\n",
        "train_df_question = train_df_question.apply(clean_text)\n",
        "train_df_answer = train_df_answer.apply(clean_text)\n",
        "\n",
        "# Apply clean_text function to 'question' and 'answer' columns in val_df\n",
        "val_df_question = val_df_question.apply(clean_text)\n",
        "val_df_answer = val_df_answer.apply(clean_text)\n",
        "\n",
        "print(\"Cleaned Train DataFrame:\")\n",
        "print(train_df_question.head()) # Print the cleaned series\n",
        "print(train_df_answer.head())\n",
        "print(\"\\nCleaned Validation DataFrame:\")\n",
        "print(val_df_question.head())\n",
        "print(val_df_answer.head())"
      ],
      "metadata": {
        "colab": {
          "base_uri": "https://localhost:8080/",
          "height": 549,
          "referenced_widgets": [
            "1c7de59785bd41be89dc04d54a40dd40",
            "a0c4c8a82cf44601a8e2714304d82bd7",
            "9ed3e338398d4193a3e3ff9ec7edb997",
            "149d8a2a40a7488cb029472b5db65f90",
            "cd5b89ffdc294f14811c4362dcdecd6c",
            "e03f604d11b84909aa05b5f94e97a7e2",
            "7208d42da02042cdaf8c0292c3554fbe",
            "94b6dc7198474789a7e2220bbe3ffd1d",
            "2418127cb2444950add7b279b08b7a28",
            "02cc57cb30ff489ba8255f9f1c14da73",
            "7e5ed89a60f74c8c87ec906902be409d",
            "749e83e0751f46eda6213dbd9b0af045",
            "461ea3aad9bc408da386581b1cb12b1b",
            "1b1fd9484a694bc799d02b971f5b4243",
            "f4aee715edb14fd39c785c24ad00cbbd",
            "249b542267ee4131a35004ebe4553cc9",
            "ece20c36cb29454f8a4360bec342d9b8",
            "a1a7c20f56f743f085802f0d0ae48377",
            "fc09034ac5004c31aa68d5c8efac04e0",
            "91227fc28f844cfc990d3422e97b4338",
            "7c71a38c08c4470985f2a271a62ce6d0",
            "056c01103f6d46d68072264993c5dbff"
          ]
        },
        "id": "42CMQ70doRHO",
        "outputId": "f1c1671e-305c-4b45-ecc1-d8ac9b6c6254"
      },
      "execution_count": 88,
      "outputs": [
        {
          "output_type": "display_data",
          "data": {
            "text/plain": [
              "Map:   0%|          | 0/45121 [00:00<?, ? examples/s]"
            ],
            "application/vnd.jupyter.widget-view+json": {
              "version_major": 2,
              "version_minor": 0,
              "model_id": "1c7de59785bd41be89dc04d54a40dd40"
            }
          },
          "metadata": {}
        },
        {
          "output_type": "display_data",
          "data": {
            "text/plain": [
              "Map:   0%|          | 0/11281 [00:00<?, ? examples/s]"
            ],
            "application/vnd.jupyter.widget-view+json": {
              "version_major": 2,
              "version_minor": 0,
              "model_id": "749e83e0751f46eda6213dbd9b0af045"
            }
          },
          "metadata": {}
        },
        {
          "output_type": "stream",
          "name": "stdout",
          "text": [
            "Cleaned Train DataFrame:\n",
            "0    \n",
            "1    \n",
            "2    \n",
            "3    \n",
            "4    \n",
            "Name: question, dtype: object\n",
            "0                                                 wolf\n",
            "1    a spectrum angel would be better  more believa...\n",
            "2    be born in england  live in england  have engl...\n",
            "3    hello i must sincerely appreciate you for your...\n",
            "4    check out this offer  linkedtext  loading offe...\n",
            "Name: answer, dtype: object\n",
            "\n",
            "Cleaned Validation DataFrame:\n",
            "0    why is amul sponsoring afghanistan and not ind...\n",
            "1                how many car can fit on a cargo ship \n",
            "2             what are some of the best blogging tool \n",
            "3            why did the army get rid of digital camo \n",
            "4                    what s better  alibaba or amazon \n",
            "Name: question, dtype: object\n",
            "0    why ca nt amul the official sponsor for afghan...\n",
            "1    for preparation of second mate  dns bsc nautic...\n",
            "2    if you need best seo solutions visit my fiverr...\n",
            "3    it wasn  t camouflage  it wa a digital print t...\n",
            "4                                               amazon\n",
            "Name: answer, dtype: object\n"
          ]
        }
      ]
    },
    {
      "cell_type": "markdown",
      "source": [
        "# **Split Dataset**"
      ],
      "metadata": {
        "id": "yyAVdy_HwZGZ"
      }
    },
    {
      "cell_type": "code",
      "source": [
        "# Split dataset\n",
        "train_test_split = dataset['train'].train_test_split(test_size=0.1)\n",
        "train_dataset = train_test_split['train']\n",
        "validation_dataset = train_test_split['test']"
      ],
      "metadata": {
        "id": "HxMcPl2dwU24"
      },
      "execution_count": 89,
      "outputs": []
    },
    {
      "cell_type": "markdown",
      "source": [
        "# Lemmatization\n",
        "\n",
        "\n"
      ],
      "metadata": {
        "id": "BOxVeZIUMoF5"
      }
    },
    {
      "cell_type": "code",
      "source": [
        "import nltk\n",
        "from nltk.tokenize import word_tokenize\n",
        "from nltk.stem import WordNetLemmatizer\n",
        "import pandas as pd\n",
        "\n",
        "# Download necessary NLTK data\n",
        "nltk.download('punkt')\n",
        "nltk.download('wordnet')\n",
        "\n",
        "# Initialize the lemmatizer\n",
        "lemmatizer = WordNetLemmatizer()\n",
        "def lemmatize_text(text):\n",
        "    words = word_tokenize(text)\n",
        "    lemmatized_words = [lemmatizer.lemmatize(word) for word in words]\n",
        "    return ' '.join(lemmatized_words)\n"
      ],
      "metadata": {
        "id": "EBk9iriQxe6b",
        "outputId": "47ac318a-d478-4311-e92d-e5073404f04b",
        "colab": {
          "base_uri": "https://localhost:8080/"
        }
      },
      "execution_count": 98,
      "outputs": [
        {
          "output_type": "stream",
          "name": "stderr",
          "text": [
            "[nltk_data] Downloading package punkt to /root/nltk_data...\n",
            "[nltk_data]   Package punkt is already up-to-date!\n",
            "[nltk_data] Downloading package wordnet to /root/nltk_data...\n",
            "[nltk_data]   Package wordnet is already up-to-date!\n"
          ]
        }
      ]
    },
    {
      "cell_type": "code",
      "source": [
        "\n",
        "#     # Handle potential non-string values\n",
        "#     if not isinstance(text, str):\n",
        "#         return \"\"  # Or any other appropriate handling for non-string values\n",
        "#  words = word_tokenize(text)\n",
        "#  lemmatized_words = [lemmatizer.lemmatize(word) for word in words]\n",
        "#     return ' '.join(lemmatized_words)\n",
        "# # Assuming train_df and val_df are your DataFrames\n",
        "# train_df['question'] = train_df\n",
        "\n",
        "def lemmatize_text(text):\n",
        "  # Handle potential non-string values\n",
        "  if not isinstance(text, str):\n",
        "    return \"\"  # Or any other appropriate handling for non-string values\n",
        "  words = word_tokenize(text)\n",
        "  lemmatized_words = [lemmatizer.lemmatize(word) for word in words]\n",
        "  return ' '.join(lemmatized_words)\n",
        "\n",
        "# Assuming train_df and val_df are your DataFrames\n",
        "train_df['question'] = train_df['question'].apply(lemmatize_text)\n",
        "val_df['question'] = val_df['question'].apply(lemmatize_text)\n"
      ],
      "metadata": {
        "id": "1NWSmDo7ycze"
      },
      "execution_count": 101,
      "outputs": []
    },
    {
      "cell_type": "markdown",
      "source": [
        "# Text Encoding/Vectorization"
      ],
      "metadata": {
        "id": "CT9s2VUiDliv"
      }
    },
    {
      "cell_type": "markdown",
      "source": [
        "# TF-IDF"
      ],
      "metadata": {
        "id": "oVCskWQvFiYu"
      }
    },
    {
      "cell_type": "code",
      "source": [
        "from sklearn.feature_extraction.text import TfidfVectorizer\n",
        "\n",
        "\n",
        "# Assuming train_df and val_df are your DataFrames with 'question' and 'answer' columns\n",
        "\n",
        "# Combine questions and answers for vectorization\n",
        "train_texts = train_df['question'].tolist() + train_df['answer'].tolist()\n",
        "val_texts = val_df['question'].tolist() + val_df['answer'].tolist()\n",
        "\n",
        "# Ensure all elements in the lists are strings\n",
        "train_texts = [str(text) for text in train_texts]  # Convert any non-string elements to strings\n",
        "val_texts = [str(text) for text in val_texts]\n",
        "\n",
        "# Create a TF-IDF vectorizer\n",
        "vectorizer = TfidfVectorizer()\n",
        "\n",
        "# Fit the vectorizer on the training data and transform both training and validation data\n",
        "train_tfidf = vectorizer.fit_transform(train_texts)\n",
        "val_tfidf = vectorizer.transform(val_texts)\n",
        "\n",
        "# Get feature names (words) from the vectorizer\n",
        "feature_names = vectorizer.get_feature_names_out()\n",
        "\n",
        "print(\"Shape of Train TF-IDF Matrix:\", train_tfidf.shape)\n",
        "print(\"Shape of Validation TF-IDF Matrix:\", val_tfidf.shape)\n",
        "print(\"\\nFeature Names:\")\n",
        "print(feature_names)"
      ],
      "metadata": {
        "colab": {
          "base_uri": "https://localhost:8080/"
        },
        "id": "uya5oyCBDc2u",
        "outputId": "d66ba69f-fe39-44ee-e974-d66ded33c3aa"
      },
      "execution_count": 95,
      "outputs": [
        {
          "output_type": "stream",
          "name": "stdout",
          "text": [
            "Shape of Train TF-IDF Matrix: (64972, 102999)\n",
            "Shape of Validation TF-IDF Matrix: (16244, 102999)\n",
            "\n",
            "Feature Names:\n",
            "['00' '000' '0000' ... '𝟗𝟏' '𝟗𝟓𝟗' '𝟗𝟗𝟏𝟏']\n"
          ]
        }
      ]
    },
    {
      "cell_type": "markdown",
      "source": [
        "# **Data Augmentation**"
      ],
      "metadata": {
        "id": "J2mtxz2Lmpvd"
      }
    },
    {
      "cell_type": "markdown",
      "source": [
        " # Paraphrasing"
      ],
      "metadata": {
        "id": "wRYh9p8_mw4w"
      }
    },
    {
      "cell_type": "code",
      "source": [
        "!pip install nlpaug\n",
        "import nlpaug.augmenter.word as naw\n",
        "import pandas as pd\n",
        "from transformers import BertTokenizer, BertModel\n",
        "\n",
        "# Initialize a synonym augmenter\n",
        "aug = naw.SynonymAug(aug_src='wordnet')\n",
        "\n",
        "# Function to paraphrase text\n",
        "def paraphrase_text(text):\n",
        "  augmented_text = aug.augment(text)\n",
        "  return augmented_text\n",
        "\n",
        "# Sample DataFrame (replace with your actual train_df)\n",
        "train_df = pd.DataFrame({'question': ['This is a sample question.']})\n",
        "\n",
        "# Apply paraphrasing to 'question' column in train_df\n",
        "train_df['question'] = train_df['question'].apply(paraphrase_text)\n",
        "\n",
        "# Load pre-trained BERT model and tokenizer\n",
        "model_name = 'bert-base-uncased'\n",
        "tokenizer = BertTokenizer.from_pretrained(model_name)\n",
        "model = BertModel.from_pretrained(model_name)\n",
        "\n",
        "# Tokenize and encode input data (example using the first question in train_df)\n",
        "# Handle potential None values or empty strings after paraphrasing\n",
        "text = train_df['question'].iloc[0]\n",
        "if text:  # Check if text is not None or empty\n",
        "    inputs = tokenizer(text, return_tensors='pt')\n",
        "\n",
        "    # Forward pass through the model\n",
        "    outputs = model(**inputs)\n",
        "\n",
        "    # Extract embeddings (e.g., last hidden state)\n",
        "    embeddings = outputs.last_hidden_state\n",
        "    print(embeddings.shape)  # Check the shape of the embeddings\n",
        "else:\n",
        "    print(\"Paraphrased text is empty for the first question.\")"
      ],
      "metadata": {
        "colab": {
          "base_uri": "https://localhost:8080/"
        },
        "id": "cSJiMJRfnIvE",
        "outputId": "14edbad9-d66b-4440-ea21-ee991f997098"
      },
      "execution_count": 105,
      "outputs": [
        {
          "output_type": "stream",
          "name": "stdout",
          "text": [
            "Requirement already satisfied: nlpaug in /usr/local/lib/python3.10/dist-packages (1.1.11)\n",
            "Requirement already satisfied: numpy>=1.16.2 in /usr/local/lib/python3.10/dist-packages (from nlpaug) (1.26.4)\n",
            "Requirement already satisfied: pandas>=1.2.0 in /usr/local/lib/python3.10/dist-packages (from nlpaug) (2.1.4)\n",
            "Requirement already satisfied: requests>=2.22.0 in /usr/local/lib/python3.10/dist-packages (from nlpaug) (2.32.3)\n",
            "Requirement already satisfied: gdown>=4.0.0 in /usr/local/lib/python3.10/dist-packages (from nlpaug) (5.1.0)\n",
            "Requirement already satisfied: beautifulsoup4 in /usr/local/lib/python3.10/dist-packages (from gdown>=4.0.0->nlpaug) (4.12.3)\n",
            "Requirement already satisfied: filelock in /usr/local/lib/python3.10/dist-packages (from gdown>=4.0.0->nlpaug) (3.15.4)\n",
            "Requirement already satisfied: tqdm in /usr/local/lib/python3.10/dist-packages (from gdown>=4.0.0->nlpaug) (4.66.4)\n",
            "Requirement already satisfied: python-dateutil>=2.8.2 in /usr/local/lib/python3.10/dist-packages (from pandas>=1.2.0->nlpaug) (2.8.2)\n",
            "Requirement already satisfied: pytz>=2020.1 in /usr/local/lib/python3.10/dist-packages (from pandas>=1.2.0->nlpaug) (2024.1)\n",
            "Requirement already satisfied: tzdata>=2022.1 in /usr/local/lib/python3.10/dist-packages (from pandas>=1.2.0->nlpaug) (2024.1)\n",
            "Requirement already satisfied: charset-normalizer<4,>=2 in /usr/local/lib/python3.10/dist-packages (from requests>=2.22.0->nlpaug) (3.3.2)\n",
            "Requirement already satisfied: idna<4,>=2.5 in /usr/local/lib/python3.10/dist-packages (from requests>=2.22.0->nlpaug) (3.7)\n",
            "Requirement already satisfied: urllib3<3,>=1.21.1 in /usr/local/lib/python3.10/dist-packages (from requests>=2.22.0->nlpaug) (2.0.7)\n",
            "Requirement already satisfied: certifi>=2017.4.17 in /usr/local/lib/python3.10/dist-packages (from requests>=2.22.0->nlpaug) (2024.7.4)\n",
            "Requirement already satisfied: six>=1.5 in /usr/local/lib/python3.10/dist-packages (from python-dateutil>=2.8.2->pandas>=1.2.0->nlpaug) (1.16.0)\n",
            "Requirement already satisfied: soupsieve>1.2 in /usr/local/lib/python3.10/dist-packages (from beautifulsoup4->gdown>=4.0.0->nlpaug) (2.5)\n",
            "Requirement already satisfied: PySocks!=1.5.7,>=1.5.6 in /usr/local/lib/python3.10/dist-packages (from requests[socks]->gdown>=4.0.0->nlpaug) (1.7.1)\n",
            "torch.Size([1, 8, 768])\n"
          ]
        }
      ]
    },
    {
      "cell_type": "markdown",
      "source": [
        "# **Model Evaluation**"
      ],
      "metadata": {
        "id": "PGyiZ6fwoA-i"
      }
    },
    {
      "cell_type": "markdown",
      "source": [
        "# BERT and Metrice Evaluation"
      ],
      "metadata": {
        "id": "RDQbId-0pnR5"
      }
    },
    {
      "cell_type": "code",
      "source": [
        "import warnings\n",
        "warnings.filterwarnings(\"ignore\")"
      ],
      "metadata": {
        "id": "Sdc7igmkNAMD"
      },
      "execution_count": 103,
      "outputs": []
    },
    {
      "cell_type": "code",
      "source": [
        "# Load pre-trained BERT model and tokenizer\n",
        "model_name = 'bert-base-uncased'\n",
        "tokenizer = BertTokenizer.from_pretrained(model_name)\n",
        "# Use BertModel instead of BertForSequenceClassification for extracting embeddings\n",
        "model = BertModel.from_pretrained(model_name)\n",
        "\n",
        "# Tokenize and encode input data (example using the first question in train_df)\n",
        "inputs = tokenizer(train_df['question'].iloc[0], return_tensors='pt')\n",
        "\n",
        "# Forward pass through the model\n",
        "outputs = model(**inputs)\n",
        "\n",
        "# Extract embeddings (e.g., last hidden state)\n",
        "embeddings = outputs.last_hidden_state"
      ],
      "metadata": {
        "id": "KuPcvXdqoYcf"
      },
      "execution_count": 106,
      "outputs": []
    },
    {
      "cell_type": "markdown",
      "source": [
        "## Scatter Plot"
      ],
      "metadata": {
        "id": "Hbc_SbYTmp3x"
      }
    },
    {
      "cell_type": "code",
      "source": [
        "\n",
        "\n",
        "import plotly.express as px\n",
        "\n",
        "# Assuming 'embeddings' is a tensor of shape (batch_size, sequence_length, hidden_size)\n",
        "# We'll visualize the embeddings of the first token in the sequence\n",
        "token_embeddings = embeddings[0, 0, :].detach().numpy()\n",
        "\n",
        "# Create a scatter plot\n",
        "fig = px.scatter(x=range(len(token_embeddings)), y=token_embeddings,\n",
        "                 labels={'x': 'Embedding Dimension', 'y': 'Value'},\n",
        "                 title='BERT Embeddings for the First Token')\n",
        "\n",
        "fig.show()\n"
      ],
      "metadata": {
        "id": "robH_ACQoXUu",
        "colab": {
          "base_uri": "https://localhost:8080/",
          "height": 542
        },
        "outputId": "d5a28273-62af-4ec2-c606-ca2219496243"
      },
      "execution_count": 107,
      "outputs": [
        {
          "output_type": "display_data",
          "data": {
            "text/html": [
              "<html>\n",
              "<head><meta charset=\"utf-8\" /></head>\n",
              "<body>\n",
              "    <div>            <script src=\"https://cdnjs.cloudflare.com/ajax/libs/mathjax/2.7.5/MathJax.js?config=TeX-AMS-MML_SVG\"></script><script type=\"text/javascript\">if (window.MathJax && window.MathJax.Hub && window.MathJax.Hub.Config) {window.MathJax.Hub.Config({SVG: {font: \"STIX-Web\"}});}</script>                <script type=\"text/javascript\">window.PlotlyConfig = {MathJaxConfig: 'local'};</script>\n",
              "        <script charset=\"utf-8\" src=\"https://cdn.plot.ly/plotly-2.24.1.min.js\"></script>                <div id=\"08419ef0-044d-4a25-bacb-ed5be8e3a42e\" class=\"plotly-graph-div\" style=\"height:525px; width:100%;\"></div>            <script type=\"text/javascript\">                                    window.PLOTLYENV=window.PLOTLYENV || {};                                    if (document.getElementById(\"08419ef0-044d-4a25-bacb-ed5be8e3a42e\")) {                    Plotly.newPlot(                        \"08419ef0-044d-4a25-bacb-ed5be8e3a42e\",                        [{\"hovertemplate\":\"Embedding Dimension=%{x}\\u003cbr\\u003eValue=%{y}\\u003cextra\\u003e\\u003c\\u002fextra\\u003e\",\"legendgroup\":\"\",\"marker\":{\"color\":\"#636efa\",\"symbol\":\"circle\"},\"mode\":\"markers\",\"name\":\"\",\"orientation\":\"v\",\"showlegend\":false,\"x\":[0,1,2,3,4,5,6,7,8,9,10,11,12,13,14,15,16,17,18,19,20,21,22,23,24,25,26,27,28,29,30,31,32,33,34,35,36,37,38,39,40,41,42,43,44,45,46,47,48,49,50,51,52,53,54,55,56,57,58,59,60,61,62,63,64,65,66,67,68,69,70,71,72,73,74,75,76,77,78,79,80,81,82,83,84,85,86,87,88,89,90,91,92,93,94,95,96,97,98,99,100,101,102,103,104,105,106,107,108,109,110,111,112,113,114,115,116,117,118,119,120,121,122,123,124,125,126,127,128,129,130,131,132,133,134,135,136,137,138,139,140,141,142,143,144,145,146,147,148,149,150,151,152,153,154,155,156,157,158,159,160,161,162,163,164,165,166,167,168,169,170,171,172,173,174,175,176,177,178,179,180,181,182,183,184,185,186,187,188,189,190,191,192,193,194,195,196,197,198,199,200,201,202,203,204,205,206,207,208,209,210,211,212,213,214,215,216,217,218,219,220,221,222,223,224,225,226,227,228,229,230,231,232,233,234,235,236,237,238,239,240,241,242,243,244,245,246,247,248,249,250,251,252,253,254,255,256,257,258,259,260,261,262,263,264,265,266,267,268,269,270,271,272,273,274,275,276,277,278,279,280,281,282,283,284,285,286,287,288,289,290,291,292,293,294,295,296,297,298,299,300,301,302,303,304,305,306,307,308,309,310,311,312,313,314,315,316,317,318,319,320,321,322,323,324,325,326,327,328,329,330,331,332,333,334,335,336,337,338,339,340,341,342,343,344,345,346,347,348,349,350,351,352,353,354,355,356,357,358,359,360,361,362,363,364,365,366,367,368,369,370,371,372,373,374,375,376,377,378,379,380,381,382,383,384,385,386,387,388,389,390,391,392,393,394,395,396,397,398,399,400,401,402,403,404,405,406,407,408,409,410,411,412,413,414,415,416,417,418,419,420,421,422,423,424,425,426,427,428,429,430,431,432,433,434,435,436,437,438,439,440,441,442,443,444,445,446,447,448,449,450,451,452,453,454,455,456,457,458,459,460,461,462,463,464,465,466,467,468,469,470,471,472,473,474,475,476,477,478,479,480,481,482,483,484,485,486,487,488,489,490,491,492,493,494,495,496,497,498,499,500,501,502,503,504,505,506,507,508,509,510,511,512,513,514,515,516,517,518,519,520,521,522,523,524,525,526,527,528,529,530,531,532,533,534,535,536,537,538,539,540,541,542,543,544,545,546,547,548,549,550,551,552,553,554,555,556,557,558,559,560,561,562,563,564,565,566,567,568,569,570,571,572,573,574,575,576,577,578,579,580,581,582,583,584,585,586,587,588,589,590,591,592,593,594,595,596,597,598,599,600,601,602,603,604,605,606,607,608,609,610,611,612,613,614,615,616,617,618,619,620,621,622,623,624,625,626,627,628,629,630,631,632,633,634,635,636,637,638,639,640,641,642,643,644,645,646,647,648,649,650,651,652,653,654,655,656,657,658,659,660,661,662,663,664,665,666,667,668,669,670,671,672,673,674,675,676,677,678,679,680,681,682,683,684,685,686,687,688,689,690,691,692,693,694,695,696,697,698,699,700,701,702,703,704,705,706,707,708,709,710,711,712,713,714,715,716,717,718,719,720,721,722,723,724,725,726,727,728,729,730,731,732,733,734,735,736,737,738,739,740,741,742,743,744,745,746,747,748,749,750,751,752,753,754,755,756,757,758,759,760,761,762,763,764,765,766,767],\"xaxis\":\"x\",\"y\":[-0.07810764759778976,-0.18066732585430145,-0.1542903035879135,-0.10693222284317017,-0.30641722679138184,-0.6268917918205261,-0.003950638230890036,0.15170960128307343,0.21237975358963013,-0.1762062907218933,-0.10841536521911621,0.04211407154798508,-0.17102739214897156,-0.05836804211139679,0.22909162938594818,-0.035116326063871384,-0.02383670024573803,0.2858792543411255,0.30493324995040894,-0.2790749669075012,0.030496858060359955,-0.33315759897232056,-0.1427937000989914,-0.2328324317932129,-0.17145968973636627,-0.0916113629937172,0.034851446747779846,-0.28772690892219543,-0.09413183480501175,0.07531637698411942,-0.10538157820701599,0.15156190097332,-0.19783417880535126,-0.2945212125778198,0.3519677519798279,0.059413231909275055,0.28413352370262146,0.15515336394309998,0.21807651221752167,-0.0016147263813763857,-0.23334667086601257,0.10819905251264572,0.00013353295798879117,-0.033792391419410706,-0.1116265207529068,-0.4875395596027374,-2.7257235050201416,-0.21803826093673706,-0.16720649600028992,-0.4851084351539612,0.044613730162382126,-0.25049397349357605,0.12112441658973694,0.5385537147521973,-0.08410670608282089,0.3322349488735199,-0.2996579110622406,0.4228537678718567,0.18317575752735138,-0.17707869410514832,0.10296838730573654,-0.07946250587701797,0.03147530555725098,-0.22785966098308563,-0.19130007922649384,0.38363638520240784,-0.038057997822761536,0.20198705792427063,-0.11381158232688904,0.435788631439209,-0.7137483358383179,-0.15952777862548828,0.5025801658630371,0.040716324001550674,0.1010061651468277,-0.14264875650405884,-0.05398736149072647,0.14464004337787628,-0.4310542047023773,-0.08443687111139297,-0.17107577621936798,0.5388285517692566,-0.029077840968966484,-0.12274277955293655,0.20896220207214355,0.10360396653413773,-0.4427913427352905,-0.19450867176055908,0.29603707790374756,0.34909239411354065,-0.18255046010017395,0.27603405714035034,-0.02771063521504402,0.24484248459339142,0.21420614421367645,0.08048580586910248,0.19908945262432098,-0.019951967522501945,0.23695777356624603,0.3250499665737152,0.23162241280078888,-0.05187899246811867,0.22563378512859344,-0.5709481239318848,0.1991405487060547,-0.2860080301761627,-0.1056298017501831,-0.14043833315372467,0.05133761465549469,-2.8443875312805176,0.21886934340000153,0.21407552063465118,-0.37220659852027893,-0.03442449867725372,-0.436689555644989,0.52834153175354,0.29532375931739807,0.01558278314769268,0.048717278987169266,0.30862700939178467,-0.2537613809108734,0.45253604650497437,-0.19485262036323547,-0.2985808253288269,-0.14542865753173828,0.23327286541461945,0.6095420122146606,0.17541640996932983,0.3106883466243744,0.24924173951148987,0.179908886551857,0.6582603454589844,0.25619712471961975,-0.07284616678953171,-0.09927818179130554,-0.11429858952760696,0.36968740820884705,0.009334573522210121,-0.2615433633327484,-0.2595529854297638,-0.09756439924240112,-0.379523903131485,-2.8821287155151367,0.03677469864487648,0.19872687757015228,0.026435334235429764,-0.353898286819458,0.0059613739140331745,0.24910295009613037,0.24468378722667694,0.009767191484570503,0.3128918409347534,-0.11924299597740173,-0.04123244062066078,-0.16451287269592285,-0.15384328365325928,-0.11189741641283035,-0.2506983280181885,0.34629327058792114,0.3918270468711853,0.21217529475688934,-0.08820471912622452,0.264487087726593,-0.17084021866321564,-0.11632820218801498,0.2234700322151184,0.7180708646774292,0.024317672476172447,0.0564485527575016,-0.0437767468392849,-0.3542148470878601,0.23087970912456512,0.23831123113632202,0.0748981460928917,0.1804170459508896,0.11456387490034103,-0.03414037823677063,0.3440778851509094,0.49509456753730774,-0.15485422313213348,-0.3220635950565338,0.39274224638938904,0.04794793203473091,-0.04770008102059364,0.4740985631942749,0.09009508043527603,0.5964609980583191,0.01434869971126318,-0.4787602126598358,0.3840891718864441,-0.04535939171910286,0.005495590623468161,0.03653792664408684,-0.09046118706464767,0.5297853946685791,0.2387574315071106,0.09186607599258423,-0.4885062873363495,-0.13768717646598816,0.49074605107307434,-0.06991242617368698,0.018030356615781784,-0.22296449542045593,0.03200311213731766,-0.009276507422327995,3.9570393562316895,0.18743276596069336,-0.19585788249969482,0.4090646505355835,0.18586114048957825,-0.4117731750011444,0.34482449293136597,-0.35837605595588684,-0.32052868604660034,0.05161486193537712,0.21590186655521393,0.1358465850353241,0.13260778784751892,0.17112453281879425,-0.20001031458377838,0.33521947264671326,0.13966386020183563,-0.21315065026283264,0.38510990142822266,-0.23787574470043182,0.10199487209320068,0.1902265101671219,0.9965056777000427,0.18355630338191986,-1.4682884216308594,0.05795514956116676,0.2846468687057495,-0.30144375562667847,0.2783818542957306,-0.050745610147714615,-0.19805432856082916,-0.09189357608556747,-0.29133716225624084,0.038184475153684616,0.04929659143090248,0.03534536808729172,0.4681300222873688,-0.11651857942342758,0.2084801346063614,-0.1819981336593628,0.21472102403640747,0.24618281424045563,-0.05690554156899452,0.34966418147087097,-0.214243546128273,0.4634842276573181,0.1232636347413063,-0.09460419416427612,-0.3414964973926544,0.19839918613433838,0.2387361228466034,0.11849747598171234,0.3509752154350281,-0.4350479245185852,0.15199515223503113,-0.28028547763824463,-0.15921524167060852,-0.034767188131809235,0.2652636170387268,-0.44205692410469055,-0.2885097563266754,-0.08907463401556015,-0.022639792412519455,-0.03176923468708992,-0.3198654353618622,0.06924979388713837,-0.4918838143348694,-0.28334617614746094,-4.017383575439453,0.014217720367014408,0.026960929855704308,0.12970764935016632,0.29100513458251953,-0.042589299380779266,0.3134080469608307,0.354998916387558,0.19452713429927826,-0.6118217706680298,0.8437922596931458,0.136996790766716,-0.42514804005622864,0.45009395480155945,-0.21934650838375092,0.30371081829071045,-0.04304640367627144,-0.22688913345336914,0.07385510206222534,-0.43974411487579346,0.08648283034563065,0.08647958189249039,-0.2248339205980301,0.17876288294792175,0.01872164197266102,0.055852632969617844,-0.29105493426322937,-0.4887404143810272,-0.11654383689165115,-0.4175875782966614,-0.1782689243555069,-0.2519546449184418,-0.18653610348701477,-0.150105819106102,0.09663554280996323,-2.92342209815979,0.21917638182640076,-0.27722251415252686,0.03715359419584274,0.04588858038187027,-0.07176462560892105,0.4029321074485779,-0.0397324338555336,-0.4058060646057129,0.29307466745376587,0.1803804636001587,-0.07782993465662003,-0.0574963204562664,0.3767372965812683,0.4173905849456787,0.2959991991519928,0.3768804669380188,0.010429482907056808,0.279232919216156,0.20296801626682281,-0.17206503450870514,0.23691046237945557,0.061239756643772125,-0.18568117916584015,0.12158947438001633,0.4750092625617981,-0.2707771360874176,0.018406499177217484,-0.28368648886680603,0.020001070573925972,0.06263994425535202,-0.10144626349210739,0.2017965316772461,-0.20829148590564728,-0.5910357236862183,-0.049571480602025986,0.1880379170179367,0.12105130404233932,0.4923776388168335,-0.11123669147491455,-0.2518596053123474,0.5150938630104065,0.1364137977361679,0.2886433005332947,0.35378989577293396,0.05703684687614441,-0.009235326200723648,-0.32155922055244446,0.21277615427970886,0.028364278376102448,-0.20914696156978607,-0.09293902665376663,1.1701455116271973,0.08003044128417969,-0.14993904531002045,-0.07019775360822678,0.28723469376564026,0.15694747865200043,0.2415948212146759,0.45322397351264954,0.5808707475662231,-0.3600514531135559,0.19953392446041107,-0.2867526710033417,0.10513598471879959,-0.4263027310371399,0.4745584726333618,-0.4005373418331146,0.15460972487926483,0.12081069499254227,0.3350101113319397,0.19106128811836243,-0.20238250494003296,-1.130832552909851,-0.14063848555088043,0.04963861033320427,-0.370236873626709,0.10177049785852432,0.2485460638999939,0.09459812194108963,-0.1741763949394226,-0.009227593429386616,-0.248909130692482,0.35519325733184814,-0.1372021585702896,-0.2083149254322052,0.07567049562931061,0.31308165192604065,-0.10954782366752625,-0.17579634487628937,-0.2868784964084625,0.2769846022129059,0.1145399808883667,-0.1442621499300003,-0.23449721932411194,0.0017545114969834685,0.4295244514942169,-0.9238272309303284,0.3318202793598175,-0.35402464866638184,-0.2853367328643799,-0.38989612460136414,-0.24649757146835327,0.1304006278514862,-0.09665742516517639,-0.015299828723073006,-0.25638657808303833,0.2713342010974884,-0.019852928817272186,0.4348500669002533,-0.07034722715616226,-0.21516470611095428,0.1035711020231247,0.2719975709915161,0.8460290431976318,-0.012396376579999924,-0.2726733684539795,0.2704120874404907,0.39829063415527344,0.07077965885400772,0.18103890120983124,-0.0639411136507988,-0.07781418412923813,0.010485510341823101,-0.2741599977016449,-0.06894519180059433,0.21891620755195618,-0.030977049842476845,-0.24249885976314545,-0.19899961352348328,0.1386999785900116,0.05704725161194801,-0.5700863599777222,-0.44877585768699646,0.1293371468782425,-0.321339875459671,-0.17733024060726166,0.41469335556030273,0.14530465006828308,-0.005827075336128473,0.5264756679534912,-0.14750751852989197,-0.34278038144111633,0.3775775730609894,-0.17129692435264587,0.3678739070892334,0.05970029532909393,-0.1086149737238884,-0.2936311662197113,0.3791952431201935,0.2986803948879242,-0.32161426544189453,-0.26476752758026123,-0.2352442592382431,0.14597874879837036,-0.03648101165890694,0.12330936640501022,-0.06151288375258446,-0.05225206911563873,0.11573559045791626,0.15905512869358063,0.22500012814998627,-1.5384150743484497,0.06999683380126953,0.5284489989280701,0.07390688359737396,-0.17442584037780762,-0.1290021389722824,-0.43735578656196594,0.7379924058914185,-0.2953348457813263,-0.2743741273880005,-0.2702881097793579,-0.12169115990400314,0.2569498121738434,0.058106206357479095,0.2008761316537857,0.06107509508728981,0.016121627762913704,-0.5183561444282532,-0.13178816437721252,-0.13565091788768768,-0.3364868462085724,0.4366452395915985,0.032397009432315826,0.06015865132212639,-0.0060366676189005375,-0.16685988008975983,-0.1482187807559967,0.30621537566185,-0.061259765177965164,0.07366647571325302,0.04530538618564606,-0.2882876694202423,-0.6543371677398682,-0.25789833068847656,0.09688003361225128,0.08035960048437119,0.25444501638412476,-0.048389069736003876,0.4650467038154602,0.6910762190818787,0.014812693931162357,0.567101776599884,0.233724907040596,0.06143460422754288,0.028628503903746605,0.4010844826698303,-0.4490150809288025,0.07905352860689163,-0.17245300114154816,-0.47074201703071594,-0.07310336083173752,-0.22578731179237366,-0.36511263251304626,-0.13936090469360352,0.1470455378293991,-0.1310054361820221,0.35907885432243347,0.07968833297491074,-0.1813671588897705,-0.2806437015533447,0.15874461829662323,-0.08258367329835892,-0.1939554065465927,0.14463965594768524,-0.28262171149253845,-0.8867875933647156,0.03859703615307808,-0.19753077626228333,-0.137284055352211,0.2507597506046295,0.356904536485672,-0.14984865486621857,-0.43066784739494324,-0.09739835560321808,-0.5203882455825806,0.27423739433288574,0.23854446411132812,-0.011799744330346584,0.29137465357780457,-0.18439680337905884,0.19271284341812134,-0.13809284567832947,-0.08616361767053604,0.20080025494098663,0.3176564574241638,-0.019579829648137093,-0.11548662930727005,-0.11782077699899673,-0.16307108104228973,-0.021181253716349602,-0.428952693939209,-0.3616415858268738,0.5303570628166199,0.19658561050891876,0.2811846137046814,0.008659970946609974,0.021335896104574203,0.038443680852651596,0.20669172704219818,-0.15397429466247559,-0.04260113835334778,0.503599226474762,0.058045726269483566,0.25512418150901794,0.13058462738990784,0.5298604369163513,0.27977681159973145,0.27926719188690186,-0.3363761603832245,-0.15817570686340332,-0.01802918128669262,0.2795434892177582,0.01797371730208397,0.019261695444583893,0.3575285077095032,0.0005149476346559823,0.3050927519798279,-0.26812705397605896,2.2466881275177,0.40627986192703247,0.042358893901109695,-0.40020087361335754,0.2030230611562729,0.4066832363605499,-0.04404505714774132,0.16475683450698853,-0.28084781765937805,0.26620471477508545,-0.32981076836586,0.09178374707698822,0.16507232189178467,0.13556894659996033,0.22539293766021729,0.09439016878604889,-0.25606974959373474,-0.2215113788843155,-0.8654592037200928,-0.328975647687912,-0.4663916826248169,0.6286056637763977,0.121601402759552,-0.16708777844905853,0.27309003472328186,0.4025173783302307,0.3961367607116699,0.22089308500289917,0.06968218833208084,0.26054418087005615,-0.03383089601993561,0.3003306984901428,0.071248859167099,0.11940263211727142,-0.3311759829521179,0.13880790770053864,-0.01701970584690571,-0.257216215133667,-0.16903433203697205,0.18240822851657867,0.02404913865029812,-0.27428022027015686,0.582618236541748,-0.10819101333618164,-0.2848418056964874,0.4507683515548706,-0.08422092348337173,-0.3858765661716461,0.09116045385599136,0.08655793219804764,0.37695154547691345,0.11376849561929703,-0.338549941778183,0.10398974269628525,-0.40559136867523193,-0.1424284130334854,0.4408758580684662,-0.23484763503074646,-0.22043995559215546,0.2663392424583435,-0.08561430126428604,0.5298035144805908,0.17390276491641998,-0.15414811670780182,-0.3710375130176544,-0.1377733051776886,-0.32578080892562866,0.20807422697544098,0.24836964905261993,-0.035750437527894974,-0.11850979924201965,0.5644105076789856,0.4948148727416992,0.36036452651023865,0.33101901412010193,-0.018466293811798096,0.342043399810791,-0.021328890696167946,-0.42547866702079773,-3.0606393814086914,0.13823676109313965,0.1751476675271988,0.18482959270477295,0.2119854837656021,0.42783838510513306,0.37956342101097107,-0.050889983773231506,0.19963546097278595,-0.003729148767888546,0.301714152097702,0.3647262752056122,0.2256779968738556,0.11176111549139023,-0.2000434696674347,0.14285340905189514,0.1204938217997551,-0.31672677397727966,0.08802391588687897,-0.28841838240623474,-0.2692889869213104,0.19890694320201874,0.26972270011901855,-0.13447141647338867,-0.5827397704124451,0.043538421392440796,0.04205481335520744,-0.18629205226898193,0.12292982637882233,0.3665415942668915,-0.21660615503787994,0.2598339021205902,-0.01554532628506422,0.2936937212944031,0.16579346358776093,-0.1061495915055275,-0.008095542900264263,-0.11823703348636627,0.32105347514152527,0.4089765250682831,-0.3629070818424225,0.5846423506736755,-0.18643410503864288,0.2677313983440399,-0.2738163471221924,-0.3237670063972473,0.6496291160583496,-0.2718106210231781,0.42378830909729004,-0.3160589039325714,-0.22860629856586456,0.2556455135345459,-0.07322896271944046,-0.025386868044734,0.3011501133441925,-0.244349405169487,0.21990253031253815,-0.37764087319374084,-0.177305668592453,-0.13201722502708435,0.026469293981790543,-0.20265603065490723,-0.0890762209892273,-0.12256135791540146,0.47843945026397705,-0.5051477551460266,-0.1626398265361786,0.29097047448158264,-0.31121963262557983,-0.1076011061668396,-0.19564320147037506,0.11030508577823639,0.34548255801200867,0.23899267613887787,0.09145741164684296,0.1917039155960083,0.03166079521179199,0.20480909943580627,0.46000900864601135,0.022355463355779648,-0.07255730032920837,-0.3389264941215515,-0.29332128167152405,-0.14698821306228638,0.15866436064243317,-7.905961513519287,-0.010180124081671238,-0.39888128638267517,-0.4125021696090698,0.11469347774982452,-0.009003965184092522,-0.18822722136974335,-0.16521553695201874,0.019870661199092865,-0.026155931875109673,-0.2543494701385498,0.4092269837856293,-0.06473968923091888,-0.34239548444747925,0.24469901621341705,0.6330996155738831],\"yaxis\":\"y\",\"type\":\"scatter\"}],                        {\"template\":{\"data\":{\"histogram2dcontour\":[{\"type\":\"histogram2dcontour\",\"colorbar\":{\"outlinewidth\":0,\"ticks\":\"\"},\"colorscale\":[[0.0,\"#0d0887\"],[0.1111111111111111,\"#46039f\"],[0.2222222222222222,\"#7201a8\"],[0.3333333333333333,\"#9c179e\"],[0.4444444444444444,\"#bd3786\"],[0.5555555555555556,\"#d8576b\"],[0.6666666666666666,\"#ed7953\"],[0.7777777777777778,\"#fb9f3a\"],[0.8888888888888888,\"#fdca26\"],[1.0,\"#f0f921\"]]}],\"choropleth\":[{\"type\":\"choropleth\",\"colorbar\":{\"outlinewidth\":0,\"ticks\":\"\"}}],\"histogram2d\":[{\"type\":\"histogram2d\",\"colorbar\":{\"outlinewidth\":0,\"ticks\":\"\"},\"colorscale\":[[0.0,\"#0d0887\"],[0.1111111111111111,\"#46039f\"],[0.2222222222222222,\"#7201a8\"],[0.3333333333333333,\"#9c179e\"],[0.4444444444444444,\"#bd3786\"],[0.5555555555555556,\"#d8576b\"],[0.6666666666666666,\"#ed7953\"],[0.7777777777777778,\"#fb9f3a\"],[0.8888888888888888,\"#fdca26\"],[1.0,\"#f0f921\"]]}],\"heatmap\":[{\"type\":\"heatmap\",\"colorbar\":{\"outlinewidth\":0,\"ticks\":\"\"},\"colorscale\":[[0.0,\"#0d0887\"],[0.1111111111111111,\"#46039f\"],[0.2222222222222222,\"#7201a8\"],[0.3333333333333333,\"#9c179e\"],[0.4444444444444444,\"#bd3786\"],[0.5555555555555556,\"#d8576b\"],[0.6666666666666666,\"#ed7953\"],[0.7777777777777778,\"#fb9f3a\"],[0.8888888888888888,\"#fdca26\"],[1.0,\"#f0f921\"]]}],\"heatmapgl\":[{\"type\":\"heatmapgl\",\"colorbar\":{\"outlinewidth\":0,\"ticks\":\"\"},\"colorscale\":[[0.0,\"#0d0887\"],[0.1111111111111111,\"#46039f\"],[0.2222222222222222,\"#7201a8\"],[0.3333333333333333,\"#9c179e\"],[0.4444444444444444,\"#bd3786\"],[0.5555555555555556,\"#d8576b\"],[0.6666666666666666,\"#ed7953\"],[0.7777777777777778,\"#fb9f3a\"],[0.8888888888888888,\"#fdca26\"],[1.0,\"#f0f921\"]]}],\"contourcarpet\":[{\"type\":\"contourcarpet\",\"colorbar\":{\"outlinewidth\":0,\"ticks\":\"\"}}],\"contour\":[{\"type\":\"contour\",\"colorbar\":{\"outlinewidth\":0,\"ticks\":\"\"},\"colorscale\":[[0.0,\"#0d0887\"],[0.1111111111111111,\"#46039f\"],[0.2222222222222222,\"#7201a8\"],[0.3333333333333333,\"#9c179e\"],[0.4444444444444444,\"#bd3786\"],[0.5555555555555556,\"#d8576b\"],[0.6666666666666666,\"#ed7953\"],[0.7777777777777778,\"#fb9f3a\"],[0.8888888888888888,\"#fdca26\"],[1.0,\"#f0f921\"]]}],\"surface\":[{\"type\":\"surface\",\"colorbar\":{\"outlinewidth\":0,\"ticks\":\"\"},\"colorscale\":[[0.0,\"#0d0887\"],[0.1111111111111111,\"#46039f\"],[0.2222222222222222,\"#7201a8\"],[0.3333333333333333,\"#9c179e\"],[0.4444444444444444,\"#bd3786\"],[0.5555555555555556,\"#d8576b\"],[0.6666666666666666,\"#ed7953\"],[0.7777777777777778,\"#fb9f3a\"],[0.8888888888888888,\"#fdca26\"],[1.0,\"#f0f921\"]]}],\"mesh3d\":[{\"type\":\"mesh3d\",\"colorbar\":{\"outlinewidth\":0,\"ticks\":\"\"}}],\"scatter\":[{\"fillpattern\":{\"fillmode\":\"overlay\",\"size\":10,\"solidity\":0.2},\"type\":\"scatter\"}],\"parcoords\":[{\"type\":\"parcoords\",\"line\":{\"colorbar\":{\"outlinewidth\":0,\"ticks\":\"\"}}}],\"scatterpolargl\":[{\"type\":\"scatterpolargl\",\"marker\":{\"colorbar\":{\"outlinewidth\":0,\"ticks\":\"\"}}}],\"bar\":[{\"error_x\":{\"color\":\"#2a3f5f\"},\"error_y\":{\"color\":\"#2a3f5f\"},\"marker\":{\"line\":{\"color\":\"#E5ECF6\",\"width\":0.5},\"pattern\":{\"fillmode\":\"overlay\",\"size\":10,\"solidity\":0.2}},\"type\":\"bar\"}],\"scattergeo\":[{\"type\":\"scattergeo\",\"marker\":{\"colorbar\":{\"outlinewidth\":0,\"ticks\":\"\"}}}],\"scatterpolar\":[{\"type\":\"scatterpolar\",\"marker\":{\"colorbar\":{\"outlinewidth\":0,\"ticks\":\"\"}}}],\"histogram\":[{\"marker\":{\"pattern\":{\"fillmode\":\"overlay\",\"size\":10,\"solidity\":0.2}},\"type\":\"histogram\"}],\"scattergl\":[{\"type\":\"scattergl\",\"marker\":{\"colorbar\":{\"outlinewidth\":0,\"ticks\":\"\"}}}],\"scatter3d\":[{\"type\":\"scatter3d\",\"line\":{\"colorbar\":{\"outlinewidth\":0,\"ticks\":\"\"}},\"marker\":{\"colorbar\":{\"outlinewidth\":0,\"ticks\":\"\"}}}],\"scattermapbox\":[{\"type\":\"scattermapbox\",\"marker\":{\"colorbar\":{\"outlinewidth\":0,\"ticks\":\"\"}}}],\"scatterternary\":[{\"type\":\"scatterternary\",\"marker\":{\"colorbar\":{\"outlinewidth\":0,\"ticks\":\"\"}}}],\"scattercarpet\":[{\"type\":\"scattercarpet\",\"marker\":{\"colorbar\":{\"outlinewidth\":0,\"ticks\":\"\"}}}],\"carpet\":[{\"aaxis\":{\"endlinecolor\":\"#2a3f5f\",\"gridcolor\":\"white\",\"linecolor\":\"white\",\"minorgridcolor\":\"white\",\"startlinecolor\":\"#2a3f5f\"},\"baxis\":{\"endlinecolor\":\"#2a3f5f\",\"gridcolor\":\"white\",\"linecolor\":\"white\",\"minorgridcolor\":\"white\",\"startlinecolor\":\"#2a3f5f\"},\"type\":\"carpet\"}],\"table\":[{\"cells\":{\"fill\":{\"color\":\"#EBF0F8\"},\"line\":{\"color\":\"white\"}},\"header\":{\"fill\":{\"color\":\"#C8D4E3\"},\"line\":{\"color\":\"white\"}},\"type\":\"table\"}],\"barpolar\":[{\"marker\":{\"line\":{\"color\":\"#E5ECF6\",\"width\":0.5},\"pattern\":{\"fillmode\":\"overlay\",\"size\":10,\"solidity\":0.2}},\"type\":\"barpolar\"}],\"pie\":[{\"automargin\":true,\"type\":\"pie\"}]},\"layout\":{\"autotypenumbers\":\"strict\",\"colorway\":[\"#636efa\",\"#EF553B\",\"#00cc96\",\"#ab63fa\",\"#FFA15A\",\"#19d3f3\",\"#FF6692\",\"#B6E880\",\"#FF97FF\",\"#FECB52\"],\"font\":{\"color\":\"#2a3f5f\"},\"hovermode\":\"closest\",\"hoverlabel\":{\"align\":\"left\"},\"paper_bgcolor\":\"white\",\"plot_bgcolor\":\"#E5ECF6\",\"polar\":{\"bgcolor\":\"#E5ECF6\",\"angularaxis\":{\"gridcolor\":\"white\",\"linecolor\":\"white\",\"ticks\":\"\"},\"radialaxis\":{\"gridcolor\":\"white\",\"linecolor\":\"white\",\"ticks\":\"\"}},\"ternary\":{\"bgcolor\":\"#E5ECF6\",\"aaxis\":{\"gridcolor\":\"white\",\"linecolor\":\"white\",\"ticks\":\"\"},\"baxis\":{\"gridcolor\":\"white\",\"linecolor\":\"white\",\"ticks\":\"\"},\"caxis\":{\"gridcolor\":\"white\",\"linecolor\":\"white\",\"ticks\":\"\"}},\"coloraxis\":{\"colorbar\":{\"outlinewidth\":0,\"ticks\":\"\"}},\"colorscale\":{\"sequential\":[[0.0,\"#0d0887\"],[0.1111111111111111,\"#46039f\"],[0.2222222222222222,\"#7201a8\"],[0.3333333333333333,\"#9c179e\"],[0.4444444444444444,\"#bd3786\"],[0.5555555555555556,\"#d8576b\"],[0.6666666666666666,\"#ed7953\"],[0.7777777777777778,\"#fb9f3a\"],[0.8888888888888888,\"#fdca26\"],[1.0,\"#f0f921\"]],\"sequentialminus\":[[0.0,\"#0d0887\"],[0.1111111111111111,\"#46039f\"],[0.2222222222222222,\"#7201a8\"],[0.3333333333333333,\"#9c179e\"],[0.4444444444444444,\"#bd3786\"],[0.5555555555555556,\"#d8576b\"],[0.6666666666666666,\"#ed7953\"],[0.7777777777777778,\"#fb9f3a\"],[0.8888888888888888,\"#fdca26\"],[1.0,\"#f0f921\"]],\"diverging\":[[0,\"#8e0152\"],[0.1,\"#c51b7d\"],[0.2,\"#de77ae\"],[0.3,\"#f1b6da\"],[0.4,\"#fde0ef\"],[0.5,\"#f7f7f7\"],[0.6,\"#e6f5d0\"],[0.7,\"#b8e186\"],[0.8,\"#7fbc41\"],[0.9,\"#4d9221\"],[1,\"#276419\"]]},\"xaxis\":{\"gridcolor\":\"white\",\"linecolor\":\"white\",\"ticks\":\"\",\"title\":{\"standoff\":15},\"zerolinecolor\":\"white\",\"automargin\":true,\"zerolinewidth\":2},\"yaxis\":{\"gridcolor\":\"white\",\"linecolor\":\"white\",\"ticks\":\"\",\"title\":{\"standoff\":15},\"zerolinecolor\":\"white\",\"automargin\":true,\"zerolinewidth\":2},\"scene\":{\"xaxis\":{\"backgroundcolor\":\"#E5ECF6\",\"gridcolor\":\"white\",\"linecolor\":\"white\",\"showbackground\":true,\"ticks\":\"\",\"zerolinecolor\":\"white\",\"gridwidth\":2},\"yaxis\":{\"backgroundcolor\":\"#E5ECF6\",\"gridcolor\":\"white\",\"linecolor\":\"white\",\"showbackground\":true,\"ticks\":\"\",\"zerolinecolor\":\"white\",\"gridwidth\":2},\"zaxis\":{\"backgroundcolor\":\"#E5ECF6\",\"gridcolor\":\"white\",\"linecolor\":\"white\",\"showbackground\":true,\"ticks\":\"\",\"zerolinecolor\":\"white\",\"gridwidth\":2}},\"shapedefaults\":{\"line\":{\"color\":\"#2a3f5f\"}},\"annotationdefaults\":{\"arrowcolor\":\"#2a3f5f\",\"arrowhead\":0,\"arrowwidth\":1},\"geo\":{\"bgcolor\":\"white\",\"landcolor\":\"#E5ECF6\",\"subunitcolor\":\"white\",\"showland\":true,\"showlakes\":true,\"lakecolor\":\"white\"},\"title\":{\"x\":0.05},\"mapbox\":{\"style\":\"light\"}}},\"xaxis\":{\"anchor\":\"y\",\"domain\":[0.0,1.0],\"title\":{\"text\":\"Embedding Dimension\"}},\"yaxis\":{\"anchor\":\"x\",\"domain\":[0.0,1.0],\"title\":{\"text\":\"Value\"}},\"legend\":{\"tracegroupgap\":0},\"title\":{\"text\":\"BERT Embeddings for the First Token\"}},                        {\"responsive\": true}                    ).then(function(){\n",
              "                            \n",
              "var gd = document.getElementById('08419ef0-044d-4a25-bacb-ed5be8e3a42e');\n",
              "var x = new MutationObserver(function (mutations, observer) {{\n",
              "        var display = window.getComputedStyle(gd).display;\n",
              "        if (!display || display === 'none') {{\n",
              "            console.log([gd, 'removed!']);\n",
              "            Plotly.purge(gd);\n",
              "            observer.disconnect();\n",
              "        }}\n",
              "}});\n",
              "\n",
              "// Listen for the removal of the full notebook cells\n",
              "var notebookContainer = gd.closest('#notebook-container');\n",
              "if (notebookContainer) {{\n",
              "    x.observe(notebookContainer, {childList: true});\n",
              "}}\n",
              "\n",
              "// Listen for the clearing of the current output cell\n",
              "var outputEl = gd.closest('.output');\n",
              "if (outputEl) {{\n",
              "    x.observe(outputEl, {childList: true});\n",
              "}}\n",
              "\n",
              "                        })                };                            </script>        </div>\n",
              "</body>\n",
              "</html>"
            ]
          },
          "metadata": {}
        }
      ]
    },
    {
      "cell_type": "markdown",
      "source": [
        "## Line Plot\n"
      ],
      "metadata": {
        "id": "m4S8Wfku0RVh"
      }
    },
    {
      "cell_type": "code",
      "source": [
        "\n",
        "\n",
        "# Sample data\n",
        "x = [1, 2, 3, 4, 5]\n",
        "y = [2, 4, 1, 5, 3]\n",
        "\n",
        "# Create the plot\n",
        "plt.plot(x, y)\n",
        "\n",
        "# Add labels and title\n",
        "plt.xlabel('X-axis')\n",
        "plt.ylabel('Y-axis')\n",
        "plt.title('Simple Line Plot')\n",
        "\n",
        "# Display the plot\n",
        "plt.show()"
      ],
      "metadata": {
        "colab": {
          "base_uri": "https://localhost:8080/",
          "height": 472
        },
        "id": "1qW5HnhLt0Cm",
        "outputId": "8bc2f658-0d36-4d3f-abc0-eb08c9cf3458"
      },
      "execution_count": 109,
      "outputs": [
        {
          "output_type": "display_data",
          "data": {
            "text/plain": [
              "<Figure size 640x480 with 1 Axes>"
            ],
            "image/png": "[encoded data removed]"
          },
          "metadata": {}
        }
      ]
    },
    {
      "cell_type": "markdown",
      "source": [
        "# Evaluate metrices and loss functions"
      ],
      "metadata": {
        "id": "dJh6mBZibRkj"
      }
    },
    {
      "cell_type": "code",
      "source": [
        "import tensorflow as tf\n",
        "from sklearn.metrics import f1_score\n",
        "\n",
        "# Assuming you have predictions and true labels\n",
        "# Replace 'y_pred' and 'y_true' with your actual data\n",
        "y_pred = [0, 1, 1, 0, 1]  # Example predictions\n",
        "y_true = [1, 1, 0, 0, 1]  # Example true labels\n",
        "\n",
        "# Calculate F1-score\n",
        "f1 = f1_score(y_true, y_pred)\n",
        "print(\"F1-score:\", f1)\n",
        "\n",
        "# Convert lists to tensors of floats\n",
        "y_true = tf.constant(y_true, dtype=tf.float32)\n",
        "y_pred = tf.constant(y_pred, dtype=tf.float32)\n",
        "\n",
        "# Calculate binary cross-entropy loss (assuming binary classification)\n",
        "bce = tf.keras.losses.BinaryCrossentropy()(y_true, y_pred).numpy()\n",
        "print(\"Binary Cross-Entropy Loss:\", bce)\n"
      ],
      "metadata": {
        "colab": {
          "base_uri": "https://localhost:8080/"
        },
        "id": "GEVVic2Y-zSY",
        "outputId": "da7caf24-4361-42dd-f26e-2c5cdc76ef6d"
      },
      "execution_count": 110,
      "outputs": [
        {
          "output_type": "stream",
          "name": "stdout",
          "text": [
            "F1-score: 0.6666666666666666\n",
            "Binary Cross-Entropy Loss: 6.151637\n"
          ]
        }
      ]
    },
    {
      "cell_type": "markdown",
      "source": [
        "# **STATE-OF-THE-ART-LLM**"
      ],
      "metadata": {
        "id": "3JDxuOR5drDN"
      }
    },
    {
      "cell_type": "markdown",
      "source": [
        "# GPT Model"
      ],
      "metadata": {
        "id": "Ijg0LwDgximL"
      }
    },
    {
      "cell_type": "code",
      "source": [
        "from transformers import GPT2LMHeadModel, GPT2Tokenizer\n",
        "\n",
        "# Load pre-trained GPT-2 model and tokenizer\n",
        "model_name = 'gpt2'  # You can choose a different GPT-2 variant if needed\n",
        "tokenizer = GPT2Tokenizer.from_pretrained(model_name)\n",
        "model = GPT2LMHeadModel.from_pretrained(model_name)\n",
        "\n",
        "def generate_text(prompt, max_length=50):\n",
        "    input_ids = tokenizer.encode(prompt, return_tensors='pt')\n",
        "    attention_mask = torch.ones(input_ids.shape, dtype=torch.long)  # Create attention mask\n",
        "\n",
        "    output = model.generate(\n",
        "        input_ids=input_ids,\n",
        "        attention_mask=attention_mask,\n",
        "        max_length=max_length,\n",
        "        num_return_sequences=1,\n",
        "        no_repeat_ngram_size=2,\n",
        "        temperature=0.7\n",
        "    )\n",
        "\n",
        "    generated_text = tokenizer.decode(output[0], skip_special_tokens=True)\n",
        "    return generated_text"
      ],
      "metadata": {
        "id": "Mfr3I04Ty3i3",
        "outputId": "17187767-4ebe-4103-c634-d093a3ee2473",
        "colab": {
          "base_uri": "https://localhost:8080/",
          "height": 49,
          "referenced_widgets": [
            "2d063bc65b554078b32ca68b06b1ebca",
            "29289e7092e349b2bf3801ab32444604",
            "f1280fc1bd1441489dd71c2b7c12b4b6",
            "b6299b74951b4d76b77583e64fc84dad",
            "d3621e4534814df28551e504aab4f0ae",
            "522afae163494e88a5f5d0f964e8bb23",
            "21dc1f1334694a82855a09342e26be48",
            "bd9a6b3044ea4970af15b896250424a5",
            "15f5c07f406a4d7192e9d7c2ebbcbfc5",
            "3ee979b9ba364cd9b44be13e1e06218f",
            "cb7e32e9f67a4425b3c4d459392262fe"
          ]
        }
      },
      "execution_count": 64,
      "outputs": [
        {
          "output_type": "display_data",
          "data": {
            "text/plain": [
              "generation_config.json:   0%|          | 0.00/124 [00:00<?, ?B/s]"
            ],
            "application/vnd.jupyter.widget-view+json": {
              "version_major": 2,
              "version_minor": 0,
              "model_id": "2d063bc65b554078b32ca68b06b1ebca"
            }
          },
          "metadata": {}
        }
      ]
    },
    {
      "cell_type": "markdown",
      "source": [
        "# Retrieve"
      ],
      "metadata": {
        "id": "WDKm1vh60AM8"
      }
    },
    {
      "cell_type": "code",
      "source": [
        "\n",
        "questions = dataset['train']['question']\n",
        "\n",
        "# Print the first few questions\n",
        "print(questions[:5])\n"
      ],
      "metadata": {
        "id": "mCAV7N8gyr2Q",
        "outputId": "a48aa665-33c2-4c6f-a3c2-c5ff07382f74",
        "colab": {
          "base_uri": "https://localhost:8080/"
        }
      },
      "execution_count": 118,
      "outputs": [
        {
          "output_type": "stream",
          "name": "stdout",
          "text": [
            "['different opinion climate change', 'attending youngest daughter wedding direct violation protective restraining order bad idea even well rehearsed apology speech ready', 'every year top mutual fund change select particular fund longer period year', 'rent seeking turning profit ownership good thing', 'happen equal rupee consequence']\n"
          ]
        }
      ]
    },
    {
      "cell_type": "markdown",
      "source": [
        "# Generate"
      ],
      "metadata": {
        "id": "AeDNlJDq0ul-"
      }
    },
    {
      "cell_type": "code",
      "source": [
        "\n",
        "\n",
        "# Generate answers for the first 5 questions\n",
        "for question in questions[:5]:\n",
        "  generated_answer = generate_text(question)\n",
        "  print(f\"Question: {question}\")\n",
        "  print(f\"Generated Answer: {generated_answer}\\n\")\n"
      ],
      "metadata": {
        "id": "SWwaw2DL0hKZ",
        "outputId": "dcadecb5-9993-49d1-c088-95fcc0f6f9ec",
        "colab": {
          "base_uri": "https://localhost:8080/"
        }
      },
      "execution_count": 119,
      "outputs": [
        {
          "output_type": "stream",
          "name": "stderr",
          "text": [
            "Setting `pad_token_id` to `eos_token_id`:50256 for open-end generation.\n",
            "Setting `pad_token_id` to `eos_token_id`:50256 for open-end generation.\n"
          ]
        },
        {
          "output_type": "stream",
          "name": "stdout",
          "text": [
            "Question: different opinion climate change\n",
            "Generated Answer: different opinion climate change is a hoax,\" said the group's executive director, David K. Johnson. \"We are not going to accept that climate science is wrong.\"\n",
            "\n",
            "The group also said it would not accept the idea that the United States is\n",
            "\n"
          ]
        },
        {
          "output_type": "stream",
          "name": "stderr",
          "text": [
            "Setting `pad_token_id` to `eos_token_id`:50256 for open-end generation.\n"
          ]
        },
        {
          "output_type": "stream",
          "name": "stdout",
          "text": [
            "Question: attending youngest daughter wedding direct violation protective restraining order bad idea even well rehearsed apology speech ready\n",
            "Generated Answer: attending youngest daughter wedding direct violation protective restraining order bad idea even well rehearsed apology speech ready to be used as a weapon to intimidate and intimidate the victim.\n",
            "\n",
            "The victim was a young woman who was in the process of getting married. She\n",
            "\n"
          ]
        },
        {
          "output_type": "stream",
          "name": "stderr",
          "text": [
            "Setting `pad_token_id` to `eos_token_id`:50256 for open-end generation.\n"
          ]
        },
        {
          "output_type": "stream",
          "name": "stdout",
          "text": [
            "Question: every year top mutual fund change select particular fund longer period year\n",
            "Generated Answer: every year top mutual fund change select particular fund longer period year\n",
            "\n",
            "The following table shows the change in the number of years of the selected fund.\n",
            "...\n",
            " (1) The following tables show the changes in total fund size. (\n",
            "\n"
          ]
        },
        {
          "output_type": "stream",
          "name": "stderr",
          "text": [
            "Setting `pad_token_id` to `eos_token_id`:50256 for open-end generation.\n"
          ]
        },
        {
          "output_type": "stream",
          "name": "stdout",
          "text": [
            "Question: rent seeking turning profit ownership good thing\n",
            "Generated Answer: rent seeking turning profit ownership good thing.\n",
            "\n",
            "The problem is that the government has been doing this for years. The government is trying to get the public to buy into the idea that it is a good idea to have a monopoly on the sale of\n",
            "\n",
            "Question: happen equal rupee consequence\n",
            "Generated Answer: happen equal rupee consequence of the fact that the government has not been able to get the money to pay for the new infrastructure.\n",
            "\n",
            "The government is also trying to make it easier for people to buy goods and services from the state.\n",
            "\n"
          ]
        }
      ]
    },
    {
      "cell_type": "markdown",
      "source": [
        "# Data Visualization\n"
      ],
      "metadata": {
        "id": "TvJ-wW2W0nPM"
      }
    },
    {
      "cell_type": "markdown",
      "source": [
        "Scatter Plot"
      ],
      "metadata": {
        "id": "GlwbWGq40s9s"
      }
    },
    {
      "cell_type": "code",
      "source": [
        "\n",
        "\n",
        "# Assuming 'embeddings' is a tensor of shape (batch_size, sequence_length, hidden_size)\n",
        "# We'll visualize the embeddings of the first token in the sequence\n",
        "token_embeddings = embeddings[0, 0, :].detach().numpy()\n",
        "\n",
        "# Create a scatter plot\n",
        "fig = px.scatter(x=range(len(token_embeddings)), y=token_embeddings,\n",
        "                 labels={'x': 'Embedding Dimension', 'y': 'Value'},\n",
        "                 title='GPT Embeddings for the First Token')\n",
        "\n",
        "fig.show()\n"
      ],
      "metadata": {
        "id": "mTJn11ns0D6m",
        "outputId": "da443e0c-c4b6-423e-b0d1-9780741dc4ad",
        "colab": {
          "base_uri": "https://localhost:8080/",
          "height": 542
        }
      },
      "execution_count": 120,
      "outputs": [
        {
          "output_type": "display_data",
          "data": {
            "text/html": [
              "<html>\n",
              "<head><meta charset=\"utf-8\" /></head>\n",
              "<body>\n",
              "    <div>            <script src=\"https://cdnjs.cloudflare.com/ajax/libs/mathjax/2.7.5/MathJax.js?config=TeX-AMS-MML_SVG\"></script><script type=\"text/javascript\">if (window.MathJax && window.MathJax.Hub && window.MathJax.Hub.Config) {window.MathJax.Hub.Config({SVG: {font: \"STIX-Web\"}});}</script>                <script type=\"text/javascript\">window.PlotlyConfig = {MathJaxConfig: 'local'};</script>\n",
              "        <script charset=\"utf-8\" src=\"https://cdn.plot.ly/plotly-2.24.1.min.js\"></script>                <div id=\"912abe5d-39a7-4e4a-b040-f25c9165f996\" class=\"plotly-graph-div\" style=\"height:525px; width:100%;\"></div>            <script type=\"text/javascript\">                                    window.PLOTLYENV=window.PLOTLYENV || {};                                    if (document.getElementById(\"912abe5d-39a7-4e4a-b040-f25c9165f996\")) {                    Plotly.newPlot(                        \"912abe5d-39a7-4e4a-b040-f25c9165f996\",                        [{\"hovertemplate\":\"Embedding Dimension=%{x}\\u003cbr\\u003eValue=%{y}\\u003cextra\\u003e\\u003c\\u002fextra\\u003e\",\"legendgroup\":\"\",\"marker\":{\"color\":\"#636efa\",\"symbol\":\"circle\"},\"mode\":\"markers\",\"name\":\"\",\"orientation\":\"v\",\"showlegend\":false,\"x\":[0,1,2,3,4,5,6,7,8,9,10,11,12,13,14,15,16,17,18,19,20,21,22,23,24,25,26,27,28,29,30,31,32,33,34,35,36,37,38,39,40,41,42,43,44,45,46,47,48,49,50,51,52,53,54,55,56,57,58,59,60,61,62,63,64,65,66,67,68,69,70,71,72,73,74,75,76,77,78,79,80,81,82,83,84,85,86,87,88,89,90,91,92,93,94,95,96,97,98,99,100,101,102,103,104,105,106,107,108,109,110,111,112,113,114,115,116,117,118,119,120,121,122,123,124,125,126,127,128,129,130,131,132,133,134,135,136,137,138,139,140,141,142,143,144,145,146,147,148,149,150,151,152,153,154,155,156,157,158,159,160,161,162,163,164,165,166,167,168,169,170,171,172,173,174,175,176,177,178,179,180,181,182,183,184,185,186,187,188,189,190,191,192,193,194,195,196,197,198,199,200,201,202,203,204,205,206,207,208,209,210,211,212,213,214,215,216,217,218,219,220,221,222,223,224,225,226,227,228,229,230,231,232,233,234,235,236,237,238,239,240,241,242,243,244,245,246,247,248,249,250,251,252,253,254,255,256,257,258,259,260,261,262,263,264,265,266,267,268,269,270,271,272,273,274,275,276,277,278,279,280,281,282,283,284,285,286,287,288,289,290,291,292,293,294,295,296,297,298,299,300,301,302,303,304,305,306,307,308,309,310,311,312,313,314,315,316,317,318,319,320,321,322,323,324,325,326,327,328,329,330,331,332,333,334,335,336,337,338,339,340,341,342,343,344,345,346,347,348,349,350,351,352,353,354,355,356,357,358,359,360,361,362,363,364,365,366,367,368,369,370,371,372,373,374,375,376,377,378,379,380,381,382,383,384,385,386,387,388,389,390,391,392,393,394,395,396,397,398,399,400,401,402,403,404,405,406,407,408,409,410,411,412,413,414,415,416,417,418,419,420,421,422,423,424,425,426,427,428,429,430,431,432,433,434,435,436,437,438,439,440,441,442,443,444,445,446,447,448,449,450,451,452,453,454,455,456,457,458,459,460,461,462,463,464,465,466,467,468,469,470,471,472,473,474,475,476,477,478,479,480,481,482,483,484,485,486,487,488,489,490,491,492,493,494,495,496,497,498,499,500,501,502,503,504,505,506,507,508,509,510,511,512,513,514,515,516,517,518,519,520,521,522,523,524,525,526,527,528,529,530,531,532,533,534,535,536,537,538,539,540,541,542,543,544,545,546,547,548,549,550,551,552,553,554,555,556,557,558,559,560,561,562,563,564,565,566,567,568,569,570,571,572,573,574,575,576,577,578,579,580,581,582,583,584,585,586,587,588,589,590,591,592,593,594,595,596,597,598,599,600,601,602,603,604,605,606,607,608,609,610,611,612,613,614,615,616,617,618,619,620,621,622,623,624,625,626,627,628,629,630,631,632,633,634,635,636,637,638,639,640,641,642,643,644,645,646,647,648,649,650,651,652,653,654,655,656,657,658,659,660,661,662,663,664,665,666,667,668,669,670,671,672,673,674,675,676,677,678,679,680,681,682,683,684,685,686,687,688,689,690,691,692,693,694,695,696,697,698,699,700,701,702,703,704,705,706,707,708,709,710,711,712,713,714,715,716,717,718,719,720,721,722,723,724,725,726,727,728,729,730,731,732,733,734,735,736,737,738,739,740,741,742,743,744,745,746,747,748,749,750,751,752,753,754,755,756,757,758,759,760,761,762,763,764,765,766,767],\"xaxis\":\"x\",\"y\":[-0.07810764759778976,-0.18066732585430145,-0.1542903035879135,-0.10693222284317017,-0.30641722679138184,-0.6268917918205261,-0.003950638230890036,0.15170960128307343,0.21237975358963013,-0.1762062907218933,-0.10841536521911621,0.04211407154798508,-0.17102739214897156,-0.05836804211139679,0.22909162938594818,-0.035116326063871384,-0.02383670024573803,0.2858792543411255,0.30493324995040894,-0.2790749669075012,0.030496858060359955,-0.33315759897232056,-0.1427937000989914,-0.2328324317932129,-0.17145968973636627,-0.0916113629937172,0.034851446747779846,-0.28772690892219543,-0.09413183480501175,0.07531637698411942,-0.10538157820701599,0.15156190097332,-0.19783417880535126,-0.2945212125778198,0.3519677519798279,0.059413231909275055,0.28413352370262146,0.15515336394309998,0.21807651221752167,-0.0016147263813763857,-0.23334667086601257,0.10819905251264572,0.00013353295798879117,-0.033792391419410706,-0.1116265207529068,-0.4875395596027374,-2.7257235050201416,-0.21803826093673706,-0.16720649600028992,-0.4851084351539612,0.044613730162382126,-0.25049397349357605,0.12112441658973694,0.5385537147521973,-0.08410670608282089,0.3322349488735199,-0.2996579110622406,0.4228537678718567,0.18317575752735138,-0.17707869410514832,0.10296838730573654,-0.07946250587701797,0.03147530555725098,-0.22785966098308563,-0.19130007922649384,0.38363638520240784,-0.038057997822761536,0.20198705792427063,-0.11381158232688904,0.435788631439209,-0.7137483358383179,-0.15952777862548828,0.5025801658630371,0.040716324001550674,0.1010061651468277,-0.14264875650405884,-0.05398736149072647,0.14464004337787628,-0.4310542047023773,-0.08443687111139297,-0.17107577621936798,0.5388285517692566,-0.029077840968966484,-0.12274277955293655,0.20896220207214355,0.10360396653413773,-0.4427913427352905,-0.19450867176055908,0.29603707790374756,0.34909239411354065,-0.18255046010017395,0.27603405714035034,-0.02771063521504402,0.24484248459339142,0.21420614421367645,0.08048580586910248,0.19908945262432098,-0.019951967522501945,0.23695777356624603,0.3250499665737152,0.23162241280078888,-0.05187899246811867,0.22563378512859344,-0.5709481239318848,0.1991405487060547,-0.2860080301761627,-0.1056298017501831,-0.14043833315372467,0.05133761465549469,-2.8443875312805176,0.21886934340000153,0.21407552063465118,-0.37220659852027893,-0.03442449867725372,-0.436689555644989,0.52834153175354,0.29532375931739807,0.01558278314769268,0.048717278987169266,0.30862700939178467,-0.2537613809108734,0.45253604650497437,-0.19485262036323547,-0.2985808253288269,-0.14542865753173828,0.23327286541461945,0.6095420122146606,0.17541640996932983,0.3106883466243744,0.24924173951148987,0.179908886551857,0.6582603454589844,0.25619712471961975,-0.07284616678953171,-0.09927818179130554,-0.11429858952760696,0.36968740820884705,0.009334573522210121,-0.2615433633327484,-0.2595529854297638,-0.09756439924240112,-0.379523903131485,-2.8821287155151367,0.03677469864487648,0.19872687757015228,0.026435334235429764,-0.353898286819458,0.0059613739140331745,0.24910295009613037,0.24468378722667694,0.009767191484570503,0.3128918409347534,-0.11924299597740173,-0.04123244062066078,-0.16451287269592285,-0.15384328365325928,-0.11189741641283035,-0.2506983280181885,0.34629327058792114,0.3918270468711853,0.21217529475688934,-0.08820471912622452,0.264487087726593,-0.17084021866321564,-0.11632820218801498,0.2234700322151184,0.7180708646774292,0.024317672476172447,0.0564485527575016,-0.0437767468392849,-0.3542148470878601,0.23087970912456512,0.23831123113632202,0.0748981460928917,0.1804170459508896,0.11456387490034103,-0.03414037823677063,0.3440778851509094,0.49509456753730774,-0.15485422313213348,-0.3220635950565338,0.39274224638938904,0.04794793203473091,-0.04770008102059364,0.4740985631942749,0.09009508043527603,0.5964609980583191,0.01434869971126318,-0.4787602126598358,0.3840891718864441,-0.04535939171910286,0.005495590623468161,0.03653792664408684,-0.09046118706464767,0.5297853946685791,0.2387574315071106,0.09186607599258423,-0.4885062873363495,-0.13768717646598816,0.49074605107307434,-0.06991242617368698,0.018030356615781784,-0.22296449542045593,0.03200311213731766,-0.009276507422327995,3.9570393562316895,0.18743276596069336,-0.19585788249969482,0.4090646505355835,0.18586114048957825,-0.4117731750011444,0.34482449293136597,-0.35837605595588684,-0.32052868604660034,0.05161486193537712,0.21590186655521393,0.1358465850353241,0.13260778784751892,0.17112453281879425,-0.20001031458377838,0.33521947264671326,0.13966386020183563,-0.21315065026283264,0.38510990142822266,-0.23787574470043182,0.10199487209320068,0.1902265101671219,0.9965056777000427,0.18355630338191986,-1.4682884216308594,0.05795514956116676,0.2846468687057495,-0.30144375562667847,0.2783818542957306,-0.050745610147714615,-0.19805432856082916,-0.09189357608556747,-0.29133716225624084,0.038184475153684616,0.04929659143090248,0.03534536808729172,0.4681300222873688,-0.11651857942342758,0.2084801346063614,-0.1819981336593628,0.21472102403640747,0.24618281424045563,-0.05690554156899452,0.34966418147087097,-0.214243546128273,0.4634842276573181,0.1232636347413063,-0.09460419416427612,-0.3414964973926544,0.19839918613433838,0.2387361228466034,0.11849747598171234,0.3509752154350281,-0.4350479245185852,0.15199515223503113,-0.28028547763824463,-0.15921524167060852,-0.034767188131809235,0.2652636170387268,-0.44205692410469055,-0.2885097563266754,-0.08907463401556015,-0.022639792412519455,-0.03176923468708992,-0.3198654353618622,0.06924979388713837,-0.4918838143348694,-0.28334617614746094,-4.017383575439453,0.014217720367014408,0.026960929855704308,0.12970764935016632,0.29100513458251953,-0.042589299380779266,0.3134080469608307,0.354998916387558,0.19452713429927826,-0.6118217706680298,0.8437922596931458,0.136996790766716,-0.42514804005622864,0.45009395480155945,-0.21934650838375092,0.30371081829071045,-0.04304640367627144,-0.22688913345336914,0.07385510206222534,-0.43974411487579346,0.08648283034563065,0.08647958189249039,-0.2248339205980301,0.17876288294792175,0.01872164197266102,0.055852632969617844,-0.29105493426322937,-0.4887404143810272,-0.11654383689165115,-0.4175875782966614,-0.1782689243555069,-0.2519546449184418,-0.18653610348701477,-0.150105819106102,0.09663554280996323,-2.92342209815979,0.21917638182640076,-0.27722251415252686,0.03715359419584274,0.04588858038187027,-0.07176462560892105,0.4029321074485779,-0.0397324338555336,-0.4058060646057129,0.29307466745376587,0.1803804636001587,-0.07782993465662003,-0.0574963204562664,0.3767372965812683,0.4173905849456787,0.2959991991519928,0.3768804669380188,0.010429482907056808,0.279232919216156,0.20296801626682281,-0.17206503450870514,0.23691046237945557,0.061239756643772125,-0.18568117916584015,0.12158947438001633,0.4750092625617981,-0.2707771360874176,0.018406499177217484,-0.28368648886680603,0.020001070573925972,0.06263994425535202,-0.10144626349210739,0.2017965316772461,-0.20829148590564728,-0.5910357236862183,-0.049571480602025986,0.1880379170179367,0.12105130404233932,0.4923776388168335,-0.11123669147491455,-0.2518596053123474,0.5150938630104065,0.1364137977361679,0.2886433005332947,0.35378989577293396,0.05703684687614441,-0.009235326200723648,-0.32155922055244446,0.21277615427970886,0.028364278376102448,-0.20914696156978607,-0.09293902665376663,1.1701455116271973,0.08003044128417969,-0.14993904531002045,-0.07019775360822678,0.28723469376564026,0.15694747865200043,0.2415948212146759,0.45322397351264954,0.5808707475662231,-0.3600514531135559,0.19953392446041107,-0.2867526710033417,0.10513598471879959,-0.4263027310371399,0.4745584726333618,-0.4005373418331146,0.15460972487926483,0.12081069499254227,0.3350101113319397,0.19106128811836243,-0.20238250494003296,-1.130832552909851,-0.14063848555088043,0.04963861033320427,-0.370236873626709,0.10177049785852432,0.2485460638999939,0.09459812194108963,-0.1741763949394226,-0.009227593429386616,-0.248909130692482,0.35519325733184814,-0.1372021585702896,-0.2083149254322052,0.07567049562931061,0.31308165192604065,-0.10954782366752625,-0.17579634487628937,-0.2868784964084625,0.2769846022129059,0.1145399808883667,-0.1442621499300003,-0.23449721932411194,0.0017545114969834685,0.4295244514942169,-0.9238272309303284,0.3318202793598175,-0.35402464866638184,-0.2853367328643799,-0.38989612460136414,-0.24649757146835327,0.1304006278514862,-0.09665742516517639,-0.015299828723073006,-0.25638657808303833,0.2713342010974884,-0.019852928817272186,0.4348500669002533,-0.07034722715616226,-0.21516470611095428,0.1035711020231247,0.2719975709915161,0.8460290431976318,-0.012396376579999924,-0.2726733684539795,0.2704120874404907,0.39829063415527344,0.07077965885400772,0.18103890120983124,-0.0639411136507988,-0.07781418412923813,0.010485510341823101,-0.2741599977016449,-0.06894519180059433,0.21891620755195618,-0.030977049842476845,-0.24249885976314545,-0.19899961352348328,0.1386999785900116,0.05704725161194801,-0.5700863599777222,-0.44877585768699646,0.1293371468782425,-0.321339875459671,-0.17733024060726166,0.41469335556030273,0.14530465006828308,-0.005827075336128473,0.5264756679534912,-0.14750751852989197,-0.34278038144111633,0.3775775730609894,-0.17129692435264587,0.3678739070892334,0.05970029532909393,-0.1086149737238884,-0.2936311662197113,0.3791952431201935,0.2986803948879242,-0.32161426544189453,-0.26476752758026123,-0.2352442592382431,0.14597874879837036,-0.03648101165890694,0.12330936640501022,-0.06151288375258446,-0.05225206911563873,0.11573559045791626,0.15905512869358063,0.22500012814998627,-1.5384150743484497,0.06999683380126953,0.5284489989280701,0.07390688359737396,-0.17442584037780762,-0.1290021389722824,-0.43735578656196594,0.7379924058914185,-0.2953348457813263,-0.2743741273880005,-0.2702881097793579,-0.12169115990400314,0.2569498121738434,0.058106206357479095,0.2008761316537857,0.06107509508728981,0.016121627762913704,-0.5183561444282532,-0.13178816437721252,-0.13565091788768768,-0.3364868462085724,0.4366452395915985,0.032397009432315826,0.06015865132212639,-0.0060366676189005375,-0.16685988008975983,-0.1482187807559967,0.30621537566185,-0.061259765177965164,0.07366647571325302,0.04530538618564606,-0.2882876694202423,-0.6543371677398682,-0.25789833068847656,0.09688003361225128,0.08035960048437119,0.25444501638412476,-0.048389069736003876,0.4650467038154602,0.6910762190818787,0.014812693931162357,0.567101776599884,0.233724907040596,0.06143460422754288,0.028628503903746605,0.4010844826698303,-0.4490150809288025,0.07905352860689163,-0.17245300114154816,-0.47074201703071594,-0.07310336083173752,-0.22578731179237366,-0.36511263251304626,-0.13936090469360352,0.1470455378293991,-0.1310054361820221,0.35907885432243347,0.07968833297491074,-0.1813671588897705,-0.2806437015533447,0.15874461829662323,-0.08258367329835892,-0.1939554065465927,0.14463965594768524,-0.28262171149253845,-0.8867875933647156,0.03859703615307808,-0.19753077626228333,-0.137284055352211,0.2507597506046295,0.356904536485672,-0.14984865486621857,-0.43066784739494324,-0.09739835560321808,-0.5203882455825806,0.27423739433288574,0.23854446411132812,-0.011799744330346584,0.29137465357780457,-0.18439680337905884,0.19271284341812134,-0.13809284567832947,-0.08616361767053604,0.20080025494098663,0.3176564574241638,-0.019579829648137093,-0.11548662930727005,-0.11782077699899673,-0.16307108104228973,-0.021181253716349602,-0.428952693939209,-0.3616415858268738,0.5303570628166199,0.19658561050891876,0.2811846137046814,0.008659970946609974,0.021335896104574203,0.038443680852651596,0.20669172704219818,-0.15397429466247559,-0.04260113835334778,0.503599226474762,0.058045726269483566,0.25512418150901794,0.13058462738990784,0.5298604369163513,0.27977681159973145,0.27926719188690186,-0.3363761603832245,-0.15817570686340332,-0.01802918128669262,0.2795434892177582,0.01797371730208397,0.019261695444583893,0.3575285077095032,0.0005149476346559823,0.3050927519798279,-0.26812705397605896,2.2466881275177,0.40627986192703247,0.042358893901109695,-0.40020087361335754,0.2030230611562729,0.4066832363605499,-0.04404505714774132,0.16475683450698853,-0.28084781765937805,0.26620471477508545,-0.32981076836586,0.09178374707698822,0.16507232189178467,0.13556894659996033,0.22539293766021729,0.09439016878604889,-0.25606974959373474,-0.2215113788843155,-0.8654592037200928,-0.328975647687912,-0.4663916826248169,0.6286056637763977,0.121601402759552,-0.16708777844905853,0.27309003472328186,0.4025173783302307,0.3961367607116699,0.22089308500289917,0.06968218833208084,0.26054418087005615,-0.03383089601993561,0.3003306984901428,0.071248859167099,0.11940263211727142,-0.3311759829521179,0.13880790770053864,-0.01701970584690571,-0.257216215133667,-0.16903433203697205,0.18240822851657867,0.02404913865029812,-0.27428022027015686,0.582618236541748,-0.10819101333618164,-0.2848418056964874,0.4507683515548706,-0.08422092348337173,-0.3858765661716461,0.09116045385599136,0.08655793219804764,0.37695154547691345,0.11376849561929703,-0.338549941778183,0.10398974269628525,-0.40559136867523193,-0.1424284130334854,0.4408758580684662,-0.23484763503074646,-0.22043995559215546,0.2663392424583435,-0.08561430126428604,0.5298035144805908,0.17390276491641998,-0.15414811670780182,-0.3710375130176544,-0.1377733051776886,-0.32578080892562866,0.20807422697544098,0.24836964905261993,-0.035750437527894974,-0.11850979924201965,0.5644105076789856,0.4948148727416992,0.36036452651023865,0.33101901412010193,-0.018466293811798096,0.342043399810791,-0.021328890696167946,-0.42547866702079773,-3.0606393814086914,0.13823676109313965,0.1751476675271988,0.18482959270477295,0.2119854837656021,0.42783838510513306,0.37956342101097107,-0.050889983773231506,0.19963546097278595,-0.003729148767888546,0.301714152097702,0.3647262752056122,0.2256779968738556,0.11176111549139023,-0.2000434696674347,0.14285340905189514,0.1204938217997551,-0.31672677397727966,0.08802391588687897,-0.28841838240623474,-0.2692889869213104,0.19890694320201874,0.26972270011901855,-0.13447141647338867,-0.5827397704124451,0.043538421392440796,0.04205481335520744,-0.18629205226898193,0.12292982637882233,0.3665415942668915,-0.21660615503787994,0.2598339021205902,-0.01554532628506422,0.2936937212944031,0.16579346358776093,-0.1061495915055275,-0.008095542900264263,-0.11823703348636627,0.32105347514152527,0.4089765250682831,-0.3629070818424225,0.5846423506736755,-0.18643410503864288,0.2677313983440399,-0.2738163471221924,-0.3237670063972473,0.6496291160583496,-0.2718106210231781,0.42378830909729004,-0.3160589039325714,-0.22860629856586456,0.2556455135345459,-0.07322896271944046,-0.025386868044734,0.3011501133441925,-0.244349405169487,0.21990253031253815,-0.37764087319374084,-0.177305668592453,-0.13201722502708435,0.026469293981790543,-0.20265603065490723,-0.0890762209892273,-0.12256135791540146,0.47843945026397705,-0.5051477551460266,-0.1626398265361786,0.29097047448158264,-0.31121963262557983,-0.1076011061668396,-0.19564320147037506,0.11030508577823639,0.34548255801200867,0.23899267613887787,0.09145741164684296,0.1917039155960083,0.03166079521179199,0.20480909943580627,0.46000900864601135,0.022355463355779648,-0.07255730032920837,-0.3389264941215515,-0.29332128167152405,-0.14698821306228638,0.15866436064243317,-7.905961513519287,-0.010180124081671238,-0.39888128638267517,-0.4125021696090698,0.11469347774982452,-0.009003965184092522,-0.18822722136974335,-0.16521553695201874,0.019870661199092865,-0.026155931875109673,-0.2543494701385498,0.4092269837856293,-0.06473968923091888,-0.34239548444747925,0.24469901621341705,0.6330996155738831],\"yaxis\":\"y\",\"type\":\"scatter\"}],                        {\"template\":{\"data\":{\"histogram2dcontour\":[{\"type\":\"histogram2dcontour\",\"colorbar\":{\"outlinewidth\":0,\"ticks\":\"\"},\"colorscale\":[[0.0,\"#0d0887\"],[0.1111111111111111,\"#46039f\"],[0.2222222222222222,\"#7201a8\"],[0.3333333333333333,\"#9c179e\"],[0.4444444444444444,\"#bd3786\"],[0.5555555555555556,\"#d8576b\"],[0.6666666666666666,\"#ed7953\"],[0.7777777777777778,\"#fb9f3a\"],[0.8888888888888888,\"#fdca26\"],[1.0,\"#f0f921\"]]}],\"choropleth\":[{\"type\":\"choropleth\",\"colorbar\":{\"outlinewidth\":0,\"ticks\":\"\"}}],\"histogram2d\":[{\"type\":\"histogram2d\",\"colorbar\":{\"outlinewidth\":0,\"ticks\":\"\"},\"colorscale\":[[0.0,\"#0d0887\"],[0.1111111111111111,\"#46039f\"],[0.2222222222222222,\"#7201a8\"],[0.3333333333333333,\"#9c179e\"],[0.4444444444444444,\"#bd3786\"],[0.5555555555555556,\"#d8576b\"],[0.6666666666666666,\"#ed7953\"],[0.7777777777777778,\"#fb9f3a\"],[0.8888888888888888,\"#fdca26\"],[1.0,\"#f0f921\"]]}],\"heatmap\":[{\"type\":\"heatmap\",\"colorbar\":{\"outlinewidth\":0,\"ticks\":\"\"},\"colorscale\":[[0.0,\"#0d0887\"],[0.1111111111111111,\"#46039f\"],[0.2222222222222222,\"#7201a8\"],[0.3333333333333333,\"#9c179e\"],[0.4444444444444444,\"#bd3786\"],[0.5555555555555556,\"#d8576b\"],[0.6666666666666666,\"#ed7953\"],[0.7777777777777778,\"#fb9f3a\"],[0.8888888888888888,\"#fdca26\"],[1.0,\"#f0f921\"]]}],\"heatmapgl\":[{\"type\":\"heatmapgl\",\"colorbar\":{\"outlinewidth\":0,\"ticks\":\"\"},\"colorscale\":[[0.0,\"#0d0887\"],[0.1111111111111111,\"#46039f\"],[0.2222222222222222,\"#7201a8\"],[0.3333333333333333,\"#9c179e\"],[0.4444444444444444,\"#bd3786\"],[0.5555555555555556,\"#d8576b\"],[0.6666666666666666,\"#ed7953\"],[0.7777777777777778,\"#fb9f3a\"],[0.8888888888888888,\"#fdca26\"],[1.0,\"#f0f921\"]]}],\"contourcarpet\":[{\"type\":\"contourcarpet\",\"colorbar\":{\"outlinewidth\":0,\"ticks\":\"\"}}],\"contour\":[{\"type\":\"contour\",\"colorbar\":{\"outlinewidth\":0,\"ticks\":\"\"},\"colorscale\":[[0.0,\"#0d0887\"],[0.1111111111111111,\"#46039f\"],[0.2222222222222222,\"#7201a8\"],[0.3333333333333333,\"#9c179e\"],[0.4444444444444444,\"#bd3786\"],[0.5555555555555556,\"#d8576b\"],[0.6666666666666666,\"#ed7953\"],[0.7777777777777778,\"#fb9f3a\"],[0.8888888888888888,\"#fdca26\"],[1.0,\"#f0f921\"]]}],\"surface\":[{\"type\":\"surface\",\"colorbar\":{\"outlinewidth\":0,\"ticks\":\"\"},\"colorscale\":[[0.0,\"#0d0887\"],[0.1111111111111111,\"#46039f\"],[0.2222222222222222,\"#7201a8\"],[0.3333333333333333,\"#9c179e\"],[0.4444444444444444,\"#bd3786\"],[0.5555555555555556,\"#d8576b\"],[0.6666666666666666,\"#ed7953\"],[0.7777777777777778,\"#fb9f3a\"],[0.8888888888888888,\"#fdca26\"],[1.0,\"#f0f921\"]]}],\"mesh3d\":[{\"type\":\"mesh3d\",\"colorbar\":{\"outlinewidth\":0,\"ticks\":\"\"}}],\"scatter\":[{\"fillpattern\":{\"fillmode\":\"overlay\",\"size\":10,\"solidity\":0.2},\"type\":\"scatter\"}],\"parcoords\":[{\"type\":\"parcoords\",\"line\":{\"colorbar\":{\"outlinewidth\":0,\"ticks\":\"\"}}}],\"scatterpolargl\":[{\"type\":\"scatterpolargl\",\"marker\":{\"colorbar\":{\"outlinewidth\":0,\"ticks\":\"\"}}}],\"bar\":[{\"error_x\":{\"color\":\"#2a3f5f\"},\"error_y\":{\"color\":\"#2a3f5f\"},\"marker\":{\"line\":{\"color\":\"#E5ECF6\",\"width\":0.5},\"pattern\":{\"fillmode\":\"overlay\",\"size\":10,\"solidity\":0.2}},\"type\":\"bar\"}],\"scattergeo\":[{\"type\":\"scattergeo\",\"marker\":{\"colorbar\":{\"outlinewidth\":0,\"ticks\":\"\"}}}],\"scatterpolar\":[{\"type\":\"scatterpolar\",\"marker\":{\"colorbar\":{\"outlinewidth\":0,\"ticks\":\"\"}}}],\"histogram\":[{\"marker\":{\"pattern\":{\"fillmode\":\"overlay\",\"size\":10,\"solidity\":0.2}},\"type\":\"histogram\"}],\"scattergl\":[{\"type\":\"scattergl\",\"marker\":{\"colorbar\":{\"outlinewidth\":0,\"ticks\":\"\"}}}],\"scatter3d\":[{\"type\":\"scatter3d\",\"line\":{\"colorbar\":{\"outlinewidth\":0,\"ticks\":\"\"}},\"marker\":{\"colorbar\":{\"outlinewidth\":0,\"ticks\":\"\"}}}],\"scattermapbox\":[{\"type\":\"scattermapbox\",\"marker\":{\"colorbar\":{\"outlinewidth\":0,\"ticks\":\"\"}}}],\"scatterternary\":[{\"type\":\"scatterternary\",\"marker\":{\"colorbar\":{\"outlinewidth\":0,\"ticks\":\"\"}}}],\"scattercarpet\":[{\"type\":\"scattercarpet\",\"marker\":{\"colorbar\":{\"outlinewidth\":0,\"ticks\":\"\"}}}],\"carpet\":[{\"aaxis\":{\"endlinecolor\":\"#2a3f5f\",\"gridcolor\":\"white\",\"linecolor\":\"white\",\"minorgridcolor\":\"white\",\"startlinecolor\":\"#2a3f5f\"},\"baxis\":{\"endlinecolor\":\"#2a3f5f\",\"gridcolor\":\"white\",\"linecolor\":\"white\",\"minorgridcolor\":\"white\",\"startlinecolor\":\"#2a3f5f\"},\"type\":\"carpet\"}],\"table\":[{\"cells\":{\"fill\":{\"color\":\"#EBF0F8\"},\"line\":{\"color\":\"white\"}},\"header\":{\"fill\":{\"color\":\"#C8D4E3\"},\"line\":{\"color\":\"white\"}},\"type\":\"table\"}],\"barpolar\":[{\"marker\":{\"line\":{\"color\":\"#E5ECF6\",\"width\":0.5},\"pattern\":{\"fillmode\":\"overlay\",\"size\":10,\"solidity\":0.2}},\"type\":\"barpolar\"}],\"pie\":[{\"automargin\":true,\"type\":\"pie\"}]},\"layout\":{\"autotypenumbers\":\"strict\",\"colorway\":[\"#636efa\",\"#EF553B\",\"#00cc96\",\"#ab63fa\",\"#FFA15A\",\"#19d3f3\",\"#FF6692\",\"#B6E880\",\"#FF97FF\",\"#FECB52\"],\"font\":{\"color\":\"#2a3f5f\"},\"hovermode\":\"closest\",\"hoverlabel\":{\"align\":\"left\"},\"paper_bgcolor\":\"white\",\"plot_bgcolor\":\"#E5ECF6\",\"polar\":{\"bgcolor\":\"#E5ECF6\",\"angularaxis\":{\"gridcolor\":\"white\",\"linecolor\":\"white\",\"ticks\":\"\"},\"radialaxis\":{\"gridcolor\":\"white\",\"linecolor\":\"white\",\"ticks\":\"\"}},\"ternary\":{\"bgcolor\":\"#E5ECF6\",\"aaxis\":{\"gridcolor\":\"white\",\"linecolor\":\"white\",\"ticks\":\"\"},\"baxis\":{\"gridcolor\":\"white\",\"linecolor\":\"white\",\"ticks\":\"\"},\"caxis\":{\"gridcolor\":\"white\",\"linecolor\":\"white\",\"ticks\":\"\"}},\"coloraxis\":{\"colorbar\":{\"outlinewidth\":0,\"ticks\":\"\"}},\"colorscale\":{\"sequential\":[[0.0,\"#0d0887\"],[0.1111111111111111,\"#46039f\"],[0.2222222222222222,\"#7201a8\"],[0.3333333333333333,\"#9c179e\"],[0.4444444444444444,\"#bd3786\"],[0.5555555555555556,\"#d8576b\"],[0.6666666666666666,\"#ed7953\"],[0.7777777777777778,\"#fb9f3a\"],[0.8888888888888888,\"#fdca26\"],[1.0,\"#f0f921\"]],\"sequentialminus\":[[0.0,\"#0d0887\"],[0.1111111111111111,\"#46039f\"],[0.2222222222222222,\"#7201a8\"],[0.3333333333333333,\"#9c179e\"],[0.4444444444444444,\"#bd3786\"],[0.5555555555555556,\"#d8576b\"],[0.6666666666666666,\"#ed7953\"],[0.7777777777777778,\"#fb9f3a\"],[0.8888888888888888,\"#fdca26\"],[1.0,\"#f0f921\"]],\"diverging\":[[0,\"#8e0152\"],[0.1,\"#c51b7d\"],[0.2,\"#de77ae\"],[0.3,\"#f1b6da\"],[0.4,\"#fde0ef\"],[0.5,\"#f7f7f7\"],[0.6,\"#e6f5d0\"],[0.7,\"#b8e186\"],[0.8,\"#7fbc41\"],[0.9,\"#4d9221\"],[1,\"#276419\"]]},\"xaxis\":{\"gridcolor\":\"white\",\"linecolor\":\"white\",\"ticks\":\"\",\"title\":{\"standoff\":15},\"zerolinecolor\":\"white\",\"automargin\":true,\"zerolinewidth\":2},\"yaxis\":{\"gridcolor\":\"white\",\"linecolor\":\"white\",\"ticks\":\"\",\"title\":{\"standoff\":15},\"zerolinecolor\":\"white\",\"automargin\":true,\"zerolinewidth\":2},\"scene\":{\"xaxis\":{\"backgroundcolor\":\"#E5ECF6\",\"gridcolor\":\"white\",\"linecolor\":\"white\",\"showbackground\":true,\"ticks\":\"\",\"zerolinecolor\":\"white\",\"gridwidth\":2},\"yaxis\":{\"backgroundcolor\":\"#E5ECF6\",\"gridcolor\":\"white\",\"linecolor\":\"white\",\"showbackground\":true,\"ticks\":\"\",\"zerolinecolor\":\"white\",\"gridwidth\":2},\"zaxis\":{\"backgroundcolor\":\"#E5ECF6\",\"gridcolor\":\"white\",\"linecolor\":\"white\",\"showbackground\":true,\"ticks\":\"\",\"zerolinecolor\":\"white\",\"gridwidth\":2}},\"shapedefaults\":{\"line\":{\"color\":\"#2a3f5f\"}},\"annotationdefaults\":{\"arrowcolor\":\"#2a3f5f\",\"arrowhead\":0,\"arrowwidth\":1},\"geo\":{\"bgcolor\":\"white\",\"landcolor\":\"#E5ECF6\",\"subunitcolor\":\"white\",\"showland\":true,\"showlakes\":true,\"lakecolor\":\"white\"},\"title\":{\"x\":0.05},\"mapbox\":{\"style\":\"light\"}}},\"xaxis\":{\"anchor\":\"y\",\"domain\":[0.0,1.0],\"title\":{\"text\":\"Embedding Dimension\"}},\"yaxis\":{\"anchor\":\"x\",\"domain\":[0.0,1.0],\"title\":{\"text\":\"Value\"}},\"legend\":{\"tracegroupgap\":0},\"title\":{\"text\":\"GPT Embeddings for the First Token\"}},                        {\"responsive\": true}                    ).then(function(){\n",
              "                            \n",
              "var gd = document.getElementById('912abe5d-39a7-4e4a-b040-f25c9165f996');\n",
              "var x = new MutationObserver(function (mutations, observer) {{\n",
              "        var display = window.getComputedStyle(gd).display;\n",
              "        if (!display || display === 'none') {{\n",
              "            console.log([gd, 'removed!']);\n",
              "            Plotly.purge(gd);\n",
              "            observer.disconnect();\n",
              "        }}\n",
              "}});\n",
              "\n",
              "// Listen for the removal of the full notebook cells\n",
              "var notebookContainer = gd.closest('#notebook-container');\n",
              "if (notebookContainer) {{\n",
              "    x.observe(notebookContainer, {childList: true});\n",
              "}}\n",
              "\n",
              "// Listen for the clearing of the current output cell\n",
              "var outputEl = gd.closest('.output');\n",
              "if (outputEl) {{\n",
              "    x.observe(outputEl, {childList: true});\n",
              "}}\n",
              "\n",
              "                        })                };                            </script>        </div>\n",
              "</body>\n",
              "</html>"
            ]
          },
          "metadata": {}
        }
      ]
    },
    {
      "cell_type": "markdown",
      "source": [
        "Line Plot\n"
      ],
      "metadata": {
        "id": "U790pXas1Eyk"
      }
    },
    {
      "cell_type": "code",
      "source": [
        "\n",
        "\n",
        "# Assuming 'embeddings' is a tensor of shape (batch_size, sequence_length, hidden_size)\n",
        "# We'll visualize the embeddings of the first token in the sequence across all dimensions\n",
        "token_embeddings = embeddings[0, 0, :].detach().numpy()\n",
        "\n",
        "# Create a line plot\n",
        "plt.figure(figsize=(10, 6))  # Adjust figure size as needed\n",
        "plt.plot(token_embeddings)\n",
        "plt.xlabel('Embedding Dimension')\n",
        "plt.ylabel('Value')\n",
        "plt.title('GPT Embeddings for the First Token')\n",
        "plt.grid(True)\n",
        "plt.show()\n"
      ],
      "metadata": {
        "id": "TXy2M8TT0vok",
        "outputId": "91fccc9c-4137-4a67-fbf1-2c6ff84f9ccf",
        "colab": {
          "base_uri": "https://localhost:8080/",
          "height": 564
        }
      },
      "execution_count": 121,
      "outputs": [
        {
          "output_type": "display_data",
          "data": {
            "text/plain": [
              "<Figure size 1000x600 with 1 Axes>"
            ],
            "image/png": "[encoded data removed]"
          },
          "metadata": {}
        }
      ]
    },
    {
      "cell_type": "markdown",
      "source": [
        "# Model Evaluation"
      ],
      "metadata": {
        "id": "xawL2q9c4SML"
      }
    },
    {
      "cell_type": "code",
      "source": [
        "\n",
        "from nltk.translate.bleu_score import sentence_bleu\n",
        "from sklearn.metrics import accuracy_score, precision_score, recall_score, f1_score\n",
        "import matplotlib.pyplot as plt\n",
        "\n",
        "# Assuming 'dataset' contains the original questions and answers\n",
        "references = [[word_tokenize(answer)] for answer in dataset['train']['answer'][:5]]\n",
        "candidates = [word_tokenize(generate_text(question)) for question in dataset['train']['question'][:5]]\n",
        "\n",
        "bleu_scores = []\n",
        "for ref, cand in zip(references, candidates):\n",
        "  score = sentence_bleu(ref, cand)\n",
        "  bleu_scores.append(score)\n",
        "\n",
        "# Print BLEU scores\n",
        "for i, score in enumerate(bleu_scores):\n",
        "  print(f\"BLEU score for question {i+1}: {score}\")\n",
        "\n",
        "true_labels = [0, 1, 1, 0, 1]  # Example true labels\n",
        "\n",
        "print(f\"Accuracy: {accuracy}\")\n",
        "print(f\"Precision: {precision}\")\n",
        "print(f\"Recall: {recall}\")\n",
        "print(f\"F1-score: {f1}\")\n",
        "\n",
        "# Plot BLEU scores\n",
        "plt.bar(range(1, 6), bleu_scores)\n",
        "plt.xlabel('Question Number')\n",
        "plt.ylabel('BLEU Score')\n",
        "plt.title('BLEU Scores for Generated Answers')\n",
        "plt.show()\n"
      ],
      "metadata": {
        "id": "99le35a04K2T",
        "outputId": "e5a35668-fce2-4865-9435-d284cce3c570",
        "colab": {
          "base_uri": "https://localhost:8080/",
          "height": 628
        }
      },
      "execution_count": 148,
      "outputs": [
        {
          "output_type": "stream",
          "name": "stdout",
          "text": [
            "BLEU score for question 1: 1.0305090818883331e-213\n",
            "BLEU score for question 2: 3.454004720178835e-232\n",
            "BLEU score for question 3: 8.52490029444486e-234\n",
            "BLEU score for question 4: 6.129668552220811e-171\n",
            "BLEU score for question 5: 0.0\n",
            "Accuracy: 0.6\n",
            "Precision: 0.6666666666666666\n",
            "Recall: 0.6666666666666666\n",
            "F1-score: 0.6666666666666666\n"
          ]
        },
        {
          "output_type": "display_data",
          "data": {
            "text/plain": [
              "<Figure size 640x480 with 1 Axes>"
            ],
            "image/png": "[encoded data removed]"
          },
          "metadata": {}
        }
      ]
    },
    {
      "cell_type": "markdown",
      "source": [
        "# **T5 Model**"
      ],
      "metadata": {
        "id": "UzsgPYXu1Muo"
      }
    },
    {
      "cell_type": "code",
      "source": [
        "# Assuming you have a T5 model and tokenizer\n",
        "model = T5Model.from_pretrained('t5-small')\n",
        "tokenizer = T5Tokenizer.from_pretrained('t5-small')\n",
        "\n",
        "# Add special tokens to the tokenizer\n",
        "special_tokens = ['<extra_id_0>', '<extra_id_1>']  # Example special tokens\n",
        "tokenizer.add_special_tokens({'additional_special_tokens': special_tokens})\n",
        "\n",
        "# Resize the model's embedding layer to accommodate the new tokens\n",
        "model.resize_token_embeddings(len(tokenizer))\n",
        "\n",
        "# Now, when you fine-tune or train the model, the embeddings for the special tokens will be updated along with the rest of the model parameters.\n"
      ],
      "metadata": {
        "id": "UbCKsR721qRE",
        "outputId": "01d957e0-30a9-4256-f7fa-49a66ee26d15",
        "colab": {
          "base_uri": "https://localhost:8080/"
        }
      },
      "execution_count": 130,
      "outputs": [
        {
          "output_type": "stream",
          "name": "stderr",
          "text": [
            "Special tokens have been added in the vocabulary, make sure the associated word embeddings are fine-tuned or trained.\n"
          ]
        },
        {
          "output_type": "execute_result",
          "data": {
            "text/plain": [
              "Embedding(32100, 512)"
            ]
          },
          "metadata": {},
          "execution_count": 130
        }
      ]
    },
    {
      "cell_type": "markdown",
      "source": [
        "Generator"
      ],
      "metadata": {
        "id": "4SUZfpfK4VZ4"
      }
    },
    {
      "cell_type": "code",
      "source": [
        "# Define a function for generating text using T5\n",
        "def generate_text_t5(prompt, max_length=50):\n",
        "    inputs = tokenizer(prompt, return_tensors='pt', padding=True, truncation=True, max_length=128)\n",
        "\n",
        "    summary_ids = model.generate(\n",
        "        inputs.input_ids,\n",
        "        attention_mask=inputs.attention_mask,\n",
        "        max_length=max_length,\n",
        "        num_beams=4,\n",
        "        early_stopping=True\n",
        "    )\n",
        "\n",
        "    generated_text = tokenizer.decode(summary_ids[0], skip_special_tokens=True)\n",
        "    return generated_text"
      ],
      "metadata": {
        "id": "nb9oP7w84XuH"
      },
      "execution_count": 132,
      "outputs": []
    },
    {
      "cell_type": "markdown",
      "source": [
        "Retriever"
      ],
      "metadata": {
        "id": "XQs3T5zF4jEI"
      }
    },
    {
      "cell_type": "code",
      "source": [
        "# Generate questions for the first 5 answers (replace with your actual answers)\n",
        "answers = [\"This is a sample answer.\", \"Another answer here.\", \"And so on...\"]\n",
        "for answer in answers[:5]:\n",
        "    generated_question = generate_question(answer)\n",
        "    print(f\"Answer: {answer}\")\n",
        "    print(f\"Generated Question: {generated_question}\\n\")"
      ],
      "metadata": {
        "id": "BHvRKPLg3yG4",
        "outputId": "2c4ffc9b-5dbd-415b-ef87-c5aee470d04e",
        "colab": {
          "base_uri": "https://localhost:8080/"
        }
      },
      "execution_count": 133,
      "outputs": [
        {
          "output_type": "stream",
          "name": "stdout",
          "text": [
            "Answer: This is a sample answer.\n",
            "Generated Question: question\n",
            "\n",
            "Answer: Another answer here.\n",
            "Generated Question: Vielen\n",
            "\n",
            "Answer: And so on...\n",
            "Generated Question: \n",
            "\n"
          ]
        }
      ]
    },
    {
      "cell_type": "markdown",
      "source": [
        "# Data Visualization"
      ],
      "metadata": {
        "id": "Ve-7B5aB5XN-"
      }
    },
    {
      "cell_type": "markdown",
      "source": [
        "Scatter Plot"
      ],
      "metadata": {
        "id": "AWePmFh05VGh"
      }
    },
    {
      "cell_type": "code",
      "source": [
        "\n",
        "\n",
        "# Create a scatter plot\n",
        "fig = px.scatter(x=range(len(token_embeddings)), y=token_embeddings,\n",
        "                 labels={'x': 'Embedding Dimension', 'y': 'Value'},\n",
        "                 title='T5 Embeddings for the First Token')\n",
        "\n",
        "fig.show()"
      ],
      "metadata": {
        "id": "zS-BBPyXSLcX",
        "outputId": "3475a9cf-0807-40f8-b349-bb6e90974a7b",
        "colab": {
          "base_uri": "https://localhost:8080/",
          "height": 542
        }
      },
      "execution_count": 128,
      "outputs": [
        {
          "output_type": "display_data",
          "data": {
            "text/html": [
              "<html>\n",
              "<head><meta charset=\"utf-8\" /></head>\n",
              "<body>\n",
              "    <div>            <script src=\"https://cdnjs.cloudflare.com/ajax/libs/mathjax/2.7.5/MathJax.js?config=TeX-AMS-MML_SVG\"></script><script type=\"text/javascript\">if (window.MathJax && window.MathJax.Hub && window.MathJax.Hub.Config) {window.MathJax.Hub.Config({SVG: {font: \"STIX-Web\"}});}</script>                <script type=\"text/javascript\">window.PlotlyConfig = {MathJaxConfig: 'local'};</script>\n",
              "        <script charset=\"utf-8\" src=\"https://cdn.plot.ly/plotly-2.24.1.min.js\"></script>                <div id=\"84ac2090-c087-4183-bd6e-0a47728739db\" class=\"plotly-graph-div\" style=\"height:525px; width:100%;\"></div>            <script type=\"text/javascript\">                                    window.PLOTLYENV=window.PLOTLYENV || {};                                    if (document.getElementById(\"84ac2090-c087-4183-bd6e-0a47728739db\")) {                    Plotly.newPlot(                        \"84ac2090-c087-4183-bd6e-0a47728739db\",                        [{\"hovertemplate\":\"Embedding Dimension=%{x}\\u003cbr\\u003eValue=%{y}\\u003cextra\\u003e\\u003c\\u002fextra\\u003e\",\"legendgroup\":\"\",\"marker\":{\"color\":\"#636efa\",\"symbol\":\"circle\"},\"mode\":\"markers\",\"name\":\"\",\"orientation\":\"v\",\"showlegend\":false,\"x\":[0,1,2,3,4,5,6,7,8,9,10,11,12,13,14,15,16,17,18,19,20,21,22,23,24,25,26,27,28,29,30,31,32,33,34,35,36,37,38,39,40,41,42,43,44,45,46,47,48,49,50,51,52,53,54,55,56,57,58,59,60,61,62,63,64,65,66,67,68,69,70,71,72,73,74,75,76,77,78,79,80,81,82,83,84,85,86,87,88,89,90,91,92,93,94,95,96,97,98,99,100,101,102,103,104,105,106,107,108,109,110,111,112,113,114,115,116,117,118,119,120,121,122,123,124,125,126,127,128,129,130,131,132,133,134,135,136,137,138,139,140,141,142,143,144,145,146,147,148,149,150,151,152,153,154,155,156,157,158,159,160,161,162,163,164,165,166,167,168,169,170,171,172,173,174,175,176,177,178,179,180,181,182,183,184,185,186,187,188,189,190,191,192,193,194,195,196,197,198,199,200,201,202,203,204,205,206,207,208,209,210,211,212,213,214,215,216,217,218,219,220,221,222,223,224,225,226,227,228,229,230,231,232,233,234,235,236,237,238,239,240,241,242,243,244,245,246,247,248,249,250,251,252,253,254,255,256,257,258,259,260,261,262,263,264,265,266,267,268,269,270,271,272,273,274,275,276,277,278,279,280,281,282,283,284,285,286,287,288,289,290,291,292,293,294,295,296,297,298,299,300,301,302,303,304,305,306,307,308,309,310,311,312,313,314,315,316,317,318,319,320,321,322,323,324,325,326,327,328,329,330,331,332,333,334,335,336,337,338,339,340,341,342,343,344,345,346,347,348,349,350,351,352,353,354,355,356,357,358,359,360,361,362,363,364,365,366,367,368,369,370,371,372,373,374,375,376,377,378,379,380,381,382,383,384,385,386,387,388,389,390,391,392,393,394,395,396,397,398,399,400,401,402,403,404,405,406,407,408,409,410,411,412,413,414,415,416,417,418,419,420,421,422,423,424,425,426,427,428,429,430,431,432,433,434,435,436,437,438,439,440,441,442,443,444,445,446,447,448,449,450,451,452,453,454,455,456,457,458,459,460,461,462,463,464,465,466,467,468,469,470,471,472,473,474,475,476,477,478,479,480,481,482,483,484,485,486,487,488,489,490,491,492,493,494,495,496,497,498,499,500,501,502,503,504,505,506,507,508,509,510,511,512,513,514,515,516,517,518,519,520,521,522,523,524,525,526,527,528,529,530,531,532,533,534,535,536,537,538,539,540,541,542,543,544,545,546,547,548,549,550,551,552,553,554,555,556,557,558,559,560,561,562,563,564,565,566,567,568,569,570,571,572,573,574,575,576,577,578,579,580,581,582,583,584,585,586,587,588,589,590,591,592,593,594,595,596,597,598,599,600,601,602,603,604,605,606,607,608,609,610,611,612,613,614,615,616,617,618,619,620,621,622,623,624,625,626,627,628,629,630,631,632,633,634,635,636,637,638,639,640,641,642,643,644,645,646,647,648,649,650,651,652,653,654,655,656,657,658,659,660,661,662,663,664,665,666,667,668,669,670,671,672,673,674,675,676,677,678,679,680,681,682,683,684,685,686,687,688,689,690,691,692,693,694,695,696,697,698,699,700,701,702,703,704,705,706,707,708,709,710,711,712,713,714,715,716,717,718,719,720,721,722,723,724,725,726,727,728,729,730,731,732,733,734,735,736,737,738,739,740,741,742,743,744,745,746,747,748,749,750,751,752,753,754,755,756,757,758,759,760,761,762,763,764,765,766,767],\"xaxis\":\"x\",\"y\":[-0.07810764759778976,-0.18066732585430145,-0.1542903035879135,-0.10693222284317017,-0.30641722679138184,-0.6268917918205261,-0.003950638230890036,0.15170960128307343,0.21237975358963013,-0.1762062907218933,-0.10841536521911621,0.04211407154798508,-0.17102739214897156,-0.05836804211139679,0.22909162938594818,-0.035116326063871384,-0.02383670024573803,0.2858792543411255,0.30493324995040894,-0.2790749669075012,0.030496858060359955,-0.33315759897232056,-0.1427937000989914,-0.2328324317932129,-0.17145968973636627,-0.0916113629937172,0.034851446747779846,-0.28772690892219543,-0.09413183480501175,0.07531637698411942,-0.10538157820701599,0.15156190097332,-0.19783417880535126,-0.2945212125778198,0.3519677519798279,0.059413231909275055,0.28413352370262146,0.15515336394309998,0.21807651221752167,-0.0016147263813763857,-0.23334667086601257,0.10819905251264572,0.00013353295798879117,-0.033792391419410706,-0.1116265207529068,-0.4875395596027374,-2.7257235050201416,-0.21803826093673706,-0.16720649600028992,-0.4851084351539612,0.044613730162382126,-0.25049397349357605,0.12112441658973694,0.5385537147521973,-0.08410670608282089,0.3322349488735199,-0.2996579110622406,0.4228537678718567,0.18317575752735138,-0.17707869410514832,0.10296838730573654,-0.07946250587701797,0.03147530555725098,-0.22785966098308563,-0.19130007922649384,0.38363638520240784,-0.038057997822761536,0.20198705792427063,-0.11381158232688904,0.435788631439209,-0.7137483358383179,-0.15952777862548828,0.5025801658630371,0.040716324001550674,0.1010061651468277,-0.14264875650405884,-0.05398736149072647,0.14464004337787628,-0.4310542047023773,-0.08443687111139297,-0.17107577621936798,0.5388285517692566,-0.029077840968966484,-0.12274277955293655,0.20896220207214355,0.10360396653413773,-0.4427913427352905,-0.19450867176055908,0.29603707790374756,0.34909239411354065,-0.18255046010017395,0.27603405714035034,-0.02771063521504402,0.24484248459339142,0.21420614421367645,0.08048580586910248,0.19908945262432098,-0.019951967522501945,0.23695777356624603,0.3250499665737152,0.23162241280078888,-0.05187899246811867,0.22563378512859344,-0.5709481239318848,0.1991405487060547,-0.2860080301761627,-0.1056298017501831,-0.14043833315372467,0.05133761465549469,-2.8443875312805176,0.21886934340000153,0.21407552063465118,-0.37220659852027893,-0.03442449867725372,-0.436689555644989,0.52834153175354,0.29532375931739807,0.01558278314769268,0.048717278987169266,0.30862700939178467,-0.2537613809108734,0.45253604650497437,-0.19485262036323547,-0.2985808253288269,-0.14542865753173828,0.23327286541461945,0.6095420122146606,0.17541640996932983,0.3106883466243744,0.24924173951148987,0.179908886551857,0.6582603454589844,0.25619712471961975,-0.07284616678953171,-0.09927818179130554,-0.11429858952760696,0.36968740820884705,0.009334573522210121,-0.2615433633327484,-0.2595529854297638,-0.09756439924240112,-0.379523903131485,-2.8821287155151367,0.03677469864487648,0.19872687757015228,0.026435334235429764,-0.353898286819458,0.0059613739140331745,0.24910295009613037,0.24468378722667694,0.009767191484570503,0.3128918409347534,-0.11924299597740173,-0.04123244062066078,-0.16451287269592285,-0.15384328365325928,-0.11189741641283035,-0.2506983280181885,0.34629327058792114,0.3918270468711853,0.21217529475688934,-0.08820471912622452,0.264487087726593,-0.17084021866321564,-0.11632820218801498,0.2234700322151184,0.7180708646774292,0.024317672476172447,0.0564485527575016,-0.0437767468392849,-0.3542148470878601,0.23087970912456512,0.23831123113632202,0.0748981460928917,0.1804170459508896,0.11456387490034103,-0.03414037823677063,0.3440778851509094,0.49509456753730774,-0.15485422313213348,-0.3220635950565338,0.39274224638938904,0.04794793203473091,-0.04770008102059364,0.4740985631942749,0.09009508043527603,0.5964609980583191,0.01434869971126318,-0.4787602126598358,0.3840891718864441,-0.04535939171910286,0.005495590623468161,0.03653792664408684,-0.09046118706464767,0.5297853946685791,0.2387574315071106,0.09186607599258423,-0.4885062873363495,-0.13768717646598816,0.49074605107307434,-0.06991242617368698,0.018030356615781784,-0.22296449542045593,0.03200311213731766,-0.009276507422327995,3.9570393562316895,0.18743276596069336,-0.19585788249969482,0.4090646505355835,0.18586114048957825,-0.4117731750011444,0.34482449293136597,-0.35837605595588684,-0.32052868604660034,0.05161486193537712,0.21590186655521393,0.1358465850353241,0.13260778784751892,0.17112453281879425,-0.20001031458377838,0.33521947264671326,0.13966386020183563,-0.21315065026283264,0.38510990142822266,-0.23787574470043182,0.10199487209320068,0.1902265101671219,0.9965056777000427,0.18355630338191986,-1.4682884216308594,0.05795514956116676,0.2846468687057495,-0.30144375562667847,0.2783818542957306,-0.050745610147714615,-0.19805432856082916,-0.09189357608556747,-0.29133716225624084,0.038184475153684616,0.04929659143090248,0.03534536808729172,0.4681300222873688,-0.11651857942342758,0.2084801346063614,-0.1819981336593628,0.21472102403640747,0.24618281424045563,-0.05690554156899452,0.34966418147087097,-0.214243546128273,0.4634842276573181,0.1232636347413063,-0.09460419416427612,-0.3414964973926544,0.19839918613433838,0.2387361228466034,0.11849747598171234,0.3509752154350281,-0.4350479245185852,0.15199515223503113,-0.28028547763824463,-0.15921524167060852,-0.034767188131809235,0.2652636170387268,-0.44205692410469055,-0.2885097563266754,-0.08907463401556015,-0.022639792412519455,-0.03176923468708992,-0.3198654353618622,0.06924979388713837,-0.4918838143348694,-0.28334617614746094,-4.017383575439453,0.014217720367014408,0.026960929855704308,0.12970764935016632,0.29100513458251953,-0.042589299380779266,0.3134080469608307,0.354998916387558,0.19452713429927826,-0.6118217706680298,0.8437922596931458,0.136996790766716,-0.42514804005622864,0.45009395480155945,-0.21934650838375092,0.30371081829071045,-0.04304640367627144,-0.22688913345336914,0.07385510206222534,-0.43974411487579346,0.08648283034563065,0.08647958189249039,-0.2248339205980301,0.17876288294792175,0.01872164197266102,0.055852632969617844,-0.29105493426322937,-0.4887404143810272,-0.11654383689165115,-0.4175875782966614,-0.1782689243555069,-0.2519546449184418,-0.18653610348701477,-0.150105819106102,0.09663554280996323,-2.92342209815979,0.21917638182640076,-0.27722251415252686,0.03715359419584274,0.04588858038187027,-0.07176462560892105,0.4029321074485779,-0.0397324338555336,-0.4058060646057129,0.29307466745376587,0.1803804636001587,-0.07782993465662003,-0.0574963204562664,0.3767372965812683,0.4173905849456787,0.2959991991519928,0.3768804669380188,0.010429482907056808,0.279232919216156,0.20296801626682281,-0.17206503450870514,0.23691046237945557,0.061239756643772125,-0.18568117916584015,0.12158947438001633,0.4750092625617981,-0.2707771360874176,0.018406499177217484,-0.28368648886680603,0.020001070573925972,0.06263994425535202,-0.10144626349210739,0.2017965316772461,-0.20829148590564728,-0.5910357236862183,-0.049571480602025986,0.1880379170179367,0.12105130404233932,0.4923776388168335,-0.11123669147491455,-0.2518596053123474,0.5150938630104065,0.1364137977361679,0.2886433005332947,0.35378989577293396,0.05703684687614441,-0.009235326200723648,-0.32155922055244446,0.21277615427970886,0.028364278376102448,-0.20914696156978607,-0.09293902665376663,1.1701455116271973,0.08003044128417969,-0.14993904531002045,-0.07019775360822678,0.28723469376564026,0.15694747865200043,0.2415948212146759,0.45322397351264954,0.5808707475662231,-0.3600514531135559,0.19953392446041107,-0.2867526710033417,0.10513598471879959,-0.4263027310371399,0.4745584726333618,-0.4005373418331146,0.15460972487926483,0.12081069499254227,0.3350101113319397,0.19106128811836243,-0.20238250494003296,-1.130832552909851,-0.14063848555088043,0.04963861033320427,-0.370236873626709,0.10177049785852432,0.2485460638999939,0.09459812194108963,-0.1741763949394226,-0.009227593429386616,-0.248909130692482,0.35519325733184814,-0.1372021585702896,-0.2083149254322052,0.07567049562931061,0.31308165192604065,-0.10954782366752625,-0.17579634487628937,-0.2868784964084625,0.2769846022129059,0.1145399808883667,-0.1442621499300003,-0.23449721932411194,0.0017545114969834685,0.4295244514942169,-0.9238272309303284,0.3318202793598175,-0.35402464866638184,-0.2853367328643799,-0.38989612460136414,-0.24649757146835327,0.1304006278514862,-0.09665742516517639,-0.015299828723073006,-0.25638657808303833,0.2713342010974884,-0.019852928817272186,0.4348500669002533,-0.07034722715616226,-0.21516470611095428,0.1035711020231247,0.2719975709915161,0.8460290431976318,-0.012396376579999924,-0.2726733684539795,0.2704120874404907,0.39829063415527344,0.07077965885400772,0.18103890120983124,-0.0639411136507988,-0.07781418412923813,0.010485510341823101,-0.2741599977016449,-0.06894519180059433,0.21891620755195618,-0.030977049842476845,-0.24249885976314545,-0.19899961352348328,0.1386999785900116,0.05704725161194801,-0.5700863599777222,-0.44877585768699646,0.1293371468782425,-0.321339875459671,-0.17733024060726166,0.41469335556030273,0.14530465006828308,-0.005827075336128473,0.5264756679534912,-0.14750751852989197,-0.34278038144111633,0.3775775730609894,-0.17129692435264587,0.3678739070892334,0.05970029532909393,-0.1086149737238884,-0.2936311662197113,0.3791952431201935,0.2986803948879242,-0.32161426544189453,-0.26476752758026123,-0.2352442592382431,0.14597874879837036,-0.03648101165890694,0.12330936640501022,-0.06151288375258446,-0.05225206911563873,0.11573559045791626,0.15905512869358063,0.22500012814998627,-1.5384150743484497,0.06999683380126953,0.5284489989280701,0.07390688359737396,-0.17442584037780762,-0.1290021389722824,-0.43735578656196594,0.7379924058914185,-0.2953348457813263,-0.2743741273880005,-0.2702881097793579,-0.12169115990400314,0.2569498121738434,0.058106206357479095,0.2008761316537857,0.06107509508728981,0.016121627762913704,-0.5183561444282532,-0.13178816437721252,-0.13565091788768768,-0.3364868462085724,0.4366452395915985,0.032397009432315826,0.06015865132212639,-0.0060366676189005375,-0.16685988008975983,-0.1482187807559967,0.30621537566185,-0.061259765177965164,0.07366647571325302,0.04530538618564606,-0.2882876694202423,-0.6543371677398682,-0.25789833068847656,0.09688003361225128,0.08035960048437119,0.25444501638412476,-0.048389069736003876,0.4650467038154602,0.6910762190818787,0.014812693931162357,0.567101776599884,0.233724907040596,0.06143460422754288,0.028628503903746605,0.4010844826698303,-0.4490150809288025,0.07905352860689163,-0.17245300114154816,-0.47074201703071594,-0.07310336083173752,-0.22578731179237366,-0.36511263251304626,-0.13936090469360352,0.1470455378293991,-0.1310054361820221,0.35907885432243347,0.07968833297491074,-0.1813671588897705,-0.2806437015533447,0.15874461829662323,-0.08258367329835892,-0.1939554065465927,0.14463965594768524,-0.28262171149253845,-0.8867875933647156,0.03859703615307808,-0.19753077626228333,-0.137284055352211,0.2507597506046295,0.356904536485672,-0.14984865486621857,-0.43066784739494324,-0.09739835560321808,-0.5203882455825806,0.27423739433288574,0.23854446411132812,-0.011799744330346584,0.29137465357780457,-0.18439680337905884,0.19271284341812134,-0.13809284567832947,-0.08616361767053604,0.20080025494098663,0.3176564574241638,-0.019579829648137093,-0.11548662930727005,-0.11782077699899673,-0.16307108104228973,-0.021181253716349602,-0.428952693939209,-0.3616415858268738,0.5303570628166199,0.19658561050891876,0.2811846137046814,0.008659970946609974,0.021335896104574203,0.038443680852651596,0.20669172704219818,-0.15397429466247559,-0.04260113835334778,0.503599226474762,0.058045726269483566,0.25512418150901794,0.13058462738990784,0.5298604369163513,0.27977681159973145,0.27926719188690186,-0.3363761603832245,-0.15817570686340332,-0.01802918128669262,0.2795434892177582,0.01797371730208397,0.019261695444583893,0.3575285077095032,0.0005149476346559823,0.3050927519798279,-0.26812705397605896,2.2466881275177,0.40627986192703247,0.042358893901109695,-0.40020087361335754,0.2030230611562729,0.4066832363605499,-0.04404505714774132,0.16475683450698853,-0.28084781765937805,0.26620471477508545,-0.32981076836586,0.09178374707698822,0.16507232189178467,0.13556894659996033,0.22539293766021729,0.09439016878604889,-0.25606974959373474,-0.2215113788843155,-0.8654592037200928,-0.328975647687912,-0.4663916826248169,0.6286056637763977,0.121601402759552,-0.16708777844905853,0.27309003472328186,0.4025173783302307,0.3961367607116699,0.22089308500289917,0.06968218833208084,0.26054418087005615,-0.03383089601993561,0.3003306984901428,0.071248859167099,0.11940263211727142,-0.3311759829521179,0.13880790770053864,-0.01701970584690571,-0.257216215133667,-0.16903433203697205,0.18240822851657867,0.02404913865029812,-0.27428022027015686,0.582618236541748,-0.10819101333618164,-0.2848418056964874,0.4507683515548706,-0.08422092348337173,-0.3858765661716461,0.09116045385599136,0.08655793219804764,0.37695154547691345,0.11376849561929703,-0.338549941778183,0.10398974269628525,-0.40559136867523193,-0.1424284130334854,0.4408758580684662,-0.23484763503074646,-0.22043995559215546,0.2663392424583435,-0.08561430126428604,0.5298035144805908,0.17390276491641998,-0.15414811670780182,-0.3710375130176544,-0.1377733051776886,-0.32578080892562866,0.20807422697544098,0.24836964905261993,-0.035750437527894974,-0.11850979924201965,0.5644105076789856,0.4948148727416992,0.36036452651023865,0.33101901412010193,-0.018466293811798096,0.342043399810791,-0.021328890696167946,-0.42547866702079773,-3.0606393814086914,0.13823676109313965,0.1751476675271988,0.18482959270477295,0.2119854837656021,0.42783838510513306,0.37956342101097107,-0.050889983773231506,0.19963546097278595,-0.003729148767888546,0.301714152097702,0.3647262752056122,0.2256779968738556,0.11176111549139023,-0.2000434696674347,0.14285340905189514,0.1204938217997551,-0.31672677397727966,0.08802391588687897,-0.28841838240623474,-0.2692889869213104,0.19890694320201874,0.26972270011901855,-0.13447141647338867,-0.5827397704124451,0.043538421392440796,0.04205481335520744,-0.18629205226898193,0.12292982637882233,0.3665415942668915,-0.21660615503787994,0.2598339021205902,-0.01554532628506422,0.2936937212944031,0.16579346358776093,-0.1061495915055275,-0.008095542900264263,-0.11823703348636627,0.32105347514152527,0.4089765250682831,-0.3629070818424225,0.5846423506736755,-0.18643410503864288,0.2677313983440399,-0.2738163471221924,-0.3237670063972473,0.6496291160583496,-0.2718106210231781,0.42378830909729004,-0.3160589039325714,-0.22860629856586456,0.2556455135345459,-0.07322896271944046,-0.025386868044734,0.3011501133441925,-0.244349405169487,0.21990253031253815,-0.37764087319374084,-0.177305668592453,-0.13201722502708435,0.026469293981790543,-0.20265603065490723,-0.0890762209892273,-0.12256135791540146,0.47843945026397705,-0.5051477551460266,-0.1626398265361786,0.29097047448158264,-0.31121963262557983,-0.1076011061668396,-0.19564320147037506,0.11030508577823639,0.34548255801200867,0.23899267613887787,0.09145741164684296,0.1917039155960083,0.03166079521179199,0.20480909943580627,0.46000900864601135,0.022355463355779648,-0.07255730032920837,-0.3389264941215515,-0.29332128167152405,-0.14698821306228638,0.15866436064243317,-7.905961513519287,-0.010180124081671238,-0.39888128638267517,-0.4125021696090698,0.11469347774982452,-0.009003965184092522,-0.18822722136974335,-0.16521553695201874,0.019870661199092865,-0.026155931875109673,-0.2543494701385498,0.4092269837856293,-0.06473968923091888,-0.34239548444747925,0.24469901621341705,0.6330996155738831],\"yaxis\":\"y\",\"type\":\"scatter\"}],                        {\"template\":{\"data\":{\"histogram2dcontour\":[{\"type\":\"histogram2dcontour\",\"colorbar\":{\"outlinewidth\":0,\"ticks\":\"\"},\"colorscale\":[[0.0,\"#0d0887\"],[0.1111111111111111,\"#46039f\"],[0.2222222222222222,\"#7201a8\"],[0.3333333333333333,\"#9c179e\"],[0.4444444444444444,\"#bd3786\"],[0.5555555555555556,\"#d8576b\"],[0.6666666666666666,\"#ed7953\"],[0.7777777777777778,\"#fb9f3a\"],[0.8888888888888888,\"#fdca26\"],[1.0,\"#f0f921\"]]}],\"choropleth\":[{\"type\":\"choropleth\",\"colorbar\":{\"outlinewidth\":0,\"ticks\":\"\"}}],\"histogram2d\":[{\"type\":\"histogram2d\",\"colorbar\":{\"outlinewidth\":0,\"ticks\":\"\"},\"colorscale\":[[0.0,\"#0d0887\"],[0.1111111111111111,\"#46039f\"],[0.2222222222222222,\"#7201a8\"],[0.3333333333333333,\"#9c179e\"],[0.4444444444444444,\"#bd3786\"],[0.5555555555555556,\"#d8576b\"],[0.6666666666666666,\"#ed7953\"],[0.7777777777777778,\"#fb9f3a\"],[0.8888888888888888,\"#fdca26\"],[1.0,\"#f0f921\"]]}],\"heatmap\":[{\"type\":\"heatmap\",\"colorbar\":{\"outlinewidth\":0,\"ticks\":\"\"},\"colorscale\":[[0.0,\"#0d0887\"],[0.1111111111111111,\"#46039f\"],[0.2222222222222222,\"#7201a8\"],[0.3333333333333333,\"#9c179e\"],[0.4444444444444444,\"#bd3786\"],[0.5555555555555556,\"#d8576b\"],[0.6666666666666666,\"#ed7953\"],[0.7777777777777778,\"#fb9f3a\"],[0.8888888888888888,\"#fdca26\"],[1.0,\"#f0f921\"]]}],\"heatmapgl\":[{\"type\":\"heatmapgl\",\"colorbar\":{\"outlinewidth\":0,\"ticks\":\"\"},\"colorscale\":[[0.0,\"#0d0887\"],[0.1111111111111111,\"#46039f\"],[0.2222222222222222,\"#7201a8\"],[0.3333333333333333,\"#9c179e\"],[0.4444444444444444,\"#bd3786\"],[0.5555555555555556,\"#d8576b\"],[0.6666666666666666,\"#ed7953\"],[0.7777777777777778,\"#fb9f3a\"],[0.8888888888888888,\"#fdca26\"],[1.0,\"#f0f921\"]]}],\"contourcarpet\":[{\"type\":\"contourcarpet\",\"colorbar\":{\"outlinewidth\":0,\"ticks\":\"\"}}],\"contour\":[{\"type\":\"contour\",\"colorbar\":{\"outlinewidth\":0,\"ticks\":\"\"},\"colorscale\":[[0.0,\"#0d0887\"],[0.1111111111111111,\"#46039f\"],[0.2222222222222222,\"#7201a8\"],[0.3333333333333333,\"#9c179e\"],[0.4444444444444444,\"#bd3786\"],[0.5555555555555556,\"#d8576b\"],[0.6666666666666666,\"#ed7953\"],[0.7777777777777778,\"#fb9f3a\"],[0.8888888888888888,\"#fdca26\"],[1.0,\"#f0f921\"]]}],\"surface\":[{\"type\":\"surface\",\"colorbar\":{\"outlinewidth\":0,\"ticks\":\"\"},\"colorscale\":[[0.0,\"#0d0887\"],[0.1111111111111111,\"#46039f\"],[0.2222222222222222,\"#7201a8\"],[0.3333333333333333,\"#9c179e\"],[0.4444444444444444,\"#bd3786\"],[0.5555555555555556,\"#d8576b\"],[0.6666666666666666,\"#ed7953\"],[0.7777777777777778,\"#fb9f3a\"],[0.8888888888888888,\"#fdca26\"],[1.0,\"#f0f921\"]]}],\"mesh3d\":[{\"type\":\"mesh3d\",\"colorbar\":{\"outlinewidth\":0,\"ticks\":\"\"}}],\"scatter\":[{\"fillpattern\":{\"fillmode\":\"overlay\",\"size\":10,\"solidity\":0.2},\"type\":\"scatter\"}],\"parcoords\":[{\"type\":\"parcoords\",\"line\":{\"colorbar\":{\"outlinewidth\":0,\"ticks\":\"\"}}}],\"scatterpolargl\":[{\"type\":\"scatterpolargl\",\"marker\":{\"colorbar\":{\"outlinewidth\":0,\"ticks\":\"\"}}}],\"bar\":[{\"error_x\":{\"color\":\"#2a3f5f\"},\"error_y\":{\"color\":\"#2a3f5f\"},\"marker\":{\"line\":{\"color\":\"#E5ECF6\",\"width\":0.5},\"pattern\":{\"fillmode\":\"overlay\",\"size\":10,\"solidity\":0.2}},\"type\":\"bar\"}],\"scattergeo\":[{\"type\":\"scattergeo\",\"marker\":{\"colorbar\":{\"outlinewidth\":0,\"ticks\":\"\"}}}],\"scatterpolar\":[{\"type\":\"scatterpolar\",\"marker\":{\"colorbar\":{\"outlinewidth\":0,\"ticks\":\"\"}}}],\"histogram\":[{\"marker\":{\"pattern\":{\"fillmode\":\"overlay\",\"size\":10,\"solidity\":0.2}},\"type\":\"histogram\"}],\"scattergl\":[{\"type\":\"scattergl\",\"marker\":{\"colorbar\":{\"outlinewidth\":0,\"ticks\":\"\"}}}],\"scatter3d\":[{\"type\":\"scatter3d\",\"line\":{\"colorbar\":{\"outlinewidth\":0,\"ticks\":\"\"}},\"marker\":{\"colorbar\":{\"outlinewidth\":0,\"ticks\":\"\"}}}],\"scattermapbox\":[{\"type\":\"scattermapbox\",\"marker\":{\"colorbar\":{\"outlinewidth\":0,\"ticks\":\"\"}}}],\"scatterternary\":[{\"type\":\"scatterternary\",\"marker\":{\"colorbar\":{\"outlinewidth\":0,\"ticks\":\"\"}}}],\"scattercarpet\":[{\"type\":\"scattercarpet\",\"marker\":{\"colorbar\":{\"outlinewidth\":0,\"ticks\":\"\"}}}],\"carpet\":[{\"aaxis\":{\"endlinecolor\":\"#2a3f5f\",\"gridcolor\":\"white\",\"linecolor\":\"white\",\"minorgridcolor\":\"white\",\"startlinecolor\":\"#2a3f5f\"},\"baxis\":{\"endlinecolor\":\"#2a3f5f\",\"gridcolor\":\"white\",\"linecolor\":\"white\",\"minorgridcolor\":\"white\",\"startlinecolor\":\"#2a3f5f\"},\"type\":\"carpet\"}],\"table\":[{\"cells\":{\"fill\":{\"color\":\"#EBF0F8\"},\"line\":{\"color\":\"white\"}},\"header\":{\"fill\":{\"color\":\"#C8D4E3\"},\"line\":{\"color\":\"white\"}},\"type\":\"table\"}],\"barpolar\":[{\"marker\":{\"line\":{\"color\":\"#E5ECF6\",\"width\":0.5},\"pattern\":{\"fillmode\":\"overlay\",\"size\":10,\"solidity\":0.2}},\"type\":\"barpolar\"}],\"pie\":[{\"automargin\":true,\"type\":\"pie\"}]},\"layout\":{\"autotypenumbers\":\"strict\",\"colorway\":[\"#636efa\",\"#EF553B\",\"#00cc96\",\"#ab63fa\",\"#FFA15A\",\"#19d3f3\",\"#FF6692\",\"#B6E880\",\"#FF97FF\",\"#FECB52\"],\"font\":{\"color\":\"#2a3f5f\"},\"hovermode\":\"closest\",\"hoverlabel\":{\"align\":\"left\"},\"paper_bgcolor\":\"white\",\"plot_bgcolor\":\"#E5ECF6\",\"polar\":{\"bgcolor\":\"#E5ECF6\",\"angularaxis\":{\"gridcolor\":\"white\",\"linecolor\":\"white\",\"ticks\":\"\"},\"radialaxis\":{\"gridcolor\":\"white\",\"linecolor\":\"white\",\"ticks\":\"\"}},\"ternary\":{\"bgcolor\":\"#E5ECF6\",\"aaxis\":{\"gridcolor\":\"white\",\"linecolor\":\"white\",\"ticks\":\"\"},\"baxis\":{\"gridcolor\":\"white\",\"linecolor\":\"white\",\"ticks\":\"\"},\"caxis\":{\"gridcolor\":\"white\",\"linecolor\":\"white\",\"ticks\":\"\"}},\"coloraxis\":{\"colorbar\":{\"outlinewidth\":0,\"ticks\":\"\"}},\"colorscale\":{\"sequential\":[[0.0,\"#0d0887\"],[0.1111111111111111,\"#46039f\"],[0.2222222222222222,\"#7201a8\"],[0.3333333333333333,\"#9c179e\"],[0.4444444444444444,\"#bd3786\"],[0.5555555555555556,\"#d8576b\"],[0.6666666666666666,\"#ed7953\"],[0.7777777777777778,\"#fb9f3a\"],[0.8888888888888888,\"#fdca26\"],[1.0,\"#f0f921\"]],\"sequentialminus\":[[0.0,\"#0d0887\"],[0.1111111111111111,\"#46039f\"],[0.2222222222222222,\"#7201a8\"],[0.3333333333333333,\"#9c179e\"],[0.4444444444444444,\"#bd3786\"],[0.5555555555555556,\"#d8576b\"],[0.6666666666666666,\"#ed7953\"],[0.7777777777777778,\"#fb9f3a\"],[0.8888888888888888,\"#fdca26\"],[1.0,\"#f0f921\"]],\"diverging\":[[0,\"#8e0152\"],[0.1,\"#c51b7d\"],[0.2,\"#de77ae\"],[0.3,\"#f1b6da\"],[0.4,\"#fde0ef\"],[0.5,\"#f7f7f7\"],[0.6,\"#e6f5d0\"],[0.7,\"#b8e186\"],[0.8,\"#7fbc41\"],[0.9,\"#4d9221\"],[1,\"#276419\"]]},\"xaxis\":{\"gridcolor\":\"white\",\"linecolor\":\"white\",\"ticks\":\"\",\"title\":{\"standoff\":15},\"zerolinecolor\":\"white\",\"automargin\":true,\"zerolinewidth\":2},\"yaxis\":{\"gridcolor\":\"white\",\"linecolor\":\"white\",\"ticks\":\"\",\"title\":{\"standoff\":15},\"zerolinecolor\":\"white\",\"automargin\":true,\"zerolinewidth\":2},\"scene\":{\"xaxis\":{\"backgroundcolor\":\"#E5ECF6\",\"gridcolor\":\"white\",\"linecolor\":\"white\",\"showbackground\":true,\"ticks\":\"\",\"zerolinecolor\":\"white\",\"gridwidth\":2},\"yaxis\":{\"backgroundcolor\":\"#E5ECF6\",\"gridcolor\":\"white\",\"linecolor\":\"white\",\"showbackground\":true,\"ticks\":\"\",\"zerolinecolor\":\"white\",\"gridwidth\":2},\"zaxis\":{\"backgroundcolor\":\"#E5ECF6\",\"gridcolor\":\"white\",\"linecolor\":\"white\",\"showbackground\":true,\"ticks\":\"\",\"zerolinecolor\":\"white\",\"gridwidth\":2}},\"shapedefaults\":{\"line\":{\"color\":\"#2a3f5f\"}},\"annotationdefaults\":{\"arrowcolor\":\"#2a3f5f\",\"arrowhead\":0,\"arrowwidth\":1},\"geo\":{\"bgcolor\":\"white\",\"landcolor\":\"#E5ECF6\",\"subunitcolor\":\"white\",\"showland\":true,\"showlakes\":true,\"lakecolor\":\"white\"},\"title\":{\"x\":0.05},\"mapbox\":{\"style\":\"light\"}}},\"xaxis\":{\"anchor\":\"y\",\"domain\":[0.0,1.0],\"title\":{\"text\":\"Embedding Dimension\"}},\"yaxis\":{\"anchor\":\"x\",\"domain\":[0.0,1.0],\"title\":{\"text\":\"Value\"}},\"legend\":{\"tracegroupgap\":0},\"title\":{\"text\":\"T5 Embeddings for the First Token\"}},                        {\"responsive\": true}                    ).then(function(){\n",
              "                            \n",
              "var gd = document.getElementById('84ac2090-c087-4183-bd6e-0a47728739db');\n",
              "var x = new MutationObserver(function (mutations, observer) {{\n",
              "        var display = window.getComputedStyle(gd).display;\n",
              "        if (!display || display === 'none') {{\n",
              "            console.log([gd, 'removed!']);\n",
              "            Plotly.purge(gd);\n",
              "            observer.disconnect();\n",
              "        }}\n",
              "}});\n",
              "\n",
              "// Listen for the removal of the full notebook cells\n",
              "var notebookContainer = gd.closest('#notebook-container');\n",
              "if (notebookContainer) {{\n",
              "    x.observe(notebookContainer, {childList: true});\n",
              "}}\n",
              "\n",
              "// Listen for the clearing of the current output cell\n",
              "var outputEl = gd.closest('.output');\n",
              "if (outputEl) {{\n",
              "    x.observe(outputEl, {childList: true});\n",
              "}}\n",
              "\n",
              "                        })                };                            </script>        </div>\n",
              "</body>\n",
              "</html>"
            ]
          },
          "metadata": {}
        }
      ]
    },
    {
      "cell_type": "markdown",
      "source": [
        "Line Plot"
      ],
      "metadata": {
        "id": "1zj5RpOX5rjN"
      }
    },
    {
      "cell_type": "code",
      "source": [
        "# Sample data\n",
        "x = [1, 2, 3, 4, 5]\n",
        "y = [2, 4, 1, 5, 3]\n",
        "\n",
        "# Create the plot\n",
        "plt.plot(x, y)\n",
        "\n",
        "# Add labels and title\n",
        "plt.xlabel('X-axis')\n",
        "plt.ylabel('Y-axis')\n",
        "plt.title('Simple Line Plot')\n",
        "\n",
        "# Display the plot\n",
        "plt.show()\n"
      ],
      "metadata": {
        "id": "97KCw5wOSLPK",
        "outputId": "423c93b2-6c1d-42a0-894d-f3678d16ca9f",
        "colab": {
          "base_uri": "https://localhost:8080/",
          "height": 472
        }
      },
      "execution_count": 129,
      "outputs": [
        {
          "output_type": "display_data",
          "data": {
            "text/plain": [
              "<Figure size 640x480 with 1 Axes>"
            ],
            "image/png": "[encoded data removed]"
          },
          "metadata": {}
        }
      ]
    },
    {
      "cell_type": "markdown",
      "source": [
        "# Model Evaluation"
      ],
      "metadata": {
        "id": "bYbo_BqD25ZO"
      }
    },
    {
      "cell_type": "code",
      "source": [
        "from sklearn.metrics import accuracy_score, precision_score, recall_score, f1_score\n",
        "\n",
        "# Assuming you have true labels and predictions from your T5 model\n",
        "y_true = [0, 1, 1, 0, 1]  # Example true labels\n",
        "y_pred = [1, 1, 0, 0, 1]  # Example predictions from T5\n",
        "\n",
        "# Calculate evaluation metrics\n",
        "accuracy = accuracy_score(y_true, y_pred)\n",
        "precision = precision_score(y_true, y_pred)\n",
        "recall = recall_score(y_true, y_pred)\n",
        "f1 = f1_score(y_true, y_pred)\n",
        "\n",
        "# Print the results\n",
        "print(\"Accuracy:\", accuracy)\n",
        "print(\"Precision:\", precision)\n",
        "print(\"Recall:\", recall)\n",
        "print(\"F1-score:\", f1)\n"
      ],
      "metadata": {
        "id": "gMgBY2_3SLA2",
        "outputId": "b0784435-cddc-45a6-b4e2-5ea04e1ba03c",
        "colab": {
          "base_uri": "https://localhost:8080/"
        }
      },
      "execution_count": 139,
      "outputs": [
        {
          "output_type": "stream",
          "name": "stdout",
          "text": [
            "Accuracy: 0.6\n",
            "Precision: 0.6666666666666666\n",
            "Recall: 0.6666666666666666\n",
            "F1-score: 0.6666666666666666\n"
          ]
        }
      ]
    },
    {
      "cell_type": "markdown",
      "source": [
        "# **Novel Improvement from above analysis**"
      ],
      "metadata": {
        "id": "mwbgqCCZ4jei"
      }
    },
    {
      "cell_type": "code",
      "source": [
        "\n",
        "\n",
        "# **Novel Improvement: Ensemble Model with Weighted Voting**\n",
        "\n",
        "# 1. **Train Multiple Models:**\n",
        "#    - Train different models (e.g., BERT, GPT-2, T5) on the same dataset.\n",
        "#    - Fine-tune each model with different hyperparameters or architectures.\n",
        "\n",
        "# 2. **Generate Predictions:**\n",
        "#    - Obtain predictions from each trained model on the validation or test set.\n",
        "\n",
        "# 3. **Weighted Voting:**\n",
        "#    - Assign weights to each model based on their individual performance (e.g., F1-score, BLEU score).\n",
        "#    - Combine predictions using weighted voting, where each model's vote is weighted by its assigned weight.\n",
        "\n",
        "bert_predictions = [0, 1, 1, 0, 1]\n",
        "gpt2_predictions = [1, 1, 0, 1, 1]\n",
        "t5_predictions = [0, 1, 1, 0, 0]\n",
        "\n",
        "# Assign weights based on model performance (adjust these based on evaluation results)\n",
        "bert_weight = 0.4\n",
        "gpt2_weight = 0.3\n",
        "t5_weight = 0.3\n",
        "\n",
        "# Combine predictions using weighted voting\n",
        "ensemble_predictions = []\n",
        "for i in range(len(bert_predictions)):\n",
        "    votes = [\n",
        "        bert_predictions[i] * bert_weight,\n",
        "        gpt2_predictions[i] * gpt2_weight,\n",
        "        t5_predictions[i] * t5_weight\n",
        "    ]\n",
        "    ensemble_predictions.append(int(round(sum(votes))))\n",
        "\n",
        "# Evaluate the ensemble model\n",
        "y_true = [1, 1, 0, 0, 1]  # Example true labels\n",
        "accuracy = accuracy_score(y_true, ensemble_predictions)\n",
        "print(\"Ensemble Accuracy:\", accuracy)\n",
        "\n",
        "# 4. **Further Refinements:**\n",
        "#    - Experiment with different weighting schemes (e.g., based on confidence scores).\n",
        "#    - Explore stacking or blending techniques to combine model predictions.\n",
        "#    - Use cross-validation to optimize model weights and hyperparameters.\n"
      ],
      "metadata": {
        "id": "FgWWCSLpSK8C",
        "outputId": "fb6c5543-a03d-4594-9471-644ec980d360",
        "colab": {
          "base_uri": "https://localhost:8080/"
        }
      },
      "execution_count": 150,
      "outputs": [
        {
          "output_type": "stream",
          "name": "stdout",
          "text": [
            "Ensemble Accuracy: 0.6\n"
          ]
        }
      ]
    },
    {
      "cell_type": "code",
      "source": [],
      "metadata": {
        "id": "yZ1OaBxWSKuT"
      },
      "execution_count": null,
      "outputs": []
    }
  ]
}