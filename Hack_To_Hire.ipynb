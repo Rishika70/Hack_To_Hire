{
  "nbformat": 4,
  "nbformat_minor": 0,
  "metadata": {
    "colab": {
      "provenance": [],
      "gpuType": "T4",
      "authorship_tag": "ABX9TyOuiFMRGi36YlsFRw//cEmp",
      "include_colab_link": true
    },
    "kernelspec": {
      "name": "python3",
      "display_name": "Python 3"
    },
    "language_info": {
      "name": "python"
    },
    "accelerator": "GPU",
    "widgets": {
      "application/vnd.jupyter.widget-state+json": {
        "f864d036378c49e4889f7fb6010d8a52": {
          "model_module": "@jupyter-widgets/controls",
          "model_name": "HBoxModel",
          "model_module_version": "1.5.0",
          "state": {
            "_dom_classes": [],
            "_model_module": "@jupyter-widgets/controls",
            "_model_module_version": "1.5.0",
            "_model_name": "HBoxModel",
            "_view_count": null,
            "_view_module": "@jupyter-widgets/controls",
            "_view_module_version": "1.5.0",
            "_view_name": "HBoxView",
            "box_style": "",
            "children": [
              "IPY_MODEL_1021f95831ec425ba06afaa5e97cfda2",
              "IPY_MODEL_89b1a1a2670b4bf5a99d9366bdb50c29",
              "IPY_MODEL_49756bba4ceb499994ea0dea266bb2c1"
            ],
            "layout": "IPY_MODEL_3e3c3d9496984b078adb38cd60ff7de5"
          }
        },
        "1021f95831ec425ba06afaa5e97cfda2": {
          "model_module": "@jupyter-widgets/controls",
          "model_name": "HTMLModel",
          "model_module_version": "1.5.0",
          "state": {
            "_dom_classes": [],
            "_model_module": "@jupyter-widgets/controls",
            "_model_module_version": "1.5.0",
            "_model_name": "HTMLModel",
            "_view_count": null,
            "_view_module": "@jupyter-widgets/controls",
            "_view_module_version": "1.5.0",
            "_view_name": "HTMLView",
            "description": "",
            "description_tooltip": null,
            "layout": "IPY_MODEL_ab9ae822abbd4c60a80a1f77984f6930",
            "placeholder": "​",
            "style": "IPY_MODEL_93370c1a9234412580e5bd2e3f9fa0dc",
            "value": "Map: 100%"
          }
        },
        "89b1a1a2670b4bf5a99d9366bdb50c29": {
          "model_module": "@jupyter-widgets/controls",
          "model_name": "FloatProgressModel",
          "model_module_version": "1.5.0",
          "state": {
            "_dom_classes": [],
            "_model_module": "@jupyter-widgets/controls",
            "_model_module_version": "1.5.0",
            "_model_name": "FloatProgressModel",
            "_view_count": null,
            "_view_module": "@jupyter-widgets/controls",
            "_view_module_version": "1.5.0",
            "_view_name": "ProgressView",
            "bar_style": "success",
            "description": "",
            "description_tooltip": null,
            "layout": "IPY_MODEL_f60d1e1ffab845ed8951b32cc10eeb7f",
            "max": 45121,
            "min": 0,
            "orientation": "horizontal",
            "style": "IPY_MODEL_56a51935746f403d8217aba6c75d5de1",
            "value": 45121
          }
        },
        "49756bba4ceb499994ea0dea266bb2c1": {
          "model_module": "@jupyter-widgets/controls",
          "model_name": "HTMLModel",
          "model_module_version": "1.5.0",
          "state": {
            "_dom_classes": [],
            "_model_module": "@jupyter-widgets/controls",
            "_model_module_version": "1.5.0",
            "_model_name": "HTMLModel",
            "_view_count": null,
            "_view_module": "@jupyter-widgets/controls",
            "_view_module_version": "1.5.0",
            "_view_name": "HTMLView",
            "description": "",
            "description_tooltip": null,
            "layout": "IPY_MODEL_3076a7810b844fbda64b307d6fdd080d",
            "placeholder": "​",
            "style": "IPY_MODEL_ed1120a221824cde8c892239a8fec2f1",
            "value": " 45121/45121 [02:50&lt;00:00, 420.65 examples/s]"
          }
        },
        "3e3c3d9496984b078adb38cd60ff7de5": {
          "model_module": "@jupyter-widgets/base",
          "model_name": "LayoutModel",
          "model_module_version": "1.2.0",
          "state": {
            "_model_module": "@jupyter-widgets/base",
            "_model_module_version": "1.2.0",
            "_model_name": "LayoutModel",
            "_view_count": null,
            "_view_module": "@jupyter-widgets/base",
            "_view_module_version": "1.2.0",
            "_view_name": "LayoutView",
            "align_content": null,
            "align_items": null,
            "align_self": null,
            "border": null,
            "bottom": null,
            "display": null,
            "flex": null,
            "flex_flow": null,
            "grid_area": null,
            "grid_auto_columns": null,
            "grid_auto_flow": null,
            "grid_auto_rows": null,
            "grid_column": null,
            "grid_gap": null,
            "grid_row": null,
            "grid_template_areas": null,
            "grid_template_columns": null,
            "grid_template_rows": null,
            "height": null,
            "justify_content": null,
            "justify_items": null,
            "left": null,
            "margin": null,
            "max_height": null,
            "max_width": null,
            "min_height": null,
            "min_width": null,
            "object_fit": null,
            "object_position": null,
            "order": null,
            "overflow": null,
            "overflow_x": null,
            "overflow_y": null,
            "padding": null,
            "right": null,
            "top": null,
            "visibility": null,
            "width": null
          }
        },
        "ab9ae822abbd4c60a80a1f77984f6930": {
          "model_module": "@jupyter-widgets/base",
          "model_name": "LayoutModel",
          "model_module_version": "1.2.0",
          "state": {
            "_model_module": "@jupyter-widgets/base",
            "_model_module_version": "1.2.0",
            "_model_name": "LayoutModel",
            "_view_count": null,
            "_view_module": "@jupyter-widgets/base",
            "_view_module_version": "1.2.0",
            "_view_name": "LayoutView",
            "align_content": null,
            "align_items": null,
            "align_self": null,
            "border": null,
            "bottom": null,
            "display": null,
            "flex": null,
            "flex_flow": null,
            "grid_area": null,
            "grid_auto_columns": null,
            "grid_auto_flow": null,
            "grid_auto_rows": null,
            "grid_column": null,
            "grid_gap": null,
            "grid_row": null,
            "grid_template_areas": null,
            "grid_template_columns": null,
            "grid_template_rows": null,
            "height": null,
            "justify_content": null,
            "justify_items": null,
            "left": null,
            "margin": null,
            "max_height": null,
            "max_width": null,
            "min_height": null,
            "min_width": null,
            "object_fit": null,
            "object_position": null,
            "order": null,
            "overflow": null,
            "overflow_x": null,
            "overflow_y": null,
            "padding": null,
            "right": null,
            "top": null,
            "visibility": null,
            "width": null
          }
        },
        "93370c1a9234412580e5bd2e3f9fa0dc": {
          "model_module": "@jupyter-widgets/controls",
          "model_name": "DescriptionStyleModel",
          "model_module_version": "1.5.0",
          "state": {
            "_model_module": "@jupyter-widgets/controls",
            "_model_module_version": "1.5.0",
            "_model_name": "DescriptionStyleModel",
            "_view_count": null,
            "_view_module": "@jupyter-widgets/base",
            "_view_module_version": "1.2.0",
            "_view_name": "StyleView",
            "description_width": ""
          }
        },
        "f60d1e1ffab845ed8951b32cc10eeb7f": {
          "model_module": "@jupyter-widgets/base",
          "model_name": "LayoutModel",
          "model_module_version": "1.2.0",
          "state": {
            "_model_module": "@jupyter-widgets/base",
            "_model_module_version": "1.2.0",
            "_model_name": "LayoutModel",
            "_view_count": null,
            "_view_module": "@jupyter-widgets/base",
            "_view_module_version": "1.2.0",
            "_view_name": "LayoutView",
            "align_content": null,
            "align_items": null,
            "align_self": null,
            "border": null,
            "bottom": null,
            "display": null,
            "flex": null,
            "flex_flow": null,
            "grid_area": null,
            "grid_auto_columns": null,
            "grid_auto_flow": null,
            "grid_auto_rows": null,
            "grid_column": null,
            "grid_gap": null,
            "grid_row": null,
            "grid_template_areas": null,
            "grid_template_columns": null,
            "grid_template_rows": null,
            "height": null,
            "justify_content": null,
            "justify_items": null,
            "left": null,
            "margin": null,
            "max_height": null,
            "max_width": null,
            "min_height": null,
            "min_width": null,
            "object_fit": null,
            "object_position": null,
            "order": null,
            "overflow": null,
            "overflow_x": null,
            "overflow_y": null,
            "padding": null,
            "right": null,
            "top": null,
            "visibility": null,
            "width": null
          }
        },
        "56a51935746f403d8217aba6c75d5de1": {
          "model_module": "@jupyter-widgets/controls",
          "model_name": "ProgressStyleModel",
          "model_module_version": "1.5.0",
          "state": {
            "_model_module": "@jupyter-widgets/controls",
            "_model_module_version": "1.5.0",
            "_model_name": "ProgressStyleModel",
            "_view_count": null,
            "_view_module": "@jupyter-widgets/base",
            "_view_module_version": "1.2.0",
            "_view_name": "StyleView",
            "bar_color": null,
            "description_width": ""
          }
        },
        "3076a7810b844fbda64b307d6fdd080d": {
          "model_module": "@jupyter-widgets/base",
          "model_name": "LayoutModel",
          "model_module_version": "1.2.0",
          "state": {
            "_model_module": "@jupyter-widgets/base",
            "_model_module_version": "1.2.0",
            "_model_name": "LayoutModel",
            "_view_count": null,
            "_view_module": "@jupyter-widgets/base",
            "_view_module_version": "1.2.0",
            "_view_name": "LayoutView",
            "align_content": null,
            "align_items": null,
            "align_self": null,
            "border": null,
            "bottom": null,
            "display": null,
            "flex": null,
            "flex_flow": null,
            "grid_area": null,
            "grid_auto_columns": null,
            "grid_auto_flow": null,
            "grid_auto_rows": null,
            "grid_column": null,
            "grid_gap": null,
            "grid_row": null,
            "grid_template_areas": null,
            "grid_template_columns": null,
            "grid_template_rows": null,
            "height": null,
            "justify_content": null,
            "justify_items": null,
            "left": null,
            "margin": null,
            "max_height": null,
            "max_width": null,
            "min_height": null,
            "min_width": null,
            "object_fit": null,
            "object_position": null,
            "order": null,
            "overflow": null,
            "overflow_x": null,
            "overflow_y": null,
            "padding": null,
            "right": null,
            "top": null,
            "visibility": null,
            "width": null
          }
        },
        "ed1120a221824cde8c892239a8fec2f1": {
          "model_module": "@jupyter-widgets/controls",
          "model_name": "DescriptionStyleModel",
          "model_module_version": "1.5.0",
          "state": {
            "_model_module": "@jupyter-widgets/controls",
            "_model_module_version": "1.5.0",
            "_model_name": "DescriptionStyleModel",
            "_view_count": null,
            "_view_module": "@jupyter-widgets/base",
            "_view_module_version": "1.2.0",
            "_view_name": "StyleView",
            "description_width": ""
          }
        },
        "80926a0f53a1462f881a39b5f6f6d54d": {
          "model_module": "@jupyter-widgets/controls",
          "model_name": "HBoxModel",
          "model_module_version": "1.5.0",
          "state": {
            "_dom_classes": [],
            "_model_module": "@jupyter-widgets/controls",
            "_model_module_version": "1.5.0",
            "_model_name": "HBoxModel",
            "_view_count": null,
            "_view_module": "@jupyter-widgets/controls",
            "_view_module_version": "1.5.0",
            "_view_name": "HBoxView",
            "box_style": "",
            "children": [
              "IPY_MODEL_886727cd92204f57a21a345f19cfc0df",
              "IPY_MODEL_affaee6881194e9e9a2d3f0eb78fbe90",
              "IPY_MODEL_3b244203df65470f9b8f043d8c0eb227"
            ],
            "layout": "IPY_MODEL_53681242ddb84b939051d1b4d51e9d92"
          }
        },
        "886727cd92204f57a21a345f19cfc0df": {
          "model_module": "@jupyter-widgets/controls",
          "model_name": "HTMLModel",
          "model_module_version": "1.5.0",
          "state": {
            "_dom_classes": [],
            "_model_module": "@jupyter-widgets/controls",
            "_model_module_version": "1.5.0",
            "_model_name": "HTMLModel",
            "_view_count": null,
            "_view_module": "@jupyter-widgets/controls",
            "_view_module_version": "1.5.0",
            "_view_name": "HTMLView",
            "description": "",
            "description_tooltip": null,
            "layout": "IPY_MODEL_e5ce64ddfc9747c9bba1afd5951be55c",
            "placeholder": "​",
            "style": "IPY_MODEL_f901300047b74545ae494146faae926c",
            "value": "Map: 100%"
          }
        },
        "affaee6881194e9e9a2d3f0eb78fbe90": {
          "model_module": "@jupyter-widgets/controls",
          "model_name": "FloatProgressModel",
          "model_module_version": "1.5.0",
          "state": {
            "_dom_classes": [],
            "_model_module": "@jupyter-widgets/controls",
            "_model_module_version": "1.5.0",
            "_model_name": "FloatProgressModel",
            "_view_count": null,
            "_view_module": "@jupyter-widgets/controls",
            "_view_module_version": "1.5.0",
            "_view_name": "ProgressView",
            "bar_style": "success",
            "description": "",
            "description_tooltip": null,
            "layout": "IPY_MODEL_213b336a3fcb40a9b71e7303a02986fe",
            "max": 11281,
            "min": 0,
            "orientation": "horizontal",
            "style": "IPY_MODEL_f39eb7d76b5e4d4695e5b321f52e7ae2",
            "value": 11281
          }
        },
        "3b244203df65470f9b8f043d8c0eb227": {
          "model_module": "@jupyter-widgets/controls",
          "model_name": "HTMLModel",
          "model_module_version": "1.5.0",
          "state": {
            "_dom_classes": [],
            "_model_module": "@jupyter-widgets/controls",
            "_model_module_version": "1.5.0",
            "_model_name": "HTMLModel",
            "_view_count": null,
            "_view_module": "@jupyter-widgets/controls",
            "_view_module_version": "1.5.0",
            "_view_name": "HTMLView",
            "description": "",
            "description_tooltip": null,
            "layout": "IPY_MODEL_3d5be50042cc4a1cb91b289b8502146d",
            "placeholder": "​",
            "style": "IPY_MODEL_4bb15225e8104aaa96247f9d007f31a1",
            "value": " 11281/11281 [00:44&lt;00:00, 428.35 examples/s]"
          }
        },
        "53681242ddb84b939051d1b4d51e9d92": {
          "model_module": "@jupyter-widgets/base",
          "model_name": "LayoutModel",
          "model_module_version": "1.2.0",
          "state": {
            "_model_module": "@jupyter-widgets/base",
            "_model_module_version": "1.2.0",
            "_model_name": "LayoutModel",
            "_view_count": null,
            "_view_module": "@jupyter-widgets/base",
            "_view_module_version": "1.2.0",
            "_view_name": "LayoutView",
            "align_content": null,
            "align_items": null,
            "align_self": null,
            "border": null,
            "bottom": null,
            "display": null,
            "flex": null,
            "flex_flow": null,
            "grid_area": null,
            "grid_auto_columns": null,
            "grid_auto_flow": null,
            "grid_auto_rows": null,
            "grid_column": null,
            "grid_gap": null,
            "grid_row": null,
            "grid_template_areas": null,
            "grid_template_columns": null,
            "grid_template_rows": null,
            "height": null,
            "justify_content": null,
            "justify_items": null,
            "left": null,
            "margin": null,
            "max_height": null,
            "max_width": null,
            "min_height": null,
            "min_width": null,
            "object_fit": null,
            "object_position": null,
            "order": null,
            "overflow": null,
            "overflow_x": null,
            "overflow_y": null,
            "padding": null,
            "right": null,
            "top": null,
            "visibility": null,
            "width": null
          }
        },
        "e5ce64ddfc9747c9bba1afd5951be55c": {
          "model_module": "@jupyter-widgets/base",
          "model_name": "LayoutModel",
          "model_module_version": "1.2.0",
          "state": {
            "_model_module": "@jupyter-widgets/base",
            "_model_module_version": "1.2.0",
            "_model_name": "LayoutModel",
            "_view_count": null,
            "_view_module": "@jupyter-widgets/base",
            "_view_module_version": "1.2.0",
            "_view_name": "LayoutView",
            "align_content": null,
            "align_items": null,
            "align_self": null,
            "border": null,
            "bottom": null,
            "display": null,
            "flex": null,
            "flex_flow": null,
            "grid_area": null,
            "grid_auto_columns": null,
            "grid_auto_flow": null,
            "grid_auto_rows": null,
            "grid_column": null,
            "grid_gap": null,
            "grid_row": null,
            "grid_template_areas": null,
            "grid_template_columns": null,
            "grid_template_rows": null,
            "height": null,
            "justify_content": null,
            "justify_items": null,
            "left": null,
            "margin": null,
            "max_height": null,
            "max_width": null,
            "min_height": null,
            "min_width": null,
            "object_fit": null,
            "object_position": null,
            "order": null,
            "overflow": null,
            "overflow_x": null,
            "overflow_y": null,
            "padding": null,
            "right": null,
            "top": null,
            "visibility": null,
            "width": null
          }
        },
        "f901300047b74545ae494146faae926c": {
          "model_module": "@jupyter-widgets/controls",
          "model_name": "DescriptionStyleModel",
          "model_module_version": "1.5.0",
          "state": {
            "_model_module": "@jupyter-widgets/controls",
            "_model_module_version": "1.5.0",
            "_model_name": "DescriptionStyleModel",
            "_view_count": null,
            "_view_module": "@jupyter-widgets/base",
            "_view_module_version": "1.2.0",
            "_view_name": "StyleView",
            "description_width": ""
          }
        },
        "213b336a3fcb40a9b71e7303a02986fe": {
          "model_module": "@jupyter-widgets/base",
          "model_name": "LayoutModel",
          "model_module_version": "1.2.0",
          "state": {
            "_model_module": "@jupyter-widgets/base",
            "_model_module_version": "1.2.0",
            "_model_name": "LayoutModel",
            "_view_count": null,
            "_view_module": "@jupyter-widgets/base",
            "_view_module_version": "1.2.0",
            "_view_name": "LayoutView",
            "align_content": null,
            "align_items": null,
            "align_self": null,
            "border": null,
            "bottom": null,
            "display": null,
            "flex": null,
            "flex_flow": null,
            "grid_area": null,
            "grid_auto_columns": null,
            "grid_auto_flow": null,
            "grid_auto_rows": null,
            "grid_column": null,
            "grid_gap": null,
            "grid_row": null,
            "grid_template_areas": null,
            "grid_template_columns": null,
            "grid_template_rows": null,
            "height": null,
            "justify_content": null,
            "justify_items": null,
            "left": null,
            "margin": null,
            "max_height": null,
            "max_width": null,
            "min_height": null,
            "min_width": null,
            "object_fit": null,
            "object_position": null,
            "order": null,
            "overflow": null,
            "overflow_x": null,
            "overflow_y": null,
            "padding": null,
            "right": null,
            "top": null,
            "visibility": null,
            "width": null
          }
        },
        "f39eb7d76b5e4d4695e5b321f52e7ae2": {
          "model_module": "@jupyter-widgets/controls",
          "model_name": "ProgressStyleModel",
          "model_module_version": "1.5.0",
          "state": {
            "_model_module": "@jupyter-widgets/controls",
            "_model_module_version": "1.5.0",
            "_model_name": "ProgressStyleModel",
            "_view_count": null,
            "_view_module": "@jupyter-widgets/base",
            "_view_module_version": "1.2.0",
            "_view_name": "StyleView",
            "bar_color": null,
            "description_width": ""
          }
        },
        "3d5be50042cc4a1cb91b289b8502146d": {
          "model_module": "@jupyter-widgets/base",
          "model_name": "LayoutModel",
          "model_module_version": "1.2.0",
          "state": {
            "_model_module": "@jupyter-widgets/base",
            "_model_module_version": "1.2.0",
            "_model_name": "LayoutModel",
            "_view_count": null,
            "_view_module": "@jupyter-widgets/base",
            "_view_module_version": "1.2.0",
            "_view_name": "LayoutView",
            "align_content": null,
            "align_items": null,
            "align_self": null,
            "border": null,
            "bottom": null,
            "display": null,
            "flex": null,
            "flex_flow": null,
            "grid_area": null,
            "grid_auto_columns": null,
            "grid_auto_flow": null,
            "grid_auto_rows": null,
            "grid_column": null,
            "grid_gap": null,
            "grid_row": null,
            "grid_template_areas": null,
            "grid_template_columns": null,
            "grid_template_rows": null,
            "height": null,
            "justify_content": null,
            "justify_items": null,
            "left": null,
            "margin": null,
            "max_height": null,
            "max_width": null,
            "min_height": null,
            "min_width": null,
            "object_fit": null,
            "object_position": null,
            "order": null,
            "overflow": null,
            "overflow_x": null,
            "overflow_y": null,
            "padding": null,
            "right": null,
            "top": null,
            "visibility": null,
            "width": null
          }
        },
        "4bb15225e8104aaa96247f9d007f31a1": {
          "model_module": "@jupyter-widgets/controls",
          "model_name": "DescriptionStyleModel",
          "model_module_version": "1.5.0",
          "state": {
            "_model_module": "@jupyter-widgets/controls",
            "_model_module_version": "1.5.0",
            "_model_name": "DescriptionStyleModel",
            "_view_count": null,
            "_view_module": "@jupyter-widgets/base",
            "_view_module_version": "1.2.0",
            "_view_name": "StyleView",
            "description_width": ""
          }
        },
        "fa22e732b2c049d3b0d37cf19a824568": {
          "model_module": "@jupyter-widgets/controls",
          "model_name": "HBoxModel",
          "model_module_version": "1.5.0",
          "state": {
            "_dom_classes": [],
            "_model_module": "@jupyter-widgets/controls",
            "_model_module_version": "1.5.0",
            "_model_name": "HBoxModel",
            "_view_count": null,
            "_view_module": "@jupyter-widgets/controls",
            "_view_module_version": "1.5.0",
            "_view_name": "HBoxView",
            "box_style": "",
            "children": [
              "IPY_MODEL_2db099aa05954e498be78350787ed51f",
              "IPY_MODEL_1a99cde5a2b74a8f90beea5f99c831f4",
              "IPY_MODEL_694bb03b82724587ba8c815bb234ef83"
            ],
            "layout": "IPY_MODEL_aa1c0552aa874de792c52d666ec32f22"
          }
        },
        "2db099aa05954e498be78350787ed51f": {
          "model_module": "@jupyter-widgets/controls",
          "model_name": "HTMLModel",
          "model_module_version": "1.5.0",
          "state": {
            "_dom_classes": [],
            "_model_module": "@jupyter-widgets/controls",
            "_model_module_version": "1.5.0",
            "_model_name": "HTMLModel",
            "_view_count": null,
            "_view_module": "@jupyter-widgets/controls",
            "_view_module_version": "1.5.0",
            "_view_name": "HTMLView",
            "description": "",
            "description_tooltip": null,
            "layout": "IPY_MODEL_5dd20e45defe466bab0ae9e3f61b8cbe",
            "placeholder": "​",
            "style": "IPY_MODEL_5a3be322cdaa4e9fbddfd4533bce0003",
            "value": "Map: 100%"
          }
        },
        "1a99cde5a2b74a8f90beea5f99c831f4": {
          "model_module": "@jupyter-widgets/controls",
          "model_name": "FloatProgressModel",
          "model_module_version": "1.5.0",
          "state": {
            "_dom_classes": [],
            "_model_module": "@jupyter-widgets/controls",
            "_model_module_version": "1.5.0",
            "_model_name": "FloatProgressModel",
            "_view_count": null,
            "_view_module": "@jupyter-widgets/controls",
            "_view_module_version": "1.5.0",
            "_view_name": "ProgressView",
            "bar_style": "success",
            "description": "",
            "description_tooltip": null,
            "layout": "IPY_MODEL_cb941c7153d54c818e68276cfaf91ac8",
            "max": 45121,
            "min": 0,
            "orientation": "horizontal",
            "style": "IPY_MODEL_450a91a213d045beb19f42eeb90fbef6",
            "value": 45121
          }
        },
        "694bb03b82724587ba8c815bb234ef83": {
          "model_module": "@jupyter-widgets/controls",
          "model_name": "HTMLModel",
          "model_module_version": "1.5.0",
          "state": {
            "_dom_classes": [],
            "_model_module": "@jupyter-widgets/controls",
            "_model_module_version": "1.5.0",
            "_model_name": "HTMLModel",
            "_view_count": null,
            "_view_module": "@jupyter-widgets/controls",
            "_view_module_version": "1.5.0",
            "_view_name": "HTMLView",
            "description": "",
            "description_tooltip": null,
            "layout": "IPY_MODEL_337e8b338e3141a8bf7fe21b555cfb48",
            "placeholder": "​",
            "style": "IPY_MODEL_0045e371730f4af4b4c5b3b458b5747d",
            "value": " 45121/45121 [02:20&lt;00:00, 399.27 examples/s]"
          }
        },
        "aa1c0552aa874de792c52d666ec32f22": {
          "model_module": "@jupyter-widgets/base",
          "model_name": "LayoutModel",
          "model_module_version": "1.2.0",
          "state": {
            "_model_module": "@jupyter-widgets/base",
            "_model_module_version": "1.2.0",
            "_model_name": "LayoutModel",
            "_view_count": null,
            "_view_module": "@jupyter-widgets/base",
            "_view_module_version": "1.2.0",
            "_view_name": "LayoutView",
            "align_content": null,
            "align_items": null,
            "align_self": null,
            "border": null,
            "bottom": null,
            "display": null,
            "flex": null,
            "flex_flow": null,
            "grid_area": null,
            "grid_auto_columns": null,
            "grid_auto_flow": null,
            "grid_auto_rows": null,
            "grid_column": null,
            "grid_gap": null,
            "grid_row": null,
            "grid_template_areas": null,
            "grid_template_columns": null,
            "grid_template_rows": null,
            "height": null,
            "justify_content": null,
            "justify_items": null,
            "left": null,
            "margin": null,
            "max_height": null,
            "max_width": null,
            "min_height": null,
            "min_width": null,
            "object_fit": null,
            "object_position": null,
            "order": null,
            "overflow": null,
            "overflow_x": null,
            "overflow_y": null,
            "padding": null,
            "right": null,
            "top": null,
            "visibility": null,
            "width": null
          }
        },
        "5dd20e45defe466bab0ae9e3f61b8cbe": {
          "model_module": "@jupyter-widgets/base",
          "model_name": "LayoutModel",
          "model_module_version": "1.2.0",
          "state": {
            "_model_module": "@jupyter-widgets/base",
            "_model_module_version": "1.2.0",
            "_model_name": "LayoutModel",
            "_view_count": null,
            "_view_module": "@jupyter-widgets/base",
            "_view_module_version": "1.2.0",
            "_view_name": "LayoutView",
            "align_content": null,
            "align_items": null,
            "align_self": null,
            "border": null,
            "bottom": null,
            "display": null,
            "flex": null,
            "flex_flow": null,
            "grid_area": null,
            "grid_auto_columns": null,
            "grid_auto_flow": null,
            "grid_auto_rows": null,
            "grid_column": null,
            "grid_gap": null,
            "grid_row": null,
            "grid_template_areas": null,
            "grid_template_columns": null,
            "grid_template_rows": null,
            "height": null,
            "justify_content": null,
            "justify_items": null,
            "left": null,
            "margin": null,
            "max_height": null,
            "max_width": null,
            "min_height": null,
            "min_width": null,
            "object_fit": null,
            "object_position": null,
            "order": null,
            "overflow": null,
            "overflow_x": null,
            "overflow_y": null,
            "padding": null,
            "right": null,
            "top": null,
            "visibility": null,
            "width": null
          }
        },
        "5a3be322cdaa4e9fbddfd4533bce0003": {
          "model_module": "@jupyter-widgets/controls",
          "model_name": "DescriptionStyleModel",
          "model_module_version": "1.5.0",
          "state": {
            "_model_module": "@jupyter-widgets/controls",
            "_model_module_version": "1.5.0",
            "_model_name": "DescriptionStyleModel",
            "_view_count": null,
            "_view_module": "@jupyter-widgets/base",
            "_view_module_version": "1.2.0",
            "_view_name": "StyleView",
            "description_width": ""
          }
        },
        "cb941c7153d54c818e68276cfaf91ac8": {
          "model_module": "@jupyter-widgets/base",
          "model_name": "LayoutModel",
          "model_module_version": "1.2.0",
          "state": {
            "_model_module": "@jupyter-widgets/base",
            "_model_module_version": "1.2.0",
            "_model_name": "LayoutModel",
            "_view_count": null,
            "_view_module": "@jupyter-widgets/base",
            "_view_module_version": "1.2.0",
            "_view_name": "LayoutView",
            "align_content": null,
            "align_items": null,
            "align_self": null,
            "border": null,
            "bottom": null,
            "display": null,
            "flex": null,
            "flex_flow": null,
            "grid_area": null,
            "grid_auto_columns": null,
            "grid_auto_flow": null,
            "grid_auto_rows": null,
            "grid_column": null,
            "grid_gap": null,
            "grid_row": null,
            "grid_template_areas": null,
            "grid_template_columns": null,
            "grid_template_rows": null,
            "height": null,
            "justify_content": null,
            "justify_items": null,
            "left": null,
            "margin": null,
            "max_height": null,
            "max_width": null,
            "min_height": null,
            "min_width": null,
            "object_fit": null,
            "object_position": null,
            "order": null,
            "overflow": null,
            "overflow_x": null,
            "overflow_y": null,
            "padding": null,
            "right": null,
            "top": null,
            "visibility": null,
            "width": null
          }
        },
        "450a91a213d045beb19f42eeb90fbef6": {
          "model_module": "@jupyter-widgets/controls",
          "model_name": "ProgressStyleModel",
          "model_module_version": "1.5.0",
          "state": {
            "_model_module": "@jupyter-widgets/controls",
            "_model_module_version": "1.5.0",
            "_model_name": "ProgressStyleModel",
            "_view_count": null,
            "_view_module": "@jupyter-widgets/base",
            "_view_module_version": "1.2.0",
            "_view_name": "StyleView",
            "bar_color": null,
            "description_width": ""
          }
        },
        "337e8b338e3141a8bf7fe21b555cfb48": {
          "model_module": "@jupyter-widgets/base",
          "model_name": "LayoutModel",
          "model_module_version": "1.2.0",
          "state": {
            "_model_module": "@jupyter-widgets/base",
            "_model_module_version": "1.2.0",
            "_model_name": "LayoutModel",
            "_view_count": null,
            "_view_module": "@jupyter-widgets/base",
            "_view_module_version": "1.2.0",
            "_view_name": "LayoutView",
            "align_content": null,
            "align_items": null,
            "align_self": null,
            "border": null,
            "bottom": null,
            "display": null,
            "flex": null,
            "flex_flow": null,
            "grid_area": null,
            "grid_auto_columns": null,
            "grid_auto_flow": null,
            "grid_auto_rows": null,
            "grid_column": null,
            "grid_gap": null,
            "grid_row": null,
            "grid_template_areas": null,
            "grid_template_columns": null,
            "grid_template_rows": null,
            "height": null,
            "justify_content": null,
            "justify_items": null,
            "left": null,
            "margin": null,
            "max_height": null,
            "max_width": null,
            "min_height": null,
            "min_width": null,
            "object_fit": null,
            "object_position": null,
            "order": null,
            "overflow": null,
            "overflow_x": null,
            "overflow_y": null,
            "padding": null,
            "right": null,
            "top": null,
            "visibility": null,
            "width": null
          }
        },
        "0045e371730f4af4b4c5b3b458b5747d": {
          "model_module": "@jupyter-widgets/controls",
          "model_name": "DescriptionStyleModel",
          "model_module_version": "1.5.0",
          "state": {
            "_model_module": "@jupyter-widgets/controls",
            "_model_module_version": "1.5.0",
            "_model_name": "DescriptionStyleModel",
            "_view_count": null,
            "_view_module": "@jupyter-widgets/base",
            "_view_module_version": "1.2.0",
            "_view_name": "StyleView",
            "description_width": ""
          }
        },
        "be4a0cd6396b40748f57a3125fbaf5c1": {
          "model_module": "@jupyter-widgets/controls",
          "model_name": "HBoxModel",
          "model_module_version": "1.5.0",
          "state": {
            "_dom_classes": [],
            "_model_module": "@jupyter-widgets/controls",
            "_model_module_version": "1.5.0",
            "_model_name": "HBoxModel",
            "_view_count": null,
            "_view_module": "@jupyter-widgets/controls",
            "_view_module_version": "1.5.0",
            "_view_name": "HBoxView",
            "box_style": "",
            "children": [
              "IPY_MODEL_524207f195df42d2a5bc64e4f17eda23",
              "IPY_MODEL_bdab02d32ee346fd909dc8be520adbfe",
              "IPY_MODEL_dee4df70d64d4876b707f6daece222d0"
            ],
            "layout": "IPY_MODEL_e6e61d764e5245bf901aa97066cf6ec1"
          }
        },
        "524207f195df42d2a5bc64e4f17eda23": {
          "model_module": "@jupyter-widgets/controls",
          "model_name": "HTMLModel",
          "model_module_version": "1.5.0",
          "state": {
            "_dom_classes": [],
            "_model_module": "@jupyter-widgets/controls",
            "_model_module_version": "1.5.0",
            "_model_name": "HTMLModel",
            "_view_count": null,
            "_view_module": "@jupyter-widgets/controls",
            "_view_module_version": "1.5.0",
            "_view_name": "HTMLView",
            "description": "",
            "description_tooltip": null,
            "layout": "IPY_MODEL_7a064bd5b4a74cd09ea0144cc3c8208b",
            "placeholder": "​",
            "style": "IPY_MODEL_b87559d4a10b4244984fd05e47b57039",
            "value": "Map: 100%"
          }
        },
        "bdab02d32ee346fd909dc8be520adbfe": {
          "model_module": "@jupyter-widgets/controls",
          "model_name": "FloatProgressModel",
          "model_module_version": "1.5.0",
          "state": {
            "_dom_classes": [],
            "_model_module": "@jupyter-widgets/controls",
            "_model_module_version": "1.5.0",
            "_model_name": "FloatProgressModel",
            "_view_count": null,
            "_view_module": "@jupyter-widgets/controls",
            "_view_module_version": "1.5.0",
            "_view_name": "ProgressView",
            "bar_style": "success",
            "description": "",
            "description_tooltip": null,
            "layout": "IPY_MODEL_b9ba85d2cad54e81aea98b01b2455e41",
            "max": 11281,
            "min": 0,
            "orientation": "horizontal",
            "style": "IPY_MODEL_85e0dc638e074098a4563416f8aecd53",
            "value": 11281
          }
        },
        "dee4df70d64d4876b707f6daece222d0": {
          "model_module": "@jupyter-widgets/controls",
          "model_name": "HTMLModel",
          "model_module_version": "1.5.0",
          "state": {
            "_dom_classes": [],
            "_model_module": "@jupyter-widgets/controls",
            "_model_module_version": "1.5.0",
            "_model_name": "HTMLModel",
            "_view_count": null,
            "_view_module": "@jupyter-widgets/controls",
            "_view_module_version": "1.5.0",
            "_view_name": "HTMLView",
            "description": "",
            "description_tooltip": null,
            "layout": "IPY_MODEL_a3ac663b06cd417fb78357ff53db10ff",
            "placeholder": "​",
            "style": "IPY_MODEL_c102981d6e674f4892e3826ed01b16d1",
            "value": " 11281/11281 [00:39&lt;00:00, 486.21 examples/s]"
          }
        },
        "e6e61d764e5245bf901aa97066cf6ec1": {
          "model_module": "@jupyter-widgets/base",
          "model_name": "LayoutModel",
          "model_module_version": "1.2.0",
          "state": {
            "_model_module": "@jupyter-widgets/base",
            "_model_module_version": "1.2.0",
            "_model_name": "LayoutModel",
            "_view_count": null,
            "_view_module": "@jupyter-widgets/base",
            "_view_module_version": "1.2.0",
            "_view_name": "LayoutView",
            "align_content": null,
            "align_items": null,
            "align_self": null,
            "border": null,
            "bottom": null,
            "display": null,
            "flex": null,
            "flex_flow": null,
            "grid_area": null,
            "grid_auto_columns": null,
            "grid_auto_flow": null,
            "grid_auto_rows": null,
            "grid_column": null,
            "grid_gap": null,
            "grid_row": null,
            "grid_template_areas": null,
            "grid_template_columns": null,
            "grid_template_rows": null,
            "height": null,
            "justify_content": null,
            "justify_items": null,
            "left": null,
            "margin": null,
            "max_height": null,
            "max_width": null,
            "min_height": null,
            "min_width": null,
            "object_fit": null,
            "object_position": null,
            "order": null,
            "overflow": null,
            "overflow_x": null,
            "overflow_y": null,
            "padding": null,
            "right": null,
            "top": null,
            "visibility": null,
            "width": null
          }
        },
        "7a064bd5b4a74cd09ea0144cc3c8208b": {
          "model_module": "@jupyter-widgets/base",
          "model_name": "LayoutModel",
          "model_module_version": "1.2.0",
          "state": {
            "_model_module": "@jupyter-widgets/base",
            "_model_module_version": "1.2.0",
            "_model_name": "LayoutModel",
            "_view_count": null,
            "_view_module": "@jupyter-widgets/base",
            "_view_module_version": "1.2.0",
            "_view_name": "LayoutView",
            "align_content": null,
            "align_items": null,
            "align_self": null,
            "border": null,
            "bottom": null,
            "display": null,
            "flex": null,
            "flex_flow": null,
            "grid_area": null,
            "grid_auto_columns": null,
            "grid_auto_flow": null,
            "grid_auto_rows": null,
            "grid_column": null,
            "grid_gap": null,
            "grid_row": null,
            "grid_template_areas": null,
            "grid_template_columns": null,
            "grid_template_rows": null,
            "height": null,
            "justify_content": null,
            "justify_items": null,
            "left": null,
            "margin": null,
            "max_height": null,
            "max_width": null,
            "min_height": null,
            "min_width": null,
            "object_fit": null,
            "object_position": null,
            "order": null,
            "overflow": null,
            "overflow_x": null,
            "overflow_y": null,
            "padding": null,
            "right": null,
            "top": null,
            "visibility": null,
            "width": null
          }
        },
        "b87559d4a10b4244984fd05e47b57039": {
          "model_module": "@jupyter-widgets/controls",
          "model_name": "DescriptionStyleModel",
          "model_module_version": "1.5.0",
          "state": {
            "_model_module": "@jupyter-widgets/controls",
            "_model_module_version": "1.5.0",
            "_model_name": "DescriptionStyleModel",
            "_view_count": null,
            "_view_module": "@jupyter-widgets/base",
            "_view_module_version": "1.2.0",
            "_view_name": "StyleView",
            "description_width": ""
          }
        },
        "b9ba85d2cad54e81aea98b01b2455e41": {
          "model_module": "@jupyter-widgets/base",
          "model_name": "LayoutModel",
          "model_module_version": "1.2.0",
          "state": {
            "_model_module": "@jupyter-widgets/base",
            "_model_module_version": "1.2.0",
            "_model_name": "LayoutModel",
            "_view_count": null,
            "_view_module": "@jupyter-widgets/base",
            "_view_module_version": "1.2.0",
            "_view_name": "LayoutView",
            "align_content": null,
            "align_items": null,
            "align_self": null,
            "border": null,
            "bottom": null,
            "display": null,
            "flex": null,
            "flex_flow": null,
            "grid_area": null,
            "grid_auto_columns": null,
            "grid_auto_flow": null,
            "grid_auto_rows": null,
            "grid_column": null,
            "grid_gap": null,
            "grid_row": null,
            "grid_template_areas": null,
            "grid_template_columns": null,
            "grid_template_rows": null,
            "height": null,
            "justify_content": null,
            "justify_items": null,
            "left": null,
            "margin": null,
            "max_height": null,
            "max_width": null,
            "min_height": null,
            "min_width": null,
            "object_fit": null,
            "object_position": null,
            "order": null,
            "overflow": null,
            "overflow_x": null,
            "overflow_y": null,
            "padding": null,
            "right": null,
            "top": null,
            "visibility": null,
            "width": null
          }
        },
        "85e0dc638e074098a4563416f8aecd53": {
          "model_module": "@jupyter-widgets/controls",
          "model_name": "ProgressStyleModel",
          "model_module_version": "1.5.0",
          "state": {
            "_model_module": "@jupyter-widgets/controls",
            "_model_module_version": "1.5.0",
            "_model_name": "ProgressStyleModel",
            "_view_count": null,
            "_view_module": "@jupyter-widgets/base",
            "_view_module_version": "1.2.0",
            "_view_name": "StyleView",
            "bar_color": null,
            "description_width": ""
          }
        },
        "a3ac663b06cd417fb78357ff53db10ff": {
          "model_module": "@jupyter-widgets/base",
          "model_name": "LayoutModel",
          "model_module_version": "1.2.0",
          "state": {
            "_model_module": "@jupyter-widgets/base",
            "_model_module_version": "1.2.0",
            "_model_name": "LayoutModel",
            "_view_count": null,
            "_view_module": "@jupyter-widgets/base",
            "_view_module_version": "1.2.0",
            "_view_name": "LayoutView",
            "align_content": null,
            "align_items": null,
            "align_self": null,
            "border": null,
            "bottom": null,
            "display": null,
            "flex": null,
            "flex_flow": null,
            "grid_area": null,
            "grid_auto_columns": null,
            "grid_auto_flow": null,
            "grid_auto_rows": null,
            "grid_column": null,
            "grid_gap": null,
            "grid_row": null,
            "grid_template_areas": null,
            "grid_template_columns": null,
            "grid_template_rows": null,
            "height": null,
            "justify_content": null,
            "justify_items": null,
            "left": null,
            "margin": null,
            "max_height": null,
            "max_width": null,
            "min_height": null,
            "min_width": null,
            "object_fit": null,
            "object_position": null,
            "order": null,
            "overflow": null,
            "overflow_x": null,
            "overflow_y": null,
            "padding": null,
            "right": null,
            "top": null,
            "visibility": null,
            "width": null
          }
        },
        "c102981d6e674f4892e3826ed01b16d1": {
          "model_module": "@jupyter-widgets/controls",
          "model_name": "DescriptionStyleModel",
          "model_module_version": "1.5.0",
          "state": {
            "_model_module": "@jupyter-widgets/controls",
            "_model_module_version": "1.5.0",
            "_model_name": "DescriptionStyleModel",
            "_view_count": null,
            "_view_module": "@jupyter-widgets/base",
            "_view_module_version": "1.2.0",
            "_view_name": "StyleView",
            "description_width": ""
          }
        },
        "5c4514bf36a24813bca998fc5a7c9397": {
          "model_module": "@jupyter-widgets/controls",
          "model_name": "HBoxModel",
          "model_module_version": "1.5.0",
          "state": {
            "_dom_classes": [],
            "_model_module": "@jupyter-widgets/controls",
            "_model_module_version": "1.5.0",
            "_model_name": "HBoxModel",
            "_view_count": null,
            "_view_module": "@jupyter-widgets/controls",
            "_view_module_version": "1.5.0",
            "_view_name": "HBoxView",
            "box_style": "",
            "children": [
              "IPY_MODEL_c17899ed44b54c828c2a58e1e36b188c",
              "IPY_MODEL_95e9ddc3857e44d6ada4348fbd10079d",
              "IPY_MODEL_e221961f438941cdab4e5b219ee52796"
            ],
            "layout": "IPY_MODEL_5bad1d28df504b09a2b04b0537f127f8"
          }
        },
        "c17899ed44b54c828c2a58e1e36b188c": {
          "model_module": "@jupyter-widgets/controls",
          "model_name": "HTMLModel",
          "model_module_version": "1.5.0",
          "state": {
            "_dom_classes": [],
            "_model_module": "@jupyter-widgets/controls",
            "_model_module_version": "1.5.0",
            "_model_name": "HTMLModel",
            "_view_count": null,
            "_view_module": "@jupyter-widgets/controls",
            "_view_module_version": "1.5.0",
            "_view_name": "HTMLView",
            "description": "",
            "description_tooltip": null,
            "layout": "IPY_MODEL_9ddd5f96d15041dfb6e60f369f255fa0",
            "placeholder": "​",
            "style": "IPY_MODEL_2f8049ee25af42c59f918214358ce14d",
            "value": "Map: 100%"
          }
        },
        "95e9ddc3857e44d6ada4348fbd10079d": {
          "model_module": "@jupyter-widgets/controls",
          "model_name": "FloatProgressModel",
          "model_module_version": "1.5.0",
          "state": {
            "_dom_classes": [],
            "_model_module": "@jupyter-widgets/controls",
            "_model_module_version": "1.5.0",
            "_model_name": "FloatProgressModel",
            "_view_count": null,
            "_view_module": "@jupyter-widgets/controls",
            "_view_module_version": "1.5.0",
            "_view_name": "ProgressView",
            "bar_style": "success",
            "description": "",
            "description_tooltip": null,
            "layout": "IPY_MODEL_bed9d6741a2449b58436c85031fcd49f",
            "max": 56402,
            "min": 0,
            "orientation": "horizontal",
            "style": "IPY_MODEL_da3b3af5fb42457b82aa95ddf09244f7",
            "value": 56402
          }
        },
        "e221961f438941cdab4e5b219ee52796": {
          "model_module": "@jupyter-widgets/controls",
          "model_name": "HTMLModel",
          "model_module_version": "1.5.0",
          "state": {
            "_dom_classes": [],
            "_model_module": "@jupyter-widgets/controls",
            "_model_module_version": "1.5.0",
            "_model_name": "HTMLModel",
            "_view_count": null,
            "_view_module": "@jupyter-widgets/controls",
            "_view_module_version": "1.5.0",
            "_view_name": "HTMLView",
            "description": "",
            "description_tooltip": null,
            "layout": "IPY_MODEL_da26abf0ee234a88bf9d7b836656cf09",
            "placeholder": "​",
            "style": "IPY_MODEL_b44dd904967a410a922a45689387f449",
            "value": " 56402/56402 [01:01&lt;00:00, 940.07 examples/s]"
          }
        },
        "5bad1d28df504b09a2b04b0537f127f8": {
          "model_module": "@jupyter-widgets/base",
          "model_name": "LayoutModel",
          "model_module_version": "1.2.0",
          "state": {
            "_model_module": "@jupyter-widgets/base",
            "_model_module_version": "1.2.0",
            "_model_name": "LayoutModel",
            "_view_count": null,
            "_view_module": "@jupyter-widgets/base",
            "_view_module_version": "1.2.0",
            "_view_name": "LayoutView",
            "align_content": null,
            "align_items": null,
            "align_self": null,
            "border": null,
            "bottom": null,
            "display": null,
            "flex": null,
            "flex_flow": null,
            "grid_area": null,
            "grid_auto_columns": null,
            "grid_auto_flow": null,
            "grid_auto_rows": null,
            "grid_column": null,
            "grid_gap": null,
            "grid_row": null,
            "grid_template_areas": null,
            "grid_template_columns": null,
            "grid_template_rows": null,
            "height": null,
            "justify_content": null,
            "justify_items": null,
            "left": null,
            "margin": null,
            "max_height": null,
            "max_width": null,
            "min_height": null,
            "min_width": null,
            "object_fit": null,
            "object_position": null,
            "order": null,
            "overflow": null,
            "overflow_x": null,
            "overflow_y": null,
            "padding": null,
            "right": null,
            "top": null,
            "visibility": null,
            "width": null
          }
        },
        "9ddd5f96d15041dfb6e60f369f255fa0": {
          "model_module": "@jupyter-widgets/base",
          "model_name": "LayoutModel",
          "model_module_version": "1.2.0",
          "state": {
            "_model_module": "@jupyter-widgets/base",
            "_model_module_version": "1.2.0",
            "_model_name": "LayoutModel",
            "_view_count": null,
            "_view_module": "@jupyter-widgets/base",
            "_view_module_version": "1.2.0",
            "_view_name": "LayoutView",
            "align_content": null,
            "align_items": null,
            "align_self": null,
            "border": null,
            "bottom": null,
            "display": null,
            "flex": null,
            "flex_flow": null,
            "grid_area": null,
            "grid_auto_columns": null,
            "grid_auto_flow": null,
            "grid_auto_rows": null,
            "grid_column": null,
            "grid_gap": null,
            "grid_row": null,
            "grid_template_areas": null,
            "grid_template_columns": null,
            "grid_template_rows": null,
            "height": null,
            "justify_content": null,
            "justify_items": null,
            "left": null,
            "margin": null,
            "max_height": null,
            "max_width": null,
            "min_height": null,
            "min_width": null,
            "object_fit": null,
            "object_position": null,
            "order": null,
            "overflow": null,
            "overflow_x": null,
            "overflow_y": null,
            "padding": null,
            "right": null,
            "top": null,
            "visibility": null,
            "width": null
          }
        },
        "2f8049ee25af42c59f918214358ce14d": {
          "model_module": "@jupyter-widgets/controls",
          "model_name": "DescriptionStyleModel",
          "model_module_version": "1.5.0",
          "state": {
            "_model_module": "@jupyter-widgets/controls",
            "_model_module_version": "1.5.0",
            "_model_name": "DescriptionStyleModel",
            "_view_count": null,
            "_view_module": "@jupyter-widgets/base",
            "_view_module_version": "1.2.0",
            "_view_name": "StyleView",
            "description_width": ""
          }
        },
        "bed9d6741a2449b58436c85031fcd49f": {
          "model_module": "@jupyter-widgets/base",
          "model_name": "LayoutModel",
          "model_module_version": "1.2.0",
          "state": {
            "_model_module": "@jupyter-widgets/base",
            "_model_module_version": "1.2.0",
            "_model_name": "LayoutModel",
            "_view_count": null,
            "_view_module": "@jupyter-widgets/base",
            "_view_module_version": "1.2.0",
            "_view_name": "LayoutView",
            "align_content": null,
            "align_items": null,
            "align_self": null,
            "border": null,
            "bottom": null,
            "display": null,
            "flex": null,
            "flex_flow": null,
            "grid_area": null,
            "grid_auto_columns": null,
            "grid_auto_flow": null,
            "grid_auto_rows": null,
            "grid_column": null,
            "grid_gap": null,
            "grid_row": null,
            "grid_template_areas": null,
            "grid_template_columns": null,
            "grid_template_rows": null,
            "height": null,
            "justify_content": null,
            "justify_items": null,
            "left": null,
            "margin": null,
            "max_height": null,
            "max_width": null,
            "min_height": null,
            "min_width": null,
            "object_fit": null,
            "object_position": null,
            "order": null,
            "overflow": null,
            "overflow_x": null,
            "overflow_y": null,
            "padding": null,
            "right": null,
            "top": null,
            "visibility": null,
            "width": null
          }
        },
        "da3b3af5fb42457b82aa95ddf09244f7": {
          "model_module": "@jupyter-widgets/controls",
          "model_name": "ProgressStyleModel",
          "model_module_version": "1.5.0",
          "state": {
            "_model_module": "@jupyter-widgets/controls",
            "_model_module_version": "1.5.0",
            "_model_name": "ProgressStyleModel",
            "_view_count": null,
            "_view_module": "@jupyter-widgets/base",
            "_view_module_version": "1.2.0",
            "_view_name": "StyleView",
            "bar_color": null,
            "description_width": ""
          }
        },
        "da26abf0ee234a88bf9d7b836656cf09": {
          "model_module": "@jupyter-widgets/base",
          "model_name": "LayoutModel",
          "model_module_version": "1.2.0",
          "state": {
            "_model_module": "@jupyter-widgets/base",
            "_model_module_version": "1.2.0",
            "_model_name": "LayoutModel",
            "_view_count": null,
            "_view_module": "@jupyter-widgets/base",
            "_view_module_version": "1.2.0",
            "_view_name": "LayoutView",
            "align_content": null,
            "align_items": null,
            "align_self": null,
            "border": null,
            "bottom": null,
            "display": null,
            "flex": null,
            "flex_flow": null,
            "grid_area": null,
            "grid_auto_columns": null,
            "grid_auto_flow": null,
            "grid_auto_rows": null,
            "grid_column": null,
            "grid_gap": null,
            "grid_row": null,
            "grid_template_areas": null,
            "grid_template_columns": null,
            "grid_template_rows": null,
            "height": null,
            "justify_content": null,
            "justify_items": null,
            "left": null,
            "margin": null,
            "max_height": null,
            "max_width": null,
            "min_height": null,
            "min_width": null,
            "object_fit": null,
            "object_position": null,
            "order": null,
            "overflow": null,
            "overflow_x": null,
            "overflow_y": null,
            "padding": null,
            "right": null,
            "top": null,
            "visibility": null,
            "width": null
          }
        },
        "b44dd904967a410a922a45689387f449": {
          "model_module": "@jupyter-widgets/controls",
          "model_name": "DescriptionStyleModel",
          "model_module_version": "1.5.0",
          "state": {
            "_model_module": "@jupyter-widgets/controls",
            "_model_module_version": "1.5.0",
            "_model_name": "DescriptionStyleModel",
            "_view_count": null,
            "_view_module": "@jupyter-widgets/base",
            "_view_module_version": "1.2.0",
            "_view_name": "StyleView",
            "description_width": ""
          }
        },
        "42ed82c8cb70499b916875fec435d462": {
          "model_module": "@jupyter-widgets/controls",
          "model_name": "HBoxModel",
          "model_module_version": "1.5.0",
          "state": {
            "_dom_classes": [],
            "_model_module": "@jupyter-widgets/controls",
            "_model_module_version": "1.5.0",
            "_model_name": "HBoxModel",
            "_view_count": null,
            "_view_module": "@jupyter-widgets/controls",
            "_view_module_version": "1.5.0",
            "_view_name": "HBoxView",
            "box_style": "",
            "children": [
              "IPY_MODEL_027d2d21a1844f2fb82cc3cd03770c67",
              "IPY_MODEL_17365381c2c54fdfa8466f95adc961fe",
              "IPY_MODEL_17d81906279d4759a33051b52e02a67d"
            ],
            "layout": "IPY_MODEL_039741d1ad3049de8c7662757f1ed32c"
          }
        },
        "027d2d21a1844f2fb82cc3cd03770c67": {
          "model_module": "@jupyter-widgets/controls",
          "model_name": "HTMLModel",
          "model_module_version": "1.5.0",
          "state": {
            "_dom_classes": [],
            "_model_module": "@jupyter-widgets/controls",
            "_model_module_version": "1.5.0",
            "_model_name": "HTMLModel",
            "_view_count": null,
            "_view_module": "@jupyter-widgets/controls",
            "_view_module_version": "1.5.0",
            "_view_name": "HTMLView",
            "description": "",
            "description_tooltip": null,
            "layout": "IPY_MODEL_8421963915e147e8bca23fc628977377",
            "placeholder": "​",
            "style": "IPY_MODEL_ec9cd31f4f424bee91265552f1551432",
            "value": "tokenizer_config.json: 100%"
          }
        },
        "17365381c2c54fdfa8466f95adc961fe": {
          "model_module": "@jupyter-widgets/controls",
          "model_name": "FloatProgressModel",
          "model_module_version": "1.5.0",
          "state": {
            "_dom_classes": [],
            "_model_module": "@jupyter-widgets/controls",
            "_model_module_version": "1.5.0",
            "_model_name": "FloatProgressModel",
            "_view_count": null,
            "_view_module": "@jupyter-widgets/controls",
            "_view_module_version": "1.5.0",
            "_view_name": "ProgressView",
            "bar_style": "success",
            "description": "",
            "description_tooltip": null,
            "layout": "IPY_MODEL_3e5dd953fdfc47dabb5b96358ca18160",
            "max": 26,
            "min": 0,
            "orientation": "horizontal",
            "style": "IPY_MODEL_600a816698f5484695b71a49bb9d066a",
            "value": 26
          }
        },
        "17d81906279d4759a33051b52e02a67d": {
          "model_module": "@jupyter-widgets/controls",
          "model_name": "HTMLModel",
          "model_module_version": "1.5.0",
          "state": {
            "_dom_classes": [],
            "_model_module": "@jupyter-widgets/controls",
            "_model_module_version": "1.5.0",
            "_model_name": "HTMLModel",
            "_view_count": null,
            "_view_module": "@jupyter-widgets/controls",
            "_view_module_version": "1.5.0",
            "_view_name": "HTMLView",
            "description": "",
            "description_tooltip": null,
            "layout": "IPY_MODEL_2b8e02395054449c96713ffb772af3d6",
            "placeholder": "​",
            "style": "IPY_MODEL_3d0481f01b76441f8249b06687c253cb",
            "value": " 26.0/26.0 [00:00&lt;00:00, 523B/s]"
          }
        },
        "039741d1ad3049de8c7662757f1ed32c": {
          "model_module": "@jupyter-widgets/base",
          "model_name": "LayoutModel",
          "model_module_version": "1.2.0",
          "state": {
            "_model_module": "@jupyter-widgets/base",
            "_model_module_version": "1.2.0",
            "_model_name": "LayoutModel",
            "_view_count": null,
            "_view_module": "@jupyter-widgets/base",
            "_view_module_version": "1.2.0",
            "_view_name": "LayoutView",
            "align_content": null,
            "align_items": null,
            "align_self": null,
            "border": null,
            "bottom": null,
            "display": null,
            "flex": null,
            "flex_flow": null,
            "grid_area": null,
            "grid_auto_columns": null,
            "grid_auto_flow": null,
            "grid_auto_rows": null,
            "grid_column": null,
            "grid_gap": null,
            "grid_row": null,
            "grid_template_areas": null,
            "grid_template_columns": null,
            "grid_template_rows": null,
            "height": null,
            "justify_content": null,
            "justify_items": null,
            "left": null,
            "margin": null,
            "max_height": null,
            "max_width": null,
            "min_height": null,
            "min_width": null,
            "object_fit": null,
            "object_position": null,
            "order": null,
            "overflow": null,
            "overflow_x": null,
            "overflow_y": null,
            "padding": null,
            "right": null,
            "top": null,
            "visibility": null,
            "width": null
          }
        },
        "8421963915e147e8bca23fc628977377": {
          "model_module": "@jupyter-widgets/base",
          "model_name": "LayoutModel",
          "model_module_version": "1.2.0",
          "state": {
            "_model_module": "@jupyter-widgets/base",
            "_model_module_version": "1.2.0",
            "_model_name": "LayoutModel",
            "_view_count": null,
            "_view_module": "@jupyter-widgets/base",
            "_view_module_version": "1.2.0",
            "_view_name": "LayoutView",
            "align_content": null,
            "align_items": null,
            "align_self": null,
            "border": null,
            "bottom": null,
            "display": null,
            "flex": null,
            "flex_flow": null,
            "grid_area": null,
            "grid_auto_columns": null,
            "grid_auto_flow": null,
            "grid_auto_rows": null,
            "grid_column": null,
            "grid_gap": null,
            "grid_row": null,
            "grid_template_areas": null,
            "grid_template_columns": null,
            "grid_template_rows": null,
            "height": null,
            "justify_content": null,
            "justify_items": null,
            "left": null,
            "margin": null,
            "max_height": null,
            "max_width": null,
            "min_height": null,
            "min_width": null,
            "object_fit": null,
            "object_position": null,
            "order": null,
            "overflow": null,
            "overflow_x": null,
            "overflow_y": null,
            "padding": null,
            "right": null,
            "top": null,
            "visibility": null,
            "width": null
          }
        },
        "ec9cd31f4f424bee91265552f1551432": {
          "model_module": "@jupyter-widgets/controls",
          "model_name": "DescriptionStyleModel",
          "model_module_version": "1.5.0",
          "state": {
            "_model_module": "@jupyter-widgets/controls",
            "_model_module_version": "1.5.0",
            "_model_name": "DescriptionStyleModel",
            "_view_count": null,
            "_view_module": "@jupyter-widgets/base",
            "_view_module_version": "1.2.0",
            "_view_name": "StyleView",
            "description_width": ""
          }
        },
        "3e5dd953fdfc47dabb5b96358ca18160": {
          "model_module": "@jupyter-widgets/base",
          "model_name": "LayoutModel",
          "model_module_version": "1.2.0",
          "state": {
            "_model_module": "@jupyter-widgets/base",
            "_model_module_version": "1.2.0",
            "_model_name": "LayoutModel",
            "_view_count": null,
            "_view_module": "@jupyter-widgets/base",
            "_view_module_version": "1.2.0",
            "_view_name": "LayoutView",
            "align_content": null,
            "align_items": null,
            "align_self": null,
            "border": null,
            "bottom": null,
            "display": null,
            "flex": null,
            "flex_flow": null,
            "grid_area": null,
            "grid_auto_columns": null,
            "grid_auto_flow": null,
            "grid_auto_rows": null,
            "grid_column": null,
            "grid_gap": null,
            "grid_row": null,
            "grid_template_areas": null,
            "grid_template_columns": null,
            "grid_template_rows": null,
            "height": null,
            "justify_content": null,
            "justify_items": null,
            "left": null,
            "margin": null,
            "max_height": null,
            "max_width": null,
            "min_height": null,
            "min_width": null,
            "object_fit": null,
            "object_position": null,
            "order": null,
            "overflow": null,
            "overflow_x": null,
            "overflow_y": null,
            "padding": null,
            "right": null,
            "top": null,
            "visibility": null,
            "width": null
          }
        },
        "600a816698f5484695b71a49bb9d066a": {
          "model_module": "@jupyter-widgets/controls",
          "model_name": "ProgressStyleModel",
          "model_module_version": "1.5.0",
          "state": {
            "_model_module": "@jupyter-widgets/controls",
            "_model_module_version": "1.5.0",
            "_model_name": "ProgressStyleModel",
            "_view_count": null,
            "_view_module": "@jupyter-widgets/base",
            "_view_module_version": "1.2.0",
            "_view_name": "StyleView",
            "bar_color": null,
            "description_width": ""
          }
        },
        "2b8e02395054449c96713ffb772af3d6": {
          "model_module": "@jupyter-widgets/base",
          "model_name": "LayoutModel",
          "model_module_version": "1.2.0",
          "state": {
            "_model_module": "@jupyter-widgets/base",
            "_model_module_version": "1.2.0",
            "_model_name": "LayoutModel",
            "_view_count": null,
            "_view_module": "@jupyter-widgets/base",
            "_view_module_version": "1.2.0",
            "_view_name": "LayoutView",
            "align_content": null,
            "align_items": null,
            "align_self": null,
            "border": null,
            "bottom": null,
            "display": null,
            "flex": null,
            "flex_flow": null,
            "grid_area": null,
            "grid_auto_columns": null,
            "grid_auto_flow": null,
            "grid_auto_rows": null,
            "grid_column": null,
            "grid_gap": null,
            "grid_row": null,
            "grid_template_areas": null,
            "grid_template_columns": null,
            "grid_template_rows": null,
            "height": null,
            "justify_content": null,
            "justify_items": null,
            "left": null,
            "margin": null,
            "max_height": null,
            "max_width": null,
            "min_height": null,
            "min_width": null,
            "object_fit": null,
            "object_position": null,
            "order": null,
            "overflow": null,
            "overflow_x": null,
            "overflow_y": null,
            "padding": null,
            "right": null,
            "top": null,
            "visibility": null,
            "width": null
          }
        },
        "3d0481f01b76441f8249b06687c253cb": {
          "model_module": "@jupyter-widgets/controls",
          "model_name": "DescriptionStyleModel",
          "model_module_version": "1.5.0",
          "state": {
            "_model_module": "@jupyter-widgets/controls",
            "_model_module_version": "1.5.0",
            "_model_name": "DescriptionStyleModel",
            "_view_count": null,
            "_view_module": "@jupyter-widgets/base",
            "_view_module_version": "1.2.0",
            "_view_name": "StyleView",
            "description_width": ""
          }
        },
        "8a4c2c8dce4a4d2bbb7a21a4e4cc0550": {
          "model_module": "@jupyter-widgets/controls",
          "model_name": "HBoxModel",
          "model_module_version": "1.5.0",
          "state": {
            "_dom_classes": [],
            "_model_module": "@jupyter-widgets/controls",
            "_model_module_version": "1.5.0",
            "_model_name": "HBoxModel",
            "_view_count": null,
            "_view_module": "@jupyter-widgets/controls",
            "_view_module_version": "1.5.0",
            "_view_name": "HBoxView",
            "box_style": "",
            "children": [
              "IPY_MODEL_6982ed64b16f4380a031f8ea4766825e",
              "IPY_MODEL_02b73991d629433cb913e154f706c731",
              "IPY_MODEL_77ac5511715a45f6a527313a965f923a"
            ],
            "layout": "IPY_MODEL_e70e4bb14f224d0f9068fcb5cec9aef4"
          }
        },
        "6982ed64b16f4380a031f8ea4766825e": {
          "model_module": "@jupyter-widgets/controls",
          "model_name": "HTMLModel",
          "model_module_version": "1.5.0",
          "state": {
            "_dom_classes": [],
            "_model_module": "@jupyter-widgets/controls",
            "_model_module_version": "1.5.0",
            "_model_name": "HTMLModel",
            "_view_count": null,
            "_view_module": "@jupyter-widgets/controls",
            "_view_module_version": "1.5.0",
            "_view_name": "HTMLView",
            "description": "",
            "description_tooltip": null,
            "layout": "IPY_MODEL_578da42bf2444714bb1c0b4b00efeae3",
            "placeholder": "​",
            "style": "IPY_MODEL_99796281eb4a4052b73f402a068ee9e1",
            "value": "vocab.json: 100%"
          }
        },
        "02b73991d629433cb913e154f706c731": {
          "model_module": "@jupyter-widgets/controls",
          "model_name": "FloatProgressModel",
          "model_module_version": "1.5.0",
          "state": {
            "_dom_classes": [],
            "_model_module": "@jupyter-widgets/controls",
            "_model_module_version": "1.5.0",
            "_model_name": "FloatProgressModel",
            "_view_count": null,
            "_view_module": "@jupyter-widgets/controls",
            "_view_module_version": "1.5.0",
            "_view_name": "ProgressView",
            "bar_style": "success",
            "description": "",
            "description_tooltip": null,
            "layout": "IPY_MODEL_3a1fc2ea743a4722bd36c636b1e08d5d",
            "max": 1042301,
            "min": 0,
            "orientation": "horizontal",
            "style": "IPY_MODEL_b34224f8969944d1a4ed29f37d5b2197",
            "value": 1042301
          }
        },
        "77ac5511715a45f6a527313a965f923a": {
          "model_module": "@jupyter-widgets/controls",
          "model_name": "HTMLModel",
          "model_module_version": "1.5.0",
          "state": {
            "_dom_classes": [],
            "_model_module": "@jupyter-widgets/controls",
            "_model_module_version": "1.5.0",
            "_model_name": "HTMLModel",
            "_view_count": null,
            "_view_module": "@jupyter-widgets/controls",
            "_view_module_version": "1.5.0",
            "_view_name": "HTMLView",
            "description": "",
            "description_tooltip": null,
            "layout": "IPY_MODEL_4f70db78f2114884a842b148c8aadcea",
            "placeholder": "​",
            "style": "IPY_MODEL_b3babfa737d745068372465a53734a68",
            "value": " 1.04M/1.04M [00:00&lt;00:00, 3.57MB/s]"
          }
        },
        "e70e4bb14f224d0f9068fcb5cec9aef4": {
          "model_module": "@jupyter-widgets/base",
          "model_name": "LayoutModel",
          "model_module_version": "1.2.0",
          "state": {
            "_model_module": "@jupyter-widgets/base",
            "_model_module_version": "1.2.0",
            "_model_name": "LayoutModel",
            "_view_count": null,
            "_view_module": "@jupyter-widgets/base",
            "_view_module_version": "1.2.0",
            "_view_name": "LayoutView",
            "align_content": null,
            "align_items": null,
            "align_self": null,
            "border": null,
            "bottom": null,
            "display": null,
            "flex": null,
            "flex_flow": null,
            "grid_area": null,
            "grid_auto_columns": null,
            "grid_auto_flow": null,
            "grid_auto_rows": null,
            "grid_column": null,
            "grid_gap": null,
            "grid_row": null,
            "grid_template_areas": null,
            "grid_template_columns": null,
            "grid_template_rows": null,
            "height": null,
            "justify_content": null,
            "justify_items": null,
            "left": null,
            "margin": null,
            "max_height": null,
            "max_width": null,
            "min_height": null,
            "min_width": null,
            "object_fit": null,
            "object_position": null,
            "order": null,
            "overflow": null,
            "overflow_x": null,
            "overflow_y": null,
            "padding": null,
            "right": null,
            "top": null,
            "visibility": null,
            "width": null
          }
        },
        "578da42bf2444714bb1c0b4b00efeae3": {
          "model_module": "@jupyter-widgets/base",
          "model_name": "LayoutModel",
          "model_module_version": "1.2.0",
          "state": {
            "_model_module": "@jupyter-widgets/base",
            "_model_module_version": "1.2.0",
            "_model_name": "LayoutModel",
            "_view_count": null,
            "_view_module": "@jupyter-widgets/base",
            "_view_module_version": "1.2.0",
            "_view_name": "LayoutView",
            "align_content": null,
            "align_items": null,
            "align_self": null,
            "border": null,
            "bottom": null,
            "display": null,
            "flex": null,
            "flex_flow": null,
            "grid_area": null,
            "grid_auto_columns": null,
            "grid_auto_flow": null,
            "grid_auto_rows": null,
            "grid_column": null,
            "grid_gap": null,
            "grid_row": null,
            "grid_template_areas": null,
            "grid_template_columns": null,
            "grid_template_rows": null,
            "height": null,
            "justify_content": null,
            "justify_items": null,
            "left": null,
            "margin": null,
            "max_height": null,
            "max_width": null,
            "min_height": null,
            "min_width": null,
            "object_fit": null,
            "object_position": null,
            "order": null,
            "overflow": null,
            "overflow_x": null,
            "overflow_y": null,
            "padding": null,
            "right": null,
            "top": null,
            "visibility": null,
            "width": null
          }
        },
        "99796281eb4a4052b73f402a068ee9e1": {
          "model_module": "@jupyter-widgets/controls",
          "model_name": "DescriptionStyleModel",
          "model_module_version": "1.5.0",
          "state": {
            "_model_module": "@jupyter-widgets/controls",
            "_model_module_version": "1.5.0",
            "_model_name": "DescriptionStyleModel",
            "_view_count": null,
            "_view_module": "@jupyter-widgets/base",
            "_view_module_version": "1.2.0",
            "_view_name": "StyleView",
            "description_width": ""
          }
        },
        "3a1fc2ea743a4722bd36c636b1e08d5d": {
          "model_module": "@jupyter-widgets/base",
          "model_name": "LayoutModel",
          "model_module_version": "1.2.0",
          "state": {
            "_model_module": "@jupyter-widgets/base",
            "_model_module_version": "1.2.0",
            "_model_name": "LayoutModel",
            "_view_count": null,
            "_view_module": "@jupyter-widgets/base",
            "_view_module_version": "1.2.0",
            "_view_name": "LayoutView",
            "align_content": null,
            "align_items": null,
            "align_self": null,
            "border": null,
            "bottom": null,
            "display": null,
            "flex": null,
            "flex_flow": null,
            "grid_area": null,
            "grid_auto_columns": null,
            "grid_auto_flow": null,
            "grid_auto_rows": null,
            "grid_column": null,
            "grid_gap": null,
            "grid_row": null,
            "grid_template_areas": null,
            "grid_template_columns": null,
            "grid_template_rows": null,
            "height": null,
            "justify_content": null,
            "justify_items": null,
            "left": null,
            "margin": null,
            "max_height": null,
            "max_width": null,
            "min_height": null,
            "min_width": null,
            "object_fit": null,
            "object_position": null,
            "order": null,
            "overflow": null,
            "overflow_x": null,
            "overflow_y": null,
            "padding": null,
            "right": null,
            "top": null,
            "visibility": null,
            "width": null
          }
        },
        "b34224f8969944d1a4ed29f37d5b2197": {
          "model_module": "@jupyter-widgets/controls",
          "model_name": "ProgressStyleModel",
          "model_module_version": "1.5.0",
          "state": {
            "_model_module": "@jupyter-widgets/controls",
            "_model_module_version": "1.5.0",
            "_model_name": "ProgressStyleModel",
            "_view_count": null,
            "_view_module": "@jupyter-widgets/base",
            "_view_module_version": "1.2.0",
            "_view_name": "StyleView",
            "bar_color": null,
            "description_width": ""
          }
        },
        "4f70db78f2114884a842b148c8aadcea": {
          "model_module": "@jupyter-widgets/base",
          "model_name": "LayoutModel",
          "model_module_version": "1.2.0",
          "state": {
            "_model_module": "@jupyter-widgets/base",
            "_model_module_version": "1.2.0",
            "_model_name": "LayoutModel",
            "_view_count": null,
            "_view_module": "@jupyter-widgets/base",
            "_view_module_version": "1.2.0",
            "_view_name": "LayoutView",
            "align_content": null,
            "align_items": null,
            "align_self": null,
            "border": null,
            "bottom": null,
            "display": null,
            "flex": null,
            "flex_flow": null,
            "grid_area": null,
            "grid_auto_columns": null,
            "grid_auto_flow": null,
            "grid_auto_rows": null,
            "grid_column": null,
            "grid_gap": null,
            "grid_row": null,
            "grid_template_areas": null,
            "grid_template_columns": null,
            "grid_template_rows": null,
            "height": null,
            "justify_content": null,
            "justify_items": null,
            "left": null,
            "margin": null,
            "max_height": null,
            "max_width": null,
            "min_height": null,
            "min_width": null,
            "object_fit": null,
            "object_position": null,
            "order": null,
            "overflow": null,
            "overflow_x": null,
            "overflow_y": null,
            "padding": null,
            "right": null,
            "top": null,
            "visibility": null,
            "width": null
          }
        },
        "b3babfa737d745068372465a53734a68": {
          "model_module": "@jupyter-widgets/controls",
          "model_name": "DescriptionStyleModel",
          "model_module_version": "1.5.0",
          "state": {
            "_model_module": "@jupyter-widgets/controls",
            "_model_module_version": "1.5.0",
            "_model_name": "DescriptionStyleModel",
            "_view_count": null,
            "_view_module": "@jupyter-widgets/base",
            "_view_module_version": "1.2.0",
            "_view_name": "StyleView",
            "description_width": ""
          }
        },
        "9607c1df35084b52b1062414b497207a": {
          "model_module": "@jupyter-widgets/controls",
          "model_name": "HBoxModel",
          "model_module_version": "1.5.0",
          "state": {
            "_dom_classes": [],
            "_model_module": "@jupyter-widgets/controls",
            "_model_module_version": "1.5.0",
            "_model_name": "HBoxModel",
            "_view_count": null,
            "_view_module": "@jupyter-widgets/controls",
            "_view_module_version": "1.5.0",
            "_view_name": "HBoxView",
            "box_style": "",
            "children": [
              "IPY_MODEL_8221b19b445548ab9bad6af1ae529b28",
              "IPY_MODEL_c108151c3538466bb0cbd0fb2464bd19",
              "IPY_MODEL_047951d012ad41cdafe7236b4520b80b"
            ],
            "layout": "IPY_MODEL_f43229a15b5841f1ae4767a386d53862"
          }
        },
        "8221b19b445548ab9bad6af1ae529b28": {
          "model_module": "@jupyter-widgets/controls",
          "model_name": "HTMLModel",
          "model_module_version": "1.5.0",
          "state": {
            "_dom_classes": [],
            "_model_module": "@jupyter-widgets/controls",
            "_model_module_version": "1.5.0",
            "_model_name": "HTMLModel",
            "_view_count": null,
            "_view_module": "@jupyter-widgets/controls",
            "_view_module_version": "1.5.0",
            "_view_name": "HTMLView",
            "description": "",
            "description_tooltip": null,
            "layout": "IPY_MODEL_8915f0b2790f449e9601e29726cd2b7a",
            "placeholder": "​",
            "style": "IPY_MODEL_1ad609a5529e4e87ade6f7ffa920c811",
            "value": "merges.txt: 100%"
          }
        },
        "c108151c3538466bb0cbd0fb2464bd19": {
          "model_module": "@jupyter-widgets/controls",
          "model_name": "FloatProgressModel",
          "model_module_version": "1.5.0",
          "state": {
            "_dom_classes": [],
            "_model_module": "@jupyter-widgets/controls",
            "_model_module_version": "1.5.0",
            "_model_name": "FloatProgressModel",
            "_view_count": null,
            "_view_module": "@jupyter-widgets/controls",
            "_view_module_version": "1.5.0",
            "_view_name": "ProgressView",
            "bar_style": "success",
            "description": "",
            "description_tooltip": null,
            "layout": "IPY_MODEL_9c5f592e767945e9b672ca49c6797af4",
            "max": 456318,
            "min": 0,
            "orientation": "horizontal",
            "style": "IPY_MODEL_3e5dc839ec464828b59c98bcd43076b3",
            "value": 456318
          }
        },
        "047951d012ad41cdafe7236b4520b80b": {
          "model_module": "@jupyter-widgets/controls",
          "model_name": "HTMLModel",
          "model_module_version": "1.5.0",
          "state": {
            "_dom_classes": [],
            "_model_module": "@jupyter-widgets/controls",
            "_model_module_version": "1.5.0",
            "_model_name": "HTMLModel",
            "_view_count": null,
            "_view_module": "@jupyter-widgets/controls",
            "_view_module_version": "1.5.0",
            "_view_name": "HTMLView",
            "description": "",
            "description_tooltip": null,
            "layout": "IPY_MODEL_fe1ffc82906f4618bec9c71e67a40b46",
            "placeholder": "​",
            "style": "IPY_MODEL_f78871179d6f4e538aa683fa462bc7cd",
            "value": " 456k/456k [00:00&lt;00:00, 5.31MB/s]"
          }
        },
        "f43229a15b5841f1ae4767a386d53862": {
          "model_module": "@jupyter-widgets/base",
          "model_name": "LayoutModel",
          "model_module_version": "1.2.0",
          "state": {
            "_model_module": "@jupyter-widgets/base",
            "_model_module_version": "1.2.0",
            "_model_name": "LayoutModel",
            "_view_count": null,
            "_view_module": "@jupyter-widgets/base",
            "_view_module_version": "1.2.0",
            "_view_name": "LayoutView",
            "align_content": null,
            "align_items": null,
            "align_self": null,
            "border": null,
            "bottom": null,
            "display": null,
            "flex": null,
            "flex_flow": null,
            "grid_area": null,
            "grid_auto_columns": null,
            "grid_auto_flow": null,
            "grid_auto_rows": null,
            "grid_column": null,
            "grid_gap": null,
            "grid_row": null,
            "grid_template_areas": null,
            "grid_template_columns": null,
            "grid_template_rows": null,
            "height": null,
            "justify_content": null,
            "justify_items": null,
            "left": null,
            "margin": null,
            "max_height": null,
            "max_width": null,
            "min_height": null,
            "min_width": null,
            "object_fit": null,
            "object_position": null,
            "order": null,
            "overflow": null,
            "overflow_x": null,
            "overflow_y": null,
            "padding": null,
            "right": null,
            "top": null,
            "visibility": null,
            "width": null
          }
        },
        "8915f0b2790f449e9601e29726cd2b7a": {
          "model_module": "@jupyter-widgets/base",
          "model_name": "LayoutModel",
          "model_module_version": "1.2.0",
          "state": {
            "_model_module": "@jupyter-widgets/base",
            "_model_module_version": "1.2.0",
            "_model_name": "LayoutModel",
            "_view_count": null,
            "_view_module": "@jupyter-widgets/base",
            "_view_module_version": "1.2.0",
            "_view_name": "LayoutView",
            "align_content": null,
            "align_items": null,
            "align_self": null,
            "border": null,
            "bottom": null,
            "display": null,
            "flex": null,
            "flex_flow": null,
            "grid_area": null,
            "grid_auto_columns": null,
            "grid_auto_flow": null,
            "grid_auto_rows": null,
            "grid_column": null,
            "grid_gap": null,
            "grid_row": null,
            "grid_template_areas": null,
            "grid_template_columns": null,
            "grid_template_rows": null,
            "height": null,
            "justify_content": null,
            "justify_items": null,
            "left": null,
            "margin": null,
            "max_height": null,
            "max_width": null,
            "min_height": null,
            "min_width": null,
            "object_fit": null,
            "object_position": null,
            "order": null,
            "overflow": null,
            "overflow_x": null,
            "overflow_y": null,
            "padding": null,
            "right": null,
            "top": null,
            "visibility": null,
            "width": null
          }
        },
        "1ad609a5529e4e87ade6f7ffa920c811": {
          "model_module": "@jupyter-widgets/controls",
          "model_name": "DescriptionStyleModel",
          "model_module_version": "1.5.0",
          "state": {
            "_model_module": "@jupyter-widgets/controls",
            "_model_module_version": "1.5.0",
            "_model_name": "DescriptionStyleModel",
            "_view_count": null,
            "_view_module": "@jupyter-widgets/base",
            "_view_module_version": "1.2.0",
            "_view_name": "StyleView",
            "description_width": ""
          }
        },
        "9c5f592e767945e9b672ca49c6797af4": {
          "model_module": "@jupyter-widgets/base",
          "model_name": "LayoutModel",
          "model_module_version": "1.2.0",
          "state": {
            "_model_module": "@jupyter-widgets/base",
            "_model_module_version": "1.2.0",
            "_model_name": "LayoutModel",
            "_view_count": null,
            "_view_module": "@jupyter-widgets/base",
            "_view_module_version": "1.2.0",
            "_view_name": "LayoutView",
            "align_content": null,
            "align_items": null,
            "align_self": null,
            "border": null,
            "bottom": null,
            "display": null,
            "flex": null,
            "flex_flow": null,
            "grid_area": null,
            "grid_auto_columns": null,
            "grid_auto_flow": null,
            "grid_auto_rows": null,
            "grid_column": null,
            "grid_gap": null,
            "grid_row": null,
            "grid_template_areas": null,
            "grid_template_columns": null,
            "grid_template_rows": null,
            "height": null,
            "justify_content": null,
            "justify_items": null,
            "left": null,
            "margin": null,
            "max_height": null,
            "max_width": null,
            "min_height": null,
            "min_width": null,
            "object_fit": null,
            "object_position": null,
            "order": null,
            "overflow": null,
            "overflow_x": null,
            "overflow_y": null,
            "padding": null,
            "right": null,
            "top": null,
            "visibility": null,
            "width": null
          }
        },
        "3e5dc839ec464828b59c98bcd43076b3": {
          "model_module": "@jupyter-widgets/controls",
          "model_name": "ProgressStyleModel",
          "model_module_version": "1.5.0",
          "state": {
            "_model_module": "@jupyter-widgets/controls",
            "_model_module_version": "1.5.0",
            "_model_name": "ProgressStyleModel",
            "_view_count": null,
            "_view_module": "@jupyter-widgets/base",
            "_view_module_version": "1.2.0",
            "_view_name": "StyleView",
            "bar_color": null,
            "description_width": ""
          }
        },
        "fe1ffc82906f4618bec9c71e67a40b46": {
          "model_module": "@jupyter-widgets/base",
          "model_name": "LayoutModel",
          "model_module_version": "1.2.0",
          "state": {
            "_model_module": "@jupyter-widgets/base",
            "_model_module_version": "1.2.0",
            "_model_name": "LayoutModel",
            "_view_count": null,
            "_view_module": "@jupyter-widgets/base",
            "_view_module_version": "1.2.0",
            "_view_name": "LayoutView",
            "align_content": null,
            "align_items": null,
            "align_self": null,
            "border": null,
            "bottom": null,
            "display": null,
            "flex": null,
            "flex_flow": null,
            "grid_area": null,
            "grid_auto_columns": null,
            "grid_auto_flow": null,
            "grid_auto_rows": null,
            "grid_column": null,
            "grid_gap": null,
            "grid_row": null,
            "grid_template_areas": null,
            "grid_template_columns": null,
            "grid_template_rows": null,
            "height": null,
            "justify_content": null,
            "justify_items": null,
            "left": null,
            "margin": null,
            "max_height": null,
            "max_width": null,
            "min_height": null,
            "min_width": null,
            "object_fit": null,
            "object_position": null,
            "order": null,
            "overflow": null,
            "overflow_x": null,
            "overflow_y": null,
            "padding": null,
            "right": null,
            "top": null,
            "visibility": null,
            "width": null
          }
        },
        "f78871179d6f4e538aa683fa462bc7cd": {
          "model_module": "@jupyter-widgets/controls",
          "model_name": "DescriptionStyleModel",
          "model_module_version": "1.5.0",
          "state": {
            "_model_module": "@jupyter-widgets/controls",
            "_model_module_version": "1.5.0",
            "_model_name": "DescriptionStyleModel",
            "_view_count": null,
            "_view_module": "@jupyter-widgets/base",
            "_view_module_version": "1.2.0",
            "_view_name": "StyleView",
            "description_width": ""
          }
        },
        "f1450a772c954a22acd2e92b24705287": {
          "model_module": "@jupyter-widgets/controls",
          "model_name": "HBoxModel",
          "model_module_version": "1.5.0",
          "state": {
            "_dom_classes": [],
            "_model_module": "@jupyter-widgets/controls",
            "_model_module_version": "1.5.0",
            "_model_name": "HBoxModel",
            "_view_count": null,
            "_view_module": "@jupyter-widgets/controls",
            "_view_module_version": "1.5.0",
            "_view_name": "HBoxView",
            "box_style": "",
            "children": [
              "IPY_MODEL_b0084bed23554b11bb2ac3813f8d0b62",
              "IPY_MODEL_99d43d1bca4843819b065ca9143d4096",
              "IPY_MODEL_bb73283c277a42ccb8370596b895af08"
            ],
            "layout": "IPY_MODEL_95233fcca50e4c6e8d5b3fdc23d58eb5"
          }
        },
        "b0084bed23554b11bb2ac3813f8d0b62": {
          "model_module": "@jupyter-widgets/controls",
          "model_name": "HTMLModel",
          "model_module_version": "1.5.0",
          "state": {
            "_dom_classes": [],
            "_model_module": "@jupyter-widgets/controls",
            "_model_module_version": "1.5.0",
            "_model_name": "HTMLModel",
            "_view_count": null,
            "_view_module": "@jupyter-widgets/controls",
            "_view_module_version": "1.5.0",
            "_view_name": "HTMLView",
            "description": "",
            "description_tooltip": null,
            "layout": "IPY_MODEL_4cbfb1dea21a414c8ab30aa7e9c65905",
            "placeholder": "​",
            "style": "IPY_MODEL_8c379b6a7b0b445d83110b7bbf4bc282",
            "value": "tokenizer.json: 100%"
          }
        },
        "99d43d1bca4843819b065ca9143d4096": {
          "model_module": "@jupyter-widgets/controls",
          "model_name": "FloatProgressModel",
          "model_module_version": "1.5.0",
          "state": {
            "_dom_classes": [],
            "_model_module": "@jupyter-widgets/controls",
            "_model_module_version": "1.5.0",
            "_model_name": "FloatProgressModel",
            "_view_count": null,
            "_view_module": "@jupyter-widgets/controls",
            "_view_module_version": "1.5.0",
            "_view_name": "ProgressView",
            "bar_style": "success",
            "description": "",
            "description_tooltip": null,
            "layout": "IPY_MODEL_859a1241bcda44e08d86a42b81fbc1c5",
            "max": 1355256,
            "min": 0,
            "orientation": "horizontal",
            "style": "IPY_MODEL_f053984c2e084c47823a7ec6dc303d28",
            "value": 1355256
          }
        },
        "bb73283c277a42ccb8370596b895af08": {
          "model_module": "@jupyter-widgets/controls",
          "model_name": "HTMLModel",
          "model_module_version": "1.5.0",
          "state": {
            "_dom_classes": [],
            "_model_module": "@jupyter-widgets/controls",
            "_model_module_version": "1.5.0",
            "_model_name": "HTMLModel",
            "_view_count": null,
            "_view_module": "@jupyter-widgets/controls",
            "_view_module_version": "1.5.0",
            "_view_name": "HTMLView",
            "description": "",
            "description_tooltip": null,
            "layout": "IPY_MODEL_e6e1047bf3a74bb2a5a6b948ccf2c6d5",
            "placeholder": "​",
            "style": "IPY_MODEL_7277da20e5ae4601bdf14e7842a206e9",
            "value": " 1.36M/1.36M [00:00&lt;00:00, 13.2MB/s]"
          }
        },
        "95233fcca50e4c6e8d5b3fdc23d58eb5": {
          "model_module": "@jupyter-widgets/base",
          "model_name": "LayoutModel",
          "model_module_version": "1.2.0",
          "state": {
            "_model_module": "@jupyter-widgets/base",
            "_model_module_version": "1.2.0",
            "_model_name": "LayoutModel",
            "_view_count": null,
            "_view_module": "@jupyter-widgets/base",
            "_view_module_version": "1.2.0",
            "_view_name": "LayoutView",
            "align_content": null,
            "align_items": null,
            "align_self": null,
            "border": null,
            "bottom": null,
            "display": null,
            "flex": null,
            "flex_flow": null,
            "grid_area": null,
            "grid_auto_columns": null,
            "grid_auto_flow": null,
            "grid_auto_rows": null,
            "grid_column": null,
            "grid_gap": null,
            "grid_row": null,
            "grid_template_areas": null,
            "grid_template_columns": null,
            "grid_template_rows": null,
            "height": null,
            "justify_content": null,
            "justify_items": null,
            "left": null,
            "margin": null,
            "max_height": null,
            "max_width": null,
            "min_height": null,
            "min_width": null,
            "object_fit": null,
            "object_position": null,
            "order": null,
            "overflow": null,
            "overflow_x": null,
            "overflow_y": null,
            "padding": null,
            "right": null,
            "top": null,
            "visibility": null,
            "width": null
          }
        },
        "4cbfb1dea21a414c8ab30aa7e9c65905": {
          "model_module": "@jupyter-widgets/base",
          "model_name": "LayoutModel",
          "model_module_version": "1.2.0",
          "state": {
            "_model_module": "@jupyter-widgets/base",
            "_model_module_version": "1.2.0",
            "_model_name": "LayoutModel",
            "_view_count": null,
            "_view_module": "@jupyter-widgets/base",
            "_view_module_version": "1.2.0",
            "_view_name": "LayoutView",
            "align_content": null,
            "align_items": null,
            "align_self": null,
            "border": null,
            "bottom": null,
            "display": null,
            "flex": null,
            "flex_flow": null,
            "grid_area": null,
            "grid_auto_columns": null,
            "grid_auto_flow": null,
            "grid_auto_rows": null,
            "grid_column": null,
            "grid_gap": null,
            "grid_row": null,
            "grid_template_areas": null,
            "grid_template_columns": null,
            "grid_template_rows": null,
            "height": null,
            "justify_content": null,
            "justify_items": null,
            "left": null,
            "margin": null,
            "max_height": null,
            "max_width": null,
            "min_height": null,
            "min_width": null,
            "object_fit": null,
            "object_position": null,
            "order": null,
            "overflow": null,
            "overflow_x": null,
            "overflow_y": null,
            "padding": null,
            "right": null,
            "top": null,
            "visibility": null,
            "width": null
          }
        },
        "8c379b6a7b0b445d83110b7bbf4bc282": {
          "model_module": "@jupyter-widgets/controls",
          "model_name": "DescriptionStyleModel",
          "model_module_version": "1.5.0",
          "state": {
            "_model_module": "@jupyter-widgets/controls",
            "_model_module_version": "1.5.0",
            "_model_name": "DescriptionStyleModel",
            "_view_count": null,
            "_view_module": "@jupyter-widgets/base",
            "_view_module_version": "1.2.0",
            "_view_name": "StyleView",
            "description_width": ""
          }
        },
        "859a1241bcda44e08d86a42b81fbc1c5": {
          "model_module": "@jupyter-widgets/base",
          "model_name": "LayoutModel",
          "model_module_version": "1.2.0",
          "state": {
            "_model_module": "@jupyter-widgets/base",
            "_model_module_version": "1.2.0",
            "_model_name": "LayoutModel",
            "_view_count": null,
            "_view_module": "@jupyter-widgets/base",
            "_view_module_version": "1.2.0",
            "_view_name": "LayoutView",
            "align_content": null,
            "align_items": null,
            "align_self": null,
            "border": null,
            "bottom": null,
            "display": null,
            "flex": null,
            "flex_flow": null,
            "grid_area": null,
            "grid_auto_columns": null,
            "grid_auto_flow": null,
            "grid_auto_rows": null,
            "grid_column": null,
            "grid_gap": null,
            "grid_row": null,
            "grid_template_areas": null,
            "grid_template_columns": null,
            "grid_template_rows": null,
            "height": null,
            "justify_content": null,
            "justify_items": null,
            "left": null,
            "margin": null,
            "max_height": null,
            "max_width": null,
            "min_height": null,
            "min_width": null,
            "object_fit": null,
            "object_position": null,
            "order": null,
            "overflow": null,
            "overflow_x": null,
            "overflow_y": null,
            "padding": null,
            "right": null,
            "top": null,
            "visibility": null,
            "width": null
          }
        },
        "f053984c2e084c47823a7ec6dc303d28": {
          "model_module": "@jupyter-widgets/controls",
          "model_name": "ProgressStyleModel",
          "model_module_version": "1.5.0",
          "state": {
            "_model_module": "@jupyter-widgets/controls",
            "_model_module_version": "1.5.0",
            "_model_name": "ProgressStyleModel",
            "_view_count": null,
            "_view_module": "@jupyter-widgets/base",
            "_view_module_version": "1.2.0",
            "_view_name": "StyleView",
            "bar_color": null,
            "description_width": ""
          }
        },
        "e6e1047bf3a74bb2a5a6b948ccf2c6d5": {
          "model_module": "@jupyter-widgets/base",
          "model_name": "LayoutModel",
          "model_module_version": "1.2.0",
          "state": {
            "_model_module": "@jupyter-widgets/base",
            "_model_module_version": "1.2.0",
            "_model_name": "LayoutModel",
            "_view_count": null,
            "_view_module": "@jupyter-widgets/base",
            "_view_module_version": "1.2.0",
            "_view_name": "LayoutView",
            "align_content": null,
            "align_items": null,
            "align_self": null,
            "border": null,
            "bottom": null,
            "display": null,
            "flex": null,
            "flex_flow": null,
            "grid_area": null,
            "grid_auto_columns": null,
            "grid_auto_flow": null,
            "grid_auto_rows": null,
            "grid_column": null,
            "grid_gap": null,
            "grid_row": null,
            "grid_template_areas": null,
            "grid_template_columns": null,
            "grid_template_rows": null,
            "height": null,
            "justify_content": null,
            "justify_items": null,
            "left": null,
            "margin": null,
            "max_height": null,
            "max_width": null,
            "min_height": null,
            "min_width": null,
            "object_fit": null,
            "object_position": null,
            "order": null,
            "overflow": null,
            "overflow_x": null,
            "overflow_y": null,
            "padding": null,
            "right": null,
            "top": null,
            "visibility": null,
            "width": null
          }
        },
        "7277da20e5ae4601bdf14e7842a206e9": {
          "model_module": "@jupyter-widgets/controls",
          "model_name": "DescriptionStyleModel",
          "model_module_version": "1.5.0",
          "state": {
            "_model_module": "@jupyter-widgets/controls",
            "_model_module_version": "1.5.0",
            "_model_name": "DescriptionStyleModel",
            "_view_count": null,
            "_view_module": "@jupyter-widgets/base",
            "_view_module_version": "1.2.0",
            "_view_name": "StyleView",
            "description_width": ""
          }
        },
        "0b2579edefc6487ba59770ab741207b5": {
          "model_module": "@jupyter-widgets/controls",
          "model_name": "HBoxModel",
          "model_module_version": "1.5.0",
          "state": {
            "_dom_classes": [],
            "_model_module": "@jupyter-widgets/controls",
            "_model_module_version": "1.5.0",
            "_model_name": "HBoxModel",
            "_view_count": null,
            "_view_module": "@jupyter-widgets/controls",
            "_view_module_version": "1.5.0",
            "_view_name": "HBoxView",
            "box_style": "",
            "children": [
              "IPY_MODEL_39574b4779254bf2b1a01ba0a146790e",
              "IPY_MODEL_d1a8078b630d4691b1e7b7f0ce1fd5c3",
              "IPY_MODEL_cb5b249ab8c447dfa9b7f9137a7c4e63"
            ],
            "layout": "IPY_MODEL_6eecf1fd11de456cbcf21b69f0f6bc90"
          }
        },
        "39574b4779254bf2b1a01ba0a146790e": {
          "model_module": "@jupyter-widgets/controls",
          "model_name": "HTMLModel",
          "model_module_version": "1.5.0",
          "state": {
            "_dom_classes": [],
            "_model_module": "@jupyter-widgets/controls",
            "_model_module_version": "1.5.0",
            "_model_name": "HTMLModel",
            "_view_count": null,
            "_view_module": "@jupyter-widgets/controls",
            "_view_module_version": "1.5.0",
            "_view_name": "HTMLView",
            "description": "",
            "description_tooltip": null,
            "layout": "IPY_MODEL_61d4fa8f7e9d43cc91932e9176fa06fc",
            "placeholder": "​",
            "style": "IPY_MODEL_f525cc05af0740959efee99b9dce49dd",
            "value": "config.json: 100%"
          }
        },
        "d1a8078b630d4691b1e7b7f0ce1fd5c3": {
          "model_module": "@jupyter-widgets/controls",
          "model_name": "FloatProgressModel",
          "model_module_version": "1.5.0",
          "state": {
            "_dom_classes": [],
            "_model_module": "@jupyter-widgets/controls",
            "_model_module_version": "1.5.0",
            "_model_name": "FloatProgressModel",
            "_view_count": null,
            "_view_module": "@jupyter-widgets/controls",
            "_view_module_version": "1.5.0",
            "_view_name": "ProgressView",
            "bar_style": "success",
            "description": "",
            "description_tooltip": null,
            "layout": "IPY_MODEL_a1ec9aeb0bb94646bb8f2bd4d1f3dd01",
            "max": 665,
            "min": 0,
            "orientation": "horizontal",
            "style": "IPY_MODEL_16a3e968f46c4fe786342503ef1e877f",
            "value": 665
          }
        },
        "cb5b249ab8c447dfa9b7f9137a7c4e63": {
          "model_module": "@jupyter-widgets/controls",
          "model_name": "HTMLModel",
          "model_module_version": "1.5.0",
          "state": {
            "_dom_classes": [],
            "_model_module": "@jupyter-widgets/controls",
            "_model_module_version": "1.5.0",
            "_model_name": "HTMLModel",
            "_view_count": null,
            "_view_module": "@jupyter-widgets/controls",
            "_view_module_version": "1.5.0",
            "_view_name": "HTMLView",
            "description": "",
            "description_tooltip": null,
            "layout": "IPY_MODEL_9e7dda8093834de691379f1954a27dcc",
            "placeholder": "​",
            "style": "IPY_MODEL_169493d7977c48cca099adf5001a242b",
            "value": " 665/665 [00:00&lt;00:00, 8.13kB/s]"
          }
        },
        "6eecf1fd11de456cbcf21b69f0f6bc90": {
          "model_module": "@jupyter-widgets/base",
          "model_name": "LayoutModel",
          "model_module_version": "1.2.0",
          "state": {
            "_model_module": "@jupyter-widgets/base",
            "_model_module_version": "1.2.0",
            "_model_name": "LayoutModel",
            "_view_count": null,
            "_view_module": "@jupyter-widgets/base",
            "_view_module_version": "1.2.0",
            "_view_name": "LayoutView",
            "align_content": null,
            "align_items": null,
            "align_self": null,
            "border": null,
            "bottom": null,
            "display": null,
            "flex": null,
            "flex_flow": null,
            "grid_area": null,
            "grid_auto_columns": null,
            "grid_auto_flow": null,
            "grid_auto_rows": null,
            "grid_column": null,
            "grid_gap": null,
            "grid_row": null,
            "grid_template_areas": null,
            "grid_template_columns": null,
            "grid_template_rows": null,
            "height": null,
            "justify_content": null,
            "justify_items": null,
            "left": null,
            "margin": null,
            "max_height": null,
            "max_width": null,
            "min_height": null,
            "min_width": null,
            "object_fit": null,
            "object_position": null,
            "order": null,
            "overflow": null,
            "overflow_x": null,
            "overflow_y": null,
            "padding": null,
            "right": null,
            "top": null,
            "visibility": null,
            "width": null
          }
        },
        "61d4fa8f7e9d43cc91932e9176fa06fc": {
          "model_module": "@jupyter-widgets/base",
          "model_name": "LayoutModel",
          "model_module_version": "1.2.0",
          "state": {
            "_model_module": "@jupyter-widgets/base",
            "_model_module_version": "1.2.0",
            "_model_name": "LayoutModel",
            "_view_count": null,
            "_view_module": "@jupyter-widgets/base",
            "_view_module_version": "1.2.0",
            "_view_name": "LayoutView",
            "align_content": null,
            "align_items": null,
            "align_self": null,
            "border": null,
            "bottom": null,
            "display": null,
            "flex": null,
            "flex_flow": null,
            "grid_area": null,
            "grid_auto_columns": null,
            "grid_auto_flow": null,
            "grid_auto_rows": null,
            "grid_column": null,
            "grid_gap": null,
            "grid_row": null,
            "grid_template_areas": null,
            "grid_template_columns": null,
            "grid_template_rows": null,
            "height": null,
            "justify_content": null,
            "justify_items": null,
            "left": null,
            "margin": null,
            "max_height": null,
            "max_width": null,
            "min_height": null,
            "min_width": null,
            "object_fit": null,
            "object_position": null,
            "order": null,
            "overflow": null,
            "overflow_x": null,
            "overflow_y": null,
            "padding": null,
            "right": null,
            "top": null,
            "visibility": null,
            "width": null
          }
        },
        "f525cc05af0740959efee99b9dce49dd": {
          "model_module": "@jupyter-widgets/controls",
          "model_name": "DescriptionStyleModel",
          "model_module_version": "1.5.0",
          "state": {
            "_model_module": "@jupyter-widgets/controls",
            "_model_module_version": "1.5.0",
            "_model_name": "DescriptionStyleModel",
            "_view_count": null,
            "_view_module": "@jupyter-widgets/base",
            "_view_module_version": "1.2.0",
            "_view_name": "StyleView",
            "description_width": ""
          }
        },
        "a1ec9aeb0bb94646bb8f2bd4d1f3dd01": {
          "model_module": "@jupyter-widgets/base",
          "model_name": "LayoutModel",
          "model_module_version": "1.2.0",
          "state": {
            "_model_module": "@jupyter-widgets/base",
            "_model_module_version": "1.2.0",
            "_model_name": "LayoutModel",
            "_view_count": null,
            "_view_module": "@jupyter-widgets/base",
            "_view_module_version": "1.2.0",
            "_view_name": "LayoutView",
            "align_content": null,
            "align_items": null,
            "align_self": null,
            "border": null,
            "bottom": null,
            "display": null,
            "flex": null,
            "flex_flow": null,
            "grid_area": null,
            "grid_auto_columns": null,
            "grid_auto_flow": null,
            "grid_auto_rows": null,
            "grid_column": null,
            "grid_gap": null,
            "grid_row": null,
            "grid_template_areas": null,
            "grid_template_columns": null,
            "grid_template_rows": null,
            "height": null,
            "justify_content": null,
            "justify_items": null,
            "left": null,
            "margin": null,
            "max_height": null,
            "max_width": null,
            "min_height": null,
            "min_width": null,
            "object_fit": null,
            "object_position": null,
            "order": null,
            "overflow": null,
            "overflow_x": null,
            "overflow_y": null,
            "padding": null,
            "right": null,
            "top": null,
            "visibility": null,
            "width": null
          }
        },
        "16a3e968f46c4fe786342503ef1e877f": {
          "model_module": "@jupyter-widgets/controls",
          "model_name": "ProgressStyleModel",
          "model_module_version": "1.5.0",
          "state": {
            "_model_module": "@jupyter-widgets/controls",
            "_model_module_version": "1.5.0",
            "_model_name": "ProgressStyleModel",
            "_view_count": null,
            "_view_module": "@jupyter-widgets/base",
            "_view_module_version": "1.2.0",
            "_view_name": "StyleView",
            "bar_color": null,
            "description_width": ""
          }
        },
        "9e7dda8093834de691379f1954a27dcc": {
          "model_module": "@jupyter-widgets/base",
          "model_name": "LayoutModel",
          "model_module_version": "1.2.0",
          "state": {
            "_model_module": "@jupyter-widgets/base",
            "_model_module_version": "1.2.0",
            "_model_name": "LayoutModel",
            "_view_count": null,
            "_view_module": "@jupyter-widgets/base",
            "_view_module_version": "1.2.0",
            "_view_name": "LayoutView",
            "align_content": null,
            "align_items": null,
            "align_self": null,
            "border": null,
            "bottom": null,
            "display": null,
            "flex": null,
            "flex_flow": null,
            "grid_area": null,
            "grid_auto_columns": null,
            "grid_auto_flow": null,
            "grid_auto_rows": null,
            "grid_column": null,
            "grid_gap": null,
            "grid_row": null,
            "grid_template_areas": null,
            "grid_template_columns": null,
            "grid_template_rows": null,
            "height": null,
            "justify_content": null,
            "justify_items": null,
            "left": null,
            "margin": null,
            "max_height": null,
            "max_width": null,
            "min_height": null,
            "min_width": null,
            "object_fit": null,
            "object_position": null,
            "order": null,
            "overflow": null,
            "overflow_x": null,
            "overflow_y": null,
            "padding": null,
            "right": null,
            "top": null,
            "visibility": null,
            "width": null
          }
        },
        "169493d7977c48cca099adf5001a242b": {
          "model_module": "@jupyter-widgets/controls",
          "model_name": "DescriptionStyleModel",
          "model_module_version": "1.5.0",
          "state": {
            "_model_module": "@jupyter-widgets/controls",
            "_model_module_version": "1.5.0",
            "_model_name": "DescriptionStyleModel",
            "_view_count": null,
            "_view_module": "@jupyter-widgets/base",
            "_view_module_version": "1.2.0",
            "_view_name": "StyleView",
            "description_width": ""
          }
        },
        "36ed7ddf82ec40749abef5003f1258f0": {
          "model_module": "@jupyter-widgets/controls",
          "model_name": "HBoxModel",
          "model_module_version": "1.5.0",
          "state": {
            "_dom_classes": [],
            "_model_module": "@jupyter-widgets/controls",
            "_model_module_version": "1.5.0",
            "_model_name": "HBoxModel",
            "_view_count": null,
            "_view_module": "@jupyter-widgets/controls",
            "_view_module_version": "1.5.0",
            "_view_name": "HBoxView",
            "box_style": "",
            "children": [
              "IPY_MODEL_5f400115f07e40cebcb016a4366d0bfc",
              "IPY_MODEL_abc14352d8154921947c8809a795ddf9",
              "IPY_MODEL_02ed70b16064451bba147eb3e84da812"
            ],
            "layout": "IPY_MODEL_bd6ede92bdc64354ae07afbd3afa558f"
          }
        },
        "5f400115f07e40cebcb016a4366d0bfc": {
          "model_module": "@jupyter-widgets/controls",
          "model_name": "HTMLModel",
          "model_module_version": "1.5.0",
          "state": {
            "_dom_classes": [],
            "_model_module": "@jupyter-widgets/controls",
            "_model_module_version": "1.5.0",
            "_model_name": "HTMLModel",
            "_view_count": null,
            "_view_module": "@jupyter-widgets/controls",
            "_view_module_version": "1.5.0",
            "_view_name": "HTMLView",
            "description": "",
            "description_tooltip": null,
            "layout": "IPY_MODEL_c8744592351c429da00550b45ee028cf",
            "placeholder": "​",
            "style": "IPY_MODEL_eeab93c2570040a68a61c2210d81aaa3",
            "value": "model.safetensors: 100%"
          }
        },
        "abc14352d8154921947c8809a795ddf9": {
          "model_module": "@jupyter-widgets/controls",
          "model_name": "FloatProgressModel",
          "model_module_version": "1.5.0",
          "state": {
            "_dom_classes": [],
            "_model_module": "@jupyter-widgets/controls",
            "_model_module_version": "1.5.0",
            "_model_name": "FloatProgressModel",
            "_view_count": null,
            "_view_module": "@jupyter-widgets/controls",
            "_view_module_version": "1.5.0",
            "_view_name": "ProgressView",
            "bar_style": "success",
            "description": "",
            "description_tooltip": null,
            "layout": "IPY_MODEL_0af153c32948464988f0969281a62353",
            "max": 548105171,
            "min": 0,
            "orientation": "horizontal",
            "style": "IPY_MODEL_dfd141f328a24a0fac55dce162841b41",
            "value": 548105171
          }
        },
        "02ed70b16064451bba147eb3e84da812": {
          "model_module": "@jupyter-widgets/controls",
          "model_name": "HTMLModel",
          "model_module_version": "1.5.0",
          "state": {
            "_dom_classes": [],
            "_model_module": "@jupyter-widgets/controls",
            "_model_module_version": "1.5.0",
            "_model_name": "HTMLModel",
            "_view_count": null,
            "_view_module": "@jupyter-widgets/controls",
            "_view_module_version": "1.5.0",
            "_view_name": "HTMLView",
            "description": "",
            "description_tooltip": null,
            "layout": "IPY_MODEL_b3a1ee4ec03a4eeeaba88029c982decb",
            "placeholder": "​",
            "style": "IPY_MODEL_c1d5d7653c024b339d49ecad5a9efa8e",
            "value": " 548M/548M [00:06&lt;00:00, 84.5MB/s]"
          }
        },
        "bd6ede92bdc64354ae07afbd3afa558f": {
          "model_module": "@jupyter-widgets/base",
          "model_name": "LayoutModel",
          "model_module_version": "1.2.0",
          "state": {
            "_model_module": "@jupyter-widgets/base",
            "_model_module_version": "1.2.0",
            "_model_name": "LayoutModel",
            "_view_count": null,
            "_view_module": "@jupyter-widgets/base",
            "_view_module_version": "1.2.0",
            "_view_name": "LayoutView",
            "align_content": null,
            "align_items": null,
            "align_self": null,
            "border": null,
            "bottom": null,
            "display": null,
            "flex": null,
            "flex_flow": null,
            "grid_area": null,
            "grid_auto_columns": null,
            "grid_auto_flow": null,
            "grid_auto_rows": null,
            "grid_column": null,
            "grid_gap": null,
            "grid_row": null,
            "grid_template_areas": null,
            "grid_template_columns": null,
            "grid_template_rows": null,
            "height": null,
            "justify_content": null,
            "justify_items": null,
            "left": null,
            "margin": null,
            "max_height": null,
            "max_width": null,
            "min_height": null,
            "min_width": null,
            "object_fit": null,
            "object_position": null,
            "order": null,
            "overflow": null,
            "overflow_x": null,
            "overflow_y": null,
            "padding": null,
            "right": null,
            "top": null,
            "visibility": null,
            "width": null
          }
        },
        "c8744592351c429da00550b45ee028cf": {
          "model_module": "@jupyter-widgets/base",
          "model_name": "LayoutModel",
          "model_module_version": "1.2.0",
          "state": {
            "_model_module": "@jupyter-widgets/base",
            "_model_module_version": "1.2.0",
            "_model_name": "LayoutModel",
            "_view_count": null,
            "_view_module": "@jupyter-widgets/base",
            "_view_module_version": "1.2.0",
            "_view_name": "LayoutView",
            "align_content": null,
            "align_items": null,
            "align_self": null,
            "border": null,
            "bottom": null,
            "display": null,
            "flex": null,
            "flex_flow": null,
            "grid_area": null,
            "grid_auto_columns": null,
            "grid_auto_flow": null,
            "grid_auto_rows": null,
            "grid_column": null,
            "grid_gap": null,
            "grid_row": null,
            "grid_template_areas": null,
            "grid_template_columns": null,
            "grid_template_rows": null,
            "height": null,
            "justify_content": null,
            "justify_items": null,
            "left": null,
            "margin": null,
            "max_height": null,
            "max_width": null,
            "min_height": null,
            "min_width": null,
            "object_fit": null,
            "object_position": null,
            "order": null,
            "overflow": null,
            "overflow_x": null,
            "overflow_y": null,
            "padding": null,
            "right": null,
            "top": null,
            "visibility": null,
            "width": null
          }
        },
        "eeab93c2570040a68a61c2210d81aaa3": {
          "model_module": "@jupyter-widgets/controls",
          "model_name": "DescriptionStyleModel",
          "model_module_version": "1.5.0",
          "state": {
            "_model_module": "@jupyter-widgets/controls",
            "_model_module_version": "1.5.0",
            "_model_name": "DescriptionStyleModel",
            "_view_count": null,
            "_view_module": "@jupyter-widgets/base",
            "_view_module_version": "1.2.0",
            "_view_name": "StyleView",
            "description_width": ""
          }
        },
        "0af153c32948464988f0969281a62353": {
          "model_module": "@jupyter-widgets/base",
          "model_name": "LayoutModel",
          "model_module_version": "1.2.0",
          "state": {
            "_model_module": "@jupyter-widgets/base",
            "_model_module_version": "1.2.0",
            "_model_name": "LayoutModel",
            "_view_count": null,
            "_view_module": "@jupyter-widgets/base",
            "_view_module_version": "1.2.0",
            "_view_name": "LayoutView",
            "align_content": null,
            "align_items": null,
            "align_self": null,
            "border": null,
            "bottom": null,
            "display": null,
            "flex": null,
            "flex_flow": null,
            "grid_area": null,
            "grid_auto_columns": null,
            "grid_auto_flow": null,
            "grid_auto_rows": null,
            "grid_column": null,
            "grid_gap": null,
            "grid_row": null,
            "grid_template_areas": null,
            "grid_template_columns": null,
            "grid_template_rows": null,
            "height": null,
            "justify_content": null,
            "justify_items": null,
            "left": null,
            "margin": null,
            "max_height": null,
            "max_width": null,
            "min_height": null,
            "min_width": null,
            "object_fit": null,
            "object_position": null,
            "order": null,
            "overflow": null,
            "overflow_x": null,
            "overflow_y": null,
            "padding": null,
            "right": null,
            "top": null,
            "visibility": null,
            "width": null
          }
        },
        "dfd141f328a24a0fac55dce162841b41": {
          "model_module": "@jupyter-widgets/controls",
          "model_name": "ProgressStyleModel",
          "model_module_version": "1.5.0",
          "state": {
            "_model_module": "@jupyter-widgets/controls",
            "_model_module_version": "1.5.0",
            "_model_name": "ProgressStyleModel",
            "_view_count": null,
            "_view_module": "@jupyter-widgets/base",
            "_view_module_version": "1.2.0",
            "_view_name": "StyleView",
            "bar_color": null,
            "description_width": ""
          }
        },
        "b3a1ee4ec03a4eeeaba88029c982decb": {
          "model_module": "@jupyter-widgets/base",
          "model_name": "LayoutModel",
          "model_module_version": "1.2.0",
          "state": {
            "_model_module": "@jupyter-widgets/base",
            "_model_module_version": "1.2.0",
            "_model_name": "LayoutModel",
            "_view_count": null,
            "_view_module": "@jupyter-widgets/base",
            "_view_module_version": "1.2.0",
            "_view_name": "LayoutView",
            "align_content": null,
            "align_items": null,
            "align_self": null,
            "border": null,
            "bottom": null,
            "display": null,
            "flex": null,
            "flex_flow": null,
            "grid_area": null,
            "grid_auto_columns": null,
            "grid_auto_flow": null,
            "grid_auto_rows": null,
            "grid_column": null,
            "grid_gap": null,
            "grid_row": null,
            "grid_template_areas": null,
            "grid_template_columns": null,
            "grid_template_rows": null,
            "height": null,
            "justify_content": null,
            "justify_items": null,
            "left": null,
            "margin": null,
            "max_height": null,
            "max_width": null,
            "min_height": null,
            "min_width": null,
            "object_fit": null,
            "object_position": null,
            "order": null,
            "overflow": null,
            "overflow_x": null,
            "overflow_y": null,
            "padding": null,
            "right": null,
            "top": null,
            "visibility": null,
            "width": null
          }
        },
        "c1d5d7653c024b339d49ecad5a9efa8e": {
          "model_module": "@jupyter-widgets/controls",
          "model_name": "DescriptionStyleModel",
          "model_module_version": "1.5.0",
          "state": {
            "_model_module": "@jupyter-widgets/controls",
            "_model_module_version": "1.5.0",
            "_model_name": "DescriptionStyleModel",
            "_view_count": null,
            "_view_module": "@jupyter-widgets/base",
            "_view_module_version": "1.2.0",
            "_view_name": "StyleView",
            "description_width": ""
          }
        },
        "e179f09741e34bd0a9ceb0a30bccdf96": {
          "model_module": "@jupyter-widgets/controls",
          "model_name": "HBoxModel",
          "model_module_version": "1.5.0",
          "state": {
            "_dom_classes": [],
            "_model_module": "@jupyter-widgets/controls",
            "_model_module_version": "1.5.0",
            "_model_name": "HBoxModel",
            "_view_count": null,
            "_view_module": "@jupyter-widgets/controls",
            "_view_module_version": "1.5.0",
            "_view_name": "HBoxView",
            "box_style": "",
            "children": [
              "IPY_MODEL_b015cb446c0f4b308e4e643f3139c354",
              "IPY_MODEL_08f6855d19a24b3981241e610851e182",
              "IPY_MODEL_e3c92534e5b744709da9e34043e918c5"
            ],
            "layout": "IPY_MODEL_85812d1979e845b6a1a0de30a7003617"
          }
        },
        "b015cb446c0f4b308e4e643f3139c354": {
          "model_module": "@jupyter-widgets/controls",
          "model_name": "HTMLModel",
          "model_module_version": "1.5.0",
          "state": {
            "_dom_classes": [],
            "_model_module": "@jupyter-widgets/controls",
            "_model_module_version": "1.5.0",
            "_model_name": "HTMLModel",
            "_view_count": null,
            "_view_module": "@jupyter-widgets/controls",
            "_view_module_version": "1.5.0",
            "_view_name": "HTMLView",
            "description": "",
            "description_tooltip": null,
            "layout": "IPY_MODEL_26000dfa94ed4704907a55309d8dfd5f",
            "placeholder": "​",
            "style": "IPY_MODEL_8bb1d93eafe042fbb6a8e57391e2c1f5",
            "value": "generation_config.json: 100%"
          }
        },
        "08f6855d19a24b3981241e610851e182": {
          "model_module": "@jupyter-widgets/controls",
          "model_name": "FloatProgressModel",
          "model_module_version": "1.5.0",
          "state": {
            "_dom_classes": [],
            "_model_module": "@jupyter-widgets/controls",
            "_model_module_version": "1.5.0",
            "_model_name": "FloatProgressModel",
            "_view_count": null,
            "_view_module": "@jupyter-widgets/controls",
            "_view_module_version": "1.5.0",
            "_view_name": "ProgressView",
            "bar_style": "success",
            "description": "",
            "description_tooltip": null,
            "layout": "IPY_MODEL_39488f8cc61c423e9e073fd644de4dfd",
            "max": 147,
            "min": 0,
            "orientation": "horizontal",
            "style": "IPY_MODEL_ac459a5d71f742cbbdcdcc954a956090",
            "value": 147
          }
        },
        "e3c92534e5b744709da9e34043e918c5": {
          "model_module": "@jupyter-widgets/controls",
          "model_name": "HTMLModel",
          "model_module_version": "1.5.0",
          "state": {
            "_dom_classes": [],
            "_model_module": "@jupyter-widgets/controls",
            "_model_module_version": "1.5.0",
            "_model_name": "HTMLModel",
            "_view_count": null,
            "_view_module": "@jupyter-widgets/controls",
            "_view_module_version": "1.5.0",
            "_view_name": "HTMLView",
            "description": "",
            "description_tooltip": null,
            "layout": "IPY_MODEL_14980383e69c47c49daca7f7e4067b18",
            "placeholder": "​",
            "style": "IPY_MODEL_b264227ffc8e4b4c8bad9372f2895164",
            "value": " 147/147 [00:00&lt;00:00, 3.43kB/s]"
          }
        },
        "85812d1979e845b6a1a0de30a7003617": {
          "model_module": "@jupyter-widgets/base",
          "model_name": "LayoutModel",
          "model_module_version": "1.2.0",
          "state": {
            "_model_module": "@jupyter-widgets/base",
            "_model_module_version": "1.2.0",
            "_model_name": "LayoutModel",
            "_view_count": null,
            "_view_module": "@jupyter-widgets/base",
            "_view_module_version": "1.2.0",
            "_view_name": "LayoutView",
            "align_content": null,
            "align_items": null,
            "align_self": null,
            "border": null,
            "bottom": null,
            "display": null,
            "flex": null,
            "flex_flow": null,
            "grid_area": null,
            "grid_auto_columns": null,
            "grid_auto_flow": null,
            "grid_auto_rows": null,
            "grid_column": null,
            "grid_gap": null,
            "grid_row": null,
            "grid_template_areas": null,
            "grid_template_columns": null,
            "grid_template_rows": null,
            "height": null,
            "justify_content": null,
            "justify_items": null,
            "left": null,
            "margin": null,
            "max_height": null,
            "max_width": null,
            "min_height": null,
            "min_width": null,
            "object_fit": null,
            "object_position": null,
            "order": null,
            "overflow": null,
            "overflow_x": null,
            "overflow_y": null,
            "padding": null,
            "right": null,
            "top": null,
            "visibility": null,
            "width": null
          }
        },
        "26000dfa94ed4704907a55309d8dfd5f": {
          "model_module": "@jupyter-widgets/base",
          "model_name": "LayoutModel",
          "model_module_version": "1.2.0",
          "state": {
            "_model_module": "@jupyter-widgets/base",
            "_model_module_version": "1.2.0",
            "_model_name": "LayoutModel",
            "_view_count": null,
            "_view_module": "@jupyter-widgets/base",
            "_view_module_version": "1.2.0",
            "_view_name": "LayoutView",
            "align_content": null,
            "align_items": null,
            "align_self": null,
            "border": null,
            "bottom": null,
            "display": null,
            "flex": null,
            "flex_flow": null,
            "grid_area": null,
            "grid_auto_columns": null,
            "grid_auto_flow": null,
            "grid_auto_rows": null,
            "grid_column": null,
            "grid_gap": null,
            "grid_row": null,
            "grid_template_areas": null,
            "grid_template_columns": null,
            "grid_template_rows": null,
            "height": null,
            "justify_content": null,
            "justify_items": null,
            "left": null,
            "margin": null,
            "max_height": null,
            "max_width": null,
            "min_height": null,
            "min_width": null,
            "object_fit": null,
            "object_position": null,
            "order": null,
            "overflow": null,
            "overflow_x": null,
            "overflow_y": null,
            "padding": null,
            "right": null,
            "top": null,
            "visibility": null,
            "width": null
          }
        },
        "8bb1d93eafe042fbb6a8e57391e2c1f5": {
          "model_module": "@jupyter-widgets/controls",
          "model_name": "DescriptionStyleModel",
          "model_module_version": "1.5.0",
          "state": {
            "_model_module": "@jupyter-widgets/controls",
            "_model_module_version": "1.5.0",
            "_model_name": "DescriptionStyleModel",
            "_view_count": null,
            "_view_module": "@jupyter-widgets/base",
            "_view_module_version": "1.2.0",
            "_view_name": "StyleView",
            "description_width": ""
          }
        },
        "39488f8cc61c423e9e073fd644de4dfd": {
          "model_module": "@jupyter-widgets/base",
          "model_name": "LayoutModel",
          "model_module_version": "1.2.0",
          "state": {
            "_model_module": "@jupyter-widgets/base",
            "_model_module_version": "1.2.0",
            "_model_name": "LayoutModel",
            "_view_count": null,
            "_view_module": "@jupyter-widgets/base",
            "_view_module_version": "1.2.0",
            "_view_name": "LayoutView",
            "align_content": null,
            "align_items": null,
            "align_self": null,
            "border": null,
            "bottom": null,
            "display": null,
            "flex": null,
            "flex_flow": null,
            "grid_area": null,
            "grid_auto_columns": null,
            "grid_auto_flow": null,
            "grid_auto_rows": null,
            "grid_column": null,
            "grid_gap": null,
            "grid_row": null,
            "grid_template_areas": null,
            "grid_template_columns": null,
            "grid_template_rows": null,
            "height": null,
            "justify_content": null,
            "justify_items": null,
            "left": null,
            "margin": null,
            "max_height": null,
            "max_width": null,
            "min_height": null,
            "min_width": null,
            "object_fit": null,
            "object_position": null,
            "order": null,
            "overflow": null,
            "overflow_x": null,
            "overflow_y": null,
            "padding": null,
            "right": null,
            "top": null,
            "visibility": null,
            "width": null
          }
        },
        "ac459a5d71f742cbbdcdcc954a956090": {
          "model_module": "@jupyter-widgets/controls",
          "model_name": "ProgressStyleModel",
          "model_module_version": "1.5.0",
          "state": {
            "_model_module": "@jupyter-widgets/controls",
            "_model_module_version": "1.5.0",
            "_model_name": "ProgressStyleModel",
            "_view_count": null,
            "_view_module": "@jupyter-widgets/base",
            "_view_module_version": "1.2.0",
            "_view_name": "StyleView",
            "bar_color": null,
            "description_width": ""
          }
        },
        "14980383e69c47c49daca7f7e4067b18": {
          "model_module": "@jupyter-widgets/base",
          "model_name": "LayoutModel",
          "model_module_version": "1.2.0",
          "state": {
            "_model_module": "@jupyter-widgets/base",
            "_model_module_version": "1.2.0",
            "_model_name": "LayoutModel",
            "_view_count": null,
            "_view_module": "@jupyter-widgets/base",
            "_view_module_version": "1.2.0",
            "_view_name": "LayoutView",
            "align_content": null,
            "align_items": null,
            "align_self": null,
            "border": null,
            "bottom": null,
            "display": null,
            "flex": null,
            "flex_flow": null,
            "grid_area": null,
            "grid_auto_columns": null,
            "grid_auto_flow": null,
            "grid_auto_rows": null,
            "grid_column": null,
            "grid_gap": null,
            "grid_row": null,
            "grid_template_areas": null,
            "grid_template_columns": null,
            "grid_template_rows": null,
            "height": null,
            "justify_content": null,
            "justify_items": null,
            "left": null,
            "margin": null,
            "max_height": null,
            "max_width": null,
            "min_height": null,
            "min_width": null,
            "object_fit": null,
            "object_position": null,
            "order": null,
            "overflow": null,
            "overflow_x": null,
            "overflow_y": null,
            "padding": null,
            "right": null,
            "top": null,
            "visibility": null,
            "width": null
          }
        },
        "b264227ffc8e4b4c8bad9372f2895164": {
          "model_module": "@jupyter-widgets/controls",
          "model_name": "DescriptionStyleModel",
          "model_module_version": "1.5.0",
          "state": {
            "_model_module": "@jupyter-widgets/controls",
            "_model_module_version": "1.5.0",
            "_model_name": "DescriptionStyleModel",
            "_view_count": null,
            "_view_module": "@jupyter-widgets/base",
            "_view_module_version": "1.2.0",
            "_view_name": "StyleView",
            "description_width": ""
          }
        }
      }
    }
  },
  "cells": [
    {
      "cell_type": "markdown",
      "metadata": {
        "id": "view-in-github",
        "colab_type": "text"
      },
      "source": [
        "<a href=\"https://colab.research.google.com/github/Rishika70/Hack_To_Hire/blob/main/Hack_To_Hire.ipynb\" target=\"_parent\"><img src=\"https://colab.research.google.com/assets/colab-badge.svg\" alt=\"Open In Colab\"/></a>"
      ]
    },
    {
      "cell_type": "code",
      "source": [
        "!pip install transformers"
      ],
      "metadata": {
        "id": "KjyVTvSpGy4y",
        "outputId": "3fc35b6a-bc77-42c4-d8b3-c67763d95b7b",
        "colab": {
          "base_uri": "https://localhost:8080/"
        }
      },
      "execution_count": 110,
      "outputs": [
        {
          "output_type": "stream",
          "name": "stdout",
          "text": [
            "Requirement already satisfied: transformers in /usr/local/lib/python3.10/dist-packages (4.43.3)\n",
            "Requirement already satisfied: filelock in /usr/local/lib/python3.10/dist-packages (from transformers) (3.15.4)\n",
            "Requirement already satisfied: huggingface-hub<1.0,>=0.23.2 in /usr/local/lib/python3.10/dist-packages (from transformers) (0.24.3)\n",
            "Requirement already satisfied: numpy>=1.17 in /usr/local/lib/python3.10/dist-packages (from transformers) (1.26.4)\n",
            "Requirement already satisfied: packaging>=20.0 in /usr/local/lib/python3.10/dist-packages (from transformers) (24.1)\n",
            "Requirement already satisfied: pyyaml>=5.1 in /usr/local/lib/python3.10/dist-packages (from transformers) (6.0.1)\n",
            "Requirement already satisfied: regex!=2019.12.17 in /usr/local/lib/python3.10/dist-packages (from transformers) (2024.5.15)\n",
            "Requirement already satisfied: requests in /usr/local/lib/python3.10/dist-packages (from transformers) (2.32.3)\n",
            "Requirement already satisfied: safetensors>=0.4.1 in /usr/local/lib/python3.10/dist-packages (from transformers) (0.4.3)\n",
            "Requirement already satisfied: tokenizers<0.20,>=0.19 in /usr/local/lib/python3.10/dist-packages (from transformers) (0.19.1)\n",
            "Requirement already satisfied: tqdm>=4.27 in /usr/local/lib/python3.10/dist-packages (from transformers) (4.66.4)\n",
            "Requirement already satisfied: fsspec>=2023.5.0 in /usr/local/lib/python3.10/dist-packages (from huggingface-hub<1.0,>=0.23.2->transformers) (2024.5.0)\n",
            "Requirement already satisfied: typing-extensions>=3.7.4.3 in /usr/local/lib/python3.10/dist-packages (from huggingface-hub<1.0,>=0.23.2->transformers) (4.12.2)\n",
            "Requirement already satisfied: charset-normalizer<4,>=2 in /usr/local/lib/python3.10/dist-packages (from requests->transformers) (3.3.2)\n",
            "Requirement already satisfied: idna<4,>=2.5 in /usr/local/lib/python3.10/dist-packages (from requests->transformers) (3.7)\n",
            "Requirement already satisfied: urllib3<3,>=1.21.1 in /usr/local/lib/python3.10/dist-packages (from requests->transformers) (2.0.7)\n",
            "Requirement already satisfied: certifi>=2017.4.17 in /usr/local/lib/python3.10/dist-packages (from requests->transformers) (2024.7.4)\n"
          ]
        }
      ]
    },
    {
      "cell_type": "code",
      "source": [
        "!pip install datasets transformers\n"
      ],
      "metadata": {
        "colab": {
          "base_uri": "https://localhost:8080/"
        },
        "id": "RSylZ2PIq_kD",
        "outputId": "b1d3d3b5-5dcc-42f0-933b-9b1a129084ce"
      },
      "execution_count": 111,
      "outputs": [
        {
          "output_type": "stream",
          "name": "stdout",
          "text": [
            "Requirement already satisfied: datasets in /usr/local/lib/python3.10/dist-packages (2.20.0)\n",
            "Requirement already satisfied: transformers in /usr/local/lib/python3.10/dist-packages (4.43.3)\n",
            "Requirement already satisfied: filelock in /usr/local/lib/python3.10/dist-packages (from datasets) (3.15.4)\n",
            "Requirement already satisfied: numpy>=1.17 in /usr/local/lib/python3.10/dist-packages (from datasets) (1.26.4)\n",
            "Requirement already satisfied: pyarrow>=15.0.0 in /usr/local/lib/python3.10/dist-packages (from datasets) (17.0.0)\n",
            "Requirement already satisfied: pyarrow-hotfix in /usr/local/lib/python3.10/dist-packages (from datasets) (0.6)\n",
            "Requirement already satisfied: dill<0.3.9,>=0.3.0 in /usr/local/lib/python3.10/dist-packages (from datasets) (0.3.8)\n",
            "Requirement already satisfied: pandas in /usr/local/lib/python3.10/dist-packages (from datasets) (2.1.4)\n",
            "Requirement already satisfied: requests>=2.32.2 in /usr/local/lib/python3.10/dist-packages (from datasets) (2.32.3)\n",
            "Requirement already satisfied: tqdm>=4.66.3 in /usr/local/lib/python3.10/dist-packages (from datasets) (4.66.4)\n",
            "Requirement already satisfied: xxhash in /usr/local/lib/python3.10/dist-packages (from datasets) (3.4.1)\n",
            "Requirement already satisfied: multiprocess in /usr/local/lib/python3.10/dist-packages (from datasets) (0.70.16)\n",
            "Requirement already satisfied: fsspec<=2024.5.0,>=2023.1.0 in /usr/local/lib/python3.10/dist-packages (from fsspec[http]<=2024.5.0,>=2023.1.0->datasets) (2024.5.0)\n",
            "Requirement already satisfied: aiohttp in /usr/local/lib/python3.10/dist-packages (from datasets) (3.9.5)\n",
            "Requirement already satisfied: huggingface-hub>=0.21.2 in /usr/local/lib/python3.10/dist-packages (from datasets) (0.24.3)\n",
            "Requirement already satisfied: packaging in /usr/local/lib/python3.10/dist-packages (from datasets) (24.1)\n",
            "Requirement already satisfied: pyyaml>=5.1 in /usr/local/lib/python3.10/dist-packages (from datasets) (6.0.1)\n",
            "Requirement already satisfied: regex!=2019.12.17 in /usr/local/lib/python3.10/dist-packages (from transformers) (2024.5.15)\n",
            "Requirement already satisfied: safetensors>=0.4.1 in /usr/local/lib/python3.10/dist-packages (from transformers) (0.4.3)\n",
            "Requirement already satisfied: tokenizers<0.20,>=0.19 in /usr/local/lib/python3.10/dist-packages (from transformers) (0.19.1)\n",
            "Requirement already satisfied: aiosignal>=1.1.2 in /usr/local/lib/python3.10/dist-packages (from aiohttp->datasets) (1.3.1)\n",
            "Requirement already satisfied: attrs>=17.3.0 in /usr/local/lib/python3.10/dist-packages (from aiohttp->datasets) (23.2.0)\n",
            "Requirement already satisfied: frozenlist>=1.1.1 in /usr/local/lib/python3.10/dist-packages (from aiohttp->datasets) (1.4.1)\n",
            "Requirement already satisfied: multidict<7.0,>=4.5 in /usr/local/lib/python3.10/dist-packages (from aiohttp->datasets) (6.0.5)\n",
            "Requirement already satisfied: yarl<2.0,>=1.0 in /usr/local/lib/python3.10/dist-packages (from aiohttp->datasets) (1.9.4)\n",
            "Requirement already satisfied: async-timeout<5.0,>=4.0 in /usr/local/lib/python3.10/dist-packages (from aiohttp->datasets) (4.0.3)\n",
            "Requirement already satisfied: typing-extensions>=3.7.4.3 in /usr/local/lib/python3.10/dist-packages (from huggingface-hub>=0.21.2->datasets) (4.12.2)\n",
            "Requirement already satisfied: charset-normalizer<4,>=2 in /usr/local/lib/python3.10/dist-packages (from requests>=2.32.2->datasets) (3.3.2)\n",
            "Requirement already satisfied: idna<4,>=2.5 in /usr/local/lib/python3.10/dist-packages (from requests>=2.32.2->datasets) (3.7)\n",
            "Requirement already satisfied: urllib3<3,>=1.21.1 in /usr/local/lib/python3.10/dist-packages (from requests>=2.32.2->datasets) (2.0.7)\n",
            "Requirement already satisfied: certifi>=2017.4.17 in /usr/local/lib/python3.10/dist-packages (from requests>=2.32.2->datasets) (2024.7.4)\n",
            "Requirement already satisfied: python-dateutil>=2.8.2 in /usr/local/lib/python3.10/dist-packages (from pandas->datasets) (2.8.2)\n",
            "Requirement already satisfied: pytz>=2020.1 in /usr/local/lib/python3.10/dist-packages (from pandas->datasets) (2024.1)\n",
            "Requirement already satisfied: tzdata>=2022.1 in /usr/local/lib/python3.10/dist-packages (from pandas->datasets) (2024.1)\n",
            "Requirement already satisfied: six>=1.5 in /usr/local/lib/python3.10/dist-packages (from python-dateutil>=2.8.2->pandas->datasets) (1.16.0)\n"
          ]
        }
      ]
    },
    {
      "cell_type": "code",
      "source": [
        "!pip install bleu"
      ],
      "metadata": {
        "colab": {
          "base_uri": "https://localhost:8080/"
        },
        "id": "e5P7PUxb7InA",
        "outputId": "0466f003-b521-48db-bac7-e4b556d931c0"
      },
      "execution_count": null,
      "outputs": [
        {
          "output_type": "stream",
          "name": "stdout",
          "text": [
            "Collecting bleu\n",
            "  Downloading bleu-0.3.tar.gz (5.2 kB)\n",
            "  Preparing metadata (setup.py) ... \u001b[?25l\u001b[?25hdone\n",
            "Collecting efficiency (from bleu)\n",
            "  Downloading efficiency-2.0-py3-none-any.whl.metadata (2.5 kB)\n",
            "Requirement already satisfied: pandas in /usr/local/lib/python3.10/dist-packages (from efficiency->bleu) (2.1.4)\n",
            "Requirement already satisfied: numpy in /usr/local/lib/python3.10/dist-packages (from efficiency->bleu) (1.26.4)\n",
            "Requirement already satisfied: python-dateutil>=2.8.2 in /usr/local/lib/python3.10/dist-packages (from pandas->efficiency->bleu) (2.8.2)\n",
            "Requirement already satisfied: pytz>=2020.1 in /usr/local/lib/python3.10/dist-packages (from pandas->efficiency->bleu) (2024.1)\n",
            "Requirement already satisfied: tzdata>=2022.1 in /usr/local/lib/python3.10/dist-packages (from pandas->efficiency->bleu) (2024.1)\n",
            "Requirement already satisfied: six>=1.5 in /usr/local/lib/python3.10/dist-packages (from python-dateutil>=2.8.2->pandas->efficiency->bleu) (1.16.0)\n",
            "Downloading efficiency-2.0-py3-none-any.whl (32 kB)\n",
            "Building wheels for collected packages: bleu\n",
            "  Building wheel for bleu (setup.py) ... \u001b[?25l\u001b[?25hdone\n",
            "  Created wheel for bleu: filename=bleu-0.3-py3-none-any.whl size=5780 sha256=d05d40f5f5ec1cc422687b4c90e94bff2531d4e9b24d37b0fdfb67c1cf6b7edf\n",
            "  Stored in directory: /root/.cache/pip/wheels/c6/d8/d1/009abe01b8b2c6a14c62d197b510b3cc1076014c22d712c5ce\n",
            "Successfully built bleu\n",
            "Installing collected packages: efficiency, bleu\n",
            "Successfully installed bleu-0.3 efficiency-2.0\n"
          ]
        }
      ]
    },
    {
      "cell_type": "code",
      "execution_count": 101,
      "metadata": {
        "id": "Z-rrKZ4i2bMF"
      },
      "outputs": [],
      "source": [
        "import pandas as pd\n",
        "import numpy as np\n",
        "import nltk\n",
        "from nltk.tokenize import word_tokenize\n",
        "from nltk.corpus import stopwords\n",
        "from nltk.stem import WordNetLemmatizer\n",
        "from transformers import AutoTokenizer, AutoModelForSequenceClassification\n",
        "from transformers import BertTokenizer, BertModel\n",
        "from transformers import T5Tokenizer, T5Model\n",
        "from transformers import GPT2Tokenizer, GPT2Model\n",
        "from rouge_score import rouge_scorer\n",
        "from nltk.translate.bleu_score import sentence_bleu\n",
        "from transformers import BertTokenizer, DataCollatorWithPadding\n",
        "from sklearn.metrics import f1_score\n",
        "import matplotlib.pyplot as plt\n",
        "import seaborn as sns\n",
        "import plotly.graph_objs as go\n",
        "from sklearn.model_selection import train_test_split\n",
        "import re\n",
        "import html\n",
        "from collections import Counter\n",
        "\n"
      ]
    },
    {
      "cell_type": "code",
      "source": [],
      "metadata": {
        "id": "hR52E-04HAsm"
      },
      "execution_count": null,
      "outputs": []
    },
    {
      "cell_type": "markdown",
      "source": [
        "# Tokenization"
      ],
      "metadata": {
        "id": "RpOKEzQ8j7eL"
      }
    },
    {
      "cell_type": "code",
      "source": [
        "# Tokenize the data\n",
        "nltk.download('punkt')\n",
        "nltk.download('stopwords')\n",
        "nltk.download('wordnet')\n",
        "stop_words = set(stopwords.words('english'))\n",
        "lemmatizer = WordNetLemmatizer()"
      ],
      "metadata": {
        "colab": {
          "base_uri": "https://localhost:8080/"
        },
        "id": "2rMsT19Yj6J2",
        "outputId": "6189e2a6-9e3c-40c5-ac86-b22b575cdb26"
      },
      "execution_count": null,
      "outputs": [
        {
          "output_type": "stream",
          "name": "stderr",
          "text": [
            "[nltk_data] Downloading package punkt to /root/nltk_data...\n",
            "[nltk_data]   Package punkt is already up-to-date!\n",
            "[nltk_data] Downloading package stopwords to /root/nltk_data...\n",
            "[nltk_data]   Package stopwords is already up-to-date!\n",
            "[nltk_data] Downloading package wordnet to /root/nltk_data...\n",
            "[nltk_data]   Package wordnet is already up-to-date!\n"
          ]
        }
      ]
    },
    {
      "cell_type": "code",
      "source": [
        "from datasets import load_dataset\n",
        "from transformers import AutoTokenizer\n",
        "\n",
        "# Load the dataset\n",
        "dataset = load_dataset(\"toughdata/quora-question-answer-dataset\")\n",
        "\n",
        "# Initialize the tokenizer\n",
        "tokenizer = AutoTokenizer.from_pretrained(\"bert-base-uncased\")\n",
        "\n",
        "# Tokenize the dataset\n",
        "def tokenize_function(examples):\n",
        "    return tokenizer(examples[\"question\"], examples[\"answer\"], truncation=True, padding=\"max_length\", max_length=128)\n",
        "\n",
        "tokenized_datasets = dataset.map(tokenize_function, batched=True, remove_columns=[\"question\", \"answer\"])\n",
        "\n",
        "# Preview the tokenized dataset\n",
        "print(tokenized_datasets[\"train\"][0])\n",
        "\n",
        "\n"
      ],
      "metadata": {
        "colab": {
          "base_uri": "https://localhost:8080/",
          "height": 86,
          "referenced_widgets": [
            "5c4514bf36a24813bca998fc5a7c9397",
            "c17899ed44b54c828c2a58e1e36b188c",
            "95e9ddc3857e44d6ada4348fbd10079d",
            "e221961f438941cdab4e5b219ee52796",
            "5bad1d28df504b09a2b04b0537f127f8",
            "9ddd5f96d15041dfb6e60f369f255fa0",
            "2f8049ee25af42c59f918214358ce14d",
            "bed9d6741a2449b58436c85031fcd49f",
            "da3b3af5fb42457b82aa95ddf09244f7",
            "da26abf0ee234a88bf9d7b836656cf09",
            "b44dd904967a410a922a45689387f449"
          ]
        },
        "id": "qjCONPcK7twL",
        "outputId": "dd7bd6c9-db10-4b02-b245-b30eb4a8deef"
      },
      "execution_count": 112,
      "outputs": [
        {
          "output_type": "display_data",
          "data": {
            "text/plain": [
              "Map:   0%|          | 0/56402 [00:00<?, ? examples/s]"
            ],
            "application/vnd.jupyter.widget-view+json": {
              "version_major": 2,
              "version_minor": 0,
              "model_id": "5c4514bf36a24813bca998fc5a7c9397"
            }
          },
          "metadata": {}
        },
        {
          "output_type": "stream",
          "name": "stdout",
          "text": [
            "{'input_ids': [101, 2339, 7188, 1045, 2131, 1999, 1996, 6457, 2026, 6513, 2215, 2000, 3693, 1029, 102, 3475, 1521, 1056, 2009, 9643, 1029, 2017, 2052, 8415, 2008, 2045, 2347, 1521, 1056, 2438, 2980, 2300, 2000, 2175, 2105, 999, 102, 0, 0, 0, 0, 0, 0, 0, 0, 0, 0, 0, 0, 0, 0, 0, 0, 0, 0, 0, 0, 0, 0, 0, 0, 0, 0, 0, 0, 0, 0, 0, 0, 0, 0, 0, 0, 0, 0, 0, 0, 0, 0, 0, 0, 0, 0, 0, 0, 0, 0, 0, 0, 0, 0, 0, 0, 0, 0, 0, 0, 0, 0, 0, 0, 0, 0, 0, 0, 0, 0, 0, 0, 0, 0, 0, 0, 0, 0, 0, 0, 0, 0, 0, 0, 0, 0, 0, 0, 0, 0, 0], 'token_type_ids': [0, 0, 0, 0, 0, 0, 0, 0, 0, 0, 0, 0, 0, 0, 0, 1, 1, 1, 1, 1, 1, 1, 1, 1, 1, 1, 1, 1, 1, 1, 1, 1, 1, 1, 1, 1, 1, 0, 0, 0, 0, 0, 0, 0, 0, 0, 0, 0, 0, 0, 0, 0, 0, 0, 0, 0, 0, 0, 0, 0, 0, 0, 0, 0, 0, 0, 0, 0, 0, 0, 0, 0, 0, 0, 0, 0, 0, 0, 0, 0, 0, 0, 0, 0, 0, 0, 0, 0, 0, 0, 0, 0, 0, 0, 0, 0, 0, 0, 0, 0, 0, 0, 0, 0, 0, 0, 0, 0, 0, 0, 0, 0, 0, 0, 0, 0, 0, 0, 0, 0, 0, 0, 0, 0, 0, 0, 0, 0], 'attention_mask': [1, 1, 1, 1, 1, 1, 1, 1, 1, 1, 1, 1, 1, 1, 1, 1, 1, 1, 1, 1, 1, 1, 1, 1, 1, 1, 1, 1, 1, 1, 1, 1, 1, 1, 1, 1, 1, 0, 0, 0, 0, 0, 0, 0, 0, 0, 0, 0, 0, 0, 0, 0, 0, 0, 0, 0, 0, 0, 0, 0, 0, 0, 0, 0, 0, 0, 0, 0, 0, 0, 0, 0, 0, 0, 0, 0, 0, 0, 0, 0, 0, 0, 0, 0, 0, 0, 0, 0, 0, 0, 0, 0, 0, 0, 0, 0, 0, 0, 0, 0, 0, 0, 0, 0, 0, 0, 0, 0, 0, 0, 0, 0, 0, 0, 0, 0, 0, 0, 0, 0, 0, 0, 0, 0, 0, 0, 0, 0]}\n"
          ]
        }
      ]
    },
    {
      "cell_type": "markdown",
      "source": [
        "#**Data Pre-Processing**"
      ],
      "metadata": {
        "id": "ymkV6gIOjkig"
      }
    },
    {
      "cell_type": "code",
      "source": [
        "\n",
        "def preprocess_text(text):\n",
        "    tokens = word_tokenize(text)\n",
        "    tokens = [token for token in tokens if token.lower() not in stop_words]\n",
        "    tokens = [lemmatizer.lemmatize(token) for token in tokens]\n",
        "    return ' '.join(tokens)\n",
        "\n",
        "# Apply preprocessing to the 'question' and 'answer' columns\n",
        "dataset = dataset.map(lambda x: {'question': preprocess_text(x['question']),\n",
        "                                 'answer': preprocess_text(x['answer'])})\n",
        "\n",
        "# Convert dataset to pandas DataFrame for splitting\n",
        "df = dataset['train'].to_pandas()\n",
        "\n",
        "# Split the data into training and validation sets\n",
        "train_data, val_data = train_test_split(df, test_size=0.2, random_state=42)\n",
        "\n",
        "print(\"Training Data:\")\n",
        "print(train_data)\n",
        "print(\"\\nValidation Data:\")\n",
        "print(val_data)\n"
      ],
      "metadata": {
        "colab": {
          "base_uri": "https://localhost:8080/",
          "height": 1000,
          "referenced_widgets": [
            "f864d036378c49e4889f7fb6010d8a52",
            "1021f95831ec425ba06afaa5e97cfda2",
            "89b1a1a2670b4bf5a99d9366bdb50c29",
            "49756bba4ceb499994ea0dea266bb2c1",
            "3e3c3d9496984b078adb38cd60ff7de5",
            "ab9ae822abbd4c60a80a1f77984f6930",
            "93370c1a9234412580e5bd2e3f9fa0dc",
            "f60d1e1ffab845ed8951b32cc10eeb7f",
            "56a51935746f403d8217aba6c75d5de1",
            "3076a7810b844fbda64b307d6fdd080d",
            "ed1120a221824cde8c892239a8fec2f1",
            "80926a0f53a1462f881a39b5f6f6d54d",
            "886727cd92204f57a21a345f19cfc0df",
            "affaee6881194e9e9a2d3f0eb78fbe90",
            "3b244203df65470f9b8f043d8c0eb227",
            "53681242ddb84b939051d1b4d51e9d92",
            "e5ce64ddfc9747c9bba1afd5951be55c",
            "f901300047b74545ae494146faae926c",
            "213b336a3fcb40a9b71e7303a02986fe",
            "f39eb7d76b5e4d4695e5b321f52e7ae2",
            "3d5be50042cc4a1cb91b289b8502146d",
            "4bb15225e8104aaa96247f9d007f31a1"
          ]
        },
        "id": "uY99ZPXS8VEJ",
        "outputId": "0324715f-5d06-4c4e-e531-9f0393ac6aa3"
      },
      "execution_count": null,
      "outputs": [
        {
          "output_type": "display_data",
          "data": {
            "text/plain": [
              "Map:   0%|          | 0/45121 [00:00<?, ? examples/s]"
            ],
            "application/vnd.jupyter.widget-view+json": {
              "version_major": 2,
              "version_minor": 0,
              "model_id": "f864d036378c49e4889f7fb6010d8a52"
            }
          },
          "metadata": {}
        },
        {
          "output_type": "display_data",
          "data": {
            "text/plain": [
              "Map:   0%|          | 0/11281 [00:00<?, ? examples/s]"
            ],
            "application/vnd.jupyter.widget-view+json": {
              "version_major": 2,
              "version_minor": 0,
              "model_id": "80926a0f53a1462f881a39b5f6f6d54d"
            }
          },
          "metadata": {}
        },
        {
          "output_type": "stream",
          "name": "stdout",
          "text": [
            "Training Data:\n",
            "                                                question  \\\n",
            "17394                                          calculate   \n",
            "29099                            imagine life 100 year ?   \n",
            "42067                              represents GOP 2021 ?   \n",
            "24706                   teenager wish adult understood ?   \n",
            "35644                           ever judged appearance ?   \n",
            "...                                                  ...   \n",
            "11284           happen $ 1 equal 1 rupee ? consequence ?   \n",
            "44732                  one find best biryani bangalore ?   \n",
            "38158  British Empire able become big/powerful UK sma...   \n",
            "860    modern English le Celtic word Franco-Greco-Lat...   \n",
            "15795      find stock swing trading positional trading ?   \n",
            "\n",
            "                                                  answer  \n",
            "17394  sum first n natural number : ( n ) = ( n ( n+1...  \n",
            "29099                                          Extinct ?  \n",
            "42067                                   Mitch McCarthy .  \n",
            "24706  • stupid . opinion valid . may much experience...  \n",
            "35644  describe chance success , say : “ either look ...  \n",
            "...                                                  ...  \n",
            "11284                             India become US Asia !  \n",
            "44732              Shivaji military hotel , Banashankari  \n",
            "38158  Three word “ Glorious Revolution ” cemented po...  \n",
            "860    le stuff name back . Ever heard someone speaki...  \n",
            "15795                         Watch better understanding  \n",
            "\n",
            "[36096 rows x 2 columns]\n",
            "\n",
            "Validation Data:\n",
            "                                                question  \\\n",
            "20525    inspiring superhero Marvel Cinematic Universe ?   \n",
            "22468            good master course data science india ?   \n",
            "7908   Melinda Gates say choosing divorce Bill 'lowes...   \n",
            "5262                         Tempurpedic bed expensive ?   \n",
            "31892                            D-Day boat open front ?   \n",
            "...                                                  ...   \n",
            "28095     choose ASO MEA management trainee Coal India ?   \n",
            "24571                 best ayurvedic medicine diabetes ?   \n",
            "42268                      best way start learning PHP ?   \n",
            "43428  organ similar enough piano piano player ’ know...   \n",
            "24362                  download magazine free Internet ?   \n",
            "\n",
            "                                                  answer  \n",
            "20525                                       Agent Carter  \n",
            "22468  's quite evident Data science one finest growi...  \n",
            "7908      's low point everyone 's life ! make special ?  \n",
            "5262   Choosing right mattress confusing task . guide...  \n",
            "31892  much point opening back ( second thought US Ma...  \n",
            "...                                                  ...  \n",
            "28095              latter need sell soul toe besrds line  \n",
            "24571  Ayurveda ancient form traditional Indian medic...  \n",
            "42268  Learn step step PHP 45+ example : [ LINKED_TEX...  \n",
            "43428  might bit start , big difference . organist pl...  \n",
            "24362  One best website free book Project Gutenberg (...  \n",
            "\n",
            "[9025 rows x 2 columns]\n"
          ]
        }
      ]
    },
    {
      "cell_type": "code",
      "source": [
        "# Convert dataset to pandas DataFrame for splitting\n",
        "df = dataset['train'].to_pandas()\n"
      ],
      "metadata": {
        "id": "HWor3u7Knsko"
      },
      "execution_count": null,
      "outputs": []
    },
    {
      "cell_type": "markdown",
      "source": [
        "#**Split the training data into train and validation sets**"
      ],
      "metadata": {
        "id": "C_pVCSpqK7sI"
      }
    },
    {
      "cell_type": "code",
      "source": [
        "\n",
        "\n",
        "# Split the training data into train and validation sets (80/20)\n",
        "train_df, val_df = train_test_split(train_data, test_size=0.2, random_state=42)\n",
        "\n",
        "print(\"Train DataFrame:\")\n",
        "print(train_df)\n",
        "print(\"\\nValidation DataFrame:\")\n",
        "print(val_df)\n"
      ],
      "metadata": {
        "colab": {
          "base_uri": "https://localhost:8080/"
        },
        "id": "diASXb9mJbG-",
        "outputId": "56f12bb3-3c95-4966-bbb6-f4fdc2232f6f"
      },
      "execution_count": null,
      "outputs": [
        {
          "output_type": "stream",
          "name": "stdout",
          "text": [
            "Train DataFrame:\n",
            "                                                question  \\\n",
            "26131              use WhatsApp without SIM card phone ?   \n",
            "31497  vocal exercise really help singing become bett...   \n",
            "14142          lose 10 pound 3 week without exercising ?   \n",
            "18243                   genetic malformation Megan Fox ?   \n",
            "32148  purchase Marrow note prepare note second-year ...   \n",
            "...                                                  ...   \n",
            "17694                                   best thing die ?   \n",
            "22272              homosexual decide alpha ; coin toss ?   \n",
            "32187                                  see picture dog ?   \n",
            "22864   cosmetic dentistry different general dentistry ?   \n",
            "16047             without using mathematical induction ?   \n",
            "\n",
            "                                                  answer  \n",
            "26131  would like know tov get old watsapp without od...  \n",
            "31497  Oh , absolutely , technically correct exercise...  \n",
            "14142  60 Second Dental Trick Going Bed Tonight Rebui...  \n",
            "18243  genetic malformation called “ Stupidity '' . l...  \n",
            "32148  2nd MBBS student . 've recently purchased marr...  \n",
            "...                                                  ...  \n",
            "17694  Make peace everyone life . Thank part . , good...  \n",
            "22272  wife merely flip homophobe , course age nobody...  \n",
            "32187  Sure ! Indie , ’ three year old caramel Border...  \n",
            "22864  General dentistry field [ LINKED_TEXT : Dentis...  \n",
            "16047  [ math ] A_n=n^5-5n^3+4n [ /math ] n even [ ma...  \n",
            "\n",
            "[28876 rows x 2 columns]\n",
            "\n",
            "Validation DataFrame:\n",
            "                                                question  \\\n",
            "36360             LPU good taking admission CSE branch ?   \n",
            "3569   English almost grammar-less language . — Richa...   \n",
            "28659               Rohit Shetty directed Interstellar ?   \n",
            "44852            like good/best friend opposite gender ?   \n",
            "1718             Amazon Prime member get free shipping ?   \n",
            "...                                                  ...   \n",
            "30735  song major hit artist band also created backla...   \n",
            "31173                           best one liner written ?   \n",
            "9219              China keeping North Korea using nuke ?   \n",
            "38160  aboriginal people leave bigger mark Australian...   \n",
            "16853            never get wood chisel sharp brand new ?   \n",
            "\n",
            "                                                  answer  \n",
            "36360  , passing year , 've witnessed LPU expand ever...  \n",
            "3569   agree relatively ! example , gender noun Engli...  \n",
            "28659  Ajay Devgan ( cooper ) try send signal daughte...  \n",
            "44852  looking good question write something Quora ! ...  \n",
            "1718   ineligibility criterion Items fulfilled Amazon...  \n",
            "...                                                  ...  \n",
            "30735                               Cocaine Eric Clapton  \n",
            "31173  two forever favorite “ process SOMEWHERE…Somet...  \n",
            "9219   Yes , . understand north Korean mindset . Chin...  \n",
            "38160  First Australians ' ( Aboriginal Torres Strait...  \n",
            "16853  Brand new chisel rarely sharpened ; bevel grou...  \n",
            "\n",
            "[7220 rows x 2 columns]\n"
          ]
        }
      ]
    },
    {
      "cell_type": "markdown",
      "source": [
        "# **Data Pre-Processing**"
      ],
      "metadata": {
        "id": "n8ayz4aNDCDh"
      }
    },
    {
      "cell_type": "code",
      "source": [
        "\n",
        "def preprocess_text(text):\n",
        "    tokens = word_tokenize(text)\n",
        "    tokens = [token for token in tokens if token.lower() not in stop_words]\n",
        "    tokens = [lemmatizer.lemmatize(token) for token in tokens]\n",
        "    return ' '.join(tokens)\n",
        "\n",
        "# Apply preprocessing to the 'question' and 'answer' columns\n",
        "dataset = dataset.map(lambda x: {'question': preprocess_text(x['question']),\n",
        "                                 'answer': preprocess_text(x['answer'])})\n",
        "\n",
        "# Convert dataset to pandas DataFrame for splitting\n",
        "df = dataset['train'].to_pandas()\n",
        "\n",
        "# Split the data into training and validation sets\n",
        "train_data, val_data = train_test_split(df, test_size=0.2, random_state=42)\n",
        "\n",
        "print(\"Training Data:\")\n",
        "print(train_data)\n",
        "print(\"\\nValidation Data:\")\n",
        "print(val_data)\n"
      ],
      "metadata": {
        "colab": {
          "base_uri": "https://localhost:8080/",
          "height": 1000,
          "referenced_widgets": [
            "fa22e732b2c049d3b0d37cf19a824568",
            "2db099aa05954e498be78350787ed51f",
            "1a99cde5a2b74a8f90beea5f99c831f4",
            "694bb03b82724587ba8c815bb234ef83",
            "aa1c0552aa874de792c52d666ec32f22",
            "5dd20e45defe466bab0ae9e3f61b8cbe",
            "5a3be322cdaa4e9fbddfd4533bce0003",
            "cb941c7153d54c818e68276cfaf91ac8",
            "450a91a213d045beb19f42eeb90fbef6",
            "337e8b338e3141a8bf7fe21b555cfb48",
            "0045e371730f4af4b4c5b3b458b5747d",
            "be4a0cd6396b40748f57a3125fbaf5c1",
            "524207f195df42d2a5bc64e4f17eda23",
            "bdab02d32ee346fd909dc8be520adbfe",
            "dee4df70d64d4876b707f6daece222d0",
            "e6e61d764e5245bf901aa97066cf6ec1",
            "7a064bd5b4a74cd09ea0144cc3c8208b",
            "b87559d4a10b4244984fd05e47b57039",
            "b9ba85d2cad54e81aea98b01b2455e41",
            "85e0dc638e074098a4563416f8aecd53",
            "a3ac663b06cd417fb78357ff53db10ff",
            "c102981d6e674f4892e3826ed01b16d1"
          ]
        },
        "id": "VQPP4k0Pkuqt",
        "outputId": "e878aee6-31a2-4900-9aae-e3c1bdacdb7f"
      },
      "execution_count": null,
      "outputs": [
        {
          "output_type": "display_data",
          "data": {
            "text/plain": [
              "Map:   0%|          | 0/45121 [00:00<?, ? examples/s]"
            ],
            "application/vnd.jupyter.widget-view+json": {
              "version_major": 2,
              "version_minor": 0,
              "model_id": "fa22e732b2c049d3b0d37cf19a824568"
            }
          },
          "metadata": {}
        },
        {
          "output_type": "display_data",
          "data": {
            "text/plain": [
              "Map:   0%|          | 0/11281 [00:00<?, ? examples/s]"
            ],
            "application/vnd.jupyter.widget-view+json": {
              "version_major": 2,
              "version_minor": 0,
              "model_id": "be4a0cd6396b40748f57a3125fbaf5c1"
            }
          },
          "metadata": {}
        },
        {
          "output_type": "stream",
          "name": "stdout",
          "text": [
            "Training Data:\n",
            "                                                question  \\\n",
            "17394                                          calculate   \n",
            "29099                            imagine life 100 year ?   \n",
            "42067                              represents GOP 2021 ?   \n",
            "24706                   teenager wish adult understood ?   \n",
            "35644                           ever judged appearance ?   \n",
            "...                                                  ...   \n",
            "11284           happen $ 1 equal 1 rupee ? consequence ?   \n",
            "44732                  one find best biryani bangalore ?   \n",
            "38158  British Empire able become big/powerful UK sma...   \n",
            "860    modern English le Celtic word Franco-Greco-Lat...   \n",
            "15795      find stock swing trading positional trading ?   \n",
            "\n",
            "                                                  answer  \n",
            "17394  sum first n natural number : ( n ) = ( n ( n+1...  \n",
            "29099                                          Extinct ?  \n",
            "42067                                   Mitch McCarthy .  \n",
            "24706  • stupid . opinion valid . may much experience...  \n",
            "35644  describe chance success , say : “ either look ...  \n",
            "...                                                  ...  \n",
            "11284                             India become US Asia !  \n",
            "44732              Shivaji military hotel , Banashankari  \n",
            "38158  Three word “ Glorious Revolution ” cemented po...  \n",
            "860    le stuff name back . Ever heard someone speaki...  \n",
            "15795                         Watch better understanding  \n",
            "\n",
            "[36096 rows x 2 columns]\n",
            "\n",
            "Validation Data:\n",
            "                                                question  \\\n",
            "20525    inspiring superhero Marvel Cinematic Universe ?   \n",
            "22468            good master course data science india ?   \n",
            "7908   Melinda Gates say choosing divorce Bill 'lowes...   \n",
            "5262                         Tempurpedic bed expensive ?   \n",
            "31892                            D-Day boat open front ?   \n",
            "...                                                  ...   \n",
            "28095     choose ASO MEA management trainee Coal India ?   \n",
            "24571                 best ayurvedic medicine diabetes ?   \n",
            "42268                      best way start learning PHP ?   \n",
            "43428  organ similar enough piano piano player ’ know...   \n",
            "24362                  download magazine free Internet ?   \n",
            "\n",
            "                                                  answer  \n",
            "20525                                       Agent Carter  \n",
            "22468  's quite evident Data science one finest growi...  \n",
            "7908      's low point everyone 's life ! make special ?  \n",
            "5262   Choosing right mattress confusing task . guide...  \n",
            "31892  much point opening back ( second thought US Ma...  \n",
            "...                                                  ...  \n",
            "28095              latter need sell soul toe besrds line  \n",
            "24571  Ayurveda ancient form traditional Indian medic...  \n",
            "42268  Learn step step PHP 45+ example : [ LINKED_TEX...  \n",
            "43428  might bit start , big difference . organist pl...  \n",
            "24362  One best website free book Project Gutenberg (...  \n",
            "\n",
            "[9025 rows x 2 columns]\n"
          ]
        }
      ]
    },
    {
      "cell_type": "markdown",
      "source": [
        "#Data Cleaning"
      ],
      "metadata": {
        "id": "8XfQ1ivxpBG5"
      }
    },
    {
      "cell_type": "markdown",
      "source": [
        "Clean the text\n"
      ],
      "metadata": {
        "id": "djQgGIADoR8z"
      }
    },
    {
      "cell_type": "code",
      "source": [
        "import re\n",
        "\n",
        "def clean_text(text):\n",
        "  # Remove special characters and numbers\n",
        "  text = re.sub(r'[^a-zA-Z\\s]', '', text)\n",
        "  # Convert to lowercase\n",
        "  text = text.lower()\n",
        "  # Remove extra whitespace\n",
        "  text = text.strip()\n",
        "  return text\n",
        "\n",
        "# Apply clean_text function to 'question' and 'answer' columns in train_df\n",
        "train_df['question'] = train_df['question'].apply(clean_text)\n",
        "train_df['answer'] = train_df['answer'].apply(clean_text)\n",
        "\n",
        "# Apply clean_text function to 'question' and 'answer' columns in val_df\n",
        "val_df['question'] = val_df['question'].apply(clean_text)\n",
        "val_df['answer'] = val_df['answer'].apply(clean_text)\n",
        "\n",
        "print(\"Cleaned Train DataFrame:\")\n",
        "print(train_df.head())\n",
        "print(\"\\nCleaned Validation DataFrame:\")\n",
        "print(val_df.head())"
      ],
      "metadata": {
        "colab": {
          "base_uri": "https://localhost:8080/"
        },
        "id": "42CMQ70doRHO",
        "outputId": "04b17563-3944-402d-a1f2-b0d78f4e5f3d"
      },
      "execution_count": null,
      "outputs": [
        {
          "output_type": "stream",
          "name": "stdout",
          "text": [
            "Cleaned Train DataFrame:\n",
            "                                                question  \\\n",
            "26131                use whatsapp without sim card phone   \n",
            "31497   vocal exercise really help singing become better   \n",
            "14142               lose  pound  week without exercising   \n",
            "18243                     genetic malformation megan fox   \n",
            "32148  purchase marrow note prepare note secondyear m...   \n",
            "\n",
            "                                                  answer  \n",
            "26131  would like know tov get old watsapp without od...  \n",
            "31497  oh  absolutely  technically correct exercise  ...  \n",
            "14142  second dental trick going bed tonight rebuild ...  \n",
            "18243  genetic malformation called  stupidity   lucky...  \n",
            "32148  nd mbbs student  ve recently purchased marrow ...  \n",
            "\n",
            "Cleaned Validation DataFrame:\n",
            "                                                question  \\\n",
            "36360               lpu good taking admission cse branch   \n",
            "3569   english almost grammarless language   richard ...   \n",
            "28659                 rohit shetty directed interstellar   \n",
            "44852               like goodbest friend opposite gender   \n",
            "1718               amazon prime member get free shipping   \n",
            "\n",
            "                                                  answer  \n",
            "36360  passing year  ve witnessed lpu expand every wa...  \n",
            "3569      agree relatively  example  gender noun english  \n",
            "28659  ajay devgan  cooper  try send signal daughter ...  \n",
            "44852  looking good question write something quora  f...  \n",
            "1718   ineligibility criterion items fulfilled amazon...  \n"
          ]
        }
      ]
    },
    {
      "cell_type": "markdown",
      "source": [
        "# Lemmatization\n",
        "\n",
        "\n"
      ],
      "metadata": {
        "id": "BOxVeZIUMoF5"
      }
    },
    {
      "cell_type": "code",
      "source": [
        "\n",
        "\n",
        "def lemmatize_text(text):\n",
        "  tokens = word_tokenize(text)\n",
        "  lemmatized_tokens = [lemmatizer.lemmatize(token) for token in tokens]\n",
        "  return ' '.join(lemmatized_tokens)\n",
        "\n",
        "# Apply lemmatize_text function to 'question' and 'answer' columns in train_df\n",
        "train_df['question'] = train_df['question'].apply(lemmatize_text)\n",
        "train_df['answer'] = train_df['answer'].apply(lemmatize_text)\n",
        "\n",
        "# Apply lemmatize_text function to 'question' and 'answer' columns in val_df\n",
        "val_df['question'] = val_df['question'].apply(lemmatize_text)\n",
        "val_df['answer'] = val_df['answer'].apply(lemmatize_text)\n",
        "\n",
        "print(\"Lemmatized Train DataFrame:\")\n",
        "print(train_df.head())\n",
        "print(\"\\nLemmatized Validation DataFrame:\")\n",
        "print(val_df.head())"
      ],
      "metadata": {
        "colab": {
          "base_uri": "https://localhost:8080/"
        },
        "id": "as3KThNqmWPq",
        "outputId": "880e7b75-c5d3-4d7c-b34b-7a3ba560a7d7"
      },
      "execution_count": null,
      "outputs": [
        {
          "output_type": "stream",
          "name": "stderr",
          "text": [
            "[nltk_data] Downloading package wordnet to /root/nltk_data...\n",
            "[nltk_data]   Package wordnet is already up-to-date!\n"
          ]
        },
        {
          "output_type": "stream",
          "name": "stdout",
          "text": [
            "Lemmatized Train DataFrame:\n",
            "                                                question  \\\n",
            "26131                use whatsapp without sim card phone   \n",
            "31497   vocal exercise really help singing become better   \n",
            "14142                 lose pound week without exercising   \n",
            "18243                     genetic malformation megan fox   \n",
            "32148  purchase marrow note prepare note secondyear m...   \n",
            "\n",
            "                                                  answer  \n",
            "26131  would like know tov get old watsapp without od...  \n",
            "31497  oh absolutely technically correct exercise aim...  \n",
            "14142  second dental trick going bed tonight rebuild ...  \n",
            "18243  genetic malformation called stupidity lucky la...  \n",
            "32148  nd mbbs student ve recently purchased marrow l...  \n",
            "\n",
            "Lemmatized Validation DataFrame:\n",
            "                                                question  \\\n",
            "36360               lpu good taking admission cse branch   \n",
            "3569   english almost grammarless language richard gr...   \n",
            "28659                 rohit shetty directed interstellar   \n",
            "44852               like goodbest friend opposite gender   \n",
            "1718               amazon prime member get free shipping   \n",
            "\n",
            "                                                  answer  \n",
            "36360  passing year ve witnessed lpu expand every way...  \n",
            "3569        agree relatively example gender noun english  \n",
            "28659  ajay devgan cooper try send signal daughter ki...  \n",
            "44852  looking good question write something quora fo...  \n",
            "1718   ineligibility criterion item fulfilled amazon ...  \n"
          ]
        }
      ]
    },
    {
      "cell_type": "markdown",
      "source": [
        "# Text Encoding/Vectorization"
      ],
      "metadata": {
        "id": "CT9s2VUiDliv"
      }
    },
    {
      "cell_type": "markdown",
      "source": [
        "# TF-IDF"
      ],
      "metadata": {
        "id": "oVCskWQvFiYu"
      }
    },
    {
      "cell_type": "code",
      "source": [
        "from sklearn.feature_extraction.text import TfidfVectorizer\n",
        "\n",
        "\n",
        "# Assuming train_df and val_df are your DataFrames with 'question' and 'answer' columns\n",
        "\n",
        "# Combine questions and answers for vectorization\n",
        "train_texts = train_df['question'].tolist() + train_df['answer'].tolist()\n",
        "val_texts = val_df['question'].tolist() + val_df['answer'].tolist()\n",
        "\n",
        "# Ensure all elements in the lists are strings\n",
        "train_texts = [str(text) for text in train_texts]  # Convert any non-string elements to strings\n",
        "val_texts = [str(text) for text in val_texts]\n",
        "\n",
        "# Create a TF-IDF vectorizer\n",
        "vectorizer = TfidfVectorizer()\n",
        "\n",
        "# Fit the vectorizer on the training data and transform both training and validation data\n",
        "train_tfidf = vectorizer.fit_transform(train_texts)\n",
        "val_tfidf = vectorizer.transform(val_texts)\n",
        "\n",
        "# Get feature names (words) from the vectorizer\n",
        "feature_names = vectorizer.get_feature_names_out()\n",
        "\n",
        "print(\"Shape of Train TF-IDF Matrix:\", train_tfidf.shape)\n",
        "print(\"Shape of Validation TF-IDF Matrix:\", val_tfidf.shape)\n",
        "print(\"\\nFeature Names:\")\n",
        "print(feature_names)"
      ],
      "metadata": {
        "colab": {
          "base_uri": "https://localhost:8080/"
        },
        "id": "uya5oyCBDc2u",
        "outputId": "f5ab7646-26d3-44fe-f89c-94960e561561"
      },
      "execution_count": 108,
      "outputs": [
        {
          "output_type": "stream",
          "name": "stdout",
          "text": [
            "Shape of Train TF-IDF Matrix: (4, 15)\n",
            "Shape of Validation TF-IDF Matrix: (14440, 15)\n",
            "\n",
            "Feature Names:\n",
            "['anatole' 'capital' 'compose' 'francois' 'is' 'jacques' 'of' 'paris'\n",
            " 'shakespeare' 'the' 'thibault' 'village' 'what' 'who' 'william']\n"
          ]
        }
      ]
    },
    {
      "cell_type": "markdown",
      "source": [
        "# **Data Augmentation**"
      ],
      "metadata": {
        "id": "J2mtxz2Lmpvd"
      }
    },
    {
      "cell_type": "markdown",
      "source": [
        " # Paraphrasing"
      ],
      "metadata": {
        "id": "wRYh9p8_mw4w"
      }
    },
    {
      "cell_type": "code",
      "source": [
        "\n",
        "\n",
        "!pip install nlpaug\n",
        "import nlpaug.augmenter.word as naw\n",
        "\n",
        "# Initialize a synonym augmenter\n",
        "aug = naw.SynonymAug(aug_src='wordnet')\n",
        "\n",
        "# Function to paraphrase text\n",
        "def paraphrase_text(text):\n",
        "  augmented_text = aug.augment(text)\n",
        "  return augmented_text\n",
        "\n",
        "# Apply paraphrasing to 'question' column in train_df\n",
        "train_df['question'] = train_df['question'].apply(paraphrase_text)\n",
        "\n",
        "print(\"Paraphrased Train DataFrame:\")\n",
        "print(train_df.head())\n"
      ],
      "metadata": {
        "colab": {
          "base_uri": "https://localhost:8080/"
        },
        "id": "cSJiMJRfnIvE",
        "outputId": "55ddb6e9-20e9-43b6-be97-4235a3ec0a6c"
      },
      "execution_count": null,
      "outputs": [
        {
          "output_type": "stream",
          "name": "stdout",
          "text": [
            "Collecting nlpaug\n",
            "  Downloading nlpaug-1.1.11-py3-none-any.whl.metadata (14 kB)\n",
            "Requirement already satisfied: numpy>=1.16.2 in /usr/local/lib/python3.10/dist-packages (from nlpaug) (1.26.4)\n",
            "Requirement already satisfied: pandas>=1.2.0 in /usr/local/lib/python3.10/dist-packages (from nlpaug) (2.1.4)\n",
            "Requirement already satisfied: requests>=2.22.0 in /usr/local/lib/python3.10/dist-packages (from nlpaug) (2.32.3)\n",
            "Requirement already satisfied: gdown>=4.0.0 in /usr/local/lib/python3.10/dist-packages (from nlpaug) (5.1.0)\n",
            "Requirement already satisfied: beautifulsoup4 in /usr/local/lib/python3.10/dist-packages (from gdown>=4.0.0->nlpaug) (4.12.3)\n",
            "Requirement already satisfied: filelock in /usr/local/lib/python3.10/dist-packages (from gdown>=4.0.0->nlpaug) (3.15.4)\n",
            "Requirement already satisfied: tqdm in /usr/local/lib/python3.10/dist-packages (from gdown>=4.0.0->nlpaug) (4.66.4)\n",
            "Requirement already satisfied: python-dateutil>=2.8.2 in /usr/local/lib/python3.10/dist-packages (from pandas>=1.2.0->nlpaug) (2.8.2)\n",
            "Requirement already satisfied: pytz>=2020.1 in /usr/local/lib/python3.10/dist-packages (from pandas>=1.2.0->nlpaug) (2024.1)\n",
            "Requirement already satisfied: tzdata>=2022.1 in /usr/local/lib/python3.10/dist-packages (from pandas>=1.2.0->nlpaug) (2024.1)\n",
            "Requirement already satisfied: charset-normalizer<4,>=2 in /usr/local/lib/python3.10/dist-packages (from requests>=2.22.0->nlpaug) (3.3.2)\n",
            "Requirement already satisfied: idna<4,>=2.5 in /usr/local/lib/python3.10/dist-packages (from requests>=2.22.0->nlpaug) (3.7)\n",
            "Requirement already satisfied: urllib3<3,>=1.21.1 in /usr/local/lib/python3.10/dist-packages (from requests>=2.22.0->nlpaug) (2.0.7)\n",
            "Requirement already satisfied: certifi>=2017.4.17 in /usr/local/lib/python3.10/dist-packages (from requests>=2.22.0->nlpaug) (2024.7.4)\n",
            "Requirement already satisfied: six>=1.5 in /usr/local/lib/python3.10/dist-packages (from python-dateutil>=2.8.2->pandas>=1.2.0->nlpaug) (1.16.0)\n",
            "Requirement already satisfied: soupsieve>1.2 in /usr/local/lib/python3.10/dist-packages (from beautifulsoup4->gdown>=4.0.0->nlpaug) (2.5)\n",
            "Requirement already satisfied: PySocks!=1.5.7,>=1.5.6 in /usr/local/lib/python3.10/dist-packages (from requests[socks]->gdown>=4.0.0->nlpaug) (1.7.1)\n",
            "Downloading nlpaug-1.1.11-py3-none-any.whl (410 kB)\n",
            "\u001b[?25l   \u001b[90m━━━━━━━━━━━━━━━━━━━━━━━━━━━━━━━━━━━━━━━━\u001b[0m \u001b[32m0.0/410.5 kB\u001b[0m \u001b[31m?\u001b[0m eta \u001b[36m-:--:--\u001b[0m\r\u001b[2K   \u001b[91m━━━━━━━━━━━━━━━━━━━━━━━━━━━━━━\u001b[0m\u001b[91m╸\u001b[0m\u001b[90m━━━━━━━━━\u001b[0m \u001b[32m317.4/410.5 kB\u001b[0m \u001b[31m9.3 MB/s\u001b[0m eta \u001b[36m0:00:01\u001b[0m\r\u001b[2K   \u001b[90m━━━━━━━━━━━━━━━━━━━━━━━━━━━━━━━━━━━━━━━━\u001b[0m \u001b[32m410.5/410.5 kB\u001b[0m \u001b[31m7.5 MB/s\u001b[0m eta \u001b[36m0:00:00\u001b[0m\n",
            "\u001b[?25hInstalling collected packages: nlpaug\n",
            "Successfully installed nlpaug-1.1.11\n"
          ]
        },
        {
          "output_type": "stream",
          "name": "stderr",
          "text": [
            "[nltk_data] Downloading package averaged_perceptron_tagger to\n",
            "[nltk_data]     /root/nltk_data...\n",
            "[nltk_data]   Unzipping taggers/averaged_perceptron_tagger.zip.\n"
          ]
        },
        {
          "output_type": "stream",
          "name": "stdout",
          "text": [
            "Paraphrased Train DataFrame:\n",
            "                                            question               answer  \\\n",
            "0  [What is the capital of Jacques anatole franco...                Paris   \n",
            "1                             [Who compose Village?]  William Shakespeare   \n",
            "\n",
            "             paraphrased_question    paraphrased_answer  \n",
            "0  What is the capital of France?                Paris.  \n",
            "1               Who wrote Hamlet?  William Shakespeare.  \n"
          ]
        }
      ]
    },
    {
      "cell_type": "markdown",
      "source": [
        "# **Model Evaluation**"
      ],
      "metadata": {
        "id": "PGyiZ6fwoA-i"
      }
    },
    {
      "cell_type": "code",
      "source": [
        "!pip install huggingface"
      ],
      "metadata": {
        "colab": {
          "base_uri": "https://localhost:8080/"
        },
        "id": "JKhpudgzv6TV",
        "outputId": "eec10b62-3de5-4672-e752-68325448603e"
      },
      "execution_count": 54,
      "outputs": [
        {
          "output_type": "stream",
          "name": "stdout",
          "text": [
            "Collecting huggingface\n",
            "  Downloading huggingface-0.0.1-py3-none-any.whl.metadata (2.9 kB)\n",
            "Downloading huggingface-0.0.1-py3-none-any.whl (2.5 kB)\n",
            "Installing collected packages: huggingface\n",
            "Successfully installed huggingface-0.0.1\n"
          ]
        }
      ]
    },
    {
      "cell_type": "code",
      "source": [
        "from transformers import BertModel, BertTokenizer\n",
        "\n",
        "import torch.nn as nn"
      ],
      "metadata": {
        "id": "ZDp3sIcopv-A"
      },
      "execution_count": 50,
      "outputs": []
    },
    {
      "cell_type": "code",
      "source": [
        "import warnings\n",
        "warnings.filterwarnings(\"ignore\")"
      ],
      "metadata": {
        "id": "M4Rf_q0QqqPS"
      },
      "execution_count": 38,
      "outputs": []
    },
    {
      "cell_type": "code",
      "source": [
        "# Load pre-trained BERT model and tokenizer\n",
        "model_name = 'bert-base-uncased'\n",
        "tokenizer = BertTokenizer.from_pretrained(model_name)\n",
        "# Use BertModel instead of BertForSequenceClassification for extracting embeddings\n",
        "model = BertModel.from_pretrained(model_name)\n",
        "\n",
        "# Tokenize and encode input data (example using the first question in train_df)\n",
        "inputs = tokenizer(train_df['question'].iloc[0], return_tensors='pt')\n",
        "\n",
        "# Forward pass through the model\n",
        "outputs = model(**inputs)\n",
        "\n",
        "# Extract embeddings (e.g., last hidden state)\n",
        "embeddings = outputs.last_hidden_state"
      ],
      "metadata": {
        "colab": {
          "base_uri": "https://localhost:8080/"
        },
        "id": "KuPcvXdqoYcf",
        "outputId": "67aeb1b0-3b2b-40da-bedb-ab29e8a47262"
      },
      "execution_count": 97,
      "outputs": [
        {
          "output_type": "stream",
          "name": "stderr",
          "text": [
            "A parameter name that contains `beta` will be renamed internally to `bias`. Please use a different name to suppress this warning.\n",
            "A parameter name that contains `gamma` will be renamed internally to `weight`. Please use a different name to suppress this warning.\n",
            "A parameter name that contains `beta` will be renamed internally to `bias`. Please use a different name to suppress this warning.\n",
            "A parameter name that contains `gamma` will be renamed internally to `weight`. Please use a different name to suppress this warning.\n",
            "A parameter name that contains `beta` will be renamed internally to `bias`. Please use a different name to suppress this warning.\n",
            "A parameter name that contains `gamma` will be renamed internally to `weight`. Please use a different name to suppress this warning.\n",
            "A parameter name that contains `beta` will be renamed internally to `bias`. Please use a different name to suppress this warning.\n",
            "A parameter name that contains `gamma` will be renamed internally to `weight`. Please use a different name to suppress this warning.\n",
            "A parameter name that contains `beta` will be renamed internally to `bias`. Please use a different name to suppress this warning.\n",
            "A parameter name that contains `gamma` will be renamed internally to `weight`. Please use a different name to suppress this warning.\n",
            "A parameter name that contains `beta` will be renamed internally to `bias`. Please use a different name to suppress this warning.\n",
            "A parameter name that contains `gamma` will be renamed internally to `weight`. Please use a different name to suppress this warning.\n",
            "A parameter name that contains `beta` will be renamed internally to `bias`. Please use a different name to suppress this warning.\n",
            "A parameter name that contains `gamma` will be renamed internally to `weight`. Please use a different name to suppress this warning.\n",
            "A parameter name that contains `beta` will be renamed internally to `bias`. Please use a different name to suppress this warning.\n",
            "A parameter name that contains `gamma` will be renamed internally to `weight`. Please use a different name to suppress this warning.\n",
            "A parameter name that contains `beta` will be renamed internally to `bias`. Please use a different name to suppress this warning.\n",
            "A parameter name that contains `gamma` will be renamed internally to `weight`. Please use a different name to suppress this warning.\n",
            "A parameter name that contains `beta` will be renamed internally to `bias`. Please use a different name to suppress this warning.\n",
            "A parameter name that contains `gamma` will be renamed internally to `weight`. Please use a different name to suppress this warning.\n",
            "A parameter name that contains `beta` will be renamed internally to `bias`. Please use a different name to suppress this warning.\n",
            "A parameter name that contains `gamma` will be renamed internally to `weight`. Please use a different name to suppress this warning.\n",
            "A parameter name that contains `beta` will be renamed internally to `bias`. Please use a different name to suppress this warning.\n",
            "A parameter name that contains `gamma` will be renamed internally to `weight`. Please use a different name to suppress this warning.\n",
            "A parameter name that contains `beta` will be renamed internally to `bias`. Please use a different name to suppress this warning.\n",
            "A parameter name that contains `gamma` will be renamed internally to `weight`. Please use a different name to suppress this warning.\n",
            "A parameter name that contains `beta` will be renamed internally to `bias`. Please use a different name to suppress this warning.\n",
            "A parameter name that contains `gamma` will be renamed internally to `weight`. Please use a different name to suppress this warning.\n",
            "A parameter name that contains `beta` will be renamed internally to `bias`. Please use a different name to suppress this warning.\n",
            "A parameter name that contains `gamma` will be renamed internally to `weight`. Please use a different name to suppress this warning.\n",
            "A parameter name that contains `beta` will be renamed internally to `bias`. Please use a different name to suppress this warning.\n",
            "A parameter name that contains `gamma` will be renamed internally to `weight`. Please use a different name to suppress this warning.\n",
            "A parameter name that contains `beta` will be renamed internally to `bias`. Please use a different name to suppress this warning.\n",
            "A parameter name that contains `gamma` will be renamed internally to `weight`. Please use a different name to suppress this warning.\n",
            "A parameter name that contains `beta` will be renamed internally to `bias`. Please use a different name to suppress this warning.\n",
            "A parameter name that contains `gamma` will be renamed internally to `weight`. Please use a different name to suppress this warning.\n",
            "A parameter name that contains `beta` will be renamed internally to `bias`. Please use a different name to suppress this warning.\n",
            "A parameter name that contains `gamma` will be renamed internally to `weight`. Please use a different name to suppress this warning.\n",
            "A parameter name that contains `beta` will be renamed internally to `bias`. Please use a different name to suppress this warning.\n",
            "A parameter name that contains `gamma` will be renamed internally to `weight`. Please use a different name to suppress this warning.\n",
            "A parameter name that contains `beta` will be renamed internally to `bias`. Please use a different name to suppress this warning.\n",
            "A parameter name that contains `gamma` will be renamed internally to `weight`. Please use a different name to suppress this warning.\n",
            "A parameter name that contains `beta` will be renamed internally to `bias`. Please use a different name to suppress this warning.\n",
            "A parameter name that contains `gamma` will be renamed internally to `weight`. Please use a different name to suppress this warning.\n",
            "A parameter name that contains `beta` will be renamed internally to `bias`. Please use a different name to suppress this warning.\n",
            "A parameter name that contains `gamma` will be renamed internally to `weight`. Please use a different name to suppress this warning.\n",
            "A parameter name that contains `beta` will be renamed internally to `bias`. Please use a different name to suppress this warning.\n",
            "A parameter name that contains `gamma` will be renamed internally to `weight`. Please use a different name to suppress this warning.\n",
            "A parameter name that contains `beta` will be renamed internally to `bias`. Please use a different name to suppress this warning.\n",
            "A parameter name that contains `gamma` will be renamed internally to `weight`. Please use a different name to suppress this warning.\n",
            "A parameter name that contains `beta` will be renamed internally to `bias`. Please use a different name to suppress this warning.\n",
            "A parameter name that contains `gamma` will be renamed internally to `weight`. Please use a different name to suppress this warning.\n"
          ]
        }
      ]
    },
    {
      "cell_type": "code",
      "source": [
        "# prompt: implement BERT in my data set\n",
        "\n",
        "# Tokenize input data\n",
        "train_encodings = tokenizer(list(train_df['question']), truncation=True, padding=True)\n",
        "val_encodings = tokenizer(list(val_df['question']), truncation=True, padding=True)\n",
        "\n",
        "# Create PyTorch datasets\n",
        "class QADataset(torch.utils.data.Dataset):\n",
        "    def __init__(self, encodings, labels):\n",
        "        self.encodings = encodings\n",
        "        self.labels = labels\n",
        "\n",
        "    def __getitem__(self, idx):\n",
        "        item = {key: torch.tensor(val[idx]) for key, val in self.encodings.items()}\n",
        "        item['labels'] = torch.tensor(self.labels[idx])\n",
        "        return item\n",
        "\n",
        "    def __len__(self):\n",
        "        return len(self.labels)\n",
        "\n",
        "# Assuming you have labels for your questions (e.g., sentiment, topic, etc.)\n",
        "# Replace with your actual labels\n",
        "train_labels = [0] * len(train_df)\n",
        "val_labels = [0] * len(val_df)\n",
        "\n",
        "train_dataset = QADataset(train_encodings, train_labels)\n",
        "val_dataset = QADataset(val_encodings, val_labels)\n",
        "\n",
        "# Define BERT-based classification model\n",
        "class BertClassifier(nn.Module):\n",
        "    def __init__(self, num_labels):\n",
        "        super(BertClassifier, self).__init__()\n",
        "        self.bert = BertModel.from_pretrained(model_name)\n",
        "        self.dropout = nn.Dropout(0.1)\n",
        "        self.classifier = nn.Linear(self.bert.config.hidden_size, num_labels)\n",
        "\n",
        "    def forward(self, input_ids, attention_mask):\n",
        "        outputs = self.bert(input_ids=input_ids, attention_mask=attention_mask)\n",
        "        pooled_output = outputs.pooler_output\n",
        "        pooled_output = self.dropout(pooled_output)\n",
        "        logits = self.classifier(pooled_output)\n",
        "        return logits\n",
        "\n",
        "# Initialize model and other components (optimizer, loss function, etc.)\n",
        "# ...\n",
        "\n",
        "# Training loop\n",
        "# ...\n"
      ],
      "metadata": {
        "id": "lW5ZAO0QAFxQ"
      },
      "execution_count": null,
      "outputs": []
    },
    {
      "cell_type": "code",
      "source": [
        "\n",
        "\n",
        "import plotly.express as px\n",
        "\n",
        "# Assuming 'embeddings' is a tensor of shape (batch_size, sequence_length, hidden_size)\n",
        "# We'll visualize the embeddings of the first token in the sequence\n",
        "token_embeddings = embeddings[0, 0, :].detach().numpy()\n",
        "\n",
        "# Create a scatter plot\n",
        "fig = px.scatter(x=range(len(token_embeddings)), y=token_embeddings,\n",
        "                 labels={'x': 'Embedding Dimension', 'y': 'Value'},\n",
        "                 title='BERT Embeddings for the First Token')\n",
        "\n",
        "fig.show()\n"
      ],
      "metadata": {
        "id": "robH_ACQoXUu",
        "colab": {
          "base_uri": "https://localhost:8080/",
          "height": 542
        },
        "outputId": "fd171ed0-817d-4eb6-bd46-a576af141580"
      },
      "execution_count": 91,
      "outputs": [
        {
          "output_type": "display_data",
          "data": {
            "text/html": [
              "<html>\n",
              "<head><meta charset=\"utf-8\" /></head>\n",
              "<body>\n",
              "    <div>            <script src=\"https://cdnjs.cloudflare.com/ajax/libs/mathjax/2.7.5/MathJax.js?config=TeX-AMS-MML_SVG\"></script><script type=\"text/javascript\">if (window.MathJax && window.MathJax.Hub && window.MathJax.Hub.Config) {window.MathJax.Hub.Config({SVG: {font: \"STIX-Web\"}});}</script>                <script type=\"text/javascript\">window.PlotlyConfig = {MathJaxConfig: 'local'};</script>\n",
              "        <script charset=\"utf-8\" src=\"https://cdn.plot.ly/plotly-2.24.1.min.js\"></script>                <div id=\"61fdb260-6056-4828-80bd-66d56ba94d88\" class=\"plotly-graph-div\" style=\"height:525px; width:100%;\"></div>            <script type=\"text/javascript\">                                    window.PLOTLYENV=window.PLOTLYENV || {};                                    if (document.getElementById(\"61fdb260-6056-4828-80bd-66d56ba94d88\")) {                    Plotly.newPlot(                        \"61fdb260-6056-4828-80bd-66d56ba94d88\",                        [{\"hovertemplate\":\"Embedding Dimension=%{x}\\u003cbr\\u003eValue=%{y}\\u003cextra\\u003e\\u003c\\u002fextra\\u003e\",\"legendgroup\":\"\",\"marker\":{\"color\":\"#636efa\",\"symbol\":\"circle\"},\"mode\":\"markers\",\"name\":\"\",\"orientation\":\"v\",\"showlegend\":false,\"x\":[0,1,2,3,4,5,6,7,8,9,10,11,12,13,14,15,16,17,18,19,20,21,22,23,24,25,26,27,28,29,30,31,32,33,34,35,36,37,38,39,40,41,42,43,44,45,46,47,48,49,50,51,52,53,54,55,56,57,58,59,60,61,62,63,64,65,66,67,68,69,70,71,72,73,74,75,76,77,78,79,80,81,82,83,84,85,86,87,88,89,90,91,92,93,94,95,96,97,98,99,100,101,102,103,104,105,106,107,108,109,110,111,112,113,114,115,116,117,118,119,120,121,122,123,124,125,126,127,128,129,130,131,132,133,134,135,136,137,138,139,140,141,142,143,144,145,146,147,148,149,150,151,152,153,154,155,156,157,158,159,160,161,162,163,164,165,166,167,168,169,170,171,172,173,174,175,176,177,178,179,180,181,182,183,184,185,186,187,188,189,190,191,192,193,194,195,196,197,198,199,200,201,202,203,204,205,206,207,208,209,210,211,212,213,214,215,216,217,218,219,220,221,222,223,224,225,226,227,228,229,230,231,232,233,234,235,236,237,238,239,240,241,242,243,244,245,246,247,248,249,250,251,252,253,254,255,256,257,258,259,260,261,262,263,264,265,266,267,268,269,270,271,272,273,274,275,276,277,278,279,280,281,282,283,284,285,286,287,288,289,290,291,292,293,294,295,296,297,298,299,300,301,302,303,304,305,306,307,308,309,310,311,312,313,314,315,316,317,318,319,320,321,322,323,324,325,326,327,328,329,330,331,332,333,334,335,336,337,338,339,340,341,342,343,344,345,346,347,348,349,350,351,352,353,354,355,356,357,358,359,360,361,362,363,364,365,366,367,368,369,370,371,372,373,374,375,376,377,378,379,380,381,382,383,384,385,386,387,388,389,390,391,392,393,394,395,396,397,398,399,400,401,402,403,404,405,406,407,408,409,410,411,412,413,414,415,416,417,418,419,420,421,422,423,424,425,426,427,428,429,430,431,432,433,434,435,436,437,438,439,440,441,442,443,444,445,446,447,448,449,450,451,452,453,454,455,456,457,458,459,460,461,462,463,464,465,466,467,468,469,470,471,472,473,474,475,476,477,478,479,480,481,482,483,484,485,486,487,488,489,490,491,492,493,494,495,496,497,498,499,500,501,502,503,504,505,506,507,508,509,510,511],\"xaxis\":\"x\",\"y\":[0.024235913529992104,0.28456494212150574,-0.17229408025741577,0.05314260721206665,-0.0033479672856628895,0.017484113574028015,-0.05014520138502121,-0.22477196156978607,0.3794058859348297,-0.08374986052513123,-0.011967730708420277,0.16502290964126587,0.019678501412272453,0.018978843465447426,1.129079818725586,-0.023775650188326836,0.07060383260250092,-0.07077755033969879,0.1978539675474167,0.02238711155951023,0.049856070429086685,0.01667342148721218,0.047447770833969116,0.3494592607021332,-0.09498940408229828,0.040923845022916794,-0.0297357439994812,0.16015371680259705,-0.09034186601638794,-0.11906500905752182,-0.13867786526679993,-0.13095630705356598,-0.03745764493942261,0.08468902856111526,0.3388928472995758,-0.17899082601070404,-0.0406733937561512,-0.04069049656391144,-0.0033329010475426912,-0.012652672827243805,0.17163032293319702,-0.01791146583855152,0.2519705891609192,0.013874541036784649,0.0151186753064394,0.011557444930076599,-0.13717471063137054,0.046141743659973145,-0.10654059052467346,-0.04019252955913544,0.015649817883968353,0.010386672802269459,-0.009188976138830185,0.10634547472000122,-0.4791022837162018,-0.0934479609131813,-0.07052813470363617,-0.11848640441894531,0.10062893480062485,0.15939085185527802,-0.06635039299726486,-0.031248675659298897,-0.02536872960627079,0.13503189384937286,0.013093981891870499,-0.32870495319366455,0.10623589903116226,0.004070035647600889,0.48648980259895325,-0.004999762866646051,0.008512397296726704,0.11459048092365265,0.12790684401988983,0.022606458514928818,0.021899251267313957,0.00455556670203805,-0.09971069544553757,-0.011811605654656887,0.03214031457901001,0.08965440839529037,-0.26427215337753296,0.0999603196978569,-0.12797130644321442,0.03361909091472626,-0.06594440340995789,-0.016348768025636673,0.07639440894126892,-0.0011180378496646881,-0.07411416620016098,0.0022449661046266556,0.07390805333852768,-0.02431616000831127,-0.050660811364650726,-0.06238287314772606,-0.059393737465143204,0.04654766619205475,-0.19825613498687744,-0.07433083653450012,-0.01220523938536644,0.09725897759199142,-0.04160892218351364,-0.08540578186511993,0.07999797910451889,0.4677214026451111,0.07595869898796082,0.12158054113388062,-0.12884409725666046,0.04593529552221298,0.025647953152656555,-0.07835384458303452,-0.11791268736124039,-0.10151311755180359,-0.1484740674495697,-0.0028415231499820948,0.020891055464744568,-0.014856196939945221,0.0022669120226055384,0.01642150618135929,0.11495845019817352,0.039330851286649704,-0.01184302382171154,0.003688208991661668,-0.06787946820259094,0.052886415272951126,0.06876596808433533,-0.18684792518615723,0.007975367829203606,0.02687191218137741,-0.001993463607504964,0.0394737608730793,0.03842596709728241,0.022759191691875458,-0.025153961032629013,-0.026403794065117836,-0.02853481099009514,-0.08663161844015121,-0.11207723617553711,0.25962620973587036,-0.0003240815130993724,0.12649840116500854,0.07306990027427673,-0.11472833901643753,-0.0041653746739029884,0.04801599681377411,-0.011817771941423416,0.041962865740060806,0.0851154625415802,0.10345078259706497,0.023742448538541794,-6.228925704956055,0.01062593050301075,-0.06394094973802567,0.14702196419239044,-0.12027667462825775,0.010546511970460415,-0.1274275779724121,0.04922378808259964,-0.007078025955706835,0.23286549746990204,-6.989101886749268,-0.020362038165330887,0.1366865038871765,0.06374283879995346,0.016858205199241638,-0.09418950229883194,0.09603943675756454,-0.08815886080265045,0.08635932952165604,0.042282212525606155,0.0006258251960389316,0.127200648188591,0.09553100168704987,0.10684914141893387,-0.05145940184593201,-0.0030166269280016422,0.035423342138528824,-0.01855447143316269,0.11728138476610184,0.01645641215145588,0.10558206588029861,0.13457003235816956,0.08325713872909546,0.009353624656796455,-0.09103094041347504,-0.32020366191864014,0.12324293702840805,-0.15182669460773468,0.03564164415001869,-0.08636601269245148,-0.06461384892463684,-3.902543783187866,-0.04031538963317871,0.02587287314236164,0.13636493682861328,-0.0955810546875,0.13573628664016724,-0.05107175558805466,0.04760107770562172,0.06669757515192032,-0.009013143368065357,-0.05856747552752495,-0.0951075553894043,-0.16454321146011353,-0.01172717660665512,-0.01734430529177189,-0.035407040268182755,0.09363264590501785,-0.03016667626798153,0.018947472795844078,0.15582288801670074,-0.03983084857463837,0.07508271932601929,-0.05444231629371643,-0.10211282968521118,0.009922124445438385,-0.10739682614803314,-0.08996765315532684,-0.11866693943738937,-0.11195087432861328,0.1179674044251442,0.0629880428314209,-0.01870535872876644,-0.22666369378566742,-0.055003516376018524,0.31611156463623047,0.06559041142463684,-0.10682716220617294,0.06444063037633896,0.09905345737934113,0.03935711085796356,0.049119558185338974,-0.035874903202056885,-0.10072220861911774,0.005333692766726017,-0.25100067257881165,-0.09282003343105316,-0.011810685507953167,0.10635430365800858,0.019830133765935898,0.14531148970127106,0.1577785760164261,0.1244126483798027,-0.03592173382639885,-0.0967329740524292,-2.0480542182922363,0.4683495759963989,-0.029854407534003258,-0.04998428001999855,-0.32736217975616455,0.1970331072807312,0.04140537232160568,0.015620884485542774,0.012144968844950199,0.06397657096385956,-0.07018102705478668,-0.05661064386367798,0.017045728862285614,-0.2385173738002777,0.019973160699009895,-0.07287932187318802,-1.4852073945803568e-05,-0.18953660130500793,0.051310423761606216,0.4018504321575165,-0.027264436706900597,0.11134183406829834,-0.13713385164737701,0.08378312736749649,-0.08263031393289566,-0.04941897839307785,0.16279804706573486,-0.04475971311330795,-0.03067847155034542,0.6574593186378479,0.07436515390872955,0.05623484402894974,-0.06860408931970596,0.047015462070703506,0.19359314441680908,-0.15104147791862488,-0.4279704988002777,0.1548461765050888,0.009692157618701458,0.12117896229028702,-0.12587670981884003,0.052908726036548615,-0.1100715696811676,-0.10612023621797562,0.07256019115447998,-0.08690199255943298,0.33454251289367676,0.09213587641716003,0.028717804700136185,-0.04834693297743797,-2.4308688640594482,0.10186505317687988,-0.03624958172440529,0.1099264845252037,0.047456543892621994,0.1279514729976654,2.550644967413973e-05,-0.0060918317176401615,0.06587662547826767,-0.061121243983507156,-0.09193707257509232,-0.10603878647089005,0.008319872431457043,0.027720091864466667,0.1015639379620552,-0.1789005547761917,-0.022166501730680466,0.016626199707388878,-0.6459746360778809,0.19893652200698853,-0.07453679293394089,-0.08016086369752884,-0.022510070353746414,-0.03983929753303528,0.1460673213005066,0.035555150359869,0.023314833641052246,0.027885133400559425,-0.033130522817373276,-0.34707123041152954,-2.5505170822143555,-0.04308386147022247,-0.05758218839764595,-0.0342726893723011,0.0033161230385303497,-0.18437758088111877,0.03219062089920044,0.002662706421688199,0.2865241765975952,0.059866927564144135,-0.08035937696695328,-0.12241292744874954,-0.24497096240520477,-0.15267060697078705,0.04079399257898331,-0.0061980667524039745,0.059381403028964996,-0.06690020859241486,0.014504166319966316,0.018411800265312195,0.08861097693443298,-0.15754356980323792,-0.003580779070034623,-0.04627691209316254,0.12842071056365967,-0.04428400844335556,0.03276103734970093,-0.0352509468793869,-0.08890452235937119,0.13735930621623993,0.12961913645267487,-0.046436239033937454,-0.12400291860103607,0.0857505053281784,-0.08688046783208847,0.04876113310456276,0.07520800083875656,0.15053023397922516,-0.002600636798888445,-0.03821629285812378,0.03575676307082176,0.011428500525653362,0.1352347433567047,-0.0611337274312973,-0.08348742127418518,0.06035172939300537,-0.027371374890208244,-0.006163988262414932,0.05442361906170845,0.06665831059217453,-0.42119142413139343,0.06940660625696182,0.044632505625486374,0.09951511770486832,0.10904308408498764,-0.07019250839948654,-0.06952889263629913,-0.5163978934288025,-0.16212370991706848,-0.023196453228592873,0.17270991206169128,0.03873215988278389,0.13550780713558197,-0.14917925000190735,-0.056330204010009766,0.12584324181079865,-0.03577712923288345,0.14223045110702515,-0.0339091457426548,0.030474798753857613,-0.05630243197083473,-0.17884773015975952,-0.12772251665592194,0.2569717764854431,-0.021692287176847458,-0.00741970632225275,0.15078428387641907,-0.04493493586778641,-0.03213004767894745,-0.1394353210926056,0.11850208789110184,0.044627927243709564,-0.045363955199718475,-0.13545523583889008,-0.008139259181916714,-0.05752318724989891,0.13654525578022003,0.06356216967105865,-0.04190431535243988,-0.12986145913600922,-0.03735019639134407,-0.017550691962242126,0.014820643700659275,-0.08725833147764206,-0.05521586164832115,0.21158625185489655,0.017971273511648178,0.07000192999839783,0.0036284844391047955,0.08527331054210663,0.20659008622169495,0.0031980148050934076,0.030166590586304665,0.11521381139755249,-0.06481777876615524,-0.08316907286643982,0.002923866268247366,-0.04279274120926857,0.07032085210084915,-0.2655213177204132,-0.02470688708126545,0.006668173708021641,-0.02233332209289074,-0.01665741764008999,-0.14548340439796448,-0.01299238670617342,-0.13629479706287384,0.006314074620604515,0.031777989119291306,-0.05283450335264206,-0.12897096574306488,-0.12248864024877548,0.0006030256045050919,-0.020179376006126404,-0.03899389132857323,0.0551493875682354,-0.08581186830997467,-0.027363140136003494,0.14532670378684998,-0.11528705060482025,-0.04889959841966629,0.018955131992697716,0.007795154582709074,0.03761748597025871,-0.015609760768711567,0.05884174630045891,-0.01904592476785183,0.39472511410713196,-0.02456287294626236,0.007785925641655922,0.0708540603518486,-0.036882415413856506,0.06468822062015533,-0.03666510432958603,0.11922472715377808,-0.028154557570815086,-0.03738940879702568,-0.10340694338083267,0.03150627762079239,-0.026474211364984512,-0.1344551146030426,0.21623839437961578,-0.028402166441082954,-0.10037359595298767,-0.09739378094673157,-0.041515301913022995,-0.10748302936553955,0.016983048990368843,-0.019842565059661865,-0.0759434849023819,0.009661379270255566,-0.014394908212125301,-0.07441551238298416,-0.0067052533850073814,0.03146271035075188,0.021663837134838104,0.0011886099819093943,-0.03825365751981735,0.006310970988124609,0.06674940884113312,0.036704499274492264,0.0011284991633147001,0.13999029994010925,-0.09417266398668289,-0.13109254837036133,-0.03721010312438011,-0.040779959410429,-0.30296701192855835,-0.05178888142108917,-0.0031613458413630724,0.009162267670035362,-0.004988325294107199,0.016955789178609848,-0.08275104314088821,-0.012470881454646587,0.04611213505268097,0.0008901761611923575,-0.03921303153038025],\"yaxis\":\"y\",\"type\":\"scatter\"}],                        {\"template\":{\"data\":{\"histogram2dcontour\":[{\"type\":\"histogram2dcontour\",\"colorbar\":{\"outlinewidth\":0,\"ticks\":\"\"},\"colorscale\":[[0.0,\"#0d0887\"],[0.1111111111111111,\"#46039f\"],[0.2222222222222222,\"#7201a8\"],[0.3333333333333333,\"#9c179e\"],[0.4444444444444444,\"#bd3786\"],[0.5555555555555556,\"#d8576b\"],[0.6666666666666666,\"#ed7953\"],[0.7777777777777778,\"#fb9f3a\"],[0.8888888888888888,\"#fdca26\"],[1.0,\"#f0f921\"]]}],\"choropleth\":[{\"type\":\"choropleth\",\"colorbar\":{\"outlinewidth\":0,\"ticks\":\"\"}}],\"histogram2d\":[{\"type\":\"histogram2d\",\"colorbar\":{\"outlinewidth\":0,\"ticks\":\"\"},\"colorscale\":[[0.0,\"#0d0887\"],[0.1111111111111111,\"#46039f\"],[0.2222222222222222,\"#7201a8\"],[0.3333333333333333,\"#9c179e\"],[0.4444444444444444,\"#bd3786\"],[0.5555555555555556,\"#d8576b\"],[0.6666666666666666,\"#ed7953\"],[0.7777777777777778,\"#fb9f3a\"],[0.8888888888888888,\"#fdca26\"],[1.0,\"#f0f921\"]]}],\"heatmap\":[{\"type\":\"heatmap\",\"colorbar\":{\"outlinewidth\":0,\"ticks\":\"\"},\"colorscale\":[[0.0,\"#0d0887\"],[0.1111111111111111,\"#46039f\"],[0.2222222222222222,\"#7201a8\"],[0.3333333333333333,\"#9c179e\"],[0.4444444444444444,\"#bd3786\"],[0.5555555555555556,\"#d8576b\"],[0.6666666666666666,\"#ed7953\"],[0.7777777777777778,\"#fb9f3a\"],[0.8888888888888888,\"#fdca26\"],[1.0,\"#f0f921\"]]}],\"heatmapgl\":[{\"type\":\"heatmapgl\",\"colorbar\":{\"outlinewidth\":0,\"ticks\":\"\"},\"colorscale\":[[0.0,\"#0d0887\"],[0.1111111111111111,\"#46039f\"],[0.2222222222222222,\"#7201a8\"],[0.3333333333333333,\"#9c179e\"],[0.4444444444444444,\"#bd3786\"],[0.5555555555555556,\"#d8576b\"],[0.6666666666666666,\"#ed7953\"],[0.7777777777777778,\"#fb9f3a\"],[0.8888888888888888,\"#fdca26\"],[1.0,\"#f0f921\"]]}],\"contourcarpet\":[{\"type\":\"contourcarpet\",\"colorbar\":{\"outlinewidth\":0,\"ticks\":\"\"}}],\"contour\":[{\"type\":\"contour\",\"colorbar\":{\"outlinewidth\":0,\"ticks\":\"\"},\"colorscale\":[[0.0,\"#0d0887\"],[0.1111111111111111,\"#46039f\"],[0.2222222222222222,\"#7201a8\"],[0.3333333333333333,\"#9c179e\"],[0.4444444444444444,\"#bd3786\"],[0.5555555555555556,\"#d8576b\"],[0.6666666666666666,\"#ed7953\"],[0.7777777777777778,\"#fb9f3a\"],[0.8888888888888888,\"#fdca26\"],[1.0,\"#f0f921\"]]}],\"surface\":[{\"type\":\"surface\",\"colorbar\":{\"outlinewidth\":0,\"ticks\":\"\"},\"colorscale\":[[0.0,\"#0d0887\"],[0.1111111111111111,\"#46039f\"],[0.2222222222222222,\"#7201a8\"],[0.3333333333333333,\"#9c179e\"],[0.4444444444444444,\"#bd3786\"],[0.5555555555555556,\"#d8576b\"],[0.6666666666666666,\"#ed7953\"],[0.7777777777777778,\"#fb9f3a\"],[0.8888888888888888,\"#fdca26\"],[1.0,\"#f0f921\"]]}],\"mesh3d\":[{\"type\":\"mesh3d\",\"colorbar\":{\"outlinewidth\":0,\"ticks\":\"\"}}],\"scatter\":[{\"fillpattern\":{\"fillmode\":\"overlay\",\"size\":10,\"solidity\":0.2},\"type\":\"scatter\"}],\"parcoords\":[{\"type\":\"parcoords\",\"line\":{\"colorbar\":{\"outlinewidth\":0,\"ticks\":\"\"}}}],\"scatterpolargl\":[{\"type\":\"scatterpolargl\",\"marker\":{\"colorbar\":{\"outlinewidth\":0,\"ticks\":\"\"}}}],\"bar\":[{\"error_x\":{\"color\":\"#2a3f5f\"},\"error_y\":{\"color\":\"#2a3f5f\"},\"marker\":{\"line\":{\"color\":\"#E5ECF6\",\"width\":0.5},\"pattern\":{\"fillmode\":\"overlay\",\"size\":10,\"solidity\":0.2}},\"type\":\"bar\"}],\"scattergeo\":[{\"type\":\"scattergeo\",\"marker\":{\"colorbar\":{\"outlinewidth\":0,\"ticks\":\"\"}}}],\"scatterpolar\":[{\"type\":\"scatterpolar\",\"marker\":{\"colorbar\":{\"outlinewidth\":0,\"ticks\":\"\"}}}],\"histogram\":[{\"marker\":{\"pattern\":{\"fillmode\":\"overlay\",\"size\":10,\"solidity\":0.2}},\"type\":\"histogram\"}],\"scattergl\":[{\"type\":\"scattergl\",\"marker\":{\"colorbar\":{\"outlinewidth\":0,\"ticks\":\"\"}}}],\"scatter3d\":[{\"type\":\"scatter3d\",\"line\":{\"colorbar\":{\"outlinewidth\":0,\"ticks\":\"\"}},\"marker\":{\"colorbar\":{\"outlinewidth\":0,\"ticks\":\"\"}}}],\"scattermapbox\":[{\"type\":\"scattermapbox\",\"marker\":{\"colorbar\":{\"outlinewidth\":0,\"ticks\":\"\"}}}],\"scatterternary\":[{\"type\":\"scatterternary\",\"marker\":{\"colorbar\":{\"outlinewidth\":0,\"ticks\":\"\"}}}],\"scattercarpet\":[{\"type\":\"scattercarpet\",\"marker\":{\"colorbar\":{\"outlinewidth\":0,\"ticks\":\"\"}}}],\"carpet\":[{\"aaxis\":{\"endlinecolor\":\"#2a3f5f\",\"gridcolor\":\"white\",\"linecolor\":\"white\",\"minorgridcolor\":\"white\",\"startlinecolor\":\"#2a3f5f\"},\"baxis\":{\"endlinecolor\":\"#2a3f5f\",\"gridcolor\":\"white\",\"linecolor\":\"white\",\"minorgridcolor\":\"white\",\"startlinecolor\":\"#2a3f5f\"},\"type\":\"carpet\"}],\"table\":[{\"cells\":{\"fill\":{\"color\":\"#EBF0F8\"},\"line\":{\"color\":\"white\"}},\"header\":{\"fill\":{\"color\":\"#C8D4E3\"},\"line\":{\"color\":\"white\"}},\"type\":\"table\"}],\"barpolar\":[{\"marker\":{\"line\":{\"color\":\"#E5ECF6\",\"width\":0.5},\"pattern\":{\"fillmode\":\"overlay\",\"size\":10,\"solidity\":0.2}},\"type\":\"barpolar\"}],\"pie\":[{\"automargin\":true,\"type\":\"pie\"}]},\"layout\":{\"autotypenumbers\":\"strict\",\"colorway\":[\"#636efa\",\"#EF553B\",\"#00cc96\",\"#ab63fa\",\"#FFA15A\",\"#19d3f3\",\"#FF6692\",\"#B6E880\",\"#FF97FF\",\"#FECB52\"],\"font\":{\"color\":\"#2a3f5f\"},\"hovermode\":\"closest\",\"hoverlabel\":{\"align\":\"left\"},\"paper_bgcolor\":\"white\",\"plot_bgcolor\":\"#E5ECF6\",\"polar\":{\"bgcolor\":\"#E5ECF6\",\"angularaxis\":{\"gridcolor\":\"white\",\"linecolor\":\"white\",\"ticks\":\"\"},\"radialaxis\":{\"gridcolor\":\"white\",\"linecolor\":\"white\",\"ticks\":\"\"}},\"ternary\":{\"bgcolor\":\"#E5ECF6\",\"aaxis\":{\"gridcolor\":\"white\",\"linecolor\":\"white\",\"ticks\":\"\"},\"baxis\":{\"gridcolor\":\"white\",\"linecolor\":\"white\",\"ticks\":\"\"},\"caxis\":{\"gridcolor\":\"white\",\"linecolor\":\"white\",\"ticks\":\"\"}},\"coloraxis\":{\"colorbar\":{\"outlinewidth\":0,\"ticks\":\"\"}},\"colorscale\":{\"sequential\":[[0.0,\"#0d0887\"],[0.1111111111111111,\"#46039f\"],[0.2222222222222222,\"#7201a8\"],[0.3333333333333333,\"#9c179e\"],[0.4444444444444444,\"#bd3786\"],[0.5555555555555556,\"#d8576b\"],[0.6666666666666666,\"#ed7953\"],[0.7777777777777778,\"#fb9f3a\"],[0.8888888888888888,\"#fdca26\"],[1.0,\"#f0f921\"]],\"sequentialminus\":[[0.0,\"#0d0887\"],[0.1111111111111111,\"#46039f\"],[0.2222222222222222,\"#7201a8\"],[0.3333333333333333,\"#9c179e\"],[0.4444444444444444,\"#bd3786\"],[0.5555555555555556,\"#d8576b\"],[0.6666666666666666,\"#ed7953\"],[0.7777777777777778,\"#fb9f3a\"],[0.8888888888888888,\"#fdca26\"],[1.0,\"#f0f921\"]],\"diverging\":[[0,\"#8e0152\"],[0.1,\"#c51b7d\"],[0.2,\"#de77ae\"],[0.3,\"#f1b6da\"],[0.4,\"#fde0ef\"],[0.5,\"#f7f7f7\"],[0.6,\"#e6f5d0\"],[0.7,\"#b8e186\"],[0.8,\"#7fbc41\"],[0.9,\"#4d9221\"],[1,\"#276419\"]]},\"xaxis\":{\"gridcolor\":\"white\",\"linecolor\":\"white\",\"ticks\":\"\",\"title\":{\"standoff\":15},\"zerolinecolor\":\"white\",\"automargin\":true,\"zerolinewidth\":2},\"yaxis\":{\"gridcolor\":\"white\",\"linecolor\":\"white\",\"ticks\":\"\",\"title\":{\"standoff\":15},\"zerolinecolor\":\"white\",\"automargin\":true,\"zerolinewidth\":2},\"scene\":{\"xaxis\":{\"backgroundcolor\":\"#E5ECF6\",\"gridcolor\":\"white\",\"linecolor\":\"white\",\"showbackground\":true,\"ticks\":\"\",\"zerolinecolor\":\"white\",\"gridwidth\":2},\"yaxis\":{\"backgroundcolor\":\"#E5ECF6\",\"gridcolor\":\"white\",\"linecolor\":\"white\",\"showbackground\":true,\"ticks\":\"\",\"zerolinecolor\":\"white\",\"gridwidth\":2},\"zaxis\":{\"backgroundcolor\":\"#E5ECF6\",\"gridcolor\":\"white\",\"linecolor\":\"white\",\"showbackground\":true,\"ticks\":\"\",\"zerolinecolor\":\"white\",\"gridwidth\":2}},\"shapedefaults\":{\"line\":{\"color\":\"#2a3f5f\"}},\"annotationdefaults\":{\"arrowcolor\":\"#2a3f5f\",\"arrowhead\":0,\"arrowwidth\":1},\"geo\":{\"bgcolor\":\"white\",\"landcolor\":\"#E5ECF6\",\"subunitcolor\":\"white\",\"showland\":true,\"showlakes\":true,\"lakecolor\":\"white\"},\"title\":{\"x\":0.05},\"mapbox\":{\"style\":\"light\"}}},\"xaxis\":{\"anchor\":\"y\",\"domain\":[0.0,1.0],\"title\":{\"text\":\"Embedding Dimension\"}},\"yaxis\":{\"anchor\":\"x\",\"domain\":[0.0,1.0],\"title\":{\"text\":\"Value\"}},\"legend\":{\"tracegroupgap\":0},\"title\":{\"text\":\"BERT Embeddings for the First Token\"}},                        {\"responsive\": true}                    ).then(function(){\n",
              "                            \n",
              "var gd = document.getElementById('61fdb260-6056-4828-80bd-66d56ba94d88');\n",
              "var x = new MutationObserver(function (mutations, observer) {{\n",
              "        var display = window.getComputedStyle(gd).display;\n",
              "        if (!display || display === 'none') {{\n",
              "            console.log([gd, 'removed!']);\n",
              "            Plotly.purge(gd);\n",
              "            observer.disconnect();\n",
              "        }}\n",
              "}});\n",
              "\n",
              "// Listen for the removal of the full notebook cells\n",
              "var notebookContainer = gd.closest('#notebook-container');\n",
              "if (notebookContainer) {{\n",
              "    x.observe(notebookContainer, {childList: true});\n",
              "}}\n",
              "\n",
              "// Listen for the clearing of the current output cell\n",
              "var outputEl = gd.closest('.output');\n",
              "if (outputEl) {{\n",
              "    x.observe(outputEl, {childList: true});\n",
              "}}\n",
              "\n",
              "                        })                };                            </script>        </div>\n",
              "</body>\n",
              "</html>"
            ]
          },
          "metadata": {}
        }
      ]
    },
    {
      "cell_type": "markdown",
      "source": [
        "Line plot\n"
      ],
      "metadata": {
        "id": "m4S8Wfku0RVh"
      }
    },
    {
      "cell_type": "code",
      "source": [
        "\n",
        "\n",
        "# Sample data\n",
        "x = [1, 2, 3, 4, 5]\n",
        "y = [2, 4, 1, 5, 3]\n",
        "\n",
        "# Create the plot\n",
        "plt.plot(x, y)\n",
        "\n",
        "# Add labels and title\n",
        "plt.xlabel('X-axis')\n",
        "plt.ylabel('Y-axis')\n",
        "plt.title('Simple Line Plot')\n",
        "\n",
        "# Display the plot\n",
        "plt.show()"
      ],
      "metadata": {
        "colab": {
          "base_uri": "https://localhost:8080/",
          "height": 472
        },
        "id": "1qW5HnhLt0Cm",
        "outputId": "25e9f53e-972f-44bc-d8d7-53005a89da91"
      },
      "execution_count": 47,
      "outputs": [
        {
          "output_type": "display_data",
          "data": {
            "text/plain": [
              "<Figure size 640x480 with 1 Axes>"
            ],
            "image/png": "[encoded data removed]"
          },
          "metadata": {}
        }
      ]
    },
    {
      "cell_type": "code",
      "source": [],
      "metadata": {
        "id": "GEVVic2Y-zSY"
      },
      "execution_count": null,
      "outputs": []
    },
    {
      "cell_type": "markdown",
      "source": [
        "# GPT Model"
      ],
      "metadata": {
        "id": "Ijg0LwDgximL"
      }
    },
    {
      "cell_type": "markdown",
      "source": [
        "# Retriever"
      ],
      "metadata": {
        "id": "nnu49jQ5zS6z"
      }
    },
    {
      "cell_type": "code",
      "source": [
        "# Load pre-trained GPT model and tokenizer\n",
        "model_name = 'gpt2'\n",
        "tokenizer = GPT2Tokenizer.from_pretrained(model_name)\n",
        "model = GPT2Model.from_pretrained(model_name)\n",
        "\n",
        "# Tokenize and encode input data (example using the first answer in train_df)\n",
        "inputs = tokenizer(train_df['answer'].iloc[0], return_tensors='pt')\n",
        "\n",
        "# Forward pass through the model\n",
        "outputs = model(**inputs)\n",
        "\n",
        "# Extract embeddings (e.g., last hidden state)\n",
        "embeddings = outputs.last_hidden_state\n"
      ],
      "metadata": {
        "colab": {
          "base_uri": "https://localhost:8080/",
          "height": 209,
          "referenced_widgets": [
            "42ed82c8cb70499b916875fec435d462",
            "027d2d21a1844f2fb82cc3cd03770c67",
            "17365381c2c54fdfa8466f95adc961fe",
            "17d81906279d4759a33051b52e02a67d",
            "039741d1ad3049de8c7662757f1ed32c",
            "8421963915e147e8bca23fc628977377",
            "ec9cd31f4f424bee91265552f1551432",
            "3e5dd953fdfc47dabb5b96358ca18160",
            "600a816698f5484695b71a49bb9d066a",
            "2b8e02395054449c96713ffb772af3d6",
            "3d0481f01b76441f8249b06687c253cb",
            "8a4c2c8dce4a4d2bbb7a21a4e4cc0550",
            "6982ed64b16f4380a031f8ea4766825e",
            "02b73991d629433cb913e154f706c731",
            "77ac5511715a45f6a527313a965f923a",
            "e70e4bb14f224d0f9068fcb5cec9aef4",
            "578da42bf2444714bb1c0b4b00efeae3",
            "99796281eb4a4052b73f402a068ee9e1",
            "3a1fc2ea743a4722bd36c636b1e08d5d",
            "b34224f8969944d1a4ed29f37d5b2197",
            "4f70db78f2114884a842b148c8aadcea",
            "b3babfa737d745068372465a53734a68",
            "9607c1df35084b52b1062414b497207a",
            "8221b19b445548ab9bad6af1ae529b28",
            "c108151c3538466bb0cbd0fb2464bd19",
            "047951d012ad41cdafe7236b4520b80b",
            "f43229a15b5841f1ae4767a386d53862",
            "8915f0b2790f449e9601e29726cd2b7a",
            "1ad609a5529e4e87ade6f7ffa920c811",
            "9c5f592e767945e9b672ca49c6797af4",
            "3e5dc839ec464828b59c98bcd43076b3",
            "fe1ffc82906f4618bec9c71e67a40b46",
            "f78871179d6f4e538aa683fa462bc7cd",
            "f1450a772c954a22acd2e92b24705287",
            "b0084bed23554b11bb2ac3813f8d0b62",
            "99d43d1bca4843819b065ca9143d4096",
            "bb73283c277a42ccb8370596b895af08",
            "95233fcca50e4c6e8d5b3fdc23d58eb5",
            "4cbfb1dea21a414c8ab30aa7e9c65905",
            "8c379b6a7b0b445d83110b7bbf4bc282",
            "859a1241bcda44e08d86a42b81fbc1c5",
            "f053984c2e084c47823a7ec6dc303d28",
            "e6e1047bf3a74bb2a5a6b948ccf2c6d5",
            "7277da20e5ae4601bdf14e7842a206e9",
            "0b2579edefc6487ba59770ab741207b5",
            "39574b4779254bf2b1a01ba0a146790e",
            "d1a8078b630d4691b1e7b7f0ce1fd5c3",
            "cb5b249ab8c447dfa9b7f9137a7c4e63",
            "6eecf1fd11de456cbcf21b69f0f6bc90",
            "61d4fa8f7e9d43cc91932e9176fa06fc",
            "f525cc05af0740959efee99b9dce49dd",
            "a1ec9aeb0bb94646bb8f2bd4d1f3dd01",
            "16a3e968f46c4fe786342503ef1e877f",
            "9e7dda8093834de691379f1954a27dcc",
            "169493d7977c48cca099adf5001a242b",
            "36ed7ddf82ec40749abef5003f1258f0",
            "5f400115f07e40cebcb016a4366d0bfc",
            "abc14352d8154921947c8809a795ddf9",
            "02ed70b16064451bba147eb3e84da812",
            "bd6ede92bdc64354ae07afbd3afa558f",
            "c8744592351c429da00550b45ee028cf",
            "eeab93c2570040a68a61c2210d81aaa3",
            "0af153c32948464988f0969281a62353",
            "dfd141f328a24a0fac55dce162841b41",
            "b3a1ee4ec03a4eeeaba88029c982decb",
            "c1d5d7653c024b339d49ecad5a9efa8e"
          ]
        },
        "id": "zbntIvdjxlvi",
        "outputId": "a0d1a5a6-c85e-441d-bcea-de978ff3d016"
      },
      "execution_count": 57,
      "outputs": [
        {
          "output_type": "display_data",
          "data": {
            "text/plain": [
              "tokenizer_config.json:   0%|          | 0.00/26.0 [00:00<?, ?B/s]"
            ],
            "application/vnd.jupyter.widget-view+json": {
              "version_major": 2,
              "version_minor": 0,
              "model_id": "42ed82c8cb70499b916875fec435d462"
            }
          },
          "metadata": {}
        },
        {
          "output_type": "display_data",
          "data": {
            "text/plain": [
              "vocab.json:   0%|          | 0.00/1.04M [00:00<?, ?B/s]"
            ],
            "application/vnd.jupyter.widget-view+json": {
              "version_major": 2,
              "version_minor": 0,
              "model_id": "8a4c2c8dce4a4d2bbb7a21a4e4cc0550"
            }
          },
          "metadata": {}
        },
        {
          "output_type": "display_data",
          "data": {
            "text/plain": [
              "merges.txt:   0%|          | 0.00/456k [00:00<?, ?B/s]"
            ],
            "application/vnd.jupyter.widget-view+json": {
              "version_major": 2,
              "version_minor": 0,
              "model_id": "9607c1df35084b52b1062414b497207a"
            }
          },
          "metadata": {}
        },
        {
          "output_type": "display_data",
          "data": {
            "text/plain": [
              "tokenizer.json:   0%|          | 0.00/1.36M [00:00<?, ?B/s]"
            ],
            "application/vnd.jupyter.widget-view+json": {
              "version_major": 2,
              "version_minor": 0,
              "model_id": "f1450a772c954a22acd2e92b24705287"
            }
          },
          "metadata": {}
        },
        {
          "output_type": "display_data",
          "data": {
            "text/plain": [
              "config.json:   0%|          | 0.00/665 [00:00<?, ?B/s]"
            ],
            "application/vnd.jupyter.widget-view+json": {
              "version_major": 2,
              "version_minor": 0,
              "model_id": "0b2579edefc6487ba59770ab741207b5"
            }
          },
          "metadata": {}
        },
        {
          "output_type": "display_data",
          "data": {
            "text/plain": [
              "model.safetensors:   0%|          | 0.00/548M [00:00<?, ?B/s]"
            ],
            "application/vnd.jupyter.widget-view+json": {
              "version_major": 2,
              "version_minor": 0,
              "model_id": "36ed7ddf82ec40749abef5003f1258f0"
            }
          },
          "metadata": {}
        }
      ]
    },
    {
      "cell_type": "code",
      "source": [
        "from transformers import GPT2LMHeadModel, GPT2Tokenizer\n",
        "\n",
        "# Load pre-trained GPT-2 model and tokenizer\n",
        "model_name = 'gpt2'  # You can choose a different GPT-2 variant if needed\n",
        "tokenizer = GPT2Tokenizer.from_pretrained(model_name)\n",
        "model = GPT2LMHeadModel.from_pretrained(model_name)\n",
        "\n",
        "def generate_text(prompt, max_length=50):\n",
        "    input_ids = tokenizer.encode(prompt, return_tensors='pt')\n",
        "    attention_mask = torch.ones(input_ids.shape, dtype=torch.long)  # Create attention mask\n",
        "\n",
        "    output = model.generate(\n",
        "        input_ids=input_ids,\n",
        "        attention_mask=attention_mask,\n",
        "        max_length=max_length,\n",
        "        num_return_sequences=1,\n",
        "        no_repeat_ngram_size=2,\n",
        "        temperature=0.7\n",
        "    )\n",
        "\n",
        "    generated_text = tokenizer.decode(output[0], skip_special_tokens=True)\n",
        "    return generated_text"
      ],
      "metadata": {
        "id": "Mfr3I04Ty3i3"
      },
      "execution_count": 63,
      "outputs": []
    },
    {
      "cell_type": "markdown",
      "source": [
        "# Generator"
      ],
      "metadata": {
        "id": "WDKm1vh60AM8"
      }
    },
    {
      "cell_type": "code",
      "source": [
        "\n",
        "question_prompt = \"Generate a question about: \" + train_df['answer'].iloc[0]\n",
        "generated_question = generate_text(question_prompt)\n",
        "print(\"Generated Question:\", generated_question)\n",
        "\n",
        "# Assuming train_df['question'] contains lists and you want the first element of the first list\n",
        "answer_prompt = \"Generate an answer for: \" + ' '.join(train_df['question'].iloc[0]) # Join list elements into a string\n",
        "generated_answer = generate_text(answer_prompt)\n",
        "print(\"Generated Answer:\", generated_answer)"
      ],
      "metadata": {
        "colab": {
          "base_uri": "https://localhost:8080/"
        },
        "id": "mCAV7N8gyr2Q",
        "outputId": "7dc58080-f33d-4425-a7b7-ecd949738ac2"
      },
      "execution_count": 64,
      "outputs": [
        {
          "output_type": "stream",
          "name": "stderr",
          "text": [
            "Setting `pad_token_id` to `eos_token_id`:50256 for open-end generation.\n",
            "Setting `pad_token_id` to `eos_token_id`:50256 for open-end generation.\n"
          ]
        },
        {
          "output_type": "stream",
          "name": "stdout",
          "text": [
            "Generated Question: Generate a question about: Paris, France, and the United States.\n",
            "\n",
            "Answer:\n",
            "...\n",
            " (1) The United Nations has a mandate to ensure that all countries that have ratified the Paris Agreement are able to participate in the\n",
            "Generated Answer: Generate an answer for: What is the capital of Jacques anatole francois thibault?\n",
            "\n",
            "The answer is: The capital is a capital.\n",
            "...\n",
            " (1) The Capital of the French Revolution. The French\n"
          ]
        }
      ]
    },
    {
      "cell_type": "markdown",
      "source": [
        "# Data Visualization\n"
      ],
      "metadata": {
        "id": "TvJ-wW2W0nPM"
      }
    },
    {
      "cell_type": "markdown",
      "source": [
        "Scatter Plot"
      ],
      "metadata": {
        "id": "GlwbWGq40s9s"
      }
    },
    {
      "cell_type": "code",
      "source": [
        "\n",
        "\n",
        "# Assuming 'embeddings' is a tensor of shape (batch_size, sequence_length, hidden_size)\n",
        "# We'll visualize the embeddings of the first token in the sequence\n",
        "token_embeddings = embeddings[0, 0, :].detach().numpy()\n",
        "\n",
        "# Create a scatter plot\n",
        "fig = px.scatter(x=range(len(token_embeddings)), y=token_embeddings,\n",
        "                 labels={'x': 'Embedding Dimension', 'y': 'Value'},\n",
        "                 title='GPT Embeddings for the First Token')\n",
        "\n",
        "fig.show()\n"
      ],
      "metadata": {
        "colab": {
          "base_uri": "https://localhost:8080/",
          "height": 542
        },
        "id": "mTJn11ns0D6m",
        "outputId": "15e90782-ce8e-4849-920a-257f4f75f86a"
      },
      "execution_count": 66,
      "outputs": [
        {
          "output_type": "display_data",
          "data": {
            "text/html": [
              "<html>\n",
              "<head><meta charset=\"utf-8\" /></head>\n",
              "<body>\n",
              "    <div>            <script src=\"https://cdnjs.cloudflare.com/ajax/libs/mathjax/2.7.5/MathJax.js?config=TeX-AMS-MML_SVG\"></script><script type=\"text/javascript\">if (window.MathJax && window.MathJax.Hub && window.MathJax.Hub.Config) {window.MathJax.Hub.Config({SVG: {font: \"STIX-Web\"}});}</script>                <script type=\"text/javascript\">window.PlotlyConfig = {MathJaxConfig: 'local'};</script>\n",
              "        <script charset=\"utf-8\" src=\"https://cdn.plot.ly/plotly-2.24.1.min.js\"></script>                <div id=\"d7f269a5-ea7d-42e5-b163-52d6e733d671\" class=\"plotly-graph-div\" style=\"height:525px; width:100%;\"></div>            <script type=\"text/javascript\">                                    window.PLOTLYENV=window.PLOTLYENV || {};                                    if (document.getElementById(\"d7f269a5-ea7d-42e5-b163-52d6e733d671\")) {                    Plotly.newPlot(                        \"d7f269a5-ea7d-42e5-b163-52d6e733d671\",                        [{\"hovertemplate\":\"Embedding Dimension=%{x}\\u003cbr\\u003eValue=%{y}\\u003cextra\\u003e\\u003c\\u002fextra\\u003e\",\"legendgroup\":\"\",\"marker\":{\"color\":\"#636efa\",\"symbol\":\"circle\"},\"mode\":\"markers\",\"name\":\"\",\"orientation\":\"v\",\"showlegend\":false,\"x\":[0,1,2,3,4,5,6,7,8,9,10,11,12,13,14,15,16,17,18,19,20,21,22,23,24,25,26,27,28,29,30,31,32,33,34,35,36,37,38,39,40,41,42,43,44,45,46,47,48,49,50,51,52,53,54,55,56,57,58,59,60,61,62,63,64,65,66,67,68,69,70,71,72,73,74,75,76,77,78,79,80,81,82,83,84,85,86,87,88,89,90,91,92,93,94,95,96,97,98,99,100,101,102,103,104,105,106,107,108,109,110,111,112,113,114,115,116,117,118,119,120,121,122,123,124,125,126,127,128,129,130,131,132,133,134,135,136,137,138,139,140,141,142,143,144,145,146,147,148,149,150,151,152,153,154,155,156,157,158,159,160,161,162,163,164,165,166,167,168,169,170,171,172,173,174,175,176,177,178,179,180,181,182,183,184,185,186,187,188,189,190,191,192,193,194,195,196,197,198,199,200,201,202,203,204,205,206,207,208,209,210,211,212,213,214,215,216,217,218,219,220,221,222,223,224,225,226,227,228,229,230,231,232,233,234,235,236,237,238,239,240,241,242,243,244,245,246,247,248,249,250,251,252,253,254,255,256,257,258,259,260,261,262,263,264,265,266,267,268,269,270,271,272,273,274,275,276,277,278,279,280,281,282,283,284,285,286,287,288,289,290,291,292,293,294,295,296,297,298,299,300,301,302,303,304,305,306,307,308,309,310,311,312,313,314,315,316,317,318,319,320,321,322,323,324,325,326,327,328,329,330,331,332,333,334,335,336,337,338,339,340,341,342,343,344,345,346,347,348,349,350,351,352,353,354,355,356,357,358,359,360,361,362,363,364,365,366,367,368,369,370,371,372,373,374,375,376,377,378,379,380,381,382,383,384,385,386,387,388,389,390,391,392,393,394,395,396,397,398,399,400,401,402,403,404,405,406,407,408,409,410,411,412,413,414,415,416,417,418,419,420,421,422,423,424,425,426,427,428,429,430,431,432,433,434,435,436,437,438,439,440,441,442,443,444,445,446,447,448,449,450,451,452,453,454,455,456,457,458,459,460,461,462,463,464,465,466,467,468,469,470,471,472,473,474,475,476,477,478,479,480,481,482,483,484,485,486,487,488,489,490,491,492,493,494,495,496,497,498,499,500,501,502,503,504,505,506,507,508,509,510,511,512,513,514,515,516,517,518,519,520,521,522,523,524,525,526,527,528,529,530,531,532,533,534,535,536,537,538,539,540,541,542,543,544,545,546,547,548,549,550,551,552,553,554,555,556,557,558,559,560,561,562,563,564,565,566,567,568,569,570,571,572,573,574,575,576,577,578,579,580,581,582,583,584,585,586,587,588,589,590,591,592,593,594,595,596,597,598,599,600,601,602,603,604,605,606,607,608,609,610,611,612,613,614,615,616,617,618,619,620,621,622,623,624,625,626,627,628,629,630,631,632,633,634,635,636,637,638,639,640,641,642,643,644,645,646,647,648,649,650,651,652,653,654,655,656,657,658,659,660,661,662,663,664,665,666,667,668,669,670,671,672,673,674,675,676,677,678,679,680,681,682,683,684,685,686,687,688,689,690,691,692,693,694,695,696,697,698,699,700,701,702,703,704,705,706,707,708,709,710,711,712,713,714,715,716,717,718,719,720,721,722,723,724,725,726,727,728,729,730,731,732,733,734,735,736,737,738,739,740,741,742,743,744,745,746,747,748,749,750,751,752,753,754,755,756,757,758,759,760,761,762,763,764,765,766,767],\"xaxis\":\"x\",\"y\":[-0.22871896624565125,0.06510760635137558,-0.21116715669631958,-0.08880134671926498,-0.02033388614654541,-0.3102719187736511,0.28587040305137634,0.213027223944664,-0.17898516356945038,0.11852473765611649,0.5047309398651123,-0.012516421265900135,-0.0043099066242575645,0.0653330460190773,-0.1336689442396164,0.007016553543508053,-0.007663017604500055,-0.2550101578235626,0.21570999920368195,-0.05687842145562172,0.15499211847782135,-0.10307382047176361,-0.27315768599510193,-0.03397703170776367,0.02398972027003765,0.1094444990158081,-0.4134967029094696,-0.26229408383369446,0.009353763423860073,-0.25713154673576355,0.036993589252233505,-0.10251200944185257,-0.033725887537002563,-0.38264405727386475,-0.09573444724082947,0.028576025739312172,26.099409103393555,0.06694084405899048,-0.053192880004644394,-0.031835950911045074,-0.14941512048244476,0.14110541343688965,0.008797429502010345,-0.21932834386825562,0.013454940170049667,-0.011908959597349167,-0.023349830880761147,0.02459082379937172,-0.4853208661079407,0.006184939760714769,-0.06330063194036484,0.03564230352640152,-0.24366693198680878,-0.13375116884708405,0.07208893448114395,0.2531343698501587,-0.12824395298957825,-0.23942482471466064,-0.15137572586536407,-0.31880709528923035,0.04087600111961365,-0.05198422819375992,-0.23140808939933777,-0.1404210925102234,-1.0394670963287354,-0.14098507165908813,-0.11479924619197845,-0.018010636791586876,-0.5224937796592712,-0.13549864292144775,-0.11552388966083527,-0.2717420756816864,-0.2036527693271637,-0.0181286558508873,-0.008207415230572224,-0.12846536934375763,-0.1192869022488594,-0.7917001247406006,-0.06135425716638565,0.03703884780406952,-0.39038243889808655,-0.10895217210054398,-0.02681552805006504,-0.41492918133735657,-0.11056125164031982,0.19551299512386322,0.026257431134581566,-0.989538848400116,-0.05383170023560524,-0.1484585404396057,-0.04192167520523071,-0.3561145067214966,-0.35572028160095215,-0.052287567406892776,-0.08084756135940552,-0.17144474387168884,-0.05550830438733101,-0.07390672713518143,0.1350378543138504,0.18742404878139496,-0.14525385200977325,-0.2056475579738617,-0.6975978016853333,-0.14643152058124542,-0.08336712419986725,-0.12467695772647858,-0.2041810303926468,0.8633559346199036,0.009251123294234276,-0.10372742265462875,-0.03166843578219414,0.0848417803645134,-0.1860022246837616,0.06471521407365799,0.04254378005862236,-0.01768820732831955,0.009571674279868603,0.16092583537101746,0.05427044257521629,-0.2542911171913147,-0.05976337566971779,0.08999025076627731,-0.021411098539829254,0.08009976893663406,-0.16913430392742157,-0.0618336945772171,-0.09938658773899078,0.050022996962070465,-0.6588363647460938,-0.08143993467092514,0.059188198298215866,-0.025235462933778763,0.13727864623069763,-0.14856389164924622,0.01990440860390663,-0.041609250009059906,-0.0668993815779686,-0.48222824931144714,0.7102330327033997,0.07641559094190598,-0.1833495795726776,0.035419657826423645,-0.5770537853240967,-0.1362059861421585,-0.06963695585727692,0.32061582803726196,0.0775262713432312,0.02674267627298832,-0.09698217362165451,-0.18514178693294525,-0.165974959731102,-0.09747287631034851,0.1540214568376541,0.2667901813983917,-0.16933511197566986,-0.03738737106323242,-0.01632106490433216,-0.31503379344940186,0.04948275163769722,-0.028643783181905746,0.11612840741872787,0.028330201283097267,-0.02578115463256836,-0.08021773397922516,-0.2579048275947571,-0.10221440345048904,-0.09510710835456848,-1.198979377746582,-0.22458329796791077,-0.28169554471969604,-0.12057264894247055,-0.16403377056121826,-0.20285572111606598,0.0754055380821228,-0.16395799815654755,-0.24338160455226898,-0.23511096835136414,-0.24534091353416443,0.09567089378833771,-0.06773962825536728,-0.22759263217449188,-0.09923644363880157,0.07338519394397736,0.004913751967251301,-0.024580812081694603,-0.17582504451274872,-0.013573629781603813,0.0025172457098960876,-0.0040911282412707806,-0.07662823796272278,-0.15849314630031586,-0.25742337107658386,-0.2076522260904312,0.023447100073099136,-0.06291435658931732,-0.06924325227737427,-0.03718535602092743,-0.23690615594387054,-0.09946878999471664,-0.2601626217365265,-0.12557770311832428,0.29252350330352783,-0.0799335390329361,-0.07156938314437866,-0.015495778061449528,0.04643380269408226,-0.12760592997074127,-0.1013648584485054,-0.10914672911167145,-0.006636519450694323,-0.019544454291462898,0.3155430555343628,-0.04920263960957527,0.07579382508993149,-0.17357857525348663,-0.13562430441379547,-0.22076335549354553,-0.2589130103588104,-0.16694797575473785,0.028942611068487167,0.13452543318271637,-0.08345864713191986,-0.03250923752784729,-0.23410245776176453,0.23041598498821259,-0.18039727210998535,-0.0738900825381279,-0.09031644463539124,0.03909590095281601,-0.06425570696592331,0.09385303407907486,-0.05467908829450607,0.8674575090408325,-0.07546216994524002,-0.08710582554340363,-0.23333343863487244,-0.11422985792160034,0.03653528541326523,-0.02500520646572113,-0.04966309294104576,-0.11994083225727081,0.3041722774505615,-0.01861884444952011,-0.11618605256080627,0.0066848318092525005,-0.007586649153381586,-0.1904182881116867,0.28311216831207275,0.009088670834898949,-0.27623483538627625,-0.458891361951828,-0.12663739919662476,-0.061293020844459534,-0.006678994279354811,-0.23003187775611877,0.2702248990535736,0.060739293694496155,0.10498517751693726,-0.05955931916832924,0.0919373407959938,-0.0012420000275596976,-0.1531330794095993,-0.12657850980758667,0.009452791884541512,-0.18479079008102417,-0.19510117173194885,-0.9678743481636047,-0.048261843621730804,-0.19380685687065125,0.10442709922790527,-0.6593976616859436,0.40960556268692017,-0.1256108283996582,0.04426654055714607,-0.12392023950815201,-0.19546201825141907,-0.01104107778519392,-0.1966618150472641,-0.10660766065120697,-0.10809122025966644,-0.05172906816005707,-0.11279916018247604,0.12618407607078552,-0.02093171328306198,-0.008273753337562084,-0.17062783241271973,-0.1463771015405655,-0.16121332347393036,-0.06907343119382858,-0.2896214425563812,-0.026052741333842278,-0.11048273742198944,0.07776246219873428,-0.030041294172406197,0.1104312464594841,-0.22375385463237762,-0.07328891009092331,-0.1594712883234024,-0.09083998948335648,-0.012298181653022766,0.043461933732032776,0.007135453633964062,0.015025608241558075,-0.1755777895450592,-0.10866180807352066,-0.03968624770641327,0.09463519603013992,-0.011266112327575684,-0.8399829864501953,-0.06143668666481972,-0.05240647494792938,-0.18293990194797516,-0.07299395650625229,-0.1476883441209793,-3.0717930793762207,-0.07295247167348862,-0.006182047072798014,0.12811991572380066,-0.07507353276014328,0.16647681593894958,-0.4059179723262787,-0.2750234305858612,-0.22999316453933716,0.018763985484838486,0.07360345125198364,0.1365123987197876,-0.2952910363674164,-0.08760210871696472,0.03755209967494011,-0.19217415153980255,-0.13083788752555847,-0.1492011696100235,-0.03633510321378708,-0.18294639885425568,0.05152302607893944,-0.3035546541213989,0.2097284495830536,-0.06210906803607941,-0.18839029967784882,-0.16088643670082092,-0.08463655412197113,0.0027014445513486862,-0.21702243387699127,0.024281855672597885,-0.2606898546218872,0.01775190979242325,-0.0001818640885176137,-0.346811443567276,-0.018604116514325142,0.0020013577304780483,-0.17062856256961823,0.0051795560866594315,0.08634759485721588,-0.16143904626369476,0.04548224061727524,-0.04137515649199486,-0.44490668177604675,-0.07031015306711197,-0.021186012774705887,-0.17119018733501434,-0.030199019238352776,-0.06062176823616028,-0.42535659670829773,-0.1326601356267929,-0.11525266617536545,-1.1843554973602295,0.08273787051439285,-0.062379397451877594,0.03855285048484802,-0.02162969671189785,0.07988978922367096,-0.11377842724323273,-0.10001126676797867,-0.7193775773048401,-8.09552001953125,-0.34447264671325684,-0.07736269384622574,0.11342427134513855,-0.5876587629318237,0.08540461212396622,-0.04167728126049042,-0.2322005331516266,-0.1408635377883911,-0.26299673318862915,-0.23170261085033417,-0.01749352738261223,0.22535818815231323,-0.03066924773156643,-0.13322199881076813,-0.3375054895877838,0.17525959014892578,-0.028700899332761765,-0.012739699333906174,-0.5695611834526062,-0.30174770951271057,-0.06817187368869781,-0.20978102087974548,-0.0026304482016712427,-0.01700468175113201,0.0043123341165483,-0.09083937853574753,-0.025093192234635353,0.05970074608922005,-0.08664289116859436,-0.027764733880758286,0.0501294881105423,-0.06871383637189865,-0.19455966353416443,0.6420273780822754,-0.0885830968618393,-0.25685879588127136,-0.029834626242518425,-0.1576954424381256,-0.2534700632095337,-0.20492006838321686,-0.14957937598228455,-0.04924004152417183,-0.3949064612388611,0.21210812032222748,-0.03196026012301445,-0.2855175733566284,-0.11301594972610474,0.05663425847887993,-0.09544956684112549,-0.03939831629395485,-0.06539615988731384,-0.2199295461177826,-0.12465891242027283,-0.19062691926956177,-0.19673492014408112,39.221954345703125,0.022189905866980553,0.08102058619260788,-0.06314549595117569,-0.2651602625846863,0.04878907650709152,-0.2143530696630478,-0.07241486012935638,-0.0009266051347367465,0.3380844295024872,-0.058976441621780396,-0.10778585821390152,2.889012575149536,0.015918683260679245,-0.03869052603840828,0.05983348563313484,-0.10992103070020676,1.6967132091522217,-0.05586853250861168,-0.004761154297739267,-0.17686019837856293,-0.09285996109247208,0.08919274806976318,-0.3324102759361267,-0.09540317207574844,0.006963053718209267,-0.15075822174549103,-0.06950513273477554,-0.02998371794819832,-0.028540465980768204,0.11368973553180695,0.12041668593883514,-0.04112360626459122,-0.2676495611667633,-0.057337887585163116,-0.14271949231624603,0.009164332412183285,-0.32538866996765137,-0.12657111883163452,0.08246017247438431,0.07426036149263382,-0.06663192808628082,-0.23550407588481903,-0.08882582932710648,-0.027072515338659286,-0.09956970810890198,-0.022523188963532448,-0.06982581317424774,-0.15930312871932983,-1.5927351713180542,-0.8531516790390015,0.6802995204925537,-0.1940772980451584,-0.071502186357975,0.054695840924978256,-0.21221718192100525,-0.13544277846813202,-0.16790425777435303,0.0734667107462883,-0.2099614292383194,0.12166354805231094,-0.07160291820764542,-0.17785711586475372,-0.03696126118302345,-0.14641843736171722,0.023527445271611214,52.74137878417969,-0.4994014501571655,-0.028692122548818588,0.05400308966636658,0.012218357063829899,-0.09538976848125458,-0.04538560286164284,-0.924043595790863,-0.07067155838012695,-0.04490275681018829,0.0041678850539028645,0.03546808287501335,-0.18418551981449127,0.1318178027868271,0.06046101823449135,0.09025631099939346,-0.13367965817451477,-0.1412438601255417,-0.14781086146831512,-0.25705990195274353,0.048307083547115326,-0.08769659698009491,-0.15394124388694763,-0.07404635846614838,-0.20168019831180573,-0.1639092117547989,0.01325373724102974,-0.04663362726569176,-0.029527507722377777,-0.10798228532075882,0.19097010791301727,-0.3700411319732666,-0.38046884536743164,-0.16695131361484528,-0.08615735173225403,-0.0818963423371315,-0.01282759103924036,-0.07500078529119492,-0.13277874886989594,-0.051490817219018936,-0.08511901646852493,-0.11576072126626968,-0.03605886921286583,-0.1422949582338333,0.13069097697734833,-0.31137362122535706,-0.07256786525249481,0.09248070418834686,-0.1053338274359703,-0.03991842642426491,0.0685809776186943,-0.07242372632026672,-0.024108653888106346,-0.3684280812740326,0.0037655988708138466,0.07881814986467361,-0.15730486810207367,-0.16501615941524506,-0.493045836687088,0.002080220030620694,0.01494847983121872,0.004337436985224485,-0.1841578483581543,-0.3151278793811798,-0.20664072036743164,0.06895534694194794,-0.07103883475065231,-0.08265568315982819,-0.10743000358343124,0.054179199039936066,-0.20674782991409302,-0.1868433952331543,-0.18252375721931458,-0.39382341504096985,-0.19162380695343018,0.08170576393604279,-0.12532831728458405,-0.20793311297893524,-0.09711617231369019,-0.18451082706451416,0.02492351271212101,-0.1425560563802719,-0.14991335570812225,0.04241884872317314,-0.06627511233091354,0.07646927982568741,0.2854868173599243,0.11809208989143372,-0.010997867211699486,-0.08119860291481018,0.004124065861105919,-0.1836378276348114,0.12382180988788605,-0.04187547788023949,0.05105094239115715,-0.05963784083724022,0.040816258639097214,-0.32926511764526367,0.020404048264026642,-0.05156877264380455,-0.18023011088371277,-0.05901390314102173,-0.06775274872779846,-0.025234797969460487,-0.1671433299779892,-0.09230898320674896,-0.21553641557693481,-0.06021570414304733,0.016927730292081833,-0.07913856953382492,-0.12306976318359375,-0.19494397938251495,-0.4054129421710968,0.08805550634860992,-0.22257815301418304,-0.0738094374537468,-0.08108273893594742,0.06264830380678177,-0.2628994584083557,-0.1681116223335266,0.01799141988158226,-0.09952887892723083,-0.07424163818359375,-0.2148606777191162,-0.06579259037971497,-0.07283657789230347,-0.030411189422011375,0.16493584215641022,-0.17403054237365723,-0.023987041786313057,-0.2173469215631485,-0.7991529703140259,-0.07969158887863159,-0.22617891430854797,-0.027745220810174942,-0.09746092557907104,0.025342095643281937,-0.146365225315094,-0.039798010140657425,-0.508301854133606,-0.25537002086639404,0.050904709845781326,-0.16935649514198303,0.04444735497236252,-0.30455851554870605,-0.1549779325723648,-0.289396196603775,-0.26110097765922546,-0.04979010298848152,-0.002157217124477029,-0.24550314247608185,-0.3189983069896698,0.13105231523513794,-0.016926217824220657,0.0943518877029419,-0.017109448090195656,0.08445032685995102,-0.2786702811717987,-0.03420393541455269,-0.30522629618644714,0.07048399746417999,0.11256269365549088,-0.07997588813304901,0.517230749130249,-0.01713179610669613,-0.02018284983932972,-0.11805666983127594,-0.04712335020303726,-0.05265318229794502,0.09262797981500626,-0.22457079589366913,-0.24705789983272552,0.07226721197366714,-0.09928768128156662,-0.022486692294478416,-0.05554597079753876,-0.09197111427783966,0.13450981676578522,-0.6277004480361938,0.013903281651437283,-0.288748562335968,-0.12578269839286804,-0.13348525762557983,0.3374978005886078,-0.10843667387962341,-0.03123212791979313,-0.05026564747095108,0.060916729271411896,-0.2012895792722702,0.12696489691734314,0.07893605530261993,-0.07725279778242111,-0.017711101099848747,0.10319402068853378,-0.09898760914802551,0.036579638719558716,-0.010001253336668015,-0.003279327414929867,-0.10499733686447144,-0.006512495689094067,0.06895992904901505,-0.053416602313518524,-0.02167266234755516,-0.003433412639424205,-0.022745996713638306,0.042044512927532196,-0.17593109607696533,-1.7874934673309326,-0.19998596608638763,-0.28337398171424866,-0.2368997186422348,-0.29640302062034607,-0.21625810861587524,-0.01549629494547844,0.09629775583744049,-0.1260765790939331,-0.2030964344739914,-0.16388067603111267,-0.027631526812911034,-0.10992619395256042,-0.1829003542661667,-0.06854811310768127,-0.33396029472351074,-0.09965218603610992,-0.41913530230522156,0.05716492608189583,0.06340580433607101,-0.1066153347492218,0.045522209256887436,-0.10958724468946457,0.14396527409553528,-0.2760162055492401,-0.1851520985364914,0.09280744940042496,0.09071804583072662,0.04067026823759079,-0.3179037868976593,-0.06088264286518097,-0.1919153332710266,0.02839902974665165,0.11336211115121841,0.042800623923540115,-0.3374791145324707,-0.27048081159591675,-0.12415949255228043,-0.2931368052959442,0.004128634463995695,-0.01493716612458229,-0.31844279170036316,-0.6858811974525452,-0.06555524468421936,-0.11268049478530884,-0.19451770186424255,-0.0916072353720665,-0.0005594005924649537,-0.13721705973148346,0.14574138820171356,-0.06165819242596626,0.03215343505144119,-0.125681072473526,-0.2435200959444046,-0.0020699428860098124,-0.14838682115077972,0.04771210625767708,-0.21374283730983734,0.1098477765917778,1.2613433599472046,-0.14250022172927856,-0.07109011709690094,-0.07533178478479385,0.12073084712028503,-0.13374106585979462],\"yaxis\":\"y\",\"type\":\"scatter\"}],                        {\"template\":{\"data\":{\"histogram2dcontour\":[{\"type\":\"histogram2dcontour\",\"colorbar\":{\"outlinewidth\":0,\"ticks\":\"\"},\"colorscale\":[[0.0,\"#0d0887\"],[0.1111111111111111,\"#46039f\"],[0.2222222222222222,\"#7201a8\"],[0.3333333333333333,\"#9c179e\"],[0.4444444444444444,\"#bd3786\"],[0.5555555555555556,\"#d8576b\"],[0.6666666666666666,\"#ed7953\"],[0.7777777777777778,\"#fb9f3a\"],[0.8888888888888888,\"#fdca26\"],[1.0,\"#f0f921\"]]}],\"choropleth\":[{\"type\":\"choropleth\",\"colorbar\":{\"outlinewidth\":0,\"ticks\":\"\"}}],\"histogram2d\":[{\"type\":\"histogram2d\",\"colorbar\":{\"outlinewidth\":0,\"ticks\":\"\"},\"colorscale\":[[0.0,\"#0d0887\"],[0.1111111111111111,\"#46039f\"],[0.2222222222222222,\"#7201a8\"],[0.3333333333333333,\"#9c179e\"],[0.4444444444444444,\"#bd3786\"],[0.5555555555555556,\"#d8576b\"],[0.6666666666666666,\"#ed7953\"],[0.7777777777777778,\"#fb9f3a\"],[0.8888888888888888,\"#fdca26\"],[1.0,\"#f0f921\"]]}],\"heatmap\":[{\"type\":\"heatmap\",\"colorbar\":{\"outlinewidth\":0,\"ticks\":\"\"},\"colorscale\":[[0.0,\"#0d0887\"],[0.1111111111111111,\"#46039f\"],[0.2222222222222222,\"#7201a8\"],[0.3333333333333333,\"#9c179e\"],[0.4444444444444444,\"#bd3786\"],[0.5555555555555556,\"#d8576b\"],[0.6666666666666666,\"#ed7953\"],[0.7777777777777778,\"#fb9f3a\"],[0.8888888888888888,\"#fdca26\"],[1.0,\"#f0f921\"]]}],\"heatmapgl\":[{\"type\":\"heatmapgl\",\"colorbar\":{\"outlinewidth\":0,\"ticks\":\"\"},\"colorscale\":[[0.0,\"#0d0887\"],[0.1111111111111111,\"#46039f\"],[0.2222222222222222,\"#7201a8\"],[0.3333333333333333,\"#9c179e\"],[0.4444444444444444,\"#bd3786\"],[0.5555555555555556,\"#d8576b\"],[0.6666666666666666,\"#ed7953\"],[0.7777777777777778,\"#fb9f3a\"],[0.8888888888888888,\"#fdca26\"],[1.0,\"#f0f921\"]]}],\"contourcarpet\":[{\"type\":\"contourcarpet\",\"colorbar\":{\"outlinewidth\":0,\"ticks\":\"\"}}],\"contour\":[{\"type\":\"contour\",\"colorbar\":{\"outlinewidth\":0,\"ticks\":\"\"},\"colorscale\":[[0.0,\"#0d0887\"],[0.1111111111111111,\"#46039f\"],[0.2222222222222222,\"#7201a8\"],[0.3333333333333333,\"#9c179e\"],[0.4444444444444444,\"#bd3786\"],[0.5555555555555556,\"#d8576b\"],[0.6666666666666666,\"#ed7953\"],[0.7777777777777778,\"#fb9f3a\"],[0.8888888888888888,\"#fdca26\"],[1.0,\"#f0f921\"]]}],\"surface\":[{\"type\":\"surface\",\"colorbar\":{\"outlinewidth\":0,\"ticks\":\"\"},\"colorscale\":[[0.0,\"#0d0887\"],[0.1111111111111111,\"#46039f\"],[0.2222222222222222,\"#7201a8\"],[0.3333333333333333,\"#9c179e\"],[0.4444444444444444,\"#bd3786\"],[0.5555555555555556,\"#d8576b\"],[0.6666666666666666,\"#ed7953\"],[0.7777777777777778,\"#fb9f3a\"],[0.8888888888888888,\"#fdca26\"],[1.0,\"#f0f921\"]]}],\"mesh3d\":[{\"type\":\"mesh3d\",\"colorbar\":{\"outlinewidth\":0,\"ticks\":\"\"}}],\"scatter\":[{\"fillpattern\":{\"fillmode\":\"overlay\",\"size\":10,\"solidity\":0.2},\"type\":\"scatter\"}],\"parcoords\":[{\"type\":\"parcoords\",\"line\":{\"colorbar\":{\"outlinewidth\":0,\"ticks\":\"\"}}}],\"scatterpolargl\":[{\"type\":\"scatterpolargl\",\"marker\":{\"colorbar\":{\"outlinewidth\":0,\"ticks\":\"\"}}}],\"bar\":[{\"error_x\":{\"color\":\"#2a3f5f\"},\"error_y\":{\"color\":\"#2a3f5f\"},\"marker\":{\"line\":{\"color\":\"#E5ECF6\",\"width\":0.5},\"pattern\":{\"fillmode\":\"overlay\",\"size\":10,\"solidity\":0.2}},\"type\":\"bar\"}],\"scattergeo\":[{\"type\":\"scattergeo\",\"marker\":{\"colorbar\":{\"outlinewidth\":0,\"ticks\":\"\"}}}],\"scatterpolar\":[{\"type\":\"scatterpolar\",\"marker\":{\"colorbar\":{\"outlinewidth\":0,\"ticks\":\"\"}}}],\"histogram\":[{\"marker\":{\"pattern\":{\"fillmode\":\"overlay\",\"size\":10,\"solidity\":0.2}},\"type\":\"histogram\"}],\"scattergl\":[{\"type\":\"scattergl\",\"marker\":{\"colorbar\":{\"outlinewidth\":0,\"ticks\":\"\"}}}],\"scatter3d\":[{\"type\":\"scatter3d\",\"line\":{\"colorbar\":{\"outlinewidth\":0,\"ticks\":\"\"}},\"marker\":{\"colorbar\":{\"outlinewidth\":0,\"ticks\":\"\"}}}],\"scattermapbox\":[{\"type\":\"scattermapbox\",\"marker\":{\"colorbar\":{\"outlinewidth\":0,\"ticks\":\"\"}}}],\"scatterternary\":[{\"type\":\"scatterternary\",\"marker\":{\"colorbar\":{\"outlinewidth\":0,\"ticks\":\"\"}}}],\"scattercarpet\":[{\"type\":\"scattercarpet\",\"marker\":{\"colorbar\":{\"outlinewidth\":0,\"ticks\":\"\"}}}],\"carpet\":[{\"aaxis\":{\"endlinecolor\":\"#2a3f5f\",\"gridcolor\":\"white\",\"linecolor\":\"white\",\"minorgridcolor\":\"white\",\"startlinecolor\":\"#2a3f5f\"},\"baxis\":{\"endlinecolor\":\"#2a3f5f\",\"gridcolor\":\"white\",\"linecolor\":\"white\",\"minorgridcolor\":\"white\",\"startlinecolor\":\"#2a3f5f\"},\"type\":\"carpet\"}],\"table\":[{\"cells\":{\"fill\":{\"color\":\"#EBF0F8\"},\"line\":{\"color\":\"white\"}},\"header\":{\"fill\":{\"color\":\"#C8D4E3\"},\"line\":{\"color\":\"white\"}},\"type\":\"table\"}],\"barpolar\":[{\"marker\":{\"line\":{\"color\":\"#E5ECF6\",\"width\":0.5},\"pattern\":{\"fillmode\":\"overlay\",\"size\":10,\"solidity\":0.2}},\"type\":\"barpolar\"}],\"pie\":[{\"automargin\":true,\"type\":\"pie\"}]},\"layout\":{\"autotypenumbers\":\"strict\",\"colorway\":[\"#636efa\",\"#EF553B\",\"#00cc96\",\"#ab63fa\",\"#FFA15A\",\"#19d3f3\",\"#FF6692\",\"#B6E880\",\"#FF97FF\",\"#FECB52\"],\"font\":{\"color\":\"#2a3f5f\"},\"hovermode\":\"closest\",\"hoverlabel\":{\"align\":\"left\"},\"paper_bgcolor\":\"white\",\"plot_bgcolor\":\"#E5ECF6\",\"polar\":{\"bgcolor\":\"#E5ECF6\",\"angularaxis\":{\"gridcolor\":\"white\",\"linecolor\":\"white\",\"ticks\":\"\"},\"radialaxis\":{\"gridcolor\":\"white\",\"linecolor\":\"white\",\"ticks\":\"\"}},\"ternary\":{\"bgcolor\":\"#E5ECF6\",\"aaxis\":{\"gridcolor\":\"white\",\"linecolor\":\"white\",\"ticks\":\"\"},\"baxis\":{\"gridcolor\":\"white\",\"linecolor\":\"white\",\"ticks\":\"\"},\"caxis\":{\"gridcolor\":\"white\",\"linecolor\":\"white\",\"ticks\":\"\"}},\"coloraxis\":{\"colorbar\":{\"outlinewidth\":0,\"ticks\":\"\"}},\"colorscale\":{\"sequential\":[[0.0,\"#0d0887\"],[0.1111111111111111,\"#46039f\"],[0.2222222222222222,\"#7201a8\"],[0.3333333333333333,\"#9c179e\"],[0.4444444444444444,\"#bd3786\"],[0.5555555555555556,\"#d8576b\"],[0.6666666666666666,\"#ed7953\"],[0.7777777777777778,\"#fb9f3a\"],[0.8888888888888888,\"#fdca26\"],[1.0,\"#f0f921\"]],\"sequentialminus\":[[0.0,\"#0d0887\"],[0.1111111111111111,\"#46039f\"],[0.2222222222222222,\"#7201a8\"],[0.3333333333333333,\"#9c179e\"],[0.4444444444444444,\"#bd3786\"],[0.5555555555555556,\"#d8576b\"],[0.6666666666666666,\"#ed7953\"],[0.7777777777777778,\"#fb9f3a\"],[0.8888888888888888,\"#fdca26\"],[1.0,\"#f0f921\"]],\"diverging\":[[0,\"#8e0152\"],[0.1,\"#c51b7d\"],[0.2,\"#de77ae\"],[0.3,\"#f1b6da\"],[0.4,\"#fde0ef\"],[0.5,\"#f7f7f7\"],[0.6,\"#e6f5d0\"],[0.7,\"#b8e186\"],[0.8,\"#7fbc41\"],[0.9,\"#4d9221\"],[1,\"#276419\"]]},\"xaxis\":{\"gridcolor\":\"white\",\"linecolor\":\"white\",\"ticks\":\"\",\"title\":{\"standoff\":15},\"zerolinecolor\":\"white\",\"automargin\":true,\"zerolinewidth\":2},\"yaxis\":{\"gridcolor\":\"white\",\"linecolor\":\"white\",\"ticks\":\"\",\"title\":{\"standoff\":15},\"zerolinecolor\":\"white\",\"automargin\":true,\"zerolinewidth\":2},\"scene\":{\"xaxis\":{\"backgroundcolor\":\"#E5ECF6\",\"gridcolor\":\"white\",\"linecolor\":\"white\",\"showbackground\":true,\"ticks\":\"\",\"zerolinecolor\":\"white\",\"gridwidth\":2},\"yaxis\":{\"backgroundcolor\":\"#E5ECF6\",\"gridcolor\":\"white\",\"linecolor\":\"white\",\"showbackground\":true,\"ticks\":\"\",\"zerolinecolor\":\"white\",\"gridwidth\":2},\"zaxis\":{\"backgroundcolor\":\"#E5ECF6\",\"gridcolor\":\"white\",\"linecolor\":\"white\",\"showbackground\":true,\"ticks\":\"\",\"zerolinecolor\":\"white\",\"gridwidth\":2}},\"shapedefaults\":{\"line\":{\"color\":\"#2a3f5f\"}},\"annotationdefaults\":{\"arrowcolor\":\"#2a3f5f\",\"arrowhead\":0,\"arrowwidth\":1},\"geo\":{\"bgcolor\":\"white\",\"landcolor\":\"#E5ECF6\",\"subunitcolor\":\"white\",\"showland\":true,\"showlakes\":true,\"lakecolor\":\"white\"},\"title\":{\"x\":0.05},\"mapbox\":{\"style\":\"light\"}}},\"xaxis\":{\"anchor\":\"y\",\"domain\":[0.0,1.0],\"title\":{\"text\":\"Embedding Dimension\"}},\"yaxis\":{\"anchor\":\"x\",\"domain\":[0.0,1.0],\"title\":{\"text\":\"Value\"}},\"legend\":{\"tracegroupgap\":0},\"title\":{\"text\":\"GPT Embeddings for the First Token\"}},                        {\"responsive\": true}                    ).then(function(){\n",
              "                            \n",
              "var gd = document.getElementById('d7f269a5-ea7d-42e5-b163-52d6e733d671');\n",
              "var x = new MutationObserver(function (mutations, observer) {{\n",
              "        var display = window.getComputedStyle(gd).display;\n",
              "        if (!display || display === 'none') {{\n",
              "            console.log([gd, 'removed!']);\n",
              "            Plotly.purge(gd);\n",
              "            observer.disconnect();\n",
              "        }}\n",
              "}});\n",
              "\n",
              "// Listen for the removal of the full notebook cells\n",
              "var notebookContainer = gd.closest('#notebook-container');\n",
              "if (notebookContainer) {{\n",
              "    x.observe(notebookContainer, {childList: true});\n",
              "}}\n",
              "\n",
              "// Listen for the clearing of the current output cell\n",
              "var outputEl = gd.closest('.output');\n",
              "if (outputEl) {{\n",
              "    x.observe(outputEl, {childList: true});\n",
              "}}\n",
              "\n",
              "                        })                };                            </script>        </div>\n",
              "</body>\n",
              "</html>"
            ]
          },
          "metadata": {}
        }
      ]
    },
    {
      "cell_type": "markdown",
      "source": [
        "Line Plot\n"
      ],
      "metadata": {
        "id": "U790pXas1Eyk"
      }
    },
    {
      "cell_type": "code",
      "source": [
        "\n",
        "\n",
        "# Assuming 'embeddings' is a tensor of shape (batch_size, sequence_length, hidden_size)\n",
        "# We'll visualize the embeddings of the first token in the sequence across all dimensions\n",
        "token_embeddings = embeddings[0, 0, :].detach().numpy()\n",
        "\n",
        "# Create a line plot\n",
        "plt.figure(figsize=(10, 6))  # Adjust figure size as needed\n",
        "plt.plot(token_embeddings)\n",
        "plt.xlabel('Embedding Dimension')\n",
        "plt.ylabel('Value')\n",
        "plt.title('GPT Embeddings for the First Token')\n",
        "plt.grid(True)\n",
        "plt.show()\n"
      ],
      "metadata": {
        "colab": {
          "base_uri": "https://localhost:8080/",
          "height": 564
        },
        "id": "TXy2M8TT0vok",
        "outputId": "db9eea53-3149-47ee-888b-d75d19e8dbe0"
      },
      "execution_count": 67,
      "outputs": [
        {
          "output_type": "display_data",
          "data": {
            "text/plain": [
              "<Figure size 1000x600 with 1 Axes>"
            ],
            "image/png": "[encoded data removed]"
          },
          "metadata": {}
        }
      ]
    },
    {
      "cell_type": "markdown",
      "source": [
        "# **T5 Model**"
      ],
      "metadata": {
        "id": "UzsgPYXu1Muo"
      }
    },
    {
      "cell_type": "code",
      "source": [
        "from transformers import T5ForConditionalGeneration, T5Tokenizer\n",
        "\n",
        "# Load pre-trained T5 model and tokenizer\n",
        "model_name = 't5-small'  # You can choose a different T5 variant if needed\n",
        "tokenizer = T5Tokenizer.from_pretrained(model_name)\n",
        "model = T5ForConditionalGeneration.from_pretrained(model_name)"
      ],
      "metadata": {
        "colab": {
          "base_uri": "https://localhost:8080/",
          "height": 49,
          "referenced_widgets": [
            "e179f09741e34bd0a9ceb0a30bccdf96",
            "b015cb446c0f4b308e4e643f3139c354",
            "08f6855d19a24b3981241e610851e182",
            "e3c92534e5b744709da9e34043e918c5",
            "85812d1979e845b6a1a0de30a7003617",
            "26000dfa94ed4704907a55309d8dfd5f",
            "8bb1d93eafe042fbb6a8e57391e2c1f5",
            "39488f8cc61c423e9e073fd644de4dfd",
            "ac459a5d71f742cbbdcdcc954a956090",
            "14980383e69c47c49daca7f7e4067b18",
            "b264227ffc8e4b4c8bad9372f2895164"
          ]
        },
        "id": "Lq7wp3Yy17UL",
        "outputId": "a8fccab6-6543-4836-9691-45d168af34b3"
      },
      "execution_count": 74,
      "outputs": [
        {
          "output_type": "display_data",
          "data": {
            "text/plain": [
              "generation_config.json:   0%|          | 0.00/147 [00:00<?, ?B/s]"
            ],
            "application/vnd.jupyter.widget-view+json": {
              "version_major": 2,
              "version_minor": 0,
              "model_id": "e179f09741e34bd0a9ceb0a30bccdf96"
            }
          },
          "metadata": {}
        }
      ]
    },
    {
      "cell_type": "markdown",
      "source": [
        "Generator"
      ],
      "metadata": {
        "id": "4SUZfpfK4VZ4"
      }
    },
    {
      "cell_type": "code",
      "source": [
        "# Define a function for generating text using T5\n",
        "def generate_text_t5(prompt, max_length=50):\n",
        "    inputs = tokenizer(prompt, return_tensors='pt', padding=True, truncation=True, max_length=128)\n",
        "\n",
        "    summary_ids = model.generate(\n",
        "        inputs.input_ids,\n",
        "        attention_mask=inputs.attention_mask,\n",
        "        max_length=max_length,\n",
        "        num_beams=4,\n",
        "        early_stopping=True\n",
        "    )\n",
        "\n",
        "    generated_text = tokenizer.decode(summary_ids[0], skip_special_tokens=True)\n",
        "    return generated_text"
      ],
      "metadata": {
        "id": "nb9oP7w84XuH"
      },
      "execution_count": 77,
      "outputs": []
    },
    {
      "cell_type": "markdown",
      "source": [
        "Retriever"
      ],
      "metadata": {
        "id": "XQs3T5zF4jEI"
      }
    },
    {
      "cell_type": "code",
      "source": [
        "question_prompt = \"Generate a question about: \" + train_df['answer'].iloc[0]\n",
        "generated_question = generate_text_t5(question_prompt)\n",
        "print(\"Generated Question (T5):\", generated_question)\n",
        "\n",
        "answer_prompt = \"Generate an answer for: \" + ' '.join(train_df['question'].iloc[0])\n",
        "generated_answer = generate_text_t5(answer_prompt)\n",
        "print(\"Generated Answer (T5):\", generated_answer)"
      ],
      "metadata": {
        "colab": {
          "base_uri": "https://localhost:8080/"
        },
        "id": "BHvRKPLg3yG4",
        "outputId": "9c2dcbc4-ae24-4e1e-9cd4-3f2b8c5455ad"
      },
      "execution_count": 78,
      "outputs": [
        {
          "output_type": "stream",
          "name": "stdout",
          "text": [
            "Generated Question (T5): Generate a question about: Paris\n",
            "Generated Answer (T5): Quelle est la capitale de Jacques anatole francois thibault?\n"
          ]
        }
      ]
    },
    {
      "cell_type": "code",
      "source": [],
      "metadata": {
        "id": "-TmiAmiC7QHA"
      },
      "execution_count": null,
      "outputs": []
    },
    {
      "cell_type": "markdown",
      "source": [
        "# Data Visualization"
      ],
      "metadata": {
        "id": "Ve-7B5aB5XN-"
      }
    },
    {
      "cell_type": "markdown",
      "source": [
        "Scatter Plot"
      ],
      "metadata": {
        "id": "AWePmFh05VGh"
      }
    },
    {
      "cell_type": "code",
      "source": [
        "\n",
        "\n",
        "# Create a scatter plot\n",
        "fig = px.scatter(x=range(len(token_embeddings)), y=token_embeddings,\n",
        "                 labels={'x': 'Embedding Dimension', 'y': 'Value'},\n",
        "                 title='T5 Embeddings for the First Token')\n",
        "\n",
        "fig.show()"
      ],
      "metadata": {
        "id": "zS-BBPyXSLcX",
        "colab": {
          "base_uri": "https://localhost:8080/",
          "height": 542
        },
        "outputId": "98e4b327-a6d6-4a16-94d7-7947f662d77a"
      },
      "execution_count": 85,
      "outputs": [
        {
          "output_type": "display_data",
          "data": {
            "text/html": [
              "<html>\n",
              "<head><meta charset=\"utf-8\" /></head>\n",
              "<body>\n",
              "    <div>            <script src=\"https://cdnjs.cloudflare.com/ajax/libs/mathjax/2.7.5/MathJax.js?config=TeX-AMS-MML_SVG\"></script><script type=\"text/javascript\">if (window.MathJax && window.MathJax.Hub && window.MathJax.Hub.Config) {window.MathJax.Hub.Config({SVG: {font: \"STIX-Web\"}});}</script>                <script type=\"text/javascript\">window.PlotlyConfig = {MathJaxConfig: 'local'};</script>\n",
              "        <script charset=\"utf-8\" src=\"https://cdn.plot.ly/plotly-2.24.1.min.js\"></script>                <div id=\"ec31e44d-9ec5-42e0-8b59-68666a111c7f\" class=\"plotly-graph-div\" style=\"height:525px; width:100%;\"></div>            <script type=\"text/javascript\">                                    window.PLOTLYENV=window.PLOTLYENV || {};                                    if (document.getElementById(\"ec31e44d-9ec5-42e0-8b59-68666a111c7f\")) {                    Plotly.newPlot(                        \"ec31e44d-9ec5-42e0-8b59-68666a111c7f\",                        [{\"hovertemplate\":\"Embedding Dimension=%{x}\\u003cbr\\u003eValue=%{y}\\u003cextra\\u003e\\u003c\\u002fextra\\u003e\",\"legendgroup\":\"\",\"marker\":{\"color\":\"#636efa\",\"symbol\":\"circle\"},\"mode\":\"markers\",\"name\":\"\",\"orientation\":\"v\",\"showlegend\":false,\"x\":[0,1,2,3,4,5,6,7,8,9,10,11,12,13,14,15,16,17,18,19,20,21,22,23,24,25,26,27,28,29,30,31,32,33,34,35,36,37,38,39,40,41,42,43,44,45,46,47,48,49,50,51,52,53,54,55,56,57,58,59,60,61,62,63,64,65,66,67,68,69,70,71,72,73,74,75,76,77,78,79,80,81,82,83,84,85,86,87,88,89,90,91,92,93,94,95,96,97,98,99,100,101,102,103,104,105,106,107,108,109,110,111,112,113,114,115,116,117,118,119,120,121,122,123,124,125,126,127,128,129,130,131,132,133,134,135,136,137,138,139,140,141,142,143,144,145,146,147,148,149,150,151,152,153,154,155,156,157,158,159,160,161,162,163,164,165,166,167,168,169,170,171,172,173,174,175,176,177,178,179,180,181,182,183,184,185,186,187,188,189,190,191,192,193,194,195,196,197,198,199,200,201,202,203,204,205,206,207,208,209,210,211,212,213,214,215,216,217,218,219,220,221,222,223,224,225,226,227,228,229,230,231,232,233,234,235,236,237,238,239,240,241,242,243,244,245,246,247,248,249,250,251,252,253,254,255,256,257,258,259,260,261,262,263,264,265,266,267,268,269,270,271,272,273,274,275,276,277,278,279,280,281,282,283,284,285,286,287,288,289,290,291,292,293,294,295,296,297,298,299,300,301,302,303,304,305,306,307,308,309,310,311,312,313,314,315,316,317,318,319,320,321,322,323,324,325,326,327,328,329,330,331,332,333,334,335,336,337,338,339,340,341,342,343,344,345,346,347,348,349,350,351,352,353,354,355,356,357,358,359,360,361,362,363,364,365,366,367,368,369,370,371,372,373,374,375,376,377,378,379,380,381,382,383,384,385,386,387,388,389,390,391,392,393,394,395,396,397,398,399,400,401,402,403,404,405,406,407,408,409,410,411,412,413,414,415,416,417,418,419,420,421,422,423,424,425,426,427,428,429,430,431,432,433,434,435,436,437,438,439,440,441,442,443,444,445,446,447,448,449,450,451,452,453,454,455,456,457,458,459,460,461,462,463,464,465,466,467,468,469,470,471,472,473,474,475,476,477,478,479,480,481,482,483,484,485,486,487,488,489,490,491,492,493,494,495,496,497,498,499,500,501,502,503,504,505,506,507,508,509,510,511,512,513,514,515,516,517,518,519,520,521,522,523,524,525,526,527,528,529,530,531,532,533,534,535,536,537,538,539,540,541,542,543,544,545,546,547,548,549,550,551,552,553,554,555,556,557,558,559,560,561,562,563,564,565,566,567,568,569,570,571,572,573,574,575,576,577,578,579,580,581,582,583,584,585,586,587,588,589,590,591,592,593,594,595,596,597,598,599,600,601,602,603,604,605,606,607,608,609,610,611,612,613,614,615,616,617,618,619,620,621,622,623,624,625,626,627,628,629,630,631,632,633,634,635,636,637,638,639,640,641,642,643,644,645,646,647,648,649,650,651,652,653,654,655,656,657,658,659,660,661,662,663,664,665,666,667,668,669,670,671,672,673,674,675,676,677,678,679,680,681,682,683,684,685,686,687,688,689,690,691,692,693,694,695,696,697,698,699,700,701,702,703,704,705,706,707,708,709,710,711,712,713,714,715,716,717,718,719,720,721,722,723,724,725,726,727,728,729,730,731,732,733,734,735,736,737,738,739,740,741,742,743,744,745,746,747,748,749,750,751,752,753,754,755,756,757,758,759,760,761,762,763,764,765,766,767],\"xaxis\":\"x\",\"y\":[-0.22871896624565125,0.06510760635137558,-0.21116715669631958,-0.08880134671926498,-0.02033388614654541,-0.3102719187736511,0.28587040305137634,0.213027223944664,-0.17898516356945038,0.11852473765611649,0.5047309398651123,-0.012516421265900135,-0.0043099066242575645,0.0653330460190773,-0.1336689442396164,0.007016553543508053,-0.007663017604500055,-0.2550101578235626,0.21570999920368195,-0.05687842145562172,0.15499211847782135,-0.10307382047176361,-0.27315768599510193,-0.03397703170776367,0.02398972027003765,0.1094444990158081,-0.4134967029094696,-0.26229408383369446,0.009353763423860073,-0.25713154673576355,0.036993589252233505,-0.10251200944185257,-0.033725887537002563,-0.38264405727386475,-0.09573444724082947,0.028576025739312172,26.099409103393555,0.06694084405899048,-0.053192880004644394,-0.031835950911045074,-0.14941512048244476,0.14110541343688965,0.008797429502010345,-0.21932834386825562,0.013454940170049667,-0.011908959597349167,-0.023349830880761147,0.02459082379937172,-0.4853208661079407,0.006184939760714769,-0.06330063194036484,0.03564230352640152,-0.24366693198680878,-0.13375116884708405,0.07208893448114395,0.2531343698501587,-0.12824395298957825,-0.23942482471466064,-0.15137572586536407,-0.31880709528923035,0.04087600111961365,-0.05198422819375992,-0.23140808939933777,-0.1404210925102234,-1.0394670963287354,-0.14098507165908813,-0.11479924619197845,-0.018010636791586876,-0.5224937796592712,-0.13549864292144775,-0.11552388966083527,-0.2717420756816864,-0.2036527693271637,-0.0181286558508873,-0.008207415230572224,-0.12846536934375763,-0.1192869022488594,-0.7917001247406006,-0.06135425716638565,0.03703884780406952,-0.39038243889808655,-0.10895217210054398,-0.02681552805006504,-0.41492918133735657,-0.11056125164031982,0.19551299512386322,0.026257431134581566,-0.989538848400116,-0.05383170023560524,-0.1484585404396057,-0.04192167520523071,-0.3561145067214966,-0.35572028160095215,-0.052287567406892776,-0.08084756135940552,-0.17144474387168884,-0.05550830438733101,-0.07390672713518143,0.1350378543138504,0.18742404878139496,-0.14525385200977325,-0.2056475579738617,-0.6975978016853333,-0.14643152058124542,-0.08336712419986725,-0.12467695772647858,-0.2041810303926468,0.8633559346199036,0.009251123294234276,-0.10372742265462875,-0.03166843578219414,0.0848417803645134,-0.1860022246837616,0.06471521407365799,0.04254378005862236,-0.01768820732831955,0.009571674279868603,0.16092583537101746,0.05427044257521629,-0.2542911171913147,-0.05976337566971779,0.08999025076627731,-0.021411098539829254,0.08009976893663406,-0.16913430392742157,-0.0618336945772171,-0.09938658773899078,0.050022996962070465,-0.6588363647460938,-0.08143993467092514,0.059188198298215866,-0.025235462933778763,0.13727864623069763,-0.14856389164924622,0.01990440860390663,-0.041609250009059906,-0.0668993815779686,-0.48222824931144714,0.7102330327033997,0.07641559094190598,-0.1833495795726776,0.035419657826423645,-0.5770537853240967,-0.1362059861421585,-0.06963695585727692,0.32061582803726196,0.0775262713432312,0.02674267627298832,-0.09698217362165451,-0.18514178693294525,-0.165974959731102,-0.09747287631034851,0.1540214568376541,0.2667901813983917,-0.16933511197566986,-0.03738737106323242,-0.01632106490433216,-0.31503379344940186,0.04948275163769722,-0.028643783181905746,0.11612840741872787,0.028330201283097267,-0.02578115463256836,-0.08021773397922516,-0.2579048275947571,-0.10221440345048904,-0.09510710835456848,-1.198979377746582,-0.22458329796791077,-0.28169554471969604,-0.12057264894247055,-0.16403377056121826,-0.20285572111606598,0.0754055380821228,-0.16395799815654755,-0.24338160455226898,-0.23511096835136414,-0.24534091353416443,0.09567089378833771,-0.06773962825536728,-0.22759263217449188,-0.09923644363880157,0.07338519394397736,0.004913751967251301,-0.024580812081694603,-0.17582504451274872,-0.013573629781603813,0.0025172457098960876,-0.0040911282412707806,-0.07662823796272278,-0.15849314630031586,-0.25742337107658386,-0.2076522260904312,0.023447100073099136,-0.06291435658931732,-0.06924325227737427,-0.03718535602092743,-0.23690615594387054,-0.09946878999471664,-0.2601626217365265,-0.12557770311832428,0.29252350330352783,-0.0799335390329361,-0.07156938314437866,-0.015495778061449528,0.04643380269408226,-0.12760592997074127,-0.1013648584485054,-0.10914672911167145,-0.006636519450694323,-0.019544454291462898,0.3155430555343628,-0.04920263960957527,0.07579382508993149,-0.17357857525348663,-0.13562430441379547,-0.22076335549354553,-0.2589130103588104,-0.16694797575473785,0.028942611068487167,0.13452543318271637,-0.08345864713191986,-0.03250923752784729,-0.23410245776176453,0.23041598498821259,-0.18039727210998535,-0.0738900825381279,-0.09031644463539124,0.03909590095281601,-0.06425570696592331,0.09385303407907486,-0.05467908829450607,0.8674575090408325,-0.07546216994524002,-0.08710582554340363,-0.23333343863487244,-0.11422985792160034,0.03653528541326523,-0.02500520646572113,-0.04966309294104576,-0.11994083225727081,0.3041722774505615,-0.01861884444952011,-0.11618605256080627,0.0066848318092525005,-0.007586649153381586,-0.1904182881116867,0.28311216831207275,0.009088670834898949,-0.27623483538627625,-0.458891361951828,-0.12663739919662476,-0.061293020844459534,-0.006678994279354811,-0.23003187775611877,0.2702248990535736,0.060739293694496155,0.10498517751693726,-0.05955931916832924,0.0919373407959938,-0.0012420000275596976,-0.1531330794095993,-0.12657850980758667,0.009452791884541512,-0.18479079008102417,-0.19510117173194885,-0.9678743481636047,-0.048261843621730804,-0.19380685687065125,0.10442709922790527,-0.6593976616859436,0.40960556268692017,-0.1256108283996582,0.04426654055714607,-0.12392023950815201,-0.19546201825141907,-0.01104107778519392,-0.1966618150472641,-0.10660766065120697,-0.10809122025966644,-0.05172906816005707,-0.11279916018247604,0.12618407607078552,-0.02093171328306198,-0.008273753337562084,-0.17062783241271973,-0.1463771015405655,-0.16121332347393036,-0.06907343119382858,-0.2896214425563812,-0.026052741333842278,-0.11048273742198944,0.07776246219873428,-0.030041294172406197,0.1104312464594841,-0.22375385463237762,-0.07328891009092331,-0.1594712883234024,-0.09083998948335648,-0.012298181653022766,0.043461933732032776,0.007135453633964062,0.015025608241558075,-0.1755777895450592,-0.10866180807352066,-0.03968624770641327,0.09463519603013992,-0.011266112327575684,-0.8399829864501953,-0.06143668666481972,-0.05240647494792938,-0.18293990194797516,-0.07299395650625229,-0.1476883441209793,-3.0717930793762207,-0.07295247167348862,-0.006182047072798014,0.12811991572380066,-0.07507353276014328,0.16647681593894958,-0.4059179723262787,-0.2750234305858612,-0.22999316453933716,0.018763985484838486,0.07360345125198364,0.1365123987197876,-0.2952910363674164,-0.08760210871696472,0.03755209967494011,-0.19217415153980255,-0.13083788752555847,-0.1492011696100235,-0.03633510321378708,-0.18294639885425568,0.05152302607893944,-0.3035546541213989,0.2097284495830536,-0.06210906803607941,-0.18839029967784882,-0.16088643670082092,-0.08463655412197113,0.0027014445513486862,-0.21702243387699127,0.024281855672597885,-0.2606898546218872,0.01775190979242325,-0.0001818640885176137,-0.346811443567276,-0.018604116514325142,0.0020013577304780483,-0.17062856256961823,0.0051795560866594315,0.08634759485721588,-0.16143904626369476,0.04548224061727524,-0.04137515649199486,-0.44490668177604675,-0.07031015306711197,-0.021186012774705887,-0.17119018733501434,-0.030199019238352776,-0.06062176823616028,-0.42535659670829773,-0.1326601356267929,-0.11525266617536545,-1.1843554973602295,0.08273787051439285,-0.062379397451877594,0.03855285048484802,-0.02162969671189785,0.07988978922367096,-0.11377842724323273,-0.10001126676797867,-0.7193775773048401,-8.09552001953125,-0.34447264671325684,-0.07736269384622574,0.11342427134513855,-0.5876587629318237,0.08540461212396622,-0.04167728126049042,-0.2322005331516266,-0.1408635377883911,-0.26299673318862915,-0.23170261085033417,-0.01749352738261223,0.22535818815231323,-0.03066924773156643,-0.13322199881076813,-0.3375054895877838,0.17525959014892578,-0.028700899332761765,-0.012739699333906174,-0.5695611834526062,-0.30174770951271057,-0.06817187368869781,-0.20978102087974548,-0.0026304482016712427,-0.01700468175113201,0.0043123341165483,-0.09083937853574753,-0.025093192234635353,0.05970074608922005,-0.08664289116859436,-0.027764733880758286,0.0501294881105423,-0.06871383637189865,-0.19455966353416443,0.6420273780822754,-0.0885830968618393,-0.25685879588127136,-0.029834626242518425,-0.1576954424381256,-0.2534700632095337,-0.20492006838321686,-0.14957937598228455,-0.04924004152417183,-0.3949064612388611,0.21210812032222748,-0.03196026012301445,-0.2855175733566284,-0.11301594972610474,0.05663425847887993,-0.09544956684112549,-0.03939831629395485,-0.06539615988731384,-0.2199295461177826,-0.12465891242027283,-0.19062691926956177,-0.19673492014408112,39.221954345703125,0.022189905866980553,0.08102058619260788,-0.06314549595117569,-0.2651602625846863,0.04878907650709152,-0.2143530696630478,-0.07241486012935638,-0.0009266051347367465,0.3380844295024872,-0.058976441621780396,-0.10778585821390152,2.889012575149536,0.015918683260679245,-0.03869052603840828,0.05983348563313484,-0.10992103070020676,1.6967132091522217,-0.05586853250861168,-0.004761154297739267,-0.17686019837856293,-0.09285996109247208,0.08919274806976318,-0.3324102759361267,-0.09540317207574844,0.006963053718209267,-0.15075822174549103,-0.06950513273477554,-0.02998371794819832,-0.028540465980768204,0.11368973553180695,0.12041668593883514,-0.04112360626459122,-0.2676495611667633,-0.057337887585163116,-0.14271949231624603,0.009164332412183285,-0.32538866996765137,-0.12657111883163452,0.08246017247438431,0.07426036149263382,-0.06663192808628082,-0.23550407588481903,-0.08882582932710648,-0.027072515338659286,-0.09956970810890198,-0.022523188963532448,-0.06982581317424774,-0.15930312871932983,-1.5927351713180542,-0.8531516790390015,0.6802995204925537,-0.1940772980451584,-0.071502186357975,0.054695840924978256,-0.21221718192100525,-0.13544277846813202,-0.16790425777435303,0.0734667107462883,-0.2099614292383194,0.12166354805231094,-0.07160291820764542,-0.17785711586475372,-0.03696126118302345,-0.14641843736171722,0.023527445271611214,52.74137878417969,-0.4994014501571655,-0.028692122548818588,0.05400308966636658,0.012218357063829899,-0.09538976848125458,-0.04538560286164284,-0.924043595790863,-0.07067155838012695,-0.04490275681018829,0.0041678850539028645,0.03546808287501335,-0.18418551981449127,0.1318178027868271,0.06046101823449135,0.09025631099939346,-0.13367965817451477,-0.1412438601255417,-0.14781086146831512,-0.25705990195274353,0.048307083547115326,-0.08769659698009491,-0.15394124388694763,-0.07404635846614838,-0.20168019831180573,-0.1639092117547989,0.01325373724102974,-0.04663362726569176,-0.029527507722377777,-0.10798228532075882,0.19097010791301727,-0.3700411319732666,-0.38046884536743164,-0.16695131361484528,-0.08615735173225403,-0.0818963423371315,-0.01282759103924036,-0.07500078529119492,-0.13277874886989594,-0.051490817219018936,-0.08511901646852493,-0.11576072126626968,-0.03605886921286583,-0.1422949582338333,0.13069097697734833,-0.31137362122535706,-0.07256786525249481,0.09248070418834686,-0.1053338274359703,-0.03991842642426491,0.0685809776186943,-0.07242372632026672,-0.024108653888106346,-0.3684280812740326,0.0037655988708138466,0.07881814986467361,-0.15730486810207367,-0.16501615941524506,-0.493045836687088,0.002080220030620694,0.01494847983121872,0.004337436985224485,-0.1841578483581543,-0.3151278793811798,-0.20664072036743164,0.06895534694194794,-0.07103883475065231,-0.08265568315982819,-0.10743000358343124,0.054179199039936066,-0.20674782991409302,-0.1868433952331543,-0.18252375721931458,-0.39382341504096985,-0.19162380695343018,0.08170576393604279,-0.12532831728458405,-0.20793311297893524,-0.09711617231369019,-0.18451082706451416,0.02492351271212101,-0.1425560563802719,-0.14991335570812225,0.04241884872317314,-0.06627511233091354,0.07646927982568741,0.2854868173599243,0.11809208989143372,-0.010997867211699486,-0.08119860291481018,0.004124065861105919,-0.1836378276348114,0.12382180988788605,-0.04187547788023949,0.05105094239115715,-0.05963784083724022,0.040816258639097214,-0.32926511764526367,0.020404048264026642,-0.05156877264380455,-0.18023011088371277,-0.05901390314102173,-0.06775274872779846,-0.025234797969460487,-0.1671433299779892,-0.09230898320674896,-0.21553641557693481,-0.06021570414304733,0.016927730292081833,-0.07913856953382492,-0.12306976318359375,-0.19494397938251495,-0.4054129421710968,0.08805550634860992,-0.22257815301418304,-0.0738094374537468,-0.08108273893594742,0.06264830380678177,-0.2628994584083557,-0.1681116223335266,0.01799141988158226,-0.09952887892723083,-0.07424163818359375,-0.2148606777191162,-0.06579259037971497,-0.07283657789230347,-0.030411189422011375,0.16493584215641022,-0.17403054237365723,-0.023987041786313057,-0.2173469215631485,-0.7991529703140259,-0.07969158887863159,-0.22617891430854797,-0.027745220810174942,-0.09746092557907104,0.025342095643281937,-0.146365225315094,-0.039798010140657425,-0.508301854133606,-0.25537002086639404,0.050904709845781326,-0.16935649514198303,0.04444735497236252,-0.30455851554870605,-0.1549779325723648,-0.289396196603775,-0.26110097765922546,-0.04979010298848152,-0.002157217124477029,-0.24550314247608185,-0.3189983069896698,0.13105231523513794,-0.016926217824220657,0.0943518877029419,-0.017109448090195656,0.08445032685995102,-0.2786702811717987,-0.03420393541455269,-0.30522629618644714,0.07048399746417999,0.11256269365549088,-0.07997588813304901,0.517230749130249,-0.01713179610669613,-0.02018284983932972,-0.11805666983127594,-0.04712335020303726,-0.05265318229794502,0.09262797981500626,-0.22457079589366913,-0.24705789983272552,0.07226721197366714,-0.09928768128156662,-0.022486692294478416,-0.05554597079753876,-0.09197111427783966,0.13450981676578522,-0.6277004480361938,0.013903281651437283,-0.288748562335968,-0.12578269839286804,-0.13348525762557983,0.3374978005886078,-0.10843667387962341,-0.03123212791979313,-0.05026564747095108,0.060916729271411896,-0.2012895792722702,0.12696489691734314,0.07893605530261993,-0.07725279778242111,-0.017711101099848747,0.10319402068853378,-0.09898760914802551,0.036579638719558716,-0.010001253336668015,-0.003279327414929867,-0.10499733686447144,-0.006512495689094067,0.06895992904901505,-0.053416602313518524,-0.02167266234755516,-0.003433412639424205,-0.022745996713638306,0.042044512927532196,-0.17593109607696533,-1.7874934673309326,-0.19998596608638763,-0.28337398171424866,-0.2368997186422348,-0.29640302062034607,-0.21625810861587524,-0.01549629494547844,0.09629775583744049,-0.1260765790939331,-0.2030964344739914,-0.16388067603111267,-0.027631526812911034,-0.10992619395256042,-0.1829003542661667,-0.06854811310768127,-0.33396029472351074,-0.09965218603610992,-0.41913530230522156,0.05716492608189583,0.06340580433607101,-0.1066153347492218,0.045522209256887436,-0.10958724468946457,0.14396527409553528,-0.2760162055492401,-0.1851520985364914,0.09280744940042496,0.09071804583072662,0.04067026823759079,-0.3179037868976593,-0.06088264286518097,-0.1919153332710266,0.02839902974665165,0.11336211115121841,0.042800623923540115,-0.3374791145324707,-0.27048081159591675,-0.12415949255228043,-0.2931368052959442,0.004128634463995695,-0.01493716612458229,-0.31844279170036316,-0.6858811974525452,-0.06555524468421936,-0.11268049478530884,-0.19451770186424255,-0.0916072353720665,-0.0005594005924649537,-0.13721705973148346,0.14574138820171356,-0.06165819242596626,0.03215343505144119,-0.125681072473526,-0.2435200959444046,-0.0020699428860098124,-0.14838682115077972,0.04771210625767708,-0.21374283730983734,0.1098477765917778,1.2613433599472046,-0.14250022172927856,-0.07109011709690094,-0.07533178478479385,0.12073084712028503,-0.13374106585979462],\"yaxis\":\"y\",\"type\":\"scatter\"}],                        {\"template\":{\"data\":{\"histogram2dcontour\":[{\"type\":\"histogram2dcontour\",\"colorbar\":{\"outlinewidth\":0,\"ticks\":\"\"},\"colorscale\":[[0.0,\"#0d0887\"],[0.1111111111111111,\"#46039f\"],[0.2222222222222222,\"#7201a8\"],[0.3333333333333333,\"#9c179e\"],[0.4444444444444444,\"#bd3786\"],[0.5555555555555556,\"#d8576b\"],[0.6666666666666666,\"#ed7953\"],[0.7777777777777778,\"#fb9f3a\"],[0.8888888888888888,\"#fdca26\"],[1.0,\"#f0f921\"]]}],\"choropleth\":[{\"type\":\"choropleth\",\"colorbar\":{\"outlinewidth\":0,\"ticks\":\"\"}}],\"histogram2d\":[{\"type\":\"histogram2d\",\"colorbar\":{\"outlinewidth\":0,\"ticks\":\"\"},\"colorscale\":[[0.0,\"#0d0887\"],[0.1111111111111111,\"#46039f\"],[0.2222222222222222,\"#7201a8\"],[0.3333333333333333,\"#9c179e\"],[0.4444444444444444,\"#bd3786\"],[0.5555555555555556,\"#d8576b\"],[0.6666666666666666,\"#ed7953\"],[0.7777777777777778,\"#fb9f3a\"],[0.8888888888888888,\"#fdca26\"],[1.0,\"#f0f921\"]]}],\"heatmap\":[{\"type\":\"heatmap\",\"colorbar\":{\"outlinewidth\":0,\"ticks\":\"\"},\"colorscale\":[[0.0,\"#0d0887\"],[0.1111111111111111,\"#46039f\"],[0.2222222222222222,\"#7201a8\"],[0.3333333333333333,\"#9c179e\"],[0.4444444444444444,\"#bd3786\"],[0.5555555555555556,\"#d8576b\"],[0.6666666666666666,\"#ed7953\"],[0.7777777777777778,\"#fb9f3a\"],[0.8888888888888888,\"#fdca26\"],[1.0,\"#f0f921\"]]}],\"heatmapgl\":[{\"type\":\"heatmapgl\",\"colorbar\":{\"outlinewidth\":0,\"ticks\":\"\"},\"colorscale\":[[0.0,\"#0d0887\"],[0.1111111111111111,\"#46039f\"],[0.2222222222222222,\"#7201a8\"],[0.3333333333333333,\"#9c179e\"],[0.4444444444444444,\"#bd3786\"],[0.5555555555555556,\"#d8576b\"],[0.6666666666666666,\"#ed7953\"],[0.7777777777777778,\"#fb9f3a\"],[0.8888888888888888,\"#fdca26\"],[1.0,\"#f0f921\"]]}],\"contourcarpet\":[{\"type\":\"contourcarpet\",\"colorbar\":{\"outlinewidth\":0,\"ticks\":\"\"}}],\"contour\":[{\"type\":\"contour\",\"colorbar\":{\"outlinewidth\":0,\"ticks\":\"\"},\"colorscale\":[[0.0,\"#0d0887\"],[0.1111111111111111,\"#46039f\"],[0.2222222222222222,\"#7201a8\"],[0.3333333333333333,\"#9c179e\"],[0.4444444444444444,\"#bd3786\"],[0.5555555555555556,\"#d8576b\"],[0.6666666666666666,\"#ed7953\"],[0.7777777777777778,\"#fb9f3a\"],[0.8888888888888888,\"#fdca26\"],[1.0,\"#f0f921\"]]}],\"surface\":[{\"type\":\"surface\",\"colorbar\":{\"outlinewidth\":0,\"ticks\":\"\"},\"colorscale\":[[0.0,\"#0d0887\"],[0.1111111111111111,\"#46039f\"],[0.2222222222222222,\"#7201a8\"],[0.3333333333333333,\"#9c179e\"],[0.4444444444444444,\"#bd3786\"],[0.5555555555555556,\"#d8576b\"],[0.6666666666666666,\"#ed7953\"],[0.7777777777777778,\"#fb9f3a\"],[0.8888888888888888,\"#fdca26\"],[1.0,\"#f0f921\"]]}],\"mesh3d\":[{\"type\":\"mesh3d\",\"colorbar\":{\"outlinewidth\":0,\"ticks\":\"\"}}],\"scatter\":[{\"fillpattern\":{\"fillmode\":\"overlay\",\"size\":10,\"solidity\":0.2},\"type\":\"scatter\"}],\"parcoords\":[{\"type\":\"parcoords\",\"line\":{\"colorbar\":{\"outlinewidth\":0,\"ticks\":\"\"}}}],\"scatterpolargl\":[{\"type\":\"scatterpolargl\",\"marker\":{\"colorbar\":{\"outlinewidth\":0,\"ticks\":\"\"}}}],\"bar\":[{\"error_x\":{\"color\":\"#2a3f5f\"},\"error_y\":{\"color\":\"#2a3f5f\"},\"marker\":{\"line\":{\"color\":\"#E5ECF6\",\"width\":0.5},\"pattern\":{\"fillmode\":\"overlay\",\"size\":10,\"solidity\":0.2}},\"type\":\"bar\"}],\"scattergeo\":[{\"type\":\"scattergeo\",\"marker\":{\"colorbar\":{\"outlinewidth\":0,\"ticks\":\"\"}}}],\"scatterpolar\":[{\"type\":\"scatterpolar\",\"marker\":{\"colorbar\":{\"outlinewidth\":0,\"ticks\":\"\"}}}],\"histogram\":[{\"marker\":{\"pattern\":{\"fillmode\":\"overlay\",\"size\":10,\"solidity\":0.2}},\"type\":\"histogram\"}],\"scattergl\":[{\"type\":\"scattergl\",\"marker\":{\"colorbar\":{\"outlinewidth\":0,\"ticks\":\"\"}}}],\"scatter3d\":[{\"type\":\"scatter3d\",\"line\":{\"colorbar\":{\"outlinewidth\":0,\"ticks\":\"\"}},\"marker\":{\"colorbar\":{\"outlinewidth\":0,\"ticks\":\"\"}}}],\"scattermapbox\":[{\"type\":\"scattermapbox\",\"marker\":{\"colorbar\":{\"outlinewidth\":0,\"ticks\":\"\"}}}],\"scatterternary\":[{\"type\":\"scatterternary\",\"marker\":{\"colorbar\":{\"outlinewidth\":0,\"ticks\":\"\"}}}],\"scattercarpet\":[{\"type\":\"scattercarpet\",\"marker\":{\"colorbar\":{\"outlinewidth\":0,\"ticks\":\"\"}}}],\"carpet\":[{\"aaxis\":{\"endlinecolor\":\"#2a3f5f\",\"gridcolor\":\"white\",\"linecolor\":\"white\",\"minorgridcolor\":\"white\",\"startlinecolor\":\"#2a3f5f\"},\"baxis\":{\"endlinecolor\":\"#2a3f5f\",\"gridcolor\":\"white\",\"linecolor\":\"white\",\"minorgridcolor\":\"white\",\"startlinecolor\":\"#2a3f5f\"},\"type\":\"carpet\"}],\"table\":[{\"cells\":{\"fill\":{\"color\":\"#EBF0F8\"},\"line\":{\"color\":\"white\"}},\"header\":{\"fill\":{\"color\":\"#C8D4E3\"},\"line\":{\"color\":\"white\"}},\"type\":\"table\"}],\"barpolar\":[{\"marker\":{\"line\":{\"color\":\"#E5ECF6\",\"width\":0.5},\"pattern\":{\"fillmode\":\"overlay\",\"size\":10,\"solidity\":0.2}},\"type\":\"barpolar\"}],\"pie\":[{\"automargin\":true,\"type\":\"pie\"}]},\"layout\":{\"autotypenumbers\":\"strict\",\"colorway\":[\"#636efa\",\"#EF553B\",\"#00cc96\",\"#ab63fa\",\"#FFA15A\",\"#19d3f3\",\"#FF6692\",\"#B6E880\",\"#FF97FF\",\"#FECB52\"],\"font\":{\"color\":\"#2a3f5f\"},\"hovermode\":\"closest\",\"hoverlabel\":{\"align\":\"left\"},\"paper_bgcolor\":\"white\",\"plot_bgcolor\":\"#E5ECF6\",\"polar\":{\"bgcolor\":\"#E5ECF6\",\"angularaxis\":{\"gridcolor\":\"white\",\"linecolor\":\"white\",\"ticks\":\"\"},\"radialaxis\":{\"gridcolor\":\"white\",\"linecolor\":\"white\",\"ticks\":\"\"}},\"ternary\":{\"bgcolor\":\"#E5ECF6\",\"aaxis\":{\"gridcolor\":\"white\",\"linecolor\":\"white\",\"ticks\":\"\"},\"baxis\":{\"gridcolor\":\"white\",\"linecolor\":\"white\",\"ticks\":\"\"},\"caxis\":{\"gridcolor\":\"white\",\"linecolor\":\"white\",\"ticks\":\"\"}},\"coloraxis\":{\"colorbar\":{\"outlinewidth\":0,\"ticks\":\"\"}},\"colorscale\":{\"sequential\":[[0.0,\"#0d0887\"],[0.1111111111111111,\"#46039f\"],[0.2222222222222222,\"#7201a8\"],[0.3333333333333333,\"#9c179e\"],[0.4444444444444444,\"#bd3786\"],[0.5555555555555556,\"#d8576b\"],[0.6666666666666666,\"#ed7953\"],[0.7777777777777778,\"#fb9f3a\"],[0.8888888888888888,\"#fdca26\"],[1.0,\"#f0f921\"]],\"sequentialminus\":[[0.0,\"#0d0887\"],[0.1111111111111111,\"#46039f\"],[0.2222222222222222,\"#7201a8\"],[0.3333333333333333,\"#9c179e\"],[0.4444444444444444,\"#bd3786\"],[0.5555555555555556,\"#d8576b\"],[0.6666666666666666,\"#ed7953\"],[0.7777777777777778,\"#fb9f3a\"],[0.8888888888888888,\"#fdca26\"],[1.0,\"#f0f921\"]],\"diverging\":[[0,\"#8e0152\"],[0.1,\"#c51b7d\"],[0.2,\"#de77ae\"],[0.3,\"#f1b6da\"],[0.4,\"#fde0ef\"],[0.5,\"#f7f7f7\"],[0.6,\"#e6f5d0\"],[0.7,\"#b8e186\"],[0.8,\"#7fbc41\"],[0.9,\"#4d9221\"],[1,\"#276419\"]]},\"xaxis\":{\"gridcolor\":\"white\",\"linecolor\":\"white\",\"ticks\":\"\",\"title\":{\"standoff\":15},\"zerolinecolor\":\"white\",\"automargin\":true,\"zerolinewidth\":2},\"yaxis\":{\"gridcolor\":\"white\",\"linecolor\":\"white\",\"ticks\":\"\",\"title\":{\"standoff\":15},\"zerolinecolor\":\"white\",\"automargin\":true,\"zerolinewidth\":2},\"scene\":{\"xaxis\":{\"backgroundcolor\":\"#E5ECF6\",\"gridcolor\":\"white\",\"linecolor\":\"white\",\"showbackground\":true,\"ticks\":\"\",\"zerolinecolor\":\"white\",\"gridwidth\":2},\"yaxis\":{\"backgroundcolor\":\"#E5ECF6\",\"gridcolor\":\"white\",\"linecolor\":\"white\",\"showbackground\":true,\"ticks\":\"\",\"zerolinecolor\":\"white\",\"gridwidth\":2},\"zaxis\":{\"backgroundcolor\":\"#E5ECF6\",\"gridcolor\":\"white\",\"linecolor\":\"white\",\"showbackground\":true,\"ticks\":\"\",\"zerolinecolor\":\"white\",\"gridwidth\":2}},\"shapedefaults\":{\"line\":{\"color\":\"#2a3f5f\"}},\"annotationdefaults\":{\"arrowcolor\":\"#2a3f5f\",\"arrowhead\":0,\"arrowwidth\":1},\"geo\":{\"bgcolor\":\"white\",\"landcolor\":\"#E5ECF6\",\"subunitcolor\":\"white\",\"showland\":true,\"showlakes\":true,\"lakecolor\":\"white\"},\"title\":{\"x\":0.05},\"mapbox\":{\"style\":\"light\"}}},\"xaxis\":{\"anchor\":\"y\",\"domain\":[0.0,1.0],\"title\":{\"text\":\"Embedding Dimension\"}},\"yaxis\":{\"anchor\":\"x\",\"domain\":[0.0,1.0],\"title\":{\"text\":\"Value\"}},\"legend\":{\"tracegroupgap\":0},\"title\":{\"text\":\"T5 Embeddings for the First Token\"}},                        {\"responsive\": true}                    ).then(function(){\n",
              "                            \n",
              "var gd = document.getElementById('ec31e44d-9ec5-42e0-8b59-68666a111c7f');\n",
              "var x = new MutationObserver(function (mutations, observer) {{\n",
              "        var display = window.getComputedStyle(gd).display;\n",
              "        if (!display || display === 'none') {{\n",
              "            console.log([gd, 'removed!']);\n",
              "            Plotly.purge(gd);\n",
              "            observer.disconnect();\n",
              "        }}\n",
              "}});\n",
              "\n",
              "// Listen for the removal of the full notebook cells\n",
              "var notebookContainer = gd.closest('#notebook-container');\n",
              "if (notebookContainer) {{\n",
              "    x.observe(notebookContainer, {childList: true});\n",
              "}}\n",
              "\n",
              "// Listen for the clearing of the current output cell\n",
              "var outputEl = gd.closest('.output');\n",
              "if (outputEl) {{\n",
              "    x.observe(outputEl, {childList: true});\n",
              "}}\n",
              "\n",
              "                        })                };                            </script>        </div>\n",
              "</body>\n",
              "</html>"
            ]
          },
          "metadata": {}
        }
      ]
    },
    {
      "cell_type": "markdown",
      "source": [
        "Line Plot"
      ],
      "metadata": {
        "id": "1zj5RpOX5rjN"
      }
    },
    {
      "cell_type": "code",
      "source": [
        "# Sample data\n",
        "x = [1, 2, 3, 4, 5]\n",
        "y = [2, 4, 1, 5, 3]\n",
        "\n",
        "# Create the plot\n",
        "plt.plot(x, y)\n",
        "\n",
        "# Add labels and title\n",
        "plt.xlabel('X-axis')\n",
        "plt.ylabel('Y-axis')\n",
        "plt.title('Simple Line Plot')\n",
        "\n",
        "# Display the plot\n",
        "plt.show()\n"
      ],
      "metadata": {
        "id": "97KCw5wOSLPK",
        "colab": {
          "base_uri": "https://localhost:8080/",
          "height": 472
        },
        "outputId": "5a95ea2b-8fde-4a88-f14d-b6e5ff041b6c"
      },
      "execution_count": 86,
      "outputs": [
        {
          "output_type": "display_data",
          "data": {
            "text/plain": [
              "<Figure size 640x480 with 1 Axes>"
            ],
            "image/png": "[encoded data removed]"
          },
          "metadata": {}
        }
      ]
    },
    {
      "cell_type": "code",
      "source": [
        "# prompt: Implement train\n",
        "\n",
        "from transformers import TrainingArguments, Trainer\n",
        "\n",
        "# Define training arguments\n",
        "training_args = TrainingArguments(\n",
        "    output_dir=\"./output\",\n",
        "    num_train_epochs=3,\n",
        "    per_device_train_batch_size=8,\n",
        "    per_device_eval_batch_size=16,\n",
        "    evaluation_strategy=\"epoch\",\n",
        "    logging_dir='./logs',\n",
        "    learning_rate=2e-5,\n",
        "    weight_decay=0.01,\n",
        ")\n",
        "\n",
        "# Initialize Trainer\n",
        "trainer = Trainer(\n",
        "    model=model,  # Replace with your chosen model\n",
        "    args=training_args,\n",
        "    train_dataset=train_dataset,  # Replace with your training dataset\n",
        "    eval_dataset=test_dataset,  # Replace with your validation dataset\n",
        ")\n",
        "\n",
        "# Start training\n",
        "trainer.train()\n"
      ],
      "metadata": {
        "colab": {
          "base_uri": "https://localhost:8080/",
          "height": 339
        },
        "id": "KyOsRH7Y7fQp",
        "outputId": "bcb236c2-bd8a-44db-dc35-1322fe8bfc28"
      },
      "execution_count": 90,
      "outputs": [
        {
          "output_type": "error",
          "ename": "ValueError",
          "evalue": "No columns in the dataset match the model's forward method signature. The following columns have been ignored: [question, answer]. Please check the dataset and model. You may need to set `remove_unused_columns=False` in `TrainingArguments`.",
          "traceback": [
            "\u001b[0;31m---------------------------------------------------------------------------\u001b[0m",
            "\u001b[0;31mValueError\u001b[0m                                Traceback (most recent call last)",
            "\u001b[0;32m<ipython-input-90-4c387f297919>\u001b[0m in \u001b[0;36m<cell line: 26>\u001b[0;34m()\u001b[0m\n\u001b[1;32m     24\u001b[0m \u001b[0;34m\u001b[0m\u001b[0m\n\u001b[1;32m     25\u001b[0m \u001b[0;31m# Start training\u001b[0m\u001b[0;34m\u001b[0m\u001b[0;34m\u001b[0m\u001b[0m\n\u001b[0;32m---> 26\u001b[0;31m \u001b[0mtrainer\u001b[0m\u001b[0;34m.\u001b[0m\u001b[0mtrain\u001b[0m\u001b[0;34m(\u001b[0m\u001b[0;34m)\u001b[0m\u001b[0;34m\u001b[0m\u001b[0;34m\u001b[0m\u001b[0m\n\u001b[0m",
            "\u001b[0;32m/usr/local/lib/python3.10/dist-packages/transformers/trainer.py\u001b[0m in \u001b[0;36mtrain\u001b[0;34m(self, resume_from_checkpoint, trial, ignore_keys_for_eval, **kwargs)\u001b[0m\n\u001b[1;32m   1936\u001b[0m                 \u001b[0mhf_hub_utils\u001b[0m\u001b[0;34m.\u001b[0m\u001b[0menable_progress_bars\u001b[0m\u001b[0;34m(\u001b[0m\u001b[0;34m)\u001b[0m\u001b[0;34m\u001b[0m\u001b[0;34m\u001b[0m\u001b[0m\n\u001b[1;32m   1937\u001b[0m         \u001b[0;32melse\u001b[0m\u001b[0;34m:\u001b[0m\u001b[0;34m\u001b[0m\u001b[0;34m\u001b[0m\u001b[0m\n\u001b[0;32m-> 1938\u001b[0;31m             return inner_training_loop(\n\u001b[0m\u001b[1;32m   1939\u001b[0m                 \u001b[0margs\u001b[0m\u001b[0;34m=\u001b[0m\u001b[0margs\u001b[0m\u001b[0;34m,\u001b[0m\u001b[0;34m\u001b[0m\u001b[0;34m\u001b[0m\u001b[0m\n\u001b[1;32m   1940\u001b[0m                 \u001b[0mresume_from_checkpoint\u001b[0m\u001b[0;34m=\u001b[0m\u001b[0mresume_from_checkpoint\u001b[0m\u001b[0;34m,\u001b[0m\u001b[0;34m\u001b[0m\u001b[0;34m\u001b[0m\u001b[0m\n",
            "\u001b[0;32m/usr/local/lib/python3.10/dist-packages/transformers/trainer.py\u001b[0m in \u001b[0;36m_inner_training_loop\u001b[0;34m(self, batch_size, args, resume_from_checkpoint, trial, ignore_keys_for_eval)\u001b[0m\n\u001b[1;32m   1965\u001b[0m         \u001b[0mlogger\u001b[0m\u001b[0;34m.\u001b[0m\u001b[0mdebug\u001b[0m\u001b[0;34m(\u001b[0m\u001b[0;34mf\"Currently training with a batch size of: {self._train_batch_size}\"\u001b[0m\u001b[0;34m)\u001b[0m\u001b[0;34m\u001b[0m\u001b[0;34m\u001b[0m\u001b[0m\n\u001b[1;32m   1966\u001b[0m         \u001b[0;31m# Data loader and number of training steps\u001b[0m\u001b[0;34m\u001b[0m\u001b[0;34m\u001b[0m\u001b[0m\n\u001b[0;32m-> 1967\u001b[0;31m         \u001b[0mtrain_dataloader\u001b[0m \u001b[0;34m=\u001b[0m \u001b[0mself\u001b[0m\u001b[0;34m.\u001b[0m\u001b[0mget_train_dataloader\u001b[0m\u001b[0;34m(\u001b[0m\u001b[0;34m)\u001b[0m\u001b[0;34m\u001b[0m\u001b[0;34m\u001b[0m\u001b[0m\n\u001b[0m\u001b[1;32m   1968\u001b[0m         \u001b[0;32mif\u001b[0m \u001b[0mself\u001b[0m\u001b[0;34m.\u001b[0m\u001b[0mis_fsdp_xla_v2_enabled\u001b[0m\u001b[0;34m:\u001b[0m\u001b[0;34m\u001b[0m\u001b[0;34m\u001b[0m\u001b[0m\n\u001b[1;32m   1969\u001b[0m             \u001b[0mtrain_dataloader\u001b[0m \u001b[0;34m=\u001b[0m \u001b[0mtpu_spmd_dataloader\u001b[0m\u001b[0;34m(\u001b[0m\u001b[0mtrain_dataloader\u001b[0m\u001b[0;34m)\u001b[0m\u001b[0;34m\u001b[0m\u001b[0;34m\u001b[0m\u001b[0m\n",
            "\u001b[0;32m/usr/local/lib/python3.10/dist-packages/transformers/trainer.py\u001b[0m in \u001b[0;36mget_train_dataloader\u001b[0;34m(self)\u001b[0m\n\u001b[1;32m    890\u001b[0m         \u001b[0mdata_collator\u001b[0m \u001b[0;34m=\u001b[0m \u001b[0mself\u001b[0m\u001b[0;34m.\u001b[0m\u001b[0mdata_collator\u001b[0m\u001b[0;34m\u001b[0m\u001b[0;34m\u001b[0m\u001b[0m\n\u001b[1;32m    891\u001b[0m         \u001b[0;32mif\u001b[0m \u001b[0mis_datasets_available\u001b[0m\u001b[0;34m(\u001b[0m\u001b[0;34m)\u001b[0m \u001b[0;32mand\u001b[0m \u001b[0misinstance\u001b[0m\u001b[0;34m(\u001b[0m\u001b[0mtrain_dataset\u001b[0m\u001b[0;34m,\u001b[0m \u001b[0mdatasets\u001b[0m\u001b[0;34m.\u001b[0m\u001b[0mDataset\u001b[0m\u001b[0;34m)\u001b[0m\u001b[0;34m:\u001b[0m\u001b[0;34m\u001b[0m\u001b[0;34m\u001b[0m\u001b[0m\n\u001b[0;32m--> 892\u001b[0;31m             \u001b[0mtrain_dataset\u001b[0m \u001b[0;34m=\u001b[0m \u001b[0mself\u001b[0m\u001b[0;34m.\u001b[0m\u001b[0m_remove_unused_columns\u001b[0m\u001b[0;34m(\u001b[0m\u001b[0mtrain_dataset\u001b[0m\u001b[0;34m,\u001b[0m \u001b[0mdescription\u001b[0m\u001b[0;34m=\u001b[0m\u001b[0;34m\"training\"\u001b[0m\u001b[0;34m)\u001b[0m\u001b[0;34m\u001b[0m\u001b[0;34m\u001b[0m\u001b[0m\n\u001b[0m\u001b[1;32m    893\u001b[0m         \u001b[0;32melse\u001b[0m\u001b[0;34m:\u001b[0m\u001b[0;34m\u001b[0m\u001b[0;34m\u001b[0m\u001b[0m\n\u001b[1;32m    894\u001b[0m             \u001b[0mdata_collator\u001b[0m \u001b[0;34m=\u001b[0m \u001b[0mself\u001b[0m\u001b[0;34m.\u001b[0m\u001b[0m_get_collator_with_removed_columns\u001b[0m\u001b[0;34m(\u001b[0m\u001b[0mdata_collator\u001b[0m\u001b[0;34m,\u001b[0m \u001b[0mdescription\u001b[0m\u001b[0;34m=\u001b[0m\u001b[0;34m\"training\"\u001b[0m\u001b[0;34m)\u001b[0m\u001b[0;34m\u001b[0m\u001b[0;34m\u001b[0m\u001b[0m\n",
            "\u001b[0;32m/usr/local/lib/python3.10/dist-packages/transformers/trainer.py\u001b[0m in \u001b[0;36m_remove_unused_columns\u001b[0;34m(self, dataset, description)\u001b[0m\n\u001b[1;32m    818\u001b[0m         \u001b[0mcolumns\u001b[0m \u001b[0;34m=\u001b[0m \u001b[0;34m[\u001b[0m\u001b[0mk\u001b[0m \u001b[0;32mfor\u001b[0m \u001b[0mk\u001b[0m \u001b[0;32min\u001b[0m \u001b[0msignature_columns\u001b[0m \u001b[0;32mif\u001b[0m \u001b[0mk\u001b[0m \u001b[0;32min\u001b[0m \u001b[0mdataset\u001b[0m\u001b[0;34m.\u001b[0m\u001b[0mcolumn_names\u001b[0m\u001b[0;34m]\u001b[0m\u001b[0;34m\u001b[0m\u001b[0;34m\u001b[0m\u001b[0m\n\u001b[1;32m    819\u001b[0m         \u001b[0;32mif\u001b[0m \u001b[0mlen\u001b[0m\u001b[0;34m(\u001b[0m\u001b[0mcolumns\u001b[0m\u001b[0;34m)\u001b[0m \u001b[0;34m==\u001b[0m \u001b[0;36m0\u001b[0m\u001b[0;34m:\u001b[0m\u001b[0;34m\u001b[0m\u001b[0;34m\u001b[0m\u001b[0m\n\u001b[0;32m--> 820\u001b[0;31m             raise ValueError(\n\u001b[0m\u001b[1;32m    821\u001b[0m                 \u001b[0;34m\"No columns in the dataset match the model's forward method signature. \"\u001b[0m\u001b[0;34m\u001b[0m\u001b[0;34m\u001b[0m\u001b[0m\n\u001b[1;32m    822\u001b[0m                 \u001b[0;34mf\"The following columns have been ignored: [{', '.join(ignored_columns)}]. \"\u001b[0m\u001b[0;34m\u001b[0m\u001b[0;34m\u001b[0m\u001b[0m\n",
            "\u001b[0;31mValueError\u001b[0m: No columns in the dataset match the model's forward method signature. The following columns have been ignored: [question, answer]. Please check the dataset and model. You may need to set `remove_unused_columns=False` in `TrainingArguments`."
          ]
        }
      ]
    },
    {
      "cell_type": "code",
      "source": [
        "# prompt: # # generated_questions_gpt, generated_answers_gpt (for GPT model)\n",
        "# # # generated_questions_t5, generated_answers_t5 (for T5 model)\n",
        "\n",
        "# For GPT Model\n",
        "generated_questions_gpt = []\n",
        "generated_answers_gpt = []\n",
        "\n",
        "for i in range(len(train_df)):\n",
        "  question_prompt = \"Generate a question about: \" + train_df['answer'].iloc[i]\n",
        "  generated_question = generate_text(question_prompt)\n",
        "  generated_questions_gpt.append(generated_question)\n",
        "\n",
        "  answer_prompt = \"Generate an answer for: \" + ' '.join(train_df['question'].iloc[i])\n",
        "  generated_answer = generate_text(answer_prompt)\n",
        "  generated_answers_gpt.append(generated_answer)\n",
        "\n",
        "# For T5 Model\n",
        "generated_questions_t5 = []\n",
        "generated_answers_t5 = []\n",
        "\n",
        "for i in range(len(train_df)):\n",
        "  question_prompt = \"Generate a question about: \" + train_df['answer'].iloc[i]\n",
        "  generated_question = generate_text_t5(question_prompt)\n",
        "  generated_questions_t5.append(generated_question)\n",
        "\n",
        "  answer_prompt = \"Generate an answer for: \" + ' '.join(train_df['question'].iloc[i])\n",
        "  generated_answer = generate_text_t5(answer_prompt)\n",
        "  generated_answers_t5.append(generated_answer)\n"
      ],
      "metadata": {
        "id": "X0NMkq657BdM"
      },
      "execution_count": 89,
      "outputs": []
    },
    {
      "cell_type": "code",
      "source": [
        "# prompt: # Assuming you have generated questions and answers using your models and stored them in variables like:\n",
        "# # generated_questions_gpt, generated_answers_gpt (for GPT model)\n",
        "# # generated_questions_t5, generated_answers_t5 (for T5 model)\n",
        "\n",
        "# Assuming you have generated questions and answers and stored them in variables:\n",
        "# generated_questions_gpt, generated_answers_gpt (for GPT model)\n",
        "# generated_questions_t5, generated_answers_t5 (for T5 model)\n",
        "\n",
        "# Example usage (replace with your actual variables):\n",
        "generated_questions_gpt = [\"Generated question 1 from GPT\", \"Generated question 2 from GPT\"]\n",
        "generated_answers_gpt = [\"Generated answer 1 from GPT\", \"Generated answer 2 from GPT\"]\n",
        "generated_questions_t5 = [\"Generated question 1 from T5\", \"Generated question 2 from T5\"]\n",
        "generated_answers_t5 = [\"Generated answer 1 from T5\", \"Generated answer 2 from T5\"]\n",
        "\n",
        "# Evaluate GPT-generated questions and answers using ROUGE\n",
        "rouge_scores_gpt_questions = rouge_scorer.RougeScorer(['rouge1', 'rouge2', 'rougeL'], use_stemmer=True)\n",
        "rouge_scores_gpt_answers = rouge_scorer.RougeScorer(['rouge1', 'rouge2', 'rougeL'], use_stemmer=True)\n",
        "\n",
        "for i in range(len(generated_questions_gpt)):\n",
        "    # Assuming you have reference questions and answers in val_df\n",
        "    reference_question = val_df['question'].iloc[i]\n",
        "    reference_answer = val_df['answer'].iloc[i]\n",
        "\n",
        "    scores_question = rouge_scores_gpt_questions.score(reference_question, generated_questions_gpt[i])\n",
        "    scores_answer = rouge_scores_gpt_answers.score(reference_answer, generated_answers_gpt[i])\n",
        "\n",
        "    print(f\"GPT - Question {i+1} ROUGE Scores:\", scores_question)\n",
        "    print(f\"GPT - Answer {i+1} ROUGE Scores:\", scores_answer)\n",
        "\n",
        "# Evaluate T5-generated questions and answers using ROUGE\n",
        "rouge_scores_t5_questions = rouge_scorer.RougeScorer(['rouge1', 'rouge2', 'rougeL'], use_stemmer=True)\n",
        "rouge_scores_t5_answers = rouge_scorer.RougeScorer(['rouge1', 'rouge2', 'rougeL'], use_stemmer=True)\n",
        "\n",
        "for i in range(len(generated_questions_t5)):\n",
        "    # Assuming you have reference questions and answers in val_df\n",
        "    reference_question = val_df['question'].iloc[i]\n",
        "    reference_answer = val_df['answer'].iloc[i]\n",
        "\n",
        "    scores_question = rouge_scores_t5_questions.score(reference_question, generated_questions_t5[i])\n",
        "    scores_answer = rouge_scores_t5_answers.score(reference_answer, generated_answers_t5[i])\n",
        "\n",
        "    print(f\"T5 - Question {i+1} ROUGE Scores:\", scores_question)\n",
        "    print(f\"T5 - Answer {i+1} ROUGE Scores:\", scores_answer)\n"
      ],
      "metadata": {
        "id": "sCOcJKi7SLKI",
        "colab": {
          "base_uri": "https://localhost:8080/"
        },
        "outputId": "8af62ff0-d4bd-4079-bbd6-4d7fb2edd643"
      },
      "execution_count": 88,
      "outputs": [
        {
          "output_type": "stream",
          "name": "stdout",
          "text": [
            "GPT - Question 1 ROUGE Scores: {'rouge1': Score(precision=0.0, recall=0.0, fmeasure=0.0), 'rouge2': Score(precision=0.0, recall=0.0, fmeasure=0.0), 'rougeL': Score(precision=0.0, recall=0.0, fmeasure=0.0)}\n",
            "GPT - Answer 1 ROUGE Scores: {'rouge1': Score(precision=0.0, recall=0.0, fmeasure=0.0), 'rouge2': Score(precision=0.0, recall=0.0, fmeasure=0.0), 'rougeL': Score(precision=0.0, recall=0.0, fmeasure=0.0)}\n",
            "GPT - Question 2 ROUGE Scores: {'rouge1': Score(precision=0.0, recall=0.0, fmeasure=0.0), 'rouge2': Score(precision=0.0, recall=0.0, fmeasure=0.0), 'rougeL': Score(precision=0.0, recall=0.0, fmeasure=0.0)}\n",
            "GPT - Answer 2 ROUGE Scores: {'rouge1': Score(precision=0.0, recall=0.0, fmeasure=0.0), 'rouge2': Score(precision=0.0, recall=0.0, fmeasure=0.0), 'rougeL': Score(precision=0.0, recall=0.0, fmeasure=0.0)}\n",
            "T5 - Question 1 ROUGE Scores: {'rouge1': Score(precision=0.0, recall=0.0, fmeasure=0.0), 'rouge2': Score(precision=0.0, recall=0.0, fmeasure=0.0), 'rougeL': Score(precision=0.0, recall=0.0, fmeasure=0.0)}\n",
            "T5 - Answer 1 ROUGE Scores: {'rouge1': Score(precision=0.0, recall=0.0, fmeasure=0.0), 'rouge2': Score(precision=0.0, recall=0.0, fmeasure=0.0), 'rougeL': Score(precision=0.0, recall=0.0, fmeasure=0.0)}\n",
            "T5 - Question 2 ROUGE Scores: {'rouge1': Score(precision=0.0, recall=0.0, fmeasure=0.0), 'rouge2': Score(precision=0.0, recall=0.0, fmeasure=0.0), 'rougeL': Score(precision=0.0, recall=0.0, fmeasure=0.0)}\n",
            "T5 - Answer 2 ROUGE Scores: {'rouge1': Score(precision=0.0, recall=0.0, fmeasure=0.0), 'rouge2': Score(precision=0.0, recall=0.0, fmeasure=0.0), 'rougeL': Score(precision=0.0, recall=0.0, fmeasure=0.0)}\n"
          ]
        }
      ]
    },
    {
      "cell_type": "code",
      "source": [],
      "metadata": {
        "id": "tk0w5W-KSLFF"
      },
      "execution_count": null,
      "outputs": []
    },
    {
      "cell_type": "code",
      "source": [],
      "metadata": {
        "id": "gMgBY2_3SLA2"
      },
      "execution_count": null,
      "outputs": []
    },
    {
      "cell_type": "code",
      "source": [],
      "metadata": {
        "id": "FgWWCSLpSK8C"
      },
      "execution_count": null,
      "outputs": []
    },
    {
      "cell_type": "code",
      "source": [],
      "metadata": {
        "id": "yZ1OaBxWSKuT"
      },
      "execution_count": null,
      "outputs": []
    }
  ]
}